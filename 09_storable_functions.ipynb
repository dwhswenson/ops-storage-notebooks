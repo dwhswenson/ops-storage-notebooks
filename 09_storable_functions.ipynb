{
 "cells": [
  {
   "cell_type": "code",
   "execution_count": 1,
   "metadata": {},
   "outputs": [],
   "source": [
    "from __future__ import print_function\n",
    "from openpathsampling.experimental.storage.ops_storage import OPSStorage, ops_class_info, ops_schema\n",
    "from openpathsampling.experimental.storage.sql_backend import SQLStorageBackend\n",
    "import numpy as np\n",
    "from openpathsampling.experimental.storage.serialization_helpers import get_uuid, set_uuid\n",
    "\n",
    "import openpathsampling as paths\n",
    "\n",
    "import collections\n",
    "\n",
    "from openpathsampling.experimental.storage.storable_functions import (\n",
    "    StorableFunction, StorageFunctionHandler\n",
    ")"
   ]
  },
  {
   "cell_type": "code",
   "execution_count": 2,
   "metadata": {},
   "outputs": [],
   "source": [
    "import logging\n",
    "import sys\n",
    "\n",
    "root = logging.getLogger()\n",
    "root.setLevel(logging.DEBUG)\n",
    "\n",
    "ch = logging.StreamHandler(sys.stdout)\n",
    "ch.setLevel(logging.DEBUG)\n",
    "formatter = logging.Formatter('%(asctime)s - %(name)s - %(levelname)s - %(message)s')\n",
    "ch.setFormatter(formatter)\n",
    "root.addHandler(ch)"
   ]
  },
  {
   "cell_type": "markdown",
   "metadata": {},
   "source": [
    "## Playing around with a storable function"
   ]
  },
  {
   "cell_type": "code",
   "execution_count": 3,
   "metadata": {},
   "outputs": [],
   "source": [
    "def get_x(snap):\n",
    "    from time import sleep\n",
    "    sleep(2)\n",
    "    return snap.xyz[0][0]"
   ]
  },
  {
   "cell_type": "code",
   "execution_count": 4,
   "metadata": {},
   "outputs": [],
   "source": [
    "cv = StorableFunction(get_x, result_type='float')"
   ]
  },
  {
   "cell_type": "code",
   "execution_count": 5,
   "metadata": {},
   "outputs": [],
   "source": [
    "import openpathsampling.engines.toy as toys\n",
    "snap = toys.Snapshot(coordinates=np.array([[3.0, 0.0]]))"
   ]
  },
  {
   "cell_type": "code",
   "execution_count": 6,
   "metadata": {},
   "outputs": [
    {
     "name": "stdout",
     "output_type": "stream",
     "text": [
      "2020-07-27 15:58:54,852 - openpathsampling.experimental.storage.storable_functions - DEBUG - <bound method StorableFunction._get_cached of <openpathsampling.experimental.storage.storable_functions.StorableFunction object at 0x113d34d30>>\n",
      "2020-07-27 15:58:54,855 - openpathsampling.experimental.storage.storable_functions - DEBUG - <bound method StorableFunction._get_storage of <openpathsampling.experimental.storage.storable_functions.StorableFunction object at 0x113d34d30>>\n",
      "2020-07-27 15:58:54,895 - openpathsampling.experimental.storage.storable_functions - DEBUG - <bound method StorableFunction._eval of <openpathsampling.experimental.storage.storable_functions.StorableFunction object at 0x113d34d30>>\n",
      "CPU times: user 42.5 ms, sys: 2.08 ms, total: 44.6 ms\n",
      "Wall time: 2.05 s\n"
     ]
    },
    {
     "data": {
      "text/plain": [
       "3.0"
      ]
     },
     "execution_count": 6,
     "metadata": {},
     "output_type": "execute_result"
    }
   ],
   "source": [
    "%%time\n",
    "cv(snap)"
   ]
  },
  {
   "cell_type": "code",
   "execution_count": 7,
   "metadata": {},
   "outputs": [
    {
     "name": "stdout",
     "output_type": "stream",
     "text": [
      "2020-07-27 15:58:56,912 - openpathsampling.experimental.storage.storable_functions - DEBUG - <bound method StorableFunction._get_cached of <openpathsampling.experimental.storage.storable_functions.StorableFunction object at 0x113d34d30>>\n",
      "CPU times: user 1.23 ms, sys: 804 µs, total: 2.03 ms\n",
      "Wall time: 2.61 ms\n"
     ]
    },
    {
     "data": {
      "text/plain": [
       "3.0"
      ]
     },
     "execution_count": 7,
     "metadata": {},
     "output_type": "execute_result"
    }
   ],
   "source": [
    "%%time\n",
    "cv(snap)"
   ]
  },
  {
   "cell_type": "markdown",
   "metadata": {},
   "source": [
    "## Manually registering storable function with SQL backend"
   ]
  },
  {
   "cell_type": "code",
   "execution_count": 8,
   "metadata": {
    "scrolled": true
   },
   "outputs": [
    {
     "name": "stdout",
     "output_type": "stream",
     "text": [
      "2020-07-27 15:58:56,952 - openpathsampling.experimental.storage.sql_backend - INFO - Add schema table uuid\n",
      "2020-07-27 15:58:56,953 - openpathsampling.experimental.storage.sql_backend - INFO - Add schema table tables\n",
      "2020-07-27 15:58:56,959 - openpathsampling.experimental.storage.sql_backend - INFO - Add schema table samples\n",
      "2020-07-27 15:58:56,966 - openpathsampling.experimental.storage.sql_backend - INFO - Add schema table sample_sets\n",
      "2020-07-27 15:58:56,975 - openpathsampling.experimental.storage.sql_backend - INFO - Add schema table trajectories\n",
      "2020-07-27 15:58:56,982 - openpathsampling.experimental.storage.sql_backend - INFO - Add schema table move_changes\n",
      "2020-07-27 15:58:56,993 - openpathsampling.experimental.storage.sql_backend - INFO - Add schema table steps\n",
      "2020-07-27 15:58:57,008 - openpathsampling.experimental.storage.sql_backend - INFO - Add schema table details\n",
      "2020-07-27 15:58:57,015 - openpathsampling.experimental.storage.sql_backend - INFO - Add schema table storable_functions\n",
      "2020-07-27 15:58:57,024 - openpathsampling.experimental.storage.sql_backend - INFO - Add schema table simulation_objects\n",
      "2020-07-27 15:58:57,034 - openpathsampling.experimental.storage.sql_backend - INFO - Add schema table storage_objects\n"
     ]
    }
   ],
   "source": [
    "backend = SQLStorageBackend(\"test.sql\", mode='w', echo=False)\n",
    "storage = OPSStorage.from_backend(\n",
    "    backend=backend,\n",
    "    schema=ops_schema,\n",
    "    class_info=ops_class_info,\n",
    ")"
   ]
  },
  {
   "cell_type": "code",
   "execution_count": 9,
   "metadata": {},
   "outputs": [],
   "source": [
    "uuid = get_uuid(cv)"
   ]
  },
  {
   "cell_type": "code",
   "execution_count": 10,
   "metadata": {},
   "outputs": [
    {
     "name": "stdout",
     "output_type": "stream",
     "text": [
      "2020-07-27 15:58:57,085 - openpathsampling.experimental.storage.storable_functions - DEBUG - <bound method StorableFunction._get_cached of <openpathsampling.experimental.storage.storable_functions.StorableFunction object at 0x113d34d30>>\n"
     ]
    },
    {
     "data": {
      "text/plain": [
       "{'104474954970302820103606700453371314192': 3.0}"
      ]
     },
     "execution_count": 10,
     "metadata": {},
     "output_type": "execute_result"
    }
   ],
   "source": [
    "_ = cv(snap)\n",
    "cv.local_cache.result_dict"
   ]
  },
  {
   "cell_type": "code",
   "execution_count": 11,
   "metadata": {},
   "outputs": [
    {
     "name": "stdout",
     "output_type": "stream",
     "text": [
      "2020-07-27 15:58:57,104 - openpathsampling.experimental.storage.sql_backend - INFO - Registering storable function: UUID: 104474954970302820103606700453371314188 (float)\n"
     ]
    }
   ],
   "source": [
    "backend.register_storable_function(table_name=uuid, result_type=cv.result_type)"
   ]
  },
  {
   "cell_type": "code",
   "execution_count": 12,
   "metadata": {},
   "outputs": [
    {
     "name": "stdout",
     "output_type": "stream",
     "text": [
      "2020-07-27 15:58:57,151 - openpathsampling.experimental.storage.sql_backend - DEBUG - Found 0 UUIDs\n"
     ]
    }
   ],
   "source": [
    "backend.add_storable_function_results(table_name=uuid,\n",
    "                                      result_dict=cv.local_cache.result_dict)"
   ]
  },
  {
   "cell_type": "code",
   "execution_count": 13,
   "metadata": {},
   "outputs": [
    {
     "name": "stdout",
     "output_type": "stream",
     "text": [
      "2020-07-27 15:58:57,208 - openpathsampling.experimental.storage.sql_backend - DEBUG - Found 1 UUIDs\n"
     ]
    },
    {
     "data": {
      "text/plain": [
       "{'104474954970302820103606700453371314192': 3.0}"
      ]
     },
     "execution_count": 13,
     "metadata": {},
     "output_type": "execute_result"
    }
   ],
   "source": [
    "backend.load_storable_function_results(uuid, [get_uuid(snap)])"
   ]
  },
  {
   "cell_type": "code",
   "execution_count": 14,
   "metadata": {},
   "outputs": [
    {
     "data": {
      "text/plain": [
       "{'104474954970302820103606700453371314192': 3.0}"
      ]
     },
     "execution_count": 14,
     "metadata": {},
     "output_type": "execute_result"
    }
   ],
   "source": [
    "backend.load_storable_function_table(get_uuid(cv))"
   ]
  },
  {
   "cell_type": "markdown",
   "metadata": {},
   "source": [
    "## New backend; use storable func with storage\n",
    "\n",
    "This will be roughly the full integration."
   ]
  },
  {
   "cell_type": "code",
   "execution_count": 15,
   "metadata": {},
   "outputs": [
    {
     "name": "stdout",
     "output_type": "stream",
     "text": [
      "2020-07-27 15:58:57,258 - openpathsampling.experimental.storage.sql_backend - INFO - Add schema table uuid\n",
      "2020-07-27 15:58:57,260 - openpathsampling.experimental.storage.sql_backend - INFO - Add schema table tables\n"
     ]
    }
   ],
   "source": [
    "backend = SQLStorageBackend(\"test.sql\", mode='w')\n",
    "storage = OPSStorage.from_backend(\n",
    "    backend=backend,\n",
    "    schema=ops_schema,\n",
    "    class_info=ops_class_info\n",
    ")"
   ]
  },
  {
   "cell_type": "code",
   "execution_count": 16,
   "metadata": {
    "scrolled": true
   },
   "outputs": [
    {
     "name": "stdout",
     "output_type": "stream",
     "text": [
      "2020-07-27 15:58:57,276 - openpathsampling.experimental.storage.storage - DEBUG - Starting save\n",
      "2020-07-27 15:58:57,278 - openpathsampling.experimental.storage.sql_backend - DEBUG - Looking for 1 UUIDs\n",
      "2020-07-27 15:58:57,279 - openpathsampling.experimental.storage.sql_backend - DEBUG - New block of 1 UUIDs\n",
      "2020-07-27 15:58:57,296 - openpathsampling.experimental.storage.sql_backend - DEBUG - Found 0 UUIDs\n",
      "2020-07-27 15:58:57,297 - openpathsampling.experimental.storage.storage - DEBUG - Listing all objects to save\n",
      "2020-07-27 15:58:57,301 - openpathsampling.experimental.storage.storage - DEBUG - Checking if objects already exist in database\n",
      "2020-07-27 15:58:57,302 - openpathsampling.experimental.storage.sql_backend - DEBUG - Looking for 2 UUIDs\n",
      "2020-07-27 15:58:57,304 - openpathsampling.experimental.storage.sql_backend - DEBUG - New block of 2 UUIDs\n",
      "2020-07-27 15:58:57,312 - openpathsampling.experimental.storage.sql_backend - DEBUG - Found 0 UUIDs\n",
      "2020-07-27 15:58:57,314 - openpathsampling.experimental.storage.storage - INFO - Saving results from 1 storable functions\n",
      "2020-07-27 15:58:57,316 - openpathsampling.experimental.storage.storable_functions - DEBUG - Registering new function: 104474954970302820103606700453371314188\n",
      "2020-07-27 15:58:57,317 - openpathsampling.experimental.storage.sql_backend - INFO - Registering storable function: UUID: 104474954970302820103606700453371314188 (float)\n"
     ]
    },
    {
     "ename": "TypeError",
     "evalue": "Schema registration problem. Your schema may already have tables of the same names.",
     "output_type": "error",
     "traceback": [
      "\u001b[0;31m---------------------------------------------------------------------------\u001b[0m",
      "\u001b[0;31mInvalidRequestError\u001b[0m                       Traceback (most recent call last)",
      "\u001b[0;32m~/Dropbox/pysrc/openpathsampling/openpathsampling/experimental/storage/sql_backend.py\u001b[0m in \u001b[0;36mregister_storable_function\u001b[0;34m(self, table_name, result_type)\u001b[0m\n\u001b[1;32m    328\u001b[0m         \u001b[0;32mtry\u001b[0m\u001b[0;34m:\u001b[0m\u001b[0;34m\u001b[0m\u001b[0;34m\u001b[0m\u001b[0m\n\u001b[0;32m--> 329\u001b[0;31m             \u001b[0mtable\u001b[0m \u001b[0;34m=\u001b[0m \u001b[0msql\u001b[0m\u001b[0;34m.\u001b[0m\u001b[0mTable\u001b[0m\u001b[0;34m(\u001b[0m\u001b[0mtable_name\u001b[0m\u001b[0;34m,\u001b[0m \u001b[0mself\u001b[0m\u001b[0;34m.\u001b[0m\u001b[0mmetadata\u001b[0m\u001b[0;34m,\u001b[0m \u001b[0;34m*\u001b[0m\u001b[0mcolumns\u001b[0m\u001b[0;34m)\u001b[0m\u001b[0;34m\u001b[0m\u001b[0;34m\u001b[0m\u001b[0m\n\u001b[0m\u001b[1;32m    330\u001b[0m         \u001b[0;32mexcept\u001b[0m \u001b[0msql\u001b[0m\u001b[0;34m.\u001b[0m\u001b[0mexc\u001b[0m\u001b[0;34m.\u001b[0m\u001b[0mInvalidRequestError\u001b[0m\u001b[0;34m:\u001b[0m\u001b[0;34m\u001b[0m\u001b[0;34m\u001b[0m\u001b[0m\n",
      "\u001b[0;32m<string>\u001b[0m in \u001b[0;36m__new__\u001b[0;34m(cls, *args, **kw)\u001b[0m\n",
      "\u001b[0;32m~/miniconda3/envs/dev/lib/python3.7/site-packages/sqlalchemy/util/deprecations.py\u001b[0m in \u001b[0;36mwarned\u001b[0;34m(fn, *args, **kwargs)\u001b[0m\n\u001b[1;32m    127\u001b[0m \u001b[0;34m\u001b[0m\u001b[0m\n\u001b[0;32m--> 128\u001b[0;31m             \u001b[0;32mreturn\u001b[0m \u001b[0mfn\u001b[0m\u001b[0;34m(\u001b[0m\u001b[0;34m*\u001b[0m\u001b[0margs\u001b[0m\u001b[0;34m,\u001b[0m \u001b[0;34m**\u001b[0m\u001b[0mkwargs\u001b[0m\u001b[0;34m)\u001b[0m\u001b[0;34m\u001b[0m\u001b[0;34m\u001b[0m\u001b[0m\n\u001b[0m\u001b[1;32m    129\u001b[0m \u001b[0;34m\u001b[0m\u001b[0m\n",
      "\u001b[0;32m~/miniconda3/envs/dev/lib/python3.7/site-packages/sqlalchemy/sql/schema.py\u001b[0m in \u001b[0;36m__new__\u001b[0;34m(cls, *args, **kw)\u001b[0m\n\u001b[1;32m    477\u001b[0m                     \u001b[0;34m\"options and columns on an \"\u001b[0m\u001b[0;34m\u001b[0m\u001b[0;34m\u001b[0m\u001b[0m\n\u001b[0;32m--> 478\u001b[0;31m                     \u001b[0;34m\"existing Table object.\"\u001b[0m \u001b[0;34m%\u001b[0m \u001b[0mkey\u001b[0m\u001b[0;34m\u001b[0m\u001b[0;34m\u001b[0m\u001b[0m\n\u001b[0m\u001b[1;32m    479\u001b[0m                 )\n",
      "\u001b[0;31mInvalidRequestError\u001b[0m: Table '104474954970302820103606700453371314188' is already defined for this MetaData instance.  Specify 'extend_existing=True' to redefine options and columns on an existing Table object.",
      "\nDuring handling of the above exception, another exception occurred:\n",
      "\u001b[0;31mTypeError\u001b[0m                                 Traceback (most recent call last)",
      "\u001b[0;32m<ipython-input-16-9d0d8b55583d>\u001b[0m in \u001b[0;36m<module>\u001b[0;34m\u001b[0m\n\u001b[0;32m----> 1\u001b[0;31m \u001b[0mstorage\u001b[0m\u001b[0;34m.\u001b[0m\u001b[0msave\u001b[0m\u001b[0;34m(\u001b[0m\u001b[0mcv\u001b[0m\u001b[0;34m)\u001b[0m\u001b[0;34m\u001b[0m\u001b[0;34m\u001b[0m\u001b[0m\n\u001b[0m",
      "\u001b[0;32m~/Dropbox/pysrc/openpathsampling/openpathsampling/experimental/storage/storage.py\u001b[0m in \u001b[0;36msave\u001b[0;34m(self, obj_list, use_cache)\u001b[0m\n\u001b[1;32m    252\u001b[0m             \u001b[0;32mfor\u001b[0m \u001b[0mresult\u001b[0m \u001b[0;32min\u001b[0m \u001b[0mfunc_results\u001b[0m\u001b[0;34m.\u001b[0m\u001b[0mvalues\u001b[0m\u001b[0;34m(\u001b[0m\u001b[0;34m)\u001b[0m\u001b[0;34m:\u001b[0m\u001b[0;34m\u001b[0m\u001b[0;34m\u001b[0m\u001b[0m\n\u001b[1;32m    253\u001b[0m                 \u001b[0mfunc\u001b[0m \u001b[0;34m=\u001b[0m \u001b[0mresult\u001b[0m\u001b[0;34m.\u001b[0m\u001b[0mparent\u001b[0m\u001b[0;34m\u001b[0m\u001b[0;34m\u001b[0m\u001b[0m\n\u001b[0;32m--> 254\u001b[0;31m                 \u001b[0mself\u001b[0m\u001b[0;34m.\u001b[0m\u001b[0msave_function_results\u001b[0m\u001b[0;34m(\u001b[0m\u001b[0mfunc\u001b[0m\u001b[0;34m)\u001b[0m\u001b[0;34m\u001b[0m\u001b[0;34m\u001b[0m\u001b[0m\n\u001b[0m\u001b[1;32m    255\u001b[0m \u001b[0;34m\u001b[0m\u001b[0m\n\u001b[1;32m    256\u001b[0m         \u001b[0;31m# TODO: add simulation objects to the cache\u001b[0m\u001b[0;34m\u001b[0m\u001b[0;34m\u001b[0m\u001b[0;34m\u001b[0m\u001b[0m\n",
      "\u001b[0;32m~/Dropbox/pysrc/openpathsampling/openpathsampling/experimental/storage/storage.py\u001b[0m in \u001b[0;36msave_function_results\u001b[0;34m(self, funcs)\u001b[0m\n\u001b[1;32m    282\u001b[0m         \u001b[0mfuncs\u001b[0m \u001b[0;34m=\u001b[0m \u001b[0mtools\u001b[0m\u001b[0;34m.\u001b[0m\u001b[0mlistify\u001b[0m\u001b[0;34m(\u001b[0m\u001b[0mfuncs\u001b[0m\u001b[0;34m)\u001b[0m\u001b[0;34m\u001b[0m\u001b[0;34m\u001b[0m\u001b[0m\n\u001b[1;32m    283\u001b[0m         \u001b[0;32mfor\u001b[0m \u001b[0mfunc\u001b[0m \u001b[0;32min\u001b[0m \u001b[0mfuncs\u001b[0m\u001b[0;34m:\u001b[0m\u001b[0;34m\u001b[0m\u001b[0;34m\u001b[0m\u001b[0m\n\u001b[0;32m--> 284\u001b[0;31m             \u001b[0mself\u001b[0m\u001b[0;34m.\u001b[0m\u001b[0m_sf_handler\u001b[0m\u001b[0;34m.\u001b[0m\u001b[0mupdate_cache\u001b[0m\u001b[0;34m(\u001b[0m\u001b[0mfunc\u001b[0m\u001b[0;34m.\u001b[0m\u001b[0mlocal_cache\u001b[0m\u001b[0;34m)\u001b[0m\u001b[0;34m\u001b[0m\u001b[0;34m\u001b[0m\u001b[0m\n\u001b[0m\u001b[1;32m    285\u001b[0m             \u001b[0mresult_dict\u001b[0m \u001b[0;34m=\u001b[0m \u001b[0mfunc\u001b[0m\u001b[0;34m.\u001b[0m\u001b[0mlocal_cache\u001b[0m\u001b[0;34m.\u001b[0m\u001b[0mresult_dict\u001b[0m\u001b[0;34m\u001b[0m\u001b[0;34m\u001b[0m\u001b[0m\n\u001b[1;32m    286\u001b[0m             self.backend.add_storable_function_results(\n",
      "\u001b[0;32m~/Dropbox/pysrc/openpathsampling/openpathsampling/experimental/storage/storable_functions.py\u001b[0m in \u001b[0;36mupdate_cache\u001b[0;34m(self, function_results)\u001b[0m\n\u001b[1;32m    478\u001b[0m \u001b[0;34m\u001b[0m\u001b[0m\n\u001b[1;32m    479\u001b[0m     \u001b[0;32mdef\u001b[0m \u001b[0mupdate_cache\u001b[0m\u001b[0;34m(\u001b[0m\u001b[0mself\u001b[0m\u001b[0;34m,\u001b[0m \u001b[0mfunction_results\u001b[0m\u001b[0;34m)\u001b[0m\u001b[0;34m:\u001b[0m\u001b[0;34m\u001b[0m\u001b[0;34m\u001b[0m\u001b[0m\n\u001b[0;32m--> 480\u001b[0;31m         \u001b[0mself\u001b[0m\u001b[0;34m.\u001b[0m\u001b[0mregister_function\u001b[0m\u001b[0;34m(\u001b[0m\u001b[0mfunction_results\u001b[0m\u001b[0;34m.\u001b[0m\u001b[0mparent\u001b[0m\u001b[0;34m)\u001b[0m\u001b[0;34m\u001b[0m\u001b[0;34m\u001b[0m\u001b[0m\n\u001b[0m\u001b[1;32m    481\u001b[0m         \u001b[0mfunc\u001b[0m \u001b[0;34m=\u001b[0m \u001b[0mself\u001b[0m\u001b[0;34m.\u001b[0m\u001b[0mcanonical_functions\u001b[0m\u001b[0;34m[\u001b[0m\u001b[0mfunction_results\u001b[0m\u001b[0;34m.\u001b[0m\u001b[0mparent_uuid\u001b[0m\u001b[0;34m]\u001b[0m\u001b[0;34m\u001b[0m\u001b[0;34m\u001b[0m\u001b[0m\n\u001b[1;32m    482\u001b[0m         \u001b[0mfunc\u001b[0m\u001b[0;34m.\u001b[0m\u001b[0mlocal_cache\u001b[0m\u001b[0;34m.\u001b[0m\u001b[0mupdate\u001b[0m\u001b[0;34m(\u001b[0m\u001b[0mfunction_results\u001b[0m\u001b[0;34m)\u001b[0m\u001b[0;34m\u001b[0m\u001b[0;34m\u001b[0m\u001b[0m\n",
      "\u001b[0;32m~/Dropbox/pysrc/openpathsampling/openpathsampling/experimental/storage/storable_functions.py\u001b[0m in \u001b[0;36mregister_function\u001b[0;34m(self, func, add_table)\u001b[0m\n\u001b[1;32m    453\u001b[0m                 self.storage.backend.register_storable_function(\n\u001b[1;32m    454\u001b[0m                     \u001b[0mtable_name\u001b[0m\u001b[0;34m=\u001b[0m\u001b[0mfunc_uuid\u001b[0m\u001b[0;34m,\u001b[0m\u001b[0;34m\u001b[0m\u001b[0;34m\u001b[0m\u001b[0m\n\u001b[0;32m--> 455\u001b[0;31m                     \u001b[0mresult_type\u001b[0m\u001b[0;34m=\u001b[0m\u001b[0mfunc\u001b[0m\u001b[0;34m.\u001b[0m\u001b[0mresult_type\u001b[0m\u001b[0;34m\u001b[0m\u001b[0;34m\u001b[0m\u001b[0m\n\u001b[0m\u001b[1;32m    456\u001b[0m                 )\n\u001b[1;32m    457\u001b[0m \u001b[0;34m\u001b[0m\u001b[0m\n",
      "\u001b[0;32m~/Dropbox/pysrc/openpathsampling/openpathsampling/experimental/storage/sql_backend.py\u001b[0m in \u001b[0;36mregister_storable_function\u001b[0;34m(self, table_name, result_type)\u001b[0m\n\u001b[1;32m    329\u001b[0m             \u001b[0mtable\u001b[0m \u001b[0;34m=\u001b[0m \u001b[0msql\u001b[0m\u001b[0;34m.\u001b[0m\u001b[0mTable\u001b[0m\u001b[0;34m(\u001b[0m\u001b[0mtable_name\u001b[0m\u001b[0;34m,\u001b[0m \u001b[0mself\u001b[0m\u001b[0;34m.\u001b[0m\u001b[0mmetadata\u001b[0m\u001b[0;34m,\u001b[0m \u001b[0;34m*\u001b[0m\u001b[0mcolumns\u001b[0m\u001b[0;34m)\u001b[0m\u001b[0;34m\u001b[0m\u001b[0;34m\u001b[0m\u001b[0m\n\u001b[1;32m    330\u001b[0m         \u001b[0;32mexcept\u001b[0m \u001b[0msql\u001b[0m\u001b[0;34m.\u001b[0m\u001b[0mexc\u001b[0m\u001b[0;34m.\u001b[0m\u001b[0mInvalidRequestError\u001b[0m\u001b[0;34m:\u001b[0m\u001b[0;34m\u001b[0m\u001b[0;34m\u001b[0m\u001b[0m\n\u001b[0;32m--> 331\u001b[0;31m             raise TypeError(\"Schema registration problem. Your schema \"\n\u001b[0m\u001b[1;32m    332\u001b[0m                             \"may already have tables of the same names.\")\n\u001b[1;32m    333\u001b[0m \u001b[0;34m\u001b[0m\u001b[0m\n",
      "\u001b[0;31mTypeError\u001b[0m: Schema registration problem. Your schema may already have tables of the same names."
     ]
    }
   ],
   "source": [
    "storage.save(cv)"
   ]
  },
  {
   "cell_type": "code",
   "execution_count": null,
   "metadata": {},
   "outputs": [],
   "source": [
    "list(storage.simulation_objects)"
   ]
  },
  {
   "cell_type": "code",
   "execution_count": null,
   "metadata": {},
   "outputs": [],
   "source": [
    "backend.metadata.tables.keys()"
   ]
  },
  {
   "cell_type": "code",
   "execution_count": null,
   "metadata": {},
   "outputs": [],
   "source": [
    "storage._sf_handler.functions[0].local_cache.result_dict"
   ]
  },
  {
   "cell_type": "code",
   "execution_count": null,
   "metadata": {},
   "outputs": [],
   "source": [
    "backend.load_storable_function_results(uuid, [get_uuid(snap)])"
   ]
  },
  {
   "cell_type": "code",
   "execution_count": null,
   "metadata": {},
   "outputs": [],
   "source": [
    "storage.close()"
   ]
  },
  {
   "cell_type": "code",
   "execution_count": null,
   "metadata": {},
   "outputs": [],
   "source": [
    "backend = SQLStorageBackend(\"test.sql\", mode='r')\n",
    "storage = OPSStorage.from_backend(\n",
    "    backend=backend,\n",
    "    schema=ops_schema,\n",
    "    class_info=ops_class_info\n",
    ")"
   ]
  },
  {
   "cell_type": "code",
   "execution_count": null,
   "metadata": {},
   "outputs": [],
   "source": [
    "cv_reloaded = storage.load([get_uuid(cv)])[0]"
   ]
  },
  {
   "cell_type": "code",
   "execution_count": null,
   "metadata": {},
   "outputs": [],
   "source": [
    "cv_reloaded.local_cache.result_dict"
   ]
  },
  {
   "cell_type": "code",
   "execution_count": null,
   "metadata": {},
   "outputs": [],
   "source": [
    "cv_reloaded.local_cache != cv.local_cache"
   ]
  },
  {
   "cell_type": "code",
   "execution_count": null,
   "metadata": {},
   "outputs": [],
   "source": [
    "%%time\n",
    "cv_reloaded.local_cache.clear()\n",
    "cv_reloaded(snap)"
   ]
  },
  {
   "cell_type": "code",
   "execution_count": null,
   "metadata": {},
   "outputs": [],
   "source": [
    "# TODO: tests need a test of a bad load as well (missing should show up)"
   ]
  },
  {
   "cell_type": "code",
   "execution_count": null,
   "metadata": {},
   "outputs": [],
   "source": [
    "cv_reloaded.local_cache.clear()\n",
    "cv_reloaded.preload_cache()"
   ]
  },
  {
   "cell_type": "code",
   "execution_count": null,
   "metadata": {
    "scrolled": true
   },
   "outputs": [],
   "source": [
    "%%time\n",
    "cv_reloaded(snap)"
   ]
  },
  {
   "cell_type": "markdown",
   "metadata": {},
   "source": [
    "## Store/load multiple values at once\n",
    "\n",
    "This checks that the backend is able to load multiple UUIDs at once"
   ]
  },
  {
   "cell_type": "code",
   "execution_count": null,
   "metadata": {},
   "outputs": [],
   "source": [
    "backend = SQLStorageBackend(\"test.sql\", mode='w')\n",
    "storage = OPSStorage.from_backend(\n",
    "    backend=backend,\n",
    "    schema=ops_schema,\n",
    "    class_info=ops_class_info\n",
    ")"
   ]
  },
  {
   "cell_type": "code",
   "execution_count": null,
   "metadata": {},
   "outputs": [],
   "source": [
    "new_snap = toys.Snapshot(coordinates=np.array([[2.0, 0.0]]))"
   ]
  },
  {
   "cell_type": "code",
   "execution_count": null,
   "metadata": {},
   "outputs": [],
   "source": [
    "%%time\n",
    "cv.local_cache.clear()\n",
    "cv._handler = None\n",
    "cv([snap, new_snap])"
   ]
  },
  {
   "cell_type": "code",
   "execution_count": null,
   "metadata": {},
   "outputs": [],
   "source": [
    "%%time\n",
    "# get using cache\n",
    "cv([snap, new_snap])"
   ]
  },
  {
   "cell_type": "code",
   "execution_count": null,
   "metadata": {},
   "outputs": [],
   "source": [
    "storage.save(cv)"
   ]
  },
  {
   "cell_type": "code",
   "execution_count": null,
   "metadata": {},
   "outputs": [],
   "source": [
    "%%time\n",
    "# get using storage\n",
    "cv.local_cache.clear()\n",
    "cv([snap, new_snap])"
   ]
  },
  {
   "cell_type": "markdown",
   "metadata": {},
   "source": [
    "## Save multiple times\n",
    "\n",
    "The second time we save things, the `find_uuid` skips over the already-saved function. This means that we need another mechanism for storing mutable information (such as the `StorableFunctionResults`) to disk.\n",
    "\n",
    "This is part of what the `StorableFunctionHandler` manages. Since the handler contains the function, it can store things to disk with an update."
   ]
  },
  {
   "cell_type": "code",
   "execution_count": null,
   "metadata": {},
   "outputs": [],
   "source": [
    "backend = SQLStorageBackend(\"test.sql\", mode='w')\n",
    "storage = OPSStorage.from_backend(\n",
    "    backend=backend,\n",
    "    schema=ops_schema,\n",
    "    class_info=ops_class_info\n",
    ")\n",
    "cv = StorableFunction(get_x, result_type='float')\n",
    "vol = paths.CVDefinedVolume(cv, lambda_min=0.0, lambda_max=1.0)\n",
    "cv(snap)\n",
    "storage.save(vol)"
   ]
  },
  {
   "cell_type": "code",
   "execution_count": null,
   "metadata": {},
   "outputs": [],
   "source": [
    "new_snap = toys.Snapshot(coordinates=np.array([[2.0, 0.0]]))\n",
    "cv(new_snap)"
   ]
  },
  {
   "cell_type": "code",
   "execution_count": null,
   "metadata": {},
   "outputs": [],
   "source": [
    "storage.backend.load_storable_function_table(get_uuid(cv))"
   ]
  },
  {
   "cell_type": "code",
   "execution_count": null,
   "metadata": {},
   "outputs": [],
   "source": [
    "storage.save(vol)"
   ]
  },
  {
   "cell_type": "code",
   "execution_count": null,
   "metadata": {},
   "outputs": [],
   "source": [
    "storage.backend.load_storable_function_table(get_uuid(cv))"
   ]
  },
  {
   "cell_type": "code",
   "execution_count": null,
   "metadata": {},
   "outputs": [],
   "source": [
    "storage.save_function_results()"
   ]
  },
  {
   "cell_type": "code",
   "execution_count": null,
   "metadata": {},
   "outputs": [],
   "source": [
    "storage.backend.load_storable_function_table(get_uuid(cv))"
   ]
  },
  {
   "cell_type": "code",
   "execution_count": null,
   "metadata": {},
   "outputs": [],
   "source": [
    "list(storage._sf_handler.canonical_functions.values())[0].local_cache.result_dict"
   ]
  },
  {
   "cell_type": "markdown",
   "metadata": {},
   "source": [
    "## Mock of multiple computers creating and returning results"
   ]
  },
  {
   "cell_type": "code",
   "execution_count": null,
   "metadata": {},
   "outputs": [],
   "source": [
    "cv = StorableFunction(get_x, result_type='float')\n",
    "cv(snap)"
   ]
  },
  {
   "cell_type": "markdown",
   "metadata": {},
   "source": [
    "### Computer 1\n",
    "\n",
    "We mock the serialization and transfer over the network by doing a `to_dict`/`from_dict` cycle, which will create a new instance in memory with the same UUID."
   ]
  },
  {
   "cell_type": "code",
   "execution_count": null,
   "metadata": {},
   "outputs": [],
   "source": [
    "cv_1 = StorableFunction.from_dict(cv.to_dict())\n",
    "set_uuid(cv_1, get_uuid(cv))"
   ]
  },
  {
   "cell_type": "code",
   "execution_count": null,
   "metadata": {},
   "outputs": [],
   "source": [
    "print(\"\\n\".join([repr(cv), repr(cv_1)]))"
   ]
  },
  {
   "cell_type": "code",
   "execution_count": null,
   "metadata": {},
   "outputs": [],
   "source": [
    "cv_1.local_cache.result_dict"
   ]
  },
  {
   "cell_type": "code",
   "execution_count": null,
   "metadata": {},
   "outputs": [],
   "source": [
    "snap_1 = toys.Snapshot(coordinates=np.array([[4.0, 0.0]]))"
   ]
  },
  {
   "cell_type": "code",
   "execution_count": null,
   "metadata": {},
   "outputs": [],
   "source": [
    "%%time\n",
    "cv_1(snap_1)"
   ]
  },
  {
   "cell_type": "code",
   "execution_count": null,
   "metadata": {},
   "outputs": [],
   "source": [
    "cv_1.local_cache.result_dict"
   ]
  },
  {
   "cell_type": "markdown",
   "metadata": {},
   "source": [
    "### Computer 2"
   ]
  },
  {
   "cell_type": "code",
   "execution_count": null,
   "metadata": {},
   "outputs": [],
   "source": [
    "cv_2 = StorableFunction.from_dict(cv.to_dict())\n",
    "set_uuid(cv_2, get_uuid(cv))"
   ]
  },
  {
   "cell_type": "code",
   "execution_count": null,
   "metadata": {},
   "outputs": [],
   "source": [
    "print(\"\\n\".join([repr(cv), repr(cv_1), repr(cv_2)]))"
   ]
  },
  {
   "cell_type": "code",
   "execution_count": null,
   "metadata": {},
   "outputs": [],
   "source": [
    "snap_2 = toys.Snapshot(coordinates=np.array([[5.0, 0.0]]))"
   ]
  },
  {
   "cell_type": "code",
   "execution_count": null,
   "metadata": {},
   "outputs": [],
   "source": [
    "cv_2(snap_2)"
   ]
  },
  {
   "cell_type": "code",
   "execution_count": null,
   "metadata": {},
   "outputs": [],
   "source": [
    "cv_2.local_cache.result_dict"
   ]
  },
  {
   "cell_type": "markdown",
   "metadata": {},
   "source": [
    "### Gather operation\n",
    "\n",
    "Note that for the real thing, we'll need to ensure that the serializers/deserializers (be they from `dask` or custom) correctly recreate the objects.\n",
    "\n",
    "Attention: The save command must be issued separately for each copy of the CV. This is because the CVs have the same UUID, and we use sets/dicts to combine repeats of the same UUID."
   ]
  },
  {
   "cell_type": "code",
   "execution_count": null,
   "metadata": {},
   "outputs": [],
   "source": [
    "backend = SQLStorageBackend(\"test.sql\", mode='w')\n",
    "storage = OPSStorage.from_backend(\n",
    "    backend=backend,\n",
    "    schema=ops_schema,\n",
    "    class_info=ops_class_info\n",
    ")"
   ]
  },
  {
   "cell_type": "code",
   "execution_count": null,
   "metadata": {},
   "outputs": [],
   "source": [
    "storage.save([cv])"
   ]
  },
  {
   "cell_type": "code",
   "execution_count": null,
   "metadata": {},
   "outputs": [],
   "source": [
    "storage.save([cv_1])"
   ]
  },
  {
   "cell_type": "code",
   "execution_count": null,
   "metadata": {},
   "outputs": [],
   "source": [
    "storage.save([cv_2])"
   ]
  },
  {
   "cell_type": "code",
   "execution_count": null,
   "metadata": {},
   "outputs": [],
   "source": [
    "cv_2.local_cache.parent"
   ]
  },
  {
   "cell_type": "code",
   "execution_count": null,
   "metadata": {},
   "outputs": [],
   "source": [
    "cv.local_cache.result_dict"
   ]
  },
  {
   "cell_type": "code",
   "execution_count": null,
   "metadata": {},
   "outputs": [],
   "source": [
    "storage._sf_handler.canonical_functions"
   ]
  },
  {
   "cell_type": "code",
   "execution_count": null,
   "metadata": {},
   "outputs": [],
   "source": [
    "print(\"\\n\".join([str(getattr(obj, '__uuid__')) for obj in [cv, cv_reloaded, cv_1, cv_2]]))"
   ]
  },
  {
   "cell_type": "code",
   "execution_count": null,
   "metadata": {},
   "outputs": [],
   "source": [
    "results = storage._sf_handler.canonical_functions[get_uuid(cv)].local_cache.result_dict"
   ]
  },
  {
   "cell_type": "code",
   "execution_count": null,
   "metadata": {},
   "outputs": [],
   "source": [
    "assert len(results) == 3"
   ]
  },
  {
   "cell_type": "code",
   "execution_count": null,
   "metadata": {},
   "outputs": [],
   "source": [
    "results"
   ]
  },
  {
   "cell_type": "code",
   "execution_count": null,
   "metadata": {},
   "outputs": [],
   "source": [
    "# should be Dict[str, List[StorableFunction]]\n",
    "# dict length 1; the single value in dict is list length 3\n",
    "storage._sf_handler.all_functions"
   ]
  },
  {
   "cell_type": "code",
   "execution_count": null,
   "metadata": {},
   "outputs": [],
   "source": [
    "assert len(storage._sf_handler.all_functions) == 1\n",
    "assert len(list(storage._sf_handler.all_functions.values())[0]) == 3"
   ]
  },
  {
   "cell_type": "code",
   "execution_count": null,
   "metadata": {},
   "outputs": [],
   "source": [
    "storage._sf_handler.clear_non_canonical()"
   ]
  },
  {
   "cell_type": "code",
   "execution_count": null,
   "metadata": {},
   "outputs": [],
   "source": [
    "storage._sf_handler.all_functions"
   ]
  },
  {
   "cell_type": "code",
   "execution_count": null,
   "metadata": {},
   "outputs": [],
   "source": [
    "assert len(storage._sf_handler.all_functions) == 1\n",
    "assert len(list(storage._sf_handler.all_functions.values())[0]) == 1"
   ]
  },
  {
   "cell_type": "code",
   "execution_count": null,
   "metadata": {},
   "outputs": [],
   "source": []
  }
 ],
 "metadata": {
  "kernelspec": {
   "display_name": "Python 3",
   "language": "python",
   "name": "python3"
  },
  "language_info": {
   "codemirror_mode": {
    "name": "ipython",
    "version": 3
   },
   "file_extension": ".py",
   "mimetype": "text/x-python",
   "name": "python",
   "nbconvert_exporter": "python",
   "pygments_lexer": "ipython3",
   "version": "3.7.3"
  },
  "toc": {
   "base_numbering": 1,
   "nav_menu": {},
   "number_sections": true,
   "sideBar": true,
   "skip_h1_title": true,
   "title_cell": "Table of Contents",
   "title_sidebar": "Contents",
   "toc_cell": false,
   "toc_position": {},
   "toc_section_display": true,
   "toc_window_display": true
  },
  "varInspector": {
   "cols": {
    "lenName": 16,
    "lenType": 16,
    "lenVar": 40
   },
   "kernels_config": {
    "python": {
     "delete_cmd_postfix": "",
     "delete_cmd_prefix": "del ",
     "library": "var_list.py",
     "varRefreshCmd": "print(var_dic_list())"
    },
    "r": {
     "delete_cmd_postfix": ") ",
     "delete_cmd_prefix": "rm(",
     "library": "var_list.r",
     "varRefreshCmd": "cat(var_dic_list()) "
    }
   },
   "types_to_exclude": [
    "module",
    "function",
    "builtin_function_or_method",
    "instance",
    "_Feature"
   ],
   "window_display": false
  }
 },
 "nbformat": 4,
 "nbformat_minor": 4
}
