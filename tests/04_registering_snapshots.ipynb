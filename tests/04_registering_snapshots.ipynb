{
 "cells": [
  {
   "cell_type": "code",
   "execution_count": 1,
   "metadata": {},
   "outputs": [],
   "source": [
    "import openpathsampling as paths\n",
    "import openpathsampling.engines.features as feats\n",
    "from openpathsampling.experimental.storage.snapshots import schema_from_entries"
   ]
  },
  {
   "cell_type": "code",
   "execution_count": 2,
   "metadata": {},
   "outputs": [
    {
     "data": {
      "text/plain": [
       "{'snapshot': [('coordinates', 'ndarray.float32({n_atoms},{n_spatial})'),\n",
       "  ('velocities', 'ndarray.float32({n_atoms},{n_spatial})'),\n",
       "  ('engine', 'uuid')]}"
      ]
     },
     "execution_count": 2,
     "metadata": {},
     "output_type": "execute_result"
    }
   ],
   "source": [
    "toy_schema = schema_from_entries([feats.coordinates, feats.velocities, feats.engine], lazies=[])\n",
    "toy_schema"
   ]
  },
  {
   "cell_type": "code",
   "execution_count": 3,
   "metadata": {},
   "outputs": [
    {
     "data": {
      "text/plain": [
       "{'statics': [('coordinates', 'ndarray.float32({n_atoms},{n_spatial})'),\n",
       "  ('box_vectors', 'ndarray.float32({n_spatial},{n_spatial})')],\n",
       " 'snapshot': [('statics', 'lazy')]}"
      ]
     },
     "execution_count": 3,
     "metadata": {},
     "output_type": "execute_result"
    }
   ],
   "source": [
    "statics_schema = schema_from_entries([feats.statics], ['statics'])\n",
    "statics_schema"
   ]
  },
  {
   "cell_type": "code",
   "execution_count": 4,
   "metadata": {},
   "outputs": [],
   "source": [
    "import openpathsampling.engines.toy as toys"
   ]
  },
  {
   "cell_type": "code",
   "execution_count": 5,
   "metadata": {},
   "outputs": [],
   "source": [
    "descriptor = frozenset([('n_atoms', 1000), ('n_spatial', 3), ('class', 'fuqyu')])"
   ]
  },
  {
   "cell_type": "code",
   "execution_count": 6,
   "metadata": {},
   "outputs": [],
   "source": [
    "# this will probably be made into a propery of the snapshot\n",
    "# descriptor is self.engine.descriptor\n",
    "# schema is self._features_schema\n",
    "def replace_schema_dimensions(schema, descriptor):\n",
    "    descriptor_dict = {desc[0]: desc[1] for desc in descriptor\n",
    "                       if desc[0] != 'class'}\n",
    "    for (table, entries) in schema.items():\n",
    "        schema[table] = [\n",
    "            (attr, type_name.format(**descriptor_dict))\n",
    "            for (attr, type_name) in entries\n",
    "        ]\n",
    "    return schema\n",
    "        "
   ]
  },
  {
   "cell_type": "code",
   "execution_count": 7,
   "metadata": {},
   "outputs": [
    {
     "data": {
      "text/plain": [
       "{'snapshot': [('coordinates', 'ndarray.float32(1000,3)'),\n",
       "  ('velocities', 'ndarray.float32(1000,3)'),\n",
       "  ('engine', 'uuid')]}"
      ]
     },
     "execution_count": 7,
     "metadata": {},
     "output_type": "execute_result"
    }
   ],
   "source": [
    "replace_schema_dimensions(toy_schema, descriptor)"
   ]
  },
  {
   "cell_type": "code",
   "execution_count": 8,
   "metadata": {},
   "outputs": [
    {
     "data": {
      "text/plain": [
       "{'statics': [('coordinates', 'ndarray.float32(1000,3)'),\n",
       "  ('box_vectors', 'ndarray.float32(3,3)')],\n",
       " 'snapshot': [('statics', 'lazy')]}"
      ]
     },
     "execution_count": 8,
     "metadata": {},
     "output_type": "execute_result"
    }
   ],
   "source": [
    "replace_schema_dimensions(statics_schema, descriptor)"
   ]
  },
  {
   "cell_type": "markdown",
   "metadata": {},
   "source": [
    "### Saving a snapshot when we haven't registered it yet\n",
    "\n",
    "Note: this is now an EXPECTED failure... you must register data objects."
   ]
  },
  {
   "cell_type": "code",
   "execution_count": 9,
   "metadata": {},
   "outputs": [],
   "source": [
    "from openpathsampling.experimental.simstore import GeneralStorage\n",
    "from openpathsampling.experimental.simstore import ClassInfoContainer, ClassInfo\n",
    "from openpathsampling.experimental.simstore import universal_schema\n",
    "from openpathsampling.experimental.simstore import SQLStorageBackend\n",
    "import openpathsampling.experimental.simstore.serialization_helpers as serialization\n",
    "from openpathsampling.experimental.simstore.custom_json import JSONSerializerDeserializer\n",
    "from openpathsampling.experimental.simstore.custom_json import numpy_codec, bytes_codec, uuid_object_codec\n",
    "from openpathsampling.experimental.simstore import tools\n",
    "\n",
    "import openpathsampling.engines.toy as toys\n",
    "\n",
    "import numpy as np"
   ]
  },
  {
   "cell_type": "code",
   "execution_count": 10,
   "metadata": {},
   "outputs": [],
   "source": [
    "codecs = [numpy_codec, bytes_codec, uuid_object_codec]\n",
    "json_ser_deser = JSONSerializerDeserializer(codecs)\n",
    "\n",
    "#json_serializer, json_deserializer = default_serializer_deserializer(\n",
    "#    [numpy_codec, bytes_codec, uuid_object_codec]\n",
    "#)\n",
    "#json_serializer = serialization.to_json_obj\n",
    "#serialize_sim = SimulationObjectSerializer(json_serializer)\n",
    "serialize_sim = json_ser_deser.simobj_serializer\n",
    "\n",
    "deserialize_sim = serialization.from_json_obj\n",
    "serialize_data = serialization.to_dict_with_uuids\n",
    "deserialize_data = lambda cls, data: cls.from_dict(serialization.from_dict_with)"
   ]
  },
  {
   "cell_type": "code",
   "execution_count": 11,
   "metadata": {},
   "outputs": [],
   "source": [
    "from openpathsampling.netcdfplus import StorableObject\n",
    "default_class_info = ClassInfo(table='simulation_objects',\n",
    "                               cls=StorableObject,\n",
    "                               serializer=serialize_sim,\n",
    "                               deserializer=deserialize_sim)"
   ]
  },
  {
   "cell_type": "code",
   "execution_count": 12,
   "metadata": {},
   "outputs": [],
   "source": [
    "backend = SQLStorageBackend(\":memory:\", mode='w')\n",
    "storage = GeneralStorage(backend=backend,\n",
    "                         schema={},\n",
    "                         class_info=ClassInfoContainer(default_info=default_class_info))"
   ]
  },
  {
   "cell_type": "code",
   "execution_count": 13,
   "metadata": {},
   "outputs": [],
   "source": [
    "schema = {\n",
    "    'simulation_objects': [('json', 'json'), ('class_idx', 'int')]\n",
    "}\n",
    "storage.register_schema(schema, class_info_list=[])"
   ]
  },
  {
   "cell_type": "code",
   "execution_count": 14,
   "metadata": {},
   "outputs": [],
   "source": [
    "pes = (\n",
    "    toys.OuterWalls([1.0, 1.0], [0.0, 0.0]) +\n",
    "    toys.Gaussian(-0.7, [12.0, 12.0], [0.0, 0.4]) +\n",
    "    toys.Gaussian(-0.7, [12.0, 12.0], [-0.5, -0.5]) +\n",
    "    toys.Gaussian(-0.7, [12.0, 12.0], [0.5, -0.5])\n",
    ")\n",
    "\n",
    "topology=toys.Topology(\n",
    "    n_spatial = 2,\n",
    "    masses =[1.0, 1.0],\n",
    "    pes = pes\n",
    ")\n",
    "integ = toys.LangevinBAOABIntegrator(dt=0.02, temperature=0.1, gamma=2.5)\n",
    "\n",
    "options={\n",
    "    'integ' : integ,\n",
    "    'n_frames_max' : 5000,\n",
    "    'n_steps_per_frame' : 1\n",
    "}\n",
    "\n",
    "engine = toys.Engine(\n",
    "    options=options,\n",
    "    topology=topology\n",
    ")"
   ]
  },
  {
   "cell_type": "code",
   "execution_count": 15,
   "metadata": {},
   "outputs": [],
   "source": [
    "template = toys.Snapshot(\n",
    "    coordinates=np.array([[-0.5, -0.5]]), \n",
    "    velocities=np.array([[0.0,0.0]]),\n",
    "    engine=engine\n",
    ")"
   ]
  },
  {
   "cell_type": "code",
   "execution_count": 16,
   "metadata": {},
   "outputs": [],
   "source": [
    "storage.save(engine)"
   ]
  },
  {
   "cell_type": "code",
   "execution_count": 17,
   "metadata": {},
   "outputs": [],
   "source": [
    "storage.save(template)"
   ]
  },
  {
   "cell_type": "code",
   "execution_count": 18,
   "metadata": {},
   "outputs": [
    {
     "data": {
      "text/plain": [
       "dict_keys(['schema', 'metadata', 'uuid', 'tables', 'simulation_objects'])"
      ]
     },
     "execution_count": 18,
     "metadata": {},
     "output_type": "execute_result"
    }
   ],
   "source": [
    "backend.metadata.tables.keys()"
   ]
  },
  {
   "cell_type": "code",
   "execution_count": 19,
   "metadata": {},
   "outputs": [],
   "source": [
    "sim_objs = backend.metadata.tables['simulation_objects']\n",
    "with backend.engine.connect() as conn:\n",
    "    res = [r for r in conn.execute(sim_objs.select())]"
   ]
  },
  {
   "cell_type": "code",
   "execution_count": 20,
   "metadata": {},
   "outputs": [
    {
     "data": {
      "text/plain": [
       "[(1, '318218588850860764244677641445350309910', '{\"options\": {\"n_frames_max\": 5000, \"on_max_length\": \"fail\", \"on_nan\": \"fail\", \"retries_when_nan\": 2, \"retries_when_error\": 0, \"retries_when_max_lengt ... (120 characters truncated) ... ame\": 1}, \"topology\": \"UUID(318218588850860764244677641445350309904)\", \"__class__\": \"ToyEngine\", \"__module__\": \"openpathsampling.engines.toy.engine\"}', None),\n",
       " (2, '318218588850860764244677641445350309904', '{\"masses\": [1.0, 1.0], \"n_atoms\": 1, \"pes\": \"UUID(318218588850860764244677641445350309902)\", \"n_spatial\": 2, \"__class__\": \"ToyTopology\", \"__module__\": \"openpathsampling.engines.toy.topology\"}', None),\n",
       " (3, '318218588850860764244677641445350309906', '{\"gamma\": 2.5, \"temperature\": 0.1, \"dt\": 0.02, \"__class__\": \"LangevinBAOABIntegrator\", \"__module__\": \"openpathsampling.engines.toy.integrators\"}', None),\n",
       " (4, '318218588850860764244677641445350309902', '{\"pes1\": \"UUID(318218588850860764244677641445350309898)\", \"pes2\": \"UUID(318218588850860764244677641445350309900)\", \"__class__\": \"PES_Add\", \"__module__\": \"openpathsampling.engines.toy.pes\"}', None),\n",
       " (5, '318218588850860764244677641445350309898', '{\"pes1\": \"UUID(318218588850860764244677641445350309894)\", \"pes2\": \"UUID(318218588850860764244677641445350309896)\", \"__class__\": \"PES_Add\", \"__module__\": \"openpathsampling.engines.toy.pes\"}', None),\n",
       " (6, '318218588850860764244677641445350309900', '{\"A\": -0.7, \"x0\": [0.5, -0.5], \"alpha\": [12.0, 12.0], \"__class__\": \"Gaussian\", \"__module__\": \"openpathsampling.engines.toy.pes\"}', None),\n",
       " (7, '318218588850860764244677641445350309894', '{\"pes1\": \"UUID(318218588850860764244677641445350309890)\", \"pes2\": \"UUID(318218588850860764244677641445350309892)\", \"__class__\": \"PES_Add\", \"__module__\": \"openpathsampling.engines.toy.pes\"}', None),\n",
       " (8, '318218588850860764244677641445350309896', '{\"A\": -0.7, \"x0\": [-0.5, -0.5], \"alpha\": [12.0, 12.0], \"__class__\": \"Gaussian\", \"__module__\": \"openpathsampling.engines.toy.pes\"}', None),\n",
       " (9, '318218588850860764244677641445350309890', '{\"x0\": [0.0, 0.0], \"sigma\": [1.0, 1.0], \"__class__\": \"OuterWalls\", \"__module__\": \"openpathsampling.engines.toy.pes\"}', None),\n",
       " (10, '318218588850860764244677641445350309892', '{\"A\": -0.7, \"x0\": [0.0, 0.4], \"alpha\": [12.0, 12.0], \"__class__\": \"Gaussian\", \"__module__\": \"openpathsampling.engines.toy.pes\"}', None),\n",
       " (11, '318218588850860764244677641445350309912', '{\"coordinates\": {\"__class__\": \"ndarray\", \"__module__\": \"numpy\", \"shape\": [1, 2], \"dtype\": \"float64\", \"string\": {\"__class__\": \"bytes\", \"__module__\": \" ... (415 characters truncated) ... \\u0000\\\\u0000\\\\u0000\\\\u0000\\\\u0000\\\\u0000\\\\u0000\\\\u0000\\\\u0000\"}}, \"__class__\": \"ToySnapshot\", \"__module__\": \"openpathsampling.engines.toy.snapshot\"}', None)]"
      ]
     },
     "execution_count": 20,
     "metadata": {},
     "output_type": "execute_result"
    }
   ],
   "source": [
    "res"
   ]
  },
  {
   "cell_type": "markdown",
   "metadata": {},
   "source": [
    "with a general storage, this saves it in `simulation_objects`, since it is a `StorableObject` (need to move all simulation objects to `StorableNamedObject`!)"
   ]
  },
  {
   "cell_type": "markdown",
   "metadata": {},
   "source": [
    "### With an OPSStorage"
   ]
  },
  {
   "cell_type": "code",
   "execution_count": 21,
   "metadata": {},
   "outputs": [],
   "source": [
    "from openpathsampling.experimental.storage.ops_storage import Storage, OPSClassInfoContainer"
   ]
  },
  {
   "cell_type": "code",
   "execution_count": 22,
   "metadata": {},
   "outputs": [],
   "source": [
    "backend = SQLStorageBackend(\":memory:\", mode='w')\n",
    "storage = Storage.from_backend(\n",
    "    backend=backend,\n",
    "    schema=schema,\n",
    "    class_info=OPSClassInfoContainer(default_info=default_class_info)\n",
    ")"
   ]
  },
  {
   "cell_type": "code",
   "execution_count": 23,
   "metadata": {},
   "outputs": [
    {
     "data": {
      "text/plain": [
       "dict_keys(['schema', 'metadata', 'uuid', 'tables', 'simulation_objects'])"
      ]
     },
     "execution_count": 23,
     "metadata": {},
     "output_type": "execute_result"
    }
   ],
   "source": [
    "backend.metadata.tables.keys()"
   ]
  },
  {
   "cell_type": "code",
   "execution_count": 24,
   "metadata": {},
   "outputs": [],
   "source": [
    "storage.save(template)"
   ]
  },
  {
   "cell_type": "code",
   "execution_count": 25,
   "metadata": {},
   "outputs": [
    {
     "data": {
      "text/plain": [
       "ClassInfo(table=snapshot0, cls=<class 'openpathsampling.engines.toy.snapshot.ToySnapshot'>, lookup_result=('318218588850860764244677641445350309910', <class 'openpathsampling.engines.toy.snapshot.ToySnapshot'>), find_uuids=<openpathsampling.experimental.storage.serialization_helpers.SchemaFindUUIDs object at 0x117b874e0>)"
      ]
     },
     "execution_count": 25,
     "metadata": {},
     "output_type": "execute_result"
    }
   ],
   "source": [
    "storage.class_info[template]"
   ]
  },
  {
   "cell_type": "code",
   "execution_count": 26,
   "metadata": {},
   "outputs": [
    {
     "data": {
      "text/plain": [
       "dict_keys(['schema', 'metadata', 'uuid', 'tables', 'simulation_objects', 'snapshot0'])"
      ]
     },
     "execution_count": 26,
     "metadata": {},
     "output_type": "execute_result"
    }
   ],
   "source": [
    "backend.metadata.tables.keys()"
   ]
  },
  {
   "cell_type": "code",
   "execution_count": 27,
   "metadata": {},
   "outputs": [
    {
     "data": {
      "text/plain": [
       "('318218588850860764244677641445350309910',\n",
       " openpathsampling.engines.toy.snapshot.ToySnapshot)"
      ]
     },
     "execution_count": 27,
     "metadata": {},
     "output_type": "execute_result"
    }
   ],
   "source": [
    "lookup = storage.class_info.lookup_key(template)\n",
    "lookup"
   ]
  },
  {
   "cell_type": "code",
   "execution_count": 28,
   "metadata": {},
   "outputs": [
    {
     "data": {
      "text/plain": [
       "('318218588850860764244677641445350309910',\n",
       " openpathsampling.engines.toy.snapshot.ToySnapshot)"
      ]
     },
     "execution_count": 28,
     "metadata": {},
     "output_type": "execute_result"
    }
   ],
   "source": [
    "storage.class_info['snapshot0'].lookup_result"
   ]
  },
  {
   "cell_type": "code",
   "execution_count": 29,
   "metadata": {
    "scrolled": false
   },
   "outputs": [
    {
     "data": {
      "text/plain": [
       "[(1, '318218588850860764244677641445350309910', '{\"options\": {\"n_frames_max\": 5000, \"on_max_length\": \"fail\", \"on_nan\": \"fail\", \"retries_when_nan\": 2, \"retries_when_error\": 0, \"retries_when_max_lengt ... (120 characters truncated) ... ame\": 1}, \"topology\": \"UUID(318218588850860764244677641445350309904)\", \"__class__\": \"ToyEngine\", \"__module__\": \"openpathsampling.engines.toy.engine\"}', None),\n",
       " (2, '318218588850860764244677641445350309904', '{\"masses\": [1.0, 1.0], \"n_atoms\": 1, \"pes\": \"UUID(318218588850860764244677641445350309902)\", \"n_spatial\": 2, \"__class__\": \"ToyTopology\", \"__module__\": \"openpathsampling.engines.toy.topology\"}', None),\n",
       " (3, '318218588850860764244677641445350309906', '{\"gamma\": 2.5, \"temperature\": 0.1, \"dt\": 0.02, \"__class__\": \"LangevinBAOABIntegrator\", \"__module__\": \"openpathsampling.engines.toy.integrators\"}', None),\n",
       " (4, '318218588850860764244677641445350309902', '{\"pes1\": \"UUID(318218588850860764244677641445350309898)\", \"pes2\": \"UUID(318218588850860764244677641445350309900)\", \"__class__\": \"PES_Add\", \"__module__\": \"openpathsampling.engines.toy.pes\"}', None),\n",
       " (5, '318218588850860764244677641445350309898', '{\"pes1\": \"UUID(318218588850860764244677641445350309894)\", \"pes2\": \"UUID(318218588850860764244677641445350309896)\", \"__class__\": \"PES_Add\", \"__module__\": \"openpathsampling.engines.toy.pes\"}', None),\n",
       " (6, '318218588850860764244677641445350309900', '{\"A\": -0.7, \"x0\": [0.5, -0.5], \"alpha\": [12.0, 12.0], \"__class__\": \"Gaussian\", \"__module__\": \"openpathsampling.engines.toy.pes\"}', None),\n",
       " (7, '318218588850860764244677641445350309894', '{\"pes1\": \"UUID(318218588850860764244677641445350309890)\", \"pes2\": \"UUID(318218588850860764244677641445350309892)\", \"__class__\": \"PES_Add\", \"__module__\": \"openpathsampling.engines.toy.pes\"}', None),\n",
       " (8, '318218588850860764244677641445350309896', '{\"A\": -0.7, \"x0\": [-0.5, -0.5], \"alpha\": [12.0, 12.0], \"__class__\": \"Gaussian\", \"__module__\": \"openpathsampling.engines.toy.pes\"}', None),\n",
       " (9, '318218588850860764244677641445350309890', '{\"x0\": [0.0, 0.0], \"sigma\": [1.0, 1.0], \"__class__\": \"OuterWalls\", \"__module__\": \"openpathsampling.engines.toy.pes\"}', None),\n",
       " (10, '318218588850860764244677641445350309892', '{\"A\": -0.7, \"x0\": [0.0, 0.4], \"alpha\": [12.0, 12.0], \"__class__\": \"Gaussian\", \"__module__\": \"openpathsampling.engines.toy.pes\"}', None)]"
      ]
     },
     "execution_count": 29,
     "metadata": {},
     "output_type": "execute_result"
    }
   ],
   "source": [
    "sim_objs = backend.metadata.tables['simulation_objects']\n",
    "with backend.engine.connect() as conn:\n",
    "    res = [r for r in conn.execute(sim_objs.select())]\n",
    "res"
   ]
  },
  {
   "cell_type": "code",
   "execution_count": 30,
   "metadata": {},
   "outputs": [
    {
     "data": {
      "text/plain": [
       "[(1, '318218588850860764244677641445350309912', b'\\x00\\x00\\x00\\x00\\x00\\x00\\x00\\x00', b'\\x00\\x00\\x00\\xbf\\x00\\x00\\x00\\xbf', '318218588850860764244677641445350309910')]"
      ]
     },
     "execution_count": 30,
     "metadata": {},
     "output_type": "execute_result"
    }
   ],
   "source": [
    "sim_objs = backend.metadata.tables['snapshot0']\n",
    "with backend.engine.connect() as conn:\n",
    "    res = [r for r in conn.execute(sim_objs.select())]\n",
    "res"
   ]
  },
  {
   "cell_type": "markdown",
   "metadata": {},
   "source": [
    "### Using the new `class_info`-based serialization"
   ]
  },
  {
   "cell_type": "code",
   "execution_count": 31,
   "metadata": {},
   "outputs": [
    {
     "data": {
      "text/plain": [
       "{'velocities': b'\\x00\\x00\\x00\\x00\\x00\\x00\\x00\\x00',\n",
       " 'coordinates': b'\\x00\\x00\\x00\\xbf\\x00\\x00\\x00\\xbf',\n",
       " 'engine': '318218588850860764244677641445350309910',\n",
       " 'uuid': '318218588850860764244677641445350309912'}"
      ]
     },
     "execution_count": 31,
     "metadata": {},
     "output_type": "execute_result"
    }
   ],
   "source": [
    "info = storage.class_info['snapshot0']\n",
    "info.serializer(template)"
   ]
  },
  {
   "cell_type": "code",
   "execution_count": 32,
   "metadata": {},
   "outputs": [
    {
     "data": {
      "text/plain": [
       "[('velocities', 'ndarray.float32(1,2)'),\n",
       " ('coordinates', 'ndarray.float32(1,2)'),\n",
       " ('engine', 'uuid')]"
      ]
     },
     "execution_count": 32,
     "metadata": {},
     "output_type": "execute_result"
    }
   ],
   "source": [
    "info.serializer.entries"
   ]
  },
  {
   "cell_type": "code",
   "execution_count": 33,
   "metadata": {},
   "outputs": [
    {
     "data": {
      "text/plain": [
       "{'schema': {'snapshot0': [('velocities', 'ndarray.float32(1,2)'),\n",
       "   ('coordinates', 'ndarray.float32(1,2)'),\n",
       "   ('engine', 'uuid')]},\n",
       " 'table': 'snapshot0',\n",
       " 'entries': [('velocities', 'ndarray.float32(1,2)'),\n",
       "  ('coordinates', 'ndarray.float32(1,2)'),\n",
       "  ('engine', 'uuid')],\n",
       " 'cls': openpathsampling.engines.toy.snapshot.ToySnapshot,\n",
       " 'attribute_handlers': {'velocities': <function openpathsampling.experimental.storage.serialization.ToDictSerializer.make_numpy_handler.<locals>.<lambda>(arr)>,\n",
       "  'coordinates': <function openpathsampling.experimental.storage.serialization.ToDictSerializer.make_numpy_handler.<locals>.<lambda>(arr)>,\n",
       "  'engine': <function openpathsampling.experimental.storage.serialization_helpers.get_uuid(obj)>}}"
      ]
     },
     "execution_count": 33,
     "metadata": {},
     "output_type": "execute_result"
    }
   ],
   "source": [
    "info.serializer.__dict__"
   ]
  },
  {
   "cell_type": "code",
   "execution_count": 34,
   "metadata": {},
   "outputs": [
    {
     "data": {
      "text/plain": [
       "({'318218588850860764244677641445350309912': <openpathsampling.engines.toy.snapshot.ToySnapshot at 0x117b1c0f0>},\n",
       " [<openpathsampling.engines.toy.engine.ToyEngine at 0x117b1cf28>])"
      ]
     },
     "execution_count": 34,
     "metadata": {},
     "output_type": "execute_result"
    }
   ],
   "source": [
    "info.find_uuids(template, {})"
   ]
  },
  {
   "cell_type": "code",
   "execution_count": 35,
   "metadata": {},
   "outputs": [],
   "source": [
    "engine_uuid = serialization.get_uuid(template.engine)"
   ]
  },
  {
   "cell_type": "code",
   "execution_count": 36,
   "metadata": {},
   "outputs": [],
   "source": [
    "known_uuids = {engine_uuid: template.engine}"
   ]
  },
  {
   "cell_type": "code",
   "execution_count": 37,
   "metadata": {},
   "outputs": [
    {
     "data": {
      "text/plain": [
       "({'318218588850860764244677641445350309912': <openpathsampling.engines.toy.snapshot.ToySnapshot at 0x117b1c0f0>},\n",
       " [<openpathsampling.engines.toy.engine.ToyEngine at 0x117b1cf28>])"
      ]
     },
     "execution_count": 37,
     "metadata": {},
     "output_type": "execute_result"
    }
   ],
   "source": [
    "info.find_uuids(template, known_uuids)"
   ]
  },
  {
   "cell_type": "code",
   "execution_count": null,
   "metadata": {},
   "outputs": [],
   "source": []
  }
 ],
 "metadata": {
  "kernelspec": {
   "display_name": "Python 3",
   "language": "python",
   "name": "python3"
  },
  "language_info": {
   "codemirror_mode": {
    "name": "ipython",
    "version": 3
   },
   "file_extension": ".py",
   "mimetype": "text/x-python",
   "name": "python",
   "nbconvert_exporter": "python",
   "pygments_lexer": "ipython3",
   "version": "3.7.3"
  },
  "toc": {
   "base_numbering": 1,
   "nav_menu": {},
   "number_sections": true,
   "sideBar": true,
   "skip_h1_title": true,
   "title_cell": "Table of Contents",
   "title_sidebar": "Contents",
   "toc_cell": false,
   "toc_position": {},
   "toc_section_display": true,
   "toc_window_display": true
  },
  "varInspector": {
   "cols": {
    "lenName": 16,
    "lenType": 16,
    "lenVar": 40
   },
   "kernels_config": {
    "python": {
     "delete_cmd_postfix": "",
     "delete_cmd_prefix": "del ",
     "library": "var_list.py",
     "varRefreshCmd": "print(var_dic_list())"
    },
    "r": {
     "delete_cmd_postfix": ") ",
     "delete_cmd_prefix": "rm(",
     "library": "var_list.r",
     "varRefreshCmd": "cat(var_dic_list()) "
    }
   },
   "types_to_exclude": [
    "module",
    "function",
    "builtin_function_or_method",
    "instance",
    "_Feature"
   ],
   "window_display": false
  }
 },
 "nbformat": 4,
 "nbformat_minor": 2
}
