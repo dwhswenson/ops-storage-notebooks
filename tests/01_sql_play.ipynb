{
 "cells": [
  {
   "cell_type": "code",
   "execution_count": 3,
   "metadata": {},
   "outputs": [],
   "source": [
    "from __future__ import print_function\n",
    "from openpathsampling.experimental.simstore.sql_backend import universal_schema, universal_sql_meta\n",
    "from openpathsampling.experimental.simstore import SQLStorageBackend\n",
    "st = SQLStorageBackend(\":memory:\", mode='w')\n",
    "import sqlalchemy as sql"
   ]
  },
  {
   "cell_type": "code",
   "execution_count": 2,
   "metadata": {},
   "outputs": [],
   "source": [
    "import logging\n",
    "import sys\n",
    "\n",
    "import collections\n",
    "\n",
    "root = logging.getLogger()\n",
    "root.setLevel(logging.DEBUG)\n",
    "\n",
    "ch = logging.StreamHandler(sys.stdout)\n",
    "ch.setLevel(logging.DEBUG)\n",
    "formatter = logging.Formatter('%(asctime)s - %(name)s - %(levelname)s - %(message)s')\n",
    "ch.setFormatter(formatter)\n",
    "root.addHandler(ch)"
   ]
  },
  {
   "cell_type": "code",
   "execution_count": 3,
   "metadata": {},
   "outputs": [],
   "source": [
    "schema = {\n",
    "    'samples': [('replica', 'int'),\n",
    "                ('ensemble', 'uuid'),\n",
    "                ('trajectory', 'uuid')]\n",
    "}"
   ]
  },
  {
   "cell_type": "code",
   "execution_count": 4,
   "metadata": {},
   "outputs": [],
   "source": [
    "new_schema = {\n",
    "    'snapshot0': [('filename', 'str'),\n",
    "                  ('index', 'int')]\n",
    "}"
   ]
  },
  {
   "cell_type": "code",
   "execution_count": 5,
   "metadata": {},
   "outputs": [],
   "source": [
    "table_to_class = {'samples': tuple, 'snapshot0': tuple}"
   ]
  },
  {
   "cell_type": "code",
   "execution_count": 6,
   "metadata": {},
   "outputs": [
    {
     "name": "stdout",
     "output_type": "stream",
     "text": [
      "2020-05-19 10:03:06,886 - openpathsampling.experimental.storage.sql_backend - INFO - Add schema table samples\n"
     ]
    }
   ],
   "source": [
    "st.register_schema(schema, table_to_class)"
   ]
  },
  {
   "cell_type": "code",
   "execution_count": 7,
   "metadata": {},
   "outputs": [
    {
     "name": "stdout",
     "output_type": "stream",
     "text": [
      "2020-05-19 10:03:06,904 - openpathsampling.experimental.storage.sql_backend - INFO - Add schema table snapshot0\n"
     ]
    }
   ],
   "source": [
    "st.register_schema(new_schema, table_to_class)"
   ]
  },
  {
   "cell_type": "code",
   "execution_count": 8,
   "metadata": {},
   "outputs": [],
   "source": [
    "# practical storage test:\n",
    "# 1. Run 1000 steps MD (AD)\n",
    "# 2. (time) open storage (w); store trajectory; close storage\n",
    "# 3. (time) open storage (r); load trajectory\n",
    "# 4. (time) calculate a CV on the trajectory"
   ]
  },
  {
   "cell_type": "code",
   "execution_count": 9,
   "metadata": {},
   "outputs": [
    {
     "data": {
      "text/plain": [
       "['metadata', 'samples', 'schema', 'snapshot0', 'tables', 'uuid']"
      ]
     },
     "execution_count": 9,
     "metadata": {},
     "output_type": "execute_result"
    }
   ],
   "source": [
    "st.engine.table_names()"
   ]
  },
  {
   "cell_type": "code",
   "execution_count": 10,
   "metadata": {},
   "outputs": [
    {
     "name": "stdout",
     "output_type": "stream",
     "text": [
      "('samples', 0, 'builtins', 'tuple')\n",
      "('snapshot0', 1, 'builtins', 'tuple')\n"
     ]
    }
   ],
   "source": [
    "with st.engine.connect() as conn:\n",
    "    result = conn.execute(st.metadata.tables['tables'].select())\n",
    "    for row in result:\n",
    "        print(row)"
   ]
  },
  {
   "cell_type": "code",
   "execution_count": 11,
   "metadata": {},
   "outputs": [],
   "source": [
    "sample_list = [(0, 'ens1', 'traj1'),\n",
    "               (1, 'ens2', 'traj2'),\n",
    "               (0, 'ens1', 'traj2')]\n",
    "sample_dict = [{'replica': s[0], 'ensemble': s[1], 'trajectory': s[2]}  for s in sample_list]\n",
    "for s in sample_dict:\n",
    "    s.update({'uuid': str(hex(hash(str(sample_dict))))})"
   ]
  },
  {
   "cell_type": "code",
   "execution_count": 12,
   "metadata": {},
   "outputs": [
    {
     "data": {
      "text/plain": [
       "[{'replica': 0,\n",
       "  'ensemble': 'ens1',\n",
       "  'trajectory': 'traj1',\n",
       "  'uuid': '-0x286ab060e638caca'},\n",
       " {'replica': 1,\n",
       "  'ensemble': 'ens2',\n",
       "  'trajectory': 'traj2',\n",
       "  'uuid': '-0x35f7d5f63b434af1'},\n",
       " {'replica': 0,\n",
       "  'ensemble': 'ens1',\n",
       "  'trajectory': 'traj2',\n",
       "  'uuid': '-0x6ab32c80ae3fd51f'}]"
      ]
     },
     "execution_count": 12,
     "metadata": {},
     "output_type": "execute_result"
    }
   ],
   "source": [
    "sample_dict"
   ]
  },
  {
   "cell_type": "code",
   "execution_count": 13,
   "metadata": {},
   "outputs": [],
   "source": [
    "st.add_to_table('samples', sample_dict)"
   ]
  },
  {
   "cell_type": "code",
   "execution_count": 14,
   "metadata": {},
   "outputs": [
    {
     "name": "stdout",
     "output_type": "stream",
     "text": [
      "(1, '-0x286ab060e638caca', 0, 'ens1', 'traj1')\n",
      "(2, '-0x35f7d5f63b434af1', 1, 'ens2', 'traj2')\n",
      "(3, '-0x6ab32c80ae3fd51f', 0, 'ens1', 'traj2')\n"
     ]
    }
   ],
   "source": [
    "with st.engine.connect() as conn:\n",
    "    result = conn.execute(st.metadata.tables['samples'].select())\n",
    "    for row in result:\n",
    "        print(row)"
   ]
  },
  {
   "cell_type": "code",
   "execution_count": 15,
   "metadata": {},
   "outputs": [
    {
     "name": "stdout",
     "output_type": "stream",
     "text": [
      "('-0x286ab060e638caca', 0, 1)\n",
      "('-0x35f7d5f63b434af1', 0, 2)\n",
      "('-0x6ab32c80ae3fd51f', 0, 3)\n"
     ]
    }
   ],
   "source": [
    "with st.engine.connect() as conn:\n",
    "    result = conn.execute(st.metadata.tables['uuid'].select())\n",
    "    for row in result:\n",
    "        print(row)"
   ]
  },
  {
   "cell_type": "code",
   "execution_count": 16,
   "metadata": {},
   "outputs": [],
   "source": [
    "uuids = [sample_dict[0]['uuid'], sample_dict[1]['uuid']]"
   ]
  },
  {
   "cell_type": "code",
   "execution_count": 17,
   "metadata": {},
   "outputs": [],
   "source": [
    "uuid_table = st.metadata.tables['uuid']\n",
    "uuid_or_stmt = sql.or_(*(uuid_table.c.uuid == uuid\n",
    "                         for uuid in uuids))\n",
    "uuid_sel = uuid_table.select(uuid_or_stmt)"
   ]
  },
  {
   "cell_type": "code",
   "execution_count": null,
   "metadata": {},
   "outputs": [],
   "source": []
  },
  {
   "cell_type": "code",
   "execution_count": 18,
   "metadata": {},
   "outputs": [
    {
     "name": "stdout",
     "output_type": "stream",
     "text": [
      "SELECT uuid.uuid, uuid.\"table\", uuid.\"row\" \n",
      "FROM uuid \n",
      "WHERE uuid.uuid = ? OR uuid.uuid = ?\n"
     ]
    }
   ],
   "source": [
    "print(uuid_sel)"
   ]
  },
  {
   "cell_type": "code",
   "execution_count": 19,
   "metadata": {},
   "outputs": [
    {
     "name": "stdout",
     "output_type": "stream",
     "text": [
      "['-0x286ab060e638caca', '-0x35f7d5f63b434af1']\n"
     ]
    }
   ],
   "source": [
    "print(uuids)"
   ]
  },
  {
   "cell_type": "code",
   "execution_count": 20,
   "metadata": {},
   "outputs": [
    {
     "name": "stdout",
     "output_type": "stream",
     "text": [
      "2020-05-19 10:03:07,236 - openpathsampling.experimental.storage.sql_backend - DEBUG - Looking for 2 UUIDs\n",
      "2020-05-19 10:03:07,239 - openpathsampling.experimental.storage.sql_backend - DEBUG - New block of 2 UUIDs\n",
      "2020-05-19 10:03:07,241 - openpathsampling.experimental.storage.sql_backend - DEBUG - Found 2 UUIDs\n"
     ]
    }
   ],
   "source": [
    "uuid_rows = st.load_uuids_table(uuids)"
   ]
  },
  {
   "cell_type": "code",
   "execution_count": 21,
   "metadata": {},
   "outputs": [
    {
     "data": {
      "text/plain": [
       "[(1, '-0x286ab060e638caca', 0, 'ens1', 'traj1'),\n",
       " (2, '-0x35f7d5f63b434af1', 1, 'ens2', 'traj2')]"
      ]
     },
     "execution_count": 21,
     "metadata": {},
     "output_type": "execute_result"
    }
   ],
   "source": [
    "st.load_table_data(uuid_rows)"
   ]
  },
  {
   "cell_type": "code",
   "execution_count": 22,
   "metadata": {},
   "outputs": [],
   "source": [
    "results = _"
   ]
  },
  {
   "cell_type": "code",
   "execution_count": 23,
   "metadata": {},
   "outputs": [
    {
     "data": {
      "text/plain": [
       "'-0x286ab060e638caca'"
      ]
     },
     "execution_count": 23,
     "metadata": {},
     "output_type": "execute_result"
    }
   ],
   "source": [
    "results[0].uuid"
   ]
  },
  {
   "cell_type": "code",
   "execution_count": 24,
   "metadata": {},
   "outputs": [
    {
     "data": {
      "text/plain": [
       "'-0x286ab060e638caca'"
      ]
     },
     "execution_count": 24,
     "metadata": {},
     "output_type": "execute_result"
    }
   ],
   "source": [
    "results[0].uuid"
   ]
  },
  {
   "cell_type": "code",
   "execution_count": 25,
   "metadata": {},
   "outputs": [
    {
     "data": {
      "text/plain": [
       "[('samples', 0, 'builtins', 'tuple'), ('snapshot0', 1, 'builtins', 'tuple')]"
      ]
     },
     "execution_count": 25,
     "metadata": {},
     "output_type": "execute_result"
    }
   ],
   "source": [
    "table = st.metadata.tables['tables']\n",
    "with st.engine.connect() as conn:\n",
    "    results = list(conn.execute(table.select()))\n",
    "results"
   ]
  },
  {
   "cell_type": "code",
   "execution_count": 26,
   "metadata": {},
   "outputs": [],
   "source": [
    "# TODO: add support for table metadata (add a metadata table, with table metadata stored therein)"
   ]
  },
  {
   "cell_type": "code",
   "execution_count": null,
   "metadata": {},
   "outputs": [],
   "source": []
  }
 ],
 "metadata": {
  "kernelspec": {
   "display_name": "Python 3",
   "language": "python",
   "name": "python3"
  },
  "language_info": {
   "codemirror_mode": {
    "name": "ipython",
    "version": 3
   },
   "file_extension": ".py",
   "mimetype": "text/x-python",
   "name": "python",
   "nbconvert_exporter": "python",
   "pygments_lexer": "ipython3",
   "version": "3.7.3"
  },
  "toc": {
   "base_numbering": 1,
   "nav_menu": {},
   "number_sections": true,
   "sideBar": true,
   "skip_h1_title": true,
   "title_cell": "Table of Contents",
   "title_sidebar": "Contents",
   "toc_cell": false,
   "toc_position": {},
   "toc_section_display": true,
   "toc_window_display": true
  },
  "varInspector": {
   "cols": {
    "lenName": 16,
    "lenType": 16,
    "lenVar": 40
   },
   "kernels_config": {
    "python": {
     "delete_cmd_postfix": "",
     "delete_cmd_prefix": "del ",
     "library": "var_list.py",
     "varRefreshCmd": "print(var_dic_list())"
    },
    "r": {
     "delete_cmd_postfix": ") ",
     "delete_cmd_prefix": "rm(",
     "library": "var_list.r",
     "varRefreshCmd": "cat(var_dic_list()) "
    }
   },
   "types_to_exclude": [
    "module",
    "function",
    "builtin_function_or_method",
    "instance",
    "_Feature"
   ],
   "window_display": false
  }
 },
 "nbformat": 4,
 "nbformat_minor": 2
}
