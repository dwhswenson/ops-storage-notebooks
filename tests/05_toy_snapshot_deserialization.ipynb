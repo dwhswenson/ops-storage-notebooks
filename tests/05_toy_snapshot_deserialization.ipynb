{
 "cells": [
  {
   "cell_type": "code",
   "execution_count": 1,
   "metadata": {},
   "outputs": [],
   "source": [
    "import openpathsampling as paths"
   ]
  },
  {
   "cell_type": "code",
   "execution_count": 2,
   "metadata": {},
   "outputs": [],
   "source": [
    "from openpathsampling.experimental.simstore import GeneralStorage\n",
    "from openpathsampling.experimental.simstore import ClassInfoContainer, ClassInfo\n",
    "from openpathsampling.experimental.simstore import universal_schema\n",
    "from openpathsampling.experimental.simstore import SQLStorageBackend\n",
    "import openpathsampling.experimental.simstore.serialization_helpers as serialization\n",
    "from openpathsampling.experimental.simstore import tools\n",
    "from openpathsampling.experimental.simstore import StorableFunction\n",
    "\n",
    "import openpathsampling.engines.toy as toys\n",
    "\n",
    "from openpathsampling.experimental.storage import Storage, OPSClassInfoContainer\n",
    "\n",
    "import numpy as np"
   ]
  },
  {
   "cell_type": "code",
   "execution_count": 3,
   "metadata": {},
   "outputs": [],
   "source": [
    "serialize_sim = lambda obj: {'uuid': serialization.get_uuid(obj), 'json': serialization.to_json_obj(obj)}\n",
    "deserialize_sim = serialization.from_json_obj"
   ]
  },
  {
   "cell_type": "code",
   "execution_count": 4,
   "metadata": {},
   "outputs": [],
   "source": [
    "from openpathsampling.netcdfplus import StorableObject\n",
    "default_class_info = ClassInfo(table='simulation_objects',\n",
    "                               cls=StorableObject,\n",
    "                               serializer=serialize_sim,\n",
    "                               deserializer=deserialize_sim,\n",
    "                               find_uuids=serialization.default_find_uuids)\n",
    "storable_functions_info = ClassInfo(table='storable_functions',\n",
    "                                    cls=StorableFunction,  # this isn't used in this notebook\n",
    "                                    serializer=serialize_sim,\n",
    "                                    deserializer=deserialize_sim)"
   ]
  },
  {
   "cell_type": "markdown",
   "metadata": {},
   "source": [
    "### Save to storage\n",
    "\n",
    "This has already been checked in previous notebooks"
   ]
  },
  {
   "cell_type": "code",
   "execution_count": 5,
   "metadata": {},
   "outputs": [],
   "source": [
    "schema = {\n",
    "    'simulation_objects': [('json', 'json_obj'), ('class_idx', 'int')],\n",
    "    'storable_functions': [('json', 'json_obj')]\n",
    "}"
   ]
  },
  {
   "cell_type": "code",
   "execution_count": 6,
   "metadata": {
    "scrolled": false
   },
   "outputs": [],
   "source": [
    "backend = SQLStorageBackend(\"test.sql\", mode='w')\n",
    "storage = Storage.from_backend(\n",
    "    backend=backend,\n",
    "    schema=schema,\n",
    "    class_info=OPSClassInfoContainer(default_info=default_class_info,\n",
    "                                     class_info_list=[storable_functions_info])\n",
    ")"
   ]
  },
  {
   "cell_type": "code",
   "execution_count": 7,
   "metadata": {},
   "outputs": [],
   "source": [
    "pes = (\n",
    "    toys.OuterWalls([1.0, 1.0], [0.0, 0.0]) +\n",
    "    toys.Gaussian(-0.7, [12.0, 12.0], [0.0, 0.4]) +\n",
    "    toys.Gaussian(-0.7, [12.0, 12.0], [-0.5, -0.5]) +\n",
    "    toys.Gaussian(-0.7, [12.0, 12.0], [0.5, -0.5])\n",
    ")\n",
    "\n",
    "topology=toys.Topology(\n",
    "    n_spatial = 2,\n",
    "    masses =[1.0, 1.0],\n",
    "    pes = pes\n",
    ")\n",
    "integ = toys.LangevinBAOABIntegrator(dt=0.02, temperature=0.1, gamma=2.5)\n",
    "\n",
    "options={\n",
    "    'integ' : integ,\n",
    "    'n_frames_max' : 5000,\n",
    "    'n_steps_per_frame' : 1\n",
    "}\n",
    "\n",
    "engine = toys.Engine(\n",
    "    options=options,\n",
    "    topology=topology\n",
    ")\n",
    "\n",
    "template = toys.Snapshot(\n",
    "    coordinates=np.array([[-0.5, -0.5]]), \n",
    "    velocities=np.array([[0.0,0.0]]),\n",
    "    engine=engine\n",
    ")"
   ]
  },
  {
   "cell_type": "code",
   "execution_count": 8,
   "metadata": {},
   "outputs": [],
   "source": [
    "template_uuid = str(template.__uuid__)"
   ]
  },
  {
   "cell_type": "code",
   "execution_count": 9,
   "metadata": {},
   "outputs": [],
   "source": [
    "import logging\n",
    "import sys\n",
    "\n",
    "root = logging.getLogger()\n",
    "root.setLevel(logging.DEBUG)\n",
    "\n",
    "ch = logging.StreamHandler(sys.stdout)\n",
    "ch.setLevel(logging.DEBUG)\n",
    "formatter = logging.Formatter('%(asctime)s - %(name)s - %(levelname)s - %(message)s')\n",
    "ch.setFormatter(formatter)\n",
    "root.addHandler(ch)"
   ]
  },
  {
   "cell_type": "code",
   "execution_count": 10,
   "metadata": {},
   "outputs": [
    {
     "name": "stdout",
     "output_type": "stream",
     "text": [
      "2021-03-10 09:25:43,769 - openpathsampling.experimental.simstore.storage - DEBUG - Starting save\n",
      "2021-03-10 09:25:43,776 - openpathsampling.experimental.simstore.sql_backend - DEBUG - Looking for 1 UUIDs\n",
      "2021-03-10 09:25:43,780 - openpathsampling.experimental.simstore.sql_backend - DEBUG - New block of 1 UUIDs\n",
      "2021-03-10 09:25:43,800 - openpathsampling.experimental.simstore.sql_backend - DEBUG - Found 0 UUIDs\n",
      "2021-03-10 09:25:43,807 - openpathsampling.experimental.simstore.storage - DEBUG - Listing all objects to save\n",
      "2021-03-10 09:25:43,826 - openpathsampling.experimental.simstore.storage - DEBUG - Found 11 objects\n",
      "2021-03-10 09:25:43,839 - openpathsampling.experimental.simstore.storage - DEBUG - Deproxying proxy objects\n",
      "2021-03-10 09:25:43,841 - openpathsampling.experimental.simstore.storage - DEBUG - Found 0 objects to deproxy\n",
      "2021-03-10 09:25:43,847 - openpathsampling.experimental.simstore.storage - DEBUG - Starting to load 0 objects\n",
      "2021-03-10 09:25:43,864 - openpathsampling.experimental.simstore.storage - DEBUG - Getting internal structure of 0 non-cached objects\n",
      "2021-03-10 09:25:43,876 - openpathsampling.experimental.simstore.storage - DEBUG - Loading 0 objects; creating 0 lazy proxies\n",
      "2021-03-10 09:25:43,879 - openpathsampling.experimental.simstore.storage - DEBUG - Identifying classes for 0 lazy proxies\n",
      "2021-03-10 09:25:43,881 - openpathsampling.experimental.simstore.sql_backend - DEBUG - Looking for 0 UUIDs\n",
      "2021-03-10 09:25:43,883 - openpathsampling.experimental.simstore.sql_backend - DEBUG - New block of 0 UUIDs\n",
      "2021-03-10 09:25:43,905 - openpathsampling.experimental.simstore.sql_backend - DEBUG - Found 0 UUIDs\n",
      "2021-03-10 09:25:43,906 - openpathsampling.experimental.simstore.storage - DEBUG - Reconstructing from 0 objects\n",
      "2021-03-10 09:25:43,907 - openpathsampling.experimental.simstore.storage - DEBUG - Checking if objects already exist in database\n",
      "2021-03-10 09:25:43,908 - openpathsampling.experimental.simstore.sql_backend - DEBUG - Looking for 11 UUIDs\n",
      "2021-03-10 09:25:43,910 - openpathsampling.experimental.simstore.sql_backend - DEBUG - New block of 11 UUIDs\n",
      "2021-03-10 09:25:43,913 - openpathsampling.experimental.simstore.sql_backend - DEBUG - Found 0 UUIDs\n",
      "2021-03-10 09:25:43,914 - openpathsampling.experimental.simstore.storage - DEBUG - Found 0 objects to deproxy\n",
      "2021-03-10 09:25:43,914 - openpathsampling.experimental.simstore.storage - DEBUG - Starting to load 0 objects\n",
      "2021-03-10 09:25:43,915 - openpathsampling.experimental.simstore.storage - DEBUG - Getting internal structure of 0 non-cached objects\n",
      "2021-03-10 09:25:43,916 - openpathsampling.experimental.simstore.storage - DEBUG - Loading 0 objects; creating 0 lazy proxies\n",
      "2021-03-10 09:25:43,917 - openpathsampling.experimental.simstore.storage - DEBUG - Identifying classes for 0 lazy proxies\n",
      "2021-03-10 09:25:43,918 - openpathsampling.experimental.simstore.sql_backend - DEBUG - Looking for 0 UUIDs\n",
      "2021-03-10 09:25:43,919 - openpathsampling.experimental.simstore.sql_backend - DEBUG - New block of 0 UUIDs\n",
      "2021-03-10 09:25:43,947 - openpathsampling.experimental.simstore.sql_backend - DEBUG - Found 0 UUIDs\n",
      "2021-03-10 09:25:43,948 - openpathsampling.experimental.simstore.storage - DEBUG - Reconstructing from 0 objects\n",
      "2021-03-10 09:25:43,949 - openpathsampling.experimental.simstore.storage - INFO - Registering tables for 1 missing objects\n",
      "2021-03-10 09:25:43,950 - openpathsampling.experimental.simstore.sql_backend - INFO - Add schema table snapshot0\n",
      "2021-03-10 09:25:43,982 - openpathsampling.experimental.simstore.storage - INFO - Registered 1 new tables: ['snapshot0']\n",
      "2021-03-10 09:25:43,984 - openpathsampling.experimental.simstore.storage - DEBUG - Listing all objects to save\n",
      "2021-03-10 09:25:43,987 - openpathsampling.experimental.simstore.storage - DEBUG - Found 11 objects\n",
      "2021-03-10 09:25:43,988 - openpathsampling.experimental.simstore.storage - DEBUG - Deproxying proxy objects\n",
      "2021-03-10 09:25:43,989 - openpathsampling.experimental.simstore.storage - DEBUG - Found 0 objects to deproxy\n",
      "2021-03-10 09:25:43,991 - openpathsampling.experimental.simstore.storage - DEBUG - Starting to load 0 objects\n",
      "2021-03-10 09:25:43,994 - openpathsampling.experimental.simstore.storage - DEBUG - Getting internal structure of 0 non-cached objects\n",
      "2021-03-10 09:25:43,995 - openpathsampling.experimental.simstore.storage - DEBUG - Loading 0 objects; creating 0 lazy proxies\n",
      "2021-03-10 09:25:43,998 - openpathsampling.experimental.simstore.storage - DEBUG - Identifying classes for 0 lazy proxies\n",
      "2021-03-10 09:25:44,001 - openpathsampling.experimental.simstore.sql_backend - DEBUG - Looking for 0 UUIDs\n",
      "2021-03-10 09:25:44,003 - openpathsampling.experimental.simstore.sql_backend - DEBUG - New block of 0 UUIDs\n",
      "2021-03-10 09:25:44,010 - openpathsampling.experimental.simstore.sql_backend - DEBUG - Found 0 UUIDs\n",
      "2021-03-10 09:25:44,011 - openpathsampling.experimental.simstore.storage - DEBUG - Reconstructing from 0 objects\n",
      "2021-03-10 09:25:44,014 - openpathsampling.experimental.simstore.storage - DEBUG - Checking if objects already exist in database\n",
      "2021-03-10 09:25:44,016 - openpathsampling.experimental.simstore.sql_backend - DEBUG - Looking for 11 UUIDs\n",
      "2021-03-10 09:25:44,018 - openpathsampling.experimental.simstore.sql_backend - DEBUG - New block of 11 UUIDs\n",
      "2021-03-10 09:25:44,023 - openpathsampling.experimental.simstore.sql_backend - DEBUG - Found 0 UUIDs\n",
      "2021-03-10 09:25:44,024 - openpathsampling.experimental.simstore.storage - DEBUG - Filling 2 tables: ['simulation_objects', 'snapshot0']\n",
      "2021-03-10 09:25:44,026 - openpathsampling.experimental.simstore.storage - DEBUG - Storing 10 objects to table simulation_objects\n",
      "2021-03-10 09:25:44,040 - openpathsampling.experimental.simstore.storage - DEBUG - Storing complete\n",
      "2021-03-10 09:25:44,042 - openpathsampling.experimental.simstore.storage - DEBUG - Storing 1 objects to table snapshot0\n",
      "2021-03-10 09:25:44,061 - openpathsampling.experimental.simstore.storage - DEBUG - Storing complete\n",
      "2021-03-10 09:25:44,063 - openpathsampling.experimental.simstore.storage - DEBUG - Starting save\n",
      "2021-03-10 09:25:44,065 - openpathsampling.experimental.simstore.sql_backend - DEBUG - Looking for 1 UUIDs\n",
      "2021-03-10 09:25:44,067 - openpathsampling.experimental.simstore.sql_backend - DEBUG - New block of 1 UUIDs\n",
      "2021-03-10 09:25:44,074 - openpathsampling.experimental.simstore.sql_backend - DEBUG - Found 1 UUIDs\n"
     ]
    }
   ],
   "source": [
    "storage.save(template)\n",
    "storage.save(engine)"
   ]
  },
  {
   "cell_type": "code",
   "execution_count": 11,
   "metadata": {},
   "outputs": [],
   "source": [
    "eng_uuid = engine.__uuid__"
   ]
  },
  {
   "cell_type": "code",
   "execution_count": 12,
   "metadata": {
    "scrolled": true
   },
   "outputs": [
    {
     "data": {
      "text/plain": [
       "['schema',\n",
       " 'metadata',\n",
       " 'uuid',\n",
       " 'tables',\n",
       " 'tags',\n",
       " 'simulation_objects',\n",
       " 'storable_functions',\n",
       " 'snapshot0']"
      ]
     },
     "execution_count": 12,
     "metadata": {},
     "output_type": "execute_result"
    }
   ],
   "source": [
    "list(storage.backend.metadata.tables.keys())"
   ]
  },
  {
   "cell_type": "code",
   "execution_count": 13,
   "metadata": {},
   "outputs": [],
   "source": [
    "storage.close()"
   ]
  },
  {
   "cell_type": "code",
   "execution_count": 14,
   "metadata": {},
   "outputs": [],
   "source": [
    "# TODO: should make sure here that we error if we try to get anything out of storage"
   ]
  },
  {
   "cell_type": "markdown",
   "metadata": {},
   "source": [
    "### Reload from storage"
   ]
  },
  {
   "cell_type": "code",
   "execution_count": 15,
   "metadata": {},
   "outputs": [
    {
     "name": "stdout",
     "output_type": "stream",
     "text": [
      "2021-03-10 09:25:44,193 - openpathsampling.experimental.simstore.storage - INFO - Missing info from 1 dynamically-registered tables\n",
      "2021-03-10 09:25:44,194 - openpathsampling.experimental.storage.ops_storage - INFO - Attempting to register missing table snapshot0 (<class 'openpathsampling.engines.toy.snapshot.ToySnapshot'>)\n",
      "2021-03-10 09:25:44,203 - openpathsampling.experimental.storage.ops_storage - INFO - Found 1 possible lookups\n",
      "2021-03-10 09:25:44,204 - openpathsampling.experimental.storage.ops_storage - INFO - Lookups for tables: dict_keys(['snapshot0'])\n",
      "2021-03-10 09:25:44,207 - openpathsampling.experimental.simstore.storage - INFO - Successfully registered 1 missing tables\n",
      "2021-03-10 09:25:44,214 - openpathsampling.experimental.simstore.storage - DEBUG - Starting to load 10 objects\n",
      "2021-03-10 09:25:44,216 - openpathsampling.experimental.simstore.storage - DEBUG - Getting internal structure of 10 non-cached objects\n",
      "2021-03-10 09:25:44,219 - openpathsampling.experimental.simstore.sql_backend - DEBUG - Looking for 10 UUIDs\n",
      "2021-03-10 09:25:44,223 - openpathsampling.experimental.simstore.sql_backend - DEBUG - New block of 10 UUIDs\n",
      "2021-03-10 09:25:44,240 - openpathsampling.experimental.simstore.sql_backend - DEBUG - Found 10 UUIDs\n",
      "2021-03-10 09:25:44,244 - openpathsampling.experimental.simstore.storage - DEBUG - Loading 10 objects; creating 0 lazy proxies\n",
      "2021-03-10 09:25:44,246 - openpathsampling.experimental.simstore.storage - DEBUG - Identifying classes for 0 lazy proxies\n",
      "2021-03-10 09:25:44,246 - openpathsampling.experimental.simstore.sql_backend - DEBUG - Looking for 0 UUIDs\n",
      "2021-03-10 09:25:44,247 - openpathsampling.experimental.simstore.sql_backend - DEBUG - New block of 0 UUIDs\n",
      "2021-03-10 09:25:44,254 - openpathsampling.experimental.simstore.sql_backend - DEBUG - Found 0 UUIDs\n",
      "2021-03-10 09:25:44,259 - openpathsampling.experimental.simstore.storage - DEBUG - Reconstructing from 10 objects\n",
      "2021-03-10 09:25:44,276 - openpathsampling.experimental.simstore.storage - DEBUG - Starting to load 10 objects\n",
      "2021-03-10 09:25:44,278 - openpathsampling.experimental.simstore.storage - DEBUG - Getting internal structure of 0 non-cached objects\n",
      "2021-03-10 09:25:44,281 - openpathsampling.experimental.simstore.storage - DEBUG - Loading 0 objects; creating 0 lazy proxies\n",
      "2021-03-10 09:25:44,285 - openpathsampling.experimental.simstore.storage - DEBUG - Identifying classes for 0 lazy proxies\n",
      "2021-03-10 09:25:44,288 - openpathsampling.experimental.simstore.sql_backend - DEBUG - Looking for 0 UUIDs\n",
      "2021-03-10 09:25:44,292 - openpathsampling.experimental.simstore.sql_backend - DEBUG - New block of 0 UUIDs\n",
      "2021-03-10 09:25:44,299 - openpathsampling.experimental.simstore.sql_backend - DEBUG - Found 0 UUIDs\n",
      "2021-03-10 09:25:44,301 - openpathsampling.experimental.simstore.storage - DEBUG - Reconstructing from 0 objects\n"
     ]
    }
   ],
   "source": [
    "backend = SQLStorageBackend(\"test.sql\", mode='r')\n",
    "storage = Storage.from_backend(\n",
    "    backend=backend,\n",
    "    schema=backend.schema,\n",
    "    class_info=OPSClassInfoContainer(default_info=default_class_info,\n",
    "                                     class_info_list=[storable_functions_info])\n",
    ")"
   ]
  },
  {
   "cell_type": "markdown",
   "metadata": {},
   "source": [
    "getting `class_info` when we need to reload\n",
    "\n",
    "**NOTE:** I think most of this can come from the first instance; serialization/deserialization is the default, so we just need to get the type -- but we *don't* need to have the fully registered `class_info` ... class type can be another entry in the `tables` table\n",
    "\n",
    "can we get the need for a class"
   ]
  },
  {
   "cell_type": "code",
   "execution_count": 16,
   "metadata": {},
   "outputs": [
    {
     "data": {
      "text/plain": [
       "{0: 'simulation_objects', 1: 'storable_functions', 2: 'snapshot0'}"
      ]
     },
     "execution_count": 16,
     "metadata": {},
     "output_type": "execute_result"
    }
   ],
   "source": [
    "backend.number_to_table"
   ]
  },
  {
   "cell_type": "code",
   "execution_count": 17,
   "metadata": {},
   "outputs": [
    {
     "data": {
      "text/plain": [
       "ClassInfo(table=simulation_objects, cls=<class 'openpathsampling.netcdfplus.base.StorableObject'>, lookup_result=<class 'openpathsampling.netcdfplus.base.StorableObject'>, find_uuids=<function default_find_uuids at 0x7f9768c38f28>)"
      ]
     },
     "execution_count": 17,
     "metadata": {},
     "output_type": "execute_result"
    }
   ],
   "source": [
    "storage.class_info['simulation_objects']"
   ]
  },
  {
   "cell_type": "code",
   "execution_count": 18,
   "metadata": {},
   "outputs": [
    {
     "name": "stdout",
     "output_type": "stream",
     "text": [
      "2021-03-10 09:25:44,359 - openpathsampling.experimental.simstore.storage - DEBUG - Starting to load 1 objects\n",
      "2021-03-10 09:25:44,361 - openpathsampling.experimental.simstore.storage - DEBUG - Getting internal structure of 0 non-cached objects\n",
      "2021-03-10 09:25:44,362 - openpathsampling.experimental.simstore.storage - DEBUG - Loading 0 objects; creating 0 lazy proxies\n",
      "2021-03-10 09:25:44,364 - openpathsampling.experimental.simstore.storage - DEBUG - Identifying classes for 0 lazy proxies\n",
      "2021-03-10 09:25:44,365 - openpathsampling.experimental.simstore.sql_backend - DEBUG - Looking for 0 UUIDs\n",
      "2021-03-10 09:25:44,366 - openpathsampling.experimental.simstore.sql_backend - DEBUG - New block of 0 UUIDs\n",
      "2021-03-10 09:25:44,382 - openpathsampling.experimental.simstore.sql_backend - DEBUG - Found 0 UUIDs\n",
      "2021-03-10 09:25:44,385 - openpathsampling.experimental.simstore.storage - DEBUG - Reconstructing from 0 objects\n"
     ]
    },
    {
     "data": {
      "text/plain": [
       "[<openpathsampling.engines.toy.engine.ToyEngine at 0x7f976921e278>]"
      ]
     },
     "execution_count": 18,
     "metadata": {},
     "output_type": "execute_result"
    }
   ],
   "source": [
    "storage.load([str(eng_uuid)])"
   ]
  },
  {
   "cell_type": "code",
   "execution_count": 19,
   "metadata": {},
   "outputs": [
    {
     "name": "stdout",
     "output_type": "stream",
     "text": [
      "2021-03-10 09:25:44,400 - openpathsampling.experimental.simstore.storage - DEBUG - Starting to load 1 objects\n",
      "2021-03-10 09:25:44,403 - openpathsampling.experimental.simstore.storage - DEBUG - Getting internal structure of 0 non-cached objects\n",
      "2021-03-10 09:25:44,404 - openpathsampling.experimental.simstore.storage - DEBUG - Loading 0 objects; creating 0 lazy proxies\n",
      "2021-03-10 09:25:44,405 - openpathsampling.experimental.simstore.storage - DEBUG - Identifying classes for 0 lazy proxies\n",
      "2021-03-10 09:25:44,407 - openpathsampling.experimental.simstore.sql_backend - DEBUG - Looking for 0 UUIDs\n",
      "2021-03-10 09:25:44,408 - openpathsampling.experimental.simstore.sql_backend - DEBUG - New block of 0 UUIDs\n",
      "2021-03-10 09:25:44,411 - openpathsampling.experimental.simstore.sql_backend - DEBUG - Found 0 UUIDs\n",
      "2021-03-10 09:25:44,412 - openpathsampling.experimental.simstore.storage - DEBUG - Reconstructing from 0 objects\n"
     ]
    }
   ],
   "source": [
    "engine = storage.load([str(eng_uuid)])[0]"
   ]
  },
  {
   "cell_type": "code",
   "execution_count": 20,
   "metadata": {},
   "outputs": [
    {
     "data": {
      "text/plain": [
       "{'options': {'n_frames_max': 5000,\n",
       "  'on_max_length': 'fail',\n",
       "  'on_nan': 'fail',\n",
       "  'retries_when_nan': 2,\n",
       "  'retries_when_error': 0,\n",
       "  'retries_when_max_length': 0,\n",
       "  'on_retry': 'full',\n",
       "  'on_error': 'fail',\n",
       "  'integ': <openpathsampling.engines.toy.integrators.LangevinBAOABIntegrator at 0x7f9769208f28>,\n",
       "  'n_steps_per_frame': 1},\n",
       " 'topology': <openpathsampling.engines.toy.topology.ToyTopology at 0x7f976921e160>}"
      ]
     },
     "execution_count": 20,
     "metadata": {},
     "output_type": "execute_result"
    }
   ],
   "source": [
    "engine.to_dict()"
   ]
  },
  {
   "cell_type": "code",
   "execution_count": 21,
   "metadata": {
    "scrolled": false
   },
   "outputs": [
    {
     "name": "stdout",
     "output_type": "stream",
     "text": [
      "2021-03-10 09:25:44,439 - openpathsampling.experimental.simstore.storage - DEBUG - Starting to load 1 objects\n",
      "2021-03-10 09:25:44,441 - openpathsampling.experimental.simstore.storage - DEBUG - Getting internal structure of 1 non-cached objects\n",
      "2021-03-10 09:25:44,443 - openpathsampling.experimental.simstore.sql_backend - DEBUG - Looking for 1 UUIDs\n",
      "2021-03-10 09:25:44,445 - openpathsampling.experimental.simstore.sql_backend - DEBUG - New block of 1 UUIDs\n",
      "2021-03-10 09:25:44,448 - openpathsampling.experimental.simstore.sql_backend - DEBUG - Found 1 UUIDs\n",
      "2021-03-10 09:25:44,464 - openpathsampling.experimental.simstore.storage - DEBUG - Loading 1 objects; creating 0 lazy proxies\n",
      "2021-03-10 09:25:44,465 - openpathsampling.experimental.simstore.storage - DEBUG - Identifying classes for 0 lazy proxies\n",
      "2021-03-10 09:25:44,467 - openpathsampling.experimental.simstore.sql_backend - DEBUG - Looking for 0 UUIDs\n",
      "2021-03-10 09:25:44,468 - openpathsampling.experimental.simstore.sql_backend - DEBUG - New block of 0 UUIDs\n",
      "2021-03-10 09:25:44,474 - openpathsampling.experimental.simstore.sql_backend - DEBUG - Found 0 UUIDs\n",
      "2021-03-10 09:25:44,475 - openpathsampling.experimental.simstore.storage - DEBUG - Reconstructing from 2 objects\n"
     ]
    },
    {
     "data": {
      "text/plain": [
       "[<openpathsampling.engines.toy.snapshot.ToySnapshot at 0x7f976921e780>]"
      ]
     },
     "execution_count": 21,
     "metadata": {},
     "output_type": "execute_result"
    }
   ],
   "source": [
    "storage.load([template_uuid])"
   ]
  },
  {
   "cell_type": "code",
   "execution_count": 22,
   "metadata": {},
   "outputs": [
    {
     "name": "stdout",
     "output_type": "stream",
     "text": [
      "2021-03-10 09:25:44,494 - openpathsampling.experimental.simstore.storage - DEBUG - Starting to load 1 objects\n",
      "2021-03-10 09:25:44,495 - openpathsampling.experimental.simstore.storage - DEBUG - Getting internal structure of 0 non-cached objects\n",
      "2021-03-10 09:25:44,498 - openpathsampling.experimental.simstore.storage - DEBUG - Loading 0 objects; creating 0 lazy proxies\n",
      "2021-03-10 09:25:44,499 - openpathsampling.experimental.simstore.storage - DEBUG - Identifying classes for 0 lazy proxies\n",
      "2021-03-10 09:25:44,502 - openpathsampling.experimental.simstore.sql_backend - DEBUG - Looking for 0 UUIDs\n",
      "2021-03-10 09:25:44,505 - openpathsampling.experimental.simstore.sql_backend - DEBUG - New block of 0 UUIDs\n",
      "2021-03-10 09:25:44,519 - openpathsampling.experimental.simstore.sql_backend - DEBUG - Found 0 UUIDs\n",
      "2021-03-10 09:25:44,521 - openpathsampling.experimental.simstore.storage - DEBUG - Reconstructing from 0 objects\n"
     ]
    }
   ],
   "source": [
    "snapshot = storage.load([template_uuid])[0]"
   ]
  },
  {
   "cell_type": "code",
   "execution_count": 23,
   "metadata": {
    "scrolled": true
   },
   "outputs": [
    {
     "data": {
      "text/plain": [
       "69444820112187497213593907980687900710"
      ]
     },
     "execution_count": 23,
     "metadata": {},
     "output_type": "execute_result"
    }
   ],
   "source": [
    "snapshot.__uuid__"
   ]
  },
  {
   "cell_type": "code",
   "execution_count": 24,
   "metadata": {},
   "outputs": [
    {
     "data": {
      "text/plain": [
       "'69444820112187497213593907980687900710'"
      ]
     },
     "execution_count": 24,
     "metadata": {},
     "output_type": "execute_result"
    }
   ],
   "source": [
    "template_uuid"
   ]
  },
  {
   "cell_type": "code",
   "execution_count": 25,
   "metadata": {},
   "outputs": [
    {
     "data": {
      "text/plain": [
       "69444820112187497213593907980687900708"
      ]
     },
     "execution_count": 25,
     "metadata": {},
     "output_type": "execute_result"
    }
   ],
   "source": [
    "engine.__uuid__"
   ]
  },
  {
   "cell_type": "code",
   "execution_count": 26,
   "metadata": {},
   "outputs": [],
   "source": [
    "snap0 = storage.backend.metadata.tables['snapshot0']"
   ]
  },
  {
   "cell_type": "code",
   "execution_count": 27,
   "metadata": {},
   "outputs": [
    {
     "data": {
      "text/plain": [
       "Table('snapshot0', MetaData(bind=Engine(sqlite:///test.sql)), Column('idx', INTEGER(), table=<snapshot0>, primary_key=True, nullable=False), Column('uuid', VARCHAR(), table=<snapshot0>), Column('velocities', BLOB(), table=<snapshot0>), Column('coordinates', BLOB(), table=<snapshot0>), Column('engine', VARCHAR(), table=<snapshot0>), schema=None)"
      ]
     },
     "execution_count": 27,
     "metadata": {},
     "output_type": "execute_result"
    }
   ],
   "source": [
    "snap0"
   ]
  },
  {
   "cell_type": "code",
   "execution_count": 28,
   "metadata": {},
   "outputs": [
    {
     "data": {
      "text/plain": [
       "[(1, '69444820112187497213593907980687900710', b'\\x00\\x00\\x00\\x00\\x00\\x00\\x00\\x00', b'\\x00\\x00\\x00\\xbf\\x00\\x00\\x00\\xbf', '69444820112187497213593907980687900708')]"
      ]
     },
     "execution_count": 28,
     "metadata": {},
     "output_type": "execute_result"
    }
   ],
   "source": [
    "with backend.engine.connect() as conn:\n",
    "    results = list(conn.execute(snap0.select()))\n",
    "results"
   ]
  },
  {
   "cell_type": "code",
   "execution_count": 29,
   "metadata": {},
   "outputs": [
    {
     "data": {
      "text/plain": [
       "(1, '69444820112187497213593907980687900710', b'\\x00\\x00\\x00\\x00\\x00\\x00\\x00\\x00', b'\\x00\\x00\\x00\\xbf\\x00\\x00\\x00\\xbf', '69444820112187497213593907980687900708')"
      ]
     },
     "execution_count": 29,
     "metadata": {},
     "output_type": "execute_result"
    }
   ],
   "source": [
    "results[0]"
   ]
  },
  {
   "cell_type": "code",
   "execution_count": 30,
   "metadata": {},
   "outputs": [
    {
     "data": {
      "text/plain": [
       "ClassInfo(table=snapshot0, cls=<class 'openpathsampling.engines.toy.snapshot.ToySnapshot'>, lookup_result=('69444820112187497213593907980687900708', <class 'openpathsampling.engines.toy.snapshot.ToySnapshot'>), find_uuids=<openpathsampling.experimental.simstore.serialization_helpers.SchemaFindUUIDs object at 0x7f97692022b0>)"
      ]
     },
     "execution_count": 30,
     "metadata": {},
     "output_type": "execute_result"
    }
   ],
   "source": [
    "storage.class_info[template]"
   ]
  },
  {
   "cell_type": "code",
   "execution_count": 31,
   "metadata": {},
   "outputs": [
    {
     "data": {
      "text/plain": [
       "ClassInfo(table=simulation_objects, cls=<class 'openpathsampling.netcdfplus.base.StorableObject'>, lookup_result=<class 'openpathsampling.netcdfplus.base.StorableObject'>, find_uuids=<function default_find_uuids at 0x7f9768c38f28>)"
      ]
     },
     "execution_count": 31,
     "metadata": {},
     "output_type": "execute_result"
    }
   ],
   "source": [
    "storage.class_info[engine]"
   ]
  },
  {
   "cell_type": "code",
   "execution_count": 32,
   "metadata": {
    "scrolled": true
   },
   "outputs": [
    {
     "data": {
      "text/plain": [
       "SerializationSchema(default_info=ClassInfo(table=simulation_objects, cls=<class 'openpathsampling.netcdfplus.base.StorableObject'>, lookup_result=<class 'openpathsampling.netcdfplus.base.StorableObject'>, find_uuids=<function default_find_uuids at 0x7f9768c38f28>), class_info_list=[ClassInfo(table=simulation_objects, cls=<class 'openpathsampling.netcdfplus.base.StorableObject'>, lookup_result=<class 'openpathsampling.netcdfplus.base.StorableObject'>, find_uuids=<function default_find_uuids at 0x7f9768c38f28>), ClassInfo(table=simulation_objects, cls=<class 'openpathsampling.netcdfplus.base.StorableObject'>, lookup_result=<class 'openpathsampling.netcdfplus.base.StorableObject'>, find_uuids=<function default_find_uuids at 0x7f9768c38f28>), ClassInfo(table=storable_functions, cls=<class 'openpathsampling.experimental.simstore.storable_functions.StorableFunction'>, lookup_result=<class 'openpathsampling.experimental.simstore.storable_functions.StorableFunction'>, find_uuids=<openpathsampling.experimental.simstore.serialization_helpers.SchemaFindUUIDs object at 0x7f97690f7fd0>), ClassInfo(table=snapshot0, cls=<class 'openpathsampling.engines.toy.snapshot.ToySnapshot'>, lookup_result=('69444820112187497213593907980687900708', <class 'openpathsampling.engines.toy.snapshot.ToySnapshot'>), find_uuids=<openpathsampling.experimental.simstore.serialization_helpers.SchemaFindUUIDs object at 0x7f97692022b0>)])"
      ]
     },
     "execution_count": 32,
     "metadata": {},
     "output_type": "execute_result"
    }
   ],
   "source": [
    "storage.class_info"
   ]
  },
  {
   "cell_type": "code",
   "execution_count": null,
   "metadata": {},
   "outputs": [],
   "source": []
  }
 ],
 "metadata": {
  "kernelspec": {
   "display_name": "Python 3",
   "language": "python",
   "name": "python3"
  },
  "toc": {
   "base_numbering": 1,
   "nav_menu": {},
   "number_sections": true,
   "sideBar": true,
   "skip_h1_title": true,
   "title_cell": "Table of Contents",
   "title_sidebar": "Contents",
   "toc_cell": false,
   "toc_position": {},
   "toc_section_display": true,
   "toc_window_display": true
  },
  "varInspector": {
   "cols": {
    "lenName": 16,
    "lenType": 16,
    "lenVar": 40
   },
   "kernels_config": {
    "python": {
     "delete_cmd_postfix": "",
     "delete_cmd_prefix": "del ",
     "library": "var_list.py",
     "varRefreshCmd": "print(var_dic_list())"
    },
    "r": {
     "delete_cmd_postfix": ") ",
     "delete_cmd_prefix": "rm(",
     "library": "var_list.r",
     "varRefreshCmd": "cat(var_dic_list()) "
    }
   },
   "types_to_exclude": [
    "module",
    "function",
    "builtin_function_or_method",
    "instance",
    "_Feature"
   ],
   "window_display": false
  }
 },
 "nbformat": 4,
 "nbformat_minor": 2
}
