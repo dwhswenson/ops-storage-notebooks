{
 "cells": [
  {
   "cell_type": "code",
   "execution_count": 1,
   "metadata": {},
   "outputs": [],
   "source": [
    "import openpathsampling as paths\n",
    "from openpathsampling.experimental.storage import monkey_patches\n",
    "\n",
    "from openpathsampling.experimental.storage.ops_storage import OPSStorage, ops_class_info, ops_schema\n",
    "from openpathsampling.experimental.storage.sql_backend import SQLStorageBackend\n",
    "\n",
    "paths = monkey_patches.monkey_patch_all(paths)"
   ]
  },
  {
   "cell_type": "code",
   "execution_count": 2,
   "metadata": {},
   "outputs": [],
   "source": [
    "import logging\n",
    "import sys\n",
    "\n",
    "ops = logging.getLogger('openpathsampling')\n",
    "ops.setLevel(logging.CRITICAL)\n",
    "\n",
    "root = logging.getLogger('openpathsampling.experimental')\n",
    "root.setLevel(logging.DEBUG)\n",
    "\n",
    "ch = logging.StreamHandler(sys.stdout)\n",
    "ch.setLevel(logging.INFO)\n",
    "formatter = logging.Formatter('%(asctime)s - %(name)s - %(levelname)s - %(message)s')\n",
    "ch.setFormatter(formatter)\n",
    "root.addHandler(ch)"
   ]
  },
  {
   "cell_type": "code",
   "execution_count": 3,
   "metadata": {},
   "outputs": [
    {
     "name": "stdout",
     "output_type": "stream",
     "text": [
      "2020-06-10 13:07:21,821 - openpathsampling.experimental.storage.storage - INFO - Missing info from 1 dynamically-registered tables\n",
      "2020-06-10 13:07:21,822 - openpathsampling.experimental.storage.ops_storage - INFO - Attempting to register missing table snapshot0 (<class 'openpathsampling.engines.toy.snapshot.ToySnapshot'>)\n",
      "2020-06-10 13:07:21,826 - openpathsampling.experimental.storage.ops_storage - INFO - Found 1 possible lookups\n",
      "2020-06-10 13:07:21,827 - openpathsampling.experimental.storage.ops_storage - INFO - Lookups for tables: dict_keys(['snapshot0'])\n",
      "2020-06-10 13:07:21,828 - openpathsampling.experimental.storage.storage - INFO - Successfully registered 1 missing tables\n"
     ]
    }
   ],
   "source": [
    "backend = SQLStorageBackend(\"mstis.sql\", mode='r')\n",
    "storage = OPSStorage.from_backend(\n",
    "    backend=backend,\n",
    "    schema=ops_schema,\n",
    "    class_info=ops_class_info\n",
    ")"
   ]
  },
  {
   "cell_type": "code",
   "execution_count": 4,
   "metadata": {},
   "outputs": [
    {
     "name": "stdout",
     "output_type": "stream",
     "text": [
      "File: mstis.sql\n",
      "Includes tables:\n",
      "* samples: 289 items\n",
      "* sample_sets: 201 items\n",
      "* trajectories: 172 items\n",
      "* move_changes: 966 items\n",
      "* steps: 201 items\n",
      "* details: 947 items\n",
      "* storable_functions: 0 items\n",
      "* volumes: 48 items\n",
      "* ensembles: 218 items\n",
      "* pathsimulators: 1 items\n",
      "* pathmovers: 89 items\n",
      "* networks: 1 items\n",
      "* cvs: 3 items\n",
      "* engines: 1 items\n",
      "* misc_simulation: 28 items\n",
      "\n"
     ]
    }
   ],
   "source": [
    "print(storage.summary(detailed=True))"
   ]
  },
  {
   "cell_type": "code",
   "execution_count": 5,
   "metadata": {},
   "outputs": [],
   "source": [
    "traj = storage.steps[2].active[0].trajectory"
   ]
  },
  {
   "cell_type": "code",
   "execution_count": 6,
   "metadata": {},
   "outputs": [
    {
     "data": {
      "text/plain": [
       "array([[-0.66674864, -0.59098345]], dtype=float32)"
      ]
     },
     "execution_count": 6,
     "metadata": {},
     "output_type": "execute_result"
    }
   ],
   "source": [
    "traj[0].xyz"
   ]
  },
  {
   "cell_type": "code",
   "execution_count": 7,
   "metadata": {},
   "outputs": [
    {
     "data": {
      "text/plain": [
       "{'samples': [('trajectory', 'uuid'), ('ensemble', 'uuid'), ('replica', 'int')],\n",
       " 'sample_sets': [('samples', 'list_uuid')],\n",
       " 'trajectories': [('snapshots', 'list_uuid')],\n",
       " 'move_changes': [('mover', 'uuid'),\n",
       "  ('details', 'lazy'),\n",
       "  ('cls', 'str'),\n",
       "  ('subchanges', 'list_uuid'),\n",
       "  ('samples', 'list_uuid'),\n",
       "  ('input_samples', 'list_uuid')],\n",
       " 'steps': [('change', 'uuid'),\n",
       "  ('active', 'uuid'),\n",
       "  ('simulation', 'uuid'),\n",
       "  ('mccycle', 'int')],\n",
       " 'details': [('json', 'json_obj')],\n",
       " 'storable_functions': [('json', 'json_obj'), ('class_idx', 'int')],\n",
       " 'simulation_objects': [('json', 'json_obj'), ('class_idx', 'int')],\n",
       " 'snapshot0': [('velocities', 'ndarray.float32(1,2)'),\n",
       "  ('coordinates', 'ndarray.float32(1,2)'),\n",
       "  ('engine', 'uuid')]}"
      ]
     },
     "execution_count": 7,
     "metadata": {},
     "output_type": "execute_result"
    }
   ],
   "source": [
    "ops_schema"
   ]
  },
  {
   "cell_type": "code",
   "execution_count": 8,
   "metadata": {},
   "outputs": [
    {
     "data": {
      "text/plain": [
       "ClassInfo(table=function_results, cls=<class 'openpathsampling.experimental.storage.storable_functions.StorableFunctionResults'>, lookup_result=<class 'openpathsampling.experimental.storage.storable_functions.StorableFunctionResults'>, find_uuids=<function default_find_uuids at 0x11819a730>)"
      ]
     },
     "execution_count": 8,
     "metadata": {},
     "output_type": "execute_result"
    }
   ],
   "source": [
    "ops_class_info.class_info_list[1]"
   ]
  },
  {
   "cell_type": "code",
   "execution_count": null,
   "metadata": {},
   "outputs": [],
   "source": []
  }
 ],
 "metadata": {
  "kernelspec": {
   "display_name": "Python 3",
   "language": "python",
   "name": "python3"
  },
  "language_info": {
   "codemirror_mode": {
    "name": "ipython",
    "version": 3
   },
   "file_extension": ".py",
   "mimetype": "text/x-python",
   "name": "python",
   "nbconvert_exporter": "python",
   "pygments_lexer": "ipython3",
   "version": "3.7.3"
  },
  "toc": {
   "base_numbering": 1,
   "nav_menu": {},
   "number_sections": true,
   "sideBar": true,
   "skip_h1_title": true,
   "title_cell": "Table of Contents",
   "title_sidebar": "Contents",
   "toc_cell": false,
   "toc_position": {},
   "toc_section_display": true,
   "toc_window_display": false
  },
  "varInspector": {
   "cols": {
    "lenName": 16,
    "lenType": 16,
    "lenVar": 40
   },
   "kernels_config": {
    "python": {
     "delete_cmd_postfix": "",
     "delete_cmd_prefix": "del ",
     "library": "var_list.py",
     "varRefreshCmd": "print(var_dic_list())"
    },
    "r": {
     "delete_cmd_postfix": ") ",
     "delete_cmd_prefix": "rm(",
     "library": "var_list.r",
     "varRefreshCmd": "cat(var_dic_list()) "
    }
   },
   "types_to_exclude": [
    "module",
    "function",
    "builtin_function_or_method",
    "instance",
    "_Feature"
   ],
   "window_display": false
  }
 },
 "nbformat": 4,
 "nbformat_minor": 2
}
