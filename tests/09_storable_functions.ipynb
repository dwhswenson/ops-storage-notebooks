{
 "cells": [
  {
   "cell_type": "code",
   "execution_count": 1,
   "metadata": {},
   "outputs": [],
   "source": [
    "from __future__ import print_function\n",
    "from openpathsampling.experimental.storage import Storage, ops_class_info, ops_schema\n",
    "from openpathsampling.experimental.simstore import SQLStorageBackend\n",
    "import numpy as np\n",
    "from openpathsampling.experimental.simstore.serialization_helpers import get_uuid, set_uuid\n",
    "\n",
    "import openpathsampling as paths\n",
    "\n",
    "import collections\n",
    "\n",
    "from openpathsampling.experimental.simstore.storable_functions import (\n",
    "    StorableFunction, StorageFunctionHandler\n",
    ")"
   ]
  },
  {
   "cell_type": "code",
   "execution_count": 2,
   "metadata": {},
   "outputs": [],
   "source": [
    "import logging\n",
    "import sys\n",
    "\n",
    "root = logging.getLogger()\n",
    "root.setLevel(logging.DEBUG)\n",
    "\n",
    "ch = logging.StreamHandler(sys.stdout)\n",
    "ch.setLevel(logging.DEBUG)\n",
    "formatter = logging.Formatter('%(asctime)s - %(name)s - %(levelname)s - %(message)s')\n",
    "ch.setFormatter(formatter)\n",
    "root.addHandler(ch)"
   ]
  },
  {
   "cell_type": "markdown",
   "metadata": {},
   "source": [
    "## Playing around with a storable function"
   ]
  },
  {
   "cell_type": "code",
   "execution_count": 3,
   "metadata": {},
   "outputs": [],
   "source": [
    "def get_x(snap):\n",
    "    from time import sleep\n",
    "    sleep(2)\n",
    "    return snap.xyz[0][0]"
   ]
  },
  {
   "cell_type": "code",
   "execution_count": 4,
   "metadata": {},
   "outputs": [],
   "source": [
    "cv = StorableFunction(get_x, result_type='float')"
   ]
  },
  {
   "cell_type": "code",
   "execution_count": 5,
   "metadata": {},
   "outputs": [],
   "source": [
    "import openpathsampling.engines.toy as toys\n",
    "snap = toys.Snapshot(coordinates=np.array([[3.0, 0.0]]))"
   ]
  },
  {
   "cell_type": "code",
   "execution_count": 6,
   "metadata": {},
   "outputs": [
    {
     "name": "stdout",
     "output_type": "stream",
     "text": [
      "2020-10-20 17:04:16,609 - openpathsampling.experimental.simstore.storable_functions - DEBUG - <bound method StorableFunction._get_cached of <openpathsampling.experimental.simstore.storable_functions.StorableFunction object at 0x1144f0240>>\n",
      "2020-10-20 17:04:16,611 - openpathsampling.experimental.simstore.storable_functions - DEBUG - <bound method StorableFunction._get_storage of <openpathsampling.experimental.simstore.storable_functions.StorableFunction object at 0x1144f0240>>\n",
      "2020-10-20 17:04:16,614 - openpathsampling.experimental.simstore.storable_functions - DEBUG - <bound method StorableFunction._eval of <openpathsampling.experimental.simstore.storable_functions.StorableFunction object at 0x1144f0240>>\n",
      "CPU times: user 4.83 ms, sys: 1.98 ms, total: 6.81 ms\n",
      "Wall time: 2.01 s\n"
     ]
    },
    {
     "data": {
      "text/plain": [
       "3.0"
      ]
     },
     "execution_count": 6,
     "metadata": {},
     "output_type": "execute_result"
    }
   ],
   "source": [
    "%%time\n",
    "cv(snap)"
   ]
  },
  {
   "cell_type": "code",
   "execution_count": 7,
   "metadata": {},
   "outputs": [
    {
     "name": "stdout",
     "output_type": "stream",
     "text": [
      "2020-10-20 17:04:18,636 - openpathsampling.experimental.simstore.storable_functions - DEBUG - <bound method StorableFunction._get_cached of <openpathsampling.experimental.simstore.storable_functions.StorableFunction object at 0x1144f0240>>\n",
      "CPU times: user 1.5 ms, sys: 611 µs, total: 2.11 ms\n",
      "Wall time: 1.96 ms\n"
     ]
    },
    {
     "data": {
      "text/plain": [
       "3.0"
      ]
     },
     "execution_count": 7,
     "metadata": {},
     "output_type": "execute_result"
    }
   ],
   "source": [
    "%%time\n",
    "cv(snap)"
   ]
  },
  {
   "cell_type": "markdown",
   "metadata": {},
   "source": [
    "## Manually registering storable function with SQL backend"
   ]
  },
  {
   "cell_type": "code",
   "execution_count": 8,
   "metadata": {
    "scrolled": true
   },
   "outputs": [
    {
     "name": "stdout",
     "output_type": "stream",
     "text": [
      "2020-10-20 17:04:18,681 - openpathsampling.experimental.simstore.sql_backend - INFO - Add schema table uuid\n",
      "2020-10-20 17:04:18,686 - openpathsampling.experimental.simstore.sql_backend - INFO - Add schema table tables\n",
      "2020-10-20 17:04:18,720 - openpathsampling.experimental.simstore.sql_backend - INFO - Add schema table samples\n",
      "2020-10-20 17:04:18,757 - openpathsampling.experimental.simstore.sql_backend - INFO - Add schema table sample_sets\n",
      "2020-10-20 17:04:18,772 - openpathsampling.experimental.simstore.sql_backend - INFO - Add schema table trajectories\n",
      "2020-10-20 17:04:18,808 - openpathsampling.experimental.simstore.sql_backend - INFO - Add schema table move_changes\n",
      "2020-10-20 17:04:18,820 - openpathsampling.experimental.simstore.sql_backend - INFO - Add schema table steps\n",
      "2020-10-20 17:04:18,842 - openpathsampling.experimental.simstore.sql_backend - INFO - Add schema table details\n",
      "2020-10-20 17:04:18,858 - openpathsampling.experimental.simstore.sql_backend - INFO - Add schema table storable_functions\n",
      "2020-10-20 17:04:18,873 - openpathsampling.experimental.simstore.sql_backend - INFO - Add schema table simulation_objects\n",
      "2020-10-20 17:04:18,894 - openpathsampling.experimental.simstore.sql_backend - INFO - Add schema table storage_objects\n",
      "2020-10-20 17:04:18,956 - openpathsampling.experimental.simstore.storage - DEBUG - Starting to load 0 objects\n",
      "2020-10-20 17:04:18,958 - openpathsampling.experimental.simstore.storage - DEBUG - Getting internal structure of 0 non-cached objects\n",
      "2020-10-20 17:04:18,959 - openpathsampling.experimental.simstore.storage - DEBUG - Loading 0 objects; creating 0 lazy proxies\n",
      "2020-10-20 17:04:18,959 - openpathsampling.experimental.simstore.storage - DEBUG - Identifying classes for 0 lazy proxies\n",
      "2020-10-20 17:04:18,961 - openpathsampling.experimental.simstore.sql_backend - DEBUG - Looking for 0 UUIDs\n",
      "2020-10-20 17:04:18,963 - openpathsampling.experimental.simstore.sql_backend - DEBUG - New block of 0 UUIDs\n",
      "2020-10-20 17:04:18,967 - openpathsampling.experimental.simstore.sql_backend - DEBUG - Found 0 UUIDs\n",
      "2020-10-20 17:04:18,968 - openpathsampling.experimental.simstore.storage - DEBUG - Reconstructing from 0 objects\n"
     ]
    }
   ],
   "source": [
    "backend = SQLStorageBackend(\"test.sql\", mode='w', echo=False)\n",
    "storage = Storage.from_backend(\n",
    "    backend=backend,\n",
    "    schema=ops_schema,\n",
    "    class_info=ops_class_info,\n",
    ")"
   ]
  },
  {
   "cell_type": "code",
   "execution_count": 9,
   "metadata": {},
   "outputs": [],
   "source": [
    "uuid = get_uuid(cv)"
   ]
  },
  {
   "cell_type": "code",
   "execution_count": 10,
   "metadata": {},
   "outputs": [
    {
     "name": "stdout",
     "output_type": "stream",
     "text": [
      "2020-10-20 17:04:18,992 - openpathsampling.experimental.simstore.storable_functions - DEBUG - <bound method StorableFunction._get_cached of <openpathsampling.experimental.simstore.storable_functions.StorableFunction object at 0x1144f0240>>\n"
     ]
    },
    {
     "data": {
      "text/plain": [
       "{'176170959556776523988076590496099598352': 3.0}"
      ]
     },
     "execution_count": 10,
     "metadata": {},
     "output_type": "execute_result"
    }
   ],
   "source": [
    "_ = cv(snap)\n",
    "cv.local_cache.result_dict"
   ]
  },
  {
   "cell_type": "code",
   "execution_count": 11,
   "metadata": {},
   "outputs": [
    {
     "name": "stdout",
     "output_type": "stream",
     "text": [
      "2020-10-20 17:04:19,005 - openpathsampling.experimental.simstore.sql_backend - INFO - Registering storable function: UUID: 176170959556776523988076590496099598348 (float)\n"
     ]
    }
   ],
   "source": [
    "backend.register_storable_function(table_name=uuid, result_type=cv.result_type)"
   ]
  },
  {
   "cell_type": "code",
   "execution_count": 12,
   "metadata": {},
   "outputs": [
    {
     "name": "stdout",
     "output_type": "stream",
     "text": [
      "2020-10-20 17:04:19,029 - openpathsampling.experimental.simstore.sql_backend - DEBUG - Found 0 UUIDs\n"
     ]
    }
   ],
   "source": [
    "backend.add_storable_function_results(table_name=uuid,\n",
    "                                      result_dict=cv.local_cache.result_dict)"
   ]
  },
  {
   "cell_type": "code",
   "execution_count": 13,
   "metadata": {},
   "outputs": [
    {
     "name": "stdout",
     "output_type": "stream",
     "text": [
      "2020-10-20 17:04:19,043 - openpathsampling.experimental.simstore.sql_backend - DEBUG - Found 1 UUIDs\n"
     ]
    },
    {
     "data": {
      "text/plain": [
       "{'176170959556776523988076590496099598352': 3.0}"
      ]
     },
     "execution_count": 13,
     "metadata": {},
     "output_type": "execute_result"
    }
   ],
   "source": [
    "backend.load_storable_function_results(uuid, [get_uuid(snap)])"
   ]
  },
  {
   "cell_type": "code",
   "execution_count": 14,
   "metadata": {},
   "outputs": [
    {
     "data": {
      "text/plain": [
       "{'176170959556776523988076590496099598352': 3.0}"
      ]
     },
     "execution_count": 14,
     "metadata": {},
     "output_type": "execute_result"
    }
   ],
   "source": [
    "backend.load_storable_function_table(get_uuid(cv))"
   ]
  },
  {
   "cell_type": "markdown",
   "metadata": {},
   "source": [
    "## New backend; use storable func with storage\n",
    "\n",
    "This will be roughly the full integration."
   ]
  },
  {
   "cell_type": "code",
   "execution_count": 15,
   "metadata": {},
   "outputs": [
    {
     "name": "stdout",
     "output_type": "stream",
     "text": [
      "2020-10-20 17:04:19,078 - openpathsampling.experimental.simstore.sql_backend - INFO - Add schema table uuid\n",
      "2020-10-20 17:04:19,082 - openpathsampling.experimental.simstore.sql_backend - INFO - Add schema table tables\n",
      "2020-10-20 17:04:19,091 - openpathsampling.experimental.simstore.sql_backend - INFO - Add schema table samples\n",
      "2020-10-20 17:04:19,101 - openpathsampling.experimental.simstore.sql_backend - INFO - Add schema table sample_sets\n",
      "2020-10-20 17:04:19,145 - openpathsampling.experimental.simstore.sql_backend - INFO - Add schema table trajectories\n",
      "2020-10-20 17:04:19,158 - openpathsampling.experimental.simstore.sql_backend - INFO - Add schema table move_changes\n",
      "2020-10-20 17:04:19,169 - openpathsampling.experimental.simstore.sql_backend - INFO - Add schema table steps\n",
      "2020-10-20 17:04:19,180 - openpathsampling.experimental.simstore.sql_backend - INFO - Add schema table details\n",
      "2020-10-20 17:04:19,188 - openpathsampling.experimental.simstore.sql_backend - INFO - Add schema table storable_functions\n",
      "2020-10-20 17:04:19,196 - openpathsampling.experimental.simstore.sql_backend - INFO - Add schema table simulation_objects\n",
      "2020-10-20 17:04:19,216 - openpathsampling.experimental.simstore.sql_backend - INFO - Add schema table storage_objects\n",
      "2020-10-20 17:04:19,256 - openpathsampling.experimental.simstore.storage - DEBUG - Starting to load 0 objects\n",
      "2020-10-20 17:04:19,257 - openpathsampling.experimental.simstore.storage - DEBUG - Getting internal structure of 0 non-cached objects\n",
      "2020-10-20 17:04:19,261 - openpathsampling.experimental.simstore.storage - DEBUG - Loading 0 objects; creating 0 lazy proxies\n",
      "2020-10-20 17:04:19,266 - openpathsampling.experimental.simstore.storage - DEBUG - Identifying classes for 0 lazy proxies\n",
      "2020-10-20 17:04:19,267 - openpathsampling.experimental.simstore.sql_backend - DEBUG - Looking for 0 UUIDs\n",
      "2020-10-20 17:04:19,269 - openpathsampling.experimental.simstore.sql_backend - DEBUG - New block of 0 UUIDs\n",
      "2020-10-20 17:04:19,272 - openpathsampling.experimental.simstore.sql_backend - DEBUG - Found 0 UUIDs\n",
      "2020-10-20 17:04:19,274 - openpathsampling.experimental.simstore.storage - DEBUG - Reconstructing from 0 objects\n"
     ]
    }
   ],
   "source": [
    "backend = SQLStorageBackend(\"test.sql\", mode='w')\n",
    "storage = Storage.from_backend(\n",
    "    backend=backend,\n",
    "    schema=ops_schema,\n",
    "    class_info=ops_class_info\n",
    ")"
   ]
  },
  {
   "cell_type": "code",
   "execution_count": 16,
   "metadata": {},
   "outputs": [
    {
     "data": {
      "text/plain": [
       "('sqlite:///test.sql', 'w')"
      ]
     },
     "execution_count": 16,
     "metadata": {},
     "output_type": "execute_result"
    }
   ],
   "source": [
    "backend.identifier"
   ]
  },
  {
   "cell_type": "code",
   "execution_count": 17,
   "metadata": {
    "scrolled": false
   },
   "outputs": [
    {
     "name": "stdout",
     "output_type": "stream",
     "text": [
      "2020-10-20 17:04:19,291 - openpathsampling.experimental.simstore.storage - DEBUG - Starting save\n",
      "2020-10-20 17:04:19,296 - openpathsampling.experimental.simstore.sql_backend - DEBUG - Looking for 1 UUIDs\n",
      "2020-10-20 17:04:19,300 - openpathsampling.experimental.simstore.sql_backend - DEBUG - New block of 1 UUIDs\n",
      "2020-10-20 17:04:19,303 - openpathsampling.experimental.simstore.sql_backend - DEBUG - Found 0 UUIDs\n",
      "2020-10-20 17:04:19,304 - openpathsampling.experimental.simstore.storage - DEBUG - Listing all objects to save\n",
      "2020-10-20 17:04:19,307 - openpathsampling.experimental.simstore.storage - DEBUG - Checking if objects already exist in database\n",
      "2020-10-20 17:04:19,309 - openpathsampling.experimental.simstore.sql_backend - DEBUG - Looking for 2 UUIDs\n",
      "2020-10-20 17:04:19,310 - openpathsampling.experimental.simstore.sql_backend - DEBUG - New block of 2 UUIDs\n",
      "2020-10-20 17:04:19,314 - openpathsampling.experimental.simstore.sql_backend - DEBUG - Found 0 UUIDs\n",
      "2020-10-20 17:04:19,315 - openpathsampling.experimental.simstore.storage - INFO - Saving results from 1 storable functions\n",
      "2020-10-20 17:04:19,317 - openpathsampling.experimental.simstore.storable_functions - DEBUG - Registering new function: 176170959556776523988076590496099598348\n",
      "2020-10-20 17:04:19,318 - openpathsampling.experimental.simstore.sql_backend - INFO - Registering storable function: UUID: 176170959556776523988076590496099598348 (float)\n",
      "2020-10-20 17:04:19,328 - openpathsampling.experimental.simstore.sql_backend - DEBUG - Found 0 UUIDs\n",
      "2020-10-20 17:04:19,331 - openpathsampling.experimental.simstore.storage - DEBUG - Filling 1 tables: ['storable_functions']\n",
      "2020-10-20 17:04:19,332 - openpathsampling.experimental.simstore.storage - DEBUG - Storing 1 objects to table storable_functions\n",
      "2020-10-20 17:04:19,343 - openpathsampling.experimental.simstore.storage - DEBUG - Storing complete\n"
     ]
    }
   ],
   "source": [
    "storage.save(cv)"
   ]
  },
  {
   "cell_type": "code",
   "execution_count": 18,
   "metadata": {},
   "outputs": [
    {
     "data": {
      "text/plain": [
       "[]"
      ]
     },
     "execution_count": 18,
     "metadata": {},
     "output_type": "execute_result"
    }
   ],
   "source": [
    "list(storage.simulation_objects)"
   ]
  },
  {
   "cell_type": "code",
   "execution_count": 19,
   "metadata": {},
   "outputs": [
    {
     "data": {
      "text/plain": [
       "dict_keys(['schema', 'metadata', 'uuid', 'tables', 'samples', 'sample_sets', 'trajectories', 'move_changes', 'steps', 'details', 'storable_functions', 'simulation_objects', 'storage_objects', '176170959556776523988076590496099598348'])"
      ]
     },
     "execution_count": 19,
     "metadata": {},
     "output_type": "execute_result"
    }
   ],
   "source": [
    "backend.metadata.tables.keys()"
   ]
  },
  {
   "cell_type": "code",
   "execution_count": 20,
   "metadata": {},
   "outputs": [
    {
     "data": {
      "text/plain": [
       "{'176170959556776523988076590496099598352': 3.0}"
      ]
     },
     "execution_count": 20,
     "metadata": {},
     "output_type": "execute_result"
    }
   ],
   "source": [
    "storage._sf_handler.functions[0].local_cache.result_dict"
   ]
  },
  {
   "cell_type": "code",
   "execution_count": 21,
   "metadata": {},
   "outputs": [
    {
     "name": "stdout",
     "output_type": "stream",
     "text": [
      "2020-10-20 17:04:19,407 - openpathsampling.experimental.simstore.sql_backend - DEBUG - Found 1 UUIDs\n"
     ]
    },
    {
     "data": {
      "text/plain": [
       "{'176170959556776523988076590496099598352': 3.0}"
      ]
     },
     "execution_count": 21,
     "metadata": {},
     "output_type": "execute_result"
    }
   ],
   "source": [
    "backend.load_storable_function_results(uuid, [get_uuid(snap)])"
   ]
  },
  {
   "cell_type": "code",
   "execution_count": 22,
   "metadata": {},
   "outputs": [],
   "source": [
    "storage.close()"
   ]
  },
  {
   "cell_type": "code",
   "execution_count": 23,
   "metadata": {},
   "outputs": [
    {
     "name": "stdout",
     "output_type": "stream",
     "text": [
      "2020-10-20 17:04:19,472 - openpathsampling.experimental.simstore.storage - INFO - Missing info from 0 dynamically-registered tables\n",
      "2020-10-20 17:04:19,478 - openpathsampling.experimental.storage.ops_storage - INFO - Found 0 possible lookups\n",
      "2020-10-20 17:04:19,478 - openpathsampling.experimental.storage.ops_storage - INFO - Lookups for tables: dict_keys([])\n",
      "2020-10-20 17:04:19,480 - openpathsampling.experimental.simstore.storage - INFO - Successfully registered 0 missing tables\n",
      "2020-10-20 17:04:19,485 - openpathsampling.experimental.simstore.storage - DEBUG - Starting to load 0 objects\n",
      "2020-10-20 17:04:19,485 - openpathsampling.experimental.simstore.storage - DEBUG - Getting internal structure of 0 non-cached objects\n",
      "2020-10-20 17:04:19,486 - openpathsampling.experimental.simstore.storage - DEBUG - Loading 0 objects; creating 0 lazy proxies\n",
      "2020-10-20 17:04:19,487 - openpathsampling.experimental.simstore.storage - DEBUG - Identifying classes for 0 lazy proxies\n",
      "2020-10-20 17:04:19,489 - openpathsampling.experimental.simstore.sql_backend - DEBUG - Looking for 0 UUIDs\n",
      "2020-10-20 17:04:19,491 - openpathsampling.experimental.simstore.sql_backend - DEBUG - New block of 0 UUIDs\n",
      "2020-10-20 17:04:19,497 - openpathsampling.experimental.simstore.sql_backend - DEBUG - Found 0 UUIDs\n",
      "2020-10-20 17:04:19,501 - openpathsampling.experimental.simstore.storage - DEBUG - Reconstructing from 0 objects\n"
     ]
    }
   ],
   "source": [
    "backend = SQLStorageBackend(\"test.sql\", mode='r')\n",
    "storage = Storage.from_backend(\n",
    "    backend=backend,\n",
    "    schema=ops_schema,\n",
    "    class_info=ops_class_info\n",
    ")"
   ]
  },
  {
   "cell_type": "code",
   "execution_count": 24,
   "metadata": {},
   "outputs": [
    {
     "name": "stdout",
     "output_type": "stream",
     "text": [
      "2020-10-20 17:04:19,509 - openpathsampling.experimental.simstore.storage - DEBUG - Starting to load 1 objects\n",
      "2020-10-20 17:04:19,510 - openpathsampling.experimental.simstore.storage - DEBUG - Getting internal structure of 1 non-cached objects\n",
      "2020-10-20 17:04:19,512 - openpathsampling.experimental.simstore.sql_backend - DEBUG - Looking for 1 UUIDs\n",
      "2020-10-20 17:04:19,515 - openpathsampling.experimental.simstore.sql_backend - DEBUG - New block of 1 UUIDs\n",
      "2020-10-20 17:04:19,528 - openpathsampling.experimental.simstore.sql_backend - DEBUG - Found 1 UUIDs\n",
      "2020-10-20 17:04:19,533 - openpathsampling.experimental.simstore.storage - DEBUG - Loading 1 objects; creating 0 lazy proxies\n",
      "2020-10-20 17:04:19,535 - openpathsampling.experimental.simstore.storage - DEBUG - Identifying classes for 0 lazy proxies\n",
      "2020-10-20 17:04:19,536 - openpathsampling.experimental.simstore.sql_backend - DEBUG - Looking for 0 UUIDs\n",
      "2020-10-20 17:04:19,538 - openpathsampling.experimental.simstore.sql_backend - DEBUG - New block of 0 UUIDs\n",
      "2020-10-20 17:04:19,542 - openpathsampling.experimental.simstore.sql_backend - DEBUG - Found 0 UUIDs\n",
      "2020-10-20 17:04:19,544 - openpathsampling.experimental.simstore.storage - DEBUG - Reconstructing from 1 objects\n",
      "2020-10-20 17:04:19,546 - openpathsampling.experimental.simstore.storable_functions - DEBUG - Registering new function: 176170959556776523988076590496099598348\n"
     ]
    }
   ],
   "source": [
    "cv_reloaded = storage.load([get_uuid(cv)])[0]"
   ]
  },
  {
   "cell_type": "code",
   "execution_count": 25,
   "metadata": {},
   "outputs": [
    {
     "data": {
      "text/plain": [
       "{}"
      ]
     },
     "execution_count": 25,
     "metadata": {},
     "output_type": "execute_result"
    }
   ],
   "source": [
    "cv_reloaded.local_cache.result_dict"
   ]
  },
  {
   "cell_type": "code",
   "execution_count": 26,
   "metadata": {},
   "outputs": [
    {
     "data": {
      "text/plain": [
       "True"
      ]
     },
     "execution_count": 26,
     "metadata": {},
     "output_type": "execute_result"
    }
   ],
   "source": [
    "cv_reloaded.local_cache != cv.local_cache"
   ]
  },
  {
   "cell_type": "code",
   "execution_count": 27,
   "metadata": {},
   "outputs": [
    {
     "name": "stdout",
     "output_type": "stream",
     "text": [
      "2020-10-20 17:04:19,572 - openpathsampling.experimental.simstore.storable_functions - DEBUG - <bound method StorableFunction._get_cached of <openpathsampling.experimental.simstore.storable_functions.StorableFunction object at 0x104999470>>\n",
      "2020-10-20 17:04:19,574 - openpathsampling.experimental.simstore.storable_functions - DEBUG - <bound method StorableFunction._get_storage of <openpathsampling.experimental.simstore.storable_functions.StorableFunction object at 0x104999470>>\n",
      "2020-10-20 17:04:19,578 - openpathsampling.experimental.simstore.sql_backend - DEBUG - Found 1 UUIDs\n",
      "CPU times: user 5.27 ms, sys: 1.71 ms, total: 6.99 ms\n",
      "Wall time: 7.45 ms\n"
     ]
    },
    {
     "data": {
      "text/plain": [
       "3.0"
      ]
     },
     "execution_count": 27,
     "metadata": {},
     "output_type": "execute_result"
    }
   ],
   "source": [
    "%%time\n",
    "cv_reloaded.local_cache.clear()\n",
    "cv_reloaded(snap)"
   ]
  },
  {
   "cell_type": "code",
   "execution_count": 28,
   "metadata": {},
   "outputs": [],
   "source": [
    "# TODO: tests need a test of a bad load as well (missing should show up)"
   ]
  },
  {
   "cell_type": "code",
   "execution_count": 29,
   "metadata": {},
   "outputs": [],
   "source": [
    "cv_reloaded.local_cache.clear()\n",
    "cv_reloaded.preload_cache()"
   ]
  },
  {
   "cell_type": "code",
   "execution_count": 30,
   "metadata": {
    "scrolled": true
   },
   "outputs": [
    {
     "name": "stdout",
     "output_type": "stream",
     "text": [
      "2020-10-20 17:04:19,607 - openpathsampling.experimental.simstore.storable_functions - DEBUG - <bound method StorableFunction._get_cached of <openpathsampling.experimental.simstore.storable_functions.StorableFunction object at 0x104999470>>\n",
      "CPU times: user 1.58 ms, sys: 1.27 ms, total: 2.85 ms\n",
      "Wall time: 3.06 ms\n"
     ]
    },
    {
     "data": {
      "text/plain": [
       "3.0"
      ]
     },
     "execution_count": 30,
     "metadata": {},
     "output_type": "execute_result"
    }
   ],
   "source": [
    "%%time\n",
    "cv_reloaded(snap)"
   ]
  },
  {
   "cell_type": "markdown",
   "metadata": {},
   "source": [
    "## Store/load multiple values at once\n",
    "\n",
    "This checks that the backend is able to load multiple UUIDs at once"
   ]
  },
  {
   "cell_type": "code",
   "execution_count": 31,
   "metadata": {},
   "outputs": [
    {
     "name": "stdout",
     "output_type": "stream",
     "text": [
      "2020-10-20 17:04:19,627 - openpathsampling.experimental.simstore.sql_backend - INFO - Add schema table uuid\n",
      "2020-10-20 17:04:19,629 - openpathsampling.experimental.simstore.sql_backend - INFO - Add schema table tables\n",
      "2020-10-20 17:04:19,643 - openpathsampling.experimental.simstore.sql_backend - INFO - Add schema table samples\n",
      "2020-10-20 17:04:19,661 - openpathsampling.experimental.simstore.sql_backend - INFO - Add schema table sample_sets\n",
      "2020-10-20 17:04:19,667 - openpathsampling.experimental.simstore.sql_backend - INFO - Add schema table trajectories\n",
      "2020-10-20 17:04:19,683 - openpathsampling.experimental.simstore.sql_backend - INFO - Add schema table move_changes\n",
      "2020-10-20 17:04:19,689 - openpathsampling.experimental.simstore.sql_backend - INFO - Add schema table steps\n",
      "2020-10-20 17:04:19,699 - openpathsampling.experimental.simstore.sql_backend - INFO - Add schema table details\n",
      "2020-10-20 17:04:19,707 - openpathsampling.experimental.simstore.sql_backend - INFO - Add schema table storable_functions\n",
      "2020-10-20 17:04:19,714 - openpathsampling.experimental.simstore.sql_backend - INFO - Add schema table simulation_objects\n",
      "2020-10-20 17:04:19,721 - openpathsampling.experimental.simstore.sql_backend - INFO - Add schema table storage_objects\n",
      "2020-10-20 17:04:19,751 - openpathsampling.experimental.simstore.storage - DEBUG - Starting to load 0 objects\n",
      "2020-10-20 17:04:19,752 - openpathsampling.experimental.simstore.storage - DEBUG - Getting internal structure of 0 non-cached objects\n",
      "2020-10-20 17:04:19,753 - openpathsampling.experimental.simstore.storage - DEBUG - Loading 0 objects; creating 0 lazy proxies\n",
      "2020-10-20 17:04:19,754 - openpathsampling.experimental.simstore.storage - DEBUG - Identifying classes for 0 lazy proxies\n",
      "2020-10-20 17:04:19,757 - openpathsampling.experimental.simstore.sql_backend - DEBUG - Looking for 0 UUIDs\n",
      "2020-10-20 17:04:19,758 - openpathsampling.experimental.simstore.sql_backend - DEBUG - New block of 0 UUIDs\n",
      "2020-10-20 17:04:19,761 - openpathsampling.experimental.simstore.sql_backend - DEBUG - Found 0 UUIDs\n",
      "2020-10-20 17:04:19,762 - openpathsampling.experimental.simstore.storage - DEBUG - Reconstructing from 0 objects\n"
     ]
    }
   ],
   "source": [
    "backend = SQLStorageBackend(\"test.sql\", mode='w')\n",
    "storage = Storage.from_backend(\n",
    "    backend=backend,\n",
    "    schema=ops_schema,\n",
    "    class_info=ops_class_info\n",
    ")"
   ]
  },
  {
   "cell_type": "code",
   "execution_count": 32,
   "metadata": {},
   "outputs": [],
   "source": [
    "new_snap = toys.Snapshot(coordinates=np.array([[2.0, 0.0]]))"
   ]
  },
  {
   "cell_type": "code",
   "execution_count": 33,
   "metadata": {},
   "outputs": [
    {
     "name": "stdout",
     "output_type": "stream",
     "text": [
      "2020-10-20 17:04:19,780 - openpathsampling.experimental.simstore.storable_functions - DEBUG - <bound method StorableFunction._get_cached of <openpathsampling.experimental.simstore.storable_functions.StorableFunction object at 0x1144f0240>>\n",
      "2020-10-20 17:04:19,783 - openpathsampling.experimental.simstore.storable_functions - DEBUG - <bound method StorableFunction._get_storage of <openpathsampling.experimental.simstore.storable_functions.StorableFunction object at 0x1144f0240>>\n",
      "2020-10-20 17:04:19,786 - openpathsampling.experimental.simstore.storable_functions - DEBUG - <bound method StorableFunction._eval of <openpathsampling.experimental.simstore.storable_functions.StorableFunction object at 0x1144f0240>>\n",
      "CPU times: user 5.91 ms, sys: 2.05 ms, total: 7.96 ms\n",
      "Wall time: 4.01 s\n"
     ]
    },
    {
     "data": {
      "text/plain": [
       "[3.0, 2.0]"
      ]
     },
     "execution_count": 33,
     "metadata": {},
     "output_type": "execute_result"
    }
   ],
   "source": [
    "%%time\n",
    "cv.local_cache.clear()\n",
    "cv._handler = None\n",
    "cv([snap, new_snap])"
   ]
  },
  {
   "cell_type": "code",
   "execution_count": 34,
   "metadata": {},
   "outputs": [
    {
     "name": "stdout",
     "output_type": "stream",
     "text": [
      "2020-10-20 17:04:23,803 - openpathsampling.experimental.simstore.storable_functions - DEBUG - <bound method StorableFunction._get_cached of <openpathsampling.experimental.simstore.storable_functions.StorableFunction object at 0x1144f0240>>\n",
      "CPU times: user 1.59 ms, sys: 798 µs, total: 2.39 ms\n",
      "Wall time: 2.74 ms\n"
     ]
    },
    {
     "data": {
      "text/plain": [
       "[3.0, 2.0]"
      ]
     },
     "execution_count": 34,
     "metadata": {},
     "output_type": "execute_result"
    }
   ],
   "source": [
    "%%time\n",
    "# get using cache\n",
    "cv([snap, new_snap])"
   ]
  },
  {
   "cell_type": "code",
   "execution_count": 35,
   "metadata": {},
   "outputs": [
    {
     "name": "stdout",
     "output_type": "stream",
     "text": [
      "2020-10-20 17:04:23,817 - openpathsampling.experimental.simstore.storage - DEBUG - Starting save\n",
      "2020-10-20 17:04:23,819 - openpathsampling.experimental.simstore.sql_backend - DEBUG - Looking for 1 UUIDs\n",
      "2020-10-20 17:04:23,823 - openpathsampling.experimental.simstore.sql_backend - DEBUG - New block of 1 UUIDs\n",
      "2020-10-20 17:04:23,827 - openpathsampling.experimental.simstore.sql_backend - DEBUG - Found 0 UUIDs\n",
      "2020-10-20 17:04:23,831 - openpathsampling.experimental.simstore.storage - DEBUG - Listing all objects to save\n",
      "2020-10-20 17:04:23,835 - openpathsampling.experimental.simstore.storage - DEBUG - Checking if objects already exist in database\n",
      "2020-10-20 17:04:23,842 - openpathsampling.experimental.simstore.sql_backend - DEBUG - Looking for 2 UUIDs\n",
      "2020-10-20 17:04:23,845 - openpathsampling.experimental.simstore.sql_backend - DEBUG - New block of 2 UUIDs\n",
      "2020-10-20 17:04:23,868 - openpathsampling.experimental.simstore.sql_backend - DEBUG - Found 0 UUIDs\n",
      "2020-10-20 17:04:23,870 - openpathsampling.experimental.simstore.storage - INFO - Saving results from 1 storable functions\n",
      "2020-10-20 17:04:23,873 - openpathsampling.experimental.simstore.storable_functions - DEBUG - Registering new function: 176170959556776523988076590496099598348\n",
      "2020-10-20 17:04:23,877 - openpathsampling.experimental.simstore.sql_backend - INFO - Registering storable function: UUID: 176170959556776523988076590496099598348 (float)\n",
      "2020-10-20 17:04:23,927 - openpathsampling.experimental.simstore.sql_backend - DEBUG - Found 0 UUIDs\n",
      "2020-10-20 17:04:23,931 - openpathsampling.experimental.simstore.storage - DEBUG - Filling 1 tables: ['storable_functions']\n",
      "2020-10-20 17:04:23,934 - openpathsampling.experimental.simstore.storage - DEBUG - Storing 1 objects to table storable_functions\n",
      "2020-10-20 17:04:23,946 - openpathsampling.experimental.simstore.storage - DEBUG - Storing complete\n"
     ]
    }
   ],
   "source": [
    "storage.save(cv)"
   ]
  },
  {
   "cell_type": "code",
   "execution_count": 36,
   "metadata": {},
   "outputs": [
    {
     "name": "stdout",
     "output_type": "stream",
     "text": [
      "2020-10-20 17:04:23,956 - openpathsampling.experimental.simstore.storable_functions - DEBUG - <bound method StorableFunction._get_cached of <openpathsampling.experimental.simstore.storable_functions.StorableFunction object at 0x1144f0240>>\n",
      "2020-10-20 17:04:23,961 - openpathsampling.experimental.simstore.storable_functions - DEBUG - <bound method StorableFunction._get_storage of <openpathsampling.experimental.simstore.storable_functions.StorableFunction object at 0x1144f0240>>\n",
      "2020-10-20 17:04:23,968 - openpathsampling.experimental.simstore.sql_backend - DEBUG - Found 2 UUIDs\n",
      "CPU times: user 8.73 ms, sys: 2.88 ms, total: 11.6 ms\n",
      "Wall time: 16.8 ms\n"
     ]
    },
    {
     "data": {
      "text/plain": [
       "[3.0, 2.0]"
      ]
     },
     "execution_count": 36,
     "metadata": {},
     "output_type": "execute_result"
    }
   ],
   "source": [
    "%%time\n",
    "# get using storage\n",
    "cv.local_cache.clear()\n",
    "cv([snap, new_snap])"
   ]
  },
  {
   "cell_type": "markdown",
   "metadata": {},
   "source": [
    "## Save multiple times\n",
    "\n",
    "The second time we save things, the `find_uuid` skips over the already-saved function. This means that we need another mechanism for storing mutable information (such as the `StorableFunctionResults`) to disk.\n",
    "\n",
    "This is part of what the `StorableFunctionHandler` manages. Since the handler contains the function, it can store things to disk with an update."
   ]
  },
  {
   "cell_type": "code",
   "execution_count": 37,
   "metadata": {},
   "outputs": [
    {
     "name": "stdout",
     "output_type": "stream",
     "text": [
      "2020-10-20 17:04:23,992 - openpathsampling.experimental.simstore.sql_backend - INFO - Add schema table uuid\n",
      "2020-10-20 17:04:23,994 - openpathsampling.experimental.simstore.sql_backend - INFO - Add schema table tables\n",
      "2020-10-20 17:04:24,010 - openpathsampling.experimental.simstore.sql_backend - INFO - Add schema table samples\n",
      "2020-10-20 17:04:24,016 - openpathsampling.experimental.simstore.sql_backend - INFO - Add schema table sample_sets\n",
      "2020-10-20 17:04:24,039 - openpathsampling.experimental.simstore.sql_backend - INFO - Add schema table trajectories\n",
      "2020-10-20 17:04:24,045 - openpathsampling.experimental.simstore.sql_backend - INFO - Add schema table move_changes\n",
      "2020-10-20 17:04:24,054 - openpathsampling.experimental.simstore.sql_backend - INFO - Add schema table steps\n",
      "2020-10-20 17:04:24,062 - openpathsampling.experimental.simstore.sql_backend - INFO - Add schema table details\n",
      "2020-10-20 17:04:24,072 - openpathsampling.experimental.simstore.sql_backend - INFO - Add schema table storable_functions\n",
      "2020-10-20 17:04:24,083 - openpathsampling.experimental.simstore.sql_backend - INFO - Add schema table simulation_objects\n",
      "2020-10-20 17:04:24,096 - openpathsampling.experimental.simstore.sql_backend - INFO - Add schema table storage_objects\n",
      "2020-10-20 17:04:24,130 - openpathsampling.experimental.simstore.storage - DEBUG - Starting to load 0 objects\n",
      "2020-10-20 17:04:24,132 - openpathsampling.experimental.simstore.storage - DEBUG - Getting internal structure of 0 non-cached objects\n",
      "2020-10-20 17:04:24,133 - openpathsampling.experimental.simstore.storage - DEBUG - Loading 0 objects; creating 0 lazy proxies\n",
      "2020-10-20 17:04:24,136 - openpathsampling.experimental.simstore.storage - DEBUG - Identifying classes for 0 lazy proxies\n",
      "2020-10-20 17:04:24,138 - openpathsampling.experimental.simstore.sql_backend - DEBUG - Looking for 0 UUIDs\n",
      "2020-10-20 17:04:24,139 - openpathsampling.experimental.simstore.sql_backend - DEBUG - New block of 0 UUIDs\n",
      "2020-10-20 17:04:24,142 - openpathsampling.experimental.simstore.sql_backend - DEBUG - Found 0 UUIDs\n",
      "2020-10-20 17:04:24,144 - openpathsampling.experimental.simstore.storage - DEBUG - Reconstructing from 0 objects\n",
      "2020-10-20 17:04:24,149 - openpathsampling.experimental.simstore.storable_functions - DEBUG - <bound method StorableFunction._get_cached of <openpathsampling.experimental.simstore.storable_functions.StorableFunction object at 0x11457ae10>>\n",
      "2020-10-20 17:04:24,150 - openpathsampling.experimental.simstore.storable_functions - DEBUG - <bound method StorableFunction._get_storage of <openpathsampling.experimental.simstore.storable_functions.StorableFunction object at 0x11457ae10>>\n",
      "2020-10-20 17:04:24,151 - openpathsampling.experimental.simstore.storable_functions - DEBUG - <bound method StorableFunction._eval of <openpathsampling.experimental.simstore.storable_functions.StorableFunction object at 0x11457ae10>>\n",
      "2020-10-20 17:04:26,156 - openpathsampling.experimental.simstore.storage - DEBUG - Starting save\n",
      "2020-10-20 17:04:26,157 - openpathsampling.experimental.simstore.sql_backend - DEBUG - Looking for 1 UUIDs\n",
      "2020-10-20 17:04:26,157 - openpathsampling.experimental.simstore.sql_backend - DEBUG - New block of 1 UUIDs\n",
      "2020-10-20 17:04:26,161 - openpathsampling.experimental.simstore.sql_backend - DEBUG - Found 0 UUIDs\n",
      "2020-10-20 17:04:26,163 - openpathsampling.experimental.simstore.storage - DEBUG - Listing all objects to save\n",
      "2020-10-20 17:04:26,165 - openpathsampling.experimental.simstore.storage - DEBUG - Checking if objects already exist in database\n",
      "2020-10-20 17:04:26,166 - openpathsampling.experimental.simstore.sql_backend - DEBUG - Looking for 3 UUIDs\n",
      "2020-10-20 17:04:26,167 - openpathsampling.experimental.simstore.sql_backend - DEBUG - New block of 3 UUIDs\n",
      "2020-10-20 17:04:26,171 - openpathsampling.experimental.simstore.sql_backend - DEBUG - Found 0 UUIDs\n",
      "2020-10-20 17:04:26,173 - openpathsampling.experimental.simstore.storage - INFO - Saving results from 1 storable functions\n",
      "2020-10-20 17:04:26,175 - openpathsampling.experimental.simstore.storable_functions - DEBUG - Registering new function: 176170959556776523988076590496099598380\n",
      "2020-10-20 17:04:26,176 - openpathsampling.experimental.simstore.sql_backend - INFO - Registering storable function: UUID: 176170959556776523988076590496099598380 (float)\n",
      "2020-10-20 17:04:26,184 - openpathsampling.experimental.simstore.sql_backend - DEBUG - Found 0 UUIDs\n",
      "2020-10-20 17:04:26,187 - openpathsampling.experimental.simstore.storage - DEBUG - Filling 2 tables: ['simulation_objects', 'storable_functions']\n",
      "2020-10-20 17:04:26,188 - openpathsampling.experimental.simstore.storage - DEBUG - Storing 1 objects to table simulation_objects\n",
      "2020-10-20 17:04:26,223 - openpathsampling.experimental.simstore.storage - DEBUG - Storing complete\n",
      "2020-10-20 17:04:26,224 - openpathsampling.experimental.simstore.storage - DEBUG - Storing 1 objects to table storable_functions\n",
      "2020-10-20 17:04:26,305 - openpathsampling.experimental.simstore.storage - DEBUG - Storing complete\n"
     ]
    }
   ],
   "source": [
    "backend = SQLStorageBackend(\"test.sql\", mode='w')\n",
    "storage = Storage.from_backend(\n",
    "    backend=backend,\n",
    "    schema=ops_schema,\n",
    "    class_info=ops_class_info\n",
    ")\n",
    "cv = StorableFunction(get_x, result_type='float')\n",
    "vol = paths.CVDefinedVolume(cv, lambda_min=0.0, lambda_max=1.0)\n",
    "cv(snap)\n",
    "storage.save(vol)"
   ]
  },
  {
   "cell_type": "code",
   "execution_count": 38,
   "metadata": {},
   "outputs": [
    {
     "name": "stdout",
     "output_type": "stream",
     "text": [
      "2020-10-20 17:04:26,318 - openpathsampling.experimental.simstore.storable_functions - DEBUG - <bound method StorableFunction._get_cached of <openpathsampling.experimental.simstore.storable_functions.StorableFunction object at 0x11457ae10>>\n",
      "2020-10-20 17:04:26,321 - openpathsampling.experimental.simstore.storable_functions - DEBUG - <bound method StorableFunction._get_storage of <openpathsampling.experimental.simstore.storable_functions.StorableFunction object at 0x11457ae10>>\n",
      "2020-10-20 17:04:26,350 - openpathsampling.experimental.simstore.sql_backend - DEBUG - Found 0 UUIDs\n",
      "2020-10-20 17:04:26,351 - openpathsampling.experimental.simstore.storable_functions - DEBUG - <bound method StorableFunction._eval of <openpathsampling.experimental.simstore.storable_functions.StorableFunction object at 0x11457ae10>>\n"
     ]
    },
    {
     "data": {
      "text/plain": [
       "2.0"
      ]
     },
     "execution_count": 38,
     "metadata": {},
     "output_type": "execute_result"
    }
   ],
   "source": [
    "new_snap = toys.Snapshot(coordinates=np.array([[2.0, 0.0]]))\n",
    "cv(new_snap)"
   ]
  },
  {
   "cell_type": "code",
   "execution_count": 39,
   "metadata": {},
   "outputs": [
    {
     "data": {
      "text/plain": [
       "{'176170959556776523988076590496099598352': 3.0}"
      ]
     },
     "execution_count": 39,
     "metadata": {},
     "output_type": "execute_result"
    }
   ],
   "source": [
    "storage.backend.load_storable_function_table(get_uuid(cv))"
   ]
  },
  {
   "cell_type": "code",
   "execution_count": 40,
   "metadata": {},
   "outputs": [
    {
     "name": "stdout",
     "output_type": "stream",
     "text": [
      "2020-10-20 17:04:28,379 - openpathsampling.experimental.simstore.storage - DEBUG - Starting save\n",
      "2020-10-20 17:04:28,383 - openpathsampling.experimental.simstore.sql_backend - DEBUG - Looking for 1 UUIDs\n",
      "2020-10-20 17:04:28,385 - openpathsampling.experimental.simstore.sql_backend - DEBUG - New block of 1 UUIDs\n",
      "2020-10-20 17:04:28,393 - openpathsampling.experimental.simstore.sql_backend - DEBUG - Found 1 UUIDs\n"
     ]
    }
   ],
   "source": [
    "storage.save(vol)"
   ]
  },
  {
   "cell_type": "code",
   "execution_count": 41,
   "metadata": {},
   "outputs": [
    {
     "data": {
      "text/plain": [
       "{'176170959556776523988076590496099598352': 3.0}"
      ]
     },
     "execution_count": 41,
     "metadata": {},
     "output_type": "execute_result"
    }
   ],
   "source": [
    "storage.backend.load_storable_function_table(get_uuid(cv))"
   ]
  },
  {
   "cell_type": "code",
   "execution_count": 42,
   "metadata": {},
   "outputs": [
    {
     "name": "stdout",
     "output_type": "stream",
     "text": [
      "2020-10-20 17:04:28,483 - openpathsampling.experimental.simstore.sql_backend - DEBUG - Found 0 UUIDs\n"
     ]
    }
   ],
   "source": [
    "storage.save_function_results()"
   ]
  },
  {
   "cell_type": "code",
   "execution_count": 43,
   "metadata": {},
   "outputs": [
    {
     "data": {
      "text/plain": [
       "{'176170959556776523988076590496099598352': 3.0,\n",
       " '176170959556776523988076590496099598386': 2.0}"
      ]
     },
     "execution_count": 43,
     "metadata": {},
     "output_type": "execute_result"
    }
   ],
   "source": [
    "storage.backend.load_storable_function_table(get_uuid(cv))"
   ]
  },
  {
   "cell_type": "code",
   "execution_count": 44,
   "metadata": {},
   "outputs": [
    {
     "data": {
      "text/plain": [
       "{'176170959556776523988076590496099598352': 3.0,\n",
       " '176170959556776523988076590496099598386': 2.0}"
      ]
     },
     "execution_count": 44,
     "metadata": {},
     "output_type": "execute_result"
    }
   ],
   "source": [
    "list(storage._sf_handler.canonical_functions.values())[0].local_cache.result_dict"
   ]
  },
  {
   "cell_type": "markdown",
   "metadata": {},
   "source": [
    "## Mock of multiple computers creating and returning results"
   ]
  },
  {
   "cell_type": "code",
   "execution_count": 45,
   "metadata": {},
   "outputs": [
    {
     "name": "stdout",
     "output_type": "stream",
     "text": [
      "2020-10-20 17:04:28,529 - openpathsampling.experimental.simstore.storable_functions - DEBUG - <bound method StorableFunction._get_cached of <openpathsampling.experimental.simstore.storable_functions.StorableFunction object at 0x11465dc50>>\n",
      "2020-10-20 17:04:28,531 - openpathsampling.experimental.simstore.storable_functions - DEBUG - <bound method StorableFunction._get_storage of <openpathsampling.experimental.simstore.storable_functions.StorableFunction object at 0x11465dc50>>\n",
      "2020-10-20 17:04:28,533 - openpathsampling.experimental.simstore.storable_functions - DEBUG - <bound method StorableFunction._eval of <openpathsampling.experimental.simstore.storable_functions.StorableFunction object at 0x11465dc50>>\n"
     ]
    },
    {
     "data": {
      "text/plain": [
       "3.0"
      ]
     },
     "execution_count": 45,
     "metadata": {},
     "output_type": "execute_result"
    }
   ],
   "source": [
    "cv = StorableFunction(get_x, result_type='float')\n",
    "cv(snap)"
   ]
  },
  {
   "cell_type": "markdown",
   "metadata": {},
   "source": [
    "### Computer 1\n",
    "\n",
    "We mock the serialization and transfer over the network by doing a `to_dict`/`from_dict` cycle, which will create a new instance in memory with the same UUID."
   ]
  },
  {
   "cell_type": "code",
   "execution_count": 46,
   "metadata": {},
   "outputs": [],
   "source": [
    "cv_1 = StorableFunction.from_dict(cv.to_dict())\n",
    "set_uuid(cv_1, get_uuid(cv))"
   ]
  },
  {
   "cell_type": "code",
   "execution_count": 47,
   "metadata": {},
   "outputs": [
    {
     "name": "stdout",
     "output_type": "stream",
     "text": [
      "<openpathsampling.experimental.simstore.storable_functions.StorableFunction object at 0x11465dc50>\n",
      "<openpathsampling.experimental.simstore.storable_functions.StorableFunction object at 0x114549080>\n"
     ]
    }
   ],
   "source": [
    "print(\"\\n\".join([repr(cv), repr(cv_1)]))"
   ]
  },
  {
   "cell_type": "code",
   "execution_count": 48,
   "metadata": {},
   "outputs": [
    {
     "data": {
      "text/plain": [
       "{}"
      ]
     },
     "execution_count": 48,
     "metadata": {},
     "output_type": "execute_result"
    }
   ],
   "source": [
    "cv_1.local_cache.result_dict"
   ]
  },
  {
   "cell_type": "code",
   "execution_count": 49,
   "metadata": {},
   "outputs": [],
   "source": [
    "snap_1 = toys.Snapshot(coordinates=np.array([[4.0, 0.0]]))"
   ]
  },
  {
   "cell_type": "code",
   "execution_count": 50,
   "metadata": {},
   "outputs": [
    {
     "name": "stdout",
     "output_type": "stream",
     "text": [
      "2020-10-20 17:04:30,608 - openpathsampling.experimental.simstore.storable_functions - DEBUG - <bound method StorableFunction._get_cached of <openpathsampling.experimental.simstore.storable_functions.StorableFunction object at 0x114549080>>\n",
      "2020-10-20 17:04:30,612 - openpathsampling.experimental.simstore.storable_functions - DEBUG - <bound method StorableFunction._get_storage of <openpathsampling.experimental.simstore.storable_functions.StorableFunction object at 0x114549080>>\n",
      "2020-10-20 17:04:30,613 - openpathsampling.experimental.simstore.storable_functions - DEBUG - <bound method StorableFunction._eval of <openpathsampling.experimental.simstore.storable_functions.StorableFunction object at 0x114549080>>\n",
      "CPU times: user 4.61 ms, sys: 2.33 ms, total: 6.94 ms\n",
      "Wall time: 2.01 s\n"
     ]
    },
    {
     "data": {
      "text/plain": [
       "4.0"
      ]
     },
     "execution_count": 50,
     "metadata": {},
     "output_type": "execute_result"
    }
   ],
   "source": [
    "%%time\n",
    "cv_1(snap_1)"
   ]
  },
  {
   "cell_type": "code",
   "execution_count": 51,
   "metadata": {},
   "outputs": [
    {
     "data": {
      "text/plain": [
       "{'176170959556776523988076590496099598396': 4.0}"
      ]
     },
     "execution_count": 51,
     "metadata": {},
     "output_type": "execute_result"
    }
   ],
   "source": [
    "cv_1.local_cache.result_dict"
   ]
  },
  {
   "cell_type": "markdown",
   "metadata": {},
   "source": [
    "### Computer 2"
   ]
  },
  {
   "cell_type": "code",
   "execution_count": 52,
   "metadata": {},
   "outputs": [],
   "source": [
    "cv_2 = StorableFunction.from_dict(cv.to_dict())\n",
    "set_uuid(cv_2, get_uuid(cv))"
   ]
  },
  {
   "cell_type": "code",
   "execution_count": 53,
   "metadata": {},
   "outputs": [
    {
     "name": "stdout",
     "output_type": "stream",
     "text": [
      "<openpathsampling.experimental.simstore.storable_functions.StorableFunction object at 0x11465dc50>\n",
      "<openpathsampling.experimental.simstore.storable_functions.StorableFunction object at 0x114549080>\n",
      "<openpathsampling.experimental.simstore.storable_functions.StorableFunction object at 0x114699668>\n"
     ]
    }
   ],
   "source": [
    "print(\"\\n\".join([repr(cv), repr(cv_1), repr(cv_2)]))"
   ]
  },
  {
   "cell_type": "code",
   "execution_count": 54,
   "metadata": {},
   "outputs": [],
   "source": [
    "snap_2 = toys.Snapshot(coordinates=np.array([[5.0, 0.0]]))"
   ]
  },
  {
   "cell_type": "code",
   "execution_count": 55,
   "metadata": {},
   "outputs": [
    {
     "name": "stdout",
     "output_type": "stream",
     "text": [
      "2020-10-20 17:04:32,686 - openpathsampling.experimental.simstore.storable_functions - DEBUG - <bound method StorableFunction._get_cached of <openpathsampling.experimental.simstore.storable_functions.StorableFunction object at 0x114699668>>\n",
      "2020-10-20 17:04:32,692 - openpathsampling.experimental.simstore.storable_functions - DEBUG - <bound method StorableFunction._get_storage of <openpathsampling.experimental.simstore.storable_functions.StorableFunction object at 0x114699668>>\n",
      "2020-10-20 17:04:32,700 - openpathsampling.experimental.simstore.storable_functions - DEBUG - <bound method StorableFunction._eval of <openpathsampling.experimental.simstore.storable_functions.StorableFunction object at 0x114699668>>\n"
     ]
    },
    {
     "data": {
      "text/plain": [
       "5.0"
      ]
     },
     "execution_count": 55,
     "metadata": {},
     "output_type": "execute_result"
    }
   ],
   "source": [
    "cv_2(snap_2)"
   ]
  },
  {
   "cell_type": "code",
   "execution_count": 56,
   "metadata": {},
   "outputs": [
    {
     "data": {
      "text/plain": [
       "{'176170959556776523988076590496099598402': 5.0}"
      ]
     },
     "execution_count": 56,
     "metadata": {},
     "output_type": "execute_result"
    }
   ],
   "source": [
    "cv_2.local_cache.result_dict"
   ]
  },
  {
   "cell_type": "markdown",
   "metadata": {},
   "source": [
    "### Gather operation\n",
    "\n",
    "Note that for the real thing, we'll need to ensure that the serializers/deserializers (be they from `dask` or custom) correctly recreate the objects.\n",
    "\n",
    "Attention: The save command must be issued separately for each copy of the CV. This is because the CVs have the same UUID, and we use sets/dicts to combine repeats of the same UUID."
   ]
  },
  {
   "cell_type": "code",
   "execution_count": 57,
   "metadata": {},
   "outputs": [
    {
     "name": "stdout",
     "output_type": "stream",
     "text": [
      "2020-10-20 17:04:34,740 - openpathsampling.experimental.simstore.sql_backend - INFO - Add schema table uuid\n",
      "2020-10-20 17:04:34,742 - openpathsampling.experimental.simstore.sql_backend - INFO - Add schema table tables\n",
      "2020-10-20 17:04:34,757 - openpathsampling.experimental.simstore.sql_backend - INFO - Add schema table samples\n",
      "2020-10-20 17:04:34,793 - openpathsampling.experimental.simstore.sql_backend - INFO - Add schema table sample_sets\n",
      "2020-10-20 17:04:34,811 - openpathsampling.experimental.simstore.sql_backend - INFO - Add schema table trajectories\n",
      "2020-10-20 17:04:34,846 - openpathsampling.experimental.simstore.sql_backend - INFO - Add schema table move_changes\n",
      "2020-10-20 17:04:34,872 - openpathsampling.experimental.simstore.sql_backend - INFO - Add schema table steps\n",
      "2020-10-20 17:04:34,881 - openpathsampling.experimental.simstore.sql_backend - INFO - Add schema table details\n",
      "2020-10-20 17:04:34,949 - openpathsampling.experimental.simstore.sql_backend - INFO - Add schema table storable_functions\n",
      "2020-10-20 17:04:34,977 - openpathsampling.experimental.simstore.sql_backend - INFO - Add schema table simulation_objects\n",
      "2020-10-20 17:04:34,996 - openpathsampling.experimental.simstore.sql_backend - INFO - Add schema table storage_objects\n",
      "2020-10-20 17:04:35,054 - openpathsampling.experimental.simstore.storage - DEBUG - Starting to load 0 objects\n",
      "2020-10-20 17:04:35,056 - openpathsampling.experimental.simstore.storage - DEBUG - Getting internal structure of 0 non-cached objects\n",
      "2020-10-20 17:04:35,058 - openpathsampling.experimental.simstore.storage - DEBUG - Loading 0 objects; creating 0 lazy proxies\n",
      "2020-10-20 17:04:35,059 - openpathsampling.experimental.simstore.storage - DEBUG - Identifying classes for 0 lazy proxies\n",
      "2020-10-20 17:04:35,060 - openpathsampling.experimental.simstore.sql_backend - DEBUG - Looking for 0 UUIDs\n",
      "2020-10-20 17:04:35,062 - openpathsampling.experimental.simstore.sql_backend - DEBUG - New block of 0 UUIDs\n",
      "2020-10-20 17:04:35,068 - openpathsampling.experimental.simstore.sql_backend - DEBUG - Found 0 UUIDs\n",
      "2020-10-20 17:04:35,069 - openpathsampling.experimental.simstore.storage - DEBUG - Reconstructing from 0 objects\n"
     ]
    }
   ],
   "source": [
    "backend = SQLStorageBackend(\"test.sql\", mode='w')\n",
    "storage = Storage.from_backend(\n",
    "    backend=backend,\n",
    "    schema=ops_schema,\n",
    "    class_info=ops_class_info\n",
    ")"
   ]
  },
  {
   "cell_type": "code",
   "execution_count": 58,
   "metadata": {},
   "outputs": [
    {
     "name": "stdout",
     "output_type": "stream",
     "text": [
      "2020-10-20 17:04:35,076 - openpathsampling.experimental.simstore.storage - DEBUG - Starting save\n",
      "2020-10-20 17:04:35,078 - openpathsampling.experimental.simstore.sql_backend - DEBUG - Looking for 1 UUIDs\n",
      "2020-10-20 17:04:35,079 - openpathsampling.experimental.simstore.sql_backend - DEBUG - New block of 1 UUIDs\n",
      "2020-10-20 17:04:35,083 - openpathsampling.experimental.simstore.sql_backend - DEBUG - Found 0 UUIDs\n",
      "2020-10-20 17:04:35,084 - openpathsampling.experimental.simstore.storage - DEBUG - Listing all objects to save\n",
      "2020-10-20 17:04:35,087 - openpathsampling.experimental.simstore.storage - DEBUG - Checking if objects already exist in database\n",
      "2020-10-20 17:04:35,088 - openpathsampling.experimental.simstore.sql_backend - DEBUG - Looking for 2 UUIDs\n",
      "2020-10-20 17:04:35,089 - openpathsampling.experimental.simstore.sql_backend - DEBUG - New block of 2 UUIDs\n",
      "2020-10-20 17:04:35,093 - openpathsampling.experimental.simstore.sql_backend - DEBUG - Found 0 UUIDs\n",
      "2020-10-20 17:04:35,095 - openpathsampling.experimental.simstore.storage - INFO - Saving results from 1 storable functions\n",
      "2020-10-20 17:04:35,096 - openpathsampling.experimental.simstore.storable_functions - DEBUG - Registering new function: 176170959556776523988076590496099598388\n",
      "2020-10-20 17:04:35,097 - openpathsampling.experimental.simstore.sql_backend - INFO - Registering storable function: UUID: 176170959556776523988076590496099598388 (float)\n",
      "2020-10-20 17:04:35,106 - openpathsampling.experimental.simstore.sql_backend - DEBUG - Found 0 UUIDs\n",
      "2020-10-20 17:04:35,111 - openpathsampling.experimental.simstore.storage - DEBUG - Filling 1 tables: ['storable_functions']\n",
      "2020-10-20 17:04:35,114 - openpathsampling.experimental.simstore.storage - DEBUG - Storing 1 objects to table storable_functions\n",
      "2020-10-20 17:04:35,126 - openpathsampling.experimental.simstore.storage - DEBUG - Storing complete\n"
     ]
    }
   ],
   "source": [
    "storage.save([cv])"
   ]
  },
  {
   "cell_type": "code",
   "execution_count": 59,
   "metadata": {},
   "outputs": [
    {
     "name": "stdout",
     "output_type": "stream",
     "text": [
      "2020-10-20 17:04:35,133 - openpathsampling.experimental.simstore.storage - DEBUG - Starting save\n",
      "2020-10-20 17:04:35,134 - openpathsampling.experimental.simstore.sql_backend - DEBUG - Looking for 1 UUIDs\n",
      "2020-10-20 17:04:35,135 - openpathsampling.experimental.simstore.sql_backend - DEBUG - New block of 1 UUIDs\n",
      "2020-10-20 17:04:35,139 - openpathsampling.experimental.simstore.sql_backend - DEBUG - Found 1 UUIDs\n",
      "2020-10-20 17:04:35,140 - openpathsampling.experimental.simstore.storage - DEBUG - Listing all objects to save\n",
      "2020-10-20 17:04:35,141 - openpathsampling.experimental.simstore.storage - DEBUG - Checking if objects already exist in database\n",
      "2020-10-20 17:04:35,142 - openpathsampling.experimental.simstore.sql_backend - DEBUG - Looking for 1 UUIDs\n",
      "2020-10-20 17:04:35,143 - openpathsampling.experimental.simstore.sql_backend - DEBUG - New block of 1 UUIDs\n",
      "2020-10-20 17:04:35,147 - openpathsampling.experimental.simstore.sql_backend - DEBUG - Found 0 UUIDs\n",
      "2020-10-20 17:04:35,151 - openpathsampling.experimental.simstore.storage - INFO - Saving results from 1 storable functions\n",
      "2020-10-20 17:04:35,153 - openpathsampling.experimental.simstore.sql_backend - DEBUG - Found 0 UUIDs\n",
      "2020-10-20 17:04:35,166 - openpathsampling.experimental.simstore.storage - DEBUG - Filling 0 tables: []\n"
     ]
    }
   ],
   "source": [
    "storage.save([cv_1])"
   ]
  },
  {
   "cell_type": "code",
   "execution_count": 60,
   "metadata": {},
   "outputs": [
    {
     "name": "stdout",
     "output_type": "stream",
     "text": [
      "2020-10-20 17:04:35,177 - openpathsampling.experimental.simstore.storage - DEBUG - Starting save\n",
      "2020-10-20 17:04:35,183 - openpathsampling.experimental.simstore.sql_backend - DEBUG - Looking for 1 UUIDs\n",
      "2020-10-20 17:04:35,184 - openpathsampling.experimental.simstore.sql_backend - DEBUG - New block of 1 UUIDs\n",
      "2020-10-20 17:04:35,188 - openpathsampling.experimental.simstore.sql_backend - DEBUG - Found 1 UUIDs\n",
      "2020-10-20 17:04:35,190 - openpathsampling.experimental.simstore.storage - DEBUG - Listing all objects to save\n",
      "2020-10-20 17:04:35,191 - openpathsampling.experimental.simstore.storage - DEBUG - Checking if objects already exist in database\n",
      "2020-10-20 17:04:35,192 - openpathsampling.experimental.simstore.sql_backend - DEBUG - Looking for 1 UUIDs\n",
      "2020-10-20 17:04:35,193 - openpathsampling.experimental.simstore.sql_backend - DEBUG - New block of 1 UUIDs\n",
      "2020-10-20 17:04:35,196 - openpathsampling.experimental.simstore.sql_backend - DEBUG - Found 0 UUIDs\n",
      "2020-10-20 17:04:35,197 - openpathsampling.experimental.simstore.storage - INFO - Saving results from 1 storable functions\n",
      "2020-10-20 17:04:35,200 - openpathsampling.experimental.simstore.sql_backend - DEBUG - Found 0 UUIDs\n",
      "2020-10-20 17:04:35,208 - openpathsampling.experimental.simstore.storage - DEBUG - Filling 0 tables: []\n"
     ]
    }
   ],
   "source": [
    "storage.save([cv_2])"
   ]
  },
  {
   "cell_type": "code",
   "execution_count": 61,
   "metadata": {},
   "outputs": [
    {
     "data": {
      "text/plain": [
       "<openpathsampling.experimental.simstore.storable_functions.StorableFunction at 0x114699668>"
      ]
     },
     "execution_count": 61,
     "metadata": {},
     "output_type": "execute_result"
    }
   ],
   "source": [
    "cv_2.local_cache.parent"
   ]
  },
  {
   "cell_type": "code",
   "execution_count": 62,
   "metadata": {},
   "outputs": [
    {
     "data": {
      "text/plain": [
       "{'176170959556776523988076590496099598352': 3.0,\n",
       " '176170959556776523988076590496099598396': 4.0,\n",
       " '176170959556776523988076590496099598402': 5.0}"
      ]
     },
     "execution_count": 62,
     "metadata": {},
     "output_type": "execute_result"
    }
   ],
   "source": [
    "cv.local_cache.result_dict"
   ]
  },
  {
   "cell_type": "code",
   "execution_count": 63,
   "metadata": {},
   "outputs": [
    {
     "data": {
      "text/plain": [
       "{'176170959556776523988076590496099598388': <openpathsampling.experimental.simstore.storable_functions.StorableFunction at 0x11465dc50>}"
      ]
     },
     "execution_count": 63,
     "metadata": {},
     "output_type": "execute_result"
    }
   ],
   "source": [
    "storage._sf_handler.canonical_functions"
   ]
  },
  {
   "cell_type": "code",
   "execution_count": 64,
   "metadata": {},
   "outputs": [
    {
     "name": "stdout",
     "output_type": "stream",
     "text": [
      "176170959556776523988076590496099598388\n",
      "176170959556776523988076590496099598348\n",
      "176170959556776523988076590496099598388\n",
      "176170959556776523988076590496099598388\n"
     ]
    }
   ],
   "source": [
    "print(\"\\n\".join([str(getattr(obj, '__uuid__')) for obj in [cv, cv_reloaded, cv_1, cv_2]]))"
   ]
  },
  {
   "cell_type": "code",
   "execution_count": 65,
   "metadata": {},
   "outputs": [],
   "source": [
    "results = storage._sf_handler.canonical_functions[get_uuid(cv)].local_cache.result_dict"
   ]
  },
  {
   "cell_type": "code",
   "execution_count": 66,
   "metadata": {},
   "outputs": [],
   "source": [
    "assert len(results) == 3"
   ]
  },
  {
   "cell_type": "code",
   "execution_count": 67,
   "metadata": {},
   "outputs": [
    {
     "data": {
      "text/plain": [
       "{'176170959556776523988076590496099598352': 3.0,\n",
       " '176170959556776523988076590496099598396': 4.0,\n",
       " '176170959556776523988076590496099598402': 5.0}"
      ]
     },
     "execution_count": 67,
     "metadata": {},
     "output_type": "execute_result"
    }
   ],
   "source": [
    "results"
   ]
  },
  {
   "cell_type": "code",
   "execution_count": 68,
   "metadata": {},
   "outputs": [
    {
     "data": {
      "text/plain": [
       "defaultdict(list,\n",
       "            {'176170959556776523988076590496099598388': [<openpathsampling.experimental.simstore.storable_functions.StorableFunction at 0x11465dc50>,\n",
       "              <openpathsampling.experimental.simstore.storable_functions.StorableFunction at 0x114549080>,\n",
       "              <openpathsampling.experimental.simstore.storable_functions.StorableFunction at 0x114699668>]})"
      ]
     },
     "execution_count": 68,
     "metadata": {},
     "output_type": "execute_result"
    }
   ],
   "source": [
    "# should be Dict[str, List[StorableFunction]]\n",
    "# dict length 1; the single value in dict is list length 3\n",
    "storage._sf_handler.all_functions"
   ]
  },
  {
   "cell_type": "code",
   "execution_count": 69,
   "metadata": {},
   "outputs": [],
   "source": [
    "assert len(storage._sf_handler.all_functions) == 1\n",
    "assert len(list(storage._sf_handler.all_functions.values())[0]) == 3"
   ]
  },
  {
   "cell_type": "code",
   "execution_count": 70,
   "metadata": {},
   "outputs": [],
   "source": [
    "storage._sf_handler.clear_non_canonical()"
   ]
  },
  {
   "cell_type": "code",
   "execution_count": 71,
   "metadata": {},
   "outputs": [
    {
     "data": {
      "text/plain": [
       "defaultdict(list,\n",
       "            {'176170959556776523988076590496099598388': [<openpathsampling.experimental.simstore.storable_functions.StorableFunction at 0x11465dc50>]})"
      ]
     },
     "execution_count": 71,
     "metadata": {},
     "output_type": "execute_result"
    }
   ],
   "source": [
    "storage._sf_handler.all_functions"
   ]
  },
  {
   "cell_type": "code",
   "execution_count": 72,
   "metadata": {},
   "outputs": [],
   "source": [
    "assert len(storage._sf_handler.all_functions) == 1\n",
    "assert len(list(storage._sf_handler.all_functions.values())[0]) == 1"
   ]
  },
  {
   "cell_type": "code",
   "execution_count": null,
   "metadata": {},
   "outputs": [],
   "source": []
  }
 ],
 "metadata": {
  "kernelspec": {
   "display_name": "Python 3",
   "language": "python",
   "name": "python3"
  },
  "language_info": {
   "codemirror_mode": {
    "name": "ipython",
    "version": 3
   },
   "file_extension": ".py",
   "mimetype": "text/x-python",
   "name": "python",
   "nbconvert_exporter": "python",
   "pygments_lexer": "ipython3",
   "version": "3.7.3"
  },
  "toc": {
   "base_numbering": 1,
   "nav_menu": {},
   "number_sections": true,
   "sideBar": true,
   "skip_h1_title": true,
   "title_cell": "Table of Contents",
   "title_sidebar": "Contents",
   "toc_cell": false,
   "toc_position": {},
   "toc_section_display": true,
   "toc_window_display": true
  },
  "varInspector": {
   "cols": {
    "lenName": 16,
    "lenType": 16,
    "lenVar": 40
   },
   "kernels_config": {
    "python": {
     "delete_cmd_postfix": "",
     "delete_cmd_prefix": "del ",
     "library": "var_list.py",
     "varRefreshCmd": "print(var_dic_list())"
    },
    "r": {
     "delete_cmd_postfix": ") ",
     "delete_cmd_prefix": "rm(",
     "library": "var_list.r",
     "varRefreshCmd": "cat(var_dic_list()) "
    }
   },
   "types_to_exclude": [
    "module",
    "function",
    "builtin_function_or_method",
    "instance",
    "_Feature"
   ],
   "window_display": false
  }
 },
 "nbformat": 4,
 "nbformat_minor": 4
}
