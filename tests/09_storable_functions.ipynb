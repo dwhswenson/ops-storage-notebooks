{
 "cells": [
  {
   "cell_type": "code",
   "execution_count": 1,
   "metadata": {},
   "outputs": [],
   "source": [
    "from __future__ import print_function\n",
    "from openpathsampling.experimental.storage import Storage, ops_class_info, ops_schema\n",
    "from openpathsampling.experimental.simstore import SQLStorageBackend\n",
    "import numpy as np\n",
    "from openpathsampling.experimental.simstore.serialization_helpers import get_uuid, set_uuid\n",
    "\n",
    "import openpathsampling as paths\n",
    "\n",
    "import collections\n",
    "\n",
    "from openpathsampling.experimental.simstore.storable_functions import (\n",
    "    StorableFunction, StorageFunctionHandler\n",
    ")"
   ]
  },
  {
   "cell_type": "code",
   "execution_count": 2,
   "metadata": {},
   "outputs": [],
   "source": [
    "import logging\n",
    "import sys\n",
    "\n",
    "root = logging.getLogger()\n",
    "root.setLevel(logging.DEBUG)\n",
    "\n",
    "ch = logging.StreamHandler(sys.stdout)\n",
    "ch.setLevel(logging.DEBUG)\n",
    "formatter = logging.Formatter('%(asctime)s - %(name)s - %(levelname)s - %(message)s')\n",
    "ch.setFormatter(formatter)\n",
    "root.addHandler(ch)"
   ]
  },
  {
   "cell_type": "markdown",
   "metadata": {},
   "source": [
    "## Playing around with a storable function"
   ]
  },
  {
   "cell_type": "code",
   "execution_count": 3,
   "metadata": {},
   "outputs": [],
   "source": [
    "def get_x(snap):\n",
    "    from time import sleep\n",
    "    sleep(2)\n",
    "    return snap.xyz[0][0]"
   ]
  },
  {
   "cell_type": "code",
   "execution_count": 4,
   "metadata": {},
   "outputs": [],
   "source": [
    "cv = StorableFunction(get_x)"
   ]
  },
  {
   "cell_type": "code",
   "execution_count": 5,
   "metadata": {},
   "outputs": [],
   "source": [
    "import openpathsampling.engines.toy as toys\n",
    "snap = toys.Snapshot(coordinates=np.array([[3.0, 0.0]]))"
   ]
  },
  {
   "cell_type": "code",
   "execution_count": 6,
   "metadata": {},
   "outputs": [
    {
     "name": "stdout",
     "output_type": "stream",
     "text": [
      "2020-11-09 14:12:37,083 - openpathsampling.experimental.simstore.storable_functions - DEBUG - <bound method StorableFunction._get_cached of <openpathsampling.experimental.simstore.storable_functions.StorableFunction object at 0x7fa4e8fcaac8>>\n",
      "2020-11-09 14:12:37,085 - openpathsampling.experimental.simstore.storable_functions - DEBUG - <bound method StorableFunction._get_storage of <openpathsampling.experimental.simstore.storable_functions.StorableFunction object at 0x7fa4e8fcaac8>>\n",
      "2020-11-09 14:12:37,088 - openpathsampling.experimental.simstore.storable_functions - DEBUG - <bound method StorableFunction._eval of <openpathsampling.experimental.simstore.storable_functions.StorableFunction object at 0x7fa4e8fcaac8>>\n",
      "CPU times: user 6.21 ms, sys: 2.81 ms, total: 9.02 ms\n",
      "Wall time: 2.01 s\n"
     ]
    },
    {
     "data": {
      "text/plain": [
       "3.0"
      ]
     },
     "execution_count": 6,
     "metadata": {},
     "output_type": "execute_result"
    }
   ],
   "source": [
    "%%time\n",
    "cv(snap)"
   ]
  },
  {
   "cell_type": "code",
   "execution_count": 7,
   "metadata": {},
   "outputs": [
    {
     "name": "stdout",
     "output_type": "stream",
     "text": [
      "2020-11-09 14:12:39,120 - openpathsampling.experimental.simstore.storable_functions - DEBUG - <bound method StorableFunction._get_cached of <openpathsampling.experimental.simstore.storable_functions.StorableFunction object at 0x7fa4e8fcaac8>>\n",
      "CPU times: user 1.18 ms, sys: 906 µs, total: 2.08 ms\n",
      "Wall time: 1.51 ms\n"
     ]
    },
    {
     "data": {
      "text/plain": [
       "3.0"
      ]
     },
     "execution_count": 7,
     "metadata": {},
     "output_type": "execute_result"
    }
   ],
   "source": [
    "%%time\n",
    "cv(snap)"
   ]
  },
  {
   "cell_type": "markdown",
   "metadata": {},
   "source": [
    "## Manually registering storable function with SQL backend"
   ]
  },
  {
   "cell_type": "code",
   "execution_count": 8,
   "metadata": {
    "scrolled": true
   },
   "outputs": [
    {
     "name": "stdout",
     "output_type": "stream",
     "text": [
      "2020-11-09 14:12:39,157 - openpathsampling.experimental.simstore.sql_backend - INFO - Add schema table uuid\n",
      "2020-11-09 14:12:39,158 - openpathsampling.experimental.simstore.sql_backend - INFO - Add schema table tables\n",
      "2020-11-09 14:12:39,169 - openpathsampling.experimental.simstore.sql_backend - INFO - Add schema table samples\n",
      "2020-11-09 14:12:39,178 - openpathsampling.experimental.simstore.sql_backend - INFO - Add schema table sample_sets\n",
      "2020-11-09 14:12:39,183 - openpathsampling.experimental.simstore.sql_backend - INFO - Add schema table trajectories\n",
      "2020-11-09 14:12:39,190 - openpathsampling.experimental.simstore.sql_backend - INFO - Add schema table move_changes\n",
      "2020-11-09 14:12:39,201 - openpathsampling.experimental.simstore.sql_backend - INFO - Add schema table steps\n",
      "2020-11-09 14:12:39,208 - openpathsampling.experimental.simstore.sql_backend - INFO - Add schema table details\n",
      "2020-11-09 14:12:39,215 - openpathsampling.experimental.simstore.sql_backend - INFO - Add schema table storable_functions\n",
      "2020-11-09 14:12:39,224 - openpathsampling.experimental.simstore.sql_backend - INFO - Add schema table simulation_objects\n",
      "2020-11-09 14:12:39,230 - openpathsampling.experimental.simstore.sql_backend - INFO - Add schema table storage_objects\n",
      "2020-11-09 14:12:39,267 - openpathsampling.experimental.simstore.storage - DEBUG - Starting to load 0 objects\n",
      "2020-11-09 14:12:39,268 - openpathsampling.experimental.simstore.storage - DEBUG - Getting internal structure of 0 non-cached objects\n",
      "2020-11-09 14:12:39,269 - openpathsampling.experimental.simstore.storage - DEBUG - Loading 0 objects; creating 0 lazy proxies\n",
      "2020-11-09 14:12:39,270 - openpathsampling.experimental.simstore.storage - DEBUG - Identifying classes for 0 lazy proxies\n",
      "2020-11-09 14:12:39,271 - openpathsampling.experimental.simstore.sql_backend - DEBUG - Looking for 0 UUIDs\n",
      "2020-11-09 14:12:39,272 - openpathsampling.experimental.simstore.sql_backend - DEBUG - New block of 0 UUIDs\n",
      "2020-11-09 14:12:39,285 - openpathsampling.experimental.simstore.sql_backend - DEBUG - Found 0 UUIDs\n",
      "2020-11-09 14:12:39,286 - openpathsampling.experimental.simstore.storage - DEBUG - Reconstructing from 0 objects\n"
     ]
    }
   ],
   "source": [
    "backend = SQLStorageBackend(\"test.sql\", mode='w', echo=False)\n",
    "storage = Storage.from_backend(\n",
    "    backend=backend,\n",
    "    schema=ops_schema,\n",
    "    class_info=ops_class_info,\n",
    ")"
   ]
  },
  {
   "cell_type": "code",
   "execution_count": 9,
   "metadata": {},
   "outputs": [],
   "source": [
    "uuid = get_uuid(cv)"
   ]
  },
  {
   "cell_type": "code",
   "execution_count": 10,
   "metadata": {},
   "outputs": [
    {
     "name": "stdout",
     "output_type": "stream",
     "text": [
      "2020-11-09 14:12:39,307 - openpathsampling.experimental.simstore.storable_functions - DEBUG - <bound method StorableFunction._get_cached of <openpathsampling.experimental.simstore.storable_functions.StorableFunction object at 0x7fa4e8fcaac8>>\n"
     ]
    },
    {
     "data": {
      "text/plain": [
       "{'80100521955429081778427985284781047824': 3.0}"
      ]
     },
     "execution_count": 10,
     "metadata": {},
     "output_type": "execute_result"
    }
   ],
   "source": [
    "_ = cv(snap)\n",
    "cv.local_cache.result_dict"
   ]
  },
  {
   "cell_type": "code",
   "execution_count": 11,
   "metadata": {},
   "outputs": [
    {
     "name": "stdout",
     "output_type": "stream",
     "text": [
      "2020-11-09 14:12:39,320 - openpathsampling.experimental.simstore.sql_backend - INFO - Registering storable function: UUID: 80100521955429081778427985284781047820 (float)\n"
     ]
    }
   ],
   "source": [
    "backend.register_storable_function(table_name=uuid, result_type='float')"
   ]
  },
  {
   "cell_type": "code",
   "execution_count": 12,
   "metadata": {},
   "outputs": [
    {
     "name": "stdout",
     "output_type": "stream",
     "text": [
      "2020-11-09 14:12:39,412 - openpathsampling.experimental.simstore.sql_backend - DEBUG - Found 0 UUIDs\n"
     ]
    }
   ],
   "source": [
    "backend.add_storable_function_results(table_name=uuid,\n",
    "                                      result_dict=cv.local_cache.result_dict)"
   ]
  },
  {
   "cell_type": "code",
   "execution_count": 13,
   "metadata": {},
   "outputs": [
    {
     "name": "stdout",
     "output_type": "stream",
     "text": [
      "2020-11-09 14:12:39,433 - openpathsampling.experimental.simstore.sql_backend - DEBUG - Found 1 UUIDs\n"
     ]
    },
    {
     "data": {
      "text/plain": [
       "{'80100521955429081778427985284781047824': 3.0}"
      ]
     },
     "execution_count": 13,
     "metadata": {},
     "output_type": "execute_result"
    }
   ],
   "source": [
    "backend.load_storable_function_results(uuid, [get_uuid(snap)])"
   ]
  },
  {
   "cell_type": "code",
   "execution_count": 14,
   "metadata": {},
   "outputs": [
    {
     "data": {
      "text/plain": [
       "{'80100521955429081778427985284781047824': 3.0}"
      ]
     },
     "execution_count": 14,
     "metadata": {},
     "output_type": "execute_result"
    }
   ],
   "source": [
    "backend.load_storable_function_table(get_uuid(cv))"
   ]
  },
  {
   "cell_type": "markdown",
   "metadata": {},
   "source": [
    "## New backend; use storable func with storage\n",
    "\n",
    "This will be roughly the full integration."
   ]
  },
  {
   "cell_type": "code",
   "execution_count": 15,
   "metadata": {},
   "outputs": [
    {
     "name": "stdout",
     "output_type": "stream",
     "text": [
      "2020-11-09 14:12:39,467 - openpathsampling.experimental.simstore.sql_backend - INFO - Add schema table uuid\n",
      "2020-11-09 14:12:39,469 - openpathsampling.experimental.simstore.sql_backend - INFO - Add schema table tables\n",
      "2020-11-09 14:12:39,490 - openpathsampling.experimental.simstore.sql_backend - INFO - Add schema table samples\n",
      "2020-11-09 14:12:39,504 - openpathsampling.experimental.simstore.sql_backend - INFO - Add schema table sample_sets\n",
      "2020-11-09 14:12:39,534 - openpathsampling.experimental.simstore.sql_backend - INFO - Add schema table trajectories\n",
      "2020-11-09 14:12:39,571 - openpathsampling.experimental.simstore.sql_backend - INFO - Add schema table move_changes\n",
      "2020-11-09 14:12:39,585 - openpathsampling.experimental.simstore.sql_backend - INFO - Add schema table steps\n",
      "2020-11-09 14:12:39,596 - openpathsampling.experimental.simstore.sql_backend - INFO - Add schema table details\n",
      "2020-11-09 14:12:39,607 - openpathsampling.experimental.simstore.sql_backend - INFO - Add schema table storable_functions\n",
      "2020-11-09 14:12:39,619 - openpathsampling.experimental.simstore.sql_backend - INFO - Add schema table simulation_objects\n",
      "2020-11-09 14:12:39,628 - openpathsampling.experimental.simstore.sql_backend - INFO - Add schema table storage_objects\n",
      "2020-11-09 14:12:39,671 - openpathsampling.experimental.simstore.storage - DEBUG - Starting to load 0 objects\n",
      "2020-11-09 14:12:39,673 - openpathsampling.experimental.simstore.storage - DEBUG - Getting internal structure of 0 non-cached objects\n",
      "2020-11-09 14:12:39,674 - openpathsampling.experimental.simstore.storage - DEBUG - Loading 0 objects; creating 0 lazy proxies\n",
      "2020-11-09 14:12:39,676 - openpathsampling.experimental.simstore.storage - DEBUG - Identifying classes for 0 lazy proxies\n",
      "2020-11-09 14:12:39,679 - openpathsampling.experimental.simstore.sql_backend - DEBUG - Looking for 0 UUIDs\n",
      "2020-11-09 14:12:39,681 - openpathsampling.experimental.simstore.sql_backend - DEBUG - New block of 0 UUIDs\n",
      "2020-11-09 14:12:39,688 - openpathsampling.experimental.simstore.sql_backend - DEBUG - Found 0 UUIDs\n",
      "2020-11-09 14:12:39,694 - openpathsampling.experimental.simstore.storage - DEBUG - Reconstructing from 0 objects\n"
     ]
    }
   ],
   "source": [
    "backend = SQLStorageBackend(\"test.sql\", mode='w')\n",
    "storage = Storage.from_backend(\n",
    "    backend=backend,\n",
    "    schema=ops_schema,\n",
    "    class_info=ops_class_info\n",
    ")"
   ]
  },
  {
   "cell_type": "code",
   "execution_count": 16,
   "metadata": {},
   "outputs": [
    {
     "data": {
      "text/plain": [
       "('sqlite:///test.sql', 'w')"
      ]
     },
     "execution_count": 16,
     "metadata": {},
     "output_type": "execute_result"
    }
   ],
   "source": [
    "backend.identifier"
   ]
  },
  {
   "cell_type": "code",
   "execution_count": 17,
   "metadata": {
    "scrolled": false
   },
   "outputs": [
    {
     "name": "stdout",
     "output_type": "stream",
     "text": [
      "2020-11-09 14:12:39,774 - openpathsampling.experimental.simstore.storage - DEBUG - Starting save\n",
      "2020-11-09 14:12:39,781 - openpathsampling.experimental.simstore.sql_backend - DEBUG - Looking for 1 UUIDs\n",
      "2020-11-09 14:12:39,783 - openpathsampling.experimental.simstore.sql_backend - DEBUG - New block of 1 UUIDs\n",
      "2020-11-09 14:12:39,790 - openpathsampling.experimental.simstore.sql_backend - DEBUG - Found 0 UUIDs\n",
      "2020-11-09 14:12:39,792 - openpathsampling.experimental.simstore.storage - DEBUG - Listing all objects to save\n",
      "2020-11-09 14:12:39,801 - openpathsampling.experimental.simstore.storage - DEBUG - Checking if objects already exist in database\n",
      "2020-11-09 14:12:39,803 - openpathsampling.experimental.simstore.sql_backend - DEBUG - Looking for 2 UUIDs\n",
      "2020-11-09 14:12:39,809 - openpathsampling.experimental.simstore.sql_backend - DEBUG - New block of 2 UUIDs\n",
      "2020-11-09 14:12:39,816 - openpathsampling.experimental.simstore.sql_backend - DEBUG - Found 0 UUIDs\n",
      "2020-11-09 14:12:39,819 - openpathsampling.experimental.simstore.storage - INFO - Saving results from 1 storable functions\n",
      "2020-11-09 14:12:39,824 - openpathsampling.experimental.simstore.storable_functions - INFO - Result type unknown; unable to create table\n",
      "2020-11-09 14:12:39,826 - openpathsampling.experimental.simstore.storable_functions - DEBUG - Registering new function: 80100521955429081778427985284781047820\n",
      "2020-11-09 14:12:39,828 - openpathsampling.experimental.simstore.sql_backend - INFO - Registering storable function: UUID: 80100521955429081778427985284781047820 (float)\n",
      "2020-11-09 14:12:39,855 - openpathsampling.experimental.simstore.sql_backend - DEBUG - Found 0 UUIDs\n",
      "2020-11-09 14:12:39,860 - openpathsampling.experimental.simstore.storage - DEBUG - Filling 1 tables: ['storable_functions']\n",
      "2020-11-09 14:12:39,863 - openpathsampling.experimental.simstore.storage - DEBUG - Storing 1 objects to table storable_functions\n",
      "2020-11-09 14:12:39,875 - openpathsampling.experimental.simstore.storage - DEBUG - Storing complete\n"
     ]
    }
   ],
   "source": [
    "storage.save(cv)"
   ]
  },
  {
   "cell_type": "code",
   "execution_count": 18,
   "metadata": {},
   "outputs": [
    {
     "data": {
      "text/plain": [
       "[]"
      ]
     },
     "execution_count": 18,
     "metadata": {},
     "output_type": "execute_result"
    }
   ],
   "source": [
    "list(storage.simulation_objects)"
   ]
  },
  {
   "cell_type": "code",
   "execution_count": 19,
   "metadata": {},
   "outputs": [
    {
     "data": {
      "text/plain": [
       "dict_keys(['schema', 'metadata', 'uuid', 'tables', 'samples', 'sample_sets', 'trajectories', 'move_changes', 'steps', 'details', 'storable_functions', 'simulation_objects', 'storage_objects', '80100521955429081778427985284781047820'])"
      ]
     },
     "execution_count": 19,
     "metadata": {},
     "output_type": "execute_result"
    }
   ],
   "source": [
    "backend.metadata.tables.keys()"
   ]
  },
  {
   "cell_type": "code",
   "execution_count": 20,
   "metadata": {},
   "outputs": [
    {
     "data": {
      "text/plain": [
       "{'80100521955429081778427985284781047824': 3.0}"
      ]
     },
     "execution_count": 20,
     "metadata": {},
     "output_type": "execute_result"
    }
   ],
   "source": [
    "storage._sf_handler.functions[0].local_cache.result_dict"
   ]
  },
  {
   "cell_type": "code",
   "execution_count": 21,
   "metadata": {},
   "outputs": [
    {
     "name": "stdout",
     "output_type": "stream",
     "text": [
      "2020-11-09 14:12:39,953 - openpathsampling.experimental.simstore.sql_backend - DEBUG - Found 1 UUIDs\n"
     ]
    },
    {
     "data": {
      "text/plain": [
       "{'80100521955429081778427985284781047824': 3.0}"
      ]
     },
     "execution_count": 21,
     "metadata": {},
     "output_type": "execute_result"
    }
   ],
   "source": [
    "backend.load_storable_function_results(uuid, [get_uuid(snap)])"
   ]
  },
  {
   "cell_type": "code",
   "execution_count": 22,
   "metadata": {},
   "outputs": [],
   "source": [
    "storage.close()"
   ]
  },
  {
   "cell_type": "code",
   "execution_count": 23,
   "metadata": {},
   "outputs": [
    {
     "name": "stdout",
     "output_type": "stream",
     "text": [
      "2020-11-09 14:12:40,172 - openpathsampling.experimental.simstore.storage - INFO - Missing info from 0 dynamically-registered tables\n",
      "2020-11-09 14:12:40,174 - openpathsampling.experimental.storage.ops_storage - INFO - Found 0 possible lookups\n",
      "2020-11-09 14:12:40,176 - openpathsampling.experimental.storage.ops_storage - INFO - Lookups for tables: dict_keys([])\n",
      "2020-11-09 14:12:40,178 - openpathsampling.experimental.simstore.storage - INFO - Successfully registered 0 missing tables\n",
      "2020-11-09 14:12:40,192 - openpathsampling.experimental.simstore.storage - DEBUG - Starting to load 0 objects\n",
      "2020-11-09 14:12:40,193 - openpathsampling.experimental.simstore.storage - DEBUG - Getting internal structure of 0 non-cached objects\n",
      "2020-11-09 14:12:40,199 - openpathsampling.experimental.simstore.storage - DEBUG - Loading 0 objects; creating 0 lazy proxies\n",
      "2020-11-09 14:12:40,201 - openpathsampling.experimental.simstore.storage - DEBUG - Identifying classes for 0 lazy proxies\n",
      "2020-11-09 14:12:40,204 - openpathsampling.experimental.simstore.sql_backend - DEBUG - Looking for 0 UUIDs\n",
      "2020-11-09 14:12:40,206 - openpathsampling.experimental.simstore.sql_backend - DEBUG - New block of 0 UUIDs\n",
      "2020-11-09 14:12:40,210 - openpathsampling.experimental.simstore.sql_backend - DEBUG - Found 0 UUIDs\n",
      "2020-11-09 14:12:40,214 - openpathsampling.experimental.simstore.storage - DEBUG - Reconstructing from 0 objects\n"
     ]
    }
   ],
   "source": [
    "backend = SQLStorageBackend(\"test.sql\", mode='r')\n",
    "storage = Storage.from_backend(\n",
    "    backend=backend,\n",
    "    schema=ops_schema,\n",
    "    class_info=ops_class_info\n",
    ")"
   ]
  },
  {
   "cell_type": "code",
   "execution_count": 24,
   "metadata": {},
   "outputs": [
    {
     "name": "stdout",
     "output_type": "stream",
     "text": [
      "2020-11-09 14:12:40,236 - openpathsampling.experimental.simstore.storage - DEBUG - Starting to load 1 objects\n",
      "2020-11-09 14:12:40,239 - openpathsampling.experimental.simstore.storage - DEBUG - Getting internal structure of 1 non-cached objects\n",
      "2020-11-09 14:12:40,241 - openpathsampling.experimental.simstore.sql_backend - DEBUG - Looking for 1 UUIDs\n",
      "2020-11-09 14:12:40,246 - openpathsampling.experimental.simstore.sql_backend - DEBUG - New block of 1 UUIDs\n",
      "2020-11-09 14:12:40,253 - openpathsampling.experimental.simstore.sql_backend - DEBUG - Found 1 UUIDs\n",
      "2020-11-09 14:12:40,257 - openpathsampling.experimental.simstore.storage - DEBUG - Loading 1 objects; creating 0 lazy proxies\n",
      "2020-11-09 14:12:40,260 - openpathsampling.experimental.simstore.storage - DEBUG - Identifying classes for 0 lazy proxies\n",
      "2020-11-09 14:12:40,262 - openpathsampling.experimental.simstore.sql_backend - DEBUG - Looking for 0 UUIDs\n",
      "2020-11-09 14:12:40,265 - openpathsampling.experimental.simstore.sql_backend - DEBUG - New block of 0 UUIDs\n",
      "2020-11-09 14:12:40,272 - openpathsampling.experimental.simstore.sql_backend - DEBUG - Found 0 UUIDs\n",
      "2020-11-09 14:12:40,274 - openpathsampling.experimental.simstore.storage - DEBUG - Reconstructing from 1 objects\n",
      "2020-11-09 14:12:40,278 - openpathsampling.netcdfplus.base - DEBUG - Nameable object is renamed from `[StorableFunction]` to `[StorableFunction]`\n",
      "2020-11-09 14:12:40,279 - openpathsampling.experimental.simstore.storable_functions - DEBUG - Registering new function: 80100521955429081778427985284781047820\n"
     ]
    }
   ],
   "source": [
    "cv_reloaded = storage.load([get_uuid(cv)])[0]"
   ]
  },
  {
   "cell_type": "code",
   "execution_count": 25,
   "metadata": {},
   "outputs": [
    {
     "data": {
      "text/plain": [
       "{}"
      ]
     },
     "execution_count": 25,
     "metadata": {},
     "output_type": "execute_result"
    }
   ],
   "source": [
    "cv_reloaded.local_cache.result_dict"
   ]
  },
  {
   "cell_type": "code",
   "execution_count": 26,
   "metadata": {},
   "outputs": [
    {
     "data": {
      "text/plain": [
       "True"
      ]
     },
     "execution_count": 26,
     "metadata": {},
     "output_type": "execute_result"
    }
   ],
   "source": [
    "cv_reloaded.local_cache != cv.local_cache"
   ]
  },
  {
   "cell_type": "code",
   "execution_count": 27,
   "metadata": {},
   "outputs": [
    {
     "name": "stdout",
     "output_type": "stream",
     "text": [
      "2020-11-09 14:12:40,331 - openpathsampling.experimental.simstore.storable_functions - DEBUG - <bound method StorableFunction._get_cached of <openpathsampling.experimental.simstore.storable_functions.StorableFunction object at 0x7fa4e91255c0>>\n",
      "2020-11-09 14:12:40,334 - openpathsampling.experimental.simstore.storable_functions - DEBUG - <bound method StorableFunction._get_storage of <openpathsampling.experimental.simstore.storable_functions.StorableFunction object at 0x7fa4e91255c0>>\n",
      "2020-11-09 14:12:40,341 - openpathsampling.experimental.simstore.sql_backend - DEBUG - Found 1 UUIDs\n",
      "CPU times: user 6.26 ms, sys: 2.57 ms, total: 8.84 ms\n",
      "Wall time: 11.2 ms\n"
     ]
    },
    {
     "data": {
      "text/plain": [
       "3.0"
      ]
     },
     "execution_count": 27,
     "metadata": {},
     "output_type": "execute_result"
    }
   ],
   "source": [
    "%%time\n",
    "cv_reloaded.local_cache.clear()\n",
    "cv_reloaded(snap)"
   ]
  },
  {
   "cell_type": "code",
   "execution_count": 28,
   "metadata": {},
   "outputs": [],
   "source": [
    "# TODO: tests need a test of a bad load as well (missing should show up)"
   ]
  },
  {
   "cell_type": "code",
   "execution_count": 29,
   "metadata": {},
   "outputs": [],
   "source": [
    "cv_reloaded.local_cache.clear()\n",
    "cv_reloaded.preload_cache()"
   ]
  },
  {
   "cell_type": "code",
   "execution_count": 30,
   "metadata": {
    "scrolled": true
   },
   "outputs": [
    {
     "name": "stdout",
     "output_type": "stream",
     "text": [
      "2020-11-09 14:12:40,393 - openpathsampling.experimental.simstore.storable_functions - DEBUG - <bound method StorableFunction._get_cached of <openpathsampling.experimental.simstore.storable_functions.StorableFunction object at 0x7fa4e91255c0>>\n",
      "CPU times: user 1.34 ms, sys: 1.33 ms, total: 2.68 ms\n",
      "Wall time: 2.32 ms\n"
     ]
    },
    {
     "data": {
      "text/plain": [
       "3.0"
      ]
     },
     "execution_count": 30,
     "metadata": {},
     "output_type": "execute_result"
    }
   ],
   "source": [
    "%%time\n",
    "cv_reloaded(snap)"
   ]
  },
  {
   "cell_type": "markdown",
   "metadata": {},
   "source": [
    "## Store/load multiple values at once\n",
    "\n",
    "This checks that the backend is able to load multiple UUIDs at once"
   ]
  },
  {
   "cell_type": "code",
   "execution_count": 31,
   "metadata": {},
   "outputs": [
    {
     "name": "stdout",
     "output_type": "stream",
     "text": [
      "2020-11-09 14:12:40,430 - openpathsampling.experimental.simstore.sql_backend - INFO - Add schema table uuid\n",
      "2020-11-09 14:12:40,433 - openpathsampling.experimental.simstore.sql_backend - INFO - Add schema table tables\n",
      "2020-11-09 14:12:40,445 - openpathsampling.experimental.simstore.sql_backend - INFO - Add schema table samples\n",
      "2020-11-09 14:12:40,454 - openpathsampling.experimental.simstore.sql_backend - INFO - Add schema table sample_sets\n",
      "2020-11-09 14:12:40,464 - openpathsampling.experimental.simstore.sql_backend - INFO - Add schema table trajectories\n",
      "2020-11-09 14:12:40,476 - openpathsampling.experimental.simstore.sql_backend - INFO - Add schema table move_changes\n",
      "2020-11-09 14:12:40,487 - openpathsampling.experimental.simstore.sql_backend - INFO - Add schema table steps\n",
      "2020-11-09 14:12:40,495 - openpathsampling.experimental.simstore.sql_backend - INFO - Add schema table details\n",
      "2020-11-09 14:12:40,507 - openpathsampling.experimental.simstore.sql_backend - INFO - Add schema table storable_functions\n",
      "2020-11-09 14:12:40,520 - openpathsampling.experimental.simstore.sql_backend - INFO - Add schema table simulation_objects\n",
      "2020-11-09 14:12:40,536 - openpathsampling.experimental.simstore.sql_backend - INFO - Add schema table storage_objects\n",
      "2020-11-09 14:12:40,576 - openpathsampling.experimental.simstore.storage - DEBUG - Starting to load 0 objects\n",
      "2020-11-09 14:12:40,577 - openpathsampling.experimental.simstore.storage - DEBUG - Getting internal structure of 0 non-cached objects\n",
      "2020-11-09 14:12:40,580 - openpathsampling.experimental.simstore.storage - DEBUG - Loading 0 objects; creating 0 lazy proxies\n",
      "2020-11-09 14:12:40,583 - openpathsampling.experimental.simstore.storage - DEBUG - Identifying classes for 0 lazy proxies\n",
      "2020-11-09 14:12:40,584 - openpathsampling.experimental.simstore.sql_backend - DEBUG - Looking for 0 UUIDs\n",
      "2020-11-09 14:12:40,586 - openpathsampling.experimental.simstore.sql_backend - DEBUG - New block of 0 UUIDs\n",
      "2020-11-09 14:12:40,589 - openpathsampling.experimental.simstore.sql_backend - DEBUG - Found 0 UUIDs\n",
      "2020-11-09 14:12:40,591 - openpathsampling.experimental.simstore.storage - DEBUG - Reconstructing from 0 objects\n"
     ]
    }
   ],
   "source": [
    "backend = SQLStorageBackend(\"test.sql\", mode='w')\n",
    "storage = Storage.from_backend(\n",
    "    backend=backend,\n",
    "    schema=ops_schema,\n",
    "    class_info=ops_class_info\n",
    ")"
   ]
  },
  {
   "cell_type": "code",
   "execution_count": 32,
   "metadata": {},
   "outputs": [],
   "source": [
    "new_snap = toys.Snapshot(coordinates=np.array([[2.0, 0.0]]))"
   ]
  },
  {
   "cell_type": "code",
   "execution_count": 33,
   "metadata": {},
   "outputs": [
    {
     "name": "stdout",
     "output_type": "stream",
     "text": [
      "2020-11-09 14:12:40,649 - openpathsampling.experimental.simstore.storable_functions - DEBUG - <bound method StorableFunction._get_cached of <openpathsampling.experimental.simstore.storable_functions.StorableFunction object at 0x7fa4e8fcaac8>>\n",
      "2020-11-09 14:12:40,656 - openpathsampling.experimental.simstore.storable_functions - DEBUG - <bound method StorableFunction._get_storage of <openpathsampling.experimental.simstore.storable_functions.StorableFunction object at 0x7fa4e8fcaac8>>\n",
      "2020-11-09 14:12:40,659 - openpathsampling.experimental.simstore.storable_functions - DEBUG - <bound method StorableFunction._eval of <openpathsampling.experimental.simstore.storable_functions.StorableFunction object at 0x7fa4e8fcaac8>>\n",
      "CPU times: user 6.43 ms, sys: 3.06 ms, total: 9.5 ms\n",
      "Wall time: 4.02 s\n"
     ]
    },
    {
     "data": {
      "text/plain": [
       "[3.0, 2.0]"
      ]
     },
     "execution_count": 33,
     "metadata": {},
     "output_type": "execute_result"
    }
   ],
   "source": [
    "%%time\n",
    "cv.local_cache.clear()\n",
    "cv._handler = None\n",
    "cv([snap, new_snap])"
   ]
  },
  {
   "cell_type": "code",
   "execution_count": 34,
   "metadata": {},
   "outputs": [
    {
     "name": "stdout",
     "output_type": "stream",
     "text": [
      "2020-11-09 14:12:44,683 - openpathsampling.experimental.simstore.storable_functions - DEBUG - <bound method StorableFunction._get_cached of <openpathsampling.experimental.simstore.storable_functions.StorableFunction object at 0x7fa4e8fcaac8>>\n",
      "CPU times: user 1.32 ms, sys: 823 µs, total: 2.14 ms\n",
      "Wall time: 3.65 ms\n"
     ]
    },
    {
     "data": {
      "text/plain": [
       "[3.0, 2.0]"
      ]
     },
     "execution_count": 34,
     "metadata": {},
     "output_type": "execute_result"
    }
   ],
   "source": [
    "%%time\n",
    "# get using cache\n",
    "cv([snap, new_snap])"
   ]
  },
  {
   "cell_type": "code",
   "execution_count": 35,
   "metadata": {},
   "outputs": [
    {
     "name": "stdout",
     "output_type": "stream",
     "text": [
      "2020-11-09 14:12:44,697 - openpathsampling.experimental.simstore.storage - DEBUG - Starting save\n",
      "2020-11-09 14:12:44,705 - openpathsampling.experimental.simstore.sql_backend - DEBUG - Looking for 1 UUIDs\n",
      "2020-11-09 14:12:44,706 - openpathsampling.experimental.simstore.sql_backend - DEBUG - New block of 1 UUIDs\n",
      "2020-11-09 14:12:44,711 - openpathsampling.experimental.simstore.sql_backend - DEBUG - Found 0 UUIDs\n",
      "2020-11-09 14:12:44,733 - openpathsampling.experimental.simstore.storage - DEBUG - Listing all objects to save\n",
      "2020-11-09 14:12:44,739 - openpathsampling.experimental.simstore.storage - DEBUG - Checking if objects already exist in database\n",
      "2020-11-09 14:12:44,741 - openpathsampling.experimental.simstore.sql_backend - DEBUG - Looking for 2 UUIDs\n",
      "2020-11-09 14:12:44,742 - openpathsampling.experimental.simstore.sql_backend - DEBUG - New block of 2 UUIDs\n",
      "2020-11-09 14:12:44,749 - openpathsampling.experimental.simstore.sql_backend - DEBUG - Found 0 UUIDs\n",
      "2020-11-09 14:12:44,751 - openpathsampling.experimental.simstore.storage - INFO - Saving results from 1 storable functions\n",
      "2020-11-09 14:12:44,760 - openpathsampling.experimental.simstore.storable_functions - INFO - Result type unknown; unable to create table\n",
      "2020-11-09 14:12:44,762 - openpathsampling.experimental.simstore.storable_functions - DEBUG - Registering new function: 80100521955429081778427985284781047820\n",
      "2020-11-09 14:12:44,763 - openpathsampling.experimental.simstore.sql_backend - INFO - Registering storable function: UUID: 80100521955429081778427985284781047820 (float)\n",
      "2020-11-09 14:12:44,835 - openpathsampling.experimental.simstore.sql_backend - DEBUG - Found 0 UUIDs\n",
      "2020-11-09 14:12:44,842 - openpathsampling.experimental.simstore.storage - DEBUG - Filling 1 tables: ['storable_functions']\n",
      "2020-11-09 14:12:44,843 - openpathsampling.experimental.simstore.storage - DEBUG - Storing 1 objects to table storable_functions\n",
      "2020-11-09 14:12:44,859 - openpathsampling.experimental.simstore.storage - DEBUG - Storing complete\n"
     ]
    }
   ],
   "source": [
    "storage.save(cv)"
   ]
  },
  {
   "cell_type": "code",
   "execution_count": 36,
   "metadata": {},
   "outputs": [
    {
     "name": "stdout",
     "output_type": "stream",
     "text": [
      "2020-11-09 14:12:44,868 - openpathsampling.experimental.simstore.storable_functions - DEBUG - <bound method StorableFunction._get_cached of <openpathsampling.experimental.simstore.storable_functions.StorableFunction object at 0x7fa4e8fcaac8>>\n",
      "2020-11-09 14:12:44,871 - openpathsampling.experimental.simstore.storable_functions - DEBUG - <bound method StorableFunction._get_storage of <openpathsampling.experimental.simstore.storable_functions.StorableFunction object at 0x7fa4e8fcaac8>>\n",
      "2020-11-09 14:12:44,875 - openpathsampling.experimental.simstore.sql_backend - DEBUG - Found 2 UUIDs\n",
      "CPU times: user 5.77 ms, sys: 2.6 ms, total: 8.37 ms\n",
      "Wall time: 9.75 ms\n"
     ]
    },
    {
     "data": {
      "text/plain": [
       "[3.0, 2.0]"
      ]
     },
     "execution_count": 36,
     "metadata": {},
     "output_type": "execute_result"
    }
   ],
   "source": [
    "%%time\n",
    "# get using storage\n",
    "cv.local_cache.clear()\n",
    "cv([snap, new_snap])"
   ]
  },
  {
   "cell_type": "markdown",
   "metadata": {},
   "source": [
    "## Save multiple times\n",
    "\n",
    "The second time we save things, the `find_uuid` skips over the already-saved function. This means that we need another mechanism for storing mutable information (such as the `StorableFunctionResults`) to disk.\n",
    "\n",
    "This is part of what the `StorableFunctionHandler` manages. Since the handler contains the function, it can store things to disk with an update."
   ]
  },
  {
   "cell_type": "code",
   "execution_count": 37,
   "metadata": {},
   "outputs": [
    {
     "name": "stdout",
     "output_type": "stream",
     "text": [
      "2020-11-09 14:12:44,913 - openpathsampling.experimental.simstore.sql_backend - INFO - Add schema table uuid\n",
      "2020-11-09 14:12:44,916 - openpathsampling.experimental.simstore.sql_backend - INFO - Add schema table tables\n",
      "2020-11-09 14:12:44,941 - openpathsampling.experimental.simstore.sql_backend - INFO - Add schema table samples\n",
      "2020-11-09 14:12:44,962 - openpathsampling.experimental.simstore.sql_backend - INFO - Add schema table sample_sets\n",
      "2020-11-09 14:12:44,978 - openpathsampling.experimental.simstore.sql_backend - INFO - Add schema table trajectories\n",
      "2020-11-09 14:12:44,989 - openpathsampling.experimental.simstore.sql_backend - INFO - Add schema table move_changes\n",
      "2020-11-09 14:12:45,003 - openpathsampling.experimental.simstore.sql_backend - INFO - Add schema table steps\n",
      "2020-11-09 14:12:45,012 - openpathsampling.experimental.simstore.sql_backend - INFO - Add schema table details\n",
      "2020-11-09 14:12:45,024 - openpathsampling.experimental.simstore.sql_backend - INFO - Add schema table storable_functions\n",
      "2020-11-09 14:12:45,038 - openpathsampling.experimental.simstore.sql_backend - INFO - Add schema table simulation_objects\n",
      "2020-11-09 14:12:45,058 - openpathsampling.experimental.simstore.sql_backend - INFO - Add schema table storage_objects\n",
      "2020-11-09 14:12:45,088 - openpathsampling.experimental.simstore.storage - DEBUG - Starting to load 0 objects\n",
      "2020-11-09 14:12:45,089 - openpathsampling.experimental.simstore.storage - DEBUG - Getting internal structure of 0 non-cached objects\n",
      "2020-11-09 14:12:45,091 - openpathsampling.experimental.simstore.storage - DEBUG - Loading 0 objects; creating 0 lazy proxies\n",
      "2020-11-09 14:12:45,092 - openpathsampling.experimental.simstore.storage - DEBUG - Identifying classes for 0 lazy proxies\n",
      "2020-11-09 14:12:45,096 - openpathsampling.experimental.simstore.sql_backend - DEBUG - Looking for 0 UUIDs\n",
      "2020-11-09 14:12:45,098 - openpathsampling.experimental.simstore.sql_backend - DEBUG - New block of 0 UUIDs\n",
      "2020-11-09 14:12:45,101 - openpathsampling.experimental.simstore.sql_backend - DEBUG - Found 0 UUIDs\n",
      "2020-11-09 14:12:45,105 - openpathsampling.experimental.simstore.storage - DEBUG - Reconstructing from 0 objects\n",
      "2020-11-09 14:12:45,116 - openpathsampling.experimental.simstore.storable_functions - DEBUG - <bound method StorableFunction._get_cached of <openpathsampling.experimental.simstore.storable_functions.StorableFunction object at 0x7fa4e9125160>>\n",
      "2020-11-09 14:12:45,120 - openpathsampling.experimental.simstore.storable_functions - DEBUG - <bound method StorableFunction._get_storage of <openpathsampling.experimental.simstore.storable_functions.StorableFunction object at 0x7fa4e9125160>>\n",
      "2020-11-09 14:12:45,123 - openpathsampling.experimental.simstore.storable_functions - DEBUG - <bound method StorableFunction._eval of <openpathsampling.experimental.simstore.storable_functions.StorableFunction object at 0x7fa4e9125160>>\n",
      "2020-11-09 14:12:47,126 - openpathsampling.experimental.simstore.storage - DEBUG - Starting save\n",
      "2020-11-09 14:12:47,129 - openpathsampling.experimental.simstore.sql_backend - DEBUG - Looking for 1 UUIDs\n",
      "2020-11-09 14:12:47,138 - openpathsampling.experimental.simstore.sql_backend - DEBUG - New block of 1 UUIDs\n",
      "2020-11-09 14:12:47,143 - openpathsampling.experimental.simstore.sql_backend - DEBUG - Found 0 UUIDs\n",
      "2020-11-09 14:12:47,144 - openpathsampling.experimental.simstore.storage - DEBUG - Listing all objects to save\n",
      "2020-11-09 14:12:47,146 - openpathsampling.experimental.simstore.storage - DEBUG - Checking if objects already exist in database\n",
      "2020-11-09 14:12:47,158 - openpathsampling.experimental.simstore.sql_backend - DEBUG - Looking for 3 UUIDs\n",
      "2020-11-09 14:12:47,170 - openpathsampling.experimental.simstore.sql_backend - DEBUG - New block of 3 UUIDs\n",
      "2020-11-09 14:12:47,186 - openpathsampling.experimental.simstore.sql_backend - DEBUG - Found 0 UUIDs\n",
      "2020-11-09 14:12:47,188 - openpathsampling.experimental.simstore.storage - INFO - Saving results from 1 storable functions\n",
      "2020-11-09 14:12:47,189 - openpathsampling.experimental.simstore.storable_functions - INFO - Result type unknown; unable to create table\n",
      "2020-11-09 14:12:47,190 - openpathsampling.experimental.simstore.storable_functions - DEBUG - Registering new function: 80100521955429081778427985284781047852\n",
      "2020-11-09 14:12:47,191 - openpathsampling.experimental.simstore.sql_backend - INFO - Registering storable function: UUID: 80100521955429081778427985284781047852 (float)\n",
      "2020-11-09 14:12:47,206 - openpathsampling.experimental.simstore.sql_backend - DEBUG - Found 0 UUIDs\n",
      "2020-11-09 14:12:47,210 - openpathsampling.experimental.simstore.storage - DEBUG - Filling 2 tables: ['simulation_objects', 'storable_functions']\n",
      "2020-11-09 14:12:47,211 - openpathsampling.experimental.simstore.storage - DEBUG - Storing 1 objects to table simulation_objects\n",
      "2020-11-09 14:12:47,239 - openpathsampling.experimental.simstore.storage - DEBUG - Storing complete\n",
      "2020-11-09 14:12:47,240 - openpathsampling.experimental.simstore.storage - DEBUG - Storing 1 objects to table storable_functions\n",
      "2020-11-09 14:12:47,251 - openpathsampling.experimental.simstore.storage - DEBUG - Storing complete\n"
     ]
    }
   ],
   "source": [
    "backend = SQLStorageBackend(\"test.sql\", mode='w')\n",
    "storage = Storage.from_backend(\n",
    "    backend=backend,\n",
    "    schema=ops_schema,\n",
    "    class_info=ops_class_info\n",
    ")\n",
    "cv = StorableFunction(get_x)\n",
    "vol = paths.CVDefinedVolume(cv, lambda_min=0.0, lambda_max=1.0)\n",
    "cv(snap)\n",
    "storage.save(vol)"
   ]
  },
  {
   "cell_type": "code",
   "execution_count": 38,
   "metadata": {},
   "outputs": [
    {
     "name": "stdout",
     "output_type": "stream",
     "text": [
      "2020-11-09 14:12:47,261 - openpathsampling.experimental.simstore.storable_functions - DEBUG - <bound method StorableFunction._get_cached of <openpathsampling.experimental.simstore.storable_functions.StorableFunction object at 0x7fa4e9125160>>\n",
      "2020-11-09 14:12:47,262 - openpathsampling.experimental.simstore.storable_functions - DEBUG - <bound method StorableFunction._get_storage of <openpathsampling.experimental.simstore.storable_functions.StorableFunction object at 0x7fa4e9125160>>\n",
      "2020-11-09 14:12:47,268 - openpathsampling.experimental.simstore.sql_backend - DEBUG - Found 0 UUIDs\n",
      "2020-11-09 14:12:47,269 - openpathsampling.experimental.simstore.storable_functions - DEBUG - <bound method StorableFunction._eval of <openpathsampling.experimental.simstore.storable_functions.StorableFunction object at 0x7fa4e9125160>>\n"
     ]
    },
    {
     "data": {
      "text/plain": [
       "2.0"
      ]
     },
     "execution_count": 38,
     "metadata": {},
     "output_type": "execute_result"
    }
   ],
   "source": [
    "new_snap = toys.Snapshot(coordinates=np.array([[2.0, 0.0]]))\n",
    "cv(new_snap)"
   ]
  },
  {
   "cell_type": "code",
   "execution_count": 39,
   "metadata": {},
   "outputs": [
    {
     "data": {
      "text/plain": [
       "{'80100521955429081778427985284781047824': 3.0}"
      ]
     },
     "execution_count": 39,
     "metadata": {},
     "output_type": "execute_result"
    }
   ],
   "source": [
    "storage.backend.load_storable_function_table(get_uuid(cv))"
   ]
  },
  {
   "cell_type": "code",
   "execution_count": 40,
   "metadata": {},
   "outputs": [
    {
     "name": "stdout",
     "output_type": "stream",
     "text": [
      "2020-11-09 14:12:49,326 - openpathsampling.experimental.simstore.storage - DEBUG - Starting save\n",
      "2020-11-09 14:12:49,328 - openpathsampling.experimental.simstore.sql_backend - DEBUG - Looking for 1 UUIDs\n",
      "2020-11-09 14:12:49,330 - openpathsampling.experimental.simstore.sql_backend - DEBUG - New block of 1 UUIDs\n",
      "2020-11-09 14:12:49,350 - openpathsampling.experimental.simstore.sql_backend - DEBUG - Found 1 UUIDs\n"
     ]
    }
   ],
   "source": [
    "storage.save(vol)"
   ]
  },
  {
   "cell_type": "code",
   "execution_count": 41,
   "metadata": {},
   "outputs": [
    {
     "data": {
      "text/plain": [
       "{'80100521955429081778427985284781047824': 3.0}"
      ]
     },
     "execution_count": 41,
     "metadata": {},
     "output_type": "execute_result"
    }
   ],
   "source": [
    "storage.backend.load_storable_function_table(get_uuid(cv))"
   ]
  },
  {
   "cell_type": "code",
   "execution_count": 42,
   "metadata": {},
   "outputs": [
    {
     "name": "stdout",
     "output_type": "stream",
     "text": [
      "2020-11-09 14:12:49,427 - openpathsampling.experimental.simstore.sql_backend - DEBUG - Found 0 UUIDs\n"
     ]
    }
   ],
   "source": [
    "storage.save_function_results()"
   ]
  },
  {
   "cell_type": "code",
   "execution_count": 43,
   "metadata": {},
   "outputs": [
    {
     "data": {
      "text/plain": [
       "{'80100521955429081778427985284781047824': 3.0,\n",
       " '80100521955429081778427985284781047858': 2.0}"
      ]
     },
     "execution_count": 43,
     "metadata": {},
     "output_type": "execute_result"
    }
   ],
   "source": [
    "storage.backend.load_storable_function_table(get_uuid(cv))"
   ]
  },
  {
   "cell_type": "code",
   "execution_count": 44,
   "metadata": {},
   "outputs": [
    {
     "data": {
      "text/plain": [
       "{'80100521955429081778427985284781047824': 3.0,\n",
       " '80100521955429081778427985284781047858': 2.0}"
      ]
     },
     "execution_count": 44,
     "metadata": {},
     "output_type": "execute_result"
    }
   ],
   "source": [
    "list(storage._sf_handler.canonical_functions.values())[0].local_cache.result_dict"
   ]
  },
  {
   "cell_type": "markdown",
   "metadata": {},
   "source": [
    "## Mock of multiple computers creating and returning results"
   ]
  },
  {
   "cell_type": "code",
   "execution_count": 45,
   "metadata": {},
   "outputs": [
    {
     "name": "stdout",
     "output_type": "stream",
     "text": [
      "2020-11-09 14:12:49,467 - openpathsampling.experimental.simstore.storable_functions - DEBUG - <bound method StorableFunction._get_cached of <openpathsampling.experimental.simstore.storable_functions.StorableFunction object at 0x7fa4e91934a8>>\n",
      "2020-11-09 14:12:49,468 - openpathsampling.experimental.simstore.storable_functions - DEBUG - <bound method StorableFunction._get_storage of <openpathsampling.experimental.simstore.storable_functions.StorableFunction object at 0x7fa4e91934a8>>\n",
      "2020-11-09 14:12:49,469 - openpathsampling.experimental.simstore.storable_functions - DEBUG - <bound method StorableFunction._eval of <openpathsampling.experimental.simstore.storable_functions.StorableFunction object at 0x7fa4e91934a8>>\n"
     ]
    },
    {
     "data": {
      "text/plain": [
       "3.0"
      ]
     },
     "execution_count": 45,
     "metadata": {},
     "output_type": "execute_result"
    }
   ],
   "source": [
    "cv = StorableFunction(get_x)\n",
    "cv(snap)"
   ]
  },
  {
   "cell_type": "markdown",
   "metadata": {},
   "source": [
    "### Computer 1\n",
    "\n",
    "We mock the serialization and transfer over the network by doing a `to_dict`/`from_dict` cycle, which will create a new instance in memory with the same UUID."
   ]
  },
  {
   "cell_type": "code",
   "execution_count": 46,
   "metadata": {},
   "outputs": [],
   "source": [
    "cv_1 = StorableFunction.from_dict(cv.to_dict())\n",
    "set_uuid(cv_1, get_uuid(cv))"
   ]
  },
  {
   "cell_type": "code",
   "execution_count": 47,
   "metadata": {},
   "outputs": [
    {
     "name": "stdout",
     "output_type": "stream",
     "text": [
      "<openpathsampling.experimental.simstore.storable_functions.StorableFunction object at 0x7fa4e91934a8>\n",
      "<openpathsampling.experimental.simstore.storable_functions.StorableFunction object at 0x7fa4e917c748>\n"
     ]
    }
   ],
   "source": [
    "print(\"\\n\".join([repr(cv), repr(cv_1)]))"
   ]
  },
  {
   "cell_type": "code",
   "execution_count": 48,
   "metadata": {},
   "outputs": [
    {
     "data": {
      "text/plain": [
       "{}"
      ]
     },
     "execution_count": 48,
     "metadata": {},
     "output_type": "execute_result"
    }
   ],
   "source": [
    "cv_1.local_cache.result_dict"
   ]
  },
  {
   "cell_type": "code",
   "execution_count": 49,
   "metadata": {},
   "outputs": [],
   "source": [
    "snap_1 = toys.Snapshot(coordinates=np.array([[4.0, 0.0]]))"
   ]
  },
  {
   "cell_type": "code",
   "execution_count": 50,
   "metadata": {},
   "outputs": [
    {
     "name": "stdout",
     "output_type": "stream",
     "text": [
      "2020-11-09 14:12:51,570 - openpathsampling.experimental.simstore.storable_functions - DEBUG - <bound method StorableFunction._get_cached of <openpathsampling.experimental.simstore.storable_functions.StorableFunction object at 0x7fa4e917c748>>\n",
      "2020-11-09 14:12:51,573 - openpathsampling.experimental.simstore.storable_functions - DEBUG - <bound method StorableFunction._get_storage of <openpathsampling.experimental.simstore.storable_functions.StorableFunction object at 0x7fa4e917c748>>\n",
      "2020-11-09 14:12:51,575 - openpathsampling.experimental.simstore.storable_functions - DEBUG - <bound method StorableFunction._eval of <openpathsampling.experimental.simstore.storable_functions.StorableFunction object at 0x7fa4e917c748>>\n",
      "CPU times: user 4.5 ms, sys: 2.13 ms, total: 6.62 ms\n",
      "Wall time: 2.01 s\n"
     ]
    },
    {
     "data": {
      "text/plain": [
       "4.0"
      ]
     },
     "execution_count": 50,
     "metadata": {},
     "output_type": "execute_result"
    }
   ],
   "source": [
    "%%time\n",
    "cv_1(snap_1)"
   ]
  },
  {
   "cell_type": "code",
   "execution_count": 51,
   "metadata": {},
   "outputs": [
    {
     "data": {
      "text/plain": [
       "{'80100521955429081778427985284781047868': 4.0}"
      ]
     },
     "execution_count": 51,
     "metadata": {},
     "output_type": "execute_result"
    }
   ],
   "source": [
    "cv_1.local_cache.result_dict"
   ]
  },
  {
   "cell_type": "markdown",
   "metadata": {},
   "source": [
    "### Computer 2"
   ]
  },
  {
   "cell_type": "code",
   "execution_count": 52,
   "metadata": {},
   "outputs": [],
   "source": [
    "cv_2 = StorableFunction.from_dict(cv.to_dict())\n",
    "set_uuid(cv_2, get_uuid(cv))"
   ]
  },
  {
   "cell_type": "code",
   "execution_count": 53,
   "metadata": {},
   "outputs": [
    {
     "name": "stdout",
     "output_type": "stream",
     "text": [
      "<openpathsampling.experimental.simstore.storable_functions.StorableFunction object at 0x7fa4e91934a8>\n",
      "<openpathsampling.experimental.simstore.storable_functions.StorableFunction object at 0x7fa4e917c748>\n",
      "<openpathsampling.experimental.simstore.storable_functions.StorableFunction object at 0x7fa4e90ef048>\n"
     ]
    }
   ],
   "source": [
    "print(\"\\n\".join([repr(cv), repr(cv_1), repr(cv_2)]))"
   ]
  },
  {
   "cell_type": "code",
   "execution_count": 54,
   "metadata": {},
   "outputs": [],
   "source": [
    "snap_2 = toys.Snapshot(coordinates=np.array([[5.0, 0.0]]))"
   ]
  },
  {
   "cell_type": "code",
   "execution_count": 55,
   "metadata": {},
   "outputs": [
    {
     "name": "stdout",
     "output_type": "stream",
     "text": [
      "2020-11-09 14:12:53,693 - openpathsampling.experimental.simstore.storable_functions - DEBUG - <bound method StorableFunction._get_cached of <openpathsampling.experimental.simstore.storable_functions.StorableFunction object at 0x7fa4e90ef048>>\n",
      "2020-11-09 14:12:53,703 - openpathsampling.experimental.simstore.storable_functions - DEBUG - <bound method StorableFunction._get_storage of <openpathsampling.experimental.simstore.storable_functions.StorableFunction object at 0x7fa4e90ef048>>\n",
      "2020-11-09 14:12:53,705 - openpathsampling.experimental.simstore.storable_functions - DEBUG - <bound method StorableFunction._eval of <openpathsampling.experimental.simstore.storable_functions.StorableFunction object at 0x7fa4e90ef048>>\n"
     ]
    },
    {
     "data": {
      "text/plain": [
       "5.0"
      ]
     },
     "execution_count": 55,
     "metadata": {},
     "output_type": "execute_result"
    }
   ],
   "source": [
    "cv_2(snap_2)"
   ]
  },
  {
   "cell_type": "code",
   "execution_count": 56,
   "metadata": {},
   "outputs": [
    {
     "data": {
      "text/plain": [
       "{'80100521955429081778427985284781047874': 5.0}"
      ]
     },
     "execution_count": 56,
     "metadata": {},
     "output_type": "execute_result"
    }
   ],
   "source": [
    "cv_2.local_cache.result_dict"
   ]
  },
  {
   "cell_type": "markdown",
   "metadata": {},
   "source": [
    "### Gather operation\n",
    "\n",
    "Note that for the real thing, we'll need to ensure that the serializers/deserializers (be they from `dask` or custom) correctly recreate the objects.\n",
    "\n",
    "Attention: The save command must be issued separately for each copy of the CV. This is because the CVs have the same UUID, and we use sets/dicts to combine repeats of the same UUID."
   ]
  },
  {
   "cell_type": "code",
   "execution_count": 57,
   "metadata": {},
   "outputs": [
    {
     "name": "stdout",
     "output_type": "stream",
     "text": [
      "2020-11-09 14:12:55,745 - openpathsampling.experimental.simstore.sql_backend - INFO - Add schema table uuid\n",
      "2020-11-09 14:12:55,746 - openpathsampling.experimental.simstore.sql_backend - INFO - Add schema table tables\n",
      "2020-11-09 14:12:55,758 - openpathsampling.experimental.simstore.sql_backend - INFO - Add schema table samples\n",
      "2020-11-09 14:12:55,771 - openpathsampling.experimental.simstore.sql_backend - INFO - Add schema table sample_sets\n",
      "2020-11-09 14:12:55,779 - openpathsampling.experimental.simstore.sql_backend - INFO - Add schema table trajectories\n",
      "2020-11-09 14:12:55,786 - openpathsampling.experimental.simstore.sql_backend - INFO - Add schema table move_changes\n",
      "2020-11-09 14:12:55,795 - openpathsampling.experimental.simstore.sql_backend - INFO - Add schema table steps\n",
      "2020-11-09 14:12:55,803 - openpathsampling.experimental.simstore.sql_backend - INFO - Add schema table details\n",
      "2020-11-09 14:12:55,822 - openpathsampling.experimental.simstore.sql_backend - INFO - Add schema table storable_functions\n",
      "2020-11-09 14:12:55,832 - openpathsampling.experimental.simstore.sql_backend - INFO - Add schema table simulation_objects\n",
      "2020-11-09 14:12:55,845 - openpathsampling.experimental.simstore.sql_backend - INFO - Add schema table storage_objects\n",
      "2020-11-09 14:12:55,951 - openpathsampling.experimental.simstore.storage - DEBUG - Starting to load 0 objects\n",
      "2020-11-09 14:12:55,953 - openpathsampling.experimental.simstore.storage - DEBUG - Getting internal structure of 0 non-cached objects\n",
      "2020-11-09 14:12:55,953 - openpathsampling.experimental.simstore.storage - DEBUG - Loading 0 objects; creating 0 lazy proxies\n",
      "2020-11-09 14:12:55,955 - openpathsampling.experimental.simstore.storage - DEBUG - Identifying classes for 0 lazy proxies\n",
      "2020-11-09 14:12:55,962 - openpathsampling.experimental.simstore.sql_backend - DEBUG - Looking for 0 UUIDs\n",
      "2020-11-09 14:12:55,969 - openpathsampling.experimental.simstore.sql_backend - DEBUG - New block of 0 UUIDs\n",
      "2020-11-09 14:12:55,994 - openpathsampling.experimental.simstore.sql_backend - DEBUG - Found 0 UUIDs\n",
      "2020-11-09 14:12:55,995 - openpathsampling.experimental.simstore.storage - DEBUG - Reconstructing from 0 objects\n"
     ]
    }
   ],
   "source": [
    "backend = SQLStorageBackend(\"test.sql\", mode='w')\n",
    "storage = Storage.from_backend(\n",
    "    backend=backend,\n",
    "    schema=ops_schema,\n",
    "    class_info=ops_class_info\n",
    ")"
   ]
  },
  {
   "cell_type": "code",
   "execution_count": 58,
   "metadata": {},
   "outputs": [
    {
     "name": "stdout",
     "output_type": "stream",
     "text": [
      "2020-11-09 14:12:56,024 - openpathsampling.experimental.simstore.storage - DEBUG - Starting save\n",
      "2020-11-09 14:12:56,025 - openpathsampling.experimental.simstore.sql_backend - DEBUG - Looking for 1 UUIDs\n",
      "2020-11-09 14:12:56,026 - openpathsampling.experimental.simstore.sql_backend - DEBUG - New block of 1 UUIDs\n",
      "2020-11-09 14:12:56,030 - openpathsampling.experimental.simstore.sql_backend - DEBUG - Found 0 UUIDs\n",
      "2020-11-09 14:12:56,031 - openpathsampling.experimental.simstore.storage - DEBUG - Listing all objects to save\n",
      "2020-11-09 14:12:56,032 - openpathsampling.experimental.simstore.storage - DEBUG - Checking if objects already exist in database\n",
      "2020-11-09 14:12:56,032 - openpathsampling.experimental.simstore.sql_backend - DEBUG - Looking for 2 UUIDs\n",
      "2020-11-09 14:12:56,034 - openpathsampling.experimental.simstore.sql_backend - DEBUG - New block of 2 UUIDs\n",
      "2020-11-09 14:12:56,054 - openpathsampling.experimental.simstore.sql_backend - DEBUG - Found 0 UUIDs\n",
      "2020-11-09 14:12:56,056 - openpathsampling.experimental.simstore.storage - INFO - Saving results from 1 storable functions\n",
      "2020-11-09 14:12:56,058 - openpathsampling.experimental.simstore.storable_functions - INFO - Result type unknown; unable to create table\n",
      "2020-11-09 14:12:56,060 - openpathsampling.experimental.simstore.storable_functions - DEBUG - Registering new function: 80100521955429081778427985284781047860\n",
      "2020-11-09 14:12:56,062 - openpathsampling.experimental.simstore.sql_backend - INFO - Registering storable function: UUID: 80100521955429081778427985284781047860 (float)\n",
      "2020-11-09 14:12:56,098 - openpathsampling.experimental.simstore.sql_backend - DEBUG - Found 0 UUIDs\n",
      "2020-11-09 14:12:56,106 - openpathsampling.experimental.simstore.storage - DEBUG - Filling 1 tables: ['storable_functions']\n",
      "2020-11-09 14:12:56,107 - openpathsampling.experimental.simstore.storage - DEBUG - Storing 1 objects to table storable_functions\n",
      "2020-11-09 14:12:56,120 - openpathsampling.experimental.simstore.storage - DEBUG - Storing complete\n"
     ]
    }
   ],
   "source": [
    "storage.save([cv])"
   ]
  },
  {
   "cell_type": "code",
   "execution_count": 59,
   "metadata": {},
   "outputs": [
    {
     "name": "stdout",
     "output_type": "stream",
     "text": [
      "2020-11-09 14:12:56,133 - openpathsampling.experimental.simstore.storage - DEBUG - Starting save\n",
      "2020-11-09 14:12:56,134 - openpathsampling.experimental.simstore.sql_backend - DEBUG - Looking for 1 UUIDs\n",
      "2020-11-09 14:12:56,135 - openpathsampling.experimental.simstore.sql_backend - DEBUG - New block of 1 UUIDs\n",
      "2020-11-09 14:12:56,141 - openpathsampling.experimental.simstore.sql_backend - DEBUG - Found 1 UUIDs\n",
      "2020-11-09 14:12:56,143 - openpathsampling.experimental.simstore.storage - DEBUG - Listing all objects to save\n",
      "2020-11-09 14:12:56,144 - openpathsampling.experimental.simstore.storage - DEBUG - Checking if objects already exist in database\n",
      "2020-11-09 14:12:56,147 - openpathsampling.experimental.simstore.sql_backend - DEBUG - Looking for 1 UUIDs\n",
      "2020-11-09 14:12:56,150 - openpathsampling.experimental.simstore.sql_backend - DEBUG - New block of 1 UUIDs\n",
      "2020-11-09 14:12:56,160 - openpathsampling.experimental.simstore.sql_backend - DEBUG - Found 0 UUIDs\n",
      "2020-11-09 14:12:56,161 - openpathsampling.experimental.simstore.storage - INFO - Saving results from 1 storable functions\n",
      "2020-11-09 14:12:56,166 - openpathsampling.experimental.simstore.sql_backend - DEBUG - Found 0 UUIDs\n",
      "2020-11-09 14:12:56,176 - openpathsampling.experimental.simstore.storage - DEBUG - Filling 0 tables: []\n"
     ]
    }
   ],
   "source": [
    "storage.save([cv_1])"
   ]
  },
  {
   "cell_type": "code",
   "execution_count": 60,
   "metadata": {},
   "outputs": [
    {
     "name": "stdout",
     "output_type": "stream",
     "text": [
      "2020-11-09 14:12:56,193 - openpathsampling.experimental.simstore.storage - DEBUG - Starting save\n",
      "2020-11-09 14:12:56,197 - openpathsampling.experimental.simstore.sql_backend - DEBUG - Looking for 1 UUIDs\n",
      "2020-11-09 14:12:56,199 - openpathsampling.experimental.simstore.sql_backend - DEBUG - New block of 1 UUIDs\n",
      "2020-11-09 14:12:56,204 - openpathsampling.experimental.simstore.sql_backend - DEBUG - Found 1 UUIDs\n",
      "2020-11-09 14:12:56,206 - openpathsampling.experimental.simstore.storage - DEBUG - Listing all objects to save\n",
      "2020-11-09 14:12:56,208 - openpathsampling.experimental.simstore.storage - DEBUG - Checking if objects already exist in database\n",
      "2020-11-09 14:12:56,210 - openpathsampling.experimental.simstore.sql_backend - DEBUG - Looking for 1 UUIDs\n",
      "2020-11-09 14:12:56,211 - openpathsampling.experimental.simstore.sql_backend - DEBUG - New block of 1 UUIDs\n",
      "2020-11-09 14:12:56,215 - openpathsampling.experimental.simstore.sql_backend - DEBUG - Found 0 UUIDs\n",
      "2020-11-09 14:12:56,217 - openpathsampling.experimental.simstore.storage - INFO - Saving results from 1 storable functions\n",
      "2020-11-09 14:12:56,221 - openpathsampling.experimental.simstore.sql_backend - DEBUG - Found 0 UUIDs\n",
      "2020-11-09 14:12:56,227 - openpathsampling.experimental.simstore.storage - DEBUG - Filling 0 tables: []\n"
     ]
    }
   ],
   "source": [
    "storage.save([cv_2])"
   ]
  },
  {
   "cell_type": "code",
   "execution_count": 61,
   "metadata": {},
   "outputs": [
    {
     "data": {
      "text/plain": [
       "<openpathsampling.experimental.simstore.storable_functions.StorableFunction at 0x7fa4e90ef048>"
      ]
     },
     "execution_count": 61,
     "metadata": {},
     "output_type": "execute_result"
    }
   ],
   "source": [
    "cv_2.local_cache.parent"
   ]
  },
  {
   "cell_type": "code",
   "execution_count": 62,
   "metadata": {},
   "outputs": [
    {
     "data": {
      "text/plain": [
       "{'80100521955429081778427985284781047824': 3.0,\n",
       " '80100521955429081778427985284781047868': 4.0,\n",
       " '80100521955429081778427985284781047874': 5.0}"
      ]
     },
     "execution_count": 62,
     "metadata": {},
     "output_type": "execute_result"
    }
   ],
   "source": [
    "cv.local_cache.result_dict"
   ]
  },
  {
   "cell_type": "code",
   "execution_count": 63,
   "metadata": {},
   "outputs": [
    {
     "data": {
      "text/plain": [
       "{'80100521955429081778427985284781047860': <openpathsampling.experimental.simstore.storable_functions.StorableFunction at 0x7fa4e91934a8>}"
      ]
     },
     "execution_count": 63,
     "metadata": {},
     "output_type": "execute_result"
    }
   ],
   "source": [
    "storage._sf_handler.canonical_functions"
   ]
  },
  {
   "cell_type": "code",
   "execution_count": 64,
   "metadata": {},
   "outputs": [
    {
     "name": "stdout",
     "output_type": "stream",
     "text": [
      "80100521955429081778427985284781047860\n",
      "80100521955429081778427985284781047820\n",
      "80100521955429081778427985284781047860\n",
      "80100521955429081778427985284781047860\n"
     ]
    }
   ],
   "source": [
    "print(\"\\n\".join([str(getattr(obj, '__uuid__')) for obj in [cv, cv_reloaded, cv_1, cv_2]]))"
   ]
  },
  {
   "cell_type": "code",
   "execution_count": 65,
   "metadata": {},
   "outputs": [],
   "source": [
    "results = storage._sf_handler.canonical_functions[get_uuid(cv)].local_cache.result_dict"
   ]
  },
  {
   "cell_type": "code",
   "execution_count": 66,
   "metadata": {},
   "outputs": [],
   "source": [
    "assert len(results) == 3"
   ]
  },
  {
   "cell_type": "code",
   "execution_count": 67,
   "metadata": {},
   "outputs": [
    {
     "data": {
      "text/plain": [
       "{'80100521955429081778427985284781047824': 3.0,\n",
       " '80100521955429081778427985284781047868': 4.0,\n",
       " '80100521955429081778427985284781047874': 5.0}"
      ]
     },
     "execution_count": 67,
     "metadata": {},
     "output_type": "execute_result"
    }
   ],
   "source": [
    "results"
   ]
  },
  {
   "cell_type": "code",
   "execution_count": 68,
   "metadata": {},
   "outputs": [
    {
     "data": {
      "text/plain": [
       "defaultdict(list,\n",
       "            {'80100521955429081778427985284781047860': [<openpathsampling.experimental.simstore.storable_functions.StorableFunction at 0x7fa4e91934a8>,\n",
       "              <openpathsampling.experimental.simstore.storable_functions.StorableFunction at 0x7fa4e917c748>,\n",
       "              <openpathsampling.experimental.simstore.storable_functions.StorableFunction at 0x7fa4e90ef048>]})"
      ]
     },
     "execution_count": 68,
     "metadata": {},
     "output_type": "execute_result"
    }
   ],
   "source": [
    "# should be Dict[str, List[StorableFunction]]\n",
    "# dict length 1; the single value in dict is list length 3\n",
    "storage._sf_handler.all_functions"
   ]
  },
  {
   "cell_type": "code",
   "execution_count": 69,
   "metadata": {},
   "outputs": [],
   "source": [
    "assert len(storage._sf_handler.all_functions) == 1\n",
    "assert len(list(storage._sf_handler.all_functions.values())[0]) == 3"
   ]
  },
  {
   "cell_type": "code",
   "execution_count": 70,
   "metadata": {},
   "outputs": [],
   "source": [
    "storage._sf_handler.clear_non_canonical()"
   ]
  },
  {
   "cell_type": "code",
   "execution_count": 71,
   "metadata": {},
   "outputs": [
    {
     "data": {
      "text/plain": [
       "defaultdict(list,\n",
       "            {'80100521955429081778427985284781047860': [<openpathsampling.experimental.simstore.storable_functions.StorableFunction at 0x7fa4e91934a8>]})"
      ]
     },
     "execution_count": 71,
     "metadata": {},
     "output_type": "execute_result"
    }
   ],
   "source": [
    "storage._sf_handler.all_functions"
   ]
  },
  {
   "cell_type": "code",
   "execution_count": 72,
   "metadata": {},
   "outputs": [],
   "source": [
    "assert len(storage._sf_handler.all_functions) == 1\n",
    "assert len(list(storage._sf_handler.all_functions.values())[0]) == 1"
   ]
  },
  {
   "cell_type": "code",
   "execution_count": null,
   "metadata": {},
   "outputs": [],
   "source": []
  }
 ],
 "metadata": {
  "kernelspec": {
   "display_name": "Python 3",
   "language": "python",
   "name": "python3"
  },
  "language_info": {
   "codemirror_mode": {
    "name": "ipython",
    "version": 3
   },
   "file_extension": ".py",
   "mimetype": "text/x-python",
   "name": "python",
   "nbconvert_exporter": "python",
   "pygments_lexer": "ipython3",
   "version": "3.7.3"
  },
  "toc": {
   "base_numbering": 1,
   "nav_menu": {},
   "number_sections": true,
   "sideBar": true,
   "skip_h1_title": true,
   "title_cell": "Table of Contents",
   "title_sidebar": "Contents",
   "toc_cell": false,
   "toc_position": {},
   "toc_section_display": true,
   "toc_window_display": true
  },
  "varInspector": {
   "cols": {
    "lenName": 16,
    "lenType": 16,
    "lenVar": 40
   },
   "kernels_config": {
    "python": {
     "delete_cmd_postfix": "",
     "delete_cmd_prefix": "del ",
     "library": "var_list.py",
     "varRefreshCmd": "print(var_dic_list())"
    },
    "r": {
     "delete_cmd_postfix": ") ",
     "delete_cmd_prefix": "rm(",
     "library": "var_list.r",
     "varRefreshCmd": "cat(var_dic_list()) "
    }
   },
   "types_to_exclude": [
    "module",
    "function",
    "builtin_function_or_method",
    "instance",
    "_Feature"
   ],
   "window_display": false
  }
 },
 "nbformat": 4,
 "nbformat_minor": 4
}
