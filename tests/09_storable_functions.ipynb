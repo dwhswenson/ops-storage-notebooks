{
 "cells": [
  {
   "cell_type": "code",
   "execution_count": 1,
   "metadata": {},
   "outputs": [],
   "source": [
    "from __future__ import print_function\n",
    "from openpathsampling.experimental.storage import Storage, ops_class_info, ops_schema\n",
    "from openpathsampling.experimental.simstore import SQLStorageBackend\n",
    "import numpy as np\n",
    "from openpathsampling.experimental.simstore.serialization_helpers import get_uuid, set_uuid\n",
    "\n",
    "import openpathsampling as paths\n",
    "\n",
    "import collections\n",
    "\n",
    "from openpathsampling.experimental.simstore.storable_functions import (\n",
    "    StorableFunction, StorageFunctionHandler\n",
    ")"
   ]
  },
  {
   "cell_type": "code",
   "execution_count": 2,
   "metadata": {},
   "outputs": [],
   "source": [
    "import logging\n",
    "import sys\n",
    "\n",
    "root = logging.getLogger()\n",
    "root.setLevel(logging.DEBUG)\n",
    "\n",
    "ch = logging.StreamHandler(sys.stdout)\n",
    "ch.setLevel(logging.DEBUG)\n",
    "formatter = logging.Formatter('%(asctime)s - %(name)s - %(levelname)s - %(message)s')\n",
    "ch.setFormatter(formatter)\n",
    "root.addHandler(ch)"
   ]
  },
  {
   "cell_type": "markdown",
   "metadata": {},
   "source": [
    "## Playing around with a storable function"
   ]
  },
  {
   "cell_type": "code",
   "execution_count": 3,
   "metadata": {},
   "outputs": [],
   "source": [
    "def get_x(snap):\n",
    "    from time import sleep\n",
    "    sleep(2)\n",
    "    return snap.xyz[0][0]"
   ]
  },
  {
   "cell_type": "code",
   "execution_count": 4,
   "metadata": {},
   "outputs": [],
   "source": [
    "cv = StorableFunction(get_x)"
   ]
  },
  {
   "cell_type": "code",
   "execution_count": 5,
   "metadata": {},
   "outputs": [],
   "source": [
    "import openpathsampling.engines.toy as toys\n",
    "snap = toys.Snapshot(coordinates=np.array([[3.0, 0.0]]))"
   ]
  },
  {
   "cell_type": "code",
   "execution_count": 6,
   "metadata": {},
   "outputs": [
    {
     "name": "stdout",
     "output_type": "stream",
     "text": [
      "2021-07-22 12:05:33,445 - openpathsampling.experimental.simstore.storable_functions - DEBUG - <bound method StorableFunction._get_cached of <openpathsampling.experimental.simstore.storable_functions.StorableFunction object at 0x7f85df3c0750>>\n",
      "2021-07-22 12:05:33,452 - openpathsampling.experimental.simstore.storable_functions - DEBUG - <bound method StorableFunction._get_storage of <openpathsampling.experimental.simstore.storable_functions.StorableFunction object at 0x7f85df3c0750>>\n",
      "2021-07-22 12:05:33,454 - openpathsampling.experimental.simstore.storable_functions - DEBUG - <bound method StorableFunction._eval of <openpathsampling.experimental.simstore.storable_functions.StorableFunction object at 0x7f85df3c0750>>\n",
      "CPU times: user 5.06 ms, sys: 2.39 ms, total: 7.45 ms\n",
      "Wall time: 2.01 s\n"
     ]
    },
    {
     "data": {
      "text/plain": [
       "3.0"
      ]
     },
     "execution_count": 6,
     "metadata": {},
     "output_type": "execute_result"
    }
   ],
   "source": [
    "%%time\n",
    "cv(snap)"
   ]
  },
  {
   "cell_type": "code",
   "execution_count": 7,
   "metadata": {},
   "outputs": [
    {
     "name": "stdout",
     "output_type": "stream",
     "text": [
      "2021-07-22 12:05:35,477 - openpathsampling.experimental.simstore.storable_functions - DEBUG - <bound method StorableFunction._get_cached of <openpathsampling.experimental.simstore.storable_functions.StorableFunction object at 0x7f85df3c0750>>\n",
      "CPU times: user 1.29 ms, sys: 1.37 ms, total: 2.66 ms\n",
      "Wall time: 6.12 ms\n"
     ]
    },
    {
     "data": {
      "text/plain": [
       "3.0"
      ]
     },
     "execution_count": 7,
     "metadata": {},
     "output_type": "execute_result"
    }
   ],
   "source": [
    "%%time\n",
    "cv(snap)"
   ]
  },
  {
   "cell_type": "markdown",
   "metadata": {},
   "source": [
    "## Manually registering storable function with SQL backend"
   ]
  },
  {
   "cell_type": "code",
   "execution_count": 8,
   "metadata": {
    "scrolled": true
   },
   "outputs": [
    {
     "name": "stdout",
     "output_type": "stream",
     "text": [
      "2021-07-22 12:05:35,533 - openpathsampling.experimental.simstore.sql_backend - INFO - Add schema table uuid\n",
      "2021-07-22 12:05:35,535 - openpathsampling.experimental.simstore.sql_backend - INFO - Add schema table tables\n",
      "2021-07-22 12:05:35,537 - openpathsampling.experimental.simstore.sql_backend - INFO - Add schema table sfr_result_types\n",
      "2021-07-22 12:05:35,540 - openpathsampling.experimental.simstore.sql_backend - INFO - Add schema table tags\n",
      "2021-07-22 12:05:35,579 - openpathsampling.experimental.simstore.sql_backend - INFO - Add schema table samples\n",
      "2021-07-22 12:05:35,593 - openpathsampling.experimental.simstore.sql_backend - INFO - Add schema table sample_sets\n",
      "2021-07-22 12:05:35,608 - openpathsampling.experimental.simstore.sql_backend - INFO - Add schema table trajectories\n",
      "2021-07-22 12:05:35,619 - openpathsampling.experimental.simstore.sql_backend - INFO - Add schema table move_changes\n",
      "2021-07-22 12:05:35,631 - openpathsampling.experimental.simstore.sql_backend - INFO - Add schema table steps\n",
      "2021-07-22 12:05:35,665 - openpathsampling.experimental.simstore.sql_backend - INFO - Add schema table details\n",
      "2021-07-22 12:05:35,687 - openpathsampling.experimental.simstore.sql_backend - INFO - Add schema table storable_functions\n",
      "2021-07-22 12:05:35,708 - openpathsampling.experimental.simstore.sql_backend - INFO - Add schema table simulation_objects\n",
      "2021-07-22 12:05:35,718 - openpathsampling.experimental.simstore.sql_backend - INFO - Add schema table storage_objects\n",
      "2021-07-22 12:05:35,771 - openpathsampling.experimental.simstore.storage - DEBUG - Starting to load 0 objects\n",
      "2021-07-22 12:05:35,773 - openpathsampling.experimental.simstore.storage - DEBUG - Getting internal structure of 0 non-cached objects\n",
      "2021-07-22 12:05:35,774 - openpathsampling.experimental.simstore.storage - DEBUG - Loading 0 objects; creating 0 lazy proxies\n",
      "2021-07-22 12:05:35,776 - openpathsampling.experimental.simstore.storage - DEBUG - Identifying classes for 0 lazy proxies\n",
      "2021-07-22 12:05:35,777 - openpathsampling.experimental.simstore.sql_backend - DEBUG - Looking for 0 UUIDs\n",
      "2021-07-22 12:05:35,778 - openpathsampling.experimental.simstore.sql_backend - DEBUG - New block of 0 UUIDs\n",
      "2021-07-22 12:05:35,790 - openpathsampling.experimental.simstore.sql_backend - DEBUG - Found 0 UUIDs\n",
      "2021-07-22 12:05:35,792 - openpathsampling.experimental.simstore.storage - DEBUG - Reconstructing from 0 objects\n"
     ]
    }
   ],
   "source": [
    "backend = SQLStorageBackend(\"test.sql\", mode='w', echo=False)\n",
    "storage = Storage.from_backend(\n",
    "    backend=backend,\n",
    "    schema=ops_schema,\n",
    "    class_info=ops_class_info,\n",
    ")"
   ]
  },
  {
   "cell_type": "code",
   "execution_count": 9,
   "metadata": {},
   "outputs": [],
   "source": [
    "uuid = get_uuid(cv)"
   ]
  },
  {
   "cell_type": "code",
   "execution_count": 10,
   "metadata": {},
   "outputs": [
    {
     "name": "stdout",
     "output_type": "stream",
     "text": [
      "2021-07-22 12:05:35,855 - openpathsampling.experimental.simstore.storable_functions - DEBUG - <bound method StorableFunction._get_cached of <openpathsampling.experimental.simstore.storable_functions.StorableFunction object at 0x7f85df3c0750>>\n"
     ]
    },
    {
     "data": {
      "text/plain": [
       "{'218455970078904451893013535049010642960': 3.0}"
      ]
     },
     "execution_count": 10,
     "metadata": {},
     "output_type": "execute_result"
    }
   ],
   "source": [
    "_ = cv(snap)\n",
    "cv.local_cache.result_dict"
   ]
  },
  {
   "cell_type": "code",
   "execution_count": 11,
   "metadata": {},
   "outputs": [
    {
     "name": "stdout",
     "output_type": "stream",
     "text": [
      "2021-07-22 12:05:35,881 - openpathsampling.experimental.simstore.sql_backend - INFO - Registering storable function: UUID: 218455970078904451893013535049010642956 (float)\n"
     ]
    }
   ],
   "source": [
    "from openpathsampling.experimental.simstore.attribute_handlers import StandardHandler\n",
    "backend.serialization['float'] = StandardHandler('float')\n",
    "\n",
    "backend.register_storable_function(table_name=uuid, result_type='float')"
   ]
  },
  {
   "cell_type": "code",
   "execution_count": 12,
   "metadata": {},
   "outputs": [
    {
     "name": "stdout",
     "output_type": "stream",
     "text": [
      "2021-07-22 12:05:35,908 - openpathsampling.experimental.simstore.sql_backend - DEBUG - Found 0 UUIDs\n"
     ]
    }
   ],
   "source": [
    "backend.add_storable_function_results(table_name=uuid,\n",
    "                                      result_dict=cv.local_cache.result_dict)"
   ]
  },
  {
   "cell_type": "code",
   "execution_count": 13,
   "metadata": {},
   "outputs": [
    {
     "name": "stdout",
     "output_type": "stream",
     "text": [
      "2021-07-22 12:05:35,936 - openpathsampling.experimental.simstore.sql_backend - DEBUG - Found 1 UUIDs\n"
     ]
    },
    {
     "data": {
      "text/plain": [
       "{'218455970078904451893013535049010642960': 3.0}"
      ]
     },
     "execution_count": 13,
     "metadata": {},
     "output_type": "execute_result"
    }
   ],
   "source": [
    "backend.load_storable_function_results(uuid, [get_uuid(snap)])"
   ]
  },
  {
   "cell_type": "code",
   "execution_count": 14,
   "metadata": {},
   "outputs": [
    {
     "data": {
      "text/plain": [
       "{'218455970078904451893013535049010642960': 3.0}"
      ]
     },
     "execution_count": 14,
     "metadata": {},
     "output_type": "execute_result"
    }
   ],
   "source": [
    "backend.load_storable_function_table(get_uuid(cv))"
   ]
  },
  {
   "cell_type": "markdown",
   "metadata": {},
   "source": [
    "## New backend; use storable func with storage\n",
    "\n",
    "This will be roughly the full integration."
   ]
  },
  {
   "cell_type": "code",
   "execution_count": 15,
   "metadata": {},
   "outputs": [
    {
     "name": "stdout",
     "output_type": "stream",
     "text": [
      "2021-07-22 12:05:35,976 - openpathsampling.experimental.simstore.sql_backend - INFO - Add schema table uuid\n",
      "2021-07-22 12:05:35,978 - openpathsampling.experimental.simstore.sql_backend - INFO - Add schema table tables\n",
      "2021-07-22 12:05:35,982 - openpathsampling.experimental.simstore.sql_backend - INFO - Add schema table sfr_result_types\n",
      "2021-07-22 12:05:35,991 - openpathsampling.experimental.simstore.sql_backend - INFO - Add schema table tags\n",
      "2021-07-22 12:05:36,017 - openpathsampling.experimental.simstore.sql_backend - INFO - Add schema table samples\n",
      "2021-07-22 12:05:36,045 - openpathsampling.experimental.simstore.sql_backend - INFO - Add schema table sample_sets\n",
      "2021-07-22 12:05:36,061 - openpathsampling.experimental.simstore.sql_backend - INFO - Add schema table trajectories\n",
      "2021-07-22 12:05:36,072 - openpathsampling.experimental.simstore.sql_backend - INFO - Add schema table move_changes\n",
      "2021-07-22 12:05:36,089 - openpathsampling.experimental.simstore.sql_backend - INFO - Add schema table steps\n",
      "2021-07-22 12:05:36,097 - openpathsampling.experimental.simstore.sql_backend - INFO - Add schema table details\n",
      "2021-07-22 12:05:36,109 - openpathsampling.experimental.simstore.sql_backend - INFO - Add schema table storable_functions\n",
      "2021-07-22 12:05:36,117 - openpathsampling.experimental.simstore.sql_backend - INFO - Add schema table simulation_objects\n",
      "2021-07-22 12:05:36,130 - openpathsampling.experimental.simstore.sql_backend - INFO - Add schema table storage_objects\n",
      "2021-07-22 12:05:36,181 - openpathsampling.experimental.simstore.storage - DEBUG - Starting to load 0 objects\n",
      "2021-07-22 12:05:36,182 - openpathsampling.experimental.simstore.storage - DEBUG - Getting internal structure of 0 non-cached objects\n",
      "2021-07-22 12:05:36,186 - openpathsampling.experimental.simstore.storage - DEBUG - Loading 0 objects; creating 0 lazy proxies\n",
      "2021-07-22 12:05:36,187 - openpathsampling.experimental.simstore.storage - DEBUG - Identifying classes for 0 lazy proxies\n",
      "2021-07-22 12:05:36,188 - openpathsampling.experimental.simstore.sql_backend - DEBUG - Looking for 0 UUIDs\n",
      "2021-07-22 12:05:36,190 - openpathsampling.experimental.simstore.sql_backend - DEBUG - New block of 0 UUIDs\n",
      "2021-07-22 12:05:36,196 - openpathsampling.experimental.simstore.sql_backend - DEBUG - Found 0 UUIDs\n",
      "2021-07-22 12:05:36,198 - openpathsampling.experimental.simstore.storage - DEBUG - Reconstructing from 0 objects\n"
     ]
    }
   ],
   "source": [
    "backend = SQLStorageBackend(\"test.sql\", mode='w')\n",
    "storage = Storage.from_backend(\n",
    "    backend=backend,\n",
    "    schema=ops_schema,\n",
    "    class_info=ops_class_info\n",
    ")"
   ]
  },
  {
   "cell_type": "code",
   "execution_count": 16,
   "metadata": {},
   "outputs": [
    {
     "data": {
      "text/plain": [
       "('sqlite:///test.sql', 'w')"
      ]
     },
     "execution_count": 16,
     "metadata": {},
     "output_type": "execute_result"
    }
   ],
   "source": [
    "backend.identifier"
   ]
  },
  {
   "cell_type": "code",
   "execution_count": 17,
   "metadata": {
    "scrolled": false
   },
   "outputs": [
    {
     "name": "stdout",
     "output_type": "stream",
     "text": [
      "2021-07-22 12:05:36,250 - openpathsampling.experimental.simstore.storage - DEBUG - Starting save\n",
      "2021-07-22 12:05:36,257 - openpathsampling.experimental.simstore.sql_backend - DEBUG - Looking for 1 UUIDs\n",
      "2021-07-22 12:05:36,260 - openpathsampling.experimental.simstore.sql_backend - DEBUG - New block of 1 UUIDs\n",
      "2021-07-22 12:05:36,266 - openpathsampling.experimental.simstore.sql_backend - DEBUG - Found 0 UUIDs\n",
      "2021-07-22 12:05:36,268 - openpathsampling.experimental.simstore.storage - DEBUG - Listing all objects to save\n",
      "2021-07-22 12:05:36,271 - openpathsampling.experimental.simstore.storage - DEBUG - Found 2 objects\n",
      "2021-07-22 12:05:36,273 - openpathsampling.experimental.simstore.storage - DEBUG - Deproxying proxy objects\n",
      "2021-07-22 12:05:36,275 - openpathsampling.experimental.simstore.storage - DEBUG - Found 0 objects to deproxy\n",
      "2021-07-22 12:05:36,277 - openpathsampling.experimental.simstore.storage - DEBUG - Starting to load 0 objects\n",
      "2021-07-22 12:05:36,279 - openpathsampling.experimental.simstore.storage - DEBUG - Getting internal structure of 0 non-cached objects\n",
      "2021-07-22 12:05:36,283 - openpathsampling.experimental.simstore.storage - DEBUG - Loading 0 objects; creating 0 lazy proxies\n",
      "2021-07-22 12:05:36,285 - openpathsampling.experimental.simstore.storage - DEBUG - Identifying classes for 0 lazy proxies\n",
      "2021-07-22 12:05:36,289 - openpathsampling.experimental.simstore.sql_backend - DEBUG - Looking for 0 UUIDs\n",
      "2021-07-22 12:05:36,290 - openpathsampling.experimental.simstore.sql_backend - DEBUG - New block of 0 UUIDs\n",
      "2021-07-22 12:05:36,296 - openpathsampling.experimental.simstore.sql_backend - DEBUG - Found 0 UUIDs\n",
      "2021-07-22 12:05:36,298 - openpathsampling.experimental.simstore.storage - DEBUG - Reconstructing from 0 objects\n",
      "2021-07-22 12:05:36,301 - openpathsampling.experimental.simstore.storage - DEBUG - Checking if objects already exist in database\n",
      "2021-07-22 12:05:36,303 - openpathsampling.experimental.simstore.sql_backend - DEBUG - Looking for 2 UUIDs\n",
      "2021-07-22 12:05:36,304 - openpathsampling.experimental.simstore.sql_backend - DEBUG - New block of 2 UUIDs\n",
      "2021-07-22 12:05:36,309 - openpathsampling.experimental.simstore.sql_backend - DEBUG - Found 0 UUIDs\n",
      "2021-07-22 12:05:36,313 - openpathsampling.experimental.simstore.storage - INFO - Saving results from 1 storable functions\n",
      "2021-07-22 12:05:36,315 - openpathsampling.experimental.simstore.storable_functions - INFO - Result type unknown; unable to create table\n",
      "2021-07-22 12:05:36,318 - openpathsampling.experimental.simstore.storable_functions - DEBUG - Registering new function: 218455970078904451893013535049010642956\n",
      "2021-07-22 12:05:36,321 - openpathsampling.experimental.simstore.storable_functions - DEBUG - Result type: float\n",
      "2021-07-22 12:05:36,322 - openpathsampling.experimental.simstore.sql_backend - INFO - Registering storable function: UUID: 218455970078904451893013535049010642956 (float)\n",
      "2021-07-22 12:05:36,366 - openpathsampling.experimental.simstore.sql_backend - DEBUG - Found 0 UUIDs\n",
      "2021-07-22 12:05:36,373 - openpathsampling.experimental.simstore.storage - DEBUG - Filling 1 tables: ['storable_functions']\n",
      "2021-07-22 12:05:36,375 - openpathsampling.experimental.simstore.storage - DEBUG - Storing 1 objects to table storable_functions\n",
      "2021-07-22 12:05:36,389 - openpathsampling.experimental.simstore.storage - DEBUG - Storing complete\n"
     ]
    }
   ],
   "source": [
    "storage.save(cv)"
   ]
  },
  {
   "cell_type": "code",
   "execution_count": 18,
   "metadata": {},
   "outputs": [
    {
     "data": {
      "text/plain": [
       "[]"
      ]
     },
     "execution_count": 18,
     "metadata": {},
     "output_type": "execute_result"
    }
   ],
   "source": [
    "list(storage.simulation_objects)"
   ]
  },
  {
   "cell_type": "code",
   "execution_count": 19,
   "metadata": {},
   "outputs": [
    {
     "data": {
      "text/plain": [
       "dict_keys(['schema', 'metadata', 'uuid', 'tables', 'sfr_result_types', 'tags', 'samples', 'sample_sets', 'trajectories', 'move_changes', 'steps', 'details', 'storable_functions', 'simulation_objects', 'storage_objects', '218455970078904451893013535049010642956'])"
      ]
     },
     "execution_count": 19,
     "metadata": {},
     "output_type": "execute_result"
    }
   ],
   "source": [
    "backend.metadata.tables.keys()"
   ]
  },
  {
   "cell_type": "code",
   "execution_count": 20,
   "metadata": {},
   "outputs": [
    {
     "data": {
      "text/plain": [
       "{'218455970078904451893013535049010642960': 3.0}"
      ]
     },
     "execution_count": 20,
     "metadata": {},
     "output_type": "execute_result"
    }
   ],
   "source": [
    "storage._sf_handler.functions[0].local_cache.result_dict"
   ]
  },
  {
   "cell_type": "code",
   "execution_count": 21,
   "metadata": {},
   "outputs": [
    {
     "name": "stdout",
     "output_type": "stream",
     "text": [
      "2021-07-22 12:05:36,477 - openpathsampling.experimental.simstore.sql_backend - DEBUG - Found 1 UUIDs\n"
     ]
    },
    {
     "data": {
      "text/plain": [
       "{'218455970078904451893013535049010642960': 3.0}"
      ]
     },
     "execution_count": 21,
     "metadata": {},
     "output_type": "execute_result"
    }
   ],
   "source": [
    "backend.load_storable_function_results(uuid, [get_uuid(snap)])"
   ]
  },
  {
   "cell_type": "code",
   "execution_count": 22,
   "metadata": {},
   "outputs": [],
   "source": [
    "storage.close()"
   ]
  },
  {
   "cell_type": "code",
   "execution_count": 23,
   "metadata": {},
   "outputs": [
    {
     "name": "stdout",
     "output_type": "stream",
     "text": [
      "2021-07-22 12:05:36,614 - openpathsampling.experimental.simstore.storage - INFO - Missing info from 0 dynamically-registered tables\n",
      "2021-07-22 12:05:36,615 - openpathsampling.experimental.storage.ops_storage - INFO - Found 0 possible lookups\n",
      "2021-07-22 12:05:36,616 - openpathsampling.experimental.storage.ops_storage - INFO - Lookups for tables: dict_keys([])\n",
      "2021-07-22 12:05:36,629 - openpathsampling.experimental.simstore.storage - INFO - Successfully registered 0 missing tables\n",
      "2021-07-22 12:05:36,646 - openpathsampling.experimental.simstore.storage - DEBUG - Starting to load 1 objects\n",
      "2021-07-22 12:05:36,647 - openpathsampling.experimental.simstore.storage - DEBUG - Getting internal structure of 1 non-cached objects\n",
      "2021-07-22 12:05:36,648 - openpathsampling.experimental.simstore.sql_backend - DEBUG - Looking for 1 UUIDs\n",
      "2021-07-22 12:05:36,651 - openpathsampling.experimental.simstore.sql_backend - DEBUG - New block of 1 UUIDs\n",
      "2021-07-22 12:05:36,655 - openpathsampling.experimental.simstore.sql_backend - DEBUG - Found 1 UUIDs\n",
      "2021-07-22 12:05:36,658 - openpathsampling.experimental.simstore.storage - DEBUG - Loading 1 objects; creating 0 lazy proxies\n",
      "2021-07-22 12:05:36,659 - openpathsampling.experimental.simstore.storage - DEBUG - Identifying classes for 0 lazy proxies\n",
      "2021-07-22 12:05:36,660 - openpathsampling.experimental.simstore.sql_backend - DEBUG - Looking for 0 UUIDs\n",
      "2021-07-22 12:05:36,663 - openpathsampling.experimental.simstore.sql_backend - DEBUG - New block of 0 UUIDs\n",
      "2021-07-22 12:05:36,680 - openpathsampling.experimental.simstore.sql_backend - DEBUG - Found 0 UUIDs\n",
      "2021-07-22 12:05:36,688 - openpathsampling.experimental.simstore.storage - DEBUG - Reconstructing from 1 objects\n",
      "2021-07-22 12:05:36,692 - openpathsampling.experimental.simstore.storable_functions - DEBUG - Registering new function: 218455970078904451893013535049010642956\n",
      "2021-07-22 12:05:36,700 - openpathsampling.experimental.simstore.storage - DEBUG - Starting to load 1 objects\n",
      "2021-07-22 12:05:36,702 - openpathsampling.experimental.simstore.storage - DEBUG - Getting internal structure of 0 non-cached objects\n",
      "2021-07-22 12:05:36,704 - openpathsampling.experimental.simstore.storage - DEBUG - Loading 0 objects; creating 0 lazy proxies\n",
      "2021-07-22 12:05:36,706 - openpathsampling.experimental.simstore.storage - DEBUG - Identifying classes for 0 lazy proxies\n",
      "2021-07-22 12:05:36,708 - openpathsampling.experimental.simstore.sql_backend - DEBUG - Looking for 0 UUIDs\n",
      "2021-07-22 12:05:36,711 - openpathsampling.experimental.simstore.sql_backend - DEBUG - New block of 0 UUIDs\n",
      "2021-07-22 12:05:36,716 - openpathsampling.experimental.simstore.sql_backend - DEBUG - Found 0 UUIDs\n",
      "2021-07-22 12:05:36,722 - openpathsampling.experimental.simstore.storage - DEBUG - Reconstructing from 0 objects\n"
     ]
    }
   ],
   "source": [
    "backend = SQLStorageBackend(\"test.sql\", mode='r')\n",
    "storage = Storage.from_backend(\n",
    "    backend=backend,\n",
    "    schema=ops_schema,\n",
    "    class_info=ops_class_info\n",
    ")"
   ]
  },
  {
   "cell_type": "code",
   "execution_count": 24,
   "metadata": {},
   "outputs": [
    {
     "name": "stdout",
     "output_type": "stream",
     "text": [
      "2021-07-22 12:05:36,743 - openpathsampling.experimental.simstore.storage - DEBUG - Starting to load 1 objects\n",
      "2021-07-22 12:05:36,745 - openpathsampling.experimental.simstore.storage - DEBUG - Getting internal structure of 0 non-cached objects\n",
      "2021-07-22 12:05:36,748 - openpathsampling.experimental.simstore.storage - DEBUG - Loading 0 objects; creating 0 lazy proxies\n",
      "2021-07-22 12:05:36,750 - openpathsampling.experimental.simstore.storage - DEBUG - Identifying classes for 0 lazy proxies\n",
      "2021-07-22 12:05:36,752 - openpathsampling.experimental.simstore.sql_backend - DEBUG - Looking for 0 UUIDs\n",
      "2021-07-22 12:05:36,754 - openpathsampling.experimental.simstore.sql_backend - DEBUG - New block of 0 UUIDs\n",
      "2021-07-22 12:05:36,767 - openpathsampling.experimental.simstore.sql_backend - DEBUG - Found 0 UUIDs\n",
      "2021-07-22 12:05:36,768 - openpathsampling.experimental.simstore.storage - DEBUG - Reconstructing from 0 objects\n"
     ]
    }
   ],
   "source": [
    "cv_reloaded = storage.load([get_uuid(cv)])[0]"
   ]
  },
  {
   "cell_type": "code",
   "execution_count": 25,
   "metadata": {},
   "outputs": [
    {
     "data": {
      "text/plain": [
       "{}"
      ]
     },
     "execution_count": 25,
     "metadata": {},
     "output_type": "execute_result"
    }
   ],
   "source": [
    "cv_reloaded.local_cache.result_dict"
   ]
  },
  {
   "cell_type": "code",
   "execution_count": 26,
   "metadata": {},
   "outputs": [
    {
     "data": {
      "text/plain": [
       "True"
      ]
     },
     "execution_count": 26,
     "metadata": {},
     "output_type": "execute_result"
    }
   ],
   "source": [
    "cv_reloaded.local_cache != cv.local_cache"
   ]
  },
  {
   "cell_type": "code",
   "execution_count": 27,
   "metadata": {},
   "outputs": [
    {
     "name": "stdout",
     "output_type": "stream",
     "text": [
      "2021-07-22 12:05:36,806 - openpathsampling.experimental.simstore.storable_functions - DEBUG - <bound method StorableFunction._get_cached of <openpathsampling.experimental.simstore.storable_functions.StorableFunction object at 0x7f85df56c810>>\n",
      "2021-07-22 12:05:36,809 - openpathsampling.experimental.simstore.storable_functions - DEBUG - <bound method StorableFunction._get_storage of <openpathsampling.experimental.simstore.storable_functions.StorableFunction object at 0x7f85df56c810>>\n",
      "2021-07-22 12:05:36,821 - openpathsampling.experimental.simstore.sql_backend - DEBUG - Found 1 UUIDs\n",
      "CPU times: user 8.08 ms, sys: 2.91 ms, total: 11 ms\n",
      "Wall time: 15.8 ms\n"
     ]
    },
    {
     "data": {
      "text/plain": [
       "3.0"
      ]
     },
     "execution_count": 27,
     "metadata": {},
     "output_type": "execute_result"
    }
   ],
   "source": [
    "%%time\n",
    "cv_reloaded.local_cache.clear()\n",
    "cv_reloaded(snap)"
   ]
  },
  {
   "cell_type": "code",
   "execution_count": 28,
   "metadata": {},
   "outputs": [],
   "source": [
    "# TODO: tests need a test of a bad load as well (missing should show up)"
   ]
  },
  {
   "cell_type": "code",
   "execution_count": 29,
   "metadata": {},
   "outputs": [],
   "source": [
    "cv_reloaded.local_cache.clear()\n",
    "cv_reloaded.preload_cache()"
   ]
  },
  {
   "cell_type": "code",
   "execution_count": 30,
   "metadata": {
    "scrolled": true
   },
   "outputs": [
    {
     "name": "stdout",
     "output_type": "stream",
     "text": [
      "2021-07-22 12:05:36,872 - openpathsampling.experimental.simstore.storable_functions - DEBUG - <bound method StorableFunction._get_cached of <openpathsampling.experimental.simstore.storable_functions.StorableFunction object at 0x7f85df56c810>>\n",
      "CPU times: user 1.37 ms, sys: 1.47 ms, total: 2.84 ms\n",
      "Wall time: 2.84 ms\n"
     ]
    },
    {
     "data": {
      "text/plain": [
       "3.0"
      ]
     },
     "execution_count": 30,
     "metadata": {},
     "output_type": "execute_result"
    }
   ],
   "source": [
    "%%time\n",
    "cv_reloaded(snap)"
   ]
  },
  {
   "cell_type": "markdown",
   "metadata": {},
   "source": [
    "## Store/load multiple values at once\n",
    "\n",
    "This checks that the backend is able to load multiple UUIDs at once"
   ]
  },
  {
   "cell_type": "code",
   "execution_count": 31,
   "metadata": {},
   "outputs": [
    {
     "name": "stdout",
     "output_type": "stream",
     "text": [
      "2021-07-22 12:05:36,907 - openpathsampling.experimental.simstore.sql_backend - INFO - Add schema table uuid\n",
      "2021-07-22 12:05:36,908 - openpathsampling.experimental.simstore.sql_backend - INFO - Add schema table tables\n",
      "2021-07-22 12:05:36,910 - openpathsampling.experimental.simstore.sql_backend - INFO - Add schema table sfr_result_types\n",
      "2021-07-22 12:05:36,915 - openpathsampling.experimental.simstore.sql_backend - INFO - Add schema table tags\n",
      "2021-07-22 12:05:36,939 - openpathsampling.experimental.simstore.sql_backend - INFO - Add schema table samples\n",
      "2021-07-22 12:05:36,954 - openpathsampling.experimental.simstore.sql_backend - INFO - Add schema table sample_sets\n",
      "2021-07-22 12:05:36,961 - openpathsampling.experimental.simstore.sql_backend - INFO - Add schema table trajectories\n",
      "2021-07-22 12:05:36,969 - openpathsampling.experimental.simstore.sql_backend - INFO - Add schema table move_changes\n",
      "2021-07-22 12:05:36,977 - openpathsampling.experimental.simstore.sql_backend - INFO - Add schema table steps\n",
      "2021-07-22 12:05:37,013 - openpathsampling.experimental.simstore.sql_backend - INFO - Add schema table details\n",
      "2021-07-22 12:05:37,025 - openpathsampling.experimental.simstore.sql_backend - INFO - Add schema table storable_functions\n",
      "2021-07-22 12:05:37,061 - openpathsampling.experimental.simstore.sql_backend - INFO - Add schema table simulation_objects\n",
      "2021-07-22 12:05:37,073 - openpathsampling.experimental.simstore.sql_backend - INFO - Add schema table storage_objects\n",
      "2021-07-22 12:05:37,111 - openpathsampling.experimental.simstore.storage - DEBUG - Starting to load 0 objects\n",
      "2021-07-22 12:05:37,112 - openpathsampling.experimental.simstore.storage - DEBUG - Getting internal structure of 0 non-cached objects\n",
      "2021-07-22 12:05:37,117 - openpathsampling.experimental.simstore.storage - DEBUG - Loading 0 objects; creating 0 lazy proxies\n",
      "2021-07-22 12:05:37,124 - openpathsampling.experimental.simstore.storage - DEBUG - Identifying classes for 0 lazy proxies\n",
      "2021-07-22 12:05:37,128 - openpathsampling.experimental.simstore.sql_backend - DEBUG - Looking for 0 UUIDs\n",
      "2021-07-22 12:05:37,132 - openpathsampling.experimental.simstore.sql_backend - DEBUG - New block of 0 UUIDs\n",
      "2021-07-22 12:05:37,136 - openpathsampling.experimental.simstore.sql_backend - DEBUG - Found 0 UUIDs\n",
      "2021-07-22 12:05:37,141 - openpathsampling.experimental.simstore.storage - DEBUG - Reconstructing from 0 objects\n"
     ]
    }
   ],
   "source": [
    "backend = SQLStorageBackend(\"test.sql\", mode='w')\n",
    "storage = Storage.from_backend(\n",
    "    backend=backend,\n",
    "    schema=ops_schema,\n",
    "    class_info=ops_class_info\n",
    ")"
   ]
  },
  {
   "cell_type": "code",
   "execution_count": 32,
   "metadata": {},
   "outputs": [],
   "source": [
    "new_snap = toys.Snapshot(coordinates=np.array([[2.0, 0.0]]))"
   ]
  },
  {
   "cell_type": "code",
   "execution_count": 33,
   "metadata": {},
   "outputs": [
    {
     "name": "stdout",
     "output_type": "stream",
     "text": [
      "2021-07-22 12:05:37,188 - openpathsampling.experimental.simstore.storable_functions - DEBUG - <bound method StorableFunction._get_cached of <openpathsampling.experimental.simstore.storable_functions.StorableFunction object at 0x7f85df3c0750>>\n",
      "2021-07-22 12:05:37,190 - openpathsampling.experimental.simstore.storable_functions - DEBUG - <bound method StorableFunction._get_storage of <openpathsampling.experimental.simstore.storable_functions.StorableFunction object at 0x7f85df3c0750>>\n",
      "2021-07-22 12:05:37,191 - openpathsampling.experimental.simstore.storable_functions - DEBUG - <bound method StorableFunction._eval of <openpathsampling.experimental.simstore.storable_functions.StorableFunction object at 0x7f85df3c0750>>\n",
      "CPU times: user 5.2 ms, sys: 2.37 ms, total: 7.57 ms\n",
      "Wall time: 4.01 s\n"
     ]
    },
    {
     "data": {
      "text/plain": [
       "[3.0, 2.0]"
      ]
     },
     "execution_count": 33,
     "metadata": {},
     "output_type": "execute_result"
    }
   ],
   "source": [
    "%%time\n",
    "cv.local_cache.clear()\n",
    "cv._handler = None\n",
    "cv([snap, new_snap])"
   ]
  },
  {
   "cell_type": "code",
   "execution_count": 34,
   "metadata": {},
   "outputs": [
    {
     "name": "stdout",
     "output_type": "stream",
     "text": [
      "2021-07-22 12:05:41,211 - openpathsampling.experimental.simstore.storable_functions - DEBUG - <bound method StorableFunction._get_cached of <openpathsampling.experimental.simstore.storable_functions.StorableFunction object at 0x7f85df3c0750>>\n",
      "CPU times: user 1.31 ms, sys: 948 µs, total: 2.26 ms\n",
      "Wall time: 2.6 ms\n"
     ]
    },
    {
     "data": {
      "text/plain": [
       "[3.0, 2.0]"
      ]
     },
     "execution_count": 34,
     "metadata": {},
     "output_type": "execute_result"
    }
   ],
   "source": [
    "%%time\n",
    "# get using cache\n",
    "cv([snap, new_snap])"
   ]
  },
  {
   "cell_type": "code",
   "execution_count": 35,
   "metadata": {},
   "outputs": [
    {
     "name": "stdout",
     "output_type": "stream",
     "text": [
      "2021-07-22 12:05:41,223 - openpathsampling.experimental.simstore.storage - DEBUG - Starting save\n",
      "2021-07-22 12:05:41,230 - openpathsampling.experimental.simstore.sql_backend - DEBUG - Looking for 1 UUIDs\n",
      "2021-07-22 12:05:41,231 - openpathsampling.experimental.simstore.sql_backend - DEBUG - New block of 1 UUIDs\n",
      "2021-07-22 12:05:41,235 - openpathsampling.experimental.simstore.sql_backend - DEBUG - Found 0 UUIDs\n",
      "2021-07-22 12:05:41,251 - openpathsampling.experimental.simstore.storage - DEBUG - Listing all objects to save\n",
      "2021-07-22 12:05:41,256 - openpathsampling.experimental.simstore.storage - DEBUG - Found 2 objects\n",
      "2021-07-22 12:05:41,258 - openpathsampling.experimental.simstore.storage - DEBUG - Deproxying proxy objects\n",
      "2021-07-22 12:05:41,261 - openpathsampling.experimental.simstore.storage - DEBUG - Found 0 objects to deproxy\n",
      "2021-07-22 12:05:41,262 - openpathsampling.experimental.simstore.storage - DEBUG - Starting to load 0 objects\n",
      "2021-07-22 12:05:41,263 - openpathsampling.experimental.simstore.storage - DEBUG - Getting internal structure of 0 non-cached objects\n",
      "2021-07-22 12:05:41,264 - openpathsampling.experimental.simstore.storage - DEBUG - Loading 0 objects; creating 0 lazy proxies\n",
      "2021-07-22 12:05:41,265 - openpathsampling.experimental.simstore.storage - DEBUG - Identifying classes for 0 lazy proxies\n",
      "2021-07-22 12:05:41,266 - openpathsampling.experimental.simstore.sql_backend - DEBUG - Looking for 0 UUIDs\n",
      "2021-07-22 12:05:41,267 - openpathsampling.experimental.simstore.sql_backend - DEBUG - New block of 0 UUIDs\n",
      "2021-07-22 12:05:41,280 - openpathsampling.experimental.simstore.sql_backend - DEBUG - Found 0 UUIDs\n",
      "2021-07-22 12:05:41,298 - openpathsampling.experimental.simstore.storage - DEBUG - Reconstructing from 0 objects\n",
      "2021-07-22 12:05:41,323 - openpathsampling.experimental.simstore.storage - DEBUG - Checking if objects already exist in database\n",
      "2021-07-22 12:05:41,324 - openpathsampling.experimental.simstore.sql_backend - DEBUG - Looking for 2 UUIDs\n",
      "2021-07-22 12:05:41,327 - openpathsampling.experimental.simstore.sql_backend - DEBUG - New block of 2 UUIDs\n",
      "2021-07-22 12:05:41,349 - openpathsampling.experimental.simstore.sql_backend - DEBUG - Found 0 UUIDs\n",
      "2021-07-22 12:05:41,361 - openpathsampling.experimental.simstore.storage - INFO - Saving results from 1 storable functions\n",
      "2021-07-22 12:05:41,362 - openpathsampling.experimental.simstore.storable_functions - INFO - Result type unknown; unable to create table\n",
      "2021-07-22 12:05:41,363 - openpathsampling.experimental.simstore.storable_functions - DEBUG - Registering new function: 218455970078904451893013535049010642956\n",
      "2021-07-22 12:05:41,364 - openpathsampling.experimental.simstore.storable_functions - DEBUG - Result type: float\n",
      "2021-07-22 12:05:41,365 - openpathsampling.experimental.simstore.sql_backend - INFO - Registering storable function: UUID: 218455970078904451893013535049010642956 (float)\n",
      "2021-07-22 12:05:41,396 - openpathsampling.experimental.simstore.sql_backend - DEBUG - Found 0 UUIDs\n",
      "2021-07-22 12:05:41,401 - openpathsampling.experimental.simstore.storage - DEBUG - Filling 1 tables: ['storable_functions']\n",
      "2021-07-22 12:05:41,402 - openpathsampling.experimental.simstore.storage - DEBUG - Storing 1 objects to table storable_functions\n",
      "2021-07-22 12:05:41,416 - openpathsampling.experimental.simstore.storage - DEBUG - Storing complete\n"
     ]
    }
   ],
   "source": [
    "storage.save(cv)"
   ]
  },
  {
   "cell_type": "code",
   "execution_count": 36,
   "metadata": {},
   "outputs": [
    {
     "name": "stdout",
     "output_type": "stream",
     "text": [
      "2021-07-22 12:05:41,424 - openpathsampling.experimental.simstore.storable_functions - DEBUG - <bound method StorableFunction._get_cached of <openpathsampling.experimental.simstore.storable_functions.StorableFunction object at 0x7f85df3c0750>>\n",
      "2021-07-22 12:05:41,426 - openpathsampling.experimental.simstore.storable_functions - DEBUG - <bound method StorableFunction._get_storage of <openpathsampling.experimental.simstore.storable_functions.StorableFunction object at 0x7f85df3c0750>>\n",
      "2021-07-22 12:05:41,429 - openpathsampling.experimental.simstore.sql_backend - DEBUG - Found 2 UUIDs\n",
      "CPU times: user 4.67 ms, sys: 2.31 ms, total: 6.98 ms\n",
      "Wall time: 6.56 ms\n"
     ]
    },
    {
     "data": {
      "text/plain": [
       "[3.0, 2.0]"
      ]
     },
     "execution_count": 36,
     "metadata": {},
     "output_type": "execute_result"
    }
   ],
   "source": [
    "%%time\n",
    "# get using storage\n",
    "cv.local_cache.clear()\n",
    "cv([snap, new_snap])"
   ]
  },
  {
   "cell_type": "markdown",
   "metadata": {},
   "source": [
    "## Save multiple times\n",
    "\n",
    "The second time we save things, the `find_uuid` skips over the already-saved function. This means that we need another mechanism for storing mutable information (such as the `StorableFunctionResults`) to disk.\n",
    "\n",
    "This is part of what the `StorableFunctionHandler` manages. Since the handler contains the function, it can store things to disk with an update."
   ]
  },
  {
   "cell_type": "code",
   "execution_count": 37,
   "metadata": {},
   "outputs": [
    {
     "name": "stdout",
     "output_type": "stream",
     "text": [
      "2021-07-22 12:05:41,451 - openpathsampling.experimental.simstore.sql_backend - INFO - Add schema table uuid\n",
      "2021-07-22 12:05:41,453 - openpathsampling.experimental.simstore.sql_backend - INFO - Add schema table tables\n",
      "2021-07-22 12:05:41,456 - openpathsampling.experimental.simstore.sql_backend - INFO - Add schema table sfr_result_types\n",
      "2021-07-22 12:05:41,458 - openpathsampling.experimental.simstore.sql_backend - INFO - Add schema table tags\n",
      "2021-07-22 12:05:41,478 - openpathsampling.experimental.simstore.sql_backend - INFO - Add schema table samples\n",
      "2021-07-22 12:05:41,490 - openpathsampling.experimental.simstore.sql_backend - INFO - Add schema table sample_sets\n",
      "2021-07-22 12:05:41,512 - openpathsampling.experimental.simstore.sql_backend - INFO - Add schema table trajectories\n",
      "2021-07-22 12:05:41,531 - openpathsampling.experimental.simstore.sql_backend - INFO - Add schema table move_changes\n",
      "2021-07-22 12:05:41,540 - openpathsampling.experimental.simstore.sql_backend - INFO - Add schema table steps\n",
      "2021-07-22 12:05:41,549 - openpathsampling.experimental.simstore.sql_backend - INFO - Add schema table details\n",
      "2021-07-22 12:05:41,560 - openpathsampling.experimental.simstore.sql_backend - INFO - Add schema table storable_functions\n",
      "2021-07-22 12:05:41,567 - openpathsampling.experimental.simstore.sql_backend - INFO - Add schema table simulation_objects\n",
      "2021-07-22 12:05:41,583 - openpathsampling.experimental.simstore.sql_backend - INFO - Add schema table storage_objects\n",
      "2021-07-22 12:05:41,674 - openpathsampling.experimental.simstore.storage - DEBUG - Starting to load 0 objects\n",
      "2021-07-22 12:05:41,675 - openpathsampling.experimental.simstore.storage - DEBUG - Getting internal structure of 0 non-cached objects\n",
      "2021-07-22 12:05:41,677 - openpathsampling.experimental.simstore.storage - DEBUG - Loading 0 objects; creating 0 lazy proxies\n",
      "2021-07-22 12:05:41,678 - openpathsampling.experimental.simstore.storage - DEBUG - Identifying classes for 0 lazy proxies\n",
      "2021-07-22 12:05:41,680 - openpathsampling.experimental.simstore.sql_backend - DEBUG - Looking for 0 UUIDs\n",
      "2021-07-22 12:05:41,692 - openpathsampling.experimental.simstore.sql_backend - DEBUG - New block of 0 UUIDs\n",
      "2021-07-22 12:05:41,699 - openpathsampling.experimental.simstore.sql_backend - DEBUG - Found 0 UUIDs\n",
      "2021-07-22 12:05:41,702 - openpathsampling.experimental.simstore.storage - DEBUG - Reconstructing from 0 objects\n",
      "2021-07-22 12:05:41,720 - openpathsampling.experimental.simstore.storable_functions - DEBUG - <bound method StorableFunction._get_cached of <openpathsampling.experimental.simstore.storable_functions.StorableFunction object at 0x7f85df654d10>>\n",
      "2021-07-22 12:05:41,723 - openpathsampling.experimental.simstore.storable_functions - DEBUG - <bound method StorableFunction._get_storage of <openpathsampling.experimental.simstore.storable_functions.StorableFunction object at 0x7f85df654d10>>\n",
      "2021-07-22 12:05:41,726 - openpathsampling.experimental.simstore.storable_functions - DEBUG - <bound method StorableFunction._eval of <openpathsampling.experimental.simstore.storable_functions.StorableFunction object at 0x7f85df654d10>>\n",
      "2021-07-22 12:05:43,733 - openpathsampling.experimental.simstore.storage - DEBUG - Starting save\n",
      "2021-07-22 12:05:43,733 - openpathsampling.experimental.simstore.sql_backend - DEBUG - Looking for 1 UUIDs\n",
      "2021-07-22 12:05:43,734 - openpathsampling.experimental.simstore.sql_backend - DEBUG - New block of 1 UUIDs\n",
      "2021-07-22 12:05:43,737 - openpathsampling.experimental.simstore.sql_backend - DEBUG - Found 0 UUIDs\n",
      "2021-07-22 12:05:43,738 - openpathsampling.experimental.simstore.storage - DEBUG - Listing all objects to save\n",
      "2021-07-22 12:05:43,739 - openpathsampling.experimental.simstore.storage - DEBUG - Found 3 objects\n",
      "2021-07-22 12:05:43,741 - openpathsampling.experimental.simstore.storage - DEBUG - Deproxying proxy objects\n",
      "2021-07-22 12:05:43,742 - openpathsampling.experimental.simstore.storage - DEBUG - Found 0 objects to deproxy\n",
      "2021-07-22 12:05:43,743 - openpathsampling.experimental.simstore.storage - DEBUG - Starting to load 0 objects\n",
      "2021-07-22 12:05:43,744 - openpathsampling.experimental.simstore.storage - DEBUG - Getting internal structure of 0 non-cached objects\n",
      "2021-07-22 12:05:43,745 - openpathsampling.experimental.simstore.storage - DEBUG - Loading 0 objects; creating 0 lazy proxies\n",
      "2021-07-22 12:05:43,746 - openpathsampling.experimental.simstore.storage - DEBUG - Identifying classes for 0 lazy proxies\n",
      "2021-07-22 12:05:43,747 - openpathsampling.experimental.simstore.sql_backend - DEBUG - Looking for 0 UUIDs\n",
      "2021-07-22 12:05:43,747 - openpathsampling.experimental.simstore.sql_backend - DEBUG - New block of 0 UUIDs\n",
      "2021-07-22 12:05:43,752 - openpathsampling.experimental.simstore.sql_backend - DEBUG - Found 0 UUIDs\n",
      "2021-07-22 12:05:43,753 - openpathsampling.experimental.simstore.storage - DEBUG - Reconstructing from 0 objects\n",
      "2021-07-22 12:05:43,754 - openpathsampling.experimental.simstore.storage - DEBUG - Checking if objects already exist in database\n",
      "2021-07-22 12:05:43,755 - openpathsampling.experimental.simstore.sql_backend - DEBUG - Looking for 3 UUIDs\n",
      "2021-07-22 12:05:43,756 - openpathsampling.experimental.simstore.sql_backend - DEBUG - New block of 3 UUIDs\n",
      "2021-07-22 12:05:43,759 - openpathsampling.experimental.simstore.sql_backend - DEBUG - Found 0 UUIDs\n",
      "2021-07-22 12:05:43,761 - openpathsampling.experimental.simstore.storage - INFO - Saving results from 1 storable functions\n",
      "2021-07-22 12:05:43,762 - openpathsampling.experimental.simstore.storable_functions - INFO - Result type unknown; unable to create table\n",
      "2021-07-22 12:05:43,768 - openpathsampling.experimental.simstore.storable_functions - DEBUG - Registering new function: 218455970078904451893013535049010642988\n",
      "2021-07-22 12:05:43,783 - openpathsampling.experimental.simstore.storable_functions - DEBUG - Result type: float\n",
      "2021-07-22 12:05:43,802 - openpathsampling.experimental.simstore.sql_backend - INFO - Registering storable function: UUID: 218455970078904451893013535049010642988 (float)\n",
      "2021-07-22 12:05:43,838 - openpathsampling.experimental.simstore.sql_backend - DEBUG - Found 0 UUIDs\n",
      "2021-07-22 12:05:43,848 - openpathsampling.experimental.simstore.storage - DEBUG - Filling 2 tables: ['simulation_objects', 'storable_functions']\n",
      "2021-07-22 12:05:43,849 - openpathsampling.experimental.simstore.storage - DEBUG - Storing 1 objects to table simulation_objects\n",
      "2021-07-22 12:05:43,888 - openpathsampling.experimental.simstore.storage - DEBUG - Storing complete\n",
      "2021-07-22 12:05:43,889 - openpathsampling.experimental.simstore.storage - DEBUG - Storing 1 objects to table storable_functions\n",
      "2021-07-22 12:05:43,909 - openpathsampling.experimental.simstore.storage - DEBUG - Storing complete\n"
     ]
    }
   ],
   "source": [
    "backend = SQLStorageBackend(\"test.sql\", mode='w')\n",
    "storage = Storage.from_backend(\n",
    "    backend=backend,\n",
    "    schema=ops_schema,\n",
    "    class_info=ops_class_info\n",
    ")\n",
    "cv = StorableFunction(get_x)\n",
    "vol = paths.CVDefinedVolume(cv, lambda_min=0.0, lambda_max=1.0)\n",
    "cv(snap)\n",
    "storage.save(vol)"
   ]
  },
  {
   "cell_type": "code",
   "execution_count": 38,
   "metadata": {},
   "outputs": [
    {
     "name": "stdout",
     "output_type": "stream",
     "text": [
      "2021-07-22 12:05:43,917 - openpathsampling.experimental.simstore.storable_functions - DEBUG - <bound method StorableFunction._get_cached of <openpathsampling.experimental.simstore.storable_functions.StorableFunction object at 0x7f85df654d10>>\n",
      "2021-07-22 12:05:43,919 - openpathsampling.experimental.simstore.storable_functions - DEBUG - <bound method StorableFunction._get_storage of <openpathsampling.experimental.simstore.storable_functions.StorableFunction object at 0x7f85df654d10>>\n",
      "2021-07-22 12:05:43,958 - openpathsampling.experimental.simstore.sql_backend - DEBUG - Found 0 UUIDs\n",
      "2021-07-22 12:05:43,964 - openpathsampling.experimental.simstore.storable_functions - DEBUG - <bound method StorableFunction._eval of <openpathsampling.experimental.simstore.storable_functions.StorableFunction object at 0x7f85df654d10>>\n"
     ]
    },
    {
     "data": {
      "text/plain": [
       "2.0"
      ]
     },
     "execution_count": 38,
     "metadata": {},
     "output_type": "execute_result"
    }
   ],
   "source": [
    "new_snap = toys.Snapshot(coordinates=np.array([[2.0, 0.0]]))\n",
    "cv(new_snap)"
   ]
  },
  {
   "cell_type": "code",
   "execution_count": 39,
   "metadata": {},
   "outputs": [
    {
     "data": {
      "text/plain": [
       "{'218455970078904451893013535049010642960': 3.0}"
      ]
     },
     "execution_count": 39,
     "metadata": {},
     "output_type": "execute_result"
    }
   ],
   "source": [
    "storage.backend.load_storable_function_table(get_uuid(cv))"
   ]
  },
  {
   "cell_type": "code",
   "execution_count": 40,
   "metadata": {},
   "outputs": [
    {
     "name": "stdout",
     "output_type": "stream",
     "text": [
      "2021-07-22 12:05:45,997 - openpathsampling.experimental.simstore.storage - DEBUG - Starting save\n",
      "2021-07-22 12:05:46,001 - openpathsampling.experimental.simstore.sql_backend - DEBUG - Looking for 1 UUIDs\n",
      "2021-07-22 12:05:46,002 - openpathsampling.experimental.simstore.sql_backend - DEBUG - New block of 1 UUIDs\n",
      "2021-07-22 12:05:46,012 - openpathsampling.experimental.simstore.sql_backend - DEBUG - Found 1 UUIDs\n"
     ]
    }
   ],
   "source": [
    "storage.save(vol)"
   ]
  },
  {
   "cell_type": "code",
   "execution_count": 41,
   "metadata": {},
   "outputs": [
    {
     "data": {
      "text/plain": [
       "{'218455970078904451893013535049010642960': 3.0}"
      ]
     },
     "execution_count": 41,
     "metadata": {},
     "output_type": "execute_result"
    }
   ],
   "source": [
    "storage.backend.load_storable_function_table(get_uuid(cv))"
   ]
  },
  {
   "cell_type": "code",
   "execution_count": 42,
   "metadata": {},
   "outputs": [
    {
     "name": "stdout",
     "output_type": "stream",
     "text": [
      "2021-07-22 12:05:46,084 - openpathsampling.experimental.simstore.sql_backend - DEBUG - Found 0 UUIDs\n"
     ]
    }
   ],
   "source": [
    "storage.save_function_results()"
   ]
  },
  {
   "cell_type": "code",
   "execution_count": 43,
   "metadata": {},
   "outputs": [
    {
     "data": {
      "text/plain": [
       "{'218455970078904451893013535049010642960': 3.0,\n",
       " '218455970078904451893013535049010642994': 2.0}"
      ]
     },
     "execution_count": 43,
     "metadata": {},
     "output_type": "execute_result"
    }
   ],
   "source": [
    "storage.backend.load_storable_function_table(get_uuid(cv))"
   ]
  },
  {
   "cell_type": "code",
   "execution_count": 44,
   "metadata": {},
   "outputs": [
    {
     "data": {
      "text/plain": [
       "{'218455970078904451893013535049010642960': 3.0,\n",
       " '218455970078904451893013535049010642994': 2.0}"
      ]
     },
     "execution_count": 44,
     "metadata": {},
     "output_type": "execute_result"
    }
   ],
   "source": [
    "list(storage._sf_handler.canonical_functions.values())[0].local_cache.result_dict"
   ]
  },
  {
   "cell_type": "markdown",
   "metadata": {},
   "source": [
    "## Mock of multiple computers creating and returning results"
   ]
  },
  {
   "cell_type": "code",
   "execution_count": 45,
   "metadata": {},
   "outputs": [
    {
     "name": "stdout",
     "output_type": "stream",
     "text": [
      "2021-07-22 12:05:46,178 - openpathsampling.experimental.simstore.storable_functions - DEBUG - <bound method StorableFunction._get_cached of <openpathsampling.experimental.simstore.storable_functions.StorableFunction object at 0x7f85df6cc190>>\n",
      "2021-07-22 12:05:46,179 - openpathsampling.experimental.simstore.storable_functions - DEBUG - <bound method StorableFunction._get_storage of <openpathsampling.experimental.simstore.storable_functions.StorableFunction object at 0x7f85df6cc190>>\n",
      "2021-07-22 12:05:46,180 - openpathsampling.experimental.simstore.storable_functions - DEBUG - <bound method StorableFunction._eval of <openpathsampling.experimental.simstore.storable_functions.StorableFunction object at 0x7f85df6cc190>>\n"
     ]
    },
    {
     "data": {
      "text/plain": [
       "3.0"
      ]
     },
     "execution_count": 45,
     "metadata": {},
     "output_type": "execute_result"
    }
   ],
   "source": [
    "cv = StorableFunction(get_x)\n",
    "cv(snap)"
   ]
  },
  {
   "cell_type": "markdown",
   "metadata": {},
   "source": [
    "### Computer 1\n",
    "\n",
    "We mock the serialization and transfer over the network by doing a `to_dict`/`from_dict` cycle, which will create a new instance in memory with the same UUID."
   ]
  },
  {
   "cell_type": "code",
   "execution_count": 46,
   "metadata": {},
   "outputs": [],
   "source": [
    "cv_1 = StorableFunction.from_dict(cv.to_dict())\n",
    "set_uuid(cv_1, get_uuid(cv))"
   ]
  },
  {
   "cell_type": "code",
   "execution_count": 47,
   "metadata": {},
   "outputs": [
    {
     "name": "stdout",
     "output_type": "stream",
     "text": [
      "<openpathsampling.experimental.simstore.storable_functions.StorableFunction object at 0x7f85df6cc190>\n",
      "<openpathsampling.experimental.simstore.storable_functions.StorableFunction object at 0x7f85df6ccc50>\n"
     ]
    }
   ],
   "source": [
    "print(\"\\n\".join([repr(cv), repr(cv_1)]))"
   ]
  },
  {
   "cell_type": "code",
   "execution_count": 48,
   "metadata": {},
   "outputs": [
    {
     "data": {
      "text/plain": [
       "{}"
      ]
     },
     "execution_count": 48,
     "metadata": {},
     "output_type": "execute_result"
    }
   ],
   "source": [
    "cv_1.local_cache.result_dict"
   ]
  },
  {
   "cell_type": "code",
   "execution_count": 49,
   "metadata": {},
   "outputs": [],
   "source": [
    "snap_1 = toys.Snapshot(coordinates=np.array([[4.0, 0.0]]))"
   ]
  },
  {
   "cell_type": "code",
   "execution_count": 50,
   "metadata": {},
   "outputs": [
    {
     "name": "stdout",
     "output_type": "stream",
     "text": [
      "2021-07-22 12:05:48,290 - openpathsampling.experimental.simstore.storable_functions - DEBUG - <bound method StorableFunction._get_cached of <openpathsampling.experimental.simstore.storable_functions.StorableFunction object at 0x7f85df6ccc50>>\n",
      "2021-07-22 12:05:48,295 - openpathsampling.experimental.simstore.storable_functions - DEBUG - <bound method StorableFunction._get_storage of <openpathsampling.experimental.simstore.storable_functions.StorableFunction object at 0x7f85df6ccc50>>\n",
      "2021-07-22 12:05:48,300 - openpathsampling.experimental.simstore.storable_functions - DEBUG - <bound method StorableFunction._eval of <openpathsampling.experimental.simstore.storable_functions.StorableFunction object at 0x7f85df6ccc50>>\n",
      "CPU times: user 5.79 ms, sys: 2.66 ms, total: 8.45 ms\n",
      "Wall time: 2.02 s\n"
     ]
    },
    {
     "data": {
      "text/plain": [
       "4.0"
      ]
     },
     "execution_count": 50,
     "metadata": {},
     "output_type": "execute_result"
    }
   ],
   "source": [
    "%%time\n",
    "cv_1(snap_1)"
   ]
  },
  {
   "cell_type": "code",
   "execution_count": 51,
   "metadata": {},
   "outputs": [
    {
     "data": {
      "text/plain": [
       "{'218455970078904451893013535049010643004': 4.0}"
      ]
     },
     "execution_count": 51,
     "metadata": {},
     "output_type": "execute_result"
    }
   ],
   "source": [
    "cv_1.local_cache.result_dict"
   ]
  },
  {
   "cell_type": "markdown",
   "metadata": {},
   "source": [
    "### Computer 2"
   ]
  },
  {
   "cell_type": "code",
   "execution_count": 52,
   "metadata": {},
   "outputs": [],
   "source": [
    "cv_2 = StorableFunction.from_dict(cv.to_dict())\n",
    "set_uuid(cv_2, get_uuid(cv))"
   ]
  },
  {
   "cell_type": "code",
   "execution_count": 53,
   "metadata": {},
   "outputs": [
    {
     "name": "stdout",
     "output_type": "stream",
     "text": [
      "<openpathsampling.experimental.simstore.storable_functions.StorableFunction object at 0x7f85df6cc190>\n",
      "<openpathsampling.experimental.simstore.storable_functions.StorableFunction object at 0x7f85df6ccc50>\n",
      "<openpathsampling.experimental.simstore.storable_functions.StorableFunction object at 0x7f85df6cbd10>\n"
     ]
    }
   ],
   "source": [
    "print(\"\\n\".join([repr(cv), repr(cv_1), repr(cv_2)]))"
   ]
  },
  {
   "cell_type": "code",
   "execution_count": 54,
   "metadata": {},
   "outputs": [],
   "source": [
    "snap_2 = toys.Snapshot(coordinates=np.array([[5.0, 0.0]]))"
   ]
  },
  {
   "cell_type": "code",
   "execution_count": 55,
   "metadata": {},
   "outputs": [
    {
     "name": "stdout",
     "output_type": "stream",
     "text": [
      "2021-07-22 12:05:50,393 - openpathsampling.experimental.simstore.storable_functions - DEBUG - <bound method StorableFunction._get_cached of <openpathsampling.experimental.simstore.storable_functions.StorableFunction object at 0x7f85df6cbd10>>\n",
      "2021-07-22 12:05:50,399 - openpathsampling.experimental.simstore.storable_functions - DEBUG - <bound method StorableFunction._get_storage of <openpathsampling.experimental.simstore.storable_functions.StorableFunction object at 0x7f85df6cbd10>>\n",
      "2021-07-22 12:05:50,404 - openpathsampling.experimental.simstore.storable_functions - DEBUG - <bound method StorableFunction._eval of <openpathsampling.experimental.simstore.storable_functions.StorableFunction object at 0x7f85df6cbd10>>\n"
     ]
    },
    {
     "data": {
      "text/plain": [
       "5.0"
      ]
     },
     "execution_count": 55,
     "metadata": {},
     "output_type": "execute_result"
    }
   ],
   "source": [
    "cv_2(snap_2)"
   ]
  },
  {
   "cell_type": "code",
   "execution_count": 56,
   "metadata": {},
   "outputs": [
    {
     "data": {
      "text/plain": [
       "{'218455970078904451893013535049010643010': 5.0}"
      ]
     },
     "execution_count": 56,
     "metadata": {},
     "output_type": "execute_result"
    }
   ],
   "source": [
    "cv_2.local_cache.result_dict"
   ]
  },
  {
   "cell_type": "markdown",
   "metadata": {},
   "source": [
    "### Gather operation\n",
    "\n",
    "Note that for the real thing, we'll need to ensure that the serializers/deserializers (be they from `dask` or custom) correctly recreate the objects.\n",
    "\n",
    "Attention: The save command must be issued separately for each copy of the CV. This is because the CVs have the same UUID, and we use sets/dicts to combine repeats of the same UUID."
   ]
  },
  {
   "cell_type": "code",
   "execution_count": 57,
   "metadata": {},
   "outputs": [
    {
     "name": "stdout",
     "output_type": "stream",
     "text": [
      "2021-07-22 12:05:52,447 - openpathsampling.experimental.simstore.sql_backend - INFO - Add schema table uuid\n",
      "2021-07-22 12:05:52,456 - openpathsampling.experimental.simstore.sql_backend - INFO - Add schema table tables\n",
      "2021-07-22 12:05:52,463 - openpathsampling.experimental.simstore.sql_backend - INFO - Add schema table sfr_result_types\n",
      "2021-07-22 12:05:52,470 - openpathsampling.experimental.simstore.sql_backend - INFO - Add schema table tags\n",
      "2021-07-22 12:05:52,497 - openpathsampling.experimental.simstore.sql_backend - INFO - Add schema table samples\n",
      "2021-07-22 12:05:52,518 - openpathsampling.experimental.simstore.sql_backend - INFO - Add schema table sample_sets\n",
      "2021-07-22 12:05:52,535 - openpathsampling.experimental.simstore.sql_backend - INFO - Add schema table trajectories\n",
      "2021-07-22 12:05:52,558 - openpathsampling.experimental.simstore.sql_backend - INFO - Add schema table move_changes\n",
      "2021-07-22 12:05:52,590 - openpathsampling.experimental.simstore.sql_backend - INFO - Add schema table steps\n",
      "2021-07-22 12:05:52,610 - openpathsampling.experimental.simstore.sql_backend - INFO - Add schema table details\n",
      "2021-07-22 12:05:52,635 - openpathsampling.experimental.simstore.sql_backend - INFO - Add schema table storable_functions\n",
      "2021-07-22 12:05:52,651 - openpathsampling.experimental.simstore.sql_backend - INFO - Add schema table simulation_objects\n",
      "2021-07-22 12:05:52,669 - openpathsampling.experimental.simstore.sql_backend - INFO - Add schema table storage_objects\n",
      "2021-07-22 12:05:52,735 - openpathsampling.experimental.simstore.storage - DEBUG - Starting to load 0 objects\n",
      "2021-07-22 12:05:52,737 - openpathsampling.experimental.simstore.storage - DEBUG - Getting internal structure of 0 non-cached objects\n",
      "2021-07-22 12:05:52,738 - openpathsampling.experimental.simstore.storage - DEBUG - Loading 0 objects; creating 0 lazy proxies\n",
      "2021-07-22 12:05:52,740 - openpathsampling.experimental.simstore.storage - DEBUG - Identifying classes for 0 lazy proxies\n",
      "2021-07-22 12:05:52,742 - openpathsampling.experimental.simstore.sql_backend - DEBUG - Looking for 0 UUIDs\n",
      "2021-07-22 12:05:52,744 - openpathsampling.experimental.simstore.sql_backend - DEBUG - New block of 0 UUIDs\n",
      "2021-07-22 12:05:52,748 - openpathsampling.experimental.simstore.sql_backend - DEBUG - Found 0 UUIDs\n",
      "2021-07-22 12:05:52,753 - openpathsampling.experimental.simstore.storage - DEBUG - Reconstructing from 0 objects\n"
     ]
    }
   ],
   "source": [
    "backend = SQLStorageBackend(\"test.sql\", mode='w')\n",
    "storage = Storage.from_backend(\n",
    "    backend=backend,\n",
    "    schema=ops_schema,\n",
    "    class_info=ops_class_info\n",
    ")"
   ]
  },
  {
   "cell_type": "code",
   "execution_count": 58,
   "metadata": {},
   "outputs": [
    {
     "name": "stdout",
     "output_type": "stream",
     "text": [
      "2021-07-22 12:05:52,797 - openpathsampling.experimental.simstore.storage - DEBUG - Starting save\n",
      "2021-07-22 12:05:52,801 - openpathsampling.experimental.simstore.sql_backend - DEBUG - Looking for 1 UUIDs\n",
      "2021-07-22 12:05:52,821 - openpathsampling.experimental.simstore.sql_backend - DEBUG - New block of 1 UUIDs\n",
      "2021-07-22 12:05:52,830 - openpathsampling.experimental.simstore.sql_backend - DEBUG - Found 0 UUIDs\n",
      "2021-07-22 12:05:52,833 - openpathsampling.experimental.simstore.storage - DEBUG - Listing all objects to save\n",
      "2021-07-22 12:05:52,835 - openpathsampling.experimental.simstore.storage - DEBUG - Found 2 objects\n",
      "2021-07-22 12:05:52,837 - openpathsampling.experimental.simstore.storage - DEBUG - Deproxying proxy objects\n",
      "2021-07-22 12:05:52,839 - openpathsampling.experimental.simstore.storage - DEBUG - Found 0 objects to deproxy\n",
      "2021-07-22 12:05:52,841 - openpathsampling.experimental.simstore.storage - DEBUG - Starting to load 0 objects\n",
      "2021-07-22 12:05:52,844 - openpathsampling.experimental.simstore.storage - DEBUG - Getting internal structure of 0 non-cached objects\n",
      "2021-07-22 12:05:52,846 - openpathsampling.experimental.simstore.storage - DEBUG - Loading 0 objects; creating 0 lazy proxies\n",
      "2021-07-22 12:05:52,847 - openpathsampling.experimental.simstore.storage - DEBUG - Identifying classes for 0 lazy proxies\n",
      "2021-07-22 12:05:52,849 - openpathsampling.experimental.simstore.sql_backend - DEBUG - Looking for 0 UUIDs\n",
      "2021-07-22 12:05:52,851 - openpathsampling.experimental.simstore.sql_backend - DEBUG - New block of 0 UUIDs\n",
      "2021-07-22 12:05:52,857 - openpathsampling.experimental.simstore.sql_backend - DEBUG - Found 0 UUIDs\n",
      "2021-07-22 12:05:52,859 - openpathsampling.experimental.simstore.storage - DEBUG - Reconstructing from 0 objects\n",
      "2021-07-22 12:05:52,861 - openpathsampling.experimental.simstore.storage - DEBUG - Checking if objects already exist in database\n",
      "2021-07-22 12:05:52,865 - openpathsampling.experimental.simstore.sql_backend - DEBUG - Looking for 2 UUIDs\n",
      "2021-07-22 12:05:52,867 - openpathsampling.experimental.simstore.sql_backend - DEBUG - New block of 2 UUIDs\n",
      "2021-07-22 12:05:52,876 - openpathsampling.experimental.simstore.sql_backend - DEBUG - Found 0 UUIDs\n",
      "2021-07-22 12:05:52,877 - openpathsampling.experimental.simstore.storage - INFO - Saving results from 1 storable functions\n",
      "2021-07-22 12:05:52,880 - openpathsampling.experimental.simstore.storable_functions - INFO - Result type unknown; unable to create table\n",
      "2021-07-22 12:05:52,883 - openpathsampling.experimental.simstore.storable_functions - DEBUG - Registering new function: 218455970078904451893013535049010642996\n",
      "2021-07-22 12:05:52,885 - openpathsampling.experimental.simstore.storable_functions - DEBUG - Result type: float\n",
      "2021-07-22 12:05:52,886 - openpathsampling.experimental.simstore.sql_backend - INFO - Registering storable function: UUID: 218455970078904451893013535049010642996 (float)\n",
      "2021-07-22 12:05:52,908 - openpathsampling.experimental.simstore.sql_backend - DEBUG - Found 0 UUIDs\n",
      "2021-07-22 12:05:52,925 - openpathsampling.experimental.simstore.storage - DEBUG - Filling 1 tables: ['storable_functions']\n",
      "2021-07-22 12:05:52,927 - openpathsampling.experimental.simstore.storage - DEBUG - Storing 1 objects to table storable_functions\n",
      "2021-07-22 12:05:52,945 - openpathsampling.experimental.simstore.storage - DEBUG - Storing complete\n"
     ]
    }
   ],
   "source": [
    "storage.save([cv])"
   ]
  },
  {
   "cell_type": "code",
   "execution_count": 59,
   "metadata": {},
   "outputs": [
    {
     "name": "stdout",
     "output_type": "stream",
     "text": [
      "2021-07-22 12:05:52,960 - openpathsampling.experimental.simstore.storage - DEBUG - Starting save\n",
      "2021-07-22 12:05:52,963 - openpathsampling.experimental.simstore.sql_backend - DEBUG - Looking for 1 UUIDs\n",
      "2021-07-22 12:05:52,964 - openpathsampling.experimental.simstore.sql_backend - DEBUG - New block of 1 UUIDs\n",
      "2021-07-22 12:05:52,972 - openpathsampling.experimental.simstore.sql_backend - DEBUG - Found 1 UUIDs\n",
      "2021-07-22 12:05:52,974 - openpathsampling.experimental.simstore.storage - DEBUG - Listing all objects to save\n",
      "2021-07-22 12:05:52,975 - openpathsampling.experimental.simstore.storage - DEBUG - Found 1 objects\n",
      "2021-07-22 12:05:52,978 - openpathsampling.experimental.simstore.storage - DEBUG - Deproxying proxy objects\n",
      "2021-07-22 12:05:52,979 - openpathsampling.experimental.simstore.storage - DEBUG - Found 0 objects to deproxy\n",
      "2021-07-22 12:05:52,981 - openpathsampling.experimental.simstore.storage - DEBUG - Starting to load 0 objects\n",
      "2021-07-22 12:05:52,982 - openpathsampling.experimental.simstore.storage - DEBUG - Getting internal structure of 0 non-cached objects\n",
      "2021-07-22 12:05:52,984 - openpathsampling.experimental.simstore.storage - DEBUG - Loading 0 objects; creating 0 lazy proxies\n",
      "2021-07-22 12:05:52,985 - openpathsampling.experimental.simstore.storage - DEBUG - Identifying classes for 0 lazy proxies\n",
      "2021-07-22 12:05:52,988 - openpathsampling.experimental.simstore.sql_backend - DEBUG - Looking for 0 UUIDs\n",
      "2021-07-22 12:05:52,989 - openpathsampling.experimental.simstore.sql_backend - DEBUG - New block of 0 UUIDs\n",
      "2021-07-22 12:05:52,993 - openpathsampling.experimental.simstore.sql_backend - DEBUG - Found 0 UUIDs\n",
      "2021-07-22 12:05:52,994 - openpathsampling.experimental.simstore.storage - DEBUG - Reconstructing from 0 objects\n",
      "2021-07-22 12:05:52,996 - openpathsampling.experimental.simstore.storage - DEBUG - Checking if objects already exist in database\n",
      "2021-07-22 12:05:53,005 - openpathsampling.experimental.simstore.sql_backend - DEBUG - Looking for 1 UUIDs\n",
      "2021-07-22 12:05:53,007 - openpathsampling.experimental.simstore.sql_backend - DEBUG - New block of 1 UUIDs\n",
      "2021-07-22 12:05:53,018 - openpathsampling.experimental.simstore.sql_backend - DEBUG - Found 0 UUIDs\n",
      "2021-07-22 12:05:53,023 - openpathsampling.experimental.simstore.sql_backend - DEBUG - Found 0 UUIDs\n",
      "2021-07-22 12:05:53,025 - openpathsampling.experimental.simstore.storage - INFO - Saving results from 1 storable functions\n",
      "2021-07-22 12:05:53,030 - openpathsampling.experimental.simstore.sql_backend - DEBUG - Found 0 UUIDs\n",
      "2021-07-22 12:05:53,045 - openpathsampling.experimental.simstore.storage - DEBUG - Filling 0 tables: []\n"
     ]
    }
   ],
   "source": [
    "storage.save([cv_1])"
   ]
  },
  {
   "cell_type": "code",
   "execution_count": 60,
   "metadata": {},
   "outputs": [
    {
     "name": "stdout",
     "output_type": "stream",
     "text": [
      "2021-07-22 12:05:53,060 - openpathsampling.experimental.simstore.storage - DEBUG - Starting save\n",
      "2021-07-22 12:05:53,063 - openpathsampling.experimental.simstore.sql_backend - DEBUG - Looking for 1 UUIDs\n",
      "2021-07-22 12:05:53,065 - openpathsampling.experimental.simstore.sql_backend - DEBUG - New block of 1 UUIDs\n",
      "2021-07-22 12:05:53,069 - openpathsampling.experimental.simstore.sql_backend - DEBUG - Found 1 UUIDs\n",
      "2021-07-22 12:05:53,070 - openpathsampling.experimental.simstore.storage - DEBUG - Listing all objects to save\n",
      "2021-07-22 12:05:53,071 - openpathsampling.experimental.simstore.storage - DEBUG - Found 1 objects\n",
      "2021-07-22 12:05:53,072 - openpathsampling.experimental.simstore.storage - DEBUG - Deproxying proxy objects\n",
      "2021-07-22 12:05:53,074 - openpathsampling.experimental.simstore.storage - DEBUG - Found 0 objects to deproxy\n",
      "2021-07-22 12:05:53,077 - openpathsampling.experimental.simstore.storage - DEBUG - Starting to load 0 objects\n",
      "2021-07-22 12:05:53,078 - openpathsampling.experimental.simstore.storage - DEBUG - Getting internal structure of 0 non-cached objects\n",
      "2021-07-22 12:05:53,080 - openpathsampling.experimental.simstore.storage - DEBUG - Loading 0 objects; creating 0 lazy proxies\n",
      "2021-07-22 12:05:53,082 - openpathsampling.experimental.simstore.storage - DEBUG - Identifying classes for 0 lazy proxies\n",
      "2021-07-22 12:05:53,085 - openpathsampling.experimental.simstore.sql_backend - DEBUG - Looking for 0 UUIDs\n",
      "2021-07-22 12:05:53,088 - openpathsampling.experimental.simstore.sql_backend - DEBUG - New block of 0 UUIDs\n",
      "2021-07-22 12:05:53,093 - openpathsampling.experimental.simstore.sql_backend - DEBUG - Found 0 UUIDs\n",
      "2021-07-22 12:05:53,094 - openpathsampling.experimental.simstore.storage - DEBUG - Reconstructing from 0 objects\n",
      "2021-07-22 12:05:53,096 - openpathsampling.experimental.simstore.storage - DEBUG - Checking if objects already exist in database\n",
      "2021-07-22 12:05:53,098 - openpathsampling.experimental.simstore.sql_backend - DEBUG - Looking for 1 UUIDs\n",
      "2021-07-22 12:05:53,100 - openpathsampling.experimental.simstore.sql_backend - DEBUG - New block of 1 UUIDs\n",
      "2021-07-22 12:05:53,107 - openpathsampling.experimental.simstore.sql_backend - DEBUG - Found 0 UUIDs\n",
      "2021-07-22 12:05:53,113 - openpathsampling.experimental.simstore.sql_backend - DEBUG - Found 0 UUIDs\n",
      "2021-07-22 12:05:53,115 - openpathsampling.experimental.simstore.storage - INFO - Saving results from 1 storable functions\n",
      "2021-07-22 12:05:53,119 - openpathsampling.experimental.simstore.sql_backend - DEBUG - Found 0 UUIDs\n",
      "2021-07-22 12:05:53,126 - openpathsampling.experimental.simstore.storage - DEBUG - Filling 0 tables: []\n"
     ]
    }
   ],
   "source": [
    "storage.save([cv_2])"
   ]
  },
  {
   "cell_type": "code",
   "execution_count": 61,
   "metadata": {},
   "outputs": [
    {
     "data": {
      "text/plain": [
       "<openpathsampling.experimental.simstore.storable_functions.StorableFunction at 0x7f85df6cbd10>"
      ]
     },
     "execution_count": 61,
     "metadata": {},
     "output_type": "execute_result"
    }
   ],
   "source": [
    "cv_2.local_cache.parent"
   ]
  },
  {
   "cell_type": "code",
   "execution_count": 62,
   "metadata": {},
   "outputs": [
    {
     "data": {
      "text/plain": [
       "{'218455970078904451893013535049010642960': 3.0,\n",
       " '218455970078904451893013535049010643004': 4.0,\n",
       " '218455970078904451893013535049010643010': 5.0}"
      ]
     },
     "execution_count": 62,
     "metadata": {},
     "output_type": "execute_result"
    }
   ],
   "source": [
    "cv.local_cache.result_dict"
   ]
  },
  {
   "cell_type": "code",
   "execution_count": 63,
   "metadata": {},
   "outputs": [
    {
     "data": {
      "text/plain": [
       "{'218455970078904451893013535049010642996': <openpathsampling.experimental.simstore.storable_functions.StorableFunction at 0x7f85df6cc190>}"
      ]
     },
     "execution_count": 63,
     "metadata": {},
     "output_type": "execute_result"
    }
   ],
   "source": [
    "storage._sf_handler.canonical_functions"
   ]
  },
  {
   "cell_type": "code",
   "execution_count": 64,
   "metadata": {},
   "outputs": [
    {
     "name": "stdout",
     "output_type": "stream",
     "text": [
      "218455970078904451893013535049010642996\n",
      "218455970078904451893013535049010642956\n",
      "218455970078904451893013535049010642996\n",
      "218455970078904451893013535049010642996\n"
     ]
    }
   ],
   "source": [
    "print(\"\\n\".join([str(getattr(obj, '__uuid__')) for obj in [cv, cv_reloaded, cv_1, cv_2]]))"
   ]
  },
  {
   "cell_type": "code",
   "execution_count": 65,
   "metadata": {},
   "outputs": [],
   "source": [
    "results = storage._sf_handler.canonical_functions[get_uuid(cv)].local_cache.result_dict"
   ]
  },
  {
   "cell_type": "code",
   "execution_count": 66,
   "metadata": {},
   "outputs": [],
   "source": [
    "assert len(results) == 3"
   ]
  },
  {
   "cell_type": "code",
   "execution_count": 67,
   "metadata": {},
   "outputs": [
    {
     "data": {
      "text/plain": [
       "{'218455970078904451893013535049010642960': 3.0,\n",
       " '218455970078904451893013535049010643004': 4.0,\n",
       " '218455970078904451893013535049010643010': 5.0}"
      ]
     },
     "execution_count": 67,
     "metadata": {},
     "output_type": "execute_result"
    }
   ],
   "source": [
    "results"
   ]
  },
  {
   "cell_type": "code",
   "execution_count": 68,
   "metadata": {},
   "outputs": [
    {
     "data": {
      "text/plain": [
       "defaultdict(list,\n",
       "            {'218455970078904451893013535049010642996': [<openpathsampling.experimental.simstore.storable_functions.StorableFunction at 0x7f85df6cc190>,\n",
       "              <openpathsampling.experimental.simstore.storable_functions.StorableFunction at 0x7f85df6ccc50>,\n",
       "              <openpathsampling.experimental.simstore.storable_functions.StorableFunction at 0x7f85df6cbd10>]})"
      ]
     },
     "execution_count": 68,
     "metadata": {},
     "output_type": "execute_result"
    }
   ],
   "source": [
    "# should be Dict[str, List[StorableFunction]]\n",
    "# dict length 1; the single value in dict is list length 3\n",
    "storage._sf_handler.all_functions"
   ]
  },
  {
   "cell_type": "code",
   "execution_count": 69,
   "metadata": {},
   "outputs": [],
   "source": [
    "assert len(storage._sf_handler.all_functions) == 1\n",
    "assert len(list(storage._sf_handler.all_functions.values())[0]) == 3"
   ]
  },
  {
   "cell_type": "code",
   "execution_count": 70,
   "metadata": {},
   "outputs": [],
   "source": [
    "storage._sf_handler.clear_non_canonical()"
   ]
  },
  {
   "cell_type": "code",
   "execution_count": 71,
   "metadata": {},
   "outputs": [
    {
     "data": {
      "text/plain": [
       "defaultdict(list,\n",
       "            {'218455970078904451893013535049010642996': [<openpathsampling.experimental.simstore.storable_functions.StorableFunction at 0x7f85df6cc190>]})"
      ]
     },
     "execution_count": 71,
     "metadata": {},
     "output_type": "execute_result"
    }
   ],
   "source": [
    "storage._sf_handler.all_functions"
   ]
  },
  {
   "cell_type": "code",
   "execution_count": 72,
   "metadata": {},
   "outputs": [],
   "source": [
    "assert len(storage._sf_handler.all_functions) == 1\n",
    "assert len(list(storage._sf_handler.all_functions.values())[0]) == 1"
   ]
  },
  {
   "cell_type": "code",
   "execution_count": null,
   "metadata": {},
   "outputs": [],
   "source": []
  }
 ],
 "metadata": {
  "kernelspec": {
   "display_name": "Python 3",
   "language": "python",
   "name": "python3"
  },
  "language_info": {
   "codemirror_mode": {
    "name": "ipython",
    "version": 3
   },
   "file_extension": ".py",
   "mimetype": "text/x-python",
   "name": "python",
   "nbconvert_exporter": "python",
   "pygments_lexer": "ipython3",
   "version": "3.7.10"
  },
  "toc": {
   "base_numbering": 1,
   "nav_menu": {},
   "number_sections": true,
   "sideBar": true,
   "skip_h1_title": true,
   "title_cell": "Table of Contents",
   "title_sidebar": "Contents",
   "toc_cell": false,
   "toc_position": {},
   "toc_section_display": true,
   "toc_window_display": true
  },
  "varInspector": {
   "cols": {
    "lenName": 16,
    "lenType": 16,
    "lenVar": 40
   },
   "kernels_config": {
    "python": {
     "delete_cmd_postfix": "",
     "delete_cmd_prefix": "del ",
     "library": "var_list.py",
     "varRefreshCmd": "print(var_dic_list())"
    },
    "r": {
     "delete_cmd_postfix": ") ",
     "delete_cmd_prefix": "rm(",
     "library": "var_list.r",
     "varRefreshCmd": "cat(var_dic_list()) "
    }
   },
   "types_to_exclude": [
    "module",
    "function",
    "builtin_function_or_method",
    "instance",
    "_Feature"
   ],
   "window_display": false
  }
 },
 "nbformat": 4,
 "nbformat_minor": 4
}
