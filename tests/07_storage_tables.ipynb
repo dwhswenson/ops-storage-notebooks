{
 "cells": [
  {
   "cell_type": "code",
   "execution_count": 1,
   "metadata": {},
   "outputs": [],
   "source": [
    "from __future__ import print_function\n",
    "from openpathsampling.experimental.storage import Storage, ops_class_info, ops_schema\n",
    "from openpathsampling.experimental.simstore import SQLStorageBackend\n",
    "from openpathsampling.experimental.simstore import StorageTable\n",
    "from openpathsampling.experimental.simstore.serialization_helpers import get_uuid\n",
    "\n",
    "import collections\n",
    "import numpy as np"
   ]
  },
  {
   "cell_type": "code",
   "execution_count": 2,
   "metadata": {},
   "outputs": [],
   "source": [
    "import logging\n",
    "import sys\n",
    "\n",
    "root = logging.getLogger()\n",
    "root.setLevel(logging.DEBUG)\n",
    "\n",
    "ch = logging.StreamHandler(sys.stdout)\n",
    "ch.setLevel(logging.INFO)\n",
    "formatter = logging.Formatter('%(asctime)s - %(name)s - %(levelname)s - %(message)s')\n",
    "ch.setFormatter(formatter)\n",
    "root.addHandler(ch)"
   ]
  },
  {
   "cell_type": "code",
   "execution_count": 3,
   "metadata": {},
   "outputs": [
    {
     "name": "stdout",
     "output_type": "stream",
     "text": [
      "2020-05-19 10:06:02,437 - openpathsampling.experimental.storage.sql_backend - INFO - Add schema table uuid\n",
      "2020-05-19 10:06:02,438 - openpathsampling.experimental.storage.sql_backend - INFO - Add schema table tables\n",
      "2020-05-19 10:06:02,444 - openpathsampling.experimental.storage.sql_backend - INFO - Add schema table samples\n",
      "2020-05-19 10:06:02,451 - openpathsampling.experimental.storage.sql_backend - INFO - Add schema table sample_sets\n",
      "2020-05-19 10:06:02,456 - openpathsampling.experimental.storage.sql_backend - INFO - Add schema table trajectories\n",
      "2020-05-19 10:06:02,463 - openpathsampling.experimental.storage.sql_backend - INFO - Add schema table move_changes\n",
      "2020-05-19 10:06:02,483 - openpathsampling.experimental.storage.sql_backend - INFO - Add schema table steps\n",
      "2020-05-19 10:06:02,489 - openpathsampling.experimental.storage.sql_backend - INFO - Add schema table details\n",
      "2020-05-19 10:06:02,504 - openpathsampling.experimental.storage.sql_backend - INFO - Add schema table simulation_objects\n"
     ]
    }
   ],
   "source": [
    "backend = SQLStorageBackend(\"test.sql\", mode='w')\n",
    "storage = Storage.from_backend(\n",
    "    backend=backend,\n",
    "    schema=ops_schema,\n",
    "    class_info=ops_class_info\n",
    ")"
   ]
  },
  {
   "cell_type": "code",
   "execution_count": 4,
   "metadata": {},
   "outputs": [],
   "source": [
    "import openpathsampling as paths\n",
    "logging.getLogger('openpathsampling').setLevel(logging.CRITICAL)\n",
    "old_storage = paths.Storage(\"../toy_mstis_1k_OPS1_py36.nc\", 'r')"
   ]
  },
  {
   "cell_type": "code",
   "execution_count": 5,
   "metadata": {},
   "outputs": [],
   "source": [
    "sample_set = old_storage.samplesets[-1]"
   ]
  },
  {
   "cell_type": "code",
   "execution_count": 6,
   "metadata": {},
   "outputs": [],
   "source": [
    "storage.save(sample_set)"
   ]
  },
  {
   "cell_type": "code",
   "execution_count": 7,
   "metadata": {},
   "outputs": [],
   "source": [
    "storage.sync_all()"
   ]
  },
  {
   "cell_type": "code",
   "execution_count": 8,
   "metadata": {},
   "outputs": [],
   "source": [
    "samples = StorageTable(storage, 'samples')"
   ]
  },
  {
   "cell_type": "code",
   "execution_count": 9,
   "metadata": {},
   "outputs": [
    {
     "name": "stdout",
     "output_type": "stream",
     "text": [
      "Sample(RepID: 8, Ens: <openpathsampling.ensemble.MinusInterfaceEnsemble object at 0x117818b70>, Trajectory[150])\n",
      "Sample(RepID: 3, Ens: <openpathsampling.ensemble.MinusInterfaceEnsemble object at 0x11ac9fda0>, Trajectory[102])\n",
      "Sample(RepID: -3, Ens: <openpathsampling.ensemble.TISEnsemble object at 0x11b14a908>, Trajectory[6])\n",
      "Sample(RepID: 2, Ens: <openpathsampling.ensemble.TISEnsemble object at 0x11ac9fd30>, Trajectory[62])\n",
      "Sample(RepID: 5, Ens: <openpathsampling.ensemble.TISEnsemble object at 0x117573390>, Trajectory[115])\n",
      "Sample(RepID: 1, Ens: <openpathsampling.ensemble.MinusInterfaceEnsemble object at 0x11b772940>, Trajectory[554])\n",
      "Sample(RepID: 7, Ens: <openpathsampling.ensemble.TISEnsemble object at 0x11b7921d0>, Trajectory[164])\n",
      "Sample(RepID: 0, Ens: <openpathsampling.ensemble.TISEnsemble object at 0x11b7d0a90>, Trajectory[4])\n",
      "Sample(RepID: 4, Ens: <openpathsampling.ensemble.TISEnsemble object at 0x11b7d09e8>, Trajectory[28])\n",
      "Sample(RepID: -2, Ens: <openpathsampling.ensemble.TISEnsemble object at 0x11b7dfdd8>, Trajectory[18])\n",
      "Sample(RepID: 9, Ens: <openpathsampling.ensemble.UnionEnsemble object at 0x11b7d6b38>, Trajectory[101])\n",
      "Sample(RepID: 6, Ens: <openpathsampling.ensemble.TISEnsemble object at 0x11b161550>, Trajectory[33])\n",
      "Sample(RepID: -1, Ens: <openpathsampling.ensemble.TISEnsemble object at 0x11b799940>, Trajectory[37])\n"
     ]
    }
   ],
   "source": [
    "logging.getLogger('openpathsampling.experimental.storage').setLevel(logging.INFO)\n",
    "#logging.getLogger('storage').setLevel(logging.INFO)\n",
    "#logging.getLogger('serialization').setLevel(logging.INFO)\n",
    "for s in samples:\n",
    "    print(s)"
   ]
  },
  {
   "cell_type": "code",
   "execution_count": 10,
   "metadata": {},
   "outputs": [
    {
     "name": "stdout",
     "output_type": "stream",
     "text": [
      "Sample(RepID: 1, Ens: <openpathsampling.ensemble.MinusInterfaceEnsemble object at 0x11b772940>, Trajectory[554])\n"
     ]
    }
   ],
   "source": [
    "s5 = samples[5]\n",
    "print(s5)"
   ]
  },
  {
   "cell_type": "code",
   "execution_count": 11,
   "metadata": {},
   "outputs": [],
   "source": [
    "s5_direct = storage.samples[5]"
   ]
  },
  {
   "cell_type": "code",
   "execution_count": 12,
   "metadata": {},
   "outputs": [],
   "source": [
    "# importantly, is: same object in memory, we don't rebuild it\n",
    "assert s5 is s5_direct"
   ]
  },
  {
   "cell_type": "code",
   "execution_count": 13,
   "metadata": {
    "scrolled": true
   },
   "outputs": [
    {
     "data": {
      "text/plain": [
       "554"
      ]
     },
     "execution_count": 13,
     "metadata": {},
     "output_type": "execute_result"
    }
   ],
   "source": [
    "len(s5.trajectory)"
   ]
  },
  {
   "cell_type": "code",
   "execution_count": 14,
   "metadata": {},
   "outputs": [
    {
     "name": "stdout",
     "output_type": "stream",
     "text": [
      "Sample(RepID: 1, Ens: <openpathsampling.ensemble.MinusInterfaceEnsemble object at 0x11b772940>, Trajectory[554])\n"
     ]
    }
   ],
   "source": [
    "print(s5)"
   ]
  },
  {
   "cell_type": "code",
   "execution_count": 15,
   "metadata": {},
   "outputs": [
    {
     "data": {
      "text/plain": [
       "Trajectory[554]"
      ]
     },
     "execution_count": 15,
     "metadata": {},
     "output_type": "execute_result"
    }
   ],
   "source": [
    "s5.trajectory"
   ]
  },
  {
   "cell_type": "code",
   "execution_count": 16,
   "metadata": {},
   "outputs": [
    {
     "data": {
      "text/plain": [
       "554"
      ]
     },
     "execution_count": 16,
     "metadata": {},
     "output_type": "execute_result"
    }
   ],
   "source": [
    "len(s5.trajectory)"
   ]
  },
  {
   "cell_type": "code",
   "execution_count": 17,
   "metadata": {},
   "outputs": [
    {
     "data": {
      "text/plain": [
       "array([[[-0.39249977, -0.3338929 ]],\n",
       "\n",
       "       [[-0.3855248 , -0.33292955]],\n",
       "\n",
       "       [[-0.3801172 , -0.332006  ]],\n",
       "\n",
       "       [[-0.37458295, -0.3321976 ]],\n",
       "\n",
       "       [[-0.3682818 , -0.33326316]],\n",
       "\n",
       "       [[-0.3603947 , -0.3338907 ]],\n",
       "\n",
       "       [[-0.35361275, -0.33607066]],\n",
       "\n",
       "       [[-0.34789062, -0.3403274 ]],\n",
       "\n",
       "       [[-0.34188282, -0.3455238 ]],\n",
       "\n",
       "       [[-0.33531275, -0.3517007 ]]], dtype=float32)"
      ]
     },
     "execution_count": 17,
     "metadata": {},
     "output_type": "execute_result"
    }
   ],
   "source": [
    "s5.trajectory.xyz[:10]"
   ]
  },
  {
   "cell_type": "code",
   "execution_count": 18,
   "metadata": {},
   "outputs": [
    {
     "data": {
      "text/plain": [
       "{'snapshots': [<openpathsampling.engines.toy.snapshot.ToySnapshot at 0x11bd08f60>,\n",
       "  <openpathsampling.engines.toy.snapshot.ToySnapshot at 0x11bd1eba8>,\n",
       "  <openpathsampling.engines.toy.snapshot.ToySnapshot at 0x11b9cbfd0>,\n",
       "  <openpathsampling.engines.toy.snapshot.ToySnapshot at 0x11bd08978>,\n",
       "  <openpathsampling.engines.toy.snapshot.ToySnapshot at 0x11bcfd278>,\n",
       "  <openpathsampling.engines.toy.snapshot.ToySnapshot at 0x11bcfd128>,\n",
       "  <openpathsampling.engines.toy.snapshot.ToySnapshot at 0x11bd1e5f8>,\n",
       "  <openpathsampling.engines.toy.snapshot.ToySnapshot at 0x11bac37f0>,\n",
       "  <openpathsampling.engines.toy.snapshot.ToySnapshot at 0x11ba2fef0>,\n",
       "  <openpathsampling.engines.toy.snapshot.ToySnapshot at 0x11bbdeba8>,\n",
       "  <openpathsampling.engines.toy.snapshot.ToySnapshot at 0x11bd08518>,\n",
       "  <openpathsampling.engines.toy.snapshot.ToySnapshot at 0x11bcf4fd0>,\n",
       "  <openpathsampling.engines.toy.snapshot.ToySnapshot at 0x11bd1ef98>,\n",
       "  <openpathsampling.engines.toy.snapshot.ToySnapshot at 0x11b9cbe48>,\n",
       "  <openpathsampling.engines.toy.snapshot.ToySnapshot at 0x11bd08908>,\n",
       "  <openpathsampling.engines.toy.snapshot.ToySnapshot at 0x11bac3860>,\n",
       "  <openpathsampling.engines.toy.snapshot.ToySnapshot at 0x11bbde860>,\n",
       "  <openpathsampling.engines.toy.snapshot.ToySnapshot at 0x11bac3fd0>,\n",
       "  <openpathsampling.engines.toy.snapshot.ToySnapshot at 0x11bcfd748>,\n",
       "  <openpathsampling.engines.toy.snapshot.ToySnapshot at 0x11bcf4ac8>,\n",
       "  <openpathsampling.engines.toy.snapshot.ToySnapshot at 0x11bd13048>,\n",
       "  <openpathsampling.engines.toy.snapshot.ToySnapshot at 0x11bd1e6d8>,\n",
       "  <openpathsampling.engines.toy.snapshot.ToySnapshot at 0x11ba2f240>,\n",
       "  <openpathsampling.engines.toy.snapshot.ToySnapshot at 0x11bcf47b8>,\n",
       "  <openpathsampling.engines.toy.snapshot.ToySnapshot at 0x11bd08be0>,\n",
       "  <openpathsampling.engines.toy.snapshot.ToySnapshot at 0x11bcf4ba8>,\n",
       "  <openpathsampling.engines.toy.snapshot.ToySnapshot at 0x11bac3c50>,\n",
       "  <openpathsampling.engines.toy.snapshot.ToySnapshot at 0x11bcfd400>,\n",
       "  <openpathsampling.engines.toy.snapshot.ToySnapshot at 0x11b9cbe10>,\n",
       "  <openpathsampling.engines.toy.snapshot.ToySnapshot at 0x11bd08cf8>,\n",
       "  <openpathsampling.engines.toy.snapshot.ToySnapshot at 0x11bd13f28>,\n",
       "  <openpathsampling.engines.toy.snapshot.ToySnapshot at 0x11b9cb2b0>,\n",
       "  <openpathsampling.engines.toy.snapshot.ToySnapshot at 0x11bd13748>,\n",
       "  <openpathsampling.engines.toy.snapshot.ToySnapshot at 0x11bcf47f0>,\n",
       "  <openpathsampling.engines.toy.snapshot.ToySnapshot at 0x11bbdea58>,\n",
       "  <openpathsampling.engines.toy.snapshot.ToySnapshot at 0x11bd13f98>,\n",
       "  <openpathsampling.engines.toy.snapshot.ToySnapshot at 0x11bcfd208>,\n",
       "  <openpathsampling.engines.toy.snapshot.ToySnapshot at 0x11bbde400>,\n",
       "  <openpathsampling.engines.toy.snapshot.ToySnapshot at 0x11bcf4c88>,\n",
       "  <openpathsampling.engines.toy.snapshot.ToySnapshot at 0x11bd08a20>,\n",
       "  <openpathsampling.engines.toy.snapshot.ToySnapshot at 0x11ba2fa58>,\n",
       "  <openpathsampling.engines.toy.snapshot.ToySnapshot at 0x11bd08080>,\n",
       "  <openpathsampling.engines.toy.snapshot.ToySnapshot at 0x11bcfd668>,\n",
       "  <openpathsampling.engines.toy.snapshot.ToySnapshot at 0x11bcf4f98>,\n",
       "  <openpathsampling.engines.toy.snapshot.ToySnapshot at 0x11bd1ec88>,\n",
       "  <openpathsampling.engines.toy.snapshot.ToySnapshot at 0x11b9cb400>,\n",
       "  <openpathsampling.engines.toy.snapshot.ToySnapshot at 0x11bd13780>,\n",
       "  <openpathsampling.engines.toy.snapshot.ToySnapshot at 0x11bd1e0b8>,\n",
       "  <openpathsampling.engines.toy.snapshot.ToySnapshot at 0x11bd08c88>,\n",
       "  <openpathsampling.engines.toy.snapshot.ToySnapshot at 0x11bcfda58>,\n",
       "  <openpathsampling.engines.toy.snapshot.ToySnapshot at 0x11bcfd1d0>,\n",
       "  <openpathsampling.engines.toy.snapshot.ToySnapshot at 0x11ba2f390>,\n",
       "  <openpathsampling.engines.toy.snapshot.ToySnapshot at 0x11bbde470>,\n",
       "  <openpathsampling.engines.toy.snapshot.ToySnapshot at 0x11bcfd5f8>,\n",
       "  <openpathsampling.engines.toy.snapshot.ToySnapshot at 0x11bcf40b8>,\n",
       "  <openpathsampling.engines.toy.snapshot.ToySnapshot at 0x11bcfd320>,\n",
       "  <openpathsampling.engines.toy.snapshot.ToySnapshot at 0x11bd1e2e8>,\n",
       "  <openpathsampling.engines.toy.snapshot.ToySnapshot at 0x11bac3780>,\n",
       "  <openpathsampling.engines.toy.snapshot.ToySnapshot at 0x11bd084a8>,\n",
       "  <openpathsampling.engines.toy.snapshot.ToySnapshot at 0x11bcfd358>,\n",
       "  <openpathsampling.engines.toy.snapshot.ToySnapshot at 0x11bd13e48>,\n",
       "  <openpathsampling.engines.toy.snapshot.ToySnapshot at 0x11bcfdb70>,\n",
       "  <openpathsampling.engines.toy.snapshot.ToySnapshot at 0x11bd08d30>,\n",
       "  <openpathsampling.engines.toy.snapshot.ToySnapshot at 0x11b9cb0f0>,\n",
       "  <openpathsampling.engines.toy.snapshot.ToySnapshot at 0x11bd1ed68>,\n",
       "  <openpathsampling.engines.toy.snapshot.ToySnapshot at 0x11b9cb080>,\n",
       "  <openpathsampling.engines.toy.snapshot.ToySnapshot at 0x11bd136a0>,\n",
       "  <openpathsampling.engines.toy.snapshot.ToySnapshot at 0x11bd08160>,\n",
       "  <openpathsampling.engines.toy.snapshot.ToySnapshot at 0x11bd13ef0>,\n",
       "  <openpathsampling.engines.toy.snapshot.ToySnapshot at 0x11bd08208>,\n",
       "  <openpathsampling.engines.toy.snapshot.ToySnapshot at 0x11bac38d0>,\n",
       "  <openpathsampling.engines.toy.snapshot.ToySnapshot at 0x11bd135c0>,\n",
       "  <openpathsampling.engines.toy.snapshot.ToySnapshot at 0x11bd1e080>,\n",
       "  <openpathsampling.engines.toy.snapshot.ToySnapshot at 0x11bbde2b0>,\n",
       "  <openpathsampling.engines.toy.snapshot.ToySnapshot at 0x11bd13908>,\n",
       "  <openpathsampling.engines.toy.snapshot.ToySnapshot at 0x11bd088d0>,\n",
       "  <openpathsampling.engines.toy.snapshot.ToySnapshot at 0x11bbde5c0>,\n",
       "  <openpathsampling.engines.toy.snapshot.ToySnapshot at 0x11bbde828>,\n",
       "  <openpathsampling.engines.toy.snapshot.ToySnapshot at 0x11bbde780>,\n",
       "  <openpathsampling.engines.toy.snapshot.ToySnapshot at 0x11bcfdd68>,\n",
       "  <openpathsampling.engines.toy.snapshot.ToySnapshot at 0x11bbde550>,\n",
       "  <openpathsampling.engines.toy.snapshot.ToySnapshot at 0x11bd08710>,\n",
       "  <openpathsampling.engines.toy.snapshot.ToySnapshot at 0x11bac3978>,\n",
       "  <openpathsampling.engines.toy.snapshot.ToySnapshot at 0x11ba33240>,\n",
       "  <openpathsampling.engines.toy.snapshot.ToySnapshot at 0x11bcfdcf8>,\n",
       "  <openpathsampling.engines.toy.snapshot.ToySnapshot at 0x11bd13828>,\n",
       "  <openpathsampling.engines.toy.snapshot.ToySnapshot at 0x11bd13c18>,\n",
       "  <openpathsampling.engines.toy.snapshot.ToySnapshot at 0x11bd1ee10>,\n",
       "  <openpathsampling.engines.toy.snapshot.ToySnapshot at 0x11bd1e6a0>,\n",
       "  <openpathsampling.engines.toy.snapshot.ToySnapshot at 0x11ba336a0>,\n",
       "  <openpathsampling.engines.toy.snapshot.ToySnapshot at 0x11bcfdb00>,\n",
       "  <openpathsampling.engines.toy.snapshot.ToySnapshot at 0x11bcfd8d0>,\n",
       "  <openpathsampling.engines.toy.snapshot.ToySnapshot at 0x11bac3ef0>,\n",
       "  <openpathsampling.engines.toy.snapshot.ToySnapshot at 0x11b9cbeb8>,\n",
       "  <openpathsampling.engines.toy.snapshot.ToySnapshot at 0x11bd08390>,\n",
       "  <openpathsampling.engines.toy.snapshot.ToySnapshot at 0x11bd136d8>,\n",
       "  <openpathsampling.engines.toy.snapshot.ToySnapshot at 0x11bd082e8>,\n",
       "  <openpathsampling.engines.toy.snapshot.ToySnapshot at 0x11bbde048>,\n",
       "  <openpathsampling.engines.toy.snapshot.ToySnapshot at 0x11bbde898>,\n",
       "  <openpathsampling.engines.toy.snapshot.ToySnapshot at 0x11bbde438>,\n",
       "  <openpathsampling.engines.toy.snapshot.ToySnapshot at 0x11bcf4588>,\n",
       "  <openpathsampling.engines.toy.snapshot.ToySnapshot at 0x11bd1ec18>,\n",
       "  <openpathsampling.engines.toy.snapshot.ToySnapshot at 0x11bd085c0>,\n",
       "  <openpathsampling.engines.toy.snapshot.ToySnapshot at 0x11bcfd160>,\n",
       "  <openpathsampling.engines.toy.snapshot.ToySnapshot at 0x11b9cbef0>,\n",
       "  <openpathsampling.engines.toy.snapshot.ToySnapshot at 0x11bd1e710>,\n",
       "  <openpathsampling.engines.toy.snapshot.ToySnapshot at 0x11bbde080>,\n",
       "  <openpathsampling.engines.toy.snapshot.ToySnapshot at 0x11b9cba58>,\n",
       "  <openpathsampling.engines.toy.snapshot.ToySnapshot at 0x11ba335f8>,\n",
       "  <openpathsampling.engines.toy.snapshot.ToySnapshot at 0x11bd1e7f0>,\n",
       "  <openpathsampling.engines.toy.snapshot.ToySnapshot at 0x11bd1eb70>,\n",
       "  <openpathsampling.engines.toy.snapshot.ToySnapshot at 0x11bd1e748>,\n",
       "  <openpathsampling.engines.toy.snapshot.ToySnapshot at 0x11bd1e3c8>,\n",
       "  <openpathsampling.engines.toy.snapshot.ToySnapshot at 0x11ba2ff98>,\n",
       "  <openpathsampling.engines.toy.snapshot.ToySnapshot at 0x11b9cb198>,\n",
       "  <openpathsampling.engines.toy.snapshot.ToySnapshot at 0x11bd13d68>,\n",
       "  <openpathsampling.engines.toy.snapshot.ToySnapshot at 0x11bcf4208>,\n",
       "  <openpathsampling.engines.toy.snapshot.ToySnapshot at 0x11bd081d0>,\n",
       "  <openpathsampling.engines.toy.snapshot.ToySnapshot at 0x11bd13208>,\n",
       "  <openpathsampling.engines.toy.snapshot.ToySnapshot at 0x11bd08eb8>,\n",
       "  <openpathsampling.engines.toy.snapshot.ToySnapshot at 0x11ba332e8>,\n",
       "  <openpathsampling.engines.toy.snapshot.ToySnapshot at 0x11bd1e0f0>,\n",
       "  <openpathsampling.engines.toy.snapshot.ToySnapshot at 0x11bd13ac8>,\n",
       "  <openpathsampling.engines.toy.snapshot.ToySnapshot at 0x11bcf4e10>,\n",
       "  <openpathsampling.engines.toy.snapshot.ToySnapshot at 0x11bd1e828>,\n",
       "  <openpathsampling.engines.toy.snapshot.ToySnapshot at 0x11bbdec18>,\n",
       "  <openpathsampling.engines.toy.snapshot.ToySnapshot at 0x11bbde518>,\n",
       "  <openpathsampling.engines.toy.snapshot.ToySnapshot at 0x11bd13f60>,\n",
       "  <openpathsampling.engines.toy.snapshot.ToySnapshot at 0x11bbde978>,\n",
       "  <openpathsampling.engines.toy.snapshot.ToySnapshot at 0x11bcf4eb8>,\n",
       "  <openpathsampling.engines.toy.snapshot.ToySnapshot at 0x11bd1eb38>,\n",
       "  <openpathsampling.engines.toy.snapshot.ToySnapshot at 0x11bd133c8>,\n",
       "  <openpathsampling.engines.toy.snapshot.ToySnapshot at 0x11bac3898>,\n",
       "  <openpathsampling.engines.toy.snapshot.ToySnapshot at 0x11bd086d8>,\n",
       "  <openpathsampling.engines.toy.snapshot.ToySnapshot at 0x11ba334e0>,\n",
       "  <openpathsampling.engines.toy.snapshot.ToySnapshot at 0x11bd137b8>,\n",
       "  <openpathsampling.engines.toy.snapshot.ToySnapshot at 0x11bbde710>,\n",
       "  <openpathsampling.engines.toy.snapshot.ToySnapshot at 0x11bd13b38>,\n",
       "  <openpathsampling.engines.toy.snapshot.ToySnapshot at 0x11bd08240>,\n",
       "  <openpathsampling.engines.toy.snapshot.ToySnapshot at 0x11bd08400>,\n",
       "  <openpathsampling.engines.toy.snapshot.ToySnapshot at 0x11bcfdda0>,\n",
       "  <openpathsampling.engines.toy.snapshot.ToySnapshot at 0x11bd08ba8>,\n",
       "  <openpathsampling.engines.toy.snapshot.ToySnapshot at 0x11bac3cf8>,\n",
       "  <openpathsampling.engines.toy.snapshot.ToySnapshot at 0x11bcfdf98>,\n",
       "  <openpathsampling.engines.toy.snapshot.ToySnapshot at 0x11b9cb9e8>,\n",
       "  <openpathsampling.engines.toy.snapshot.ToySnapshot at 0x11bcfd438>,\n",
       "  <openpathsampling.engines.toy.snapshot.ToySnapshot at 0x11ba2fc88>,\n",
       "  <openpathsampling.engines.toy.snapshot.ToySnapshot at 0x11bd1e4a8>,\n",
       "  <openpathsampling.engines.toy.snapshot.ToySnapshot at 0x11bd1e978>,\n",
       "  <openpathsampling.engines.toy.snapshot.ToySnapshot at 0x11bac3908>,\n",
       "  <openpathsampling.engines.toy.snapshot.ToySnapshot at 0x11bd13e10>,\n",
       "  <openpathsampling.engines.toy.snapshot.ToySnapshot at 0x11bac3b00>,\n",
       "  <openpathsampling.engines.toy.snapshot.ToySnapshot at 0x11bcf42b0>,\n",
       "  <openpathsampling.engines.toy.snapshot.ToySnapshot at 0x11bcfd2b0>,\n",
       "  <openpathsampling.engines.toy.snapshot.ToySnapshot at 0x11bcf4080>,\n",
       "  <openpathsampling.engines.toy.snapshot.ToySnapshot at 0x11bcf49b0>,\n",
       "  <openpathsampling.engines.toy.snapshot.ToySnapshot at 0x11bd1e940>,\n",
       "  <openpathsampling.engines.toy.snapshot.ToySnapshot at 0x11bd08f28>,\n",
       "  <openpathsampling.engines.toy.snapshot.ToySnapshot at 0x11bcf4d68>,\n",
       "  <openpathsampling.engines.toy.snapshot.ToySnapshot at 0x11bd13358>,\n",
       "  <openpathsampling.engines.toy.snapshot.ToySnapshot at 0x11bd08438>,\n",
       "  <openpathsampling.engines.toy.snapshot.ToySnapshot at 0x11bcf4358>,\n",
       "  <openpathsampling.engines.toy.snapshot.ToySnapshot at 0x11bd1e208>,\n",
       "  <openpathsampling.engines.toy.snapshot.ToySnapshot at 0x11bd08278>,\n",
       "  <openpathsampling.engines.toy.snapshot.ToySnapshot at 0x11bd1e668>,\n",
       "  <openpathsampling.engines.toy.snapshot.ToySnapshot at 0x11bd08b00>,\n",
       "  <openpathsampling.engines.toy.snapshot.ToySnapshot at 0x11ba2f320>,\n",
       "  <openpathsampling.engines.toy.snapshot.ToySnapshot at 0x11bcf49e8>,\n",
       "  <openpathsampling.engines.toy.snapshot.ToySnapshot at 0x11b9cb390>,\n",
       "  <openpathsampling.engines.toy.snapshot.ToySnapshot at 0x11bd1efd0>,\n",
       "  <openpathsampling.engines.toy.snapshot.ToySnapshot at 0x11bd1e160>,\n",
       "  <openpathsampling.engines.toy.snapshot.ToySnapshot at 0x11bd13dd8>,\n",
       "  <openpathsampling.engines.toy.snapshot.ToySnapshot at 0x11bd132e8>,\n",
       "  <openpathsampling.engines.toy.snapshot.ToySnapshot at 0x11bcfd6d8>,\n",
       "  <openpathsampling.engines.toy.snapshot.ToySnapshot at 0x11bd08fd0>,\n",
       "  <openpathsampling.engines.toy.snapshot.ToySnapshot at 0x11bd1e8d0>,\n",
       "  <openpathsampling.engines.toy.snapshot.ToySnapshot at 0x11bbdeac8>,\n",
       "  <openpathsampling.engines.toy.snapshot.ToySnapshot at 0x11ba335c0>,\n",
       "  <openpathsampling.engines.toy.snapshot.ToySnapshot at 0x11bd13240>,\n",
       "  <openpathsampling.engines.toy.snapshot.ToySnapshot at 0x11b9cbc88>,\n",
       "  <openpathsampling.engines.toy.snapshot.ToySnapshot at 0x11bcf4c50>,\n",
       "  <openpathsampling.engines.toy.snapshot.ToySnapshot at 0x11bcfd828>,\n",
       "  <openpathsampling.engines.toy.snapshot.ToySnapshot at 0x11bac39e8>,\n",
       "  <openpathsampling.engines.toy.snapshot.ToySnapshot at 0x11bd08358>,\n",
       "  <openpathsampling.engines.toy.snapshot.ToySnapshot at 0x11bcf4780>,\n",
       "  <openpathsampling.engines.toy.snapshot.ToySnapshot at 0x11ba33128>,\n",
       "  <openpathsampling.engines.toy.snapshot.ToySnapshot at 0x11bcfd390>,\n",
       "  <openpathsampling.engines.toy.snapshot.ToySnapshot at 0x11bac3e48>,\n",
       "  <openpathsampling.engines.toy.snapshot.ToySnapshot at 0x11bbde4a8>,\n",
       "  <openpathsampling.engines.toy.snapshot.ToySnapshot at 0x11bd1e278>,\n",
       "  <openpathsampling.engines.toy.snapshot.ToySnapshot at 0x11b9cbb38>,\n",
       "  <openpathsampling.engines.toy.snapshot.ToySnapshot at 0x11ba2ffd0>,\n",
       "  <openpathsampling.engines.toy.snapshot.ToySnapshot at 0x11bbde1d0>,\n",
       "  <openpathsampling.engines.toy.snapshot.ToySnapshot at 0x11bac3e80>,\n",
       "  <openpathsampling.engines.toy.snapshot.ToySnapshot at 0x11bd1ec50>,\n",
       "  <openpathsampling.engines.toy.snapshot.ToySnapshot at 0x11bd1ebe0>,\n",
       "  <openpathsampling.engines.toy.snapshot.ToySnapshot at 0x11bd08630>,\n",
       "  <openpathsampling.engines.toy.snapshot.ToySnapshot at 0x11bbdebe0>,\n",
       "  <openpathsampling.engines.toy.snapshot.ToySnapshot at 0x11b9cb4a8>,\n",
       "  <openpathsampling.engines.toy.snapshot.ToySnapshot at 0x11bd1ef28>,\n",
       "  <openpathsampling.engines.toy.snapshot.ToySnapshot at 0x11bd1eac8>,\n",
       "  <openpathsampling.engines.toy.snapshot.ToySnapshot at 0x11bd13668>,\n",
       "  <openpathsampling.engines.toy.snapshot.ToySnapshot at 0x11bcf4b00>,\n",
       "  <openpathsampling.engines.toy.snapshot.ToySnapshot at 0x11bd13128>,\n",
       "  <openpathsampling.engines.toy.snapshot.ToySnapshot at 0x11ba2fd30>,\n",
       "  <openpathsampling.engines.toy.snapshot.ToySnapshot at 0x11bd08cc0>,\n",
       "  <openpathsampling.engines.toy.snapshot.ToySnapshot at 0x11bcfdd30>,\n",
       "  <openpathsampling.engines.toy.snapshot.ToySnapshot at 0x11bcf41d0>,\n",
       "  <openpathsampling.engines.toy.snapshot.ToySnapshot at 0x11bd08da0>,\n",
       "  <openpathsampling.engines.toy.snapshot.ToySnapshot at 0x11bcf4ef0>,\n",
       "  <openpathsampling.engines.toy.snapshot.ToySnapshot at 0x11bd1eef0>,\n",
       "  <openpathsampling.engines.toy.snapshot.ToySnapshot at 0x11bcfd7f0>,\n",
       "  <openpathsampling.engines.toy.snapshot.ToySnapshot at 0x11bd087f0>,\n",
       "  <openpathsampling.engines.toy.snapshot.ToySnapshot at 0x11bd08a58>,\n",
       "  <openpathsampling.engines.toy.snapshot.ToySnapshot at 0x11b9cb278>,\n",
       "  <openpathsampling.engines.toy.snapshot.ToySnapshot at 0x11bd08b70>,\n",
       "  <openpathsampling.engines.toy.snapshot.ToySnapshot at 0x11bc29438>,\n",
       "  <openpathsampling.engines.toy.snapshot.ToySnapshot at 0x11bac3710>,\n",
       "  <openpathsampling.engines.toy.snapshot.ToySnapshot at 0x11bd1e198>,\n",
       "  <openpathsampling.engines.toy.snapshot.ToySnapshot at 0x11bd13860>,\n",
       "  <openpathsampling.engines.toy.snapshot.ToySnapshot at 0x11bd1e390>,\n",
       "  <openpathsampling.engines.toy.snapshot.ToySnapshot at 0x11bcfd630>,\n",
       "  <openpathsampling.engines.toy.snapshot.ToySnapshot at 0x11bac3d68>,\n",
       "  <openpathsampling.engines.toy.snapshot.ToySnapshot at 0x11ba33358>,\n",
       "  <openpathsampling.engines.toy.snapshot.ToySnapshot at 0x11b9cbcf8>,\n",
       "  <openpathsampling.engines.toy.snapshot.ToySnapshot at 0x11b9cb588>,\n",
       "  <openpathsampling.engines.toy.snapshot.ToySnapshot at 0x11bd1eeb8>,\n",
       "  <openpathsampling.engines.toy.snapshot.ToySnapshot at 0x11bac3a20>,\n",
       "  <openpathsampling.engines.toy.snapshot.ToySnapshot at 0x11bd139b0>,\n",
       "  <openpathsampling.engines.toy.snapshot.ToySnapshot at 0x11bd130f0>,\n",
       "  <openpathsampling.engines.toy.snapshot.ToySnapshot at 0x11bcf4160>,\n",
       "  <openpathsampling.engines.toy.snapshot.ToySnapshot at 0x11bcfdbe0>,\n",
       "  <openpathsampling.engines.toy.snapshot.ToySnapshot at 0x11bbdea20>,\n",
       "  <openpathsampling.engines.toy.snapshot.ToySnapshot at 0x11ba2f4e0>,\n",
       "  <openpathsampling.engines.toy.snapshot.ToySnapshot at 0x11bd1edd8>,\n",
       "  <openpathsampling.engines.toy.snapshot.ToySnapshot at 0x11bd1e860>,\n",
       "  <openpathsampling.engines.toy.snapshot.ToySnapshot at 0x11bcf4320>,\n",
       "  <openpathsampling.engines.toy.snapshot.ToySnapshot at 0x11bcf4470>,\n",
       "  <openpathsampling.engines.toy.snapshot.ToySnapshot at 0x11bcf4dd8>,\n",
       "  <openpathsampling.engines.toy.snapshot.ToySnapshot at 0x11bd08c50>,\n",
       "  <openpathsampling.engines.toy.snapshot.ToySnapshot at 0x11bd1e320>,\n",
       "  <openpathsampling.engines.toy.snapshot.ToySnapshot at 0x11ba2fcf8>,\n",
       "  <openpathsampling.engines.toy.snapshot.ToySnapshot at 0x11bd1ea90>,\n",
       "  <openpathsampling.engines.toy.snapshot.ToySnapshot at 0x11bd134a8>,\n",
       "  <openpathsampling.engines.toy.snapshot.ToySnapshot at 0x11bd13710>,\n",
       "  <openpathsampling.engines.toy.snapshot.ToySnapshot at 0x11bd13438>,\n",
       "  <openpathsampling.engines.toy.snapshot.ToySnapshot at 0x11bbdeb70>,\n",
       "  <openpathsampling.engines.toy.snapshot.ToySnapshot at 0x11ba33780>,\n",
       "  <openpathsampling.engines.toy.snapshot.ToySnapshot at 0x11b9cb668>,\n",
       "  <openpathsampling.engines.toy.snapshot.ToySnapshot at 0x11bd1ed30>,\n",
       "  <openpathsampling.engines.toy.snapshot.ToySnapshot at 0x11bbde748>,\n",
       "  <openpathsampling.engines.toy.snapshot.ToySnapshot at 0x11bd08b38>,\n",
       "  <openpathsampling.engines.toy.snapshot.ToySnapshot at 0x11ba2fb38>,\n",
       "  <openpathsampling.engines.toy.snapshot.ToySnapshot at 0x11ba33550>,\n",
       "  <openpathsampling.engines.toy.snapshot.ToySnapshot at 0x11ba2fbe0>,\n",
       "  <openpathsampling.engines.toy.snapshot.ToySnapshot at 0x11bd08a90>,\n",
       "  <openpathsampling.engines.toy.snapshot.ToySnapshot at 0x11bcfd780>,\n",
       "  <openpathsampling.engines.toy.snapshot.ToySnapshot at 0x11bac3f98>,\n",
       "  <openpathsampling.engines.toy.snapshot.ToySnapshot at 0x11bcf4c18>,\n",
       "  <openpathsampling.engines.toy.snapshot.ToySnapshot at 0x11bcf43c8>,\n",
       "  <openpathsampling.engines.toy.snapshot.ToySnapshot at 0x11bd13518>,\n",
       "  <openpathsampling.engines.toy.snapshot.ToySnapshot at 0x11b9cbe80>,\n",
       "  <openpathsampling.engines.toy.snapshot.ToySnapshot at 0x11bd1ee80>,\n",
       "  <openpathsampling.engines.toy.snapshot.ToySnapshot at 0x11bd132b0>,\n",
       "  <openpathsampling.engines.toy.snapshot.ToySnapshot at 0x11bac3940>,\n",
       "  <openpathsampling.engines.toy.snapshot.ToySnapshot at 0x11bd082b0>,\n",
       "  <openpathsampling.engines.toy.snapshot.ToySnapshot at 0x11bcf46d8>,\n",
       "  <openpathsampling.engines.toy.snapshot.ToySnapshot at 0x11bac3ac8>,\n",
       "  <openpathsampling.engines.toy.snapshot.ToySnapshot at 0x11ba2f780>,\n",
       "  <openpathsampling.engines.toy.snapshot.ToySnapshot at 0x11bd1e588>,\n",
       "  <openpathsampling.engines.toy.snapshot.ToySnapshot at 0x11b9cb828>,\n",
       "  <openpathsampling.engines.toy.snapshot.ToySnapshot at 0x11ba2fdd8>,\n",
       "  <openpathsampling.engines.toy.snapshot.ToySnapshot at 0x11bcfd908>,\n",
       "  <openpathsampling.engines.toy.snapshot.ToySnapshot at 0x11bd13c88>,\n",
       "  <openpathsampling.engines.toy.snapshot.ToySnapshot at 0x11ba2f9b0>,\n",
       "  <openpathsampling.engines.toy.snapshot.ToySnapshot at 0x11bcfdba8>,\n",
       "  <openpathsampling.engines.toy.snapshot.ToySnapshot at 0x11bcfd550>,\n",
       "  <openpathsampling.engines.toy.snapshot.ToySnapshot at 0x11bd13160>,\n",
       "  <openpathsampling.engines.toy.snapshot.ToySnapshot at 0x11bd13550>,\n",
       "  <openpathsampling.engines.toy.snapshot.ToySnapshot at 0x11bd134e0>,\n",
       "  <openpathsampling.engines.toy.snapshot.ToySnapshot at 0x11bcf4940>,\n",
       "  <openpathsampling.engines.toy.snapshot.ToySnapshot at 0x11ba331d0>,\n",
       "  <openpathsampling.engines.toy.snapshot.ToySnapshot at 0x11bcf4748>,\n",
       "  <openpathsampling.engines.toy.snapshot.ToySnapshot at 0x11bd13390>,\n",
       "  <openpathsampling.engines.toy.snapshot.ToySnapshot at 0x11bcf44e0>,\n",
       "  <openpathsampling.engines.toy.snapshot.ToySnapshot at 0x11bcf4d30>,\n",
       "  <openpathsampling.engines.toy.snapshot.ToySnapshot at 0x11b9cbda0>,\n",
       "  <openpathsampling.engines.toy.snapshot.ToySnapshot at 0x11ba2f0f0>,\n",
       "  <openpathsampling.engines.toy.snapshot.ToySnapshot at 0x11bd08780>,\n",
       "  <openpathsampling.engines.toy.snapshot.ToySnapshot at 0x11bbde2e8>,\n",
       "  <openpathsampling.engines.toy.snapshot.ToySnapshot at 0x11bcfdcc0>,\n",
       "  <openpathsampling.engines.toy.snapshot.ToySnapshot at 0x11bd1ecc0>,\n",
       "  <openpathsampling.engines.toy.snapshot.ToySnapshot at 0x11ba2fe80>,\n",
       "  <openpathsampling.engines.toy.snapshot.ToySnapshot at 0x11bcfd7b8>,\n",
       "  <openpathsampling.engines.toy.snapshot.ToySnapshot at 0x11bd08ef0>,\n",
       "  <openpathsampling.engines.toy.snapshot.ToySnapshot at 0x11bcfd588>,\n",
       "  <openpathsampling.engines.toy.snapshot.ToySnapshot at 0x11ba334a8>,\n",
       "  <openpathsampling.engines.toy.snapshot.ToySnapshot at 0x11bbde8d0>,\n",
       "  <openpathsampling.engines.toy.snapshot.ToySnapshot at 0x11bd080f0>,\n",
       "  <openpathsampling.engines.toy.snapshot.ToySnapshot at 0x11bd08550>,\n",
       "  <openpathsampling.engines.toy.snapshot.ToySnapshot at 0x11bcf4be0>,\n",
       "  <openpathsampling.engines.toy.snapshot.ToySnapshot at 0x11ba33470>,\n",
       "  <openpathsampling.engines.toy.snapshot.ToySnapshot at 0x11bcfd710>,\n",
       "  <openpathsampling.engines.toy.snapshot.ToySnapshot at 0x11b9cb6d8>,\n",
       "  <openpathsampling.engines.toy.snapshot.ToySnapshot at 0x11bd1e9b0>,\n",
       "  <openpathsampling.engines.toy.snapshot.ToySnapshot at 0x11bbde0b8>,\n",
       "  <openpathsampling.engines.toy.snapshot.ToySnapshot at 0x11b9cbac8>,\n",
       "  <openpathsampling.engines.toy.snapshot.ToySnapshot at 0x11bcfdc88>,\n",
       "  <openpathsampling.engines.toy.snapshot.ToySnapshot at 0x11ba33160>,\n",
       "  <openpathsampling.engines.toy.snapshot.ToySnapshot at 0x11ba33518>,\n",
       "  <openpathsampling.engines.toy.snapshot.ToySnapshot at 0x11bcf4a20>,\n",
       "  <openpathsampling.engines.toy.snapshot.ToySnapshot at 0x11bac3d30>,\n",
       "  <openpathsampling.engines.toy.snapshot.ToySnapshot at 0x11ba33438>,\n",
       "  <openpathsampling.engines.toy.snapshot.ToySnapshot at 0x11ba2f198>,\n",
       "  <openpathsampling.engines.toy.snapshot.ToySnapshot at 0x11bcfd898>,\n",
       "  <openpathsampling.engines.toy.snapshot.ToySnapshot at 0x11ba2fb00>,\n",
       "  <openpathsampling.engines.toy.snapshot.ToySnapshot at 0x11bac3f28>,\n",
       "  <openpathsampling.engines.toy.snapshot.ToySnapshot at 0x11b9cb908>,\n",
       "  <openpathsampling.engines.toy.snapshot.ToySnapshot at 0x11bcfd5c0>,\n",
       "  <openpathsampling.engines.toy.snapshot.ToySnapshot at 0x11bcf4400>,\n",
       "  <openpathsampling.engines.toy.snapshot.ToySnapshot at 0x11bcf4438>,\n",
       "  <openpathsampling.engines.toy.snapshot.ToySnapshot at 0x11bcfd470>,\n",
       "  <openpathsampling.engines.toy.snapshot.ToySnapshot at 0x11bbde630>,\n",
       "  <openpathsampling.engines.toy.snapshot.ToySnapshot at 0x11bd1e550>,\n",
       "  <openpathsampling.engines.toy.snapshot.ToySnapshot at 0x11bcfd198>,\n",
       "  <openpathsampling.engines.toy.snapshot.ToySnapshot at 0x11bbde4e0>,\n",
       "  <openpathsampling.engines.toy.snapshot.ToySnapshot at 0x11bbde5f8>,\n",
       "  <openpathsampling.engines.toy.snapshot.ToySnapshot at 0x11bd1e470>,\n",
       "  <openpathsampling.engines.toy.snapshot.ToySnapshot at 0x11bbdeb00>,\n",
       "  <openpathsampling.engines.toy.snapshot.ToySnapshot at 0x11bbde668>,\n",
       "  <openpathsampling.engines.toy.snapshot.ToySnapshot at 0x11bbde908>,\n",
       "  <openpathsampling.engines.toy.snapshot.ToySnapshot at 0x11bd08048>,\n",
       "  <openpathsampling.engines.toy.snapshot.ToySnapshot at 0x11bd1e2b0>,\n",
       "  <openpathsampling.engines.toy.snapshot.ToySnapshot at 0x11bd13d30>,\n",
       "  <openpathsampling.engines.toy.snapshot.ToySnapshot at 0x11bd13470>,\n",
       "  <openpathsampling.engines.toy.snapshot.ToySnapshot at 0x11bd08470>,\n",
       "  <openpathsampling.engines.toy.snapshot.ToySnapshot at 0x11bd089e8>,\n",
       "  <openpathsampling.engines.toy.snapshot.ToySnapshot at 0x11bcfd6a0>,\n",
       "  <openpathsampling.engines.toy.snapshot.ToySnapshot at 0x11bd1e630>,\n",
       "  <openpathsampling.engines.toy.snapshot.ToySnapshot at 0x11bcf4908>,\n",
       "  <openpathsampling.engines.toy.snapshot.ToySnapshot at 0x11ba33588>,\n",
       "  <openpathsampling.engines.toy.snapshot.ToySnapshot at 0x11bbde3c8>,\n",
       "  <openpathsampling.engines.toy.snapshot.ToySnapshot at 0x11bd13ba8>,\n",
       "  <openpathsampling.engines.toy.snapshot.ToySnapshot at 0x11bd13898>,\n",
       "  <openpathsampling.engines.toy.snapshot.ToySnapshot at 0x11bcf4b70>,\n",
       "  <openpathsampling.engines.toy.snapshot.ToySnapshot at 0x11bd1eda0>,\n",
       "  <openpathsampling.engines.toy.snapshot.ToySnapshot at 0x11bd13fd0>,\n",
       "  <openpathsampling.engines.toy.snapshot.ToySnapshot at 0x11bcf4278>,\n",
       "  <openpathsampling.engines.toy.snapshot.ToySnapshot at 0x11bac3828>,\n",
       "  <openpathsampling.engines.toy.snapshot.ToySnapshot at 0x11bcf4da0>,\n",
       "  <openpathsampling.engines.toy.snapshot.ToySnapshot at 0x11ba2fc50>,\n",
       "  <openpathsampling.engines.toy.snapshot.ToySnapshot at 0x11bbde9e8>,\n",
       "  <openpathsampling.engines.toy.snapshot.ToySnapshot at 0x11bcfdef0>,\n",
       "  <openpathsampling.engines.toy.snapshot.ToySnapshot at 0x11bcfdac8>,\n",
       "  <openpathsampling.engines.toy.snapshot.ToySnapshot at 0x11bcfd978>,\n",
       "  <openpathsampling.engines.toy.snapshot.ToySnapshot at 0x11bd089b0>,\n",
       "  <openpathsampling.engines.toy.snapshot.ToySnapshot at 0x11bd08588>,\n",
       "  <openpathsampling.engines.toy.snapshot.ToySnapshot at 0x11ba2f8d0>,\n",
       "  <openpathsampling.engines.toy.snapshot.ToySnapshot at 0x11bcf4860>,\n",
       "  <openpathsampling.engines.toy.snapshot.ToySnapshot at 0x11bd13630>,\n",
       "  <openpathsampling.engines.toy.snapshot.ToySnapshot at 0x11bbde9b0>,\n",
       "  <openpathsampling.engines.toy.snapshot.ToySnapshot at 0x11bcf4828>,\n",
       "  <openpathsampling.engines.toy.snapshot.ToySnapshot at 0x11bac3a90>,\n",
       "  <openpathsampling.engines.toy.snapshot.ToySnapshot at 0x11bcfdeb8>,\n",
       "  <openpathsampling.engines.toy.snapshot.ToySnapshot at 0x11bd08860>,\n",
       "  <openpathsampling.engines.toy.snapshot.ToySnapshot at 0x11bcfd518>,\n",
       "  <openpathsampling.engines.toy.snapshot.ToySnapshot at 0x11bcfdf28>,\n",
       "  <openpathsampling.engines.toy.snapshot.ToySnapshot at 0x11bd08e80>,\n",
       "  <openpathsampling.engines.toy.snapshot.ToySnapshot at 0x11bbde588>,\n",
       "  <openpathsampling.engines.toy.snapshot.ToySnapshot at 0x11b9cb1d0>,\n",
       "  <openpathsampling.engines.toy.snapshot.ToySnapshot at 0x11bd13940>,\n",
       "  <openpathsampling.engines.toy.snapshot.ToySnapshot at 0x11bcfd240>,\n",
       "  <openpathsampling.engines.toy.snapshot.ToySnapshot at 0x11bd1e898>,\n",
       "  <openpathsampling.engines.toy.snapshot.ToySnapshot at 0x11bd1ecf8>,\n",
       "  <openpathsampling.engines.toy.snapshot.ToySnapshot at 0x11b9cbdd8>,\n",
       "  <openpathsampling.engines.toy.snapshot.ToySnapshot at 0x11bcf4a58>,\n",
       "  <openpathsampling.engines.toy.snapshot.ToySnapshot at 0x11bcfdc18>,\n",
       "  <openpathsampling.engines.toy.snapshot.ToySnapshot at 0x11bcfde10>,\n",
       "  <openpathsampling.engines.toy.snapshot.ToySnapshot at 0x11bcf4550>,\n",
       "  <openpathsampling.engines.toy.snapshot.ToySnapshot at 0x11bbde198>,\n",
       "  <openpathsampling.engines.toy.snapshot.ToySnapshot at 0x11bbdeb38>,\n",
       "  <openpathsampling.engines.toy.snapshot.ToySnapshot at 0x11b9cb5f8>,\n",
       "  <openpathsampling.engines.toy.snapshot.ToySnapshot at 0x11bd08ac8>,\n",
       "  <openpathsampling.engines.toy.snapshot.ToySnapshot at 0x11bcfd4a8>,\n",
       "  <openpathsampling.engines.toy.snapshot.ToySnapshot at 0x11bd13a90>,\n",
       "  <openpathsampling.engines.toy.snapshot.ToySnapshot at 0x11bcfdc50>,\n",
       "  <openpathsampling.engines.toy.snapshot.ToySnapshot at 0x11bcfd9e8>,\n",
       "  <openpathsampling.engines.toy.snapshot.ToySnapshot at 0x11ba33630>,\n",
       "  <openpathsampling.engines.toy.snapshot.ToySnapshot at 0x11ba33748>,\n",
       "  <openpathsampling.engines.toy.snapshot.ToySnapshot at 0x11bd08dd8>,\n",
       "  <openpathsampling.engines.toy.snapshot.ToySnapshot at 0x11bd1eb00>,\n",
       "  <openpathsampling.engines.toy.snapshot.ToySnapshot at 0x11bbdea90>,\n",
       "  <openpathsampling.engines.toy.snapshot.ToySnapshot at 0x11bac3dd8>,\n",
       "  <openpathsampling.engines.toy.snapshot.ToySnapshot at 0x11bcfdf60>,\n",
       "  <openpathsampling.engines.toy.snapshot.ToySnapshot at 0x11ba2f080>,\n",
       "  <openpathsampling.engines.toy.snapshot.ToySnapshot at 0x11bd1ef60>,\n",
       "  <openpathsampling.engines.toy.snapshot.ToySnapshot at 0x11b9cbf98>,\n",
       "  <openpathsampling.engines.toy.snapshot.ToySnapshot at 0x11bd13be0>,\n",
       "  <openpathsampling.engines.toy.snapshot.ToySnapshot at 0x11bbdec50>,\n",
       "  <openpathsampling.engines.toy.snapshot.ToySnapshot at 0x11bac3e10>,\n",
       "  <openpathsampling.engines.toy.snapshot.ToySnapshot at 0x11bd13c50>,\n",
       "  <openpathsampling.engines.toy.snapshot.ToySnapshot at 0x11ba2fcc0>,\n",
       "  <openpathsampling.engines.toy.snapshot.ToySnapshot at 0x11bd13cf8>,\n",
       "  <openpathsampling.engines.toy.snapshot.ToySnapshot at 0x11bd1e1d0>,\n",
       "  <openpathsampling.engines.toy.snapshot.ToySnapshot at 0x11b9cb748>,\n",
       "  <openpathsampling.engines.toy.snapshot.ToySnapshot at 0x11bd13198>,\n",
       "  <openpathsampling.engines.toy.snapshot.ToySnapshot at 0x11bd1e048>,\n",
       "  <openpathsampling.engines.toy.snapshot.ToySnapshot at 0x11b9cb0b8>,\n",
       "  <openpathsampling.engines.toy.snapshot.ToySnapshot at 0x11bcf45c0>,\n",
       "  <openpathsampling.engines.toy.snapshot.ToySnapshot at 0x11bd08198>,\n",
       "  <openpathsampling.engines.toy.snapshot.ToySnapshot at 0x11bd13da0>,\n",
       "  <openpathsampling.engines.toy.snapshot.ToySnapshot at 0x11bd08c18>,\n",
       "  <openpathsampling.engines.toy.snapshot.ToySnapshot at 0x11bd13a58>,\n",
       "  <openpathsampling.engines.toy.snapshot.ToySnapshot at 0x11bbde208>,\n",
       "  <openpathsampling.engines.toy.snapshot.ToySnapshot at 0x11bcf4f60>,\n",
       "  <openpathsampling.engines.toy.snapshot.ToySnapshot at 0x11bcf45f8>,\n",
       "  <openpathsampling.engines.toy.snapshot.ToySnapshot at 0x11bd1e908>,\n",
       "  <openpathsampling.engines.toy.snapshot.ToySnapshot at 0x11bd1e4e0>,\n",
       "  <openpathsampling.engines.toy.snapshot.ToySnapshot at 0x11bd08940>,\n",
       "  <openpathsampling.engines.toy.snapshot.ToySnapshot at 0x11bbde240>,\n",
       "  <openpathsampling.engines.toy.snapshot.ToySnapshot at 0x11bd13b00>,\n",
       "  <openpathsampling.engines.toy.snapshot.ToySnapshot at 0x11bd1e128>,\n",
       "  <openpathsampling.engines.toy.snapshot.ToySnapshot at 0x11bd08f98>,\n",
       "  <openpathsampling.engines.toy.snapshot.ToySnapshot at 0x11bd13978>,\n",
       "  <openpathsampling.engines.toy.snapshot.ToySnapshot at 0x11bcf4898>,\n",
       "  <openpathsampling.engines.toy.snapshot.ToySnapshot at 0x11bd13080>,\n",
       "  <openpathsampling.engines.toy.snapshot.ToySnapshot at 0x11bd13588>,\n",
       "  <openpathsampling.engines.toy.snapshot.ToySnapshot at 0x11ba33668>,\n",
       "  <openpathsampling.engines.toy.snapshot.ToySnapshot at 0x11bcf44a8>,\n",
       "  <openpathsampling.engines.toy.snapshot.ToySnapshot at 0x11bcfd3c8>,\n",
       "  <openpathsampling.engines.toy.snapshot.ToySnapshot at 0x11bcf4a90>,\n",
       "  <openpathsampling.engines.toy.snapshot.ToySnapshot at 0x11bcfda20>,\n",
       "  <openpathsampling.engines.toy.snapshot.ToySnapshot at 0x11bd13400>,\n",
       "  <openpathsampling.engines.toy.snapshot.ToySnapshot at 0x11bd1e438>,\n",
       "  <openpathsampling.engines.toy.snapshot.ToySnapshot at 0x11bbde940>,\n",
       "  <openpathsampling.engines.toy.snapshot.ToySnapshot at 0x11bcf4cc0>,\n",
       "  <openpathsampling.engines.toy.snapshot.ToySnapshot at 0x11bac39b0>,\n",
       "  <openpathsampling.engines.toy.snapshot.ToySnapshot at 0x11b9cb7b8>,\n",
       "  <openpathsampling.engines.toy.snapshot.ToySnapshot at 0x11bcfddd8>,\n",
       "  <openpathsampling.engines.toy.snapshot.ToySnapshot at 0x11bd08320>,\n",
       "  <openpathsampling.engines.toy.snapshot.ToySnapshot at 0x11bcfd0b8>,\n",
       "  <openpathsampling.engines.toy.snapshot.ToySnapshot at 0x11ba2f400>,\n",
       "  <openpathsampling.engines.toy.snapshot.ToySnapshot at 0x11bcf4668>,\n",
       "  <openpathsampling.engines.toy.snapshot.ToySnapshot at 0x11bd1e358>,\n",
       "  <openpathsampling.engines.toy.snapshot.ToySnapshot at 0x11b9cb358>,\n",
       "  <openpathsampling.engines.toy.snapshot.ToySnapshot at 0x11bcf4f28>,\n",
       "  <openpathsampling.engines.toy.snapshot.ToySnapshot at 0x11bd1e780>,\n",
       "  <openpathsampling.engines.toy.snapshot.ToySnapshot at 0x11bcf4630>,\n",
       "  <openpathsampling.engines.toy.snapshot.ToySnapshot at 0x11bd13a20>,\n",
       "  <openpathsampling.engines.toy.snapshot.ToySnapshot at 0x11bbde0f0>,\n",
       "  <openpathsampling.engines.toy.snapshot.ToySnapshot at 0x11b9cbc18>,\n",
       "  <openpathsampling.engines.toy.snapshot.ToySnapshot at 0x11bcfd9b0>,\n",
       "  <openpathsampling.engines.toy.snapshot.ToySnapshot at 0x11ba33710>,\n",
       "  <openpathsampling.engines.toy.snapshot.ToySnapshot at 0x11bbde7b8>,\n",
       "  <openpathsampling.engines.toy.snapshot.ToySnapshot at 0x11bbde6d8>,\n",
       "  <openpathsampling.engines.toy.snapshot.ToySnapshot at 0x11bd1e5c0>,\n",
       "  <openpathsampling.engines.toy.snapshot.ToySnapshot at 0x11bac3da0>,\n",
       "  <openpathsampling.engines.toy.snapshot.ToySnapshot at 0x11b9cbba8>,\n",
       "  <openpathsampling.engines.toy.snapshot.ToySnapshot at 0x11bac3a58>,\n",
       "  <openpathsampling.engines.toy.snapshot.ToySnapshot at 0x11bd138d0>,\n",
       "  <openpathsampling.engines.toy.snapshot.ToySnapshot at 0x11b9cbd30>,\n",
       "  <openpathsampling.engines.toy.snapshot.ToySnapshot at 0x11bd08e10>,\n",
       "  <openpathsampling.engines.toy.snapshot.ToySnapshot at 0x11bac37b8>,\n",
       "  <openpathsampling.engines.toy.snapshot.ToySnapshot at 0x11bd1e518>,\n",
       "  <openpathsampling.engines.toy.snapshot.ToySnapshot at 0x11b9cbf28>,\n",
       "  <openpathsampling.engines.toy.snapshot.ToySnapshot at 0x11bd1ee48>,\n",
       "  <openpathsampling.engines.toy.snapshot.ToySnapshot at 0x11ba2f4a8>,\n",
       "  <openpathsampling.engines.toy.snapshot.ToySnapshot at 0x11bcfd048>,\n",
       "  <openpathsampling.engines.toy.snapshot.ToySnapshot at 0x11bbde390>,\n",
       "  <openpathsampling.engines.toy.snapshot.ToySnapshot at 0x11bd13278>,\n",
       "  <openpathsampling.engines.toy.snapshot.ToySnapshot at 0x11bcf4cf8>,\n",
       "  <openpathsampling.engines.toy.snapshot.ToySnapshot at 0x11ba33208>,\n",
       "  <openpathsampling.engines.toy.snapshot.ToySnapshot at 0x11bcf40f0>,\n",
       "  <openpathsampling.engines.toy.snapshot.ToySnapshot at 0x11bd137f0>,\n",
       "  <openpathsampling.engines.toy.snapshot.ToySnapshot at 0x11bd08668>,\n",
       "  <openpathsampling.engines.toy.snapshot.ToySnapshot at 0x11ba2fda0>,\n",
       "  <openpathsampling.engines.toy.snapshot.ToySnapshot at 0x11b9cb3c8>,\n",
       "  <openpathsampling.engines.toy.snapshot.ToySnapshot at 0x11ba33080>,\n",
       "  <openpathsampling.engines.toy.snapshot.ToySnapshot at 0x11bd085f8>,\n",
       "  <openpathsampling.engines.toy.snapshot.ToySnapshot at 0x11b9cb978>,\n",
       "  <openpathsampling.engines.toy.snapshot.ToySnapshot at 0x11bcfde80>,\n",
       "  <openpathsampling.engines.toy.snapshot.ToySnapshot at 0x11bcf4978>,\n",
       "  <openpathsampling.engines.toy.snapshot.ToySnapshot at 0x11bd135f8>,\n",
       "  <openpathsampling.engines.toy.snapshot.ToySnapshot at 0x11bd13b70>,\n",
       "  <openpathsampling.engines.toy.snapshot.ToySnapshot at 0x11b9cb898>,\n",
       "  <openpathsampling.engines.toy.snapshot.ToySnapshot at 0x11bcf4e48>,\n",
       "  <openpathsampling.engines.toy.snapshot.ToySnapshot at 0x11bbde128>,\n",
       "  <openpathsampling.engines.toy.snapshot.ToySnapshot at 0x11bd086a0>,\n",
       "  <openpathsampling.engines.toy.snapshot.ToySnapshot at 0x11bd1ea58>,\n",
       "  <openpathsampling.engines.toy.snapshot.ToySnapshot at 0x11bac3748>,\n",
       "  <openpathsampling.engines.toy.snapshot.ToySnapshot at 0x11bd13e80>,\n",
       "  <openpathsampling.engines.toy.snapshot.ToySnapshot at 0x11bbde320>,\n",
       "  <openpathsampling.engines.toy.snapshot.ToySnapshot at 0x11bd13cc0>,\n",
       "  <openpathsampling.engines.toy.snapshot.ToySnapshot at 0x11bcfde48>,\n",
       "  <openpathsampling.engines.toy.snapshot.ToySnapshot at 0x11bd139e8>,\n",
       "  <openpathsampling.engines.toy.snapshot.ToySnapshot at 0x11bac3eb8>,\n",
       "  <openpathsampling.engines.toy.snapshot.ToySnapshot at 0x11ba33390>,\n",
       "  <openpathsampling.engines.toy.snapshot.ToySnapshot at 0x11bd08128>,\n",
       "  <openpathsampling.engines.toy.snapshot.ToySnapshot at 0x11ba2f278>,\n",
       "  <openpathsampling.engines.toy.snapshot.ToySnapshot at 0x11bd1e400>,\n",
       "  <openpathsampling.engines.toy.snapshot.ToySnapshot at 0x11bcf4198>,\n",
       "  <openpathsampling.engines.toy.snapshot.ToySnapshot at 0x11bcf4b38>,\n",
       "  <openpathsampling.engines.toy.snapshot.ToySnapshot at 0x11bbde278>,\n",
       "  <openpathsampling.engines.toy.snapshot.ToySnapshot at 0x11bcf4048>,\n",
       "  <openpathsampling.engines.toy.snapshot.ToySnapshot at 0x11bd1e240>,\n",
       "  <openpathsampling.engines.toy.snapshot.ToySnapshot at 0x11bcfd080>,\n",
       "  <openpathsampling.engines.toy.snapshot.ToySnapshot at 0x11ba2fa90>,\n",
       "  <openpathsampling.engines.toy.snapshot.ToySnapshot at 0x11bcf4240>,\n",
       "  <openpathsampling.engines.toy.snapshot.ToySnapshot at 0x11bd130b8>,\n",
       "  <openpathsampling.engines.toy.snapshot.ToySnapshot at 0x11bd08748>,\n",
       "  <openpathsampling.engines.toy.snapshot.ToySnapshot at 0x11bd084e0>,\n",
       "  <openpathsampling.engines.toy.snapshot.ToySnapshot at 0x11bbde6a0>,\n",
       "  <openpathsampling.engines.toy.snapshot.ToySnapshot at 0x11bd1e7b8>,\n",
       "  <openpathsampling.engines.toy.snapshot.ToySnapshot at 0x11bcf4710>,\n",
       "  <openpathsampling.engines.toy.snapshot.ToySnapshot at 0x11bcf48d0>,\n",
       "  <openpathsampling.engines.toy.snapshot.ToySnapshot at 0x11bbde160>,\n",
       "  <openpathsampling.engines.toy.snapshot.ToySnapshot at 0x11bd08828>,\n",
       "  <openpathsampling.engines.toy.snapshot.ToySnapshot at 0x11bbde7f0>,\n",
       "  <openpathsampling.engines.toy.snapshot.ToySnapshot at 0x11bd13320>,\n",
       "  <openpathsampling.engines.toy.snapshot.ToySnapshot at 0x11bcfd4e0>,\n",
       "  <openpathsampling.engines.toy.snapshot.ToySnapshot at 0x11bd08d68>,\n",
       "  <openpathsampling.engines.toy.snapshot.ToySnapshot at 0x11bcf4390>,\n",
       "  <openpathsampling.engines.toy.snapshot.ToySnapshot at 0x11bd083c8>,\n",
       "  <openpathsampling.engines.toy.snapshot.ToySnapshot at 0x11bcfdfd0>,\n",
       "  <openpathsampling.engines.toy.snapshot.ToySnapshot at 0x11bd13eb8>,\n",
       "  <openpathsampling.engines.toy.snapshot.ToySnapshot at 0x11bac3c88>,\n",
       "  <openpathsampling.engines.toy.snapshot.ToySnapshot at 0x11bcf4e80>,\n",
       "  <openpathsampling.engines.toy.snapshot.ToySnapshot at 0x11ba33048>,\n",
       "  <openpathsampling.engines.toy.snapshot.ToySnapshot at 0x11bac3be0>,\n",
       "  <openpathsampling.engines.toy.snapshot.ToySnapshot at 0x11ba330b8>,\n",
       "  <openpathsampling.engines.toy.snapshot.ToySnapshot at 0x11bd1e9e8>,\n",
       "  <openpathsampling.engines.toy.snapshot.ToySnapshot at 0x11bcf4518>,\n",
       "  <openpathsampling.engines.toy.snapshot.ToySnapshot at 0x11bac3b70>,\n",
       "  <openpathsampling.engines.toy.snapshot.ToySnapshot at 0x11bd131d0>,\n",
       "  <openpathsampling.engines.toy.snapshot.ToySnapshot at 0x11bd08898>,\n",
       "  <openpathsampling.engines.toy.snapshot.ToySnapshot at 0x11bcf42e8>,\n",
       "  <openpathsampling.engines.toy.snapshot.ToySnapshot at 0x11bcf4128>,\n",
       "  <openpathsampling.engines.toy.snapshot.ToySnapshot at 0x11bcf46a0>,\n",
       "  <openpathsampling.engines.toy.snapshot.ToySnapshot at 0x11ba336d8>,\n",
       "  <openpathsampling.engines.toy.snapshot.ToySnapshot at 0x11bcfda90>,\n",
       "  <openpathsampling.engines.toy.snapshot.ToySnapshot at 0x11bcfdb38>,\n",
       "  <openpathsampling.engines.toy.snapshot.ToySnapshot at 0x11bcfd860>,\n",
       "  <openpathsampling.engines.toy.snapshot.ToySnapshot at 0x11ba2f470>,\n",
       "  <openpathsampling.engines.toy.snapshot.ToySnapshot at 0x11bd080b8>,\n",
       "  <openpathsampling.engines.toy.snapshot.ToySnapshot at 0x11bcfd940>,\n",
       "  <openpathsampling.engines.toy.snapshot.ToySnapshot at 0x11bd08e48>,\n",
       "  <openpathsampling.engines.toy.snapshot.ToySnapshot at 0x11ba33320>,\n",
       "  <openpathsampling.engines.toy.snapshot.ToySnapshot at 0x11bbde358>,\n",
       "  <openpathsampling.engines.toy.snapshot.ToySnapshot at 0x11bbdec88>,\n",
       "  <openpathsampling.engines.toy.snapshot.ToySnapshot at 0x11bd1ea20>,\n",
       "  <openpathsampling.engines.toy.snapshot.ToySnapshot at 0x11bd087b8>,\n",
       "  <openpathsampling.engines.toy.snapshot.ToySnapshot at 0x11bcfd2e8>,\n",
       "  <openpathsampling.engines.toy.snapshot.ToySnapshot at 0x11bac3b38>,\n",
       "  <openpathsampling.engines.toy.snapshot.ToySnapshot at 0x11bcfd0f0>]}"
      ]
     },
     "execution_count": 18,
     "metadata": {},
     "output_type": "execute_result"
    }
   ],
   "source": [
    "# TODO: this appears to be a problem with lazy-loading\n",
    "s5.trajectory.to_dict()"
   ]
  },
  {
   "cell_type": "code",
   "execution_count": 19,
   "metadata": {},
   "outputs": [
    {
     "data": {
      "text/plain": [
       "<Sample @ 0x11bc29f60>"
      ]
     },
     "execution_count": 19,
     "metadata": {},
     "output_type": "execute_result"
    }
   ],
   "source": [
    "samples[0]"
   ]
  },
  {
   "cell_type": "code",
   "execution_count": 20,
   "metadata": {},
   "outputs": [
    {
     "data": {
      "text/plain": [
       "13"
      ]
     },
     "execution_count": 20,
     "metadata": {},
     "output_type": "execute_result"
    }
   ],
   "source": [
    "len(samples)"
   ]
  },
  {
   "cell_type": "code",
   "execution_count": 21,
   "metadata": {},
   "outputs": [],
   "source": [
    "logging.getLogger('sql_backend').setLevel(logging.DEBUG)\n",
    "logging.getLogger('storage').setLevel(logging.DEBUG)\n",
    "logging.getLogger('serialization').setLevel(logging.DEBUG)\n",
    "\n",
    "samples.save(samples[0])"
   ]
  },
  {
   "cell_type": "code",
   "execution_count": 22,
   "metadata": {},
   "outputs": [
    {
     "data": {
      "text/plain": [
       "13"
      ]
     },
     "execution_count": 22,
     "metadata": {},
     "output_type": "execute_result"
    }
   ],
   "source": [
    "len(storage.trajectories)"
   ]
  },
  {
   "cell_type": "code",
   "execution_count": 23,
   "metadata": {},
   "outputs": [
    {
     "data": {
      "text/plain": [
       "0"
      ]
     },
     "execution_count": 23,
     "metadata": {},
     "output_type": "execute_result"
    }
   ],
   "source": [
    "len(storage.steps)"
   ]
  },
  {
   "cell_type": "code",
   "execution_count": 24,
   "metadata": {},
   "outputs": [
    {
     "name": "stdout",
     "output_type": "stream",
     "text": [
      "File: test.sql\n",
      "Includes tables:\n",
      "* samples: 13 items\n",
      "* sample_sets: 1 items\n",
      "* trajectories: 13 items\n",
      "* move_changes: 0 items\n",
      "* steps: 0 items\n",
      "* details: 0 items\n",
      "* simulation_objects: 411 items\n",
      "* snapshot0: 1374 items\n",
      "\n"
     ]
    }
   ],
   "source": [
    "print(storage.summary())"
   ]
  },
  {
   "cell_type": "markdown",
   "metadata": {},
   "source": [
    "### Make simulation objects into sub-tables (e.g., for `volumes`, etc)"
   ]
  },
  {
   "cell_type": "code",
   "execution_count": 25,
   "metadata": {
    "scrolled": true
   },
   "outputs": [
    {
     "name": "stdout",
     "output_type": "stream",
     "text": [
      "File: test.sql\n",
      "Includes tables:\n",
      "* samples: 13 items\n",
      "* sample_sets: 1 items\n",
      "* trajectories: 13 items\n",
      "* move_changes: 0 items\n",
      "* steps: 0 items\n",
      "* details: 0 items\n",
      "* snapshot0: 1374 items\n",
      "* volumes: 72 items\n",
      "* ensembles: 326 items\n",
      "* pathsimulators: 0 items\n",
      "* pathmovers: 0 items\n",
      "* networks: 0 items\n",
      "* cvs: 3 items\n",
      "* engines: 1 items\n",
      "* misc_simulation: 9 items\n",
      "\n"
     ]
    }
   ],
   "source": [
    "print(storage.summary(detailed=True))"
   ]
  },
  {
   "cell_type": "code",
   "execution_count": 26,
   "metadata": {},
   "outputs": [
    {
     "name": "stdout",
     "output_type": "stream",
     "text": [
      "<openpathsampling.engines.toy.topology.ToyTopology object at 0x11b14f7f0>\n",
      "<openpathsampling.engines.toy.integrators.LangevinBAOABIntegrator object at 0x11b14a6a0>\n",
      "<openpathsampling.engines.toy.pes.PES_Add object at 0x11b14f940>\n",
      "<openpathsampling.engines.toy.pes.PES_Add object at 0x11b14f8d0>\n",
      "Gaussian(-0.7000000000000001, [12. 12.], [ 0.5 -0.5])\n",
      "<openpathsampling.engines.toy.pes.PES_Add object at 0x11b14f7b8>\n",
      "Gaussian(-0.7000000000000001, [12. 12.], [-0.5 -0.5])\n",
      "OuterWalls([1. 1.], [0. 0.])\n",
      "Gaussian(-0.7000000000000001, [12. 12.], [0.  0.4])\n"
     ]
    }
   ],
   "source": [
    "for (obj) in storage.misc_simulation:\n",
    "    print(obj)"
   ]
  },
  {
   "cell_type": "code",
   "execution_count": 27,
   "metadata": {
    "scrolled": false
   },
   "outputs": [
    {
     "data": {
      "text/plain": [
       "<openpathsampling.experimental.storage.storage.PseudoTable at 0x117522a58>"
      ]
     },
     "execution_count": 27,
     "metadata": {},
     "output_type": "execute_result"
    }
   ],
   "source": [
    "storage.cvs"
   ]
  },
  {
   "cell_type": "code",
   "execution_count": 28,
   "metadata": {
    "scrolled": true
   },
   "outputs": [
    {
     "data": {
      "text/plain": [
       "<openpathsampling.experimental.storage.storage.PseudoTable at 0x1174e4400>"
      ]
     },
     "execution_count": 28,
     "metadata": {},
     "output_type": "execute_result"
    }
   ],
   "source": [
    "storage.volumes"
   ]
  },
  {
   "cell_type": "code",
   "execution_count": 29,
   "metadata": {},
   "outputs": [],
   "source": [
    "# TODO: pseudo-table should be dict-like, but not dict. Should:\n",
    "# 1. give len as number of unique items\n",
    "# 2. iter over unique items"
   ]
  },
  {
   "cell_type": "code",
   "execution_count": 30,
   "metadata": {},
   "outputs": [
    {
     "data": {
      "text/plain": [
       "{'samples': <openpathsampling.experimental.storage.storage.StorageTable at 0x11b7d6d30>,\n",
       " 'sample_sets': <openpathsampling.experimental.storage.storage.StorageTable at 0x117522f98>,\n",
       " 'trajectories': <openpathsampling.experimental.storage.storage.StorageTable at 0x11b94fac8>,\n",
       " 'move_changes': <openpathsampling.experimental.storage.storage.StorageTable at 0x11b94fb38>,\n",
       " 'steps': <openpathsampling.experimental.storage.storage.StorageTable at 0x11b94fb00>,\n",
       " 'details': <openpathsampling.experimental.storage.storage.StorageTable at 0x11b94fcf8>,\n",
       " 'simulation_objects': <openpathsampling.experimental.storage.storage.StorageTable at 0x11b94fa58>,\n",
       " 'snapshot0': <openpathsampling.experimental.storage.storage.StorageTable at 0x11b94fb70>}"
      ]
     },
     "execution_count": 30,
     "metadata": {},
     "output_type": "execute_result"
    }
   ],
   "source": [
    "storage._storage_tables"
   ]
  },
  {
   "cell_type": "code",
   "execution_count": 31,
   "metadata": {},
   "outputs": [
    {
     "data": {
      "text/plain": [
       "72"
      ]
     },
     "execution_count": 31,
     "metadata": {},
     "output_type": "execute_result"
    }
   ],
   "source": [
    "len(storage.volumes)"
   ]
  },
  {
   "cell_type": "code",
   "execution_count": 32,
   "metadata": {},
   "outputs": [
    {
     "data": {
      "text/plain": [
       "72"
      ]
     },
     "execution_count": 32,
     "metadata": {},
     "output_type": "execute_result"
    }
   ],
   "source": [
    "len(storage.volumes._uuid_to_obj)"
   ]
  },
  {
   "cell_type": "code",
   "execution_count": 33,
   "metadata": {},
   "outputs": [
    {
     "name": "stdout",
     "output_type": "stream",
     "text": [
      "174395458874316017953765140704788480036 <openpathsampling.volume.CVDefinedVolume object at 0x11ac9f7f0>\n",
      "205825572803023860022845415596767576760 <openpathsampling.volume.CVDefinedVolume object at 0x11ac9f780>\n",
      "174395458874316017953765140704788480034 <openpathsampling.volume.CVDefinedVolume object at 0x11b14af28>\n",
      "205825572803023860022845415596767576750 <openpathsampling.volume.CVDefinedVolume object at 0x11ac9fd68>\n",
      "205825572803023860022845415596767576744 <openpathsampling.volume.CVDefinedVolume object at 0x11b772b38>\n",
      "205825572803023860022845415596767576754 <openpathsampling.volume.CVDefinedVolume object at 0x11b77dd30>\n",
      "174395458874316017953765140704788480032 <openpathsampling.volume.CVDefinedVolume object at 0x11b7698d0>\n",
      "205825572803023860022845415596767576740 <openpathsampling.volume.CVDefinedVolume object at 0x11b78ad30>\n",
      "205825572803023860022845415596767576764 <openpathsampling.volume.CVDefinedVolume object at 0x11b792208>\n",
      "205825572803023860022845415596767576752 <openpathsampling.volume.CVDefinedVolume object at 0x11b7d6cc0>\n"
     ]
    }
   ],
   "source": [
    "for k, v in list(storage.volumes._uuid_to_obj.items())[:10]:\n",
    "    print(k, repr(v))"
   ]
  },
  {
   "cell_type": "code",
   "execution_count": 34,
   "metadata": {},
   "outputs": [
    {
     "name": "stdout",
     "output_type": "stream",
     "text": [
      "C 174395458874316017953765140704788480036\n",
      "B 174395458874316017953765140704788480034\n",
      "A 174395458874316017953765140704788480032\n",
      "all states except C 205825572803023860022845415596767577134\n",
      "all states except A 205825572803023860022845415596767576786\n",
      "all states except B 205825572803023860022845415596767576960\n"
     ]
    }
   ],
   "source": [
    "for k, v in list(storage.volumes._name_to_uuid.items()):\n",
    "    print(k, v)"
   ]
  },
  {
   "cell_type": "code",
   "execution_count": 35,
   "metadata": {},
   "outputs": [
    {
     "data": {
      "text/plain": [
       "<openpathsampling.volume.CVDefinedVolume at 0x11b7698d0>"
      ]
     },
     "execution_count": 35,
     "metadata": {},
     "output_type": "execute_result"
    }
   ],
   "source": [
    "storage.volumes['A']"
   ]
  },
  {
   "cell_type": "code",
   "execution_count": 36,
   "metadata": {},
   "outputs": [],
   "source": [
    "storage.close()"
   ]
  },
  {
   "cell_type": "markdown",
   "metadata": {},
   "source": [
    "# Opening a closed storage"
   ]
  },
  {
   "cell_type": "code",
   "execution_count": 37,
   "metadata": {},
   "outputs": [
    {
     "name": "stdout",
     "output_type": "stream",
     "text": [
      "2020-05-19 10:06:23,111 - openpathsampling.experimental.storage.storage - INFO - Missing info from 0 dynamically-registered tables\n",
      "2020-05-19 10:06:23,112 - openpathsampling.experimental.storage.ops_storage - INFO - Found 0 possible lookups\n",
      "2020-05-19 10:06:23,113 - openpathsampling.experimental.storage.ops_storage - INFO - Lookups for tables: dict_keys([])\n",
      "2020-05-19 10:06:23,113 - openpathsampling.experimental.storage.storage - INFO - Successfully registered 0 missing tables\n"
     ]
    }
   ],
   "source": [
    "backend = SQLStorageBackend(\"test.sql\", mode='r')\n",
    "storage = Storage.from_backend(\n",
    "    backend=backend,\n",
    "    schema=ops_schema,\n",
    "    class_info=ops_class_info\n",
    ")"
   ]
  },
  {
   "cell_type": "code",
   "execution_count": 38,
   "metadata": {},
   "outputs": [
    {
     "name": "stdout",
     "output_type": "stream",
     "text": [
      "File: test.sql\n",
      "Includes tables:\n",
      "* samples: 13 items\n",
      "* sample_sets: 1 items\n",
      "* trajectories: 13 items\n",
      "* move_changes: 0 items\n",
      "* steps: 0 items\n",
      "* details: 0 items\n",
      "* simulation_objects: 411 items\n",
      "* snapshot0: 1374 items\n",
      "\n"
     ]
    }
   ],
   "source": [
    "print(storage.summary())"
   ]
  },
  {
   "cell_type": "code",
   "execution_count": 39,
   "metadata": {},
   "outputs": [
    {
     "data": {
      "text/plain": [
       "{'samples': <openpathsampling.experimental.storage.storage.StorageTable at 0x11bb8d860>,\n",
       " 'sample_sets': <openpathsampling.experimental.storage.storage.StorageTable at 0x11bb8d438>,\n",
       " 'trajectories': <openpathsampling.experimental.storage.storage.StorageTable at 0x118c58b00>,\n",
       " 'move_changes': <openpathsampling.experimental.storage.storage.StorageTable at 0x118c584a8>,\n",
       " 'steps': <openpathsampling.experimental.storage.storage.StorageTable at 0x118c51390>,\n",
       " 'details': <openpathsampling.experimental.storage.storage.StorageTable at 0x118c4cf28>,\n",
       " 'simulation_objects': <openpathsampling.experimental.storage.storage.StorageTable at 0x118c4cef0>,\n",
       " 'snapshot0': <openpathsampling.experimental.storage.storage.StorageTable at 0x118c4ce48>}"
      ]
     },
     "execution_count": 39,
     "metadata": {},
     "output_type": "execute_result"
    }
   ],
   "source": [
    "storage._storage_tables"
   ]
  },
  {
   "cell_type": "code",
   "execution_count": 40,
   "metadata": {},
   "outputs": [
    {
     "data": {
      "text/plain": [
       "{'volumes': <openpathsampling.experimental.storage.storage.PseudoTable at 0x118c440f0>,\n",
       " 'ensembles': <openpathsampling.experimental.storage.storage.PseudoTable at 0x118c44358>,\n",
       " 'pathsimulators': <openpathsampling.experimental.storage.storage.PseudoTable at 0x118c44278>,\n",
       " 'pathmovers': <openpathsampling.experimental.storage.storage.PseudoTable at 0x118c44be0>,\n",
       " 'networks': <openpathsampling.experimental.storage.storage.PseudoTable at 0x118c5ef98>,\n",
       " 'cvs': <openpathsampling.experimental.storage.storage.PseudoTable at 0x118c5ed68>,\n",
       " 'engines': <openpathsampling.experimental.storage.storage.PseudoTable at 0x118c5efd0>,\n",
       " 'misc_simulation': <openpathsampling.experimental.storage.storage.PseudoTable at 0x118c55f98>}"
      ]
     },
     "execution_count": 40,
     "metadata": {},
     "output_type": "execute_result"
    }
   ],
   "source": [
    "storage._pseudo_tables"
   ]
  },
  {
   "cell_type": "code",
   "execution_count": 41,
   "metadata": {},
   "outputs": [
    {
     "data": {
      "text/plain": [
       "{'samples': openpathsampling.sample.Sample,\n",
       " 'sample_sets': openpathsampling.sample.SampleSet,\n",
       " 'trajectories': openpathsampling.engines.trajectory.Trajectory,\n",
       " 'move_changes': openpathsampling.movechange.MoveChange,\n",
       " 'steps': openpathsampling.pathsimulators.path_simulator.MCStep,\n",
       " 'details': openpathsampling.pathmover.Details,\n",
       " 'simulation_objects': openpathsampling.netcdfplus.base.StorableObject,\n",
       " 'snapshot0': openpathsampling.engines.toy.snapshot.ToySnapshot}"
      ]
     },
     "execution_count": 41,
     "metadata": {},
     "output_type": "execute_result"
    }
   ],
   "source": [
    "storage.backend.table_to_class"
   ]
  },
  {
   "cell_type": "code",
   "execution_count": 42,
   "metadata": {},
   "outputs": [
    {
     "data": {
      "text/plain": [
       "{'samples': [('trajectory', 'uuid'), ('ensemble', 'uuid'), ('replica', 'int')],\n",
       " 'sample_sets': [('samples', 'list_uuid')],\n",
       " 'trajectories': [('snapshots', 'list_uuid')],\n",
       " 'move_changes': [('mover', 'uuid'),\n",
       "  ('details', 'lazy'),\n",
       "  ('cls', 'str'),\n",
       "  ('subchanges', 'list_uuid'),\n",
       "  ('samples', 'list_uuid'),\n",
       "  ('input_samples', 'list_uuid')],\n",
       " 'steps': [('change', 'uuid'),\n",
       "  ('active', 'uuid'),\n",
       "  ('simulation', 'uuid'),\n",
       "  ('mccycle', 'int')],\n",
       " 'details': [('json', 'json_obj')],\n",
       " 'simulation_objects': [('json', 'json_obj'), ('class_idx', 'int')],\n",
       " 'snapshot0': [('velocities', 'ndarray.float32(1,2)'),\n",
       "  ('coordinates', 'ndarray.float32(1,2)'),\n",
       "  ('engine', 'uuid')]}"
      ]
     },
     "execution_count": 42,
     "metadata": {},
     "output_type": "execute_result"
    }
   ],
   "source": [
    "storage.backend.schema"
   ]
  },
  {
   "cell_type": "code",
   "execution_count": 43,
   "metadata": {},
   "outputs": [
    {
     "data": {
      "text/plain": [
       "SerializationSchema(default_info=ClassInfo(table=simulation_objects, cls=<class 'openpathsampling.netcdfplus.base.StorableObject'>, lookup_result=<class 'openpathsampling.netcdfplus.base.StorableObject'>, find_uuids=<function default_find_uuids at 0x11707b950>), class_info_list=[ClassInfo(table=simulation_objects, cls=<class 'openpathsampling.netcdfplus.base.StorableObject'>, lookup_result=<class 'openpathsampling.netcdfplus.base.StorableObject'>, find_uuids=<function default_find_uuids at 0x11707b950>), ClassInfo(table=samples, cls=<class 'openpathsampling.sample.Sample'>, lookup_result=<class 'openpathsampling.sample.Sample'>, find_uuids=<openpathsampling.experimental.storage.serialization_helpers.SchemaFindUUIDs object at 0x1174d6e80>), ClassInfo(table=sample_sets, cls=<class 'openpathsampling.sample.SampleSet'>, lookup_result=<class 'openpathsampling.sample.SampleSet'>, find_uuids=<openpathsampling.experimental.storage.serialization_helpers.SchemaFindUUIDs object at 0x1174d6f28>), ClassInfo(table=trajectories, cls=<class 'openpathsampling.engines.trajectory.Trajectory'>, lookup_result=<class 'openpathsampling.engines.trajectory.Trajectory'>, find_uuids=<openpathsampling.experimental.storage.serialization_helpers.SchemaFindUUIDs object at 0x1174d6fd0>), ClassInfo(table=move_changes, cls=<class 'openpathsampling.movechange.MoveChange'>, lookup_result=<class 'openpathsampling.movechange.MoveChange'>, find_uuids=<openpathsampling.experimental.storage.serialization_helpers.SchemaFindUUIDs object at 0x1174e4080>), ClassInfo(table=steps, cls=<class 'openpathsampling.pathsimulators.path_simulator.MCStep'>, lookup_result=<class 'openpathsampling.pathsimulators.path_simulator.MCStep'>, find_uuids=<openpathsampling.experimental.storage.serialization_helpers.SchemaFindUUIDs object at 0x1174e4128>), ClassInfo(table=details, cls=<class 'openpathsampling.pathmover.Details'>, lookup_result=<class 'openpathsampling.pathmover.Details'>, find_uuids=<openpathsampling.experimental.storage.serialization_helpers.SchemaFindUUIDs object at 0x1174e4160>), ClassInfo(table=simulation_objects, cls=<class 'openpathsampling.experimental.storage.storable_functions.StorableFunction'>, lookup_result=<class 'openpathsampling.experimental.storage.storable_functions.StorableFunction'>, find_uuids=<function storable_function_find_uuids at 0x11710f950>), ClassInfo(table=snapshot0, cls=<class 'openpathsampling.engines.toy.snapshot.ToySnapshot'>, lookup_result=('174395458874316017953765140704788480022', <class 'openpathsampling.engines.toy.snapshot.ToySnapshot'>), find_uuids=<openpathsampling.experimental.storage.serialization_helpers.SchemaFindUUIDs object at 0x11ba33278>)])"
      ]
     },
     "execution_count": 43,
     "metadata": {},
     "output_type": "execute_result"
    }
   ],
   "source": [
    "storage.class_info"
   ]
  },
  {
   "cell_type": "code",
   "execution_count": 44,
   "metadata": {},
   "outputs": [
    {
     "data": {
      "text/plain": [
       "{'samples': <openpathsampling.experimental.storage.storage.StorageTable at 0x11bb8d860>,\n",
       " 'sample_sets': <openpathsampling.experimental.storage.storage.StorageTable at 0x11bb8d438>,\n",
       " 'trajectories': <openpathsampling.experimental.storage.storage.StorageTable at 0x118c58b00>,\n",
       " 'move_changes': <openpathsampling.experimental.storage.storage.StorageTable at 0x118c584a8>,\n",
       " 'steps': <openpathsampling.experimental.storage.storage.StorageTable at 0x118c51390>,\n",
       " 'details': <openpathsampling.experimental.storage.storage.StorageTable at 0x118c4cf28>,\n",
       " 'simulation_objects': <openpathsampling.experimental.storage.storage.StorageTable at 0x118c4cef0>,\n",
       " 'snapshot0': <openpathsampling.experimental.storage.storage.StorageTable at 0x118c4ce48>}"
      ]
     },
     "execution_count": 44,
     "metadata": {},
     "output_type": "execute_result"
    }
   ],
   "source": [
    "storage._storage_tables"
   ]
  },
  {
   "cell_type": "code",
   "execution_count": 45,
   "metadata": {},
   "outputs": [
    {
     "data": {
      "text/plain": [
       "['simulation_objects',\n",
       " 'samples',\n",
       " 'sample_sets',\n",
       " 'trajectories',\n",
       " 'move_changes',\n",
       " 'steps',\n",
       " 'details',\n",
       " 'simulation_objects',\n",
       " 'snapshot0',\n",
       " 'simulation_objects']"
      ]
     },
     "execution_count": 45,
     "metadata": {},
     "output_type": "execute_result"
    }
   ],
   "source": [
    "storage.class_info.tables"
   ]
  },
  {
   "cell_type": "code",
   "execution_count": 46,
   "metadata": {},
   "outputs": [
    {
     "name": "stdout",
     "output_type": "stream",
     "text": [
      "0.0<opC<0.2\n",
      "0.0<opC<0.2\n",
      "0.0<opB<0.2\n",
      "0.0<opB<0.2\n",
      "0.0<opA<0.4\n",
      "0.0<opB<0.4\n",
      "0.0<opA<0.2\n",
      "0.0<opA<0.2\n",
      "0.0<opC<0.4\n",
      "0.0<opB<0.30000000000000004\n",
      "0.0<opC<0.30000000000000004\n",
      "0.0<opA<0.30000000000000004\n",
      "[EmptyVolume]\n",
      "[EmptyVolume]\n",
      "[UnionVolume]\n",
      "[UnionVolume]\n",
      "[UnionVolume]\n",
      "[EmptyVolume]\n",
      "0.0<opC<0.5\n",
      "0.0<opA<0.5\n",
      "0.0<opB<0.5\n",
      "[UnionVolume]\n",
      "[UnionVolume]\n",
      "[UnionVolume]\n",
      "[UnionVolume]\n",
      "[UnionVolume]\n",
      "[UnionVolume]\n",
      "[UnionVolume]\n",
      "[UnionVolume]\n",
      "[UnionVolume]\n",
      "[UnionVolume]\n",
      "[UnionVolume]\n",
      "[UnionVolume]\n",
      "[UnionVolume]\n",
      "[UnionVolume]\n",
      "[UnionVolume]\n",
      "[UnionVolume]\n",
      "[UnionVolume]\n",
      "[UnionVolume]\n",
      "[UnionVolume]\n",
      "[UnionVolume]\n",
      "[EmptyVolume]\n",
      "[EmptyVolume]\n",
      "[UnionVolume]\n",
      "[UnionVolume]\n",
      "[UnionVolume]\n",
      "[UnionVolume]\n",
      "[UnionVolume]\n",
      "[UnionVolume]\n",
      "[EmptyVolume]\n",
      "[UnionVolume]\n",
      "[UnionVolume]\n",
      "[UnionVolume]\n",
      "[UnionVolume]\n",
      "[UnionVolume]\n",
      "[UnionVolume]\n",
      "[UnionVolume]\n",
      "[UnionVolume]\n",
      "[UnionVolume]\n",
      "[UnionVolume]\n",
      "[UnionVolume]\n",
      "[UnionVolume]\n",
      "[UnionVolume]\n",
      "[UnionVolume]\n",
      "[UnionVolume]\n",
      "[UnionVolume]\n",
      "[UnionVolume]\n",
      "[UnionVolume]\n",
      "[UnionVolume]\n",
      "[UnionVolume]\n",
      "[UnionVolume]\n",
      "[UnionVolume]\n"
     ]
    }
   ],
   "source": [
    "for v in storage.volumes:\n",
    "    print(v.name)"
   ]
  },
  {
   "cell_type": "code",
   "execution_count": 47,
   "metadata": {},
   "outputs": [],
   "source": [
    "for k, v in list(storage.volumes._name_to_uuid.items()):\n",
    "    print(k, v)"
   ]
  },
  {
   "cell_type": "code",
   "execution_count": null,
   "metadata": {},
   "outputs": [],
   "source": []
  }
 ],
 "metadata": {
  "kernelspec": {
   "display_name": "Python 3",
   "language": "python",
   "name": "python3"
  },
  "language_info": {
   "codemirror_mode": {
    "name": "ipython",
    "version": 3
   },
   "file_extension": ".py",
   "mimetype": "text/x-python",
   "name": "python",
   "nbconvert_exporter": "python",
   "pygments_lexer": "ipython3",
   "version": "3.7.3"
  },
  "toc": {
   "base_numbering": 1,
   "nav_menu": {},
   "number_sections": true,
   "sideBar": true,
   "skip_h1_title": true,
   "title_cell": "Table of Contents",
   "title_sidebar": "Contents",
   "toc_cell": false,
   "toc_position": {},
   "toc_section_display": true,
   "toc_window_display": false
  },
  "varInspector": {
   "cols": {
    "lenName": 16,
    "lenType": 16,
    "lenVar": 40
   },
   "kernels_config": {
    "python": {
     "delete_cmd_postfix": "",
     "delete_cmd_prefix": "del ",
     "library": "var_list.py",
     "varRefreshCmd": "print(var_dic_list())"
    },
    "r": {
     "delete_cmd_postfix": ") ",
     "delete_cmd_prefix": "rm(",
     "library": "var_list.r",
     "varRefreshCmd": "cat(var_dic_list()) "
    }
   },
   "types_to_exclude": [
    "module",
    "function",
    "builtin_function_or_method",
    "instance",
    "_Feature"
   ],
   "window_display": false
  }
 },
 "nbformat": 4,
 "nbformat_minor": 2
}
