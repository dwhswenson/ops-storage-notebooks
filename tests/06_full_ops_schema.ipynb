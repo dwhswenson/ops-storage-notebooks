{
 "cells": [
  {
   "cell_type": "code",
   "execution_count": 1,
   "metadata": {},
   "outputs": [],
   "source": [
    "from __future__ import print_function\n",
    "from openpathsampling.experimental.storage.ops_storage import OPSStorage, ops_class_info, ops_schema\n",
    "from openpathsampling.experimental.storage.sql_backend import SQLStorageBackend\n",
    "import numpy as np\n",
    "from openpathsampling.experimental.storage.serialization_helpers import get_uuid\n",
    "\n",
    "import collections"
   ]
  },
  {
   "cell_type": "code",
   "execution_count": 2,
   "metadata": {},
   "outputs": [],
   "source": [
    "import logging\n",
    "import sys\n",
    "\n",
    "root = logging.getLogger()\n",
    "root.setLevel(logging.DEBUG)\n",
    "\n",
    "ch = logging.StreamHandler(sys.stdout)\n",
    "ch.setLevel(logging.DEBUG)\n",
    "formatter = logging.Formatter('%(asctime)s - %(name)s - %(levelname)s - %(message)s')\n",
    "ch.setFormatter(formatter)\n",
    "root.addHandler(ch)"
   ]
  },
  {
   "cell_type": "code",
   "execution_count": 3,
   "metadata": {},
   "outputs": [
    {
     "name": "stdout",
     "output_type": "stream",
     "text": [
      "2020-07-14 18:07:38,435 - openpathsampling.experimental.storage.sql_backend - INFO - Add schema table uuid\n",
      "2020-07-14 18:07:38,437 - openpathsampling.experimental.storage.sql_backend - INFO - Add schema table tables\n",
      "2020-07-14 18:07:38,445 - openpathsampling.experimental.storage.sql_backend - INFO - Add schema table samples\n",
      "2020-07-14 18:07:38,460 - openpathsampling.experimental.storage.sql_backend - INFO - Add schema table sample_sets\n",
      "2020-07-14 18:07:38,468 - openpathsampling.experimental.storage.sql_backend - INFO - Add schema table trajectories\n",
      "2020-07-14 18:07:38,479 - openpathsampling.experimental.storage.sql_backend - INFO - Add schema table move_changes\n",
      "2020-07-14 18:07:38,531 - openpathsampling.experimental.storage.sql_backend - INFO - Add schema table steps\n",
      "2020-07-14 18:07:38,552 - openpathsampling.experimental.storage.sql_backend - INFO - Add schema table details\n",
      "2020-07-14 18:07:38,583 - openpathsampling.experimental.storage.sql_backend - INFO - Add schema table storable_functions\n",
      "2020-07-14 18:07:38,591 - openpathsampling.experimental.storage.sql_backend - INFO - Add schema table simulation_objects\n"
     ]
    }
   ],
   "source": [
    "backend = SQLStorageBackend(\"test.sql\", mode='w')\n",
    "storage = OPSStorage.from_backend(\n",
    "    backend=backend,\n",
    "    schema=ops_schema,\n",
    "    class_info=ops_class_info\n",
    ")"
   ]
  },
  {
   "cell_type": "code",
   "execution_count": 4,
   "metadata": {},
   "outputs": [],
   "source": [
    "import openpathsampling as paths\n",
    "logging.getLogger('openpathsampling').setLevel(logging.CRITICAL)\n",
    "old_storage = paths.Storage(\"../toy_mstis_1k_OPS1_py36.nc\", 'r')"
   ]
  },
  {
   "cell_type": "code",
   "execution_count": 5,
   "metadata": {},
   "outputs": [],
   "source": [
    "step = old_storage.steps[-1]"
   ]
  },
  {
   "cell_type": "code",
   "execution_count": 6,
   "metadata": {},
   "outputs": [
    {
     "data": {
      "text/plain": [
       "'205825572803023860022845415596769487056'"
      ]
     },
     "execution_count": 6,
     "metadata": {},
     "output_type": "execute_result"
    }
   ],
   "source": [
    "step_uuid = get_uuid(step)\n",
    "step_uuid"
   ]
  },
  {
   "cell_type": "code",
   "execution_count": 7,
   "metadata": {},
   "outputs": [],
   "source": [
    "from openpathsampling.experimental.storage.serialization_helpers import get_all_uuids"
   ]
  },
  {
   "cell_type": "code",
   "execution_count": 8,
   "metadata": {},
   "outputs": [],
   "source": [
    "#sum([len(s) for s in sample_set])"
   ]
  },
  {
   "cell_type": "code",
   "execution_count": 9,
   "metadata": {},
   "outputs": [
    {
     "data": {
      "text/plain": [
       "{'mccycle': 1000,\n",
       " 'previous': <openpathsampling.sample.SampleSet at 0x1231597f0>,\n",
       " 'change': <openpathsampling.movechange.PathSimulatorMoveChange at 0x125a87400>,\n",
       " 'active': <openpathsampling.sample.SampleSet at 0x123159320>,\n",
       " 'simulation': <openpathsampling.pathsimulators.path_sampling.PathSampling at 0x125a87978>}"
      ]
     },
     "execution_count": 9,
     "metadata": {},
     "output_type": "execute_result"
    }
   ],
   "source": [
    "step.to_dict()"
   ]
  },
  {
   "cell_type": "markdown",
   "metadata": {},
   "source": [
    "These take forever because they're still using the old OPS loading process. They have to load all the lazy objects. It takes 30 seconds for the `step.active`! This is ridiculous."
   ]
  },
  {
   "cell_type": "code",
   "execution_count": 10,
   "metadata": {},
   "outputs": [
    {
     "name": "stdout",
     "output_type": "stream",
     "text": [
      "CPU times: user 15 s, sys: 1.24 s, total: 16.2 s\n",
      "Wall time: 16.3 s\n"
     ]
    },
    {
     "data": {
      "text/plain": [
       "{'205825572803023860022845415596769487054': <openpathsampling.sample.SampleSet at 0x123159320>,\n",
       " '205825572803023860022845415596769375132': <Sample @ 0x121ac4ac8>,\n",
       " '205825572803023860022845415596769426136': <Sample @ 0x1231599e8>,\n",
       " '205825572803023860022845415596769442906': <Sample @ 0x123159a20>,\n",
       " '205825572803023860022845415596769447010': <Sample @ 0x125a87080>,\n",
       " '205825572803023860022845415596769453502': <Sample @ 0x125a871d0>,\n",
       " '205825572803023860022845415596769467356': <Sample @ 0x125a87240>,\n",
       " '205825572803023860022845415596769470120': <Sample @ 0x125a87208>,\n",
       " '205825572803023860022845415596769472296': <Sample @ 0x125a872b0>,\n",
       " '205825572803023860022845415596769473070': <Sample @ 0x125a87278>,\n",
       " '205825572803023860022845415596769480946': <Sample @ 0x125a872e8>,\n",
       " '205825572803023860022845415596769485076': <Sample @ 0x121f8df60>,\n",
       " '205825572803023860022845415596769486208': <Sample @ 0x125a87198>,\n",
       " '205825572803023860022845415596769486788': <Sample @ 0x125a87470>,\n",
       " '205825572803023860022845415596767577304': <openpathsampling.ensemble.MinusInterfaceEnsemble at 0x125a476a0>,\n",
       " '205825572803023860022845415596767577130': <openpathsampling.ensemble.MinusInterfaceEnsemble at 0x125a32be0>,\n",
       " '205825572803023860022845415596767577164': <openpathsampling.ensemble.TISEnsemble at 0x1259e6eb8>,\n",
       " '205825572803023860022845415596767576876': <openpathsampling.ensemble.TISEnsemble at 0x1259c1a20>,\n",
       " '205825572803023860022845415596767577050': <openpathsampling.ensemble.TISEnsemble at 0x1259e6f98>,\n",
       " '205825572803023860022845415596767576956': <openpathsampling.ensemble.MinusInterfaceEnsemble at 0x123159f98>,\n",
       " '205825572803023860022845415596767577224': <openpathsampling.ensemble.TISEnsemble at 0x1259f4048>,\n",
       " '205825572803023860022845415596767576816': <openpathsampling.ensemble.TISEnsemble at 0x111df36a0>,\n",
       " '205825572803023860022845415596767577020': <openpathsampling.ensemble.TISEnsemble at 0x1259d2c18>,\n",
       " '205825572803023860022845415596767576990': <openpathsampling.ensemble.TISEnsemble at 0x1259caa20>,\n",
       " '205825572803023860022845415596767577400': <openpathsampling.ensemble.UnionEnsemble at 0x125a152e8>,\n",
       " '205825572803023860022845415596767577194': <openpathsampling.ensemble.TISEnsemble at 0x1259e0d30>,\n",
       " '205825572803023860022845415596767576846': <openpathsampling.ensemble.TISEnsemble at 0x125236198>,\n",
       " '205825572803023860022845415596769375130': Trajectory[150],\n",
       " '205825572803023860022845415596769375059': <openpathsampling.engines.toy.snapshot.ToySnapshot at 0x125a78f98>,\n",
       " '205825572803023860022845415596769375043': <openpathsampling.engines.toy.snapshot.ToySnapshot at 0x125a787f0>,\n",
       " '205825572803023860022845415596769375027': <openpathsampling.engines.toy.snapshot.ToySnapshot at 0x125a78ef0>,\n",
       " '205825572803023860022845415596769375011': <openpathsampling.engines.toy.snapshot.ToySnapshot at 0x125a78eb8>,\n",
       " '205825572803023860022845415596769374995': <openpathsampling.engines.toy.snapshot.ToySnapshot at 0x125a78f60>,\n",
       " '205825572803023860022845415596769374979': <openpathsampling.engines.toy.snapshot.ToySnapshot at 0x125a78e80>,\n",
       " '205825572803023860022845415596769374963': <openpathsampling.engines.toy.snapshot.ToySnapshot at 0x125a87780>,\n",
       " '205825572803023860022845415596769374947': <openpathsampling.engines.toy.snapshot.ToySnapshot at 0x125a87748>,\n",
       " '205825572803023860022845415596769374931': <openpathsampling.engines.toy.snapshot.ToySnapshot at 0x125a87630>,\n",
       " '205825572803023860022845415596769374915': <openpathsampling.engines.toy.snapshot.ToySnapshot at 0x125a876a0>,\n",
       " '205825572803023860022845415596769374899': <openpathsampling.engines.toy.snapshot.ToySnapshot at 0x125a876d8>,\n",
       " '205825572803023860022845415596769374883': <openpathsampling.engines.toy.snapshot.ToySnapshot at 0x125a877f0>,\n",
       " '205825572803023860022845415596769374867': <openpathsampling.engines.toy.snapshot.ToySnapshot at 0x125a87438>,\n",
       " '205825572803023860022845415596769374851': <openpathsampling.engines.toy.snapshot.ToySnapshot at 0x125a87710>,\n",
       " '205825572803023860022845415596769374835': <openpathsampling.engines.toy.snapshot.ToySnapshot at 0x121f790f0>,\n",
       " '205825572803023860022845415596769374819': <openpathsampling.engines.toy.snapshot.ToySnapshot at 0x121f79c18>,\n",
       " '205825572803023860022845415596769374803': <openpathsampling.engines.toy.snapshot.ToySnapshot at 0x121f79668>,\n",
       " '205825572803023860022845415596769374787': <openpathsampling.engines.toy.snapshot.ToySnapshot at 0x121f79940>,\n",
       " '205825572803023860022845415596769374771': <openpathsampling.engines.toy.snapshot.ToySnapshot at 0x121f79d68>,\n",
       " '205825572803023860022845415596769374755': <openpathsampling.engines.toy.snapshot.ToySnapshot at 0x121f797b8>,\n",
       " '205825572803023860022845415596769374731': <openpathsampling.engines.toy.snapshot.ToySnapshot at 0x111dd5cc0>,\n",
       " '205825572803023860022845415596769374719': <openpathsampling.engines.toy.snapshot.ToySnapshot at 0x121a5d0b8>,\n",
       " '205825572803023860022845415596769374707': <openpathsampling.engines.toy.snapshot.ToySnapshot at 0x111df3a90>,\n",
       " '205825572803023860022845415596769374695': <openpathsampling.engines.toy.snapshot.ToySnapshot at 0x111df3588>,\n",
       " '205825572803023860022845415596769374683': <openpathsampling.engines.toy.snapshot.ToySnapshot at 0x111df34e0>,\n",
       " '205825572803023860022845415596769374671': <openpathsampling.engines.toy.snapshot.ToySnapshot at 0x111df3668>,\n",
       " '205825572803023860022845415596769374659': <openpathsampling.engines.toy.snapshot.ToySnapshot at 0x121ae0780>,\n",
       " '205825572803023860022845415596769374647': <openpathsampling.engines.toy.snapshot.ToySnapshot at 0x125fb9748>,\n",
       " '205825572803023860022845415596769374635': <openpathsampling.engines.toy.snapshot.ToySnapshot at 0x125fb97b8>,\n",
       " '205825572803023860022845415596769374623': <openpathsampling.engines.toy.snapshot.ToySnapshot at 0x125fb95f8>,\n",
       " '205825572803023860022845415596769374611': <openpathsampling.engines.toy.snapshot.ToySnapshot at 0x121ae04a8>,\n",
       " '205825572803023860022845415596769374599': <openpathsampling.engines.toy.snapshot.ToySnapshot at 0x121ae04e0>,\n",
       " '205825572803023860022845415596769374587': <openpathsampling.engines.toy.snapshot.ToySnapshot at 0x121ae07b8>,\n",
       " '205825572803023860022845415596769374575': <openpathsampling.engines.toy.snapshot.ToySnapshot at 0x121ae0630>,\n",
       " '205825572803023860022845415596769374563': <openpathsampling.engines.toy.snapshot.ToySnapshot at 0x121ae06d8>,\n",
       " '205825572803023860022845415596769374551': <openpathsampling.engines.toy.snapshot.ToySnapshot at 0x125a78f28>,\n",
       " '205825572803023860022845415596769374539': <openpathsampling.engines.toy.snapshot.ToySnapshot at 0x125a93e10>,\n",
       " '205825572803023860022845415596769374527': <openpathsampling.engines.toy.snapshot.ToySnapshot at 0x125a93a90>,\n",
       " '205825572803023860022845415596769374515': <openpathsampling.engines.toy.snapshot.ToySnapshot at 0x125a93470>,\n",
       " '205825572803023860022845415596769374503': <openpathsampling.engines.toy.snapshot.ToySnapshot at 0x125a93a58>,\n",
       " '205825572803023860022845415596769374491': <openpathsampling.engines.toy.snapshot.ToySnapshot at 0x125a93ba8>,\n",
       " '205825572803023860022845415596769374479': <openpathsampling.engines.toy.snapshot.ToySnapshot at 0x125a93748>,\n",
       " '205825572803023860022845415596769374467': <openpathsampling.engines.toy.snapshot.ToySnapshot at 0x125a93c18>,\n",
       " '205825572803023860022845415596769374455': <openpathsampling.engines.toy.snapshot.ToySnapshot at 0x125a93978>,\n",
       " '205825572803023860022845415596769374443': <openpathsampling.engines.toy.snapshot.ToySnapshot at 0x125a93eb8>,\n",
       " '205825572803023860022845415596769374431': <openpathsampling.engines.toy.snapshot.ToySnapshot at 0x125a93588>,\n",
       " '205825572803023860022845415596769374419': <openpathsampling.engines.toy.snapshot.ToySnapshot at 0x125a93be0>,\n",
       " '205825572803023860022845415596769374407': <openpathsampling.engines.toy.snapshot.ToySnapshot at 0x125a93828>,\n",
       " '205825572803023860022845415596769374395': <openpathsampling.engines.toy.snapshot.ToySnapshot at 0x125a93d68>,\n",
       " '205825572803023860022845415596769374383': <openpathsampling.engines.toy.snapshot.ToySnapshot at 0x125a93cc0>,\n",
       " '205825572803023860022845415596769374371': <openpathsampling.engines.toy.snapshot.ToySnapshot at 0x125a937b8>,\n",
       " '205825572803023860022845415596769374359': <openpathsampling.engines.toy.snapshot.ToySnapshot at 0x125a93b70>,\n",
       " '205825572803023860022845415596769374347': <openpathsampling.engines.toy.snapshot.ToySnapshot at 0x125a9c470>,\n",
       " '205825572803023860022845415596769374335': <openpathsampling.engines.toy.snapshot.ToySnapshot at 0x125a32b00>,\n",
       " '205825572803023860022845415596769374323': <openpathsampling.engines.toy.snapshot.ToySnapshot at 0x125ab0518>,\n",
       " '205825572803023860022845415596769374311': <openpathsampling.engines.toy.snapshot.ToySnapshot at 0x125ab0550>,\n",
       " '205825572803023860022845415596769374299': <openpathsampling.engines.toy.snapshot.ToySnapshot at 0x125ab03c8>,\n",
       " '205825572803023860022845415596769374287': <openpathsampling.engines.toy.snapshot.ToySnapshot at 0x125ab0470>,\n",
       " '205825572803023860022845415596769374275': <openpathsampling.engines.toy.snapshot.ToySnapshot at 0x125fc9fd0>,\n",
       " '205825572803023860022845415596769374263': <openpathsampling.engines.toy.snapshot.ToySnapshot at 0x125fc92e8>,\n",
       " '205825572803023860022845415596769374251': <openpathsampling.engines.toy.snapshot.ToySnapshot at 0x125fc9f60>,\n",
       " '205825572803023860022845415596769374239': <openpathsampling.engines.toy.snapshot.ToySnapshot at 0x125fc9518>,\n",
       " '205825572803023860022845415596769374227': <openpathsampling.engines.toy.snapshot.ToySnapshot at 0x125fc91d0>,\n",
       " '205825572803023860022845415596769374215': <openpathsampling.engines.toy.snapshot.ToySnapshot at 0x125fc94a8>,\n",
       " '205825572803023860022845415596769374203': <openpathsampling.engines.toy.snapshot.ToySnapshot at 0x125fc9630>,\n",
       " '205825572803023860022845415596769374191': <openpathsampling.engines.toy.snapshot.ToySnapshot at 0x125fc9eb8>,\n",
       " '205825572803023860022845415596769374179': <openpathsampling.engines.toy.snapshot.ToySnapshot at 0x125fc9b00>,\n",
       " '205825572803023860022845415596769374167': <openpathsampling.engines.toy.snapshot.ToySnapshot at 0x125fc9a20>,\n",
       " '205825572803023860022845415596769374155': <openpathsampling.engines.toy.snapshot.ToySnapshot at 0x125fc9ac8>,\n",
       " '205825572803023860022845415596769374143': <openpathsampling.engines.toy.snapshot.ToySnapshot at 0x125fc9550>,\n",
       " '205825572803023860022845415596769374131': <openpathsampling.engines.toy.snapshot.ToySnapshot at 0x125fc95f8>,\n",
       " '205825572803023860022845415596769374119': <openpathsampling.engines.toy.snapshot.ToySnapshot at 0x125fc9ef0>,\n",
       " '205825572803023860022845415596769374107': <openpathsampling.engines.toy.snapshot.ToySnapshot at 0x125fc96a0>,\n",
       " '205825572803023860022845415596769374095': <openpathsampling.engines.toy.snapshot.ToySnapshot at 0x125fc9b70>,\n",
       " '205825572803023860022845415596769374083': <openpathsampling.engines.toy.snapshot.ToySnapshot at 0x125fc9be0>,\n",
       " '205825572803023860022845415596769374071': <openpathsampling.engines.toy.snapshot.ToySnapshot at 0x125fc9198>,\n",
       " '205825572803023860022845415596769374059': <openpathsampling.engines.toy.snapshot.ToySnapshot at 0x125fc9f98>,\n",
       " '205825572803023860022845415596769374047': <openpathsampling.engines.toy.snapshot.ToySnapshot at 0x125fc9d68>,\n",
       " '205825572803023860022845415596769374035': <openpathsampling.engines.toy.snapshot.ToySnapshot at 0x125fc9e80>,\n",
       " '205825572803023860022845415596769374023': <openpathsampling.engines.toy.snapshot.ToySnapshot at 0x125fc9080>,\n",
       " '205825572803023860022845415596769374011': <openpathsampling.engines.toy.snapshot.ToySnapshot at 0x125fc9048>,\n",
       " '205825572803023860022845415596769373999': <openpathsampling.engines.toy.snapshot.ToySnapshot at 0x125fc93c8>,\n",
       " '205825572803023860022845415596769373987': <openpathsampling.engines.toy.snapshot.ToySnapshot at 0x125fc9e48>,\n",
       " '205825572803023860022845415596769373975': <openpathsampling.engines.toy.snapshot.ToySnapshot at 0x125fc9240>,\n",
       " '205825572803023860022845415596769373963': <openpathsampling.engines.toy.snapshot.ToySnapshot at 0x125fc99b0>,\n",
       " '205825572803023860022845415596769373951': <openpathsampling.engines.toy.snapshot.ToySnapshot at 0x125fc9e10>,\n",
       " '205825572803023860022845415596769373939': <openpathsampling.engines.toy.snapshot.ToySnapshot at 0x125fc9c18>,\n",
       " '205825572803023860022845415596769373927': <openpathsampling.engines.toy.snapshot.ToySnapshot at 0x125fc9668>,\n",
       " '205825572803023860022845415596769373915': <openpathsampling.engines.toy.snapshot.ToySnapshot at 0x125fc9898>,\n",
       " '205825572803023860022845415596769373903': <openpathsampling.engines.toy.snapshot.ToySnapshot at 0x125fc9cc0>,\n",
       " '205825572803023860022845415596769373891': <openpathsampling.engines.toy.snapshot.ToySnapshot at 0x125fc9828>,\n",
       " '205825572803023860022845415596769373879': <openpathsampling.engines.toy.snapshot.ToySnapshot at 0x125fc9710>,\n",
       " '205825572803023860022845415596769373867': <openpathsampling.engines.toy.snapshot.ToySnapshot at 0x125fc9da0>,\n",
       " '205825572803023860022845415596769373855': <openpathsampling.engines.toy.snapshot.ToySnapshot at 0x125fc9c50>,\n",
       " '205825572803023860022845415596769373843': <openpathsampling.engines.toy.snapshot.ToySnapshot at 0x125fc9f28>,\n",
       " '205825572803023860022845415596769373831': <openpathsampling.engines.toy.snapshot.ToySnapshot at 0x125fc9278>,\n",
       " '205825572803023860022845415596769373819': <openpathsampling.engines.toy.snapshot.ToySnapshot at 0x125fc9860>,\n",
       " '205825572803023860022845415596769373807': <openpathsampling.engines.toy.snapshot.ToySnapshot at 0x125fc9438>,\n",
       " '205825572803023860022845415596769373795': <openpathsampling.engines.toy.snapshot.ToySnapshot at 0x125fc99e8>,\n",
       " '205825572803023860022845415596769373783': <openpathsampling.engines.toy.snapshot.ToySnapshot at 0x125fc9748>,\n",
       " '205825572803023860022845415596769373771': <openpathsampling.engines.toy.snapshot.ToySnapshot at 0x125fc9a90>,\n",
       " '205825572803023860022845415596769373759': <openpathsampling.engines.toy.snapshot.ToySnapshot at 0x125fc96d8>,\n",
       " '205825572803023860022845415596769373747': <openpathsampling.engines.toy.snapshot.ToySnapshot at 0x125fc9128>,\n",
       " '205825572803023860022845415596769373735': <openpathsampling.engines.toy.snapshot.ToySnapshot at 0x125fc9588>,\n",
       " '205825572803023860022845415596769373723': <openpathsampling.engines.toy.snapshot.ToySnapshot at 0x125fc9780>,\n",
       " '205825572803023860022845415596769373711': <openpathsampling.engines.toy.snapshot.ToySnapshot at 0x125fc97b8>,\n",
       " '205825572803023860022845415596769373699': <openpathsampling.engines.toy.snapshot.ToySnapshot at 0x125fc9ba8>,\n",
       " '205825572803023860022845415596769373687': <openpathsampling.engines.toy.snapshot.ToySnapshot at 0x125fc9908>,\n",
       " '205825572803023860022845415596769373675': <openpathsampling.engines.toy.snapshot.ToySnapshot at 0x125fc9978>,\n",
       " '205825572803023860022845415596769373663': <openpathsampling.engines.toy.snapshot.ToySnapshot at 0x125fc95c0>,\n",
       " '205825572803023860022845415596769373651': <openpathsampling.engines.toy.snapshot.ToySnapshot at 0x125fc9b38>,\n",
       " '205825572803023860022845415596769373639': <openpathsampling.engines.toy.snapshot.ToySnapshot at 0x125fd8d68>,\n",
       " '205825572803023860022845415596769373627': <openpathsampling.engines.toy.snapshot.ToySnapshot at 0x125fd8320>,\n",
       " '205825572803023860022845415596769373615': <openpathsampling.engines.toy.snapshot.ToySnapshot at 0x125fd8ac8>,\n",
       " '205825572803023860022845415596769373603': <openpathsampling.engines.toy.snapshot.ToySnapshot at 0x125fd8240>,\n",
       " '205825572803023860022845415596769373591': <openpathsampling.engines.toy.snapshot.ToySnapshot at 0x125fd8208>,\n",
       " '205825572803023860022845415596769373579': <openpathsampling.engines.toy.snapshot.ToySnapshot at 0x125fd8710>,\n",
       " '205825572803023860022845415596769373567': <openpathsampling.engines.toy.snapshot.ToySnapshot at 0x125fd89b0>,\n",
       " '205825572803023860022845415596769373555': <openpathsampling.engines.toy.snapshot.ToySnapshot at 0x125fd8400>,\n",
       " '205825572803023860022845415596769373543': <openpathsampling.engines.toy.snapshot.ToySnapshot at 0x125fd8748>,\n",
       " '205825572803023860022845415596769373531': <openpathsampling.engines.toy.snapshot.ToySnapshot at 0x125fd8470>,\n",
       " '205825572803023860022845415596769373519': <openpathsampling.engines.toy.snapshot.ToySnapshot at 0x125fd82e8>,\n",
       " '205825572803023860022845415596769373507': <openpathsampling.engines.toy.snapshot.ToySnapshot at 0x125fd8048>,\n",
       " '205825572803023860022845415596769373495': <openpathsampling.engines.toy.snapshot.ToySnapshot at 0x125fd8b38>,\n",
       " '205825572803023860022845415596769373483': <openpathsampling.engines.toy.snapshot.ToySnapshot at 0x125fd8780>,\n",
       " '205825572803023860022845415596769373471': <openpathsampling.engines.toy.snapshot.ToySnapshot at 0x125fd8358>,\n",
       " '205825572803023860022845415596769373459': <openpathsampling.engines.toy.snapshot.ToySnapshot at 0x125fd8c18>,\n",
       " '205825572803023860022845415596769373447': <openpathsampling.engines.toy.snapshot.ToySnapshot at 0x125fd87b8>,\n",
       " '205825572803023860022845415596769373435': <openpathsampling.engines.toy.snapshot.ToySnapshot at 0x125fd89e8>,\n",
       " '205825572803023860022845415596769373423': <openpathsampling.engines.toy.snapshot.ToySnapshot at 0x125fd8668>,\n",
       " '205825572803023860022845415596769373411': <openpathsampling.engines.toy.snapshot.ToySnapshot at 0x125fd8550>,\n",
       " '205825572803023860022845415596769373399': <openpathsampling.engines.toy.snapshot.ToySnapshot at 0x125fd8b70>,\n",
       " '205825572803023860022845415596769373387': <openpathsampling.engines.toy.snapshot.ToySnapshot at 0x125fd8588>,\n",
       " '205825572803023860022845415596769373375': <openpathsampling.engines.toy.snapshot.ToySnapshot at 0x125fd8828>,\n",
       " '205825572803023860022845415596769373363': <openpathsampling.engines.toy.snapshot.ToySnapshot at 0x125fd87f0>,\n",
       " '205825572803023860022845415596769373351': <openpathsampling.engines.toy.snapshot.ToySnapshot at 0x125fd8978>,\n",
       " '205825572803023860022845415596769373339': <openpathsampling.engines.toy.snapshot.ToySnapshot at 0x125fd8a90>,\n",
       " '205825572803023860022845415596769373327': <openpathsampling.engines.toy.snapshot.ToySnapshot at 0x125fd8f28>,\n",
       " '205825572803023860022845415596769373315': <openpathsampling.engines.toy.snapshot.ToySnapshot at 0x125fd88d0>,\n",
       " '205825572803023860022845415596769373303': <openpathsampling.engines.toy.snapshot.ToySnapshot at 0x125fd8d30>,\n",
       " '205825572803023860022845415596769373291': <openpathsampling.engines.toy.snapshot.ToySnapshot at 0x125fd8a58>,\n",
       " '205825572803023860022845415596769373279': <openpathsampling.engines.toy.snapshot.ToySnapshot at 0x125fd8be0>,\n",
       " '205825572803023860022845415596769373267': <openpathsampling.engines.toy.snapshot.ToySnapshot at 0x125fd8390>,\n",
       " '205825572803023860022845415596769373255': <openpathsampling.engines.toy.snapshot.ToySnapshot at 0x125fd86a0>,\n",
       " '205825572803023860022845415596769346475': <openpathsampling.engines.toy.snapshot.ToySnapshot at 0x125fd8940>,\n",
       " '205825572803023860022845415596769219905': <openpathsampling.engines.toy.snapshot.ToySnapshot at 0x125fd82b0>,\n",
       " '205825572803023860022845415596769219887': <openpathsampling.engines.toy.snapshot.ToySnapshot at 0x125fd8da0>,\n",
       " '205825572803023860022845415596768821514': <openpathsampling.engines.toy.snapshot.ToySnapshot at 0x125fd8e10>,\n",
       " '205825572803023860022845415596768821532': <openpathsampling.engines.toy.snapshot.ToySnapshot at 0x125fd83c8>,\n",
       " '205825572803023860022845415596769263874': <openpathsampling.engines.toy.snapshot.ToySnapshot at 0x125fd8278>,\n",
       " '205825572803023860022845415596769426134': Trajectory[102],\n",
       " '205825572803023860022845415596769426089': <openpathsampling.engines.toy.snapshot.ToySnapshot at 0x125fd8e80>,\n",
       " '205825572803023860022845415596769426073': <openpathsampling.engines.toy.snapshot.ToySnapshot at 0x125fd84e0>,\n",
       " '205825572803023860022845415596769426057': <openpathsampling.engines.toy.snapshot.ToySnapshot at 0x125fd8cc0>,\n",
       " '205825572803023860022845415596769426041': <openpathsampling.engines.toy.snapshot.ToySnapshot at 0x125fd80f0>,\n",
       " '205825572803023860022845415596769426025': <openpathsampling.engines.toy.snapshot.ToySnapshot at 0x125fd8ba8>,\n",
       " '205825572803023860022845415596769426009': <openpathsampling.engines.toy.snapshot.ToySnapshot at 0x125fd8128>,\n",
       " '205825572803023860022845415596769425993': <openpathsampling.engines.toy.snapshot.ToySnapshot at 0x125fd86d8>,\n",
       " '205825572803023860022845415596769425969': <openpathsampling.engines.toy.snapshot.ToySnapshot at 0x125fd8518>,\n",
       " '205825572803023860022845415596769425957': <openpathsampling.engines.toy.snapshot.ToySnapshot at 0x125fd8fd0>,\n",
       " '205825572803023860022845415596769425945': <openpathsampling.engines.toy.snapshot.ToySnapshot at 0x125fd8dd8>,\n",
       " '205825572803023860022845415596769425933': <openpathsampling.engines.toy.snapshot.ToySnapshot at 0x125fd81d0>,\n",
       " '205825572803023860022845415596769425921': <openpathsampling.engines.toy.snapshot.ToySnapshot at 0x125fd8eb8>,\n",
       " '205825572803023860022845415596769425909': <openpathsampling.engines.toy.snapshot.ToySnapshot at 0x125fd8908>,\n",
       " '205825572803023860022845415596769425897': <openpathsampling.engines.toy.snapshot.ToySnapshot at 0x125fd8f98>,\n",
       " '205825572803023860022845415596769425885': <openpathsampling.engines.toy.snapshot.ToySnapshot at 0x125fd8c88>,\n",
       " '205825572803023860022845415596769425873': <openpathsampling.engines.toy.snapshot.ToySnapshot at 0x125fd8ef0>,\n",
       " '205825572803023860022845415596769425861': <openpathsampling.engines.toy.snapshot.ToySnapshot at 0x125fd8c50>,\n",
       " '205825572803023860022845415596769425849': <openpathsampling.engines.toy.snapshot.ToySnapshot at 0x125fd8b00>,\n",
       " '205825572803023860022845415596769425837': <openpathsampling.engines.toy.snapshot.ToySnapshot at 0x125fd80b8>,\n",
       " '205825572803023860022845415596769425825': <openpathsampling.engines.toy.snapshot.ToySnapshot at 0x125fd8f60>,\n",
       " '205825572803023860022845415596769425813': <openpathsampling.engines.toy.snapshot.ToySnapshot at 0x125fd8160>,\n",
       " '205825572803023860022845415596769425801': <openpathsampling.engines.toy.snapshot.ToySnapshot at 0x125fd8198>,\n",
       " '205825572803023860022845415596769425789': <openpathsampling.engines.toy.snapshot.ToySnapshot at 0x125fd8cf8>,\n",
       " '205825572803023860022845415596769425777': <openpathsampling.engines.toy.snapshot.ToySnapshot at 0x125fd8898>,\n",
       " '205825572803023860022845415596769425765': <openpathsampling.engines.toy.snapshot.ToySnapshot at 0x125fd8438>,\n",
       " '205825572803023860022845415596769425753': <openpathsampling.engines.toy.snapshot.ToySnapshot at 0x125fd8e48>,\n",
       " '205825572803023860022845415596769425741': <openpathsampling.engines.toy.snapshot.ToySnapshot at 0x125fd31d0>,\n",
       " '205825572803023860022845415596769425729': <openpathsampling.engines.toy.snapshot.ToySnapshot at 0x125fd3390>,\n",
       " '205825572803023860022845415596769425717': <openpathsampling.engines.toy.snapshot.ToySnapshot at 0x125fd3400>,\n",
       " '205825572803023860022845415596769425705': <openpathsampling.engines.toy.snapshot.ToySnapshot at 0x125fd3160>,\n",
       " '205825572803023860022845415596769425693': <openpathsampling.engines.toy.snapshot.ToySnapshot at 0x125fd3320>,\n",
       " '205825572803023860022845415596769425681': <openpathsampling.engines.toy.snapshot.ToySnapshot at 0x125fd3b00>,\n",
       " '205825572803023860022845415596769425669': <openpathsampling.engines.toy.snapshot.ToySnapshot at 0x125fd3128>,\n",
       " '205825572803023860022845415596769425657': <openpathsampling.engines.toy.snapshot.ToySnapshot at 0x125fd36d8>,\n",
       " '205825572803023860022845415596769425645': <openpathsampling.engines.toy.snapshot.ToySnapshot at 0x125fd3278>,\n",
       " '205825572803023860022845415596769425633': <openpathsampling.engines.toy.snapshot.ToySnapshot at 0x125fd3438>,\n",
       " '205825572803023860022845415596769425621': <openpathsampling.engines.toy.snapshot.ToySnapshot at 0x125fd3c18>,\n",
       " '205825572803023860022845415596769425609': <openpathsampling.engines.toy.snapshot.ToySnapshot at 0x125fd3a58>,\n",
       " '205825572803023860022845415596769425597': <openpathsampling.engines.toy.snapshot.ToySnapshot at 0x125fd34a8>,\n",
       " '205825572803023860022845415596769425585': <openpathsampling.engines.toy.snapshot.ToySnapshot at 0x125fd3048>,\n",
       " '205825572803023860022845415596769425573': <openpathsampling.engines.toy.snapshot.ToySnapshot at 0x125fd3630>,\n",
       " '205825572803023860022845415596769425561': <openpathsampling.engines.toy.snapshot.ToySnapshot at 0x125fd3e10>,\n",
       " '205825572803023860022845415596769425549': <openpathsampling.engines.toy.snapshot.ToySnapshot at 0x125fd3908>,\n",
       " '205825572803023860022845415596769425537': <openpathsampling.engines.toy.snapshot.ToySnapshot at 0x125fd3470>,\n",
       " '205825572803023860022845415596769425525': <openpathsampling.engines.toy.snapshot.ToySnapshot at 0x125fd3588>,\n",
       " '205825572803023860022845415596769425513': <openpathsampling.engines.toy.snapshot.ToySnapshot at 0x125fd3b70>,\n",
       " '205825572803023860022845415596769425501': <openpathsampling.engines.toy.snapshot.ToySnapshot at 0x125fd3208>,\n",
       " '205825572803023860022845415596769425489': <openpathsampling.engines.toy.snapshot.ToySnapshot at 0x125fd3898>,\n",
       " '205825572803023860022845415596769425477': <openpathsampling.engines.toy.snapshot.ToySnapshot at 0x125fd3f28>,\n",
       " '205825572803023860022845415596769425465': <openpathsampling.engines.toy.snapshot.ToySnapshot at 0x125fd3d68>,\n",
       " '205825572803023860022845415596769425453': <openpathsampling.engines.toy.snapshot.ToySnapshot at 0x125fd3dd8>,\n",
       " '205825572803023860022845415596769425441': <openpathsampling.engines.toy.snapshot.ToySnapshot at 0x125fd3ef0>,\n",
       " '205825572803023860022845415596769425429': <openpathsampling.engines.toy.snapshot.ToySnapshot at 0x125fd3cf8>,\n",
       " '205825572803023860022845415596769425417': <openpathsampling.engines.toy.snapshot.ToySnapshot at 0x125fd3978>,\n",
       " '205825572803023860022845415596769425405': <openpathsampling.engines.toy.snapshot.ToySnapshot at 0x125fd3a20>,\n",
       " '205825572803023860022845415596769425393': <openpathsampling.engines.toy.snapshot.ToySnapshot at 0x125fd3cc0>,\n",
       " '205825572803023860022845415596769425381': <openpathsampling.engines.toy.snapshot.ToySnapshot at 0x125fd32b0>,\n",
       " '205825572803023860022845415596769425369': <openpathsampling.engines.toy.snapshot.ToySnapshot at 0x125fd3668>,\n",
       " '205825572803023860022845415596769425357': <openpathsampling.engines.toy.snapshot.ToySnapshot at 0x125fd3e48>,\n",
       " '205825572803023860022845415596769425345': <openpathsampling.engines.toy.snapshot.ToySnapshot at 0x125fd39b0>,\n",
       " '205825572803023860022845415596769425333': <openpathsampling.engines.toy.snapshot.ToySnapshot at 0x125fd3828>,\n",
       " '205825572803023860022845415596769425321': <openpathsampling.engines.toy.snapshot.ToySnapshot at 0x125fd3240>,\n",
       " '205825572803023860022845415596769425309': <openpathsampling.engines.toy.snapshot.ToySnapshot at 0x125fd3fd0>,\n",
       " '205825572803023860022845415596769425297': <openpathsampling.engines.toy.snapshot.ToySnapshot at 0x125fd3358>,\n",
       " '205825572803023860022845415596769425285': <openpathsampling.engines.toy.snapshot.ToySnapshot at 0x125fd32e8>,\n",
       " '205825572803023860022845415596769425273': <openpathsampling.engines.toy.snapshot.ToySnapshot at 0x125fd3c50>,\n",
       " '205825572803023860022845415596769425261': <openpathsampling.engines.toy.snapshot.ToySnapshot at 0x125fd35f8>,\n",
       " '205825572803023860022845415596769425249': <openpathsampling.engines.toy.snapshot.ToySnapshot at 0x125fd3f60>,\n",
       " '205825572803023860022845415596769425237': <openpathsampling.engines.toy.snapshot.ToySnapshot at 0x125fd3748>,\n",
       " '205825572803023860022845415596769425225': <openpathsampling.engines.toy.snapshot.ToySnapshot at 0x125fd3f98>,\n",
       " '205825572803023860022845415596769401529': <openpathsampling.engines.toy.snapshot.ToySnapshot at 0x125fd3e80>,\n",
       " '205825572803023860022845415596769401513': <openpathsampling.engines.toy.snapshot.ToySnapshot at 0x125fd3198>,\n",
       " '205825572803023860022845415596769401497': <openpathsampling.engines.toy.snapshot.ToySnapshot at 0x125a873c8>,\n",
       " '205825572803023860022845415596769401481': <openpathsampling.engines.toy.snapshot.ToySnapshot at 0x125fd34e0>,\n",
       " '205825572803023860022845415596769401465': <openpathsampling.engines.toy.snapshot.ToySnapshot at 0x125fd39e8>,\n",
       " '205825572803023860022845415596769401449': <openpathsampling.engines.toy.snapshot.ToySnapshot at 0x12664b0b8>,\n",
       " '205825572803023860022845415596769401433': <openpathsampling.engines.toy.snapshot.ToySnapshot at 0x12664b128>,\n",
       " '205825572803023860022845415596769401417': <openpathsampling.engines.toy.snapshot.ToySnapshot at 0x12664b048>,\n",
       " '205825572803023860022845415596769401401': <openpathsampling.engines.toy.snapshot.ToySnapshot at 0x12664b160>,\n",
       " '205825572803023860022845415596769401385': <openpathsampling.engines.toy.snapshot.ToySnapshot at 0x12664b198>,\n",
       " '205825572803023860022845415596769325306': <openpathsampling.engines.toy.snapshot.ToySnapshot at 0x12664b1d0>,\n",
       " '205825572803023860022845415596769325324': <openpathsampling.engines.toy.snapshot.ToySnapshot at 0x12664b208>,\n",
       " '205825572803023860022845415596769325342': <openpathsampling.engines.toy.snapshot.ToySnapshot at 0x12664b240>,\n",
       " '205825572803023860022845415596769325360': <openpathsampling.engines.toy.snapshot.ToySnapshot at 0x12664b278>,\n",
       " '205825572803023860022845415596769325378': <openpathsampling.engines.toy.snapshot.ToySnapshot at 0x12664b2b0>,\n",
       " '205825572803023860022845415596769325396': <openpathsampling.engines.toy.snapshot.ToySnapshot at 0x12664b2e8>,\n",
       " '205825572803023860022845415596769325414': <openpathsampling.engines.toy.snapshot.ToySnapshot at 0x12664b320>,\n",
       " '205825572803023860022845415596769325432': <openpathsampling.engines.toy.snapshot.ToySnapshot at 0x12664b358>,\n",
       " '205825572803023860022845415596769325450': <openpathsampling.engines.toy.snapshot.ToySnapshot at 0x12664b390>,\n",
       " '205825572803023860022845415596769325468': <openpathsampling.engines.toy.snapshot.ToySnapshot at 0x12664b3c8>,\n",
       " '205825572803023860022845415596769325486': <openpathsampling.engines.toy.snapshot.ToySnapshot at 0x12664b400>,\n",
       " '205825572803023860022845415596769325504': <openpathsampling.engines.toy.snapshot.ToySnapshot at 0x12664b438>,\n",
       " '205825572803023860022845415596769325522': <openpathsampling.engines.toy.snapshot.ToySnapshot at 0x12664b470>,\n",
       " '205825572803023860022845415596769325540': <openpathsampling.engines.toy.snapshot.ToySnapshot at 0x12664b4a8>,\n",
       " '205825572803023860022845415596769325558': <openpathsampling.engines.toy.snapshot.ToySnapshot at 0x12664b4e0>,\n",
       " '205825572803023860022845415596769325576': <openpathsampling.engines.toy.snapshot.ToySnapshot at 0x12664b518>,\n",
       " '205825572803023860022845415596769325594': <openpathsampling.engines.toy.snapshot.ToySnapshot at 0x12664b550>,\n",
       " '205825572803023860022845415596769325612': <openpathsampling.engines.toy.snapshot.ToySnapshot at 0x12664b588>,\n",
       " '205825572803023860022845415596769325630': <openpathsampling.engines.toy.snapshot.ToySnapshot at 0x12664b5c0>,\n",
       " '205825572803023860022845415596769325648': <openpathsampling.engines.toy.snapshot.ToySnapshot at 0x12664b5f8>,\n",
       " '205825572803023860022845415596769325666': <openpathsampling.engines.toy.snapshot.ToySnapshot at 0x12664b630>,\n",
       " '205825572803023860022845415596769325684': <openpathsampling.engines.toy.snapshot.ToySnapshot at 0x12664b668>,\n",
       " '205825572803023860022845415596769442904': Trajectory[6],\n",
       " '205825572803023860022845415596769400797': <openpathsampling.engines.toy.snapshot.ToySnapshot at 0x12664b6a0>,\n",
       " '205825572803023860022845415596769400781': <openpathsampling.engines.toy.snapshot.ToySnapshot at 0x12664b6d8>,\n",
       " '205825572803023860022845415596769414282': <openpathsampling.engines.toy.snapshot.ToySnapshot at 0x12664b710>,\n",
       " '205825572803023860022845415596769442828': <openpathsampling.engines.toy.snapshot.ToySnapshot at 0x12664b748>,\n",
       " '205825572803023860022845415596769442846': <openpathsampling.engines.toy.snapshot.ToySnapshot at 0x12664b780>,\n",
       " '205825572803023860022845415596769442864': <openpathsampling.engines.toy.snapshot.ToySnapshot at 0x12664b7b8>,\n",
       " '205825572803023860022845415596769447008': Trajectory[62],\n",
       " '205825572803023860022845415596769446833': <openpathsampling.engines.toy.snapshot.ToySnapshot at 0x12664b7f0>,\n",
       " '205825572803023860022845415596769446817': <openpathsampling.engines.toy.snapshot.ToySnapshot at 0x12664b828>,\n",
       " '205825572803023860022845415596769446801': <openpathsampling.engines.toy.snapshot.ToySnapshot at 0x12664b860>,\n",
       " '205825572803023860022845415596769446785': <openpathsampling.engines.toy.snapshot.ToySnapshot at 0x12664b898>,\n",
       " '205825572803023860022845415596769446769': <openpathsampling.engines.toy.snapshot.ToySnapshot at 0x12664b8d0>,\n",
       " '205825572803023860022845415596769446753': <openpathsampling.engines.toy.snapshot.ToySnapshot at 0x12664b908>,\n",
       " '205825572803023860022845415596769446737': <openpathsampling.engines.toy.snapshot.ToySnapshot at 0x12664b940>,\n",
       " '205825572803023860022845415596769446721': <openpathsampling.engines.toy.snapshot.ToySnapshot at 0x12664b978>,\n",
       " '205825572803023860022845415596769446705': <openpathsampling.engines.toy.snapshot.ToySnapshot at 0x12664b9b0>,\n",
       " '205825572803023860022845415596769446689': <openpathsampling.engines.toy.snapshot.ToySnapshot at 0x12664b9e8>,\n",
       " '205825572803023860022845415596769446673': <openpathsampling.engines.toy.snapshot.ToySnapshot at 0x12664ba20>,\n",
       " '205825572803023860022845415596769446657': <openpathsampling.engines.toy.snapshot.ToySnapshot at 0x12664ba58>,\n",
       " '205825572803023860022845415596769446641': <openpathsampling.engines.toy.snapshot.ToySnapshot at 0x12664ba90>,\n",
       " '205825572803023860022845415596769446625': <openpathsampling.engines.toy.snapshot.ToySnapshot at 0x12664bac8>,\n",
       " '205825572803023860022845415596769446609': <openpathsampling.engines.toy.snapshot.ToySnapshot at 0x12664bb00>,\n",
       " '205825572803023860022845415596769446593': <openpathsampling.engines.toy.snapshot.ToySnapshot at 0x12664bb38>,\n",
       " '205825572803023860022845415596769446577': <openpathsampling.engines.toy.snapshot.ToySnapshot at 0x12664bb70>,\n",
       " '205825572803023860022845415596769446561': <openpathsampling.engines.toy.snapshot.ToySnapshot at 0x12664bba8>,\n",
       " '205825572803023860022845415596769446545': <openpathsampling.engines.toy.snapshot.ToySnapshot at 0x12664bbe0>,\n",
       " '205825572803023860022845415596769446529': <openpathsampling.engines.toy.snapshot.ToySnapshot at 0x12664bc18>,\n",
       " '205825572803023860022845415596769446513': <openpathsampling.engines.toy.snapshot.ToySnapshot at 0x12664bc50>,\n",
       " '205825572803023860022845415596769446497': <openpathsampling.engines.toy.snapshot.ToySnapshot at 0x12664bc88>,\n",
       " '205825572803023860022845415596769446481': <openpathsampling.engines.toy.snapshot.ToySnapshot at 0x12664bcc0>,\n",
       " '205825572803023860022845415596769446465': <openpathsampling.engines.toy.snapshot.ToySnapshot at 0x12664bcf8>,\n",
       " '205825572803023860022845415596769446449': <openpathsampling.engines.toy.snapshot.ToySnapshot at 0x12664be48>,\n",
       " '205825572803023860022845415596769446433': <openpathsampling.engines.toy.snapshot.ToySnapshot at 0x12664bd68>,\n",
       " '205825572803023860022845415596769446417': <openpathsampling.engines.toy.snapshot.ToySnapshot at 0x12664be10>,\n",
       " '205825572803023860022845415596769446401': <openpathsampling.engines.toy.snapshot.ToySnapshot at 0x12664b0f0>,\n",
       " '205825572803023860022845415596769446385': <openpathsampling.engines.toy.snapshot.ToySnapshot at 0x12664b080>,\n",
       " '205825572803023860022845415596769446369': <openpathsampling.engines.toy.snapshot.ToySnapshot at 0x12664bd30>,\n",
       " '205825572803023860022845415596769446353': <openpathsampling.engines.toy.snapshot.ToySnapshot at 0x12664be80>,\n",
       " '205825572803023860022845415596769446337': <openpathsampling.engines.toy.snapshot.ToySnapshot at 0x12664beb8>,\n",
       " '205825572803023860022845415596769446321': <openpathsampling.engines.toy.snapshot.ToySnapshot at 0x12664bef0>,\n",
       " '205825572803023860022845415596769354170': <openpathsampling.engines.toy.snapshot.ToySnapshot at 0x12664bf28>,\n",
       " '205825572803023860022845415596769354188': <openpathsampling.engines.toy.snapshot.ToySnapshot at 0x12664bf60>,\n",
       " '205825572803023860022845415596769354206': <openpathsampling.engines.toy.snapshot.ToySnapshot at 0x12664bf98>,\n",
       " '205825572803023860022845415596769354224': <openpathsampling.engines.toy.snapshot.ToySnapshot at 0x12664bfd0>,\n",
       " '205825572803023860022845415596769354242': <openpathsampling.engines.toy.snapshot.ToySnapshot at 0x12664bdd8>,\n",
       " '205825572803023860022845415596769354260': <openpathsampling.engines.toy.snapshot.ToySnapshot at 0x12664bda0>,\n",
       " '205825572803023860022845415596769354278': <openpathsampling.engines.toy.snapshot.ToySnapshot at 0x126428160>,\n",
       " '205825572803023860022845415596769354296': <openpathsampling.engines.toy.snapshot.ToySnapshot at 0x1264280b8>,\n",
       " '205825572803023860022845415596769354314': <openpathsampling.engines.toy.snapshot.ToySnapshot at 0x1264280f0>,\n",
       " '205825572803023860022845415596769354332': <openpathsampling.engines.toy.snapshot.ToySnapshot at 0x126428080>,\n",
       " '205825572803023860022845415596769354350': <openpathsampling.engines.toy.snapshot.ToySnapshot at 0x126428198>,\n",
       " '205825572803023860022845415596769354368': <openpathsampling.engines.toy.snapshot.ToySnapshot at 0x1264281d0>,\n",
       " '205825572803023860022845415596769354386': <openpathsampling.engines.toy.snapshot.ToySnapshot at 0x126428208>,\n",
       " '205825572803023860022845415596769354404': <openpathsampling.engines.toy.snapshot.ToySnapshot at 0x126428240>,\n",
       " '205825572803023860022845415596769354422': <openpathsampling.engines.toy.snapshot.ToySnapshot at 0x126428278>,\n",
       " '205825572803023860022845415596769354440': <openpathsampling.engines.toy.snapshot.ToySnapshot at 0x1264282b0>,\n",
       " '205825572803023860022845415596769354458': <openpathsampling.engines.toy.snapshot.ToySnapshot at 0x1264282e8>,\n",
       " '205825572803023860022845415596769354476': <openpathsampling.engines.toy.snapshot.ToySnapshot at 0x126428320>,\n",
       " '205825572803023860022845415596769354494': <openpathsampling.engines.toy.snapshot.ToySnapshot at 0x126428358>,\n",
       " '205825572803023860022845415596769354512': <openpathsampling.engines.toy.snapshot.ToySnapshot at 0x126428390>,\n",
       " '205825572803023860022845415596769354530': <openpathsampling.engines.toy.snapshot.ToySnapshot at 0x126428128>,\n",
       " '205825572803023860022845415596769354548': <openpathsampling.engines.toy.snapshot.ToySnapshot at 0x1264283c8>,\n",
       " '205825572803023860022845415596769354566': <openpathsampling.engines.toy.snapshot.ToySnapshot at 0x126428400>,\n",
       " '205825572803023860022845415596769354584': <openpathsampling.engines.toy.snapshot.ToySnapshot at 0x126428438>,\n",
       " '205825572803023860022845415596769354602': <openpathsampling.engines.toy.snapshot.ToySnapshot at 0x126428048>,\n",
       " '205825572803023860022845415596769354620': <openpathsampling.engines.toy.snapshot.ToySnapshot at 0x1264284e0>,\n",
       " '205825572803023860022845415596769354638': <openpathsampling.engines.toy.snapshot.ToySnapshot at 0x126428518>,\n",
       " '205825572803023860022845415596769435308': <openpathsampling.engines.toy.snapshot.ToySnapshot at 0x126428550>,\n",
       " '205825572803023860022845415596769435326': <openpathsampling.engines.toy.snapshot.ToySnapshot at 0x126428588>,\n",
       " '205825572803023860022845415596769453500': Trajectory[115],\n",
       " '205825572803023860022845415596769437119': <openpathsampling.engines.toy.snapshot.ToySnapshot at 0x126428630>,\n",
       " '205825572803023860022845415596769437101': <openpathsampling.engines.toy.snapshot.ToySnapshot at 0x1264286a0>,\n",
       " '205825572803023860022845415596769437083': <openpathsampling.engines.toy.snapshot.ToySnapshot at 0x1264284a8>,\n",
       " '205825572803023860022845415596769437065': <openpathsampling.engines.toy.snapshot.ToySnapshot at 0x126428748>,\n",
       " '205825572803023860022845415596769437047': <openpathsampling.engines.toy.snapshot.ToySnapshot at 0x1264287b8>,\n",
       " '205825572803023860022845415596769437029': <openpathsampling.engines.toy.snapshot.ToySnapshot at 0x126428828>,\n",
       " '205825572803023860022845415596769437011': <openpathsampling.engines.toy.snapshot.ToySnapshot at 0x126428898>,\n",
       " '205825572803023860022845415596769436993': <openpathsampling.engines.toy.snapshot.ToySnapshot at 0x126428908>,\n",
       " '205825572803023860022845415596769436975': <openpathsampling.engines.toy.snapshot.ToySnapshot at 0x126428978>,\n",
       " '205825572803023860022845415596769436957': <openpathsampling.engines.toy.snapshot.ToySnapshot at 0x1264289e8>,\n",
       " '205825572803023860022845415596769436939': <openpathsampling.engines.toy.snapshot.ToySnapshot at 0x126428a58>,\n",
       " '205825572803023860022845415596769436921': <openpathsampling.engines.toy.snapshot.ToySnapshot at 0x126428ac8>,\n",
       " '205825572803023860022845415596769436903': <openpathsampling.engines.toy.snapshot.ToySnapshot at 0x126428b38>,\n",
       " '205825572803023860022845415596769436885': <openpathsampling.engines.toy.snapshot.ToySnapshot at 0x126428ba8>,\n",
       " '205825572803023860022845415596769451176': <openpathsampling.engines.toy.snapshot.ToySnapshot at 0x126428b70>,\n",
       " '205825572803023860022845415596769451194': <openpathsampling.engines.toy.snapshot.ToySnapshot at 0x126428be0>,\n",
       " '205825572803023860022845415596769451212': <openpathsampling.engines.toy.snapshot.ToySnapshot at 0x126428c18>,\n",
       " '205825572803023860022845415596769451230': <openpathsampling.engines.toy.snapshot.ToySnapshot at 0x126428c50>,\n",
       " '205825572803023860022845415596769451248': <openpathsampling.engines.toy.snapshot.ToySnapshot at 0x126428c88>,\n",
       " '205825572803023860022845415596769451266': <openpathsampling.engines.toy.snapshot.ToySnapshot at 0x126428cc0>,\n",
       " '205825572803023860022845415596769451284': <openpathsampling.engines.toy.snapshot.ToySnapshot at 0x126428d30>,\n",
       " '205825572803023860022845415596769451302': <openpathsampling.engines.toy.snapshot.ToySnapshot at 0x126428d68>,\n",
       " '205825572803023860022845415596769451320': <openpathsampling.engines.toy.snapshot.ToySnapshot at 0x126428da0>,\n",
       " '205825572803023860022845415596769451338': <openpathsampling.engines.toy.snapshot.ToySnapshot at 0x126428dd8>,\n",
       " '205825572803023860022845415596769451356': <openpathsampling.engines.toy.snapshot.ToySnapshot at 0x126428e10>,\n",
       " '205825572803023860022845415596769451374': <openpathsampling.engines.toy.snapshot.ToySnapshot at 0x126428e48>,\n",
       " '205825572803023860022845415596769451392': <openpathsampling.engines.toy.snapshot.ToySnapshot at 0x126428e80>,\n",
       " '205825572803023860022845415596769451410': <openpathsampling.engines.toy.snapshot.ToySnapshot at 0x126428eb8>,\n",
       " '205825572803023860022845415596769451428': <openpathsampling.engines.toy.snapshot.ToySnapshot at 0x126428ef0>,\n",
       " '205825572803023860022845415596769451446': <openpathsampling.engines.toy.snapshot.ToySnapshot at 0x126428f28>,\n",
       " '205825572803023860022845415596769451464': <openpathsampling.engines.toy.snapshot.ToySnapshot at 0x126428f60>,\n",
       " '205825572803023860022845415596769451482': <openpathsampling.engines.toy.snapshot.ToySnapshot at 0x126428f98>,\n",
       " '205825572803023860022845415596769451500': <openpathsampling.engines.toy.snapshot.ToySnapshot at 0x126428fd0>,\n",
       " '205825572803023860022845415596769451518': <openpathsampling.engines.toy.snapshot.ToySnapshot at 0x126428cf8>,\n",
       " '205825572803023860022845415596769451536': <openpathsampling.engines.toy.snapshot.ToySnapshot at 0x126428470>,\n",
       " '205825572803023860022845415596769451554': <openpathsampling.engines.toy.snapshot.ToySnapshot at 0x1266630b8>,\n",
       " '205825572803023860022845415596769451572': <openpathsampling.engines.toy.snapshot.ToySnapshot at 0x1266630f0>,\n",
       " '205825572803023860022845415596769451590': <openpathsampling.engines.toy.snapshot.ToySnapshot at 0x126663128>,\n",
       " '205825572803023860022845415596769451608': <openpathsampling.engines.toy.snapshot.ToySnapshot at 0x126663160>,\n",
       " '205825572803023860022845415596769451626': <openpathsampling.engines.toy.snapshot.ToySnapshot at 0x126663198>,\n",
       " '205825572803023860022845415596769451644': <openpathsampling.engines.toy.snapshot.ToySnapshot at 0x1266631d0>,\n",
       " '205825572803023860022845415596769451662': <openpathsampling.engines.toy.snapshot.ToySnapshot at 0x126663208>,\n",
       " '205825572803023860022845415596769451680': <openpathsampling.engines.toy.snapshot.ToySnapshot at 0x126663240>,\n",
       " '205825572803023860022845415596769451698': <openpathsampling.engines.toy.snapshot.ToySnapshot at 0x126663278>,\n",
       " '205825572803023860022845415596769451716': <openpathsampling.engines.toy.snapshot.ToySnapshot at 0x1266632b0>,\n",
       " '205825572803023860022845415596769451734': <openpathsampling.engines.toy.snapshot.ToySnapshot at 0x1266632e8>,\n",
       " '205825572803023860022845415596769451752': <openpathsampling.engines.toy.snapshot.ToySnapshot at 0x126663320>,\n",
       " '205825572803023860022845415596769451770': <openpathsampling.engines.toy.snapshot.ToySnapshot at 0x126663358>,\n",
       " '205825572803023860022845415596769451788': <openpathsampling.engines.toy.snapshot.ToySnapshot at 0x126663390>,\n",
       " '205825572803023860022845415596769451806': <openpathsampling.engines.toy.snapshot.ToySnapshot at 0x1266633c8>,\n",
       " '205825572803023860022845415596769451824': <openpathsampling.engines.toy.snapshot.ToySnapshot at 0x126663400>,\n",
       " '205825572803023860022845415596769451842': <openpathsampling.engines.toy.snapshot.ToySnapshot at 0x126663438>,\n",
       " '205825572803023860022845415596769451860': <openpathsampling.engines.toy.snapshot.ToySnapshot at 0x126663470>,\n",
       " '205825572803023860022845415596769451878': <openpathsampling.engines.toy.snapshot.ToySnapshot at 0x1266634a8>,\n",
       " '205825572803023860022845415596769451896': <openpathsampling.engines.toy.snapshot.ToySnapshot at 0x1266634e0>,\n",
       " '205825572803023860022845415596769451914': <openpathsampling.engines.toy.snapshot.ToySnapshot at 0x126663518>,\n",
       " '205825572803023860022845415596769451932': <openpathsampling.engines.toy.snapshot.ToySnapshot at 0x126663550>,\n",
       " '205825572803023860022845415596769451950': <openpathsampling.engines.toy.snapshot.ToySnapshot at 0x126663588>,\n",
       " '205825572803023860022845415596769451968': <openpathsampling.engines.toy.snapshot.ToySnapshot at 0x1266635c0>,\n",
       " '205825572803023860022845415596769451986': <openpathsampling.engines.toy.snapshot.ToySnapshot at 0x1266635f8>,\n",
       " '205825572803023860022845415596769452004': <openpathsampling.engines.toy.snapshot.ToySnapshot at 0x126663630>,\n",
       " '205825572803023860022845415596769452022': <openpathsampling.engines.toy.snapshot.ToySnapshot at 0x126663668>,\n",
       " '205825572803023860022845415596769452040': <openpathsampling.engines.toy.snapshot.ToySnapshot at 0x1266636a0>,\n",
       " '205825572803023860022845415596769452058': <openpathsampling.engines.toy.snapshot.ToySnapshot at 0x1266636d8>,\n",
       " '205825572803023860022845415596769452076': <openpathsampling.engines.toy.snapshot.ToySnapshot at 0x126663710>,\n",
       " '205825572803023860022845415596769452094': <openpathsampling.engines.toy.snapshot.ToySnapshot at 0x126663748>,\n",
       " '205825572803023860022845415596769452112': <openpathsampling.engines.toy.snapshot.ToySnapshot at 0x126663780>,\n",
       " '205825572803023860022845415596769452130': <openpathsampling.engines.toy.snapshot.ToySnapshot at 0x1266637b8>,\n",
       " '205825572803023860022845415596769452148': <openpathsampling.engines.toy.snapshot.ToySnapshot at 0x1266637f0>,\n",
       " '205825572803023860022845415596769452166': <openpathsampling.engines.toy.snapshot.ToySnapshot at 0x126663828>,\n",
       " '205825572803023860022845415596769452184': <openpathsampling.engines.toy.snapshot.ToySnapshot at 0x126663860>,\n",
       " '205825572803023860022845415596769452202': <openpathsampling.engines.toy.snapshot.ToySnapshot at 0x126663898>,\n",
       " '205825572803023860022845415596769452220': <openpathsampling.engines.toy.snapshot.ToySnapshot at 0x1266638d0>,\n",
       " '205825572803023860022845415596769452238': <openpathsampling.engines.toy.snapshot.ToySnapshot at 0x126663908>,\n",
       " '205825572803023860022845415596769452256': <openpathsampling.engines.toy.snapshot.ToySnapshot at 0x126663940>,\n",
       " '205825572803023860022845415596769452274': <openpathsampling.engines.toy.snapshot.ToySnapshot at 0x126663978>,\n",
       " '205825572803023860022845415596769452292': <openpathsampling.engines.toy.snapshot.ToySnapshot at 0x1266639b0>,\n",
       " '205825572803023860022845415596769452310': <openpathsampling.engines.toy.snapshot.ToySnapshot at 0x1266639e8>,\n",
       " '205825572803023860022845415596769452328': <openpathsampling.engines.toy.snapshot.ToySnapshot at 0x126663a20>,\n",
       " '205825572803023860022845415596769452346': <openpathsampling.engines.toy.snapshot.ToySnapshot at 0x126663a58>,\n",
       " '205825572803023860022845415596769452364': <openpathsampling.engines.toy.snapshot.ToySnapshot at 0x126663a90>,\n",
       " '205825572803023860022845415596769452382': <openpathsampling.engines.toy.snapshot.ToySnapshot at 0x126663ac8>,\n",
       " '205825572803023860022845415596769452400': <openpathsampling.engines.toy.snapshot.ToySnapshot at 0x126663b00>,\n",
       " '205825572803023860022845415596769452418': <openpathsampling.engines.toy.snapshot.ToySnapshot at 0x126663b38>,\n",
       " '205825572803023860022845415596769452436': <openpathsampling.engines.toy.snapshot.ToySnapshot at 0x126663b70>,\n",
       " '205825572803023860022845415596769452454': <openpathsampling.engines.toy.snapshot.ToySnapshot at 0x126663ba8>,\n",
       " '205825572803023860022845415596769452472': <openpathsampling.engines.toy.snapshot.ToySnapshot at 0x126663be0>,\n",
       " '205825572803023860022845415596769452490': <openpathsampling.engines.toy.snapshot.ToySnapshot at 0x126663c18>,\n",
       " '205825572803023860022845415596769452508': <openpathsampling.engines.toy.snapshot.ToySnapshot at 0x126663c50>,\n",
       " '205825572803023860022845415596769452526': <openpathsampling.engines.toy.snapshot.ToySnapshot at 0x126663c88>,\n",
       " '205825572803023860022845415596769452544': <openpathsampling.engines.toy.snapshot.ToySnapshot at 0x126663cc0>,\n",
       " '205825572803023860022845415596769452562': <openpathsampling.engines.toy.snapshot.ToySnapshot at 0x126663cf8>,\n",
       " '205825572803023860022845415596769452580': <openpathsampling.engines.toy.snapshot.ToySnapshot at 0x126663d30>,\n",
       " '205825572803023860022845415596769452598': <openpathsampling.engines.toy.snapshot.ToySnapshot at 0x126663d68>,\n",
       " '205825572803023860022845415596769452616': <openpathsampling.engines.toy.snapshot.ToySnapshot at 0x126663da0>,\n",
       " '205825572803023860022845415596769452634': <openpathsampling.engines.toy.snapshot.ToySnapshot at 0x126663dd8>,\n",
       " '205825572803023860022845415596769452652': <openpathsampling.engines.toy.snapshot.ToySnapshot at 0x126663e10>,\n",
       " '205825572803023860022845415596769452670': <openpathsampling.engines.toy.snapshot.ToySnapshot at 0x126663e48>,\n",
       " '205825572803023860022845415596769452688': <openpathsampling.engines.toy.snapshot.ToySnapshot at 0x126663e80>,\n",
       " '205825572803023860022845415596769452706': <openpathsampling.engines.toy.snapshot.ToySnapshot at 0x126663eb8>,\n",
       " '205825572803023860022845415596769452724': <openpathsampling.engines.toy.snapshot.ToySnapshot at 0x126663ef0>,\n",
       " '205825572803023860022845415596769452742': <openpathsampling.engines.toy.snapshot.ToySnapshot at 0x126663f28>,\n",
       " '205825572803023860022845415596769452760': <openpathsampling.engines.toy.snapshot.ToySnapshot at 0x126663f60>,\n",
       " '205825572803023860022845415596769452778': <openpathsampling.engines.toy.snapshot.ToySnapshot at 0x126663f98>,\n",
       " '205825572803023860022845415596769452796': <openpathsampling.engines.toy.snapshot.ToySnapshot at 0x126663fd0>,\n",
       " '205825572803023860022845415596769452814': <openpathsampling.engines.toy.snapshot.ToySnapshot at 0x126663048>,\n",
       " '205825572803023860022845415596769452832': <openpathsampling.engines.toy.snapshot.ToySnapshot at 0x126663080>,\n",
       " '205825572803023860022845415596769452850': <openpathsampling.engines.toy.snapshot.ToySnapshot at 0x1266720b8>,\n",
       " '205825572803023860022845415596769452868': <openpathsampling.engines.toy.snapshot.ToySnapshot at 0x1266720f0>,\n",
       " '205825572803023860022845415596769452886': <openpathsampling.engines.toy.snapshot.ToySnapshot at 0x126672128>,\n",
       " '205825572803023860022845415596769452904': <openpathsampling.engines.toy.snapshot.ToySnapshot at 0x126672160>,\n",
       " '205825572803023860022845415596769452922': <openpathsampling.engines.toy.snapshot.ToySnapshot at 0x126672198>,\n",
       " '205825572803023860022845415596769452940': <openpathsampling.engines.toy.snapshot.ToySnapshot at 0x1266721d0>,\n",
       " '205825572803023860022845415596769452958': <openpathsampling.engines.toy.snapshot.ToySnapshot at 0x126672208>,\n",
       " '205825572803023860022845415596769452976': <openpathsampling.engines.toy.snapshot.ToySnapshot at 0x126672240>,\n",
       " '205825572803023860022845415596769467354': Trajectory[554],\n",
       " '205825572803023860022845415596769467291': <openpathsampling.engines.toy.snapshot.ToySnapshot at 0x126672278>,\n",
       " '205825572803023860022845415596769467275': <openpathsampling.engines.toy.snapshot.ToySnapshot at 0x1266722b0>,\n",
       " '205825572803023860022845415596769467259': <openpathsampling.engines.toy.snapshot.ToySnapshot at 0x1266722e8>,\n",
       " '205825572803023860022845415596769467243': <openpathsampling.engines.toy.snapshot.ToySnapshot at 0x126672320>,\n",
       " '205825572803023860022845415596769467227': <openpathsampling.engines.toy.snapshot.ToySnapshot at 0x126672358>,\n",
       " '205825572803023860022845415596769467211': <openpathsampling.engines.toy.snapshot.ToySnapshot at 0x126672390>,\n",
       " '205825572803023860022845415596769467195': <openpathsampling.engines.toy.snapshot.ToySnapshot at 0x1266723c8>,\n",
       " '205825572803023860022845415596769467179': <openpathsampling.engines.toy.snapshot.ToySnapshot at 0x126672400>,\n",
       " '205825572803023860022845415596769467163': <openpathsampling.engines.toy.snapshot.ToySnapshot at 0x126672438>,\n",
       " '205825572803023860022845415596769467147': <openpathsampling.engines.toy.snapshot.ToySnapshot at 0x126672470>,\n",
       " '205825572803023860022845415596769467131': <openpathsampling.engines.toy.snapshot.ToySnapshot at 0x1266724a8>,\n",
       " '205825572803023860022845415596769467115': <openpathsampling.engines.toy.snapshot.ToySnapshot at 0x1266724e0>,\n",
       " '205825572803023860022845415596769467099': <openpathsampling.engines.toy.snapshot.ToySnapshot at 0x126672518>,\n",
       " '205825572803023860022845415596769467083': <openpathsampling.engines.toy.snapshot.ToySnapshot at 0x126672550>,\n",
       " '205825572803023860022845415596769467067': <openpathsampling.engines.toy.snapshot.ToySnapshot at 0x126672588>,\n",
       " '205825572803023860022845415596769467051': <openpathsampling.engines.toy.snapshot.ToySnapshot at 0x1266725c0>,\n",
       " '205825572803023860022845415596769467027': <openpathsampling.engines.toy.snapshot.ToySnapshot at 0x1266725f8>,\n",
       " '205825572803023860022845415596769467015': <openpathsampling.engines.toy.snapshot.ToySnapshot at 0x126672630>,\n",
       " '205825572803023860022845415596769467003': <openpathsampling.engines.toy.snapshot.ToySnapshot at 0x126672668>,\n",
       " '205825572803023860022845415596769466991': <openpathsampling.engines.toy.snapshot.ToySnapshot at 0x1266726a0>,\n",
       " '205825572803023860022845415596769466979': <openpathsampling.engines.toy.snapshot.ToySnapshot at 0x1266726d8>,\n",
       " '205825572803023860022845415596769466967': <openpathsampling.engines.toy.snapshot.ToySnapshot at 0x126672710>,\n",
       " '205825572803023860022845415596769466955': <openpathsampling.engines.toy.snapshot.ToySnapshot at 0x126672748>,\n",
       " '205825572803023860022845415596769466943': <openpathsampling.engines.toy.snapshot.ToySnapshot at 0x126672780>,\n",
       " '205825572803023860022845415596769466931': <openpathsampling.engines.toy.snapshot.ToySnapshot at 0x1266727b8>,\n",
       " '205825572803023860022845415596769466919': <openpathsampling.engines.toy.snapshot.ToySnapshot at 0x1266727f0>,\n",
       " '205825572803023860022845415596769466907': <openpathsampling.engines.toy.snapshot.ToySnapshot at 0x126672828>,\n",
       " '205825572803023860022845415596769466895': <openpathsampling.engines.toy.snapshot.ToySnapshot at 0x126672860>,\n",
       " '205825572803023860022845415596769466883': <openpathsampling.engines.toy.snapshot.ToySnapshot at 0x126672898>,\n",
       " '205825572803023860022845415596769466871': <openpathsampling.engines.toy.snapshot.ToySnapshot at 0x1266728d0>,\n",
       " '205825572803023860022845415596769466859': <openpathsampling.engines.toy.snapshot.ToySnapshot at 0x126672908>,\n",
       " '205825572803023860022845415596769466847': <openpathsampling.engines.toy.snapshot.ToySnapshot at 0x126672940>,\n",
       " '205825572803023860022845415596769466835': <openpathsampling.engines.toy.snapshot.ToySnapshot at 0x126672978>,\n",
       " '205825572803023860022845415596769466823': <openpathsampling.engines.toy.snapshot.ToySnapshot at 0x1266729b0>,\n",
       " '205825572803023860022845415596769466811': <openpathsampling.engines.toy.snapshot.ToySnapshot at 0x1266729e8>,\n",
       " '205825572803023860022845415596769466799': <openpathsampling.engines.toy.snapshot.ToySnapshot at 0x126672a20>,\n",
       " '205825572803023860022845415596769466787': <openpathsampling.engines.toy.snapshot.ToySnapshot at 0x126672a58>,\n",
       " '205825572803023860022845415596769466775': <openpathsampling.engines.toy.snapshot.ToySnapshot at 0x126672a90>,\n",
       " '205825572803023860022845415596769466763': <openpathsampling.engines.toy.snapshot.ToySnapshot at 0x126672ac8>,\n",
       " '205825572803023860022845415596769466751': <openpathsampling.engines.toy.snapshot.ToySnapshot at 0x126672b00>,\n",
       " '205825572803023860022845415596769466739': <openpathsampling.engines.toy.snapshot.ToySnapshot at 0x126672b38>,\n",
       " '205825572803023860022845415596769466727': <openpathsampling.engines.toy.snapshot.ToySnapshot at 0x126672b70>,\n",
       " '205825572803023860022845415596769466715': <openpathsampling.engines.toy.snapshot.ToySnapshot at 0x126672ba8>,\n",
       " '205825572803023860022845415596769466703': <openpathsampling.engines.toy.snapshot.ToySnapshot at 0x126672be0>,\n",
       " '205825572803023860022845415596769466691': <openpathsampling.engines.toy.snapshot.ToySnapshot at 0x126672c18>,\n",
       " '205825572803023860022845415596769466679': <openpathsampling.engines.toy.snapshot.ToySnapshot at 0x126672c50>,\n",
       " '205825572803023860022845415596769466667': <openpathsampling.engines.toy.snapshot.ToySnapshot at 0x126672c88>,\n",
       " '205825572803023860022845415596769466655': <openpathsampling.engines.toy.snapshot.ToySnapshot at 0x126672cc0>,\n",
       " '205825572803023860022845415596769466643': <openpathsampling.engines.toy.snapshot.ToySnapshot at 0x126672cf8>,\n",
       " '205825572803023860022845415596769466631': <openpathsampling.engines.toy.snapshot.ToySnapshot at 0x126672d30>,\n",
       " '205825572803023860022845415596769466619': <openpathsampling.engines.toy.snapshot.ToySnapshot at 0x126672d68>,\n",
       " '205825572803023860022845415596769466607': <openpathsampling.engines.toy.snapshot.ToySnapshot at 0x126672da0>,\n",
       " '205825572803023860022845415596769466595': <openpathsampling.engines.toy.snapshot.ToySnapshot at 0x126672dd8>,\n",
       " '205825572803023860022845415596769466583': <openpathsampling.engines.toy.snapshot.ToySnapshot at 0x126672e10>,\n",
       " '205825572803023860022845415596769466571': <openpathsampling.engines.toy.snapshot.ToySnapshot at 0x126672e48>,\n",
       " '205825572803023860022845415596769466559': <openpathsampling.engines.toy.snapshot.ToySnapshot at 0x126672e80>,\n",
       " '205825572803023860022845415596769466547': <openpathsampling.engines.toy.snapshot.ToySnapshot at 0x126672eb8>,\n",
       " '205825572803023860022845415596769466535': <openpathsampling.engines.toy.snapshot.ToySnapshot at 0x126672ef0>,\n",
       " '205825572803023860022845415596769466523': <openpathsampling.engines.toy.snapshot.ToySnapshot at 0x126672f28>,\n",
       " '205825572803023860022845415596769466511': <openpathsampling.engines.toy.snapshot.ToySnapshot at 0x126672f60>,\n",
       " '205825572803023860022845415596769466499': <openpathsampling.engines.toy.snapshot.ToySnapshot at 0x126672f98>,\n",
       " '205825572803023860022845415596769466487': <openpathsampling.engines.toy.snapshot.ToySnapshot at 0x126672fd0>,\n",
       " '205825572803023860022845415596769466475': <openpathsampling.engines.toy.snapshot.ToySnapshot at 0x126672048>,\n",
       " '205825572803023860022845415596769466463': <openpathsampling.engines.toy.snapshot.ToySnapshot at 0x126672080>,\n",
       " '205825572803023860022845415596769466451': <openpathsampling.engines.toy.snapshot.ToySnapshot at 0x1266810b8>,\n",
       " '205825572803023860022845415596769466439': <openpathsampling.engines.toy.snapshot.ToySnapshot at 0x1266810f0>,\n",
       " '205825572803023860022845415596769466427': <openpathsampling.engines.toy.snapshot.ToySnapshot at 0x126681128>,\n",
       " '205825572803023860022845415596769466415': <openpathsampling.engines.toy.snapshot.ToySnapshot at 0x126681160>,\n",
       " '205825572803023860022845415596769466403': <openpathsampling.engines.toy.snapshot.ToySnapshot at 0x126681198>,\n",
       " '205825572803023860022845415596769466391': <openpathsampling.engines.toy.snapshot.ToySnapshot at 0x1266811d0>,\n",
       " '205825572803023860022845415596769466379': <openpathsampling.engines.toy.snapshot.ToySnapshot at 0x126681208>,\n",
       " '205825572803023860022845415596769466367': <openpathsampling.engines.toy.snapshot.ToySnapshot at 0x126681240>,\n",
       " '205825572803023860022845415596769466355': <openpathsampling.engines.toy.snapshot.ToySnapshot at 0x126681278>,\n",
       " '205825572803023860022845415596769466343': <openpathsampling.engines.toy.snapshot.ToySnapshot at 0x1266812b0>,\n",
       " '205825572803023860022845415596769466331': <openpathsampling.engines.toy.snapshot.ToySnapshot at 0x1266812e8>,\n",
       " '205825572803023860022845415596769466319': <openpathsampling.engines.toy.snapshot.ToySnapshot at 0x126681320>,\n",
       " '205825572803023860022845415596769466307': <openpathsampling.engines.toy.snapshot.ToySnapshot at 0x126681358>,\n",
       " '205825572803023860022845415596769466295': <openpathsampling.engines.toy.snapshot.ToySnapshot at 0x126681390>,\n",
       " '205825572803023860022845415596769466283': <openpathsampling.engines.toy.snapshot.ToySnapshot at 0x1266813c8>,\n",
       " '205825572803023860022845415596769466271': <openpathsampling.engines.toy.snapshot.ToySnapshot at 0x126681400>,\n",
       " '205825572803023860022845415596769466259': <openpathsampling.engines.toy.snapshot.ToySnapshot at 0x126681438>,\n",
       " '205825572803023860022845415596769466247': <openpathsampling.engines.toy.snapshot.ToySnapshot at 0x126681470>,\n",
       " '205825572803023860022845415596769466235': <openpathsampling.engines.toy.snapshot.ToySnapshot at 0x1266814a8>,\n",
       " '205825572803023860022845415596769466223': <openpathsampling.engines.toy.snapshot.ToySnapshot at 0x1266814e0>,\n",
       " '205825572803023860022845415596769466211': <openpathsampling.engines.toy.snapshot.ToySnapshot at 0x126681518>,\n",
       " '205825572803023860022845415596769466199': <openpathsampling.engines.toy.snapshot.ToySnapshot at 0x126681550>,\n",
       " '205825572803023860022845415596769466187': <openpathsampling.engines.toy.snapshot.ToySnapshot at 0x126681588>,\n",
       " '205825572803023860022845415596769466175': <openpathsampling.engines.toy.snapshot.ToySnapshot at 0x1266815c0>,\n",
       " '205825572803023860022845415596769466163': <openpathsampling.engines.toy.snapshot.ToySnapshot at 0x1266815f8>,\n",
       " '205825572803023860022845415596769466151': <openpathsampling.engines.toy.snapshot.ToySnapshot at 0x126681630>,\n",
       " '205825572803023860022845415596769466139': <openpathsampling.engines.toy.snapshot.ToySnapshot at 0x126681668>,\n",
       " '205825572803023860022845415596769466127': <openpathsampling.engines.toy.snapshot.ToySnapshot at 0x1266816a0>,\n",
       " '205825572803023860022845415596769466115': <openpathsampling.engines.toy.snapshot.ToySnapshot at 0x1266816d8>,\n",
       " '205825572803023860022845415596769466103': <openpathsampling.engines.toy.snapshot.ToySnapshot at 0x126681710>,\n",
       " '205825572803023860022845415596769466091': <openpathsampling.engines.toy.snapshot.ToySnapshot at 0x126681748>,\n",
       " '205825572803023860022845415596769466079': <openpathsampling.engines.toy.snapshot.ToySnapshot at 0x126681780>,\n",
       " '205825572803023860022845415596769466067': <openpathsampling.engines.toy.snapshot.ToySnapshot at 0x1266817b8>,\n",
       " '205825572803023860022845415596769466055': <openpathsampling.engines.toy.snapshot.ToySnapshot at 0x1266817f0>,\n",
       " '205825572803023860022845415596769466043': <openpathsampling.engines.toy.snapshot.ToySnapshot at 0x126681828>,\n",
       " '205825572803023860022845415596769466031': <openpathsampling.engines.toy.snapshot.ToySnapshot at 0x126681860>,\n",
       " '205825572803023860022845415596769466019': <openpathsampling.engines.toy.snapshot.ToySnapshot at 0x126681898>,\n",
       " '205825572803023860022845415596769466007': <openpathsampling.engines.toy.snapshot.ToySnapshot at 0x1266818d0>,\n",
       " '205825572803023860022845415596769465995': <openpathsampling.engines.toy.snapshot.ToySnapshot at 0x126681908>,\n",
       " '205825572803023860022845415596769465983': <openpathsampling.engines.toy.snapshot.ToySnapshot at 0x126681940>,\n",
       " '205825572803023860022845415596769465971': <openpathsampling.engines.toy.snapshot.ToySnapshot at 0x126681978>,\n",
       " '205825572803023860022845415596769465959': <openpathsampling.engines.toy.snapshot.ToySnapshot at 0x1266819b0>,\n",
       " '205825572803023860022845415596769465947': <openpathsampling.engines.toy.snapshot.ToySnapshot at 0x1266819e8>,\n",
       " '205825572803023860022845415596769465935': <openpathsampling.engines.toy.snapshot.ToySnapshot at 0x126681a20>,\n",
       " '205825572803023860022845415596769465923': <openpathsampling.engines.toy.snapshot.ToySnapshot at 0x126681a58>,\n",
       " '205825572803023860022845415596769465911': <openpathsampling.engines.toy.snapshot.ToySnapshot at 0x126681a90>,\n",
       " '205825572803023860022845415596769465899': <openpathsampling.engines.toy.snapshot.ToySnapshot at 0x126681ac8>,\n",
       " '205825572803023860022845415596769465887': <openpathsampling.engines.toy.snapshot.ToySnapshot at 0x126681b00>,\n",
       " '205825572803023860022845415596769465875': <openpathsampling.engines.toy.snapshot.ToySnapshot at 0x126681b38>,\n",
       " '205825572803023860022845415596769465863': <openpathsampling.engines.toy.snapshot.ToySnapshot at 0x126681b70>,\n",
       " '205825572803023860022845415596769465851': <openpathsampling.engines.toy.snapshot.ToySnapshot at 0x126681ba8>,\n",
       " '205825572803023860022845415596769465839': <openpathsampling.engines.toy.snapshot.ToySnapshot at 0x126681be0>,\n",
       " '205825572803023860022845415596769465827': <openpathsampling.engines.toy.snapshot.ToySnapshot at 0x126681c18>,\n",
       " '205825572803023860022845415596769465815': <openpathsampling.engines.toy.snapshot.ToySnapshot at 0x126681c50>,\n",
       " '205825572803023860022845415596769465803': <openpathsampling.engines.toy.snapshot.ToySnapshot at 0x126681c88>,\n",
       " '205825572803023860022845415596769465791': <openpathsampling.engines.toy.snapshot.ToySnapshot at 0x126681cc0>,\n",
       " '205825572803023860022845415596769465779': <openpathsampling.engines.toy.snapshot.ToySnapshot at 0x126681cf8>,\n",
       " '205825572803023860022845415596769465767': <openpathsampling.engines.toy.snapshot.ToySnapshot at 0x126681dd8>,\n",
       " '205825572803023860022845415596769465755': <openpathsampling.engines.toy.snapshot.ToySnapshot at 0x126681d30>,\n",
       " '205825572803023860022845415596769465743': <openpathsampling.engines.toy.snapshot.ToySnapshot at 0x126681d68>,\n",
       " '205825572803023860022845415596769465731': <openpathsampling.engines.toy.snapshot.ToySnapshot at 0x126681048>,\n",
       " '205825572803023860022845415596769465719': <openpathsampling.engines.toy.snapshot.ToySnapshot at 0x126681e10>,\n",
       " '205825572803023860022845415596769465707': <openpathsampling.engines.toy.snapshot.ToySnapshot at 0x126681e48>,\n",
       " '205825572803023860022845415596769465695': <openpathsampling.engines.toy.snapshot.ToySnapshot at 0x126681e80>,\n",
       " '205825572803023860022845415596769465683': <openpathsampling.engines.toy.snapshot.ToySnapshot at 0x126681eb8>,\n",
       " '205825572803023860022845415596769465671': <openpathsampling.engines.toy.snapshot.ToySnapshot at 0x126681ef0>,\n",
       " '205825572803023860022845415596769465659': <openpathsampling.engines.toy.snapshot.ToySnapshot at 0x126681f28>,\n",
       " '205825572803023860022845415596769465647': <openpathsampling.engines.toy.snapshot.ToySnapshot at 0x126681f60>,\n",
       " '205825572803023860022845415596769465635': <openpathsampling.engines.toy.snapshot.ToySnapshot at 0x126681f98>,\n",
       " '205825572803023860022845415596769465623': <openpathsampling.engines.toy.snapshot.ToySnapshot at 0x126681fd0>,\n",
       " '205825572803023860022845415596769465611': <openpathsampling.engines.toy.snapshot.ToySnapshot at 0x126681080>,\n",
       " '205825572803023860022845415596769465599': <openpathsampling.engines.toy.snapshot.ToySnapshot at 0x126681da0>,\n",
       " '205825572803023860022845415596769465587': <openpathsampling.engines.toy.snapshot.ToySnapshot at 0x12668f0b8>,\n",
       " '205825572803023860022845415596769465575': <openpathsampling.engines.toy.snapshot.ToySnapshot at 0x12668f0f0>,\n",
       " '205825572803023860022845415596769465563': <openpathsampling.engines.toy.snapshot.ToySnapshot at 0x12668f128>,\n",
       " '205825572803023860022845415596769465551': <openpathsampling.engines.toy.snapshot.ToySnapshot at 0x12668f160>,\n",
       " '205825572803023860022845415596769465539': <openpathsampling.engines.toy.snapshot.ToySnapshot at 0x12668f198>,\n",
       " '205825572803023860022845415596769465527': <openpathsampling.engines.toy.snapshot.ToySnapshot at 0x12668f1d0>,\n",
       " '205825572803023860022845415596769465515': <openpathsampling.engines.toy.snapshot.ToySnapshot at 0x12668f208>,\n",
       " '205825572803023860022845415596769465503': <openpathsampling.engines.toy.snapshot.ToySnapshot at 0x12668f240>,\n",
       " '205825572803023860022845415596769465491': <openpathsampling.engines.toy.snapshot.ToySnapshot at 0x12668f278>,\n",
       " '205825572803023860022845415596769465479': <openpathsampling.engines.toy.snapshot.ToySnapshot at 0x12668f2b0>,\n",
       " '205825572803023860022845415596769465467': <openpathsampling.engines.toy.snapshot.ToySnapshot at 0x12668f2e8>,\n",
       " '205825572803023860022845415596769465455': <openpathsampling.engines.toy.snapshot.ToySnapshot at 0x12668f320>,\n",
       " '205825572803023860022845415596769465443': <openpathsampling.engines.toy.snapshot.ToySnapshot at 0x12668f358>,\n",
       " '205825572803023860022845415596769465431': <openpathsampling.engines.toy.snapshot.ToySnapshot at 0x12668f390>,\n",
       " '205825572803023860022845415596769465419': <openpathsampling.engines.toy.snapshot.ToySnapshot at 0x12668f3c8>,\n",
       " '205825572803023860022845415596769465407': <openpathsampling.engines.toy.snapshot.ToySnapshot at 0x12668f400>,\n",
       " '205825572803023860022845415596769465395': <openpathsampling.engines.toy.snapshot.ToySnapshot at 0x12668f438>,\n",
       " '205825572803023860022845415596769465383': <openpathsampling.engines.toy.snapshot.ToySnapshot at 0x12668f470>,\n",
       " '205825572803023860022845415596769465371': <openpathsampling.engines.toy.snapshot.ToySnapshot at 0x12668f4a8>,\n",
       " '205825572803023860022845415596769465359': <openpathsampling.engines.toy.snapshot.ToySnapshot at 0x12668f4e0>,\n",
       " '205825572803023860022845415596769465347': <openpathsampling.engines.toy.snapshot.ToySnapshot at 0x12668f518>,\n",
       " '205825572803023860022845415596769465335': <openpathsampling.engines.toy.snapshot.ToySnapshot at 0x12668f550>,\n",
       " '205825572803023860022845415596769465323': <openpathsampling.engines.toy.snapshot.ToySnapshot at 0x12668f588>,\n",
       " '205825572803023860022845415596769465311': <openpathsampling.engines.toy.snapshot.ToySnapshot at 0x12668f5c0>,\n",
       " '205825572803023860022845415596769465299': <openpathsampling.engines.toy.snapshot.ToySnapshot at 0x12668f5f8>,\n",
       " '205825572803023860022845415596769465287': <openpathsampling.engines.toy.snapshot.ToySnapshot at 0x12668f630>,\n",
       " '205825572803023860022845415596769465275': <openpathsampling.engines.toy.snapshot.ToySnapshot at 0x12668f668>,\n",
       " '205825572803023860022845415596769465263': <openpathsampling.engines.toy.snapshot.ToySnapshot at 0x12668f6a0>,\n",
       " '205825572803023860022845415596769465251': <openpathsampling.engines.toy.snapshot.ToySnapshot at 0x12668f6d8>,\n",
       " '205825572803023860022845415596769465239': <openpathsampling.engines.toy.snapshot.ToySnapshot at 0x12668f710>,\n",
       " '205825572803023860022845415596769465227': <openpathsampling.engines.toy.snapshot.ToySnapshot at 0x12668f748>,\n",
       " '205825572803023860022845415596769465215': <openpathsampling.engines.toy.snapshot.ToySnapshot at 0x12668f780>,\n",
       " '205825572803023860022845415596769465203': <openpathsampling.engines.toy.snapshot.ToySnapshot at 0x12668f7b8>,\n",
       " '205825572803023860022845415596769465191': <openpathsampling.engines.toy.snapshot.ToySnapshot at 0x12668f7f0>,\n",
       " '205825572803023860022845415596769465179': <openpathsampling.engines.toy.snapshot.ToySnapshot at 0x12668f828>,\n",
       " '205825572803023860022845415596769465167': <openpathsampling.engines.toy.snapshot.ToySnapshot at 0x12668f860>,\n",
       " '205825572803023860022845415596769465155': <openpathsampling.engines.toy.snapshot.ToySnapshot at 0x12668f898>,\n",
       " '205825572803023860022845415596769465143': <openpathsampling.engines.toy.snapshot.ToySnapshot at 0x12668f8d0>,\n",
       " '205825572803023860022845415596769465131': <openpathsampling.engines.toy.snapshot.ToySnapshot at 0x12668f908>,\n",
       " '205825572803023860022845415596769465119': <openpathsampling.engines.toy.snapshot.ToySnapshot at 0x12668f940>,\n",
       " '205825572803023860022845415596769465107': <openpathsampling.engines.toy.snapshot.ToySnapshot at 0x12668f978>,\n",
       " '205825572803023860022845415596769465095': <openpathsampling.engines.toy.snapshot.ToySnapshot at 0x12668f9b0>,\n",
       " '205825572803023860022845415596769465083': <openpathsampling.engines.toy.snapshot.ToySnapshot at 0x12668f9e8>,\n",
       " '205825572803023860022845415596769465071': <openpathsampling.engines.toy.snapshot.ToySnapshot at 0x12668fa20>,\n",
       " '205825572803023860022845415596769465059': <openpathsampling.engines.toy.snapshot.ToySnapshot at 0x12668fa58>,\n",
       " '205825572803023860022845415596769465047': <openpathsampling.engines.toy.snapshot.ToySnapshot at 0x12668fa90>,\n",
       " '205825572803023860022845415596769465035': <openpathsampling.engines.toy.snapshot.ToySnapshot at 0x12668fac8>,\n",
       " '205825572803023860022845415596769465023': <openpathsampling.engines.toy.snapshot.ToySnapshot at 0x12668fb00>,\n",
       " '205825572803023860022845415596769465011': <openpathsampling.engines.toy.snapshot.ToySnapshot at 0x12668fb38>,\n",
       " '205825572803023860022845415596769464999': <openpathsampling.engines.toy.snapshot.ToySnapshot at 0x12668fb70>,\n",
       " '205825572803023860022845415596769464987': <openpathsampling.engines.toy.snapshot.ToySnapshot at 0x12668fba8>,\n",
       " '205825572803023860022845415596769464975': <openpathsampling.engines.toy.snapshot.ToySnapshot at 0x12668fbe0>,\n",
       " '205825572803023860022845415596769464963': <openpathsampling.engines.toy.snapshot.ToySnapshot at 0x12668fc18>,\n",
       " '205825572803023860022845415596769464951': <openpathsampling.engines.toy.snapshot.ToySnapshot at 0x12668fc50>,\n",
       " '205825572803023860022845415596769464939': <openpathsampling.engines.toy.snapshot.ToySnapshot at 0x12668fc88>,\n",
       " '205825572803023860022845415596769464927': <openpathsampling.engines.toy.snapshot.ToySnapshot at 0x12668fcc0>,\n",
       " '205825572803023860022845415596769464915': <openpathsampling.engines.toy.snapshot.ToySnapshot at 0x12668fcf8>,\n",
       " '205825572803023860022845415596769464903': <openpathsampling.engines.toy.snapshot.ToySnapshot at 0x12668fd30>,\n",
       " '205825572803023860022845415596769464891': <openpathsampling.engines.toy.snapshot.ToySnapshot at 0x12668fd68>,\n",
       " '205825572803023860022845415596769464879': <openpathsampling.engines.toy.snapshot.ToySnapshot at 0x12668fda0>,\n",
       " '205825572803023860022845415596769464867': <openpathsampling.engines.toy.snapshot.ToySnapshot at 0x12668fdd8>,\n",
       " '205825572803023860022845415596769464855': <openpathsampling.engines.toy.snapshot.ToySnapshot at 0x12668fe10>,\n",
       " '205825572803023860022845415596769464843': <openpathsampling.engines.toy.snapshot.ToySnapshot at 0x12668fe48>,\n",
       " '205825572803023860022845415596769464831': <openpathsampling.engines.toy.snapshot.ToySnapshot at 0x12668fe80>,\n",
       " '205825572803023860022845415596769464819': <openpathsampling.engines.toy.snapshot.ToySnapshot at 0x12668feb8>,\n",
       " '205825572803023860022845415596769464807': <openpathsampling.engines.toy.snapshot.ToySnapshot at 0x12668fef0>,\n",
       " '205825572803023860022845415596769464795': <openpathsampling.engines.toy.snapshot.ToySnapshot at 0x12668ff28>,\n",
       " '205825572803023860022845415596769464783': <openpathsampling.engines.toy.snapshot.ToySnapshot at 0x12668ff60>,\n",
       " '205825572803023860022845415596769464771': <openpathsampling.engines.toy.snapshot.ToySnapshot at 0x12668ff98>,\n",
       " '205825572803023860022845415596769464759': <openpathsampling.engines.toy.snapshot.ToySnapshot at 0x12668ffd0>,\n",
       " '205825572803023860022845415596769464747': <openpathsampling.engines.toy.snapshot.ToySnapshot at 0x12668f048>,\n",
       " '205825572803023860022845415596769464735': <openpathsampling.engines.toy.snapshot.ToySnapshot at 0x12668f080>,\n",
       " '205825572803023860022845415596769464723': <openpathsampling.engines.toy.snapshot.ToySnapshot at 0x12669d0b8>,\n",
       " '205825572803023860022845415596769464711': <openpathsampling.engines.toy.snapshot.ToySnapshot at 0x12669d0f0>,\n",
       " '205825572803023860022845415596769464699': <openpathsampling.engines.toy.snapshot.ToySnapshot at 0x12669d128>,\n",
       " '205825572803023860022845415596769464687': <openpathsampling.engines.toy.snapshot.ToySnapshot at 0x12669d160>,\n",
       " '205825572803023860022845415596769464675': <openpathsampling.engines.toy.snapshot.ToySnapshot at 0x12669d198>,\n",
       " '205825572803023860022845415596769464663': <openpathsampling.engines.toy.snapshot.ToySnapshot at 0x12669d1d0>,\n",
       " '205825572803023860022845415596769464651': <openpathsampling.engines.toy.snapshot.ToySnapshot at 0x12669d208>,\n",
       " '205825572803023860022845415596769464639': <openpathsampling.engines.toy.snapshot.ToySnapshot at 0x12669d240>,\n",
       " '205825572803023860022845415596769464627': <openpathsampling.engines.toy.snapshot.ToySnapshot at 0x12669d278>,\n",
       " '205825572803023860022845415596769464615': <openpathsampling.engines.toy.snapshot.ToySnapshot at 0x12669d2b0>,\n",
       " '205825572803023860022845415596769464603': <openpathsampling.engines.toy.snapshot.ToySnapshot at 0x12669d2e8>,\n",
       " '205825572803023860022845415596769464591': <openpathsampling.engines.toy.snapshot.ToySnapshot at 0x12669d320>,\n",
       " '205825572803023860022845415596769464579': <openpathsampling.engines.toy.snapshot.ToySnapshot at 0x12669d358>,\n",
       " '205825572803023860022845415596769464567': <openpathsampling.engines.toy.snapshot.ToySnapshot at 0x12669d390>,\n",
       " '205825572803023860022845415596769464555': <openpathsampling.engines.toy.snapshot.ToySnapshot at 0x12669d3c8>,\n",
       " '205825572803023860022845415596769464543': <openpathsampling.engines.toy.snapshot.ToySnapshot at 0x12669d400>,\n",
       " '205825572803023860022845415596769464531': <openpathsampling.engines.toy.snapshot.ToySnapshot at 0x12669d438>,\n",
       " '205825572803023860022845415596769464519': <openpathsampling.engines.toy.snapshot.ToySnapshot at 0x12669d470>,\n",
       " '205825572803023860022845415596769464507': <openpathsampling.engines.toy.snapshot.ToySnapshot at 0x12669d4a8>,\n",
       " '205825572803023860022845415596769464495': <openpathsampling.engines.toy.snapshot.ToySnapshot at 0x12669d4e0>,\n",
       " '205825572803023860022845415596769464483': <openpathsampling.engines.toy.snapshot.ToySnapshot at 0x12669d518>,\n",
       " '205825572803023860022845415596769464471': <openpathsampling.engines.toy.snapshot.ToySnapshot at 0x12669d550>,\n",
       " '205825572803023860022845415596769464459': <openpathsampling.engines.toy.snapshot.ToySnapshot at 0x12669d588>,\n",
       " '205825572803023860022845415596769464447': <openpathsampling.engines.toy.snapshot.ToySnapshot at 0x12669d5c0>,\n",
       " '205825572803023860022845415596769464435': <openpathsampling.engines.toy.snapshot.ToySnapshot at 0x12669d5f8>,\n",
       " '205825572803023860022845415596769464423': <openpathsampling.engines.toy.snapshot.ToySnapshot at 0x12669d630>,\n",
       " '205825572803023860022845415596769464411': <openpathsampling.engines.toy.snapshot.ToySnapshot at 0x12669d668>,\n",
       " '205825572803023860022845415596769464399': <openpathsampling.engines.toy.snapshot.ToySnapshot at 0x12669d6a0>,\n",
       " '205825572803023860022845415596769464387': <openpathsampling.engines.toy.snapshot.ToySnapshot at 0x12669d6d8>,\n",
       " '205825572803023860022845415596769464375': <openpathsampling.engines.toy.snapshot.ToySnapshot at 0x12669d710>,\n",
       " '205825572803023860022845415596769464363': <openpathsampling.engines.toy.snapshot.ToySnapshot at 0x12669d748>,\n",
       " '205825572803023860022845415596769464351': <openpathsampling.engines.toy.snapshot.ToySnapshot at 0x12669d780>,\n",
       " '205825572803023860022845415596769464339': <openpathsampling.engines.toy.snapshot.ToySnapshot at 0x12669d7b8>,\n",
       " '205825572803023860022845415596769464327': <openpathsampling.engines.toy.snapshot.ToySnapshot at 0x12669d7f0>,\n",
       " '205825572803023860022845415596769464315': <openpathsampling.engines.toy.snapshot.ToySnapshot at 0x12669d828>,\n",
       " '205825572803023860022845415596769464303': <openpathsampling.engines.toy.snapshot.ToySnapshot at 0x12669d860>,\n",
       " '205825572803023860022845415596769464291': <openpathsampling.engines.toy.snapshot.ToySnapshot at 0x12669d898>,\n",
       " '205825572803023860022845415596769464279': <openpathsampling.engines.toy.snapshot.ToySnapshot at 0x12669d8d0>,\n",
       " '205825572803023860022845415596769464267': <openpathsampling.engines.toy.snapshot.ToySnapshot at 0x12669d908>,\n",
       " '205825572803023860022845415596769464255': <openpathsampling.engines.toy.snapshot.ToySnapshot at 0x12669d940>,\n",
       " '205825572803023860022845415596769464243': <openpathsampling.engines.toy.snapshot.ToySnapshot at 0x12669d978>,\n",
       " '205825572803023860022845415596769464231': <openpathsampling.engines.toy.snapshot.ToySnapshot at 0x12669d9b0>,\n",
       " '205825572803023860022845415596769464219': <openpathsampling.engines.toy.snapshot.ToySnapshot at 0x12669d9e8>,\n",
       " '205825572803023860022845415596769464207': <openpathsampling.engines.toy.snapshot.ToySnapshot at 0x12669da20>,\n",
       " '205825572803023860022845415596769464195': <openpathsampling.engines.toy.snapshot.ToySnapshot at 0x12669da58>,\n",
       " '205825572803023860022845415596769464183': <openpathsampling.engines.toy.snapshot.ToySnapshot at 0x12669da90>,\n",
       " '205825572803023860022845415596769464171': <openpathsampling.engines.toy.snapshot.ToySnapshot at 0x12669dac8>,\n",
       " '205825572803023860022845415596769464159': <openpathsampling.engines.toy.snapshot.ToySnapshot at 0x12669db00>,\n",
       " '205825572803023860022845415596769464147': <openpathsampling.engines.toy.snapshot.ToySnapshot at 0x12669db38>,\n",
       " '205825572803023860022845415596769464135': <openpathsampling.engines.toy.snapshot.ToySnapshot at 0x12669db70>,\n",
       " '205825572803023860022845415596769464123': <openpathsampling.engines.toy.snapshot.ToySnapshot at 0x12669dba8>,\n",
       " '205825572803023860022845415596769464111': <openpathsampling.engines.toy.snapshot.ToySnapshot at 0x12669dbe0>,\n",
       " '205825572803023860022845415596769464099': <openpathsampling.engines.toy.snapshot.ToySnapshot at 0x12669dc18>,\n",
       " '205825572803023860022845415596769464087': <openpathsampling.engines.toy.snapshot.ToySnapshot at 0x12669dc50>,\n",
       " '205825572803023860022845415596769464075': <openpathsampling.engines.toy.snapshot.ToySnapshot at 0x12669dc88>,\n",
       " '205825572803023860022845415596769464063': <openpathsampling.engines.toy.snapshot.ToySnapshot at 0x12669dcc0>,\n",
       " '205825572803023860022845415596769464051': <openpathsampling.engines.toy.snapshot.ToySnapshot at 0x12669dcf8>,\n",
       " '205825572803023860022845415596769464039': <openpathsampling.engines.toy.snapshot.ToySnapshot at 0x12669dd30>,\n",
       " '205825572803023860022845415596769464027': <openpathsampling.engines.toy.snapshot.ToySnapshot at 0x12669dd68>,\n",
       " '205825572803023860022845415596769464015': <openpathsampling.engines.toy.snapshot.ToySnapshot at 0x12669dda0>,\n",
       " '205825572803023860022845415596769464003': <openpathsampling.engines.toy.snapshot.ToySnapshot at 0x12669ddd8>,\n",
       " '205825572803023860022845415596769463991': <openpathsampling.engines.toy.snapshot.ToySnapshot at 0x12669de10>,\n",
       " '205825572803023860022845415596769463979': <openpathsampling.engines.toy.snapshot.ToySnapshot at 0x12669de48>,\n",
       " '205825572803023860022845415596769463967': <openpathsampling.engines.toy.snapshot.ToySnapshot at 0x12669de80>,\n",
       " '205825572803023860022845415596769463955': <openpathsampling.engines.toy.snapshot.ToySnapshot at 0x12669deb8>,\n",
       " '205825572803023860022845415596769463943': <openpathsampling.engines.toy.snapshot.ToySnapshot at 0x12669def0>,\n",
       " '205825572803023860022845415596769463931': <openpathsampling.engines.toy.snapshot.ToySnapshot at 0x12669df28>,\n",
       " '205825572803023860022845415596769463919': <openpathsampling.engines.toy.snapshot.ToySnapshot at 0x12669df60>,\n",
       " '205825572803023860022845415596769463907': <openpathsampling.engines.toy.snapshot.ToySnapshot at 0x12669df98>,\n",
       " '205825572803023860022845415596769463895': <openpathsampling.engines.toy.snapshot.ToySnapshot at 0x12669dfd0>,\n",
       " '205825572803023860022845415596769463883': <openpathsampling.engines.toy.snapshot.ToySnapshot at 0x12669d048>,\n",
       " '205825572803023860022845415596769463871': <openpathsampling.engines.toy.snapshot.ToySnapshot at 0x12669d080>,\n",
       " '205825572803023860022845415596769463859': <openpathsampling.engines.toy.snapshot.ToySnapshot at 0x1266ab0b8>,\n",
       " '205825572803023860022845415596769463847': <openpathsampling.engines.toy.snapshot.ToySnapshot at 0x1266ab0f0>,\n",
       " '205825572803023860022845415596769463835': <openpathsampling.engines.toy.snapshot.ToySnapshot at 0x1266ab128>,\n",
       " '205825572803023860022845415596769463823': <openpathsampling.engines.toy.snapshot.ToySnapshot at 0x1266ab160>,\n",
       " '205825572803023860022845415596769463811': <openpathsampling.engines.toy.snapshot.ToySnapshot at 0x1266ab198>,\n",
       " '205825572803023860022845415596769463799': <openpathsampling.engines.toy.snapshot.ToySnapshot at 0x1266ab1d0>,\n",
       " '205825572803023860022845415596769463787': <openpathsampling.engines.toy.snapshot.ToySnapshot at 0x1266ab208>,\n",
       " '205825572803023860022845415596769463775': <openpathsampling.engines.toy.snapshot.ToySnapshot at 0x1266ab240>,\n",
       " '205825572803023860022845415596769463763': <openpathsampling.engines.toy.snapshot.ToySnapshot at 0x1266ab278>,\n",
       " '205825572803023860022845415596769463751': <openpathsampling.engines.toy.snapshot.ToySnapshot at 0x1266ab2b0>,\n",
       " '205825572803023860022845415596769463739': <openpathsampling.engines.toy.snapshot.ToySnapshot at 0x1266ab2e8>,\n",
       " '205825572803023860022845415596769463727': <openpathsampling.engines.toy.snapshot.ToySnapshot at 0x1266ab320>,\n",
       " '205825572803023860022845415596769463715': <openpathsampling.engines.toy.snapshot.ToySnapshot at 0x1266ab358>,\n",
       " '205825572803023860022845415596769463703': <openpathsampling.engines.toy.snapshot.ToySnapshot at 0x1266ab390>,\n",
       " '205825572803023860022845415596769463691': <openpathsampling.engines.toy.snapshot.ToySnapshot at 0x1266ab3c8>,\n",
       " '205825572803023860022845415596769463679': <openpathsampling.engines.toy.snapshot.ToySnapshot at 0x1266ab400>,\n",
       " '205825572803023860022845415596769463667': <openpathsampling.engines.toy.snapshot.ToySnapshot at 0x1266ab438>,\n",
       " '205825572803023860022845415596769463655': <openpathsampling.engines.toy.snapshot.ToySnapshot at 0x1266ab470>,\n",
       " '205825572803023860022845415596769463643': <openpathsampling.engines.toy.snapshot.ToySnapshot at 0x1266ab4a8>,\n",
       " '205825572803023860022845415596769463631': <openpathsampling.engines.toy.snapshot.ToySnapshot at 0x1266ab4e0>,\n",
       " '205825572803023860022845415596769463619': <openpathsampling.engines.toy.snapshot.ToySnapshot at 0x1266ab518>,\n",
       " '205825572803023860022845415596769463607': <openpathsampling.engines.toy.snapshot.ToySnapshot at 0x1266ab550>,\n",
       " '205825572803023860022845415596769463595': <openpathsampling.engines.toy.snapshot.ToySnapshot at 0x1266ab588>,\n",
       " '205825572803023860022845415596769463583': <openpathsampling.engines.toy.snapshot.ToySnapshot at 0x1266ab5c0>,\n",
       " '205825572803023860022845415596769463571': <openpathsampling.engines.toy.snapshot.ToySnapshot at 0x1266ab5f8>,\n",
       " '205825572803023860022845415596769463559': <openpathsampling.engines.toy.snapshot.ToySnapshot at 0x1266ab630>,\n",
       " '205825572803023860022845415596769463547': <openpathsampling.engines.toy.snapshot.ToySnapshot at 0x1266ab668>,\n",
       " '205825572803023860022845415596769463535': <openpathsampling.engines.toy.snapshot.ToySnapshot at 0x1266ab6a0>,\n",
       " '205825572803023860022845415596769463523': <openpathsampling.engines.toy.snapshot.ToySnapshot at 0x1266ab6d8>,\n",
       " '205825572803023860022845415596769463511': <openpathsampling.engines.toy.snapshot.ToySnapshot at 0x1266ab710>,\n",
       " '205825572803023860022845415596769463499': <openpathsampling.engines.toy.snapshot.ToySnapshot at 0x1266ab748>,\n",
       " '205825572803023860022845415596769463487': <openpathsampling.engines.toy.snapshot.ToySnapshot at 0x1266ab780>,\n",
       " '205825572803023860022845415596769463475': <openpathsampling.engines.toy.snapshot.ToySnapshot at 0x1266ab7b8>,\n",
       " '205825572803023860022845415596769463463': <openpathsampling.engines.toy.snapshot.ToySnapshot at 0x1266ab7f0>,\n",
       " '205825572803023860022845415596769463451': <openpathsampling.engines.toy.snapshot.ToySnapshot at 0x1266ab828>,\n",
       " '205825572803023860022845415596769463439': <openpathsampling.engines.toy.snapshot.ToySnapshot at 0x1266ab860>,\n",
       " '205825572803023860022845415596769463427': <openpathsampling.engines.toy.snapshot.ToySnapshot at 0x1266ab978>,\n",
       " '205825572803023860022845415596769463415': <openpathsampling.engines.toy.snapshot.ToySnapshot at 0x1266ab898>,\n",
       " '205825572803023860022845415596769463403': <openpathsampling.engines.toy.snapshot.ToySnapshot at 0x1266ab8d0>,\n",
       " '205825572803023860022845415596769463391': <openpathsampling.engines.toy.snapshot.ToySnapshot at 0x1266ab908>,\n",
       " '205825572803023860022845415596769463379': <openpathsampling.engines.toy.snapshot.ToySnapshot at 0x1266ab080>,\n",
       " '205825572803023860022845415596769463367': <openpathsampling.engines.toy.snapshot.ToySnapshot at 0x1266ab9b0>,\n",
       " '205825572803023860022845415596769463355': <openpathsampling.engines.toy.snapshot.ToySnapshot at 0x1266ab9e8>,\n",
       " '205825572803023860022845415596769463343': <openpathsampling.engines.toy.snapshot.ToySnapshot at 0x1266aba20>,\n",
       " '205825572803023860022845415596769463331': <openpathsampling.engines.toy.snapshot.ToySnapshot at 0x1266aba58>,\n",
       " '205825572803023860022845415596769463319': <openpathsampling.engines.toy.snapshot.ToySnapshot at 0x1266aba90>,\n",
       " '205825572803023860022845415596769463307': <openpathsampling.engines.toy.snapshot.ToySnapshot at 0x1266abac8>,\n",
       " '205825572803023860022845415596769463295': <openpathsampling.engines.toy.snapshot.ToySnapshot at 0x1266abb00>,\n",
       " '205825572803023860022845415596769463283': <openpathsampling.engines.toy.snapshot.ToySnapshot at 0x1266abb38>,\n",
       " '205825572803023860022845415596769463271': <openpathsampling.engines.toy.snapshot.ToySnapshot at 0x1266abb70>,\n",
       " '205825572803023860022845415596769463259': <openpathsampling.engines.toy.snapshot.ToySnapshot at 0x1266abba8>,\n",
       " '205825572803023860022845415596769463247': <openpathsampling.engines.toy.snapshot.ToySnapshot at 0x1266abbe0>,\n",
       " '205825572803023860022845415596769463235': <openpathsampling.engines.toy.snapshot.ToySnapshot at 0x1266abc18>,\n",
       " '205825572803023860022845415596769463223': <openpathsampling.engines.toy.snapshot.ToySnapshot at 0x1266abc50>,\n",
       " '205825572803023860022845415596769463211': <openpathsampling.engines.toy.snapshot.ToySnapshot at 0x1266abc88>,\n",
       " '205825572803023860022845415596769463199': <openpathsampling.engines.toy.snapshot.ToySnapshot at 0x1266abcc0>,\n",
       " '205825572803023860022845415596769463187': <openpathsampling.engines.toy.snapshot.ToySnapshot at 0x1266abcf8>,\n",
       " '205825572803023860022845415596769463175': <openpathsampling.engines.toy.snapshot.ToySnapshot at 0x1266abd30>,\n",
       " '205825572803023860022845415596769463163': <openpathsampling.engines.toy.snapshot.ToySnapshot at 0x1266abd68>,\n",
       " '205825572803023860022845415596769463151': <openpathsampling.engines.toy.snapshot.ToySnapshot at 0x1266abda0>,\n",
       " '205825572803023860022845415596769463139': <openpathsampling.engines.toy.snapshot.ToySnapshot at 0x1266abdd8>,\n",
       " '205825572803023860022845415596769463127': <openpathsampling.engines.toy.snapshot.ToySnapshot at 0x1266abe10>,\n",
       " '205825572803023860022845415596769463115': <openpathsampling.engines.toy.snapshot.ToySnapshot at 0x1266abe48>,\n",
       " '205825572803023860022845415596769463103': <openpathsampling.engines.toy.snapshot.ToySnapshot at 0x1266abe80>,\n",
       " '205825572803023860022845415596769463091': <openpathsampling.engines.toy.snapshot.ToySnapshot at 0x1266abeb8>,\n",
       " '205825572803023860022845415596769463079': <openpathsampling.engines.toy.snapshot.ToySnapshot at 0x1266abef0>,\n",
       " '205825572803023860022845415596769463067': <openpathsampling.engines.toy.snapshot.ToySnapshot at 0x1266abf28>,\n",
       " '205825572803023860022845415596769463055': <openpathsampling.engines.toy.snapshot.ToySnapshot at 0x1266abf60>,\n",
       " '205825572803023860022845415596769463043': <openpathsampling.engines.toy.snapshot.ToySnapshot at 0x1266abf98>,\n",
       " '205825572803023860022845415596769463031': <openpathsampling.engines.toy.snapshot.ToySnapshot at 0x1266abfd0>,\n",
       " '205825572803023860022845415596769463019': <openpathsampling.engines.toy.snapshot.ToySnapshot at 0x1266ab048>,\n",
       " '205825572803023860022845415596769463007': <openpathsampling.engines.toy.snapshot.ToySnapshot at 0x1266ab940>,\n",
       " '205825572803023860022845415596769462995': <openpathsampling.engines.toy.snapshot.ToySnapshot at 0x1266ba0b8>,\n",
       " '205825572803023860022845415596769462983': <openpathsampling.engines.toy.snapshot.ToySnapshot at 0x1266ba0f0>,\n",
       " '205825572803023860022845415596769462971': <openpathsampling.engines.toy.snapshot.ToySnapshot at 0x1266ba128>,\n",
       " '205825572803023860022845415596769462959': <openpathsampling.engines.toy.snapshot.ToySnapshot at 0x1266ba160>,\n",
       " '205825572803023860022845415596769462947': <openpathsampling.engines.toy.snapshot.ToySnapshot at 0x1266ba198>,\n",
       " '205825572803023860022845415596769462935': <openpathsampling.engines.toy.snapshot.ToySnapshot at 0x1266ba1d0>,\n",
       " '205825572803023860022845415596769462923': <openpathsampling.engines.toy.snapshot.ToySnapshot at 0x1266ba208>,\n",
       " '205825572803023860022845415596769462911': <openpathsampling.engines.toy.snapshot.ToySnapshot at 0x1266ba240>,\n",
       " '205825572803023860022845415596769462899': <openpathsampling.engines.toy.snapshot.ToySnapshot at 0x1266ba278>,\n",
       " '205825572803023860022845415596769462887': <openpathsampling.engines.toy.snapshot.ToySnapshot at 0x1266ba2b0>,\n",
       " '205825572803023860022845415596769462875': <openpathsampling.engines.toy.snapshot.ToySnapshot at 0x1266ba2e8>,\n",
       " '205825572803023860022845415596769462863': <openpathsampling.engines.toy.snapshot.ToySnapshot at 0x1266ba320>,\n",
       " '205825572803023860022845415596769462851': <openpathsampling.engines.toy.snapshot.ToySnapshot at 0x1266ba358>,\n",
       " '205825572803023860022845415596769462839': <openpathsampling.engines.toy.snapshot.ToySnapshot at 0x1266ba390>,\n",
       " '205825572803023860022845415596769462827': <openpathsampling.engines.toy.snapshot.ToySnapshot at 0x1266ba3c8>,\n",
       " '205825572803023860022845415596769462815': <openpathsampling.engines.toy.snapshot.ToySnapshot at 0x1266ba400>,\n",
       " '205825572803023860022845415596769462803': <openpathsampling.engines.toy.snapshot.ToySnapshot at 0x1266ba438>,\n",
       " '205825572803023860022845415596769462791': <openpathsampling.engines.toy.snapshot.ToySnapshot at 0x1266ba470>,\n",
       " '205825572803023860022845415596769462779': <openpathsampling.engines.toy.snapshot.ToySnapshot at 0x1266ba4a8>,\n",
       " '205825572803023860022845415596769462767': <openpathsampling.engines.toy.snapshot.ToySnapshot at 0x1266ba4e0>,\n",
       " '205825572803023860022845415596769462755': <openpathsampling.engines.toy.snapshot.ToySnapshot at 0x1266ba518>,\n",
       " '205825572803023860022845415596769462743': <openpathsampling.engines.toy.snapshot.ToySnapshot at 0x1266ba550>,\n",
       " '205825572803023860022845415596769462731': <openpathsampling.engines.toy.snapshot.ToySnapshot at 0x1266ba588>,\n",
       " '205825572803023860022845415596769462719': <openpathsampling.engines.toy.snapshot.ToySnapshot at 0x1266ba5c0>,\n",
       " '205825572803023860022845415596769462707': <openpathsampling.engines.toy.snapshot.ToySnapshot at 0x1266ba5f8>,\n",
       " '205825572803023860022845415596769462695': <openpathsampling.engines.toy.snapshot.ToySnapshot at 0x1266ba630>,\n",
       " '205825572803023860022845415596769462683': <openpathsampling.engines.toy.snapshot.ToySnapshot at 0x1266ba668>,\n",
       " '205825572803023860022845415596769462671': <openpathsampling.engines.toy.snapshot.ToySnapshot at 0x1266ba6a0>,\n",
       " '205825572803023860022845415596769462659': <openpathsampling.engines.toy.snapshot.ToySnapshot at 0x1266ba6d8>,\n",
       " '205825572803023860022845415596769462647': <openpathsampling.engines.toy.snapshot.ToySnapshot at 0x1266ba710>,\n",
       " '205825572803023860022845415596769462635': <openpathsampling.engines.toy.snapshot.ToySnapshot at 0x1266ba748>,\n",
       " '205825572803023860022845415596769462623': <openpathsampling.engines.toy.snapshot.ToySnapshot at 0x1266ba860>,\n",
       " '205825572803023860022845415596769462611': <openpathsampling.engines.toy.snapshot.ToySnapshot at 0x1266ba780>,\n",
       " '205825572803023860022845415596769462599': <openpathsampling.engines.toy.snapshot.ToySnapshot at 0x1266ba7b8>,\n",
       " '205825572803023860022845415596769462587': <openpathsampling.engines.toy.snapshot.ToySnapshot at 0x1266ba7f0>,\n",
       " '205825572803023860022845415596769462575': <openpathsampling.engines.toy.snapshot.ToySnapshot at 0x1266ba048>,\n",
       " '205825572803023860022845415596769462563': <openpathsampling.engines.toy.snapshot.ToySnapshot at 0x1266ba898>,\n",
       " '205825572803023860022845415596769462551': <openpathsampling.engines.toy.snapshot.ToySnapshot at 0x1266ba8d0>,\n",
       " '205825572803023860022845415596769462539': <openpathsampling.engines.toy.snapshot.ToySnapshot at 0x1266ba908>,\n",
       " '205825572803023860022845415596769462527': <openpathsampling.engines.toy.snapshot.ToySnapshot at 0x1266ba940>,\n",
       " '205825572803023860022845415596769462515': <openpathsampling.engines.toy.snapshot.ToySnapshot at 0x1266ba978>,\n",
       " '205825572803023860022845415596769462503': <openpathsampling.engines.toy.snapshot.ToySnapshot at 0x1266ba9b0>,\n",
       " '205825572803023860022845415596769462491': <openpathsampling.engines.toy.snapshot.ToySnapshot at 0x1266ba9e8>,\n",
       " '205825572803023860022845415596769462479': <openpathsampling.engines.toy.snapshot.ToySnapshot at 0x1266baa20>,\n",
       " '205825572803023860022845415596769462467': <openpathsampling.engines.toy.snapshot.ToySnapshot at 0x1266baa58>,\n",
       " '205825572803023860022845415596769462455': <openpathsampling.engines.toy.snapshot.ToySnapshot at 0x1266baa90>,\n",
       " '205825572803023860022845415596769462443': <openpathsampling.engines.toy.snapshot.ToySnapshot at 0x1266baac8>,\n",
       " '205825572803023860022845415596769462431': <openpathsampling.engines.toy.snapshot.ToySnapshot at 0x1266bab00>,\n",
       " '205825572803023860022845415596769462419': <openpathsampling.engines.toy.snapshot.ToySnapshot at 0x1266bab38>,\n",
       " '205825572803023860022845415596769462407': <openpathsampling.engines.toy.snapshot.ToySnapshot at 0x1266bab70>,\n",
       " '205825572803023860022845415596769462395': <openpathsampling.engines.toy.snapshot.ToySnapshot at 0x1266baba8>,\n",
       " '205825572803023860022845415596769462383': <openpathsampling.engines.toy.snapshot.ToySnapshot at 0x1266babe0>,\n",
       " '205825572803023860022845415596769462371': <openpathsampling.engines.toy.snapshot.ToySnapshot at 0x1266bac18>,\n",
       " '205825572803023860022845415596769462359': <openpathsampling.engines.toy.snapshot.ToySnapshot at 0x1266bac50>,\n",
       " '205825572803023860022845415596769462347': <openpathsampling.engines.toy.snapshot.ToySnapshot at 0x1266bac88>,\n",
       " '205825572803023860022845415596769462335': <openpathsampling.engines.toy.snapshot.ToySnapshot at 0x1266bacc0>,\n",
       " '205825572803023860022845415596769462323': <openpathsampling.engines.toy.snapshot.ToySnapshot at 0x1266bacf8>,\n",
       " '205825572803023860022845415596769462311': <openpathsampling.engines.toy.snapshot.ToySnapshot at 0x1266bad30>,\n",
       " '205825572803023860022845415596769462299': <openpathsampling.engines.toy.snapshot.ToySnapshot at 0x1266bad68>,\n",
       " '205825572803023860022845415596769462287': <openpathsampling.engines.toy.snapshot.ToySnapshot at 0x1266bada0>,\n",
       " '205825572803023860022845415596769462275': <openpathsampling.engines.toy.snapshot.ToySnapshot at 0x1266badd8>,\n",
       " '205825572803023860022845415596769462263': <openpathsampling.engines.toy.snapshot.ToySnapshot at 0x1266bae10>,\n",
       " '205825572803023860022845415596769462251': <openpathsampling.engines.toy.snapshot.ToySnapshot at 0x1266bae48>,\n",
       " '205825572803023860022845415596769462239': <openpathsampling.engines.toy.snapshot.ToySnapshot at 0x1266bae80>,\n",
       " '205825572803023860022845415596769462227': <openpathsampling.engines.toy.snapshot.ToySnapshot at 0x1266baeb8>,\n",
       " '205825572803023860022845415596769462215': <openpathsampling.engines.toy.snapshot.ToySnapshot at 0x1266baef0>,\n",
       " '205825572803023860022845415596769462203': <openpathsampling.engines.toy.snapshot.ToySnapshot at 0x1266baf28>,\n",
       " '205825572803023860022845415596769462191': <openpathsampling.engines.toy.snapshot.ToySnapshot at 0x1266baf60>,\n",
       " '205825572803023860022845415596769462179': <openpathsampling.engines.toy.snapshot.ToySnapshot at 0x1266baf98>,\n",
       " '205825572803023860022845415596769462167': <openpathsampling.engines.toy.snapshot.ToySnapshot at 0x1266bafd0>,\n",
       " '205825572803023860022845415596769462155': <openpathsampling.engines.toy.snapshot.ToySnapshot at 0x1266ba828>,\n",
       " '205825572803023860022845415596769462143': <openpathsampling.engines.toy.snapshot.ToySnapshot at 0x1266ba080>,\n",
       " '205825572803023860022845415596769462131': <openpathsampling.engines.toy.snapshot.ToySnapshot at 0x1266c90b8>,\n",
       " '205825572803023860022845415596769462119': <openpathsampling.engines.toy.snapshot.ToySnapshot at 0x1266c90f0>,\n",
       " '205825572803023860022845415596769462107': <openpathsampling.engines.toy.snapshot.ToySnapshot at 0x1266c9128>,\n",
       " '205825572803023860022845415596769462095': <openpathsampling.engines.toy.snapshot.ToySnapshot at 0x1266c9160>,\n",
       " '205825572803023860022845415596769462083': <openpathsampling.engines.toy.snapshot.ToySnapshot at 0x1266c9198>,\n",
       " '205825572803023860022845415596769462071': <openpathsampling.engines.toy.snapshot.ToySnapshot at 0x1266c91d0>,\n",
       " '205825572803023860022845415596769462059': <openpathsampling.engines.toy.snapshot.ToySnapshot at 0x1266c9208>,\n",
       " '205825572803023860022845415596769462047': <openpathsampling.engines.toy.snapshot.ToySnapshot at 0x1266c9240>,\n",
       " '205825572803023860022845415596769462035': <openpathsampling.engines.toy.snapshot.ToySnapshot at 0x1266c9278>,\n",
       " '205825572803023860022845415596769462023': <openpathsampling.engines.toy.snapshot.ToySnapshot at 0x1266c92b0>,\n",
       " '205825572803023860022845415596769462011': <openpathsampling.engines.toy.snapshot.ToySnapshot at 0x1266c92e8>,\n",
       " '205825572803023860022845415596769461999': <openpathsampling.engines.toy.snapshot.ToySnapshot at 0x1266c9320>,\n",
       " '205825572803023860022845415596769461987': <openpathsampling.engines.toy.snapshot.ToySnapshot at 0x1266c9358>,\n",
       " '205825572803023860022845415596769461975': <openpathsampling.engines.toy.snapshot.ToySnapshot at 0x1266c9390>,\n",
       " '205825572803023860022845415596769461963': <openpathsampling.engines.toy.snapshot.ToySnapshot at 0x1266c93c8>,\n",
       " '205825572803023860022845415596769461951': <openpathsampling.engines.toy.snapshot.ToySnapshot at 0x1266c9400>,\n",
       " '205825572803023860022845415596769461939': <openpathsampling.engines.toy.snapshot.ToySnapshot at 0x1266c9438>,\n",
       " '205825572803023860022845415596769461927': <openpathsampling.engines.toy.snapshot.ToySnapshot at 0x1266c9470>,\n",
       " '205825572803023860022845415596769461915': <openpathsampling.engines.toy.snapshot.ToySnapshot at 0x1266c94a8>,\n",
       " '205825572803023860022845415596769461903': <openpathsampling.engines.toy.snapshot.ToySnapshot at 0x1266c94e0>,\n",
       " '205825572803023860022845415596769461891': <openpathsampling.engines.toy.snapshot.ToySnapshot at 0x1266c9518>,\n",
       " '205825572803023860022845415596769461879': <openpathsampling.engines.toy.snapshot.ToySnapshot at 0x1266c9550>,\n",
       " '205825572803023860022845415596769461867': <openpathsampling.engines.toy.snapshot.ToySnapshot at 0x1266c9588>,\n",
       " '205825572803023860022845415596769461855': <openpathsampling.engines.toy.snapshot.ToySnapshot at 0x1266c95c0>,\n",
       " '205825572803023860022845415596769461843': <openpathsampling.engines.toy.snapshot.ToySnapshot at 0x1266c95f8>,\n",
       " '205825572803023860022845415596769461831': <openpathsampling.engines.toy.snapshot.ToySnapshot at 0x1266c9630>,\n",
       " '205825572803023860022845415596769461819': <openpathsampling.engines.toy.snapshot.ToySnapshot at 0x1266c9668>,\n",
       " '205825572803023860022845415596769461807': <openpathsampling.engines.toy.snapshot.ToySnapshot at 0x1266c96a0>,\n",
       " '205825572803023860022845415596769461795': <openpathsampling.engines.toy.snapshot.ToySnapshot at 0x1266c96d8>,\n",
       " '205825572803023860022845415596769461783': <openpathsampling.engines.toy.snapshot.ToySnapshot at 0x1266c9710>,\n",
       " '205825572803023860022845415596769461771': <openpathsampling.engines.toy.snapshot.ToySnapshot at 0x1266c9748>,\n",
       " '205825572803023860022845415596769461759': <openpathsampling.engines.toy.snapshot.ToySnapshot at 0x1266c9780>,\n",
       " '205825572803023860022845415596769461747': <openpathsampling.engines.toy.snapshot.ToySnapshot at 0x1266c97b8>,\n",
       " '205825572803023860022845415596769461735': <openpathsampling.engines.toy.snapshot.ToySnapshot at 0x1266c97f0>,\n",
       " '205825572803023860022845415596769461723': <openpathsampling.engines.toy.snapshot.ToySnapshot at 0x1266c9828>,\n",
       " '205825572803023860022845415596769461711': <openpathsampling.engines.toy.snapshot.ToySnapshot at 0x1266c9860>,\n",
       " '205825572803023860022845415596769461699': <openpathsampling.engines.toy.snapshot.ToySnapshot at 0x1266c9898>,\n",
       " '205825572803023860022845415596769461687': <openpathsampling.engines.toy.snapshot.ToySnapshot at 0x1266c98d0>,\n",
       " '205825572803023860022845415596769461675': <openpathsampling.engines.toy.snapshot.ToySnapshot at 0x1266c9908>,\n",
       " '205825572803023860022845415596769461663': <openpathsampling.engines.toy.snapshot.ToySnapshot at 0x1266c9940>,\n",
       " '205825572803023860022845415596769461651': <openpathsampling.engines.toy.snapshot.ToySnapshot at 0x1266c9978>,\n",
       " '205825572803023860022845415596769461639': <openpathsampling.engines.toy.snapshot.ToySnapshot at 0x1266c99b0>,\n",
       " '205825572803023860022845415596769461627': <openpathsampling.engines.toy.snapshot.ToySnapshot at 0x1266c99e8>,\n",
       " '205825572803023860022845415596769461615': <openpathsampling.engines.toy.snapshot.ToySnapshot at 0x1266c9a20>,\n",
       " '205825572803023860022845415596769461603': <openpathsampling.engines.toy.snapshot.ToySnapshot at 0x1266c9a58>,\n",
       " '205825572803023860022845415596769461591': <openpathsampling.engines.toy.snapshot.ToySnapshot at 0x1266c9a90>,\n",
       " '205825572803023860022845415596769461579': <openpathsampling.engines.toy.snapshot.ToySnapshot at 0x1266c9ac8>,\n",
       " '205825572803023860022845415596769461567': <openpathsampling.engines.toy.snapshot.ToySnapshot at 0x1266c9b00>,\n",
       " '205825572803023860022845415596769461555': <openpathsampling.engines.toy.snapshot.ToySnapshot at 0x1266c9b38>,\n",
       " '205825572803023860022845415596769461543': <openpathsampling.engines.toy.snapshot.ToySnapshot at 0x1266c9b70>,\n",
       " '205825572803023860022845415596769461531': <openpathsampling.engines.toy.snapshot.ToySnapshot at 0x1266c9ba8>,\n",
       " '205825572803023860022845415596769461519': <openpathsampling.engines.toy.snapshot.ToySnapshot at 0x1266c9be0>,\n",
       " '205825572803023860022845415596769461507': <openpathsampling.engines.toy.snapshot.ToySnapshot at 0x1266c9c18>,\n",
       " '205825572803023860022845415596769461495': <openpathsampling.engines.toy.snapshot.ToySnapshot at 0x1266c9c50>,\n",
       " '205825572803023860022845415596769461483': <openpathsampling.engines.toy.snapshot.ToySnapshot at 0x1266c9c88>,\n",
       " '205825572803023860022845415596769461471': <openpathsampling.engines.toy.snapshot.ToySnapshot at 0x1266c9cc0>,\n",
       " '205825572803023860022845415596769461459': <openpathsampling.engines.toy.snapshot.ToySnapshot at 0x1266c9cf8>,\n",
       " '205825572803023860022845415596769461447': <openpathsampling.engines.toy.snapshot.ToySnapshot at 0x1266c9d30>,\n",
       " '205825572803023860022845415596769461435': <openpathsampling.engines.toy.snapshot.ToySnapshot at 0x1266c9d68>,\n",
       " '205825572803023860022845415596769461423': <openpathsampling.engines.toy.snapshot.ToySnapshot at 0x1266c9da0>,\n",
       " '205825572803023860022845415596769461411': <openpathsampling.engines.toy.snapshot.ToySnapshot at 0x1266c9dd8>,\n",
       " '205825572803023860022845415596769461399': <openpathsampling.engines.toy.snapshot.ToySnapshot at 0x1266c9e10>,\n",
       " '205825572803023860022845415596769461387': <openpathsampling.engines.toy.snapshot.ToySnapshot at 0x1266c9e48>,\n",
       " '205825572803023860022845415596769461375': <openpathsampling.engines.toy.snapshot.ToySnapshot at 0x1266c9e80>,\n",
       " '205825572803023860022845415596769461363': <openpathsampling.engines.toy.snapshot.ToySnapshot at 0x1266c9eb8>,\n",
       " '205825572803023860022845415596769461351': <openpathsampling.engines.toy.snapshot.ToySnapshot at 0x1266c9ef0>,\n",
       " '205825572803023860022845415596769461339': <openpathsampling.engines.toy.snapshot.ToySnapshot at 0x1266c9f28>,\n",
       " '205825572803023860022845415596769461327': <openpathsampling.engines.toy.snapshot.ToySnapshot at 0x1266c9f60>,\n",
       " '205825572803023860022845415596769461315': <openpathsampling.engines.toy.snapshot.ToySnapshot at 0x1266c9f98>,\n",
       " '205825572803023860022845415596769461303': <openpathsampling.engines.toy.snapshot.ToySnapshot at 0x1266c9fd0>,\n",
       " '205825572803023860022845415596769461291': <openpathsampling.engines.toy.snapshot.ToySnapshot at 0x1266c9048>,\n",
       " '205825572803023860022845415596769461279': <openpathsampling.engines.toy.snapshot.ToySnapshot at 0x1266c9080>,\n",
       " '205825572803023860022845415596769461267': <openpathsampling.engines.toy.snapshot.ToySnapshot at 0x1266d80b8>,\n",
       " '205825572803023860022845415596769461255': <openpathsampling.engines.toy.snapshot.ToySnapshot at 0x1266d80f0>,\n",
       " '205825572803023860022845415596769461243': <openpathsampling.engines.toy.snapshot.ToySnapshot at 0x1266d8128>,\n",
       " '205825572803023860022845415596769461231': <openpathsampling.engines.toy.snapshot.ToySnapshot at 0x1266d8160>,\n",
       " '205825572803023860022845415596769461219': <openpathsampling.engines.toy.snapshot.ToySnapshot at 0x1266d8198>,\n",
       " '205825572803023860022845415596769461207': <openpathsampling.engines.toy.snapshot.ToySnapshot at 0x1266d81d0>,\n",
       " '205825572803023860022845415596769461195': <openpathsampling.engines.toy.snapshot.ToySnapshot at 0x1266d8208>,\n",
       " '205825572803023860022845415596769461183': <openpathsampling.engines.toy.snapshot.ToySnapshot at 0x1266d8240>,\n",
       " '205825572803023860022845415596769461171': <openpathsampling.engines.toy.snapshot.ToySnapshot at 0x1266d8278>,\n",
       " '205825572803023860022845415596769461159': <openpathsampling.engines.toy.snapshot.ToySnapshot at 0x1266d82b0>,\n",
       " '205825572803023860022845415596769461147': <openpathsampling.engines.toy.snapshot.ToySnapshot at 0x1266d82e8>,\n",
       " '205825572803023860022845415596769461135': <openpathsampling.engines.toy.snapshot.ToySnapshot at 0x1266d8320>,\n",
       " '205825572803023860022845415596769461123': <openpathsampling.engines.toy.snapshot.ToySnapshot at 0x1266d8358>,\n",
       " '205825572803023860022845415596769461111': <openpathsampling.engines.toy.snapshot.ToySnapshot at 0x1266d8390>,\n",
       " '205825572803023860022845415596769461099': <openpathsampling.engines.toy.snapshot.ToySnapshot at 0x1266d83c8>,\n",
       " '205825572803023860022845415596769461087': <openpathsampling.engines.toy.snapshot.ToySnapshot at 0x1266d8400>,\n",
       " '205825572803023860022845415596769461075': <openpathsampling.engines.toy.snapshot.ToySnapshot at 0x1266d8438>,\n",
       " '205825572803023860022845415596769461063': <openpathsampling.engines.toy.snapshot.ToySnapshot at 0x1266d8470>,\n",
       " '205825572803023860022845415596769461051': <openpathsampling.engines.toy.snapshot.ToySnapshot at 0x1266d84a8>,\n",
       " '205825572803023860022845415596769461039': <openpathsampling.engines.toy.snapshot.ToySnapshot at 0x1266d84e0>,\n",
       " '205825572803023860022845415596769461027': <openpathsampling.engines.toy.snapshot.ToySnapshot at 0x1266d8518>,\n",
       " '205825572803023860022845415596769461015': <openpathsampling.engines.toy.snapshot.ToySnapshot at 0x1266d8550>,\n",
       " '205825572803023860022845415596769461003': <openpathsampling.engines.toy.snapshot.ToySnapshot at 0x1266d8588>,\n",
       " '205825572803023860022845415596769460991': <openpathsampling.engines.toy.snapshot.ToySnapshot at 0x1266d85c0>,\n",
       " '205825572803023860022845415596769460979': <openpathsampling.engines.toy.snapshot.ToySnapshot at 0x1266d85f8>,\n",
       " '205825572803023860022845415596769460967': <openpathsampling.engines.toy.snapshot.ToySnapshot at 0x1266d8630>,\n",
       " '205825572803023860022845415596769460955': <openpathsampling.engines.toy.snapshot.ToySnapshot at 0x1266d8668>,\n",
       " '205825572803023860022845415596769460943': <openpathsampling.engines.toy.snapshot.ToySnapshot at 0x1266d86a0>,\n",
       " '205825572803023860022845415596769460931': <openpathsampling.engines.toy.snapshot.ToySnapshot at 0x1266d86d8>,\n",
       " '205825572803023860022845415596769460919': <openpathsampling.engines.toy.snapshot.ToySnapshot at 0x1266d8710>,\n",
       " '205825572803023860022845415596769460907': <openpathsampling.engines.toy.snapshot.ToySnapshot at 0x1266d8748>,\n",
       " '205825572803023860022845415596769460895': <openpathsampling.engines.toy.snapshot.ToySnapshot at 0x1266d8780>,\n",
       " '205825572803023860022845415596769460883': <openpathsampling.engines.toy.snapshot.ToySnapshot at 0x1266d87b8>,\n",
       " '205825572803023860022845415596769460871': <openpathsampling.engines.toy.snapshot.ToySnapshot at 0x1266d87f0>,\n",
       " '205825572803023860022845415596769460859': <openpathsampling.engines.toy.snapshot.ToySnapshot at 0x1266d8828>,\n",
       " '205825572803023860022845415596769460847': <openpathsampling.engines.toy.snapshot.ToySnapshot at 0x1266d8860>,\n",
       " ...}"
      ]
     },
     "execution_count": 10,
     "metadata": {},
     "output_type": "execute_result"
    }
   ],
   "source": [
    "%%time\n",
    "get_all_uuids(step.active);"
   ]
  },
  {
   "cell_type": "code",
   "execution_count": 11,
   "metadata": {},
   "outputs": [],
   "source": [
    "get_all_uuids(step.previous);"
   ]
  },
  {
   "cell_type": "code",
   "execution_count": 12,
   "metadata": {},
   "outputs": [],
   "source": [
    "all_uuids = get_all_uuids(step.change)"
   ]
  },
  {
   "cell_type": "code",
   "execution_count": 13,
   "metadata": {},
   "outputs": [
    {
     "name": "stdout",
     "output_type": "stream",
     "text": [
      "1617\n"
     ]
    }
   ],
   "source": [
    "print(len(all_uuids))"
   ]
  },
  {
   "cell_type": "code",
   "execution_count": 14,
   "metadata": {},
   "outputs": [
    {
     "data": {
      "text/plain": [
       "{'mover': <openpathsampling.pathmover.PathSimulatorMover at 0x125a875c0>,\n",
       " 'details': <openpathsampling.pathmover.Details at 0x126417948>,\n",
       " 'samples': [],\n",
       " 'input_samples': [],\n",
       " 'subchanges': [<openpathsampling.movechange.RandomChoiceMoveChange at 0x125a87518>],\n",
       " 'cls': 'PathSimulatorMoveChange'}"
      ]
     },
     "execution_count": 14,
     "metadata": {},
     "output_type": "execute_result"
    }
   ],
   "source": [
    "step.change.to_dict()"
   ]
  },
  {
   "cell_type": "code",
   "execution_count": 15,
   "metadata": {},
   "outputs": [
    {
     "data": {
      "text/plain": [
       "{'mover': <openpathsampling.pathmover.RandomChoiceMover at 0x125fc4ba8>,\n",
       " 'pathsimulator': <openpathsampling.pathsimulators.path_sampling.PathSampling at 0x125a87978>}"
      ]
     },
     "execution_count": 15,
     "metadata": {},
     "output_type": "execute_result"
    }
   ],
   "source": [
    "step.change.mover.to_dict()"
   ]
  },
  {
   "cell_type": "code",
   "execution_count": 16,
   "metadata": {},
   "outputs": [
    {
     "data": {
      "text/plain": [
       "{'ensemble1': <openpathsampling.ensemble.TISEnsemble at 0x111df36a0>,\n",
       " 'ensemble2': <openpathsampling.ensemble.TISEnsemble at 0x125236198>,\n",
       " 'bias': None}"
      ]
     },
     "execution_count": 16,
     "metadata": {},
     "output_type": "execute_result"
    }
   ],
   "source": [
    "step.simulation.root_mover.movers[0].movers[0].to_dict()"
   ]
  },
  {
   "cell_type": "code",
   "execution_count": 17,
   "metadata": {},
   "outputs": [
    {
     "data": {
      "text/plain": [
       "{'205825572803023860022845415596767639426': <openpathsampling.pathmover.ReplicaExchangeMover at 0x125a87b00>,\n",
       " '205825572803023860022845415596767576816': <openpathsampling.ensemble.TISEnsemble at 0x111df36a0>,\n",
       " '205825572803023860022845415596767576846': <openpathsampling.ensemble.TISEnsemble at 0x125236198>,\n",
       " '205825572803023860022845415596767576740': <openpathsampling.volume.CVDefinedVolume at 0x1252364e0>,\n",
       " '174395458874316017953765140704788480026': <openpathsampling.collectivevariable.CoordinateFunctionCV at 0x125236358>,\n",
       " '46380510405785918200155421121190035598': <openpathsampling.ensemble.IntersectionEnsemble at 0x1259c16d8>,\n",
       " '205825572803023860022845415596767576742': <openpathsampling.volume.CVDefinedVolume at 0x1259c19b0>,\n",
       " '46380510405785918200155421121190035664': <openpathsampling.ensemble.IntersectionEnsemble at 0x1259ca898>,\n",
       " '205825572803023860022845415596767576786': <openpathsampling.volume.UnionVolume at 0x111df3a20>,\n",
       " '174395458874316017953765140704788480032': <openpathsampling.volume.CVDefinedVolume at 0x111df37f0>,\n",
       " '205825572803023860022845415596767576798': <openpathsampling.ensemble.IntersectionEnsemble at 0x121ae05c0>,\n",
       " '205825572803023860022845415596767576806': <openpathsampling.ensemble.IntersectionEnsemble at 0x125236cf8>,\n",
       " '205825572803023860022845415596767576814': <openpathsampling.ensemble.IntersectionEnsemble at 0x125236f98>,\n",
       " '46380510405785918200155421121190035594': <openpathsampling.ensemble.SequentialEnsemble at 0x1259c1438>,\n",
       " '46380510405785918200155421121190035596': <openpathsampling.ensemble.PartOutXEnsemble at 0x1259c15c0>,\n",
       " '205825572803023860022845415596767576828': <openpathsampling.ensemble.IntersectionEnsemble at 0x1259c1a58>,\n",
       " '205825572803023860022845415596767576836': <openpathsampling.ensemble.IntersectionEnsemble at 0x1259c1e80>,\n",
       " '205825572803023860022845415596767576844': <openpathsampling.ensemble.IntersectionEnsemble at 0x1259c1fd0>,\n",
       " '46380510405785918200155421121190035660': <openpathsampling.ensemble.SequentialEnsemble at 0x1259ca5f8>,\n",
       " '46380510405785918200155421121190035662': <openpathsampling.ensemble.PartOutXEnsemble at 0x1259ca780>,\n",
       " '174395458874316017953765140704788480034': <openpathsampling.volume.CVDefinedVolume at 0x125236668>,\n",
       " '174395458874316017953765140704788480036': <openpathsampling.volume.CVDefinedVolume at 0x1252367b8>,\n",
       " '205825572803023860022845415596767576794': <openpathsampling.ensemble.AllInXEnsemble at 0x1252368d0>,\n",
       " '205825572803023860022845415596767576796': <openpathsampling.ensemble.LengthEnsemble at 0x1252365c0>,\n",
       " '205825572803023860022845415596767576802': <openpathsampling.ensemble.AllOutXEnsemble at 0x125236d30>,\n",
       " '205825572803023860022845415596767576804': <openpathsampling.ensemble.PartOutXEnsemble at 0x125236c18>,\n",
       " '205825572803023860022845415596767576810': <openpathsampling.ensemble.AllInXEnsemble at 0x125236fd0>,\n",
       " '205825572803023860022845415596767576812': <openpathsampling.ensemble.LengthEnsemble at 0x1252362e8>,\n",
       " '205825572803023860022845415596767576824': <openpathsampling.ensemble.AllInXEnsemble at 0x1259c1ba8>,\n",
       " '205825572803023860022845415596767576826': <openpathsampling.ensemble.LengthEnsemble at 0x1259c1ac8>,\n",
       " '205825572803023860022845415596767576832': <openpathsampling.ensemble.AllOutXEnsemble at 0x1259c1eb8>,\n",
       " '205825572803023860022845415596767576834': <openpathsampling.ensemble.PartOutXEnsemble at 0x1259c1da0>,\n",
       " '205825572803023860022845415596767576840': <openpathsampling.ensemble.AllInXEnsemble at 0x1259c1b70>,\n",
       " '205825572803023860022845415596767576842': <openpathsampling.ensemble.LengthEnsemble at 0x1259c1940>,\n",
       " '174395458874316017953765140704788480028': <openpathsampling.collectivevariable.CoordinateFunctionCV at 0x125236748>,\n",
       " '174395458874316017953765140704788480030': <openpathsampling.collectivevariable.CoordinateFunctionCV at 0x125236978>,\n",
       " '205825572803023860022845415596767576800': <openpathsampling.volume.UnionVolume at 0x125236d68>,\n",
       " '205825572803023860022845415596767576808': <openpathsampling.volume.UnionVolume at 0x1259c1048>,\n",
       " '46380510405785918200155421121190035574': <openpathsampling.ensemble.IntersectionEnsemble at 0x125236e10>,\n",
       " '46380510405785918200155421121190035580': <openpathsampling.ensemble.OptionalEnsemble at 0x1259c10b8>,\n",
       " '46380510405785918200155421121190035592': <openpathsampling.ensemble.IntersectionEnsemble at 0x1259c1400>,\n",
       " '205825572803023860022845415596767576830': <openpathsampling.volume.UnionVolume at 0x1259c1ef0>,\n",
       " '205825572803023860022845415596767576838': <openpathsampling.volume.UnionVolume at 0x1259ca1d0>,\n",
       " '46380510405785918200155421121190035640': <openpathsampling.ensemble.IntersectionEnsemble at 0x1259c1a90>,\n",
       " '46380510405785918200155421121190035646': <openpathsampling.ensemble.OptionalEnsemble at 0x1259ca278>,\n",
       " '46380510405785918200155421121190035658': <openpathsampling.ensemble.IntersectionEnsemble at 0x1259ca5c0>,\n",
       " '46380510405785918200155421121190035570': <openpathsampling.ensemble.AllInXEnsemble at 0x123159eb8>,\n",
       " '46380510405785918200155421121190035572': <openpathsampling.ensemble.LengthEnsemble at 0x125236b70>,\n",
       " '46380510405785918200155421121190035578': <openpathsampling.ensemble.AllOutXEnsemble at 0x125236908>,\n",
       " '46380510405785918200155421121190035588': <openpathsampling.ensemble.AllInXEnsemble at 0x1259c12b0>,\n",
       " '46380510405785918200155421121190035590': <openpathsampling.ensemble.LengthEnsemble at 0x1259c13c8>,\n",
       " '46380510405785918200155421121190035636': <openpathsampling.ensemble.AllInXEnsemble at 0x1259c1cc0>,\n",
       " '46380510405785918200155421121190035638': <openpathsampling.ensemble.LengthEnsemble at 0x1259c1f98>,\n",
       " '46380510405785918200155421121190035644': <openpathsampling.ensemble.AllOutXEnsemble at 0x1259ca0f0>,\n",
       " '46380510405785918200155421121190035654': <openpathsampling.ensemble.AllInXEnsemble at 0x1259ca470>,\n",
       " '46380510405785918200155421121190035656': <openpathsampling.ensemble.LengthEnsemble at 0x1259ca588>,\n",
       " '46380510405785918200155421121190035576': <openpathsampling.volume.UnionVolume at 0x125236240>,\n",
       " '46380510405785918200155421121190035586': <openpathsampling.volume.UnionVolume at 0x1259c1278>,\n",
       " '46380510405785918200155421121190035642': <openpathsampling.volume.UnionVolume at 0x1259c1b00>,\n",
       " '46380510405785918200155421121190035652': <openpathsampling.volume.UnionVolume at 0x1259ca438>}"
      ]
     },
     "execution_count": 17,
     "metadata": {},
     "output_type": "execute_result"
    }
   ],
   "source": [
    "get_all_uuids(step.simulation.root_mover.movers[0].movers[0])"
   ]
  },
  {
   "cell_type": "code",
   "execution_count": 18,
   "metadata": {},
   "outputs": [],
   "source": [
    "#%load_ext line_profiler"
   ]
  },
  {
   "cell_type": "code",
   "execution_count": 19,
   "metadata": {},
   "outputs": [],
   "source": [
    "from openpathsampling.experimental.storage.serialization_helpers import default_find_uuids"
   ]
  },
  {
   "cell_type": "code",
   "execution_count": 20,
   "metadata": {},
   "outputs": [],
   "source": [
    "#%%time\n",
    "#%lprun -f get_all_uuids \n",
    "all_u = get_all_uuids(step)\n",
    "#excluded_iterables=(np.ndarray, paths.Sample, paths.SampleSet, paths.MoveChange))"
   ]
  },
  {
   "cell_type": "code",
   "execution_count": 21,
   "metadata": {},
   "outputs": [
    {
     "data": {
      "text/plain": [
       "2981"
      ]
     },
     "execution_count": 21,
     "metadata": {},
     "output_type": "execute_result"
    }
   ],
   "source": [
    "len(all_u)"
   ]
  },
  {
   "cell_type": "code",
   "execution_count": 22,
   "metadata": {},
   "outputs": [
    {
     "data": {
      "text/plain": [
       "Counter({openpathsampling.pathsimulators.path_simulator.MCStep: 1,\n",
       "         openpathsampling.sample.SampleSet: 3,\n",
       "         openpathsampling.movechange.PathSimulatorMoveChange: 1,\n",
       "         openpathsampling.pathsimulators.path_sampling.PathSampling: 1,\n",
       "         openpathsampling.sample.Sample: 27,\n",
       "         openpathsampling.pathmover.PathSimulatorMover: 1,\n",
       "         openpathsampling.pathmover.Details: 4,\n",
       "         openpathsampling.movechange.RandomChoiceMoveChange: 2,\n",
       "         openpathsampling.movechange.AcceptedSampleMoveChange: 1,\n",
       "         openpathsampling.high_level.move_scheme.DefaultScheme: 1,\n",
       "         openpathsampling.pathmover.RandomChoiceMover: 15,\n",
       "         openpathsampling.ensemble.MinusInterfaceEnsemble: 3,\n",
       "         openpathsampling.ensemble.TISEnsemble: 18,\n",
       "         openpathsampling.ensemble.UnionEnsemble: 2,\n",
       "         openpathsampling.engines.trajectory.Trajectory: 27,\n",
       "         openpathsampling.engines.toy.snapshot.ToySnapshot: 2331,\n",
       "         openpathsampling.pathmover.ReplicaExchangeMover: 12,\n",
       "         openpathsampling.pathmover.OneWayShootingMover: 10,\n",
       "         openpathsampling.pathmover.ForwardShootMover: 10,\n",
       "         openpathsampling.pathmover.BackwardShootMover: 10,\n",
       "         openpathsampling.pathmover.PathReversalMover: 10,\n",
       "         openpathsampling.pathmover.MinusMover: 3,\n",
       "         openpathsampling.pathmover.EnsembleFilterMover: 3,\n",
       "         openpathsampling.pathmover.ConditionalSequentialMover: 3,\n",
       "         openpathsampling.pathmover.FirstSubtrajectorySelectMover: 3,\n",
       "         openpathsampling.pathmover.FinalSubtrajectorySelectMover: 3,\n",
       "         openpathsampling.pathmover.ForwardExtendMover: 3,\n",
       "         openpathsampling.pathmover.BackwardExtendMover: 3,\n",
       "         openpathsampling.high_level.network.MSTISNetwork: 1,\n",
       "         openpathsampling.volume.CVDefinedVolume: 15,\n",
       "         openpathsampling.ensemble.IntersectionEnsemble: 102,\n",
       "         openpathsampling.collectivevariable.CoordinateFunctionCV: 3,\n",
       "         openpathsampling.engines.toy.engine.ToyEngine: 1,\n",
       "         openpathsampling.shooting.UniformSelector: 2,\n",
       "         openpathsampling.shooting.FinalFrameSelector: 3,\n",
       "         openpathsampling.shooting.FirstFrameSelector: 3,\n",
       "         openpathsampling.volume.EmptyVolume: 6,\n",
       "         openpathsampling.ensemble.SequentialEnsemble: 21,\n",
       "         openpathsampling.ensemble.AllOutXEnsemble: 39,\n",
       "         openpathsampling.volume.UnionVolume: 51,\n",
       "         openpathsampling.ensemble.PartOutXEnsemble: 33,\n",
       "         openpathsampling.engines.toy.topology.ToyTopology: 1,\n",
       "         openpathsampling.high_level.transition.TISTransition: 3,\n",
       "         openpathsampling.high_level.ms_outer_interface.MSOuterTISInterface: 1,\n",
       "         openpathsampling.ensemble.AllInXEnsemble: 75,\n",
       "         openpathsampling.ensemble.LengthEnsemble: 66,\n",
       "         openpathsampling.engines.toy.integrators.LangevinBAOABIntegrator: 1,\n",
       "         openpathsampling.engines.toy.pes.PES_Add: 3,\n",
       "         openpathsampling.high_level.interface_set.VolumeInterfaceSet: 3,\n",
       "         openpathsampling.ensemble.SingleFrameEnsemble: 6,\n",
       "         openpathsampling.ensemble.OptionalEnsemble: 24,\n",
       "         openpathsampling.engines.toy.pes.Gaussian: 3,\n",
       "         openpathsampling.volume.FullVolume: 3,\n",
       "         openpathsampling.engines.toy.pes.OuterWalls: 1})"
      ]
     },
     "execution_count": 22,
     "metadata": {},
     "output_type": "execute_result"
    }
   ],
   "source": [
    "collections.Counter([v.__class__ for v in all_u.values()])"
   ]
  },
  {
   "cell_type": "code",
   "execution_count": 23,
   "metadata": {
    "scrolled": false
   },
   "outputs": [],
   "source": [
    "#%%prun -D save.pstat\n",
    "#%lprun -f SQLStorageBackend.add_to_table \n",
    "storage.save(step)"
   ]
  },
  {
   "cell_type": "code",
   "execution_count": 24,
   "metadata": {},
   "outputs": [],
   "source": [
    "snap = step.active[0].trajectory[0]"
   ]
  },
  {
   "cell_type": "code",
   "execution_count": null,
   "metadata": {},
   "outputs": [],
   "source": []
  },
  {
   "cell_type": "code",
   "execution_count": 25,
   "metadata": {},
   "outputs": [
    {
     "data": {
      "text/plain": [
       "Table('tables', MetaData(bind=Engine(sqlite:///test.sql)), Column('name', String(), table=<tables>), Column('idx', Integer(), table=<tables>), Column('module', String(), table=<tables>), Column('class_name', String(), table=<tables>), schema=None)"
      ]
     },
     "execution_count": 25,
     "metadata": {},
     "output_type": "execute_result"
    }
   ],
   "source": [
    "backend.metadata.tables['tables']"
   ]
  },
  {
   "cell_type": "code",
   "execution_count": 26,
   "metadata": {},
   "outputs": [
    {
     "data": {
      "text/plain": [
       "[<openpathsampling.pathsimulators.path_simulator.MCStep at 0x1270d2c88>]"
      ]
     },
     "execution_count": 26,
     "metadata": {},
     "output_type": "execute_result"
    }
   ],
   "source": [
    "#storage.load([step_uuid])\n",
    "storage.load([get_uuid(step)])"
   ]
  },
  {
   "cell_type": "code",
   "execution_count": 27,
   "metadata": {},
   "outputs": [],
   "source": [
    "sample_set = step.active"
   ]
  },
  {
   "cell_type": "code",
   "execution_count": 28,
   "metadata": {
    "scrolled": false
   },
   "outputs": [
    {
     "data": {
      "text/plain": [
       "{'samples': [<Sample @ 0x121ac4ac8>,\n",
       "  <Sample @ 0x1231599e8>,\n",
       "  <Sample @ 0x123159a20>,\n",
       "  <Sample @ 0x125a87080>,\n",
       "  <Sample @ 0x125a871d0>,\n",
       "  <Sample @ 0x125a87240>,\n",
       "  <Sample @ 0x125a87208>,\n",
       "  <Sample @ 0x125a872b0>,\n",
       "  <Sample @ 0x125a87278>,\n",
       "  <Sample @ 0x125a872e8>,\n",
       "  <Sample @ 0x121f8df60>,\n",
       "  <Sample @ 0x125a87198>,\n",
       "  <Sample @ 0x125a87470>],\n",
       " 'ensemble_dict': {<openpathsampling.ensemble.MinusInterfaceEnsemble at 0x125a476a0>: [<Sample @ 0x121ac4ac8>],\n",
       "  <openpathsampling.ensemble.MinusInterfaceEnsemble at 0x125a32be0>: [<Sample @ 0x1231599e8>],\n",
       "  <openpathsampling.ensemble.TISEnsemble at 0x1259e6eb8>: [<Sample @ 0x123159a20>],\n",
       "  <openpathsampling.ensemble.TISEnsemble at 0x1259c1a20>: [<Sample @ 0x125a87080>],\n",
       "  <openpathsampling.ensemble.TISEnsemble at 0x1259e6f98>: [<Sample @ 0x125a871d0>],\n",
       "  <openpathsampling.ensemble.MinusInterfaceEnsemble at 0x123159f98>: [<Sample @ 0x125a87240>],\n",
       "  <openpathsampling.ensemble.TISEnsemble at 0x1259f4048>: [<Sample @ 0x125a87208>],\n",
       "  <openpathsampling.ensemble.TISEnsemble at 0x111df36a0>: [<Sample @ 0x125a872b0>],\n",
       "  <openpathsampling.ensemble.TISEnsemble at 0x1259d2c18>: [<Sample @ 0x125a87278>],\n",
       "  <openpathsampling.ensemble.TISEnsemble at 0x1259caa20>: [<Sample @ 0x125a872e8>],\n",
       "  <openpathsampling.ensemble.UnionEnsemble at 0x125a152e8>: [<Sample @ 0x121f8df60>],\n",
       "  <openpathsampling.ensemble.TISEnsemble at 0x1259e0d30>: [<Sample @ 0x125a87198>],\n",
       "  <openpathsampling.ensemble.TISEnsemble at 0x125236198>: [<Sample @ 0x125a87470>]},\n",
       " 'replica_dict': {8: [<Sample @ 0x121ac4ac8>],\n",
       "  3: [<Sample @ 0x1231599e8>],\n",
       "  -3: [<Sample @ 0x123159a20>],\n",
       "  2: [<Sample @ 0x125a87080>],\n",
       "  5: [<Sample @ 0x125a871d0>],\n",
       "  1: [<Sample @ 0x125a87240>],\n",
       "  7: [<Sample @ 0x125a87208>],\n",
       "  0: [<Sample @ 0x125a872b0>],\n",
       "  4: [<Sample @ 0x125a87278>],\n",
       "  -2: [<Sample @ 0x125a872e8>],\n",
       "  9: [<Sample @ 0x121f8df60>],\n",
       "  6: [<Sample @ 0x125a87198>],\n",
       "  -1: [<Sample @ 0x125a87470>]}}"
      ]
     },
     "execution_count": 28,
     "metadata": {},
     "output_type": "execute_result"
    }
   ],
   "source": [
    "sample_set.to_dict()\n",
    "# note: this is a problem with to_dict-based serialization for data objects"
   ]
  },
  {
   "cell_type": "code",
   "execution_count": 29,
   "metadata": {},
   "outputs": [
    {
     "data": {
      "text/plain": [
       "ClassInfo(table=sample_sets, cls=<class 'openpathsampling.sample.SampleSet'>, lookup_result=<class 'openpathsampling.sample.SampleSet'>, find_uuids=<openpathsampling.experimental.storage.serialization_helpers.SchemaFindUUIDs object at 0x121a47c88>)"
      ]
     },
     "execution_count": 29,
     "metadata": {},
     "output_type": "execute_result"
    }
   ],
   "source": [
    "sset_info = storage.class_info['sample_sets']\n",
    "sset_info"
   ]
  },
  {
   "cell_type": "code",
   "execution_count": 30,
   "metadata": {},
   "outputs": [
    {
     "data": {
      "text/plain": [
       "{'samples': '[\"UUID(205825572803023860022845415596769375132)\", \"UUID(205825572803023860022845415596769426136)\", \"UUID(205825572803023860022845415596769442906)\", \"UUID(205825572803023860022845415596769447010)\", \"UUID(205825572803023860022845415596769453502)\", \"UUID(205825572803023860022845415596769467356)\", \"UUID(205825572803023860022845415596769470120)\", \"UUID(205825572803023860022845415596769472296)\", \"UUID(205825572803023860022845415596769473070)\", \"UUID(205825572803023860022845415596769480946)\", \"UUID(205825572803023860022845415596769485076)\", \"UUID(205825572803023860022845415596769486208)\", \"UUID(205825572803023860022845415596769486788)\"]',\n",
       " 'uuid': '205825572803023860022845415596769487054'}"
      ]
     },
     "execution_count": 30,
     "metadata": {},
     "output_type": "execute_result"
    }
   ],
   "source": [
    "sset_info.serializer(sample_set)"
   ]
  },
  {
   "cell_type": "code",
   "execution_count": 31,
   "metadata": {},
   "outputs": [],
   "source": [
    "samp = sample_set[0]"
   ]
  },
  {
   "cell_type": "code",
   "execution_count": 32,
   "metadata": {},
   "outputs": [
    {
     "data": {
      "text/plain": [
       "205825572803023860022845415596769472296"
      ]
     },
     "execution_count": 32,
     "metadata": {},
     "output_type": "execute_result"
    }
   ],
   "source": [
    "samp.__uuid__"
   ]
  },
  {
   "cell_type": "code",
   "execution_count": 33,
   "metadata": {},
   "outputs": [
    {
     "data": {
      "text/plain": [
       "Counter({openpathsampling.sample.Sample: 1,\n",
       "         openpathsampling.ensemble.TISEnsemble: 1,\n",
       "         openpathsampling.engines.trajectory.Trajectory: 1,\n",
       "         openpathsampling.engines.toy.snapshot.ToySnapshot: 4,\n",
       "         openpathsampling.volume.CVDefinedVolume: 4,\n",
       "         openpathsampling.collectivevariable.CoordinateFunctionCV: 3,\n",
       "         openpathsampling.ensemble.IntersectionEnsemble: 6,\n",
       "         openpathsampling.engines.toy.engine.ToyEngine: 1,\n",
       "         openpathsampling.volume.UnionVolume: 5,\n",
       "         openpathsampling.ensemble.SequentialEnsemble: 1,\n",
       "         openpathsampling.ensemble.PartOutXEnsemble: 2,\n",
       "         openpathsampling.engines.toy.topology.ToyTopology: 1,\n",
       "         openpathsampling.ensemble.AllInXEnsemble: 4,\n",
       "         openpathsampling.ensemble.LengthEnsemble: 4,\n",
       "         openpathsampling.ensemble.AllOutXEnsemble: 2,\n",
       "         openpathsampling.engines.toy.integrators.LangevinBAOABIntegrator: 1,\n",
       "         openpathsampling.engines.toy.pes.PES_Add: 3,\n",
       "         openpathsampling.ensemble.OptionalEnsemble: 1,\n",
       "         openpathsampling.engines.toy.pes.Gaussian: 3,\n",
       "         openpathsampling.engines.toy.pes.OuterWalls: 1})"
      ]
     },
     "execution_count": 33,
     "metadata": {},
     "output_type": "execute_result"
    }
   ],
   "source": [
    "collections.Counter([v.__class__ for v in get_all_uuids(samp).values()])\n",
    "# TESTS: make sure that a simple sample gets everything!"
   ]
  },
  {
   "cell_type": "code",
   "execution_count": 34,
   "metadata": {},
   "outputs": [],
   "source": [
    "traj = samp.trajectory"
   ]
  },
  {
   "cell_type": "code",
   "execution_count": 35,
   "metadata": {},
   "outputs": [
    {
     "data": {
      "text/plain": [
       "Counter({openpathsampling.engines.trajectory.Trajectory: 1,\n",
       "         openpathsampling.engines.toy.snapshot.ToySnapshot: 4,\n",
       "         openpathsampling.engines.toy.engine.ToyEngine: 1,\n",
       "         openpathsampling.engines.toy.topology.ToyTopology: 1,\n",
       "         openpathsampling.engines.toy.integrators.LangevinBAOABIntegrator: 1,\n",
       "         openpathsampling.engines.toy.pes.PES_Add: 3,\n",
       "         openpathsampling.engines.toy.pes.Gaussian: 3,\n",
       "         openpathsampling.engines.toy.pes.OuterWalls: 1})"
      ]
     },
     "execution_count": 35,
     "metadata": {},
     "output_type": "execute_result"
    }
   ],
   "source": [
    "collections.Counter([v.__class__ for v in get_all_uuids(traj).values()])"
   ]
  },
  {
   "cell_type": "code",
   "execution_count": 36,
   "metadata": {},
   "outputs": [
    {
     "data": {
      "text/plain": [
       "'205825572803023860022845415596769487054'"
      ]
     },
     "execution_count": 36,
     "metadata": {},
     "output_type": "execute_result"
    }
   ],
   "source": [
    "sset_uuid = get_uuid(sample_set)\n",
    "sset_uuid"
   ]
  },
  {
   "cell_type": "code",
   "execution_count": 37,
   "metadata": {},
   "outputs": [
    {
     "data": {
      "text/plain": [
       "[<openpathsampling.sample.SampleSet at 0x1270d2320>]"
      ]
     },
     "execution_count": 37,
     "metadata": {},
     "output_type": "execute_result"
    }
   ],
   "source": [
    "#%%prun -D load.pstat\n",
    "storage.load([sset_uuid])"
   ]
  },
  {
   "cell_type": "code",
   "execution_count": 38,
   "metadata": {},
   "outputs": [],
   "source": [
    "#backend.load_uuids_table(['118336820345834620840518008770335453780'])"
   ]
  },
  {
   "cell_type": "code",
   "execution_count": 39,
   "metadata": {},
   "outputs": [
    {
     "data": {
      "text/plain": [
       "205825572803023860022845415596767576816"
      ]
     },
     "execution_count": 39,
     "metadata": {},
     "output_type": "execute_result"
    }
   ],
   "source": [
    "sample_set[0].ensemble.__uuid__"
   ]
  },
  {
   "cell_type": "code",
   "execution_count": 40,
   "metadata": {},
   "outputs": [
    {
     "data": {
      "text/plain": [
       "205825572803023860022845415596769487054"
      ]
     },
     "execution_count": 40,
     "metadata": {},
     "output_type": "execute_result"
    }
   ],
   "source": [
    "sample_set.__uuid__"
   ]
  },
  {
   "cell_type": "code",
   "execution_count": 41,
   "metadata": {},
   "outputs": [],
   "source": [
    "samp = sample_set.samples[7]"
   ]
  },
  {
   "cell_type": "code",
   "execution_count": 42,
   "metadata": {},
   "outputs": [
    {
     "name": "stdout",
     "output_type": "stream",
     "text": [
      "205825572803023860022845415596767576816\n",
      "205825572803023860022845415596769472254\n",
      "205825572803023860022845415596769460492\n",
      "205825572803023860022845415596767639510\n"
     ]
    }
   ],
   "source": [
    "print(samp.ensemble.__uuid__)\n",
    "print(samp.trajectory.__uuid__)\n",
    "print(samp.parent.__uuid__)\n",
    "print(samp.mover.__uuid__)"
   ]
  },
  {
   "cell_type": "code",
   "execution_count": 43,
   "metadata": {},
   "outputs": [
    {
     "data": {
      "text/plain": [
       "array([[-0.39463076, -0.6676565 ]], dtype=float32)"
      ]
     },
     "execution_count": 43,
     "metadata": {},
     "output_type": "execute_result"
    }
   ],
   "source": [
    "sample_set[0].trajectory[0].xyz"
   ]
  },
  {
   "cell_type": "markdown",
   "metadata": {},
   "source": [
    "### Storing objects with no dependents\n",
    "\n",
    "Objects with no dependents, or which are not explicitly listed as dependents, were not being stored (because they didn't show up in the DAG)."
   ]
  },
  {
   "cell_type": "code",
   "execution_count": 44,
   "metadata": {},
   "outputs": [
    {
     "data": {
      "text/plain": [
       "'46380510405785918200155421121190046606'"
      ]
     },
     "execution_count": 44,
     "metadata": {},
     "output_type": "execute_result"
    }
   ],
   "source": [
    "my_full = paths.FullVolume()\n",
    "full_uuid = get_uuid(my_full)\n",
    "full_uuid"
   ]
  },
  {
   "cell_type": "code",
   "execution_count": 45,
   "metadata": {},
   "outputs": [],
   "source": [
    "storage.save(my_full)"
   ]
  },
  {
   "cell_type": "code",
   "execution_count": 46,
   "metadata": {},
   "outputs": [
    {
     "data": {
      "text/plain": [
       "[<openpathsampling.volume.FullVolume at 0x126bf42b0>]"
      ]
     },
     "execution_count": 46,
     "metadata": {},
     "output_type": "execute_result"
    }
   ],
   "source": [
    "storage.load([full_uuid])"
   ]
  },
  {
   "cell_type": "code",
   "execution_count": 47,
   "metadata": {},
   "outputs": [],
   "source": [
    "integ = step.active[0].trajectory[0].engine.integ\n",
    "integ_uuid = get_uuid(integ)"
   ]
  },
  {
   "cell_type": "code",
   "execution_count": 48,
   "metadata": {},
   "outputs": [],
   "source": [
    "storage.save(integ)"
   ]
  },
  {
   "cell_type": "code",
   "execution_count": 49,
   "metadata": {},
   "outputs": [
    {
     "data": {
      "text/plain": [
       "[<openpathsampling.engines.toy.integrators.LangevinBAOABIntegrator at 0x125a933c8>]"
      ]
     },
     "execution_count": 49,
     "metadata": {},
     "output_type": "execute_result"
    }
   ],
   "source": [
    "storage.load([integ_uuid])"
   ]
  },
  {
   "cell_type": "markdown",
   "metadata": {},
   "source": [
    "### Storing and reloading the network\n",
    "\n",
    "This was having trouble because some dictionaries included mappings for UUID-object keys, which weren't being converted correctly"
   ]
  },
  {
   "cell_type": "code",
   "execution_count": 50,
   "metadata": {},
   "outputs": [
    {
     "data": {
      "text/plain": [
       "'205825572803023860022845415596767576776'"
      ]
     },
     "execution_count": 50,
     "metadata": {},
     "output_type": "execute_result"
    }
   ],
   "source": [
    "network = step.simulation.move_scheme.network\n",
    "network_uuid = get_uuid(network)\n",
    "network_uuid"
   ]
  },
  {
   "cell_type": "code",
   "execution_count": 51,
   "metadata": {},
   "outputs": [],
   "source": [
    "storage.save(network)"
   ]
  },
  {
   "cell_type": "code",
   "execution_count": 52,
   "metadata": {
    "scrolled": false
   },
   "outputs": [],
   "source": [
    "loaded_network = storage.load([network_uuid])[0]"
   ]
  },
  {
   "cell_type": "code",
   "execution_count": 53,
   "metadata": {},
   "outputs": [
    {
     "name": "stdout",
     "output_type": "stream",
     "text": [
      "Multiple State TIS Network:\n",
      "TISTransition: Out A\n",
      "A -> A or all states except A\n",
      "Interface: 0.0<opA<0.2\n",
      "Interface: 0.0<opA<0.30000000000000004\n",
      "Interface: 0.0<opA<0.4\n",
      "TISTransition: Out B\n",
      "B -> B or all states except B\n",
      "Interface: 0.0<opB<0.2\n",
      "Interface: 0.0<opB<0.30000000000000004\n",
      "Interface: 0.0<opB<0.4\n",
      "TISTransition: Out C\n",
      "C -> C or all states except C\n",
      "Interface: 0.0<opC<0.2\n",
      "Interface: 0.0<opC<0.30000000000000004\n",
      "Interface: 0.0<opC<0.4\n",
      "\n"
     ]
    }
   ],
   "source": [
    "print(loaded_network)"
   ]
  },
  {
   "cell_type": "markdown",
   "metadata": {},
   "source": [
    "### Storing and reloading a PathSimulator"
   ]
  },
  {
   "cell_type": "code",
   "execution_count": 54,
   "metadata": {},
   "outputs": [
    {
     "data": {
      "text/plain": [
       "'205825572803023860022845415596767639424'"
      ]
     },
     "execution_count": 54,
     "metadata": {},
     "output_type": "execute_result"
    }
   ],
   "source": [
    "sim = step.simulation\n",
    "sim_uuid = get_uuid(sim)\n",
    "sim_uuid"
   ]
  },
  {
   "cell_type": "code",
   "execution_count": 55,
   "metadata": {},
   "outputs": [],
   "source": [
    "storage.save(sim)"
   ]
  },
  {
   "cell_type": "code",
   "execution_count": 56,
   "metadata": {},
   "outputs": [],
   "source": [
    "reloaded_sim = storage.load([sim_uuid])[0]"
   ]
  },
  {
   "cell_type": "markdown",
   "metadata": {},
   "source": [
    "### Storing and reloading a MoveChange"
   ]
  },
  {
   "cell_type": "code",
   "execution_count": 57,
   "metadata": {},
   "outputs": [
    {
     "data": {
      "text/plain": [
       "'205825572803023860022845415596769487046'"
      ]
     },
     "execution_count": 57,
     "metadata": {},
     "output_type": "execute_result"
    }
   ],
   "source": [
    "change = step.change.subchanges[0].subchanges[0].subchanges[0]\n",
    "change_uuid = get_uuid(change)\n",
    "change_uuid"
   ]
  },
  {
   "cell_type": "code",
   "execution_count": 58,
   "metadata": {},
   "outputs": [
    {
     "name": "stdout",
     "output_type": "stream",
     "text": [
      "{'__uuid__': 205825572803023860022845415596769487044, 'metropolis_acceptance': 1.0, 'metropolis_random': 0.7953469615000001}\n"
     ]
    }
   ],
   "source": [
    "print(change.details.__dict__)"
   ]
  },
  {
   "cell_type": "code",
   "execution_count": 59,
   "metadata": {},
   "outputs": [],
   "source": [
    "storage.save(change)"
   ]
  },
  {
   "cell_type": "code",
   "execution_count": 60,
   "metadata": {},
   "outputs": [
    {
     "data": {
      "text/plain": [
       "[(1, '205825572803023860022845415596767639424', '{\"root\": \"UUID(205825572803023860022845415596767639678)\", \"move_scheme\": \"UUID(205825572803023860022845415596767639402)\", \"root_mover\": \"UUID(205825572803023860022845415596767639648)\", \"__class__\": \"PathSampling\", \"__module__\": \"openpathsampling.pathsimulators.path_sampling\"}', None),\n",
       " (2, '205825572803023860022845415596767639650', '{\"mover\": \"UUID(205825572803023860022845415596767639648)\", \"pathsimulator\": \"UUID(205825572803023860022845415596767639424)\", \"__class__\": \"PathSimulatorMover\", \"__module__\": \"openpathsampling.pathmover\"}', None),\n",
       " (3, '205825572803023860022845415596767639402', '{\"movers\": {\"repex\": [\"UUID(205825572803023860022845415596767639426)\", \"UUID(205825572803023860022845415596767639428)\", \"UUID(20582557280302386002284 ... (6142 characters truncated) ... \"root_mover\": \"UUID(205825572803023860022845415596767639648)\", \"__class__\": \"DefaultScheme\", \"__module__\": \"openpathsampling.high_level.move_scheme\"}', None),\n",
       " (4, '205825572803023860022845415596767639648', '{\"movers\": [\"UUID(205825572803023860022845415596767639638)\", \"UUID(205825572803023860022845415596767639640)\", \"UUID(205825572803023860022845415596767 ... (90 characters truncated) ... 15596767639646)\"], \"weights\": [4.5, 9.0, 5.0, 0.6000000000000001, 1.0], \"__class__\": \"RandomChoiceMover\", \"__module__\": \"openpathsampling.pathmover\"}', None),\n",
       " (5, '205825572803023860022845415596767639638', '{\"movers\": [\"UUID(205825572803023860022845415596767639426)\", \"UUID(205825572803023860022845415596767639428)\", \"UUID(205825572803023860022845415596767 ... (291 characters truncated) ... 767639454)\"], \"weights\": [1.0, 1.0, 1.0, 1.0, 1.0, 1.0, 1.0, 1.0, 1.0], \"__class__\": \"RandomChoiceMover\", \"__module__\": \"openpathsampling.pathmover\"}', None),\n",
       " (6, '205825572803023860022845415596767639426', '{\"ensemble1\": \"UUID(205825572803023860022845415596767576816)\", \"ensemble2\": \"UUID(205825572803023860022845415596767576846)\", \"bias\": null, \"__class__\": \"ReplicaExchangeMover\", \"__module__\": \"openpathsampling.pathmover\"}', None),\n",
       " (7, '205825572803023860022845415596767639428', '{\"ensemble1\": \"UUID(205825572803023860022845415596767576846)\", \"ensemble2\": \"UUID(205825572803023860022845415596767576876)\", \"bias\": null, \"__class__\": \"ReplicaExchangeMover\", \"__module__\": \"openpathsampling.pathmover\"}', None),\n",
       " (8, '205825572803023860022845415596767639430', '{\"ensemble1\": \"UUID(205825572803023860022845415596767576990)\", \"ensemble2\": \"UUID(205825572803023860022845415596767577020)\", \"bias\": null, \"__class__\": \"ReplicaExchangeMover\", \"__module__\": \"openpathsampling.pathmover\"}', None),\n",
       " (9, '205825572803023860022845415596767639432', '{\"ensemble1\": \"UUID(205825572803023860022845415596767577020)\", \"ensemble2\": \"UUID(205825572803023860022845415596767577050)\", \"bias\": null, \"__class__\": \"ReplicaExchangeMover\", \"__module__\": \"openpathsampling.pathmover\"}', None),\n",
       " (10, '205825572803023860022845415596767639434', '{\"ensemble1\": \"UUID(205825572803023860022845415596767577164)\", \"ensemble2\": \"UUID(205825572803023860022845415596767577194)\", \"bias\": null, \"__class__\": \"ReplicaExchangeMover\", \"__module__\": \"openpathsampling.pathmover\"}', None),\n",
       " (11, '205825572803023860022845415596767639436', '{\"ensemble1\": \"UUID(205825572803023860022845415596767577194)\", \"ensemble2\": \"UUID(205825572803023860022845415596767577224)\", \"bias\": null, \"__class__\": \"ReplicaExchangeMover\", \"__module__\": \"openpathsampling.pathmover\"}', None),\n",
       " (12, '205825572803023860022845415596767639438', '{\"ensemble1\": \"UUID(205825572803023860022845415596767577400)\", \"ensemble2\": \"UUID(205825572803023860022845415596767576876)\", \"bias\": null, \"__class__\": \"ReplicaExchangeMover\", \"__module__\": \"openpathsampling.pathmover\"}', None),\n",
       " (13, '205825572803023860022845415596767639452', '{\"ensemble1\": \"UUID(205825572803023860022845415596767577400)\", \"ensemble2\": \"UUID(205825572803023860022845415596767577050)\", \"bias\": null, \"__class__\": \"ReplicaExchangeMover\", \"__module__\": \"openpathsampling.pathmover\"}', None),\n",
       " (14, '205825572803023860022845415596767639454', '{\"ensemble1\": \"UUID(205825572803023860022845415596767577400)\", \"ensemble2\": \"UUID(205825572803023860022845415596767577224)\", \"bias\": null, \"__class__\": \"ReplicaExchangeMover\", \"__module__\": \"openpathsampling.pathmover\"}', None),\n",
       " (15, '205825572803023860022845415596767639640', '{\"movers\": [\"UUID(205825572803023860022845415596767639460)\", \"UUID(205825572803023860022845415596767639466)\", \"UUID(205825572803023860022845415596767 ... (291 characters truncated) ... 767639508)\"], \"weights\": [1.0, 1.0, 1.0, 1.0, 1.0, 1.0, 1.0, 1.0, 1.0], \"__class__\": \"RandomChoiceMover\", \"__module__\": \"openpathsampling.pathmover\"}', None),\n",
       " (16, '205825572803023860022845415596767639460', '{\"movers\": [\"UUID(205825572803023860022845415596767639456)\", \"UUID(205825572803023860022845415596767639458)\"], \"weights\": [1.0, 1.0], \"__class__\": \"OneWayShootingMover\", \"__module__\": \"openpathsampling.pathmover\"}', None),\n",
       " (17, '205825572803023860022845415596767639456', '{\"target_ensemble\": \"UUID(205825572803023860022845415596767576816)\", \"_engine\": \"UUID(174395458874316017953765140704788480022)\", \"selector\": \"UUID(20 ... (89 characters truncated) ... 767576816)\", \"engine\": \"UUID(174395458874316017953765140704788480022)\", \"__class__\": \"ForwardShootMover\", \"__module__\": \"openpathsampling.pathmover\"}', None),\n",
       " (18, '205825572803023860022845415596767639458', '{\"target_ensemble\": \"UUID(205825572803023860022845415596767576816)\", \"_engine\": \"UUID(174395458874316017953765140704788480022)\", \"selector\": \"UUID(20 ... (90 characters truncated) ... 67576816)\", \"engine\": \"UUID(174395458874316017953765140704788480022)\", \"__class__\": \"BackwardShootMover\", \"__module__\": \"openpathsampling.pathmover\"}', None),\n",
       " (19, '205825572803023860022845415596767639466', '{\"movers\": [\"UUID(205825572803023860022845415596767639462)\", \"UUID(205825572803023860022845415596767639464)\"], \"weights\": [1.0, 1.0], \"__class__\": \"OneWayShootingMover\", \"__module__\": \"openpathsampling.pathmover\"}', None),\n",
       " (20, '205825572803023860022845415596767639462', '{\"target_ensemble\": \"UUID(205825572803023860022845415596767576846)\", \"_engine\": \"UUID(174395458874316017953765140704788480022)\", \"selector\": \"UUID(20 ... (89 characters truncated) ... 767576846)\", \"engine\": \"UUID(174395458874316017953765140704788480022)\", \"__class__\": \"ForwardShootMover\", \"__module__\": \"openpathsampling.pathmover\"}', None),\n",
       " (21, '205825572803023860022845415596767639464', '{\"target_ensemble\": \"UUID(205825572803023860022845415596767576846)\", \"_engine\": \"UUID(174395458874316017953765140704788480022)\", \"selector\": \"UUID(20 ... (90 characters truncated) ... 67576846)\", \"engine\": \"UUID(174395458874316017953765140704788480022)\", \"__class__\": \"BackwardShootMover\", \"__module__\": \"openpathsampling.pathmover\"}', None),\n",
       " (22, '205825572803023860022845415596767639472', '{\"movers\": [\"UUID(205825572803023860022845415596767639468)\", \"UUID(205825572803023860022845415596767639470)\"], \"weights\": [1.0, 1.0], \"__class__\": \"OneWayShootingMover\", \"__module__\": \"openpathsampling.pathmover\"}', None),\n",
       " (23, '205825572803023860022845415596767639468', '{\"target_ensemble\": \"UUID(205825572803023860022845415596767576876)\", \"_engine\": \"UUID(174395458874316017953765140704788480022)\", \"selector\": \"UUID(20 ... (89 characters truncated) ... 767576876)\", \"engine\": \"UUID(174395458874316017953765140704788480022)\", \"__class__\": \"ForwardShootMover\", \"__module__\": \"openpathsampling.pathmover\"}', None),\n",
       " (24, '205825572803023860022845415596767639470', '{\"target_ensemble\": \"UUID(205825572803023860022845415596767576876)\", \"_engine\": \"UUID(174395458874316017953765140704788480022)\", \"selector\": \"UUID(20 ... (90 characters truncated) ... 67576876)\", \"engine\": \"UUID(174395458874316017953765140704788480022)\", \"__class__\": \"BackwardShootMover\", \"__module__\": \"openpathsampling.pathmover\"}', None),\n",
       " (25, '205825572803023860022845415596767639478', '{\"movers\": [\"UUID(205825572803023860022845415596767639474)\", \"UUID(205825572803023860022845415596767639476)\"], \"weights\": [1.0, 1.0], \"__class__\": \"OneWayShootingMover\", \"__module__\": \"openpathsampling.pathmover\"}', None),\n",
       " (26, '205825572803023860022845415596767639474', '{\"target_ensemble\": \"UUID(205825572803023860022845415596767576990)\", \"_engine\": \"UUID(174395458874316017953765140704788480022)\", \"selector\": \"UUID(20 ... (89 characters truncated) ... 767576990)\", \"engine\": \"UUID(174395458874316017953765140704788480022)\", \"__class__\": \"ForwardShootMover\", \"__module__\": \"openpathsampling.pathmover\"}', None),\n",
       " (27, '205825572803023860022845415596767639476', '{\"target_ensemble\": \"UUID(205825572803023860022845415596767576990)\", \"_engine\": \"UUID(174395458874316017953765140704788480022)\", \"selector\": \"UUID(20 ... (90 characters truncated) ... 67576990)\", \"engine\": \"UUID(174395458874316017953765140704788480022)\", \"__class__\": \"BackwardShootMover\", \"__module__\": \"openpathsampling.pathmover\"}', None),\n",
       " (28, '205825572803023860022845415596767639484', '{\"movers\": [\"UUID(205825572803023860022845415596767639480)\", \"UUID(205825572803023860022845415596767639482)\"], \"weights\": [1.0, 1.0], \"__class__\": \"OneWayShootingMover\", \"__module__\": \"openpathsampling.pathmover\"}', None),\n",
       " (29, '205825572803023860022845415596767639480', '{\"target_ensemble\": \"UUID(205825572803023860022845415596767577020)\", \"_engine\": \"UUID(174395458874316017953765140704788480022)\", \"selector\": \"UUID(20 ... (89 characters truncated) ... 767577020)\", \"engine\": \"UUID(174395458874316017953765140704788480022)\", \"__class__\": \"ForwardShootMover\", \"__module__\": \"openpathsampling.pathmover\"}', None),\n",
       " (30, '205825572803023860022845415596767639482', '{\"target_ensemble\": \"UUID(205825572803023860022845415596767577020)\", \"_engine\": \"UUID(174395458874316017953765140704788480022)\", \"selector\": \"UUID(20 ... (90 characters truncated) ... 67577020)\", \"engine\": \"UUID(174395458874316017953765140704788480022)\", \"__class__\": \"BackwardShootMover\", \"__module__\": \"openpathsampling.pathmover\"}', None),\n",
       " (31, '205825572803023860022845415596767639490', '{\"movers\": [\"UUID(205825572803023860022845415596767639486)\", \"UUID(205825572803023860022845415596767639488)\"], \"weights\": [1.0, 1.0], \"__class__\": \"OneWayShootingMover\", \"__module__\": \"openpathsampling.pathmover\"}', None),\n",
       " (32, '205825572803023860022845415596767639486', '{\"target_ensemble\": \"UUID(205825572803023860022845415596767577050)\", \"_engine\": \"UUID(174395458874316017953765140704788480022)\", \"selector\": \"UUID(20 ... (89 characters truncated) ... 767577050)\", \"engine\": \"UUID(174395458874316017953765140704788480022)\", \"__class__\": \"ForwardShootMover\", \"__module__\": \"openpathsampling.pathmover\"}', None),\n",
       " (33, '205825572803023860022845415596767639488', '{\"target_ensemble\": \"UUID(205825572803023860022845415596767577050)\", \"_engine\": \"UUID(174395458874316017953765140704788480022)\", \"selector\": \"UUID(20 ... (90 characters truncated) ... 67577050)\", \"engine\": \"UUID(174395458874316017953765140704788480022)\", \"__class__\": \"BackwardShootMover\", \"__module__\": \"openpathsampling.pathmover\"}', None),\n",
       " (34, '205825572803023860022845415596767639496', '{\"movers\": [\"UUID(205825572803023860022845415596767639492)\", \"UUID(205825572803023860022845415596767639494)\"], \"weights\": [1.0, 1.0], \"__class__\": \"OneWayShootingMover\", \"__module__\": \"openpathsampling.pathmover\"}', None),\n",
       " (35, '205825572803023860022845415596767639492', '{\"target_ensemble\": \"UUID(205825572803023860022845415596767577164)\", \"_engine\": \"UUID(174395458874316017953765140704788480022)\", \"selector\": \"UUID(20 ... (89 characters truncated) ... 767577164)\", \"engine\": \"UUID(174395458874316017953765140704788480022)\", \"__class__\": \"ForwardShootMover\", \"__module__\": \"openpathsampling.pathmover\"}', None),\n",
       " (36, '205825572803023860022845415596767639494', '{\"target_ensemble\": \"UUID(205825572803023860022845415596767577164)\", \"_engine\": \"UUID(174395458874316017953765140704788480022)\", \"selector\": \"UUID(20 ... (90 characters truncated) ... 67577164)\", \"engine\": \"UUID(174395458874316017953765140704788480022)\", \"__class__\": \"BackwardShootMover\", \"__module__\": \"openpathsampling.pathmover\"}', None),\n",
       " (37, '205825572803023860022845415596767639502', '{\"movers\": [\"UUID(205825572803023860022845415596767639498)\", \"UUID(205825572803023860022845415596767639500)\"], \"weights\": [1.0, 1.0], \"__class__\": \"OneWayShootingMover\", \"__module__\": \"openpathsampling.pathmover\"}', None),\n",
       " (38, '205825572803023860022845415596767639498', '{\"target_ensemble\": \"UUID(205825572803023860022845415596767577194)\", \"_engine\": \"UUID(174395458874316017953765140704788480022)\", \"selector\": \"UUID(20 ... (89 characters truncated) ... 767577194)\", \"engine\": \"UUID(174395458874316017953765140704788480022)\", \"__class__\": \"ForwardShootMover\", \"__module__\": \"openpathsampling.pathmover\"}', None),\n",
       " (39, '205825572803023860022845415596767639500', '{\"target_ensemble\": \"UUID(205825572803023860022845415596767577194)\", \"_engine\": \"UUID(174395458874316017953765140704788480022)\", \"selector\": \"UUID(20 ... (90 characters truncated) ... 67577194)\", \"engine\": \"UUID(174395458874316017953765140704788480022)\", \"__class__\": \"BackwardShootMover\", \"__module__\": \"openpathsampling.pathmover\"}', None),\n",
       " (40, '205825572803023860022845415596767639508', '{\"movers\": [\"UUID(205825572803023860022845415596767639504)\", \"UUID(205825572803023860022845415596767639506)\"], \"weights\": [1.0, 1.0], \"__class__\": \"OneWayShootingMover\", \"__module__\": \"openpathsampling.pathmover\"}', None),\n",
       " (41, '205825572803023860022845415596767639504', '{\"target_ensemble\": \"UUID(205825572803023860022845415596767577224)\", \"_engine\": \"UUID(174395458874316017953765140704788480022)\", \"selector\": \"UUID(20 ... (89 characters truncated) ... 767577224)\", \"engine\": \"UUID(174395458874316017953765140704788480022)\", \"__class__\": \"ForwardShootMover\", \"__module__\": \"openpathsampling.pathmover\"}', None),\n",
       " (42, '205825572803023860022845415596767639506', '{\"target_ensemble\": \"UUID(205825572803023860022845415596767577224)\", \"_engine\": \"UUID(174395458874316017953765140704788480022)\", \"selector\": \"UUID(20 ... (90 characters truncated) ... 67577224)\", \"engine\": \"UUID(174395458874316017953765140704788480022)\", \"__class__\": \"BackwardShootMover\", \"__module__\": \"openpathsampling.pathmover\"}', None),\n",
       " (43, '205825572803023860022845415596767639642', '{\"movers\": [\"UUID(205825572803023860022845415596767639510)\", \"UUID(205825572803023860022845415596767639512)\", \"UUID(205825572803023860022845415596767 ... (345 characters truncated) ... 9636)\"], \"weights\": [1.0, 1.0, 1.0, 1.0, 1.0, 1.0, 1.0, 1.0, 1.0, 1.0], \"__class__\": \"RandomChoiceMover\", \"__module__\": \"openpathsampling.pathmover\"}', None),\n",
       " (44, '205825572803023860022845415596767639510', '{\"ensemble\": \"UUID(205825572803023860022845415596767576816)\", \"__class__\": \"PathReversalMover\", \"__module__\": \"openpathsampling.pathmover\"}', None),\n",
       " (45, '205825572803023860022845415596767639512', '{\"ensemble\": \"UUID(205825572803023860022845415596767576846)\", \"__class__\": \"PathReversalMover\", \"__module__\": \"openpathsampling.pathmover\"}', None),\n",
       " (46, '205825572803023860022845415596767639514', '{\"ensemble\": \"UUID(205825572803023860022845415596767576876)\", \"__class__\": \"PathReversalMover\", \"__module__\": \"openpathsampling.pathmover\"}', None),\n",
       " (47, '205825572803023860022845415596767639516', '{\"ensemble\": \"UUID(205825572803023860022845415596767576990)\", \"__class__\": \"PathReversalMover\", \"__module__\": \"openpathsampling.pathmover\"}', None),\n",
       " (48, '205825572803023860022845415596767639518', '{\"ensemble\": \"UUID(205825572803023860022845415596767577020)\", \"__class__\": \"PathReversalMover\", \"__module__\": \"openpathsampling.pathmover\"}', None),\n",
       " (49, '205825572803023860022845415596767639520', '{\"ensemble\": \"UUID(205825572803023860022845415596767577050)\", \"__class__\": \"PathReversalMover\", \"__module__\": \"openpathsampling.pathmover\"}', None),\n",
       " (50, '205825572803023860022845415596767639522', '{\"ensemble\": \"UUID(205825572803023860022845415596767577164)\", \"__class__\": \"PathReversalMover\", \"__module__\": \"openpathsampling.pathmover\"}', None),\n",
       " (51, '205825572803023860022845415596767639524', '{\"ensemble\": \"UUID(205825572803023860022845415596767577194)\", \"__class__\": \"PathReversalMover\", \"__module__\": \"openpathsampling.pathmover\"}', None),\n",
       " (52, '205825572803023860022845415596767639526', '{\"ensemble\": \"UUID(205825572803023860022845415596767577224)\", \"__class__\": \"PathReversalMover\", \"__module__\": \"openpathsampling.pathmover\"}', None),\n",
       " (53, '205825572803023860022845415596767639636', '{\"ensemble\": \"UUID(205825572803023860022845415596767577400)\", \"__class__\": \"PathReversalMover\", \"__module__\": \"openpathsampling.pathmover\"}', None),\n",
       " (54, '205825572803023860022845415596767639644', '{\"movers\": [\"UUID(205825572803023860022845415596767639560)\", \"UUID(205825572803023860022845415596767639594)\", \"UUID(205825572803023860022845415596767639628)\"], \"weights\": [1.0, 1.0, 1.0], \"__class__\": \"RandomChoiceMover\", \"__module__\": \"openpathsampling.pathmover\"}', None),\n",
       " (55, '205825572803023860022845415596767639560', '{\"mover\": \"UUID(205825572803023860022845415596767639554)\", \"innermost_ensembles\": [\"UUID(205825572803023860022845415596767576816)\"], \"engine\": \"UUID( ... (31 characters truncated) ... 88480022)\", \"minus_ensemble\": \"UUID(205825572803023860022845415596767576956)\", \"__class__\": \"MinusMover\", \"__module__\": \"openpathsampling.pathmover\"}', None),\n",
       " (56, '205825572803023860022845415596767639554', '{\"mover\": \"UUID(205825572803023860022845415596767639552)\", \"ensembles\": [\"UUID(205825572803023860022845415596767576956)\", \"UUID(205825572803023860022845415596767576816)\"], \"__class__\": \"EnsembleFilterMover\", \"__module__\": \"openpathsampling.pathmover\"}', None),\n",
       " (57, '205825572803023860022845415596767639552', '{\"movers\": [\"UUID(205825572803023860022845415596767639532)\", \"UUID(205825572803023860022845415596767639540)\", \"UUID(205825572803023860022845415596767639550)\"], \"__class__\": \"ConditionalSequentialMover\", \"__module__\": \"openpathsampling.pathmover\"}', None),\n",
       " (58, '205825572803023860022845415596767639532', '{\"movers\": [\"UUID(205825572803023860022845415596767639528)\", \"UUID(205825572803023860022845415596767639530)\"], \"weights\": [1.0, 1.0], \"__class__\": \"RandomChoiceMover\", \"__module__\": \"openpathsampling.pathmover\"}', None),\n",
       " (59, '205825572803023860022845415596767639528', '{\"sub_ensemble\": \"UUID(205825572803023860022845415596767576926)\", \"n_l\": 2, \"ensemble\": \"UUID(205825572803023860022845415596767576956)\", \"__class__\": \"FirstSubtrajectorySelectMover\", \"__module__\": \"openpathsampling.pathmover\"}', None),\n",
       " (60, '205825572803023860022845415596767639530', '{\"sub_ensemble\": \"UUID(205825572803023860022845415596767576926)\", \"n_l\": 2, \"ensemble\": \"UUID(205825572803023860022845415596767576956)\", \"__class__\": \"FinalSubtrajectorySelectMover\", \"__module__\": \"openpathsampling.pathmover\"}', None),\n",
       " (61, '205825572803023860022845415596767639540', '{\"movers\": [\"UUID(205825572803023860022845415596767639534)\"], \"weights\": [1.0], \"__class__\": \"RandomChoiceMover\", \"__module__\": \"openpathsampling.pathmover\"}', None),\n",
       " (62, '205825572803023860022845415596767639534', '{\"ensemble1\": \"UUID(205825572803023860022845415596767576926)\", \"ensemble2\": \"UUID(205825572803023860022845415596767576816)\", \"bias\": null, \"__class__\": \"ReplicaExchangeMover\", \"__module__\": \"openpathsampling.pathmover\"}', None),\n",
       " (63, '205825572803023860022845415596767639550', '{\"movers\": [\"UUID(205825572803023860022845415596767639544)\", \"UUID(205825572803023860022845415596767639548)\"], \"weights\": [1.0, 1.0], \"__class__\": \"RandomChoiceMover\", \"__module__\": \"openpathsampling.pathmover\"}', None),\n",
       " (64, '205825572803023860022845415596767639544', '{\"target_ensemble\": \"UUID(205825572803023860022845415596767576956)\", \"_engine\": \"UUID(174395458874316017953765140704788480022)\", \"selector\": \"UUID(20 ... (90 characters truncated) ... 67576926)\", \"engine\": \"UUID(174395458874316017953765140704788480022)\", \"__class__\": \"ForwardExtendMover\", \"__module__\": \"openpathsampling.pathmover\"}', None),\n",
       " (65, '205825572803023860022845415596767639548', '{\"target_ensemble\": \"UUID(205825572803023860022845415596767576956)\", \"_engine\": \"UUID(174395458874316017953765140704788480022)\", \"selector\": \"UUID(20 ... (91 characters truncated) ... 7576926)\", \"engine\": \"UUID(174395458874316017953765140704788480022)\", \"__class__\": \"BackwardExtendMover\", \"__module__\": \"openpathsampling.pathmover\"}', None),\n",
       " (66, '205825572803023860022845415596767639594', '{\"mover\": \"UUID(205825572803023860022845415596767639588)\", \"innermost_ensembles\": [\"UUID(205825572803023860022845415596767576990)\"], \"engine\": \"UUID( ... (31 characters truncated) ... 88480022)\", \"minus_ensemble\": \"UUID(205825572803023860022845415596767577130)\", \"__class__\": \"MinusMover\", \"__module__\": \"openpathsampling.pathmover\"}', None),\n",
       " (67, '205825572803023860022845415596767639588', '{\"mover\": \"UUID(205825572803023860022845415596767639586)\", \"ensembles\": [\"UUID(205825572803023860022845415596767577130)\", \"UUID(205825572803023860022845415596767576990)\"], \"__class__\": \"EnsembleFilterMover\", \"__module__\": \"openpathsampling.pathmover\"}', None),\n",
       " (68, '205825572803023860022845415596767639586', '{\"movers\": [\"UUID(205825572803023860022845415596767639566)\", \"UUID(205825572803023860022845415596767639574)\", \"UUID(205825572803023860022845415596767639584)\"], \"__class__\": \"ConditionalSequentialMover\", \"__module__\": \"openpathsampling.pathmover\"}', None),\n",
       " (69, '205825572803023860022845415596767639566', '{\"movers\": [\"UUID(205825572803023860022845415596767639562)\", \"UUID(205825572803023860022845415596767639564)\"], \"weights\": [1.0, 1.0], \"__class__\": \"RandomChoiceMover\", \"__module__\": \"openpathsampling.pathmover\"}', None),\n",
       " (70, '205825572803023860022845415596767639562', '{\"sub_ensemble\": \"UUID(205825572803023860022845415596767577100)\", \"n_l\": 2, \"ensemble\": \"UUID(205825572803023860022845415596767577130)\", \"__class__\": \"FirstSubtrajectorySelectMover\", \"__module__\": \"openpathsampling.pathmover\"}', None),\n",
       " (71, '205825572803023860022845415596767639564', '{\"sub_ensemble\": \"UUID(205825572803023860022845415596767577100)\", \"n_l\": 2, \"ensemble\": \"UUID(205825572803023860022845415596767577130)\", \"__class__\": \"FinalSubtrajectorySelectMover\", \"__module__\": \"openpathsampling.pathmover\"}', None),\n",
       " (72, '205825572803023860022845415596767639574', '{\"movers\": [\"UUID(205825572803023860022845415596767639568)\"], \"weights\": [1.0], \"__class__\": \"RandomChoiceMover\", \"__module__\": \"openpathsampling.pathmover\"}', None),\n",
       " (73, '205825572803023860022845415596767639568', '{\"ensemble1\": \"UUID(205825572803023860022845415596767577100)\", \"ensemble2\": \"UUID(205825572803023860022845415596767576990)\", \"bias\": null, \"__class__\": \"ReplicaExchangeMover\", \"__module__\": \"openpathsampling.pathmover\"}', None),\n",
       " (74, '205825572803023860022845415596767639584', '{\"movers\": [\"UUID(205825572803023860022845415596767639578)\", \"UUID(205825572803023860022845415596767639582)\"], \"weights\": [1.0, 1.0], \"__class__\": \"RandomChoiceMover\", \"__module__\": \"openpathsampling.pathmover\"}', None),\n",
       " (75, '205825572803023860022845415596767639578', '{\"target_ensemble\": \"UUID(205825572803023860022845415596767577130)\", \"_engine\": \"UUID(174395458874316017953765140704788480022)\", \"selector\": \"UUID(20 ... (90 characters truncated) ... 67577100)\", \"engine\": \"UUID(174395458874316017953765140704788480022)\", \"__class__\": \"ForwardExtendMover\", \"__module__\": \"openpathsampling.pathmover\"}', None),\n",
       " (76, '205825572803023860022845415596767639582', '{\"target_ensemble\": \"UUID(205825572803023860022845415596767577130)\", \"_engine\": \"UUID(174395458874316017953765140704788480022)\", \"selector\": \"UUID(20 ... (91 characters truncated) ... 7577100)\", \"engine\": \"UUID(174395458874316017953765140704788480022)\", \"__class__\": \"BackwardExtendMover\", \"__module__\": \"openpathsampling.pathmover\"}', None),\n",
       " (77, '205825572803023860022845415596767639628', '{\"mover\": \"UUID(205825572803023860022845415596767639622)\", \"innermost_ensembles\": [\"UUID(205825572803023860022845415596767577164)\"], \"engine\": \"UUID( ... (31 characters truncated) ... 88480022)\", \"minus_ensemble\": \"UUID(205825572803023860022845415596767577304)\", \"__class__\": \"MinusMover\", \"__module__\": \"openpathsampling.pathmover\"}', None),\n",
       " (78, '205825572803023860022845415596767639622', '{\"mover\": \"UUID(205825572803023860022845415596767639620)\", \"ensembles\": [\"UUID(205825572803023860022845415596767577304)\", \"UUID(205825572803023860022845415596767577164)\"], \"__class__\": \"EnsembleFilterMover\", \"__module__\": \"openpathsampling.pathmover\"}', None),\n",
       " (79, '205825572803023860022845415596767639620', '{\"movers\": [\"UUID(205825572803023860022845415596767639600)\", \"UUID(205825572803023860022845415596767639608)\", \"UUID(205825572803023860022845415596767639618)\"], \"__class__\": \"ConditionalSequentialMover\", \"__module__\": \"openpathsampling.pathmover\"}', None),\n",
       " (80, '205825572803023860022845415596767639600', '{\"movers\": [\"UUID(205825572803023860022845415596767639596)\", \"UUID(205825572803023860022845415596767639598)\"], \"weights\": [1.0, 1.0], \"__class__\": \"RandomChoiceMover\", \"__module__\": \"openpathsampling.pathmover\"}', None),\n",
       " (81, '205825572803023860022845415596767639596', '{\"sub_ensemble\": \"UUID(205825572803023860022845415596767577274)\", \"n_l\": 2, \"ensemble\": \"UUID(205825572803023860022845415596767577304)\", \"__class__\": \"FirstSubtrajectorySelectMover\", \"__module__\": \"openpathsampling.pathmover\"}', None),\n",
       " (82, '205825572803023860022845415596767639598', '{\"sub_ensemble\": \"UUID(205825572803023860022845415596767577274)\", \"n_l\": 2, \"ensemble\": \"UUID(205825572803023860022845415596767577304)\", \"__class__\": \"FinalSubtrajectorySelectMover\", \"__module__\": \"openpathsampling.pathmover\"}', None),\n",
       " (83, '205825572803023860022845415596767639608', '{\"movers\": [\"UUID(205825572803023860022845415596767639602)\"], \"weights\": [1.0], \"__class__\": \"RandomChoiceMover\", \"__module__\": \"openpathsampling.pathmover\"}', None),\n",
       " (84, '205825572803023860022845415596767639602', '{\"ensemble1\": \"UUID(205825572803023860022845415596767577274)\", \"ensemble2\": \"UUID(205825572803023860022845415596767577164)\", \"bias\": null, \"__class__\": \"ReplicaExchangeMover\", \"__module__\": \"openpathsampling.pathmover\"}', None),\n",
       " (85, '205825572803023860022845415596767639618', '{\"movers\": [\"UUID(205825572803023860022845415596767639612)\", \"UUID(205825572803023860022845415596767639616)\"], \"weights\": [1.0, 1.0], \"__class__\": \"RandomChoiceMover\", \"__module__\": \"openpathsampling.pathmover\"}', None),\n",
       " (86, '205825572803023860022845415596767639612', '{\"target_ensemble\": \"UUID(205825572803023860022845415596767577304)\", \"_engine\": \"UUID(174395458874316017953765140704788480022)\", \"selector\": \"UUID(20 ... (90 characters truncated) ... 67577274)\", \"engine\": \"UUID(174395458874316017953765140704788480022)\", \"__class__\": \"ForwardExtendMover\", \"__module__\": \"openpathsampling.pathmover\"}', None),\n",
       " (87, '205825572803023860022845415596767639616', '{\"target_ensemble\": \"UUID(205825572803023860022845415596767577304)\", \"_engine\": \"UUID(174395458874316017953765140704788480022)\", \"selector\": \"UUID(20 ... (91 characters truncated) ... 7577274)\", \"engine\": \"UUID(174395458874316017953765140704788480022)\", \"__class__\": \"BackwardExtendMover\", \"__module__\": \"openpathsampling.pathmover\"}', None),\n",
       " (88, '205825572803023860022845415596767639646', '{\"movers\": [\"UUID(205825572803023860022845415596767639634)\"], \"weights\": [1.0], \"__class__\": \"RandomChoiceMover\", \"__module__\": \"openpathsampling.pathmover\"}', None),\n",
       " (89, '205825572803023860022845415596767639634', '{\"movers\": [\"UUID(205825572803023860022845415596767639630)\", \"UUID(205825572803023860022845415596767639632)\"], \"weights\": [1.0, 1.0], \"__class__\": \"OneWayShootingMover\", \"__module__\": \"openpathsampling.pathmover\"}', None),\n",
       " (90, '205825572803023860022845415596767639630', '{\"target_ensemble\": \"UUID(205825572803023860022845415596767577400)\", \"_engine\": \"UUID(174395458874316017953765140704788480022)\", \"selector\": \"UUID(20 ... (89 characters truncated) ... 767577400)\", \"engine\": \"UUID(174395458874316017953765140704788480022)\", \"__class__\": \"ForwardShootMover\", \"__module__\": \"openpathsampling.pathmover\"}', None),\n",
       " (91, '205825572803023860022845415596767639632', '{\"target_ensemble\": \"UUID(205825572803023860022845415596767577400)\", \"_engine\": \"UUID(174395458874316017953765140704788480022)\", \"selector\": \"UUID(20 ... (90 characters truncated) ... 67577400)\", \"engine\": \"UUID(174395458874316017953765140704788480022)\", \"__class__\": \"BackwardShootMover\", \"__module__\": \"openpathsampling.pathmover\"}', None),\n",
       " (92, '205825572803023860022845415596767577304', '{\"forbidden\": [\"UUID(46380510405785918200155421121190036506)\"], \"innermost_vol\": \"UUID(205825572803023860022845415596767576760)\", \"trusted\": null, \"g ... (217 characters truncated) ... _segment_ensemble\": \"UUID(46380510405785918200155421121190036556)\", \"__class__\": \"MinusInterfaceEnsemble\", \"__module__\": \"openpathsampling.ensemble\"}', None),\n",
       " (93, '205825572803023860022845415596767577130', '{\"forbidden\": [\"UUID(46380510405785918200155421121190036420)\"], \"innermost_vol\": \"UUID(205825572803023860022845415596767576750)\", \"trusted\": null, \"g ... (217 characters truncated) ... _segment_ensemble\": \"UUID(46380510405785918200155421121190036470)\", \"__class__\": \"MinusInterfaceEnsemble\", \"__module__\": \"openpathsampling.ensemble\"}', None),\n",
       " (94, '205825572803023860022845415596767577164', '{\"trusted\": null, \"interface\": \"UUID(205825572803023860022845415596767576760)\", \"greedy\": false, \"final_states\": [\"UUID(20582557280302386002284541559 ... (374 characters truncated) ...  \"lambda_i\": null, \"ensemble\": \"UUID(46380510405785918200155421121190035998)\", \"__class__\": \"TISEnsemble\", \"__module__\": \"openpathsampling.ensemble\"}', None),\n",
       " (95, '205825572803023860022845415596767576876', '{\"trusted\": null, \"interface\": \"UUID(205825572803023860022845415596767576744)\", \"greedy\": false, \"final_states\": [\"UUID(20582557280302386002284541559 ... (374 characters truncated) ...  \"lambda_i\": null, \"ensemble\": \"UUID(46380510405785918200155421121190035730)\", \"__class__\": \"TISEnsemble\", \"__module__\": \"openpathsampling.ensemble\"}', None),\n",
       " (96, '205825572803023860022845415596767577050', '{\"trusted\": null, \"interface\": \"UUID(205825572803023860022845415596767576754)\", \"greedy\": false, \"final_states\": [\"UUID(20582557280302386002284541559 ... (374 characters truncated) ...  \"lambda_i\": null, \"ensemble\": \"UUID(46380510405785918200155421121190035930)\", \"__class__\": \"TISEnsemble\", \"__module__\": \"openpathsampling.ensemble\"}', None),\n",
       " (97, '205825572803023860022845415596767576956', '{\"forbidden\": [\"UUID(46380510405785918200155421121190036334)\"], \"innermost_vol\": \"UUID(205825572803023860022845415596767576740)\", \"trusted\": null, \"g ... (217 characters truncated) ... _segment_ensemble\": \"UUID(46380510405785918200155421121190036384)\", \"__class__\": \"MinusInterfaceEnsemble\", \"__module__\": \"openpathsampling.ensemble\"}', None),\n",
       " (98, '205825572803023860022845415596767577224', '{\"trusted\": null, \"interface\": \"UUID(205825572803023860022845415596767576764)\", \"greedy\": false, \"final_states\": [\"UUID(20582557280302386002284541559 ... (374 characters truncated) ...  \"lambda_i\": null, \"ensemble\": \"UUID(46380510405785918200155421121190036130)\", \"__class__\": \"TISEnsemble\", \"__module__\": \"openpathsampling.ensemble\"}', None),\n",
       " (99, '205825572803023860022845415596767576816', '{\"trusted\": null, \"interface\": \"UUID(205825572803023860022845415596767576740)\", \"greedy\": false, \"final_states\": [\"UUID(20582557280302386002284541559 ... (374 characters truncated) ...  \"lambda_i\": null, \"ensemble\": \"UUID(46380510405785918200155421121190035598)\", \"__class__\": \"TISEnsemble\", \"__module__\": \"openpathsampling.ensemble\"}', None),\n",
       " (100, '205825572803023860022845415596767577020', '{\"trusted\": null, \"interface\": \"UUID(205825572803023860022845415596767576752)\", \"greedy\": false, \"final_states\": [\"UUID(20582557280302386002284541559 ... (374 characters truncated) ...  \"lambda_i\": null, \"ensemble\": \"UUID(46380510405785918200155421121190035864)\", \"__class__\": \"TISEnsemble\", \"__module__\": \"openpathsampling.ensemble\"}', None),\n",
       " (101, '205825572803023860022845415596767576990', '{\"trusted\": null, \"interface\": \"UUID(205825572803023860022845415596767576750)\", \"greedy\": false, \"final_states\": [\"UUID(20582557280302386002284541559 ... (374 characters truncated) ...  \"lambda_i\": null, \"ensemble\": \"UUID(46380510405785918200155421121190035798)\", \"__class__\": \"TISEnsemble\", \"__module__\": \"openpathsampling.ensemble\"}', None),\n",
       " (102, '205825572803023860022845415596767577400', '{\"ensemble1\": \"UUID(205825572803023860022845415596767577398)\", \"ensemble2\": \"UUID(205825572803023860022845415596767577394)\", \"__class__\": \"UnionEnsemble\", \"__module__\": \"openpathsampling.ensemble\"}', None),\n",
       " (103, '205825572803023860022845415596767577194', '{\"trusted\": null, \"interface\": \"UUID(205825572803023860022845415596767576762)\", \"greedy\": false, \"final_states\": [\"UUID(20582557280302386002284541559 ... (374 characters truncated) ...  \"lambda_i\": null, \"ensemble\": \"UUID(46380510405785918200155421121190036064)\", \"__class__\": \"TISEnsemble\", \"__module__\": \"openpathsampling.ensemble\"}', None),\n",
       " (104, '205825572803023860022845415596767576846', '{\"trusted\": null, \"interface\": \"UUID(205825572803023860022845415596767576742)\", \"greedy\": false, \"final_states\": [\"UUID(20582557280302386002284541559 ... (374 characters truncated) ...  \"lambda_i\": null, \"ensemble\": \"UUID(46380510405785918200155421121190035664)\", \"__class__\": \"TISEnsemble\", \"__module__\": \"openpathsampling.ensemble\"}', None),\n",
       " (105, '205825572803023860022845415596767576776', '{\"from_state\": {\"UUID(174395458874316017953765140704788480032)\": \"UUID(205825572803023860022845415596767576788)\", \"UUID(17439545887431601795376514070 ... (1186 characters truncated) ... _outer_objects\": [\"UUID(205825572803023860022845415596767576774)\"], \"__class__\": \"MSTISNetwork\", \"__module__\": \"openpathsampling.high_level.network\"}', None),\n",
       " (106, '174395458874316017953765140704788480022', '{\"options\": {\"n_frames_max\": 5000, \"on_max_length\": \"fail\", \"on_nan\": \"fail\", \"retries_when_nan\": 2, \"retries_when_error\": 0, \"retries_when_max_lengt ... (119 characters truncated) ... ame\": 1}, \"topology\": \"UUID(174395458874316017953765140704788480016)\", \"__class__\": \"ToyEngine\", \"__module__\": \"openpathsampling.engines.toy.engine\"}', None),\n",
       " (107, '205825572803023860022845415596767639408', '{\"pad_start\": 1, \"pad_end\": 1, \"__class__\": \"UniformSelector\", \"__module__\": \"openpathsampling.shooting\"}', None),\n",
       " (108, '205825572803023860022845415596767576926', '{\"trusted\": null, \"interface\": \"UUID(205825572803023860022845415596767576740)\", \"greedy\": false, \"final_states\": [\"UUID(17439545887431601795376514070 ... (331 characters truncated) ...  \"lambda_i\": null, \"ensemble\": \"UUID(46380510405785918200155421121190036802)\", \"__class__\": \"TISEnsemble\", \"__module__\": \"openpathsampling.ensemble\"}', None),\n",
       " (109, '205825572803023860022845415596767639542', '{\"__class__\": \"FinalFrameSelector\", \"__module__\": \"openpathsampling.shooting\"}', None),\n",
       " (110, '205825572803023860022845415596767639546', '{\"__class__\": \"FirstFrameSelector\", \"__module__\": \"openpathsampling.shooting\"}', None),\n",
       " (111, '205825572803023860022845415596767577100', '{\"trusted\": null, \"interface\": \"UUID(205825572803023860022845415596767576750)\", \"greedy\": false, \"final_states\": [\"UUID(17439545887431601795376514070 ... (331 characters truncated) ...  \"lambda_i\": null, \"ensemble\": \"UUID(46380510405785918200155421121190036918)\", \"__class__\": \"TISEnsemble\", \"__module__\": \"openpathsampling.ensemble\"}', None),\n",
       " (112, '205825572803023860022845415596767639576', '{\"__class__\": \"FinalFrameSelector\", \"__module__\": \"openpathsampling.shooting\"}', None),\n",
       " (113, '205825572803023860022845415596767639580', '{\"__class__\": \"FirstFrameSelector\", \"__module__\": \"openpathsampling.shooting\"}', None),\n",
       " (114, '205825572803023860022845415596767577274', '{\"trusted\": null, \"interface\": \"UUID(205825572803023860022845415596767576760)\", \"greedy\": false, \"final_states\": [\"UUID(17439545887431601795376514070 ... (331 characters truncated) ...  \"lambda_i\": null, \"ensemble\": \"UUID(46380510405785918200155421121190037034)\", \"__class__\": \"TISEnsemble\", \"__module__\": \"openpathsampling.ensemble\"}', None),\n",
       " (115, '205825572803023860022845415596767639610', '{\"__class__\": \"FinalFrameSelector\", \"__module__\": \"openpathsampling.shooting\"}', None),\n",
       " (116, '205825572803023860022845415596767639614', '{\"__class__\": \"FirstFrameSelector\", \"__module__\": \"openpathsampling.shooting\"}', None),\n",
       " (117, '205825572803023860022845415596767639418', '{\"pad_start\": 1, \"pad_end\": 1, \"__class__\": \"UniformSelector\", \"__module__\": \"openpathsampling.shooting\"}', None),\n",
       " (118, '205825572803023860022845415596767576760', '{\"lambda_min\": 0.0, \"lambda_max\": 0.2, \"collectivevariable\": \"UUID(174395458874316017953765140704788480030)\", \"__class__\": \"CVDefinedVolume\", \"__module__\": \"openpathsampling.volume\"}', None),\n",
       " (119, '174395458874316017953765140704788480036', '{\"lambda_min\": 0.0, \"lambda_max\": 0.2, \"collectivevariable\": \"UUID(174395458874316017953765140704788480030)\", \"__class__\": \"CVDefinedVolume\", \"__module__\": \"openpathsampling.volume\"}', None),\n",
       " (120, '46380510405785918200155421121190036584', '{\"ensemble1\": \"UUID(46380510405785918200155421121190036582)\", \"ensemble2\": \"UUID(46380510405785918200155421121190036510)\", \"__class__\": \"IntersectionEnsemble\", \"__module__\": \"openpathsampling.ensemble\"}', None),\n",
       " (121, '46380510405785918200155421121190036556', '{\"trusted\": null, \"interface\": \"UUID(205825572803023860022845415596767576760)\", \"final_states\": [\"UUID(174395458874316017953765140704788480036)\"], \"i ... (106 characters truncated) ...  \"lambda_i\": null, \"ensemble\": \"UUID(46380510405785918200155421121190036554)\", \"__class__\": \"TISEnsemble\", \"__module__\": \"openpathsampling.ensemble\"}', None),\n",
       " (122, '205825572803023860022845415596767576750', '{\"lambda_min\": 0.0, \"lambda_max\": 0.2, \"collectivevariable\": \"UUID(174395458874316017953765140704788480028)\", \"__class__\": \"CVDefinedVolume\", \"__module__\": \"openpathsampling.volume\"}', None),\n",
       " (123, '174395458874316017953765140704788480034', '{\"lambda_min\": 0.0, \"lambda_max\": 0.2, \"collectivevariable\": \"UUID(174395458874316017953765140704788480028)\", \"__class__\": \"CVDefinedVolume\", \"__module__\": \"openpathsampling.volume\"}', None),\n",
       " (124, '46380510405785918200155421121190036498', '{\"ensemble1\": \"UUID(46380510405785918200155421121190036496)\", \"ensemble2\": \"UUID(46380510405785918200155421121190036424)\", \"__class__\": \"IntersectionEnsemble\", \"__module__\": \"openpathsampling.ensemble\"}', None),\n",
       " (125, '46380510405785918200155421121190036470', '{\"trusted\": null, \"interface\": \"UUID(205825572803023860022845415596767576750)\", \"final_states\": [\"UUID(174395458874316017953765140704788480034)\"], \"i ... (106 characters truncated) ...  \"lambda_i\": null, \"ensemble\": \"UUID(46380510405785918200155421121190036468)\", \"__class__\": \"TISEnsemble\", \"__module__\": \"openpathsampling.ensemble\"}', None),\n",
       " (126, '174395458874316017953765140704788480030', '{\"name\": \"opC\", \"f\": {\"_marshal\": {\"__class__\": \"bytes\", \"__module__\": \"builtins\", \"bytes\": \"4wIAAAAAAAAAAwAAAAUAAABDAAAAc0IAAABkAWQAbAB9AnwCagF8AGoC ... (355 characters truncated) ... numpy_singletons\": false, \"kwargs\": {\"center\": [0.0, 0.4]}, \"__class__\": \"CoordinateFunctionCV\", \"__module__\": \"openpathsampling.collectivevariable\"}', None),\n",
       " (127, '46380510405785918200155421121190035998', '{\"ensemble1\": \"UUID(46380510405785918200155421121190035994)\", \"ensemble2\": \"UUID(46380510405785918200155421121190035996)\", \"__class__\": \"IntersectionEnsemble\", \"__module__\": \"openpathsampling.ensemble\"}', None),\n",
       " (128, '205825572803023860022845415596767576744', '{\"lambda_min\": 0.0, \"lambda_max\": 0.4, \"collectivevariable\": \"UUID(174395458874316017953765140704788480026)\", \"__class__\": \"CVDefinedVolume\", \"__module__\": \"openpathsampling.volume\"}', None),\n",
       " (129, '174395458874316017953765140704788480026', '{\"name\": \"opA\", \"f\": {\"_marshal\": {\"__class__\": \"bytes\", \"__module__\": \"builtins\", \"bytes\": \"4wIAAAAAAAAAAwAAAAUAAABDAAAAc0IAAABkAWQAbAB9AnwCagF8AGoC ... (357 characters truncated) ... mpy_singletons\": false, \"kwargs\": {\"center\": [-0.5, -0.5]}, \"__class__\": \"CoordinateFunctionCV\", \"__module__\": \"openpathsampling.collectivevariable\"}', None),\n",
       " (130, '46380510405785918200155421121190035730', '{\"ensemble1\": \"UUID(46380510405785918200155421121190035726)\", \"ensemble2\": \"UUID(46380510405785918200155421121190035728)\", \"__class__\": \"IntersectionEnsemble\", \"__module__\": \"openpathsampling.ensemble\"}', None),\n",
       " (131, '205825572803023860022845415596767576754', '{\"lambda_min\": 0.0, \"lambda_max\": 0.4, \"collectivevariable\": \"UUID(174395458874316017953765140704788480028)\", \"__class__\": \"CVDefinedVolume\", \"__module__\": \"openpathsampling.volume\"}', None),\n",
       " (132, '174395458874316017953765140704788480028', '{\"name\": \"opB\", \"f\": {\"_marshal\": {\"__class__\": \"bytes\", \"__module__\": \"builtins\", \"bytes\": \"4wIAAAAAAAAAAwAAAAUAAABDAAAAc0IAAABkAWQAbAB9AnwCagF8AGoC ... (356 characters truncated) ... umpy_singletons\": false, \"kwargs\": {\"center\": [0.5, -0.5]}, \"__class__\": \"CoordinateFunctionCV\", \"__module__\": \"openpathsampling.collectivevariable\"}', None),\n",
       " (133, '46380510405785918200155421121190035930', '{\"ensemble1\": \"UUID(46380510405785918200155421121190035926)\", \"ensemble2\": \"UUID(46380510405785918200155421121190035928)\", \"__class__\": \"IntersectionEnsemble\", \"__module__\": \"openpathsampling.ensemble\"}', None),\n",
       " (134, '205825572803023860022845415596767576740', '{\"lambda_min\": 0.0, \"lambda_max\": 0.2, \"collectivevariable\": \"UUID(174395458874316017953765140704788480026)\", \"__class__\": \"CVDefinedVolume\", \"__module__\": \"openpathsampling.volume\"}', None),\n",
       " (135, '174395458874316017953765140704788480032', '{\"lambda_min\": 0.0, \"lambda_max\": 0.2, \"collectivevariable\": \"UUID(174395458874316017953765140704788480026)\", \"__class__\": \"CVDefinedVolume\", \"__module__\": \"openpathsampling.volume\"}', None),\n",
       " (136, '46380510405785918200155421121190036412', '{\"ensemble1\": \"UUID(46380510405785918200155421121190036410)\", \"ensemble2\": \"UUID(46380510405785918200155421121190036338)\", \"__class__\": \"IntersectionEnsemble\", \"__module__\": \"openpathsampling.ensemble\"}', None),\n",
       " (137, '46380510405785918200155421121190036384', '{\"trusted\": null, \"interface\": \"UUID(205825572803023860022845415596767576740)\", \"final_states\": [\"UUID(174395458874316017953765140704788480032)\"], \"i ... (106 characters truncated) ...  \"lambda_i\": null, \"ensemble\": \"UUID(46380510405785918200155421121190036382)\", \"__class__\": \"TISEnsemble\", \"__module__\": \"openpathsampling.ensemble\"}', None),\n",
       " (138, '205825572803023860022845415596767576764', '{\"lambda_min\": 0.0, \"lambda_max\": 0.4, \"collectivevariable\": \"UUID(174395458874316017953765140704788480030)\", \"__class__\": \"CVDefinedVolume\", \"__module__\": \"openpathsampling.volume\"}', None),\n",
       " (139, '46380510405785918200155421121190036130', '{\"ensemble1\": \"UUID(46380510405785918200155421121190036126)\", \"ensemble2\": \"UUID(46380510405785918200155421121190036128)\", \"__class__\": \"IntersectionEnsemble\", \"__module__\": \"openpathsampling.ensemble\"}', None),\n",
       " (140, '46380510405785918200155421121190035598', '{\"ensemble1\": \"UUID(46380510405785918200155421121190035594)\", \"ensemble2\": \"UUID(46380510405785918200155421121190035596)\", \"__class__\": \"IntersectionEnsemble\", \"__module__\": \"openpathsampling.ensemble\"}', None),\n",
       " (141, '205825572803023860022845415596767576752', '{\"lambda_min\": 0.0, \"lambda_max\": 0.30000000000000004, \"collectivevariable\": \"UUID(174395458874316017953765140704788480028)\", \"__class__\": \"CVDefinedVolume\", \"__module__\": \"openpathsampling.volume\"}', None),\n",
       " (142, '46380510405785918200155421121190035864', '{\"ensemble1\": \"UUID(46380510405785918200155421121190035860)\", \"ensemble2\": \"UUID(46380510405785918200155421121190035862)\", \"__class__\": \"IntersectionEnsemble\", \"__module__\": \"openpathsampling.ensemble\"}', None),\n",
       " (143, '46380510405785918200155421121190035798', '{\"ensemble1\": \"UUID(46380510405785918200155421121190035794)\", \"ensemble2\": \"UUID(46380510405785918200155421121190035796)\", \"__class__\": \"IntersectionEnsemble\", \"__module__\": \"openpathsampling.ensemble\"}', None),\n",
       " (144, '205825572803023860022845415596767577398', '{\"ensemble1\": \"UUID(205825572803023860022845415596767577334)\", \"ensemble2\": \"UUID(205825572803023860022845415596767577364)\", \"__class__\": \"UnionEnsemble\", \"__module__\": \"openpathsampling.ensemble\"}', None),\n",
       " (145, '205825572803023860022845415596767577394', '{\"trusted\": null, \"interface\": \"UUID(205825572803023860022845415596767576772)\", \"greedy\": false, \"final_states\": [\"UUID(20582557280302386002284541559 ... (331 characters truncated) ...  \"lambda_i\": null, \"ensemble\": \"UUID(46380510405785918200155421121190036322)\", \"__class__\": \"TISEnsemble\", \"__module__\": \"openpathsampling.ensemble\"}', None),\n",
       " (146, '205825572803023860022845415596767576762', '{\"lambda_min\": 0.0, \"lambda_max\": 0.30000000000000004, \"collectivevariable\": \"UUID(174395458874316017953765140704788480030)\", \"__class__\": \"CVDefinedVolume\", \"__module__\": \"openpathsampling.volume\"}', None),\n",
       " (147, '46380510405785918200155421121190036064', '{\"ensemble1\": \"UUID(46380510405785918200155421121190036060)\", \"ensemble2\": \"UUID(46380510405785918200155421121190036062)\", \"__class__\": \"IntersectionEnsemble\", \"__module__\": \"openpathsampling.ensemble\"}', None),\n",
       " (148, '205825572803023860022845415596767576742', '{\"lambda_min\": 0.0, \"lambda_max\": 0.30000000000000004, \"collectivevariable\": \"UUID(174395458874316017953765140704788480026)\", \"__class__\": \"CVDefinedVolume\", \"__module__\": \"openpathsampling.volume\"}', None),\n",
       " (149, '46380510405785918200155421121190035664', '{\"ensemble1\": \"UUID(46380510405785918200155421121190035660)\", \"ensemble2\": \"UUID(46380510405785918200155421121190035662)\", \"__class__\": \"IntersectionEnsemble\", \"__module__\": \"openpathsampling.ensemble\"}', None),\n",
       " (150, '174395458874316017953765140704788480016', '{\"pes\": \"UUID(46380510405785918200155421121190036674)\", \"n_spatial\": 2, \"n_atoms\": 1, \"masses\": [1.0, 1.0], \"__class__\": \"ToyTopology\", \"__module__\": \"openpathsampling.engines.toy.topology\"}', None),\n",
       " (151, '46380510405785918200155421121190036802', '{\"ensemble1\": \"UUID(46380510405785918200155421121190036798)\", \"ensemble2\": \"UUID(46380510405785918200155421121190036800)\", \"__class__\": \"IntersectionEnsemble\", \"__module__\": \"openpathsampling.ensemble\"}', None),\n",
       " (152, '46380510405785918200155421121190036918', '{\"ensemble1\": \"UUID(46380510405785918200155421121190036914)\", \"ensemble2\": \"UUID(46380510405785918200155421121190036916)\", \"__class__\": \"IntersectionEnsemble\", \"__module__\": \"openpathsampling.ensemble\"}', None),\n",
       " (153, '46380510405785918200155421121190037034', '{\"ensemble1\": \"UUID(46380510405785918200155421121190037030)\", \"ensemble2\": \"UUID(46380510405785918200155421121190037032)\", \"__class__\": \"IntersectionEnsemble\", \"__module__\": \"openpathsampling.ensemble\"}', None),\n",
       " (154, '46380510405785918200155421121190036506', '{\"__class__\": \"EmptyVolume\", \"__module__\": \"openpathsampling.volume\"}', None),\n",
       " (155, '46380510405785918200155421121190036582', '{\"ensembles\": [\"UUID(46380510405785918200155421121190036558)\", \"UUID(46380510405785918200155421121190036564)\", \"UUID(46380510405785918200155421121190 ... (218 characters truncated) ... [0, 0, 0, 0, 0, 0], \"greedy\": false, \"max_overlap\": [0, 0, 0, 0, 0, 0], \"__class__\": \"SequentialEnsemble\", \"__module__\": \"openpathsampling.ensemble\"}', None),\n",
       " (156, '46380510405785918200155421121190036510', '{\"volume\": \"UUID(46380510405785918200155421121190036506)\", \"trusted\": true, \"__class__\": \"AllOutXEnsemble\", \"__module__\": \"openpathsampling.ensemble\"}', None),\n",
       " (157, '46380510405785918200155421121190036554', '{\"ensemble1\": \"UUID(46380510405785918200155421121190036550)\", \"ensemble2\": \"UUID(46380510405785918200155421121190036552)\", \"__class__\": \"IntersectionEnsemble\", \"__module__\": \"openpathsampling.ensemble\"}', None),\n",
       " (158, '46380510405785918200155421121190036420', '{\"__class__\": \"EmptyVolume\", \"__module__\": \"openpathsampling.volume\"}', None),\n",
       " (159, '46380510405785918200155421121190036496', '{\"ensembles\": [\"UUID(46380510405785918200155421121190036472)\", \"UUID(46380510405785918200155421121190036478)\", \"UUID(46380510405785918200155421121190 ... (218 characters truncated) ... [0, 0, 0, 0, 0, 0], \"greedy\": false, \"max_overlap\": [0, 0, 0, 0, 0, 0], \"__class__\": \"SequentialEnsemble\", \"__module__\": \"openpathsampling.ensemble\"}', None),\n",
       " (160, '46380510405785918200155421121190036424', '{\"volume\": \"UUID(46380510405785918200155421121190036420)\", \"trusted\": true, \"__class__\": \"AllOutXEnsemble\", \"__module__\": \"openpathsampling.ensemble\"}', None),\n",
       " (161, '46380510405785918200155421121190036468', '{\"ensemble1\": \"UUID(46380510405785918200155421121190036464)\", \"ensemble2\": \"UUID(46380510405785918200155421121190036466)\", \"__class__\": \"IntersectionEnsemble\", \"__module__\": \"openpathsampling.ensemble\"}', None),\n",
       " (162, '205825572803023860022845415596767577134', '{\"volume1\": \"UUID(174395458874316017953765140704788480032)\", \"volume2\": \"UUID(174395458874316017953765140704788480034)\", \"__class__\": \"UnionVolume\", \"__module__\": \"openpathsampling.volume\"}', None),\n",
       " (163, '205825572803023860022845415596767577146', '{\"ensemble1\": \"UUID(205825572803023860022845415596767577142)\", \"ensemble2\": \"UUID(205825572803023860022845415596767577144)\", \"__class__\": \"IntersectionEnsemble\", \"__module__\": \"openpathsampling.ensemble\"}', None),\n",
       " (164, '205825572803023860022845415596767577154', '{\"ensemble1\": \"UUID(205825572803023860022845415596767577150)\", \"ensemble2\": \"UUID(205825572803023860022845415596767577152)\", \"__class__\": \"IntersectionEnsemble\", \"__module__\": \"openpathsampling.ensemble\"}', None),\n",
       " (165, '205825572803023860022845415596767577162', '{\"ensemble1\": \"UUID(205825572803023860022845415596767577158)\", \"ensemble2\": \"UUID(205825572803023860022845415596767577160)\", \"__class__\": \"IntersectionEnsemble\", \"__module__\": \"openpathsampling.ensemble\"}', None),\n",
       " (166, '46380510405785918200155421121190035994', '{\"ensembles\": [\"UUID(46380510405785918200155421121190035974)\", \"UUID(46380510405785918200155421121190035980)\", \"UUID(46380510405785918200155421121190 ... (2 characters truncated) ... 5992)\"], \"min_overlap\": [0, 0], \"greedy\": false, \"max_overlap\": [0, 0], \"__class__\": \"SequentialEnsemble\", \"__module__\": \"openpathsampling.ensemble\"}', None),\n",
       " (167, '46380510405785918200155421121190035996', '{\"volume\": \"UUID(205825572803023860022845415596767576760)\", \"trusted\": true, \"__class__\": \"PartOutXEnsemble\", \"__module__\": \"openpathsampling.ensemble\"}', None),\n",
       " (168, '205825572803023860022845415596767576786', '{\"volume1\": \"UUID(174395458874316017953765140704788480034)\", \"volume2\": \"UUID(174395458874316017953765140704788480036)\", \"__class__\": \"UnionVolume\", \"__module__\": \"openpathsampling.volume\"}', None),\n",
       " (169, '205825572803023860022845415596767576858', '{\"ensemble1\": \"UUID(205825572803023860022845415596767576854)\", \"ensemble2\": \"UUID(205825572803023860022845415596767576856)\", \"__class__\": \"IntersectionEnsemble\", \"__module__\": \"openpathsampling.ensemble\"}', None),\n",
       " (170, '205825572803023860022845415596767576866', '{\"ensemble1\": \"UUID(205825572803023860022845415596767576862)\", \"ensemble2\": \"UUID(205825572803023860022845415596767576864)\", \"__class__\": \"IntersectionEnsemble\", \"__module__\": \"openpathsampling.ensemble\"}', None),\n",
       " (171, '205825572803023860022845415596767576874', '{\"ensemble1\": \"UUID(205825572803023860022845415596767576870)\", \"ensemble2\": \"UUID(205825572803023860022845415596767576872)\", \"__class__\": \"IntersectionEnsemble\", \"__module__\": \"openpathsampling.ensemble\"}', None),\n",
       " (172, '46380510405785918200155421121190035726', '{\"ensembles\": [\"UUID(46380510405785918200155421121190035706)\", \"UUID(46380510405785918200155421121190035712)\", \"UUID(46380510405785918200155421121190 ... (2 characters truncated) ... 5724)\"], \"min_overlap\": [0, 0], \"greedy\": false, \"max_overlap\": [0, 0], \"__class__\": \"SequentialEnsemble\", \"__module__\": \"openpathsampling.ensemble\"}', None),\n",
       " (173, '46380510405785918200155421121190035728', '{\"volume\": \"UUID(205825572803023860022845415596767576744)\", \"trusted\": true, \"__class__\": \"PartOutXEnsemble\", \"__module__\": \"openpathsampling.ensemble\"}', None),\n",
       " (174, '205825572803023860022845415596767576960', '{\"volume1\": \"UUID(174395458874316017953765140704788480032)\", \"volume2\": \"UUID(174395458874316017953765140704788480036)\", \"__class__\": \"UnionVolume\", \"__module__\": \"openpathsampling.volume\"}', None),\n",
       " (175, '205825572803023860022845415596767577032', '{\"ensemble1\": \"UUID(205825572803023860022845415596767577028)\", \"ensemble2\": \"UUID(205825572803023860022845415596767577030)\", \"__class__\": \"IntersectionEnsemble\", \"__module__\": \"openpathsampling.ensemble\"}', None),\n",
       " (176, '205825572803023860022845415596767577040', '{\"ensemble1\": \"UUID(205825572803023860022845415596767577036)\", \"ensemble2\": \"UUID(205825572803023860022845415596767577038)\", \"__class__\": \"IntersectionEnsemble\", \"__module__\": \"openpathsampling.ensemble\"}', None),\n",
       " (177, '205825572803023860022845415596767577048', '{\"ensemble1\": \"UUID(205825572803023860022845415596767577044)\", \"ensemble2\": \"UUID(205825572803023860022845415596767577046)\", \"__class__\": \"IntersectionEnsemble\", \"__module__\": \"openpathsampling.ensemble\"}', None),\n",
       " (178, '46380510405785918200155421121190035926', '{\"ensembles\": [\"UUID(46380510405785918200155421121190035906)\", \"UUID(46380510405785918200155421121190035912)\", \"UUID(46380510405785918200155421121190 ... (2 characters truncated) ... 5924)\"], \"min_overlap\": [0, 0], \"greedy\": false, \"max_overlap\": [0, 0], \"__class__\": \"SequentialEnsemble\", \"__module__\": \"openpathsampling.ensemble\"}', None),\n",
       " (179, '46380510405785918200155421121190035928', '{\"volume\": \"UUID(205825572803023860022845415596767576754)\", \"trusted\": true, \"__class__\": \"PartOutXEnsemble\", \"__module__\": \"openpathsampling.ensemble\"}', None),\n",
       " (180, '46380510405785918200155421121190036334', '{\"__class__\": \"EmptyVolume\", \"__module__\": \"openpathsampling.volume\"}', None),\n",
       " (181, '46380510405785918200155421121190036410', '{\"ensembles\": [\"UUID(46380510405785918200155421121190036386)\", \"UUID(46380510405785918200155421121190036392)\", \"UUID(46380510405785918200155421121190 ... (218 characters truncated) ... [0, 0, 0, 0, 0, 0], \"greedy\": false, \"max_overlap\": [0, 0, 0, 0, 0, 0], \"__class__\": \"SequentialEnsemble\", \"__module__\": \"openpathsampling.ensemble\"}', None),\n",
       " (182, '46380510405785918200155421121190036338', '{\"volume\": \"UUID(46380510405785918200155421121190036334)\", \"trusted\": true, \"__class__\": \"AllOutXEnsemble\", \"__module__\": \"openpathsampling.ensemble\"}', None),\n",
       " (183, '46380510405785918200155421121190036382', '{\"ensemble1\": \"UUID(46380510405785918200155421121190036378)\", \"ensemble2\": \"UUID(46380510405785918200155421121190036380)\", \"__class__\": \"IntersectionEnsemble\", \"__module__\": \"openpathsampling.ensemble\"}', None),\n",
       " (184, '205825572803023860022845415596767577206', '{\"ensemble1\": \"UUID(205825572803023860022845415596767577202)\", \"ensemble2\": \"UUID(205825572803023860022845415596767577204)\", \"__class__\": \"IntersectionEnsemble\", \"__module__\": \"openpathsampling.ensemble\"}', None),\n",
       " (185, '205825572803023860022845415596767577214', '{\"ensemble1\": \"UUID(205825572803023860022845415596767577210)\", \"ensemble2\": \"UUID(205825572803023860022845415596767577212)\", \"__class__\": \"IntersectionEnsemble\", \"__module__\": \"openpathsampling.ensemble\"}', None),\n",
       " (186, '205825572803023860022845415596767577222', '{\"ensemble1\": \"UUID(205825572803023860022845415596767577218)\", \"ensemble2\": \"UUID(205825572803023860022845415596767577220)\", \"__class__\": \"IntersectionEnsemble\", \"__module__\": \"openpathsampling.ensemble\"}', None),\n",
       " (187, '46380510405785918200155421121190036126', '{\"ensembles\": [\"UUID(46380510405785918200155421121190036106)\", \"UUID(46380510405785918200155421121190036112)\", \"UUID(46380510405785918200155421121190 ... (2 characters truncated) ... 6124)\"], \"min_overlap\": [0, 0], \"greedy\": false, \"max_overlap\": [0, 0], \"__class__\": \"SequentialEnsemble\", \"__module__\": \"openpathsampling.ensemble\"}', None),\n",
       " (188, '46380510405785918200155421121190036128', '{\"volume\": \"UUID(205825572803023860022845415596767576764)\", \"trusted\": true, \"__class__\": \"PartOutXEnsemble\", \"__module__\": \"openpathsampling.ensemble\"}', None),\n",
       " (189, '205825572803023860022845415596767576798', '{\"ensemble1\": \"UUID(205825572803023860022845415596767576794)\", \"ensemble2\": \"UUID(205825572803023860022845415596767576796)\", \"__class__\": \"IntersectionEnsemble\", \"__module__\": \"openpathsampling.ensemble\"}', None),\n",
       " (190, '205825572803023860022845415596767576806', '{\"ensemble1\": \"UUID(205825572803023860022845415596767576802)\", \"ensemble2\": \"UUID(205825572803023860022845415596767576804)\", \"__class__\": \"IntersectionEnsemble\", \"__module__\": \"openpathsampling.ensemble\"}', None),\n",
       " (191, '205825572803023860022845415596767576814', '{\"ensemble1\": \"UUID(205825572803023860022845415596767576810)\", \"ensemble2\": \"UUID(205825572803023860022845415596767576812)\", \"__class__\": \"IntersectionEnsemble\", \"__module__\": \"openpathsampling.ensemble\"}', None),\n",
       " (192, '46380510405785918200155421121190035594', '{\"ensembles\": [\"UUID(46380510405785918200155421121190035574)\", \"UUID(46380510405785918200155421121190035580)\", \"UUID(46380510405785918200155421121190 ... (2 characters truncated) ... 5592)\"], \"min_overlap\": [0, 0], \"greedy\": false, \"max_overlap\": [0, 0], \"__class__\": \"SequentialEnsemble\", \"__module__\": \"openpathsampling.ensemble\"}', None),\n",
       " (193, '46380510405785918200155421121190035596', '{\"volume\": \"UUID(205825572803023860022845415596767576740)\", \"trusted\": true, \"__class__\": \"PartOutXEnsemble\", \"__module__\": \"openpathsampling.ensemble\"}', None),\n",
       " (194, '205825572803023860022845415596767577002', '{\"ensemble1\": \"UUID(205825572803023860022845415596767576998)\", \"ensemble2\": \"UUID(205825572803023860022845415596767577000)\", \"__class__\": \"IntersectionEnsemble\", \"__module__\": \"openpathsampling.ensemble\"}', None),\n",
       " (195, '205825572803023860022845415596767577010', '{\"ensemble1\": \"UUID(205825572803023860022845415596767577006)\", \"ensemble2\": \"UUID(205825572803023860022845415596767577008)\", \"__class__\": \"IntersectionEnsemble\", \"__module__\": \"openpathsampling.ensemble\"}', None),\n",
       " (196, '205825572803023860022845415596767577018', '{\"ensemble1\": \"UUID(205825572803023860022845415596767577014)\", \"ensemble2\": \"UUID(205825572803023860022845415596767577016)\", \"__class__\": \"IntersectionEnsemble\", \"__module__\": \"openpathsampling.ensemble\"}', None),\n",
       " (197, '46380510405785918200155421121190035860', '{\"ensembles\": [\"UUID(46380510405785918200155421121190035840)\", \"UUID(46380510405785918200155421121190035846)\", \"UUID(46380510405785918200155421121190 ... (2 characters truncated) ... 5858)\"], \"min_overlap\": [0, 0], \"greedy\": false, \"max_overlap\": [0, 0], \"__class__\": \"SequentialEnsemble\", \"__module__\": \"openpathsampling.ensemble\"}', None),\n",
       " (198, '46380510405785918200155421121190035862', '{\"volume\": \"UUID(205825572803023860022845415596767576752)\", \"trusted\": true, \"__class__\": \"PartOutXEnsemble\", \"__module__\": \"openpathsampling.ensemble\"}', None),\n",
       " (199, '205825572803023860022845415596767576972', '{\"ensemble1\": \"UUID(205825572803023860022845415596767576968)\", \"ensemble2\": \"UUID(205825572803023860022845415596767576970)\", \"__class__\": \"IntersectionEnsemble\", \"__module__\": \"openpathsampling.ensemble\"}', None),\n",
       " (200, '205825572803023860022845415596767576980', '{\"ensemble1\": \"UUID(205825572803023860022845415596767576976)\", \"ensemble2\": \"UUID(205825572803023860022845415596767576978)\", \"__class__\": \"IntersectionEnsemble\", \"__module__\": \"openpathsampling.ensemble\"}', None),\n",
       " (201, '205825572803023860022845415596767576988', '{\"ensemble1\": \"UUID(205825572803023860022845415596767576984)\", \"ensemble2\": \"UUID(205825572803023860022845415596767576986)\", \"__class__\": \"IntersectionEnsemble\", \"__module__\": \"openpathsampling.ensemble\"}', None),\n",
       " (202, '46380510405785918200155421121190035794', '{\"ensembles\": [\"UUID(46380510405785918200155421121190035774)\", \"UUID(46380510405785918200155421121190035780)\", \"UUID(46380510405785918200155421121190 ... (2 characters truncated) ... 5792)\"], \"min_overlap\": [0, 0], \"greedy\": false, \"max_overlap\": [0, 0], \"__class__\": \"SequentialEnsemble\", \"__module__\": \"openpathsampling.ensemble\"}', None),\n",
       " (203, '46380510405785918200155421121190035796', '{\"volume\": \"UUID(205825572803023860022845415596767576750)\", \"trusted\": true, \"__class__\": \"PartOutXEnsemble\", \"__module__\": \"openpathsampling.ensemble\"}', None),\n",
       " (204, '205825572803023860022845415596767577334', '{\"trusted\": null, \"interface\": \"UUID(205825572803023860022845415596767576768)\", \"greedy\": false, \"final_states\": [\"UUID(20582557280302386002284541559 ... (331 characters truncated) ...  \"lambda_i\": null, \"ensemble\": \"UUID(46380510405785918200155421121190036196)\", \"__class__\": \"TISEnsemble\", \"__module__\": \"openpathsampling.ensemble\"}', None),\n",
       " (205, '205825572803023860022845415596767577364', '{\"trusted\": null, \"interface\": \"UUID(205825572803023860022845415596767576770)\", \"greedy\": false, \"final_states\": [\"UUID(20582557280302386002284541559 ... (331 characters truncated) ...  \"lambda_i\": null, \"ensemble\": \"UUID(46380510405785918200155421121190036258)\", \"__class__\": \"TISEnsemble\", \"__module__\": \"openpathsampling.ensemble\"}', None),\n",
       " (206, '205825572803023860022845415596767576772', '{\"lambda_min\": 0.0, \"lambda_max\": 0.5, \"collectivevariable\": \"UUID(174395458874316017953765140704788480030)\", \"__class__\": \"CVDefinedVolume\", \"__module__\": \"openpathsampling.volume\"}', None),\n",
       " (207, '46380510405785918200155421121190036322', '{\"ensemble1\": \"UUID(46380510405785918200155421121190036318)\", \"ensemble2\": \"UUID(46380510405785918200155421121190036320)\", \"__class__\": \"IntersectionEnsemble\", \"__module__\": \"openpathsampling.ensemble\"}', None),\n",
       " (208, '205825572803023860022845415596767577176', '{\"ensemble1\": \"UUID(205825572803023860022845415596767577172)\", \"ensemble2\": \"UUID(205825572803023860022845415596767577174)\", \"__class__\": \"IntersectionEnsemble\", \"__module__\": \"openpathsampling.ensemble\"}', None),\n",
       " (209, '205825572803023860022845415596767577184', '{\"ensemble1\": \"UUID(205825572803023860022845415596767577180)\", \"ensemble2\": \"UUID(205825572803023860022845415596767577182)\", \"__class__\": \"IntersectionEnsemble\", \"__module__\": \"openpathsampling.ensemble\"}', None),\n",
       " (210, '205825572803023860022845415596767577192', '{\"ensemble1\": \"UUID(205825572803023860022845415596767577188)\", \"ensemble2\": \"UUID(205825572803023860022845415596767577190)\", \"__class__\": \"IntersectionEnsemble\", \"__module__\": \"openpathsampling.ensemble\"}', None),\n",
       " (211, '46380510405785918200155421121190036060', '{\"ensembles\": [\"UUID(46380510405785918200155421121190036040)\", \"UUID(46380510405785918200155421121190036046)\", \"UUID(46380510405785918200155421121190 ... (2 characters truncated) ... 6058)\"], \"min_overlap\": [0, 0], \"greedy\": false, \"max_overlap\": [0, 0], \"__class__\": \"SequentialEnsemble\", \"__module__\": \"openpathsampling.ensemble\"}', None),\n",
       " (212, '46380510405785918200155421121190036062', '{\"volume\": \"UUID(205825572803023860022845415596767576762)\", \"trusted\": true, \"__class__\": \"PartOutXEnsemble\", \"__module__\": \"openpathsampling.ensemble\"}', None),\n",
       " (213, '205825572803023860022845415596767576828', '{\"ensemble1\": \"UUID(205825572803023860022845415596767576824)\", \"ensemble2\": \"UUID(205825572803023860022845415596767576826)\", \"__class__\": \"IntersectionEnsemble\", \"__module__\": \"openpathsampling.ensemble\"}', None),\n",
       " (214, '205825572803023860022845415596767576836', '{\"ensemble1\": \"UUID(205825572803023860022845415596767576832)\", \"ensemble2\": \"UUID(205825572803023860022845415596767576834)\", \"__class__\": \"IntersectionEnsemble\", \"__module__\": \"openpathsampling.ensemble\"}', None),\n",
       " (215, '205825572803023860022845415596767576844', '{\"ensemble1\": \"UUID(205825572803023860022845415596767576840)\", \"ensemble2\": \"UUID(205825572803023860022845415596767576842)\", \"__class__\": \"IntersectionEnsemble\", \"__module__\": \"openpathsampling.ensemble\"}', None),\n",
       " (216, '46380510405785918200155421121190035660', '{\"ensembles\": [\"UUID(46380510405785918200155421121190035640)\", \"UUID(46380510405785918200155421121190035646)\", \"UUID(46380510405785918200155421121190 ... (2 characters truncated) ... 5658)\"], \"min_overlap\": [0, 0], \"greedy\": false, \"max_overlap\": [0, 0], \"__class__\": \"SequentialEnsemble\", \"__module__\": \"openpathsampling.ensemble\"}', None),\n",
       " (217, '46380510405785918200155421121190035662', '{\"volume\": \"UUID(205825572803023860022845415596767576742)\", \"trusted\": true, \"__class__\": \"PartOutXEnsemble\", \"__module__\": \"openpathsampling.ensemble\"}', None),\n",
       " (218, '205825572803023860022845415596767576788', '{\"stateA\": \"UUID(174395458874316017953765140704788480032)\", \"stateB\": \"UUID(205825572803023860022845415596767576786)\", \"orderparameter\": \"UUID(174395 ... (282 characters truncated) ... nus_ensemble\": \"UUID(205825572803023860022845415596767576956)\", \"__class__\": \"TISTransition\", \"__module__\": \"openpathsampling.high_level.transition\"}', None),\n",
       " (219, '205825572803023860022845415596767576962', '{\"stateA\": \"UUID(174395458874316017953765140704788480034)\", \"stateB\": \"UUID(205825572803023860022845415596767576960)\", \"orderparameter\": \"UUID(174395 ... (282 characters truncated) ... nus_ensemble\": \"UUID(205825572803023860022845415596767577130)\", \"__class__\": \"TISTransition\", \"__module__\": \"openpathsampling.high_level.transition\"}', None),\n",
       " (220, '205825572803023860022845415596767577136', '{\"stateA\": \"UUID(174395458874316017953765140704788480036)\", \"stateB\": \"UUID(205825572803023860022845415596767577134)\", \"orderparameter\": \"UUID(174395 ... (282 characters truncated) ... nus_ensemble\": \"UUID(205825572803023860022845415596767577304)\", \"__class__\": \"TISTransition\", \"__module__\": \"openpathsampling.high_level.transition\"}', None),\n",
       " (221, '205825572803023860022845415596767576774', '{\"interface_sets\": [\"UUID(205825572803023860022845415596767576746)\", \"UUID(205825572803023860022845415596767576756)\", \"UUID(2058255728030238600228454 ... (157 characters truncated) ... 45415596767576772)\"], \"lambdas\": [0.5, 0.5, 0.5], \"__class__\": \"MSOuterTISInterface\", \"__module__\": \"openpathsampling.high_level.ms_outer_interface\"}', None),\n",
       " (222, '46380510405785918200155421121190036660', '{\"gamma\": 2.5, \"temperature\": 0.1, \"dt\": 0.02, \"__class__\": \"LangevinBAOABIntegrator\", \"__module__\": \"openpathsampling.engines.toy.integrators\"}', None),\n",
       " (223, '46380510405785918200155421121190036674', '{\"pes1\": \"UUID(46380510405785918200155421121190036670)\", \"pes2\": \"UUID(46380510405785918200155421121190036672)\", \"__class__\": \"PES_Add\", \"__module__\": \"openpathsampling.engines.toy.pes\"}', None),\n",
       " (224, '205825572803023860022845415596767576912', '{\"ensemble1\": \"UUID(205825572803023860022845415596767576908)\", \"ensemble2\": \"UUID(205825572803023860022845415596767576910)\", \"__class__\": \"IntersectionEnsemble\", \"__module__\": \"openpathsampling.ensemble\"}', None),\n",
       " (225, '205825572803023860022845415596767576918', '{\"ensemble1\": \"UUID(205825572803023860022845415596767576914)\", \"ensemble2\": \"UUID(205825572803023860022845415596767576916)\", \"__class__\": \"IntersectionEnsemble\", \"__module__\": \"openpathsampling.ensemble\"}', None),\n",
       " (226, '205825572803023860022845415596767576924', '{\"ensemble1\": \"UUID(205825572803023860022845415596767576920)\", \"ensemble2\": \"UUID(205825572803023860022845415596767576922)\", \"__class__\": \"IntersectionEnsemble\", \"__module__\": \"openpathsampling.ensemble\"}', None),\n",
       " (227, '46380510405785918200155421121190036798', '{\"ensembles\": [\"UUID(46380510405785918200155421121190036782)\", \"UUID(46380510405785918200155421121190036786)\", \"UUID(46380510405785918200155421121190 ... (2 characters truncated) ... 6796)\"], \"min_overlap\": [0, 0], \"greedy\": false, \"max_overlap\": [0, 0], \"__class__\": \"SequentialEnsemble\", \"__module__\": \"openpathsampling.ensemble\"}', None),\n",
       " (228, '46380510405785918200155421121190036800', '{\"volume\": \"UUID(205825572803023860022845415596767576740)\", \"trusted\": true, \"__class__\": \"PartOutXEnsemble\", \"__module__\": \"openpathsampling.ensemble\"}', None),\n",
       " (229, '205825572803023860022845415596767577086', '{\"ensemble1\": \"UUID(205825572803023860022845415596767577082)\", \"ensemble2\": \"UUID(205825572803023860022845415596767577084)\", \"__class__\": \"IntersectionEnsemble\", \"__module__\": \"openpathsampling.ensemble\"}', None),\n",
       " (230, '205825572803023860022845415596767577092', '{\"ensemble1\": \"UUID(205825572803023860022845415596767577088)\", \"ensemble2\": \"UUID(205825572803023860022845415596767577090)\", \"__class__\": \"IntersectionEnsemble\", \"__module__\": \"openpathsampling.ensemble\"}', None),\n",
       " (231, '205825572803023860022845415596767577098', '{\"ensemble1\": \"UUID(205825572803023860022845415596767577094)\", \"ensemble2\": \"UUID(205825572803023860022845415596767577096)\", \"__class__\": \"IntersectionEnsemble\", \"__module__\": \"openpathsampling.ensemble\"}', None),\n",
       " (232, '46380510405785918200155421121190036914', '{\"ensembles\": [\"UUID(46380510405785918200155421121190036898)\", \"UUID(46380510405785918200155421121190036902)\", \"UUID(46380510405785918200155421121190 ... (2 characters truncated) ... 6912)\"], \"min_overlap\": [0, 0], \"greedy\": false, \"max_overlap\": [0, 0], \"__class__\": \"SequentialEnsemble\", \"__module__\": \"openpathsampling.ensemble\"}', None),\n",
       " (233, '46380510405785918200155421121190036916', '{\"volume\": \"UUID(205825572803023860022845415596767576750)\", \"trusted\": true, \"__class__\": \"PartOutXEnsemble\", \"__module__\": \"openpathsampling.ensemble\"}', None),\n",
       " (234, '205825572803023860022845415596767577260', '{\"ensemble1\": \"UUID(205825572803023860022845415596767577256)\", \"ensemble2\": \"UUID(205825572803023860022845415596767577258)\", \"__class__\": \"IntersectionEnsemble\", \"__module__\": \"openpathsampling.ensemble\"}', None),\n",
       " (235, '205825572803023860022845415596767577266', '{\"ensemble1\": \"UUID(205825572803023860022845415596767577262)\", \"ensemble2\": \"UUID(205825572803023860022845415596767577264)\", \"__class__\": \"IntersectionEnsemble\", \"__module__\": \"openpathsampling.ensemble\"}', None),\n",
       " (236, '205825572803023860022845415596767577272', '{\"ensemble1\": \"UUID(205825572803023860022845415596767577268)\", \"ensemble2\": \"UUID(205825572803023860022845415596767577270)\", \"__class__\": \"IntersectionEnsemble\", \"__module__\": \"openpathsampling.ensemble\"}', None),\n",
       " (237, '46380510405785918200155421121190037030', '{\"ensembles\": [\"UUID(46380510405785918200155421121190037014)\", \"UUID(46380510405785918200155421121190037018)\", \"UUID(46380510405785918200155421121190 ... (2 characters truncated) ... 7028)\"], \"min_overlap\": [0, 0], \"greedy\": false, \"max_overlap\": [0, 0], \"__class__\": \"SequentialEnsemble\", \"__module__\": \"openpathsampling.ensemble\"}', None),\n",
       " (238, '46380510405785918200155421121190037032', '{\"volume\": \"UUID(205825572803023860022845415596767576760)\", \"trusted\": true, \"__class__\": \"PartOutXEnsemble\", \"__module__\": \"openpathsampling.ensemble\"}', None),\n",
       " (239, '46380510405785918200155421121190036550', '{\"ensembles\": [\"UUID(46380510405785918200155421121190036534)\", \"UUID(46380510405785918200155421121190036538)\", \"UUID(46380510405785918200155421121190 ... (2 characters truncated) ... 6548)\"], \"min_overlap\": [0, 0], \"greedy\": false, \"max_overlap\": [0, 0], \"__class__\": \"SequentialEnsemble\", \"__module__\": \"openpathsampling.ensemble\"}', None),\n",
       " (240, '46380510405785918200155421121190036552', '{\"volume\": \"UUID(205825572803023860022845415596767576760)\", \"trusted\": true, \"__class__\": \"PartOutXEnsemble\", \"__module__\": \"openpathsampling.ensemble\"}', None),\n",
       " (241, '46380510405785918200155421121190036464', '{\"ensembles\": [\"UUID(46380510405785918200155421121190036448)\", \"UUID(46380510405785918200155421121190036452)\", \"UUID(46380510405785918200155421121190 ... (2 characters truncated) ... 6462)\"], \"min_overlap\": [0, 0], \"greedy\": false, \"max_overlap\": [0, 0], \"__class__\": \"SequentialEnsemble\", \"__module__\": \"openpathsampling.ensemble\"}', None),\n",
       " (242, '46380510405785918200155421121190036466', '{\"volume\": \"UUID(205825572803023860022845415596767576750)\", \"trusted\": true, \"__class__\": \"PartOutXEnsemble\", \"__module__\": \"openpathsampling.ensemble\"}', None),\n",
       " (243, '205825572803023860022845415596767577142', '{\"volume\": \"UUID(174395458874316017953765140704788480036)\", \"trusted\": true, \"__class__\": \"AllInXEnsemble\", \"__module__\": \"openpathsampling.ensemble\"}', None),\n",
       " (244, '205825572803023860022845415596767577144', '{\"length\": 1, \"__class__\": \"LengthEnsemble\", \"__module__\": \"openpathsampling.ensemble\"}', None),\n",
       " (245, '205825572803023860022845415596767577150', '{\"volume\": \"UUID(205825572803023860022845415596767577148)\", \"trusted\": true, \"__class__\": \"AllOutXEnsemble\", \"__module__\": \"openpathsampling.ensemble\"}', None),\n",
       " (246, '205825572803023860022845415596767577152', '{\"volume\": \"UUID(205825572803023860022845415596767576760)\", \"trusted\": true, \"__class__\": \"PartOutXEnsemble\", \"__module__\": \"openpathsampling.ensemble\"}', None),\n",
       " (247, '205825572803023860022845415596767577158', '{\"volume\": \"UUID(205825572803023860022845415596767577156)\", \"trusted\": true, \"__class__\": \"AllInXEnsemble\", \"__module__\": \"openpathsampling.ensemble\"}', None),\n",
       " (248, '205825572803023860022845415596767577160', '{\"length\": 1, \"__class__\": \"LengthEnsemble\", \"__module__\": \"openpathsampling.ensemble\"}', None),\n",
       " (249, '205825572803023860022845415596767576854', '{\"volume\": \"UUID(174395458874316017953765140704788480032)\", \"trusted\": true, \"__class__\": \"AllInXEnsemble\", \"__module__\": \"openpathsampling.ensemble\"}', None),\n",
       " (250, '205825572803023860022845415596767576856', '{\"length\": 1, \"__class__\": \"LengthEnsemble\", \"__module__\": \"openpathsampling.ensemble\"}', None),\n",
       " (251, '205825572803023860022845415596767576862', '{\"volume\": \"UUID(205825572803023860022845415596767576860)\", \"trusted\": true, \"__class__\": \"AllOutXEnsemble\", \"__module__\": \"openpathsampling.ensemble\"}', None),\n",
       " (252, '205825572803023860022845415596767576864', '{\"volume\": \"UUID(205825572803023860022845415596767576744)\", \"trusted\": true, \"__class__\": \"PartOutXEnsemble\", \"__module__\": \"openpathsampling.ensemble\"}', None),\n",
       " (253, '205825572803023860022845415596767576870', '{\"volume\": \"UUID(205825572803023860022845415596767576868)\", \"trusted\": true, \"__class__\": \"AllInXEnsemble\", \"__module__\": \"openpathsampling.ensemble\"}', None),\n",
       " (254, '205825572803023860022845415596767576872', '{\"length\": 1, \"__class__\": \"LengthEnsemble\", \"__module__\": \"openpathsampling.ensemble\"}', None),\n",
       " (255, '205825572803023860022845415596767577028', '{\"volume\": \"UUID(174395458874316017953765140704788480034)\", \"trusted\": true, \"__class__\": \"AllInXEnsemble\", \"__module__\": \"openpathsampling.ensemble\"}', None),\n",
       " (256, '205825572803023860022845415596767577030', '{\"length\": 1, \"__class__\": \"LengthEnsemble\", \"__module__\": \"openpathsampling.ensemble\"}', None),\n",
       " (257, '205825572803023860022845415596767577036', '{\"volume\": \"UUID(205825572803023860022845415596767577034)\", \"trusted\": true, \"__class__\": \"AllOutXEnsemble\", \"__module__\": \"openpathsampling.ensemble\"}', None),\n",
       " (258, '205825572803023860022845415596767577038', '{\"volume\": \"UUID(205825572803023860022845415596767576754)\", \"trusted\": true, \"__class__\": \"PartOutXEnsemble\", \"__module__\": \"openpathsampling.ensemble\"}', None),\n",
       " (259, '205825572803023860022845415596767577044', '{\"volume\": \"UUID(205825572803023860022845415596767577042)\", \"trusted\": true, \"__class__\": \"AllInXEnsemble\", \"__module__\": \"openpathsampling.ensemble\"}', None),\n",
       " (260, '205825572803023860022845415596767577046', '{\"length\": 1, \"__class__\": \"LengthEnsemble\", \"__module__\": \"openpathsampling.ensemble\"}', None),\n",
       " (261, '46380510405785918200155421121190036378', '{\"ensembles\": [\"UUID(46380510405785918200155421121190036362)\", \"UUID(46380510405785918200155421121190036366)\", \"UUID(46380510405785918200155421121190 ... (2 characters truncated) ... 6376)\"], \"min_overlap\": [0, 0], \"greedy\": false, \"max_overlap\": [0, 0], \"__class__\": \"SequentialEnsemble\", \"__module__\": \"openpathsampling.ensemble\"}', None),\n",
       " (262, '46380510405785918200155421121190036380', '{\"volume\": \"UUID(205825572803023860022845415596767576740)\", \"trusted\": true, \"__class__\": \"PartOutXEnsemble\", \"__module__\": \"openpathsampling.ensemble\"}', None),\n",
       " (263, '205825572803023860022845415596767577202', '{\"volume\": \"UUID(174395458874316017953765140704788480036)\", \"trusted\": true, \"__class__\": \"AllInXEnsemble\", \"__module__\": \"openpathsampling.ensemble\"}', None),\n",
       " (264, '205825572803023860022845415596767577204', '{\"length\": 1, \"__class__\": \"LengthEnsemble\", \"__module__\": \"openpathsampling.ensemble\"}', None),\n",
       " (265, '205825572803023860022845415596767577210', '{\"volume\": \"UUID(205825572803023860022845415596767577208)\", \"trusted\": true, \"__class__\": \"AllOutXEnsemble\", \"__module__\": \"openpathsampling.ensemble\"}', None),\n",
       " (266, '205825572803023860022845415596767577212', '{\"volume\": \"UUID(205825572803023860022845415596767576764)\", \"trusted\": true, \"__class__\": \"PartOutXEnsemble\", \"__module__\": \"openpathsampling.ensemble\"}', None),\n",
       " (267, '205825572803023860022845415596767577218', '{\"volume\": \"UUID(205825572803023860022845415596767577216)\", \"trusted\": true, \"__class__\": \"AllInXEnsemble\", \"__module__\": \"openpathsampling.ensemble\"}', None),\n",
       " (268, '205825572803023860022845415596767577220', '{\"length\": 1, \"__class__\": \"LengthEnsemble\", \"__module__\": \"openpathsampling.ensemble\"}', None),\n",
       " (269, '205825572803023860022845415596767576794', '{\"volume\": \"UUID(174395458874316017953765140704788480032)\", \"trusted\": true, \"__class__\": \"AllInXEnsemble\", \"__module__\": \"openpathsampling.ensemble\"}', None),\n",
       " (270, '205825572803023860022845415596767576796', '{\"length\": 1, \"__class__\": \"LengthEnsemble\", \"__module__\": \"openpathsampling.ensemble\"}', None),\n",
       " (271, '205825572803023860022845415596767576802', '{\"volume\": \"UUID(205825572803023860022845415596767576800)\", \"trusted\": true, \"__class__\": \"AllOutXEnsemble\", \"__module__\": \"openpathsampling.ensemble\"}', None),\n",
       " (272, '205825572803023860022845415596767576804', '{\"volume\": \"UUID(205825572803023860022845415596767576740)\", \"trusted\": true, \"__class__\": \"PartOutXEnsemble\", \"__module__\": \"openpathsampling.ensemble\"}', None),\n",
       " (273, '205825572803023860022845415596767576810', '{\"volume\": \"UUID(205825572803023860022845415596767576808)\", \"trusted\": true, \"__class__\": \"AllInXEnsemble\", \"__module__\": \"openpathsampling.ensemble\"}', None),\n",
       " (274, '205825572803023860022845415596767576812', '{\"length\": 1, \"__class__\": \"LengthEnsemble\", \"__module__\": \"openpathsampling.ensemble\"}', None),\n",
       " (275, '205825572803023860022845415596767576998', '{\"volume\": \"UUID(174395458874316017953765140704788480034)\", \"trusted\": true, \"__class__\": \"AllInXEnsemble\", \"__module__\": \"openpathsampling.ensemble\"}', None),\n",
       " (276, '205825572803023860022845415596767577000', '{\"length\": 1, \"__class__\": \"LengthEnsemble\", \"__module__\": \"openpathsampling.ensemble\"}', None),\n",
       " (277, '205825572803023860022845415596767577006', '{\"volume\": \"UUID(205825572803023860022845415596767577004)\", \"trusted\": true, \"__class__\": \"AllOutXEnsemble\", \"__module__\": \"openpathsampling.ensemble\"}', None),\n",
       " (278, '205825572803023860022845415596767577008', '{\"volume\": \"UUID(205825572803023860022845415596767576752)\", \"trusted\": true, \"__class__\": \"PartOutXEnsemble\", \"__module__\": \"openpathsampling.ensemble\"}', None),\n",
       " (279, '205825572803023860022845415596767577014', '{\"volume\": \"UUID(205825572803023860022845415596767577012)\", \"trusted\": true, \"__class__\": \"AllInXEnsemble\", \"__module__\": \"openpathsampling.ensemble\"}', None),\n",
       " (280, '205825572803023860022845415596767577016', '{\"length\": 1, \"__class__\": \"LengthEnsemble\", \"__module__\": \"openpathsampling.ensemble\"}', None),\n",
       " (281, '205825572803023860022845415596767576968', '{\"volume\": \"UUID(174395458874316017953765140704788480034)\", \"trusted\": true, \"__class__\": \"AllInXEnsemble\", \"__module__\": \"openpathsampling.ensemble\"}', None),\n",
       " (282, '205825572803023860022845415596767576970', '{\"length\": 1, \"__class__\": \"LengthEnsemble\", \"__module__\": \"openpathsampling.ensemble\"}', None),\n",
       " (283, '205825572803023860022845415596767576976', '{\"volume\": \"UUID(205825572803023860022845415596767576974)\", \"trusted\": true, \"__class__\": \"AllOutXEnsemble\", \"__module__\": \"openpathsampling.ensemble\"}', None),\n",
       " (284, '205825572803023860022845415596767576978', '{\"volume\": \"UUID(205825572803023860022845415596767576750)\", \"trusted\": true, \"__class__\": \"PartOutXEnsemble\", \"__module__\": \"openpathsampling.ensemble\"}', None),\n",
       " (285, '205825572803023860022845415596767576984', '{\"volume\": \"UUID(205825572803023860022845415596767576982)\", \"trusted\": true, \"__class__\": \"AllInXEnsemble\", \"__module__\": \"openpathsampling.ensemble\"}', None),\n",
       " (286, '205825572803023860022845415596767576986', '{\"length\": 1, \"__class__\": \"LengthEnsemble\", \"__module__\": \"openpathsampling.ensemble\"}', None),\n",
       " (287, '205825572803023860022845415596767576768', '{\"lambda_min\": 0.0, \"lambda_max\": 0.5, \"collectivevariable\": \"UUID(174395458874316017953765140704788480026)\", \"__class__\": \"CVDefinedVolume\", \"__module__\": \"openpathsampling.volume\"}', None),\n",
       " (288, '46380510405785918200155421121190036196', '{\"ensemble1\": \"UUID(46380510405785918200155421121190036192)\", \"ensemble2\": \"UUID(46380510405785918200155421121190036194)\", \"__class__\": \"IntersectionEnsemble\", \"__module__\": \"openpathsampling.ensemble\"}', None),\n",
       " (289, '205825572803023860022845415596767576770', '{\"lambda_min\": 0.0, \"lambda_max\": 0.5, \"collectivevariable\": \"UUID(174395458874316017953765140704788480028)\", \"__class__\": \"CVDefinedVolume\", \"__module__\": \"openpathsampling.volume\"}', None),\n",
       " (290, '46380510405785918200155421121190036258', '{\"ensemble1\": \"UUID(46380510405785918200155421121190036254)\", \"ensemble2\": \"UUID(46380510405785918200155421121190036256)\", \"__class__\": \"IntersectionEnsemble\", \"__module__\": \"openpathsampling.ensemble\"}', None),\n",
       " (291, '205825572803023860022845415596767577376', '{\"ensemble1\": \"UUID(205825572803023860022845415596767577372)\", \"ensemble2\": \"UUID(205825572803023860022845415596767577374)\", \"__class__\": \"IntersectionEnsemble\", \"__module__\": \"openpathsampling.ensemble\"}', None),\n",
       " (292, '205825572803023860022845415596767577384', '{\"ensemble1\": \"UUID(205825572803023860022845415596767577380)\", \"ensemble2\": \"UUID(205825572803023860022845415596767577382)\", \"__class__\": \"IntersectionEnsemble\", \"__module__\": \"openpathsampling.ensemble\"}', None),\n",
       " (293, '205825572803023860022845415596767577392', '{\"ensemble1\": \"UUID(205825572803023860022845415596767577388)\", \"ensemble2\": \"UUID(205825572803023860022845415596767577390)\", \"__class__\": \"IntersectionEnsemble\", \"__module__\": \"openpathsampling.ensemble\"}', None),\n",
       " (294, '46380510405785918200155421121190036318', '{\"ensembles\": [\"UUID(46380510405785918200155421121190036298)\", \"UUID(46380510405785918200155421121190036304)\", \"UUID(46380510405785918200155421121190 ... (2 characters truncated) ... 6316)\"], \"min_overlap\": [0, 0], \"greedy\": false, \"max_overlap\": [0, 0], \"__class__\": \"SequentialEnsemble\", \"__module__\": \"openpathsampling.ensemble\"}', None),\n",
       " (295, '46380510405785918200155421121190036320', '{\"volume\": \"UUID(205825572803023860022845415596767576772)\", \"trusted\": true, \"__class__\": \"PartOutXEnsemble\", \"__module__\": \"openpathsampling.ensemble\"}', None),\n",
       " (296, '205825572803023860022845415596767577172', '{\"volume\": \"UUID(174395458874316017953765140704788480036)\", \"trusted\": true, \"__class__\": \"AllInXEnsemble\", \"__module__\": \"openpathsampling.ensemble\"}', None),\n",
       " (297, '205825572803023860022845415596767577174', '{\"length\": 1, \"__class__\": \"LengthEnsemble\", \"__module__\": \"openpathsampling.ensemble\"}', None),\n",
       " (298, '205825572803023860022845415596767577180', '{\"volume\": \"UUID(205825572803023860022845415596767577178)\", \"trusted\": true, \"__class__\": \"AllOutXEnsemble\", \"__module__\": \"openpathsampling.ensemble\"}', None),\n",
       " (299, '205825572803023860022845415596767577182', '{\"volume\": \"UUID(205825572803023860022845415596767576762)\", \"trusted\": true, \"__class__\": \"PartOutXEnsemble\", \"__module__\": \"openpathsampling.ensemble\"}', None),\n",
       " (300, '205825572803023860022845415596767577188', '{\"volume\": \"UUID(205825572803023860022845415596767577186)\", \"trusted\": true, \"__class__\": \"AllInXEnsemble\", \"__module__\": \"openpathsampling.ensemble\"}', None),\n",
       " (301, '205825572803023860022845415596767577190', '{\"length\": 1, \"__class__\": \"LengthEnsemble\", \"__module__\": \"openpathsampling.ensemble\"}', None),\n",
       " (302, '205825572803023860022845415596767576824', '{\"volume\": \"UUID(174395458874316017953765140704788480032)\", \"trusted\": true, \"__class__\": \"AllInXEnsemble\", \"__module__\": \"openpathsampling.ensemble\"}', None),\n",
       " (303, '205825572803023860022845415596767576826', '{\"length\": 1, \"__class__\": \"LengthEnsemble\", \"__module__\": \"openpathsampling.ensemble\"}', None),\n",
       " (304, '205825572803023860022845415596767576832', '{\"volume\": \"UUID(205825572803023860022845415596767576830)\", \"trusted\": true, \"__class__\": \"AllOutXEnsemble\", \"__module__\": \"openpathsampling.ensemble\"}', None),\n",
       " (305, '205825572803023860022845415596767576834', '{\"volume\": \"UUID(205825572803023860022845415596767576742)\", \"trusted\": true, \"__class__\": \"PartOutXEnsemble\", \"__module__\": \"openpathsampling.ensemble\"}', None),\n",
       " (306, '205825572803023860022845415596767576840', '{\"volume\": \"UUID(205825572803023860022845415596767576838)\", \"trusted\": true, \"__class__\": \"AllInXEnsemble\", \"__module__\": \"openpathsampling.ensemble\"}', None),\n",
       " (307, '205825572803023860022845415596767576842', '{\"length\": 1, \"__class__\": \"LengthEnsemble\", \"__module__\": \"openpathsampling.ensemble\"}', None),\n",
       " (308, '205825572803023860022845415596767576746', '{\"cv\": \"UUID(174395458874316017953765140704788480026)\", \"minvals\": 0.0, \"maxvals\": [0.2, 0.30000000000000004, 0.4], \"intersect_with\": \"UUID(205825572 ... (198 characters truncated) ... 42)\", \"UUID(205825572803023860022845415596767576744)\"], \"__class__\": \"VolumeInterfaceSet\", \"__module__\": \"openpathsampling.high_level.interface_set\"}', None),\n",
       " (309, '205825572803023860022845415596767576756', '{\"cv\": \"UUID(174395458874316017953765140704788480028)\", \"minvals\": 0.0, \"maxvals\": [0.2, 0.30000000000000004, 0.4], \"intersect_with\": \"UUID(205825572 ... (198 characters truncated) ... 52)\", \"UUID(205825572803023860022845415596767576754)\"], \"__class__\": \"VolumeInterfaceSet\", \"__module__\": \"openpathsampling.high_level.interface_set\"}', None),\n",
       " (310, '205825572803023860022845415596767576766', '{\"cv\": \"UUID(174395458874316017953765140704788480030)\", \"minvals\": 0.0, \"maxvals\": [0.2, 0.30000000000000004, 0.4], \"intersect_with\": \"UUID(205825572 ... (198 characters truncated) ... 62)\", \"UUID(205825572803023860022845415596767576764)\"], \"__class__\": \"VolumeInterfaceSet\", \"__module__\": \"openpathsampling.high_level.interface_set\"}', None),\n",
       " (311, '46380510405785918200155421121190036670', '{\"pes1\": \"UUID(46380510405785918200155421121190036666)\", \"pes2\": \"UUID(46380510405785918200155421121190036668)\", \"__class__\": \"PES_Add\", \"__module__\": \"openpathsampling.engines.toy.pes\"}', None),\n",
       " (312, '46380510405785918200155421121190036672', '{\"x0\": [0.5, -0.5], \"alpha\": [12.0, 12.0], \"A\": -0.7000000000000001, \"__class__\": \"Gaussian\", \"__module__\": \"openpathsampling.engines.toy.pes\"}', None),\n",
       " (313, '205825572803023860022845415596767576908', '{\"volume\": \"UUID(174395458874316017953765140704788480032)\", \"trusted\": true, \"__class__\": \"AllInXEnsemble\", \"__module__\": \"openpathsampling.ensemble\"}', None),\n",
       " (314, '205825572803023860022845415596767576910', '{\"length\": 1, \"__class__\": \"LengthEnsemble\", \"__module__\": \"openpathsampling.ensemble\"}', None),\n",
       " (315, '205825572803023860022845415596767576914', '{\"volume\": \"UUID(174395458874316017953765140704788480032)\", \"trusted\": true, \"__class__\": \"AllOutXEnsemble\", \"__module__\": \"openpathsampling.ensemble\"}', None),\n",
       " (316, '205825572803023860022845415596767576916', '{\"volume\": \"UUID(205825572803023860022845415596767576740)\", \"trusted\": true, \"__class__\": \"PartOutXEnsemble\", \"__module__\": \"openpathsampling.ensemble\"}', None),\n",
       " (317, '205825572803023860022845415596767576920', '{\"volume\": \"UUID(174395458874316017953765140704788480032)\", \"trusted\": true, \"__class__\": \"AllInXEnsemble\", \"__module__\": \"openpathsampling.ensemble\"}', None),\n",
       " (318, '205825572803023860022845415596767576922', '{\"length\": 1, \"__class__\": \"LengthEnsemble\", \"__module__\": \"openpathsampling.ensemble\"}', None),\n",
       " (319, '205825572803023860022845415596767577082', '{\"volume\": \"UUID(174395458874316017953765140704788480034)\", \"trusted\": true, \"__class__\": \"AllInXEnsemble\", \"__module__\": \"openpathsampling.ensemble\"}', None),\n",
       " (320, '205825572803023860022845415596767577084', '{\"length\": 1, \"__class__\": \"LengthEnsemble\", \"__module__\": \"openpathsampling.ensemble\"}', None),\n",
       " (321, '205825572803023860022845415596767577088', '{\"volume\": \"UUID(174395458874316017953765140704788480034)\", \"trusted\": true, \"__class__\": \"AllOutXEnsemble\", \"__module__\": \"openpathsampling.ensemble\"}', None),\n",
       " (322, '205825572803023860022845415596767577090', '{\"volume\": \"UUID(205825572803023860022845415596767576750)\", \"trusted\": true, \"__class__\": \"PartOutXEnsemble\", \"__module__\": \"openpathsampling.ensemble\"}', None),\n",
       " (323, '205825572803023860022845415596767577094', '{\"volume\": \"UUID(174395458874316017953765140704788480034)\", \"trusted\": true, \"__class__\": \"AllInXEnsemble\", \"__module__\": \"openpathsampling.ensemble\"}', None),\n",
       " (324, '205825572803023860022845415596767577096', '{\"length\": 1, \"__class__\": \"LengthEnsemble\", \"__module__\": \"openpathsampling.ensemble\"}', None),\n",
       " (325, '205825572803023860022845415596767577256', '{\"volume\": \"UUID(174395458874316017953765140704788480036)\", \"trusted\": true, \"__class__\": \"AllInXEnsemble\", \"__module__\": \"openpathsampling.ensemble\"}', None),\n",
       " (326, '205825572803023860022845415596767577258', '{\"length\": 1, \"__class__\": \"LengthEnsemble\", \"__module__\": \"openpathsampling.ensemble\"}', None),\n",
       " (327, '205825572803023860022845415596767577262', '{\"volume\": \"UUID(174395458874316017953765140704788480036)\", \"trusted\": true, \"__class__\": \"AllOutXEnsemble\", \"__module__\": \"openpathsampling.ensemble\"}', None),\n",
       " (328, '205825572803023860022845415596767577264', '{\"volume\": \"UUID(205825572803023860022845415596767576760)\", \"trusted\": true, \"__class__\": \"PartOutXEnsemble\", \"__module__\": \"openpathsampling.ensemble\"}', None),\n",
       " (329, '205825572803023860022845415596767577268', '{\"volume\": \"UUID(174395458874316017953765140704788480036)\", \"trusted\": true, \"__class__\": \"AllInXEnsemble\", \"__module__\": \"openpathsampling.ensemble\"}', None),\n",
       " (330, '205825572803023860022845415596767577270', '{\"length\": 1, \"__class__\": \"LengthEnsemble\", \"__module__\": \"openpathsampling.ensemble\"}', None),\n",
       " (331, '46380510405785918200155421121190036558', '{\"trusted\": null, \"ensemble\": \"UUID(46380510405785918200155421121190036514)\", \"__class__\": \"SingleFrameEnsemble\", \"__module__\": \"openpathsampling.ensemble\"}', None),\n",
       " (332, '46380510405785918200155421121190036564', '{\"trusted\": null, \"ensemble\": \"UUID(46380510405785918200155421121190036524)\", \"__class__\": \"OptionalEnsemble\", \"__module__\": \"openpathsampling.ensemble\"}', None),\n",
       " (333, '46380510405785918200155421121190036516', '{\"volume\": \"UUID(174395458874316017953765140704788480036)\", \"trusted\": true, \"__class__\": \"AllOutXEnsemble\", \"__module__\": \"openpathsampling.ensemble\"}', None),\n",
       " (334, '46380510405785918200155421121190036518', '{\"volume\": \"UUID(205825572803023860022845415596767576760)\", \"trusted\": true, \"__class__\": \"AllInXEnsemble\", \"__module__\": \"openpathsampling.ensemble\"}', None),\n",
       " (335, '46380510405785918200155421121190036570', '{\"trusted\": null, \"ensemble\": \"UUID(46380510405785918200155421121190036524)\", \"__class__\": \"OptionalEnsemble\", \"__module__\": \"openpathsampling.ensemble\"}', None),\n",
       " (336, '46380510405785918200155421121190036576', '{\"trusted\": null, \"ensemble\": \"UUID(46380510405785918200155421121190036514)\", \"__class__\": \"SingleFrameEnsemble\", \"__module__\": \"openpathsampling.ensemble\"}', None),\n",
       " (337, '46380510405785918200155421121190036472', '{\"trusted\": null, \"ensemble\": \"UUID(46380510405785918200155421121190036428)\", \"__class__\": \"SingleFrameEnsemble\", \"__module__\": \"openpathsampling.ensemble\"}', None),\n",
       " (338, '46380510405785918200155421121190036478', '{\"trusted\": null, \"ensemble\": \"UUID(46380510405785918200155421121190036438)\", \"__class__\": \"OptionalEnsemble\", \"__module__\": \"openpathsampling.ensemble\"}', None),\n",
       " (339, '46380510405785918200155421121190036430', '{\"volume\": \"UUID(174395458874316017953765140704788480034)\", \"trusted\": true, \"__class__\": \"AllOutXEnsemble\", \"__module__\": \"openpathsampling.ensemble\"}', None),\n",
       " (340, '46380510405785918200155421121190036432', '{\"volume\": \"UUID(205825572803023860022845415596767576750)\", \"trusted\": true, \"__class__\": \"AllInXEnsemble\", \"__module__\": \"openpathsampling.ensemble\"}', None),\n",
       " (341, '46380510405785918200155421121190036484', '{\"trusted\": null, \"ensemble\": \"UUID(46380510405785918200155421121190036438)\", \"__class__\": \"OptionalEnsemble\", \"__module__\": \"openpathsampling.ensemble\"}', None),\n",
       " (342, '46380510405785918200155421121190036490', '{\"trusted\": null, \"ensemble\": \"UUID(46380510405785918200155421121190036428)\", \"__class__\": \"SingleFrameEnsemble\", \"__module__\": \"openpathsampling.ensemble\"}', None),\n",
       " (343, '205825572803023860022845415596767577148', '{\"volume1\": \"UUID(174395458874316017953765140704788480036)\", \"volume2\": \"UUID(205825572803023860022845415596767577134)\", \"__class__\": \"UnionVolume\", \"__module__\": \"openpathsampling.volume\"}', None),\n",
       " (344, '205825572803023860022845415596767577156', '{\"volume1\": \"UUID(174395458874316017953765140704788480036)\", \"volume2\": \"UUID(205825572803023860022845415596767577134)\", \"__class__\": \"UnionVolume\", \"__module__\": \"openpathsampling.volume\"}', None),\n",
       " (345, '46380510405785918200155421121190035974', '{\"ensemble1\": \"UUID(46380510405785918200155421121190035970)\", \"ensemble2\": \"UUID(46380510405785918200155421121190035972)\", \"__class__\": \"IntersectionEnsemble\", \"__module__\": \"openpathsampling.ensemble\"}', None),\n",
       " (346, '46380510405785918200155421121190035980', '{\"trusted\": null, \"ensemble\": \"UUID(46380510405785918200155421121190035978)\", \"__class__\": \"OptionalEnsemble\", \"__module__\": \"openpathsampling.ensemble\"}', None),\n",
       " (347, '46380510405785918200155421121190035992', '{\"ensemble1\": \"UUID(46380510405785918200155421121190035988)\", \"ensemble2\": \"UUID(46380510405785918200155421121190035990)\", \"__class__\": \"IntersectionEnsemble\", \"__module__\": \"openpathsampling.ensemble\"}', None),\n",
       " (348, '205825572803023860022845415596767576860', '{\"volume1\": \"UUID(174395458874316017953765140704788480032)\", \"volume2\": \"UUID(205825572803023860022845415596767576786)\", \"__class__\": \"UnionVolume\", \"__module__\": \"openpathsampling.volume\"}', None),\n",
       " (349, '205825572803023860022845415596767576868', '{\"volume1\": \"UUID(174395458874316017953765140704788480032)\", \"volume2\": \"UUID(205825572803023860022845415596767576786)\", \"__class__\": \"UnionVolume\", \"__module__\": \"openpathsampling.volume\"}', None),\n",
       " (350, '46380510405785918200155421121190035706', '{\"ensemble1\": \"UUID(46380510405785918200155421121190035702)\", \"ensemble2\": \"UUID(46380510405785918200155421121190035704)\", \"__class__\": \"IntersectionEnsemble\", \"__module__\": \"openpathsampling.ensemble\"}', None),\n",
       " (351, '46380510405785918200155421121190035712', '{\"trusted\": null, \"ensemble\": \"UUID(46380510405785918200155421121190035710)\", \"__class__\": \"OptionalEnsemble\", \"__module__\": \"openpathsampling.ensemble\"}', None),\n",
       " (352, '46380510405785918200155421121190035724', '{\"ensemble1\": \"UUID(46380510405785918200155421121190035720)\", \"ensemble2\": \"UUID(46380510405785918200155421121190035722)\", \"__class__\": \"IntersectionEnsemble\", \"__module__\": \"openpathsampling.ensemble\"}', None),\n",
       " (353, '205825572803023860022845415596767577034', '{\"volume1\": \"UUID(174395458874316017953765140704788480034)\", \"volume2\": \"UUID(205825572803023860022845415596767576960)\", \"__class__\": \"UnionVolume\", \"__module__\": \"openpathsampling.volume\"}', None),\n",
       " (354, '205825572803023860022845415596767577042', '{\"volume1\": \"UUID(174395458874316017953765140704788480034)\", \"volume2\": \"UUID(205825572803023860022845415596767576960)\", \"__class__\": \"UnionVolume\", \"__module__\": \"openpathsampling.volume\"}', None),\n",
       " (355, '46380510405785918200155421121190035906', '{\"ensemble1\": \"UUID(46380510405785918200155421121190035902)\", \"ensemble2\": \"UUID(46380510405785918200155421121190035904)\", \"__class__\": \"IntersectionEnsemble\", \"__module__\": \"openpathsampling.ensemble\"}', None),\n",
       " (356, '46380510405785918200155421121190035912', '{\"trusted\": null, \"ensemble\": \"UUID(46380510405785918200155421121190035910)\", \"__class__\": \"OptionalEnsemble\", \"__module__\": \"openpathsampling.ensemble\"}', None),\n",
       " (357, '46380510405785918200155421121190035924', '{\"ensemble1\": \"UUID(46380510405785918200155421121190035920)\", \"ensemble2\": \"UUID(46380510405785918200155421121190035922)\", \"__class__\": \"IntersectionEnsemble\", \"__module__\": \"openpathsampling.ensemble\"}', None),\n",
       " (358, '46380510405785918200155421121190036386', '{\"trusted\": null, \"ensemble\": \"UUID(46380510405785918200155421121190036342)\", \"__class__\": \"SingleFrameEnsemble\", \"__module__\": \"openpathsampling.ensemble\"}', None),\n",
       " (359, '46380510405785918200155421121190036392', '{\"trusted\": null, \"ensemble\": \"UUID(46380510405785918200155421121190036352)\", \"__class__\": \"OptionalEnsemble\", \"__module__\": \"openpathsampling.ensemble\"}', None),\n",
       " (360, '46380510405785918200155421121190036344', '{\"volume\": \"UUID(174395458874316017953765140704788480032)\", \"trusted\": true, \"__class__\": \"AllOutXEnsemble\", \"__module__\": \"openpathsampling.ensemble\"}', None),\n",
       " (361, '46380510405785918200155421121190036346', '{\"volume\": \"UUID(205825572803023860022845415596767576740)\", \"trusted\": true, \"__class__\": \"AllInXEnsemble\", \"__module__\": \"openpathsampling.ensemble\"}', None),\n",
       " (362, '46380510405785918200155421121190036398', '{\"trusted\": null, \"ensemble\": \"UUID(46380510405785918200155421121190036352)\", \"__class__\": \"OptionalEnsemble\", \"__module__\": \"openpathsampling.ensemble\"}', None),\n",
       " (363, '46380510405785918200155421121190036404', '{\"trusted\": null, \"ensemble\": \"UUID(46380510405785918200155421121190036342)\", \"__class__\": \"SingleFrameEnsemble\", \"__module__\": \"openpathsampling.ensemble\"}', None),\n",
       " (364, '205825572803023860022845415596767577208', '{\"volume1\": \"UUID(174395458874316017953765140704788480036)\", \"volume2\": \"UUID(205825572803023860022845415596767577134)\", \"__class__\": \"UnionVolume\", \"__module__\": \"openpathsampling.volume\"}', None),\n",
       " (365, '205825572803023860022845415596767577216', '{\"volume1\": \"UUID(174395458874316017953765140704788480036)\", \"volume2\": \"UUID(205825572803023860022845415596767577134)\", \"__class__\": \"UnionVolume\", \"__module__\": \"openpathsampling.volume\"}', None),\n",
       " (366, '46380510405785918200155421121190036106', '{\"ensemble1\": \"UUID(46380510405785918200155421121190036102)\", \"ensemble2\": \"UUID(46380510405785918200155421121190036104)\", \"__class__\": \"IntersectionEnsemble\", \"__module__\": \"openpathsampling.ensemble\"}', None),\n",
       " (367, '46380510405785918200155421121190036112', '{\"trusted\": null, \"ensemble\": \"UUID(46380510405785918200155421121190036110)\", \"__class__\": \"OptionalEnsemble\", \"__module__\": \"openpathsampling.ensemble\"}', None),\n",
       " (368, '46380510405785918200155421121190036124', '{\"ensemble1\": \"UUID(46380510405785918200155421121190036120)\", \"ensemble2\": \"UUID(46380510405785918200155421121190036122)\", \"__class__\": \"IntersectionEnsemble\", \"__module__\": \"openpathsampling.ensemble\"}', None),\n",
       " (369, '205825572803023860022845415596767576800', '{\"volume1\": \"UUID(174395458874316017953765140704788480032)\", \"volume2\": \"UUID(205825572803023860022845415596767576786)\", \"__class__\": \"UnionVolume\", \"__module__\": \"openpathsampling.volume\"}', None),\n",
       " (370, '205825572803023860022845415596767576808', '{\"volume1\": \"UUID(174395458874316017953765140704788480032)\", \"volume2\": \"UUID(205825572803023860022845415596767576786)\", \"__class__\": \"UnionVolume\", \"__module__\": \"openpathsampling.volume\"}', None),\n",
       " (371, '46380510405785918200155421121190035574', '{\"ensemble1\": \"UUID(46380510405785918200155421121190035570)\", \"ensemble2\": \"UUID(46380510405785918200155421121190035572)\", \"__class__\": \"IntersectionEnsemble\", \"__module__\": \"openpathsampling.ensemble\"}', None),\n",
       " (372, '46380510405785918200155421121190035580', '{\"trusted\": null, \"ensemble\": \"UUID(46380510405785918200155421121190035578)\", \"__class__\": \"OptionalEnsemble\", \"__module__\": \"openpathsampling.ensemble\"}', None),\n",
       " (373, '46380510405785918200155421121190035592', '{\"ensemble1\": \"UUID(46380510405785918200155421121190035588)\", \"ensemble2\": \"UUID(46380510405785918200155421121190035590)\", \"__class__\": \"IntersectionEnsemble\", \"__module__\": \"openpathsampling.ensemble\"}', None),\n",
       " (374, '205825572803023860022845415596767577004', '{\"volume1\": \"UUID(174395458874316017953765140704788480034)\", \"volume2\": \"UUID(205825572803023860022845415596767576960)\", \"__class__\": \"UnionVolume\", \"__module__\": \"openpathsampling.volume\"}', None),\n",
       " (375, '205825572803023860022845415596767577012', '{\"volume1\": \"UUID(174395458874316017953765140704788480034)\", \"volume2\": \"UUID(205825572803023860022845415596767576960)\", \"__class__\": \"UnionVolume\", \"__module__\": \"openpathsampling.volume\"}', None),\n",
       " (376, '46380510405785918200155421121190035840', '{\"ensemble1\": \"UUID(46380510405785918200155421121190035836)\", \"ensemble2\": \"UUID(46380510405785918200155421121190035838)\", \"__class__\": \"IntersectionEnsemble\", \"__module__\": \"openpathsampling.ensemble\"}', None),\n",
       " (377, '46380510405785918200155421121190035846', '{\"trusted\": null, \"ensemble\": \"UUID(46380510405785918200155421121190035844)\", \"__class__\": \"OptionalEnsemble\", \"__module__\": \"openpathsampling.ensemble\"}', None),\n",
       " (378, '46380510405785918200155421121190035858', '{\"ensemble1\": \"UUID(46380510405785918200155421121190035854)\", \"ensemble2\": \"UUID(46380510405785918200155421121190035856)\", \"__class__\": \"IntersectionEnsemble\", \"__module__\": \"openpathsampling.ensemble\"}', None),\n",
       " (379, '205825572803023860022845415596767576974', '{\"volume1\": \"UUID(174395458874316017953765140704788480034)\", \"volume2\": \"UUID(205825572803023860022845415596767576960)\", \"__class__\": \"UnionVolume\", \"__module__\": \"openpathsampling.volume\"}', None),\n",
       " (380, '205825572803023860022845415596767576982', '{\"volume1\": \"UUID(174395458874316017953765140704788480034)\", \"volume2\": \"UUID(205825572803023860022845415596767576960)\", \"__class__\": \"UnionVolume\", \"__module__\": \"openpathsampling.volume\"}', None),\n",
       " (381, '46380510405785918200155421121190035774', '{\"ensemble1\": \"UUID(46380510405785918200155421121190035770)\", \"ensemble2\": \"UUID(46380510405785918200155421121190035772)\", \"__class__\": \"IntersectionEnsemble\", \"__module__\": \"openpathsampling.ensemble\"}', None),\n",
       " (382, '46380510405785918200155421121190035780', '{\"trusted\": null, \"ensemble\": \"UUID(46380510405785918200155421121190035778)\", \"__class__\": \"OptionalEnsemble\", \"__module__\": \"openpathsampling.ensemble\"}', None),\n",
       " (383, '46380510405785918200155421121190035792', '{\"ensemble1\": \"UUID(46380510405785918200155421121190035788)\", \"ensemble2\": \"UUID(46380510405785918200155421121190035790)\", \"__class__\": \"IntersectionEnsemble\", \"__module__\": \"openpathsampling.ensemble\"}', None),\n",
       " (384, '205825572803023860022845415596767577316', '{\"ensemble1\": \"UUID(205825572803023860022845415596767577312)\", \"ensemble2\": \"UUID(205825572803023860022845415596767577314)\", \"__class__\": \"IntersectionEnsemble\", \"__module__\": \"openpathsampling.ensemble\"}', None),\n",
       " (385, '205825572803023860022845415596767577324', '{\"ensemble1\": \"UUID(205825572803023860022845415596767577320)\", \"ensemble2\": \"UUID(205825572803023860022845415596767577322)\", \"__class__\": \"IntersectionEnsemble\", \"__module__\": \"openpathsampling.ensemble\"}', None),\n",
       " (386, '205825572803023860022845415596767577332', '{\"ensemble1\": \"UUID(205825572803023860022845415596767577328)\", \"ensemble2\": \"UUID(205825572803023860022845415596767577330)\", \"__class__\": \"IntersectionEnsemble\", \"__module__\": \"openpathsampling.ensemble\"}', None),\n",
       " (387, '46380510405785918200155421121190036192', '{\"ensembles\": [\"UUID(46380510405785918200155421121190036172)\", \"UUID(46380510405785918200155421121190036178)\", \"UUID(46380510405785918200155421121190 ... (2 characters truncated) ... 6190)\"], \"min_overlap\": [0, 0], \"greedy\": false, \"max_overlap\": [0, 0], \"__class__\": \"SequentialEnsemble\", \"__module__\": \"openpathsampling.ensemble\"}', None),\n",
       " (388, '46380510405785918200155421121190036194', '{\"volume\": \"UUID(205825572803023860022845415596767576768)\", \"trusted\": true, \"__class__\": \"PartOutXEnsemble\", \"__module__\": \"openpathsampling.ensemble\"}', None),\n",
       " (389, '205825572803023860022845415596767577346', '{\"ensemble1\": \"UUID(205825572803023860022845415596767577342)\", \"ensemble2\": \"UUID(205825572803023860022845415596767577344)\", \"__class__\": \"IntersectionEnsemble\", \"__module__\": \"openpathsampling.ensemble\"}', None),\n",
       " (390, '205825572803023860022845415596767577354', '{\"ensemble1\": \"UUID(205825572803023860022845415596767577350)\", \"ensemble2\": \"UUID(205825572803023860022845415596767577352)\", \"__class__\": \"IntersectionEnsemble\", \"__module__\": \"openpathsampling.ensemble\"}', None),\n",
       " (391, '205825572803023860022845415596767577362', '{\"ensemble1\": \"UUID(205825572803023860022845415596767577358)\", \"ensemble2\": \"UUID(205825572803023860022845415596767577360)\", \"__class__\": \"IntersectionEnsemble\", \"__module__\": \"openpathsampling.ensemble\"}', None),\n",
       " (392, '46380510405785918200155421121190036254', '{\"ensembles\": [\"UUID(46380510405785918200155421121190036234)\", \"UUID(46380510405785918200155421121190036240)\", \"UUID(46380510405785918200155421121190 ... (2 characters truncated) ... 6252)\"], \"min_overlap\": [0, 0], \"greedy\": false, \"max_overlap\": [0, 0], \"__class__\": \"SequentialEnsemble\", \"__module__\": \"openpathsampling.ensemble\"}', None),\n",
       " (393, '46380510405785918200155421121190036256', '{\"volume\": \"UUID(205825572803023860022845415596767576770)\", \"trusted\": true, \"__class__\": \"PartOutXEnsemble\", \"__module__\": \"openpathsampling.ensemble\"}', None),\n",
       " (394, '205825572803023860022845415596767577372', '{\"volume\": \"UUID(174395458874316017953765140704788480036)\", \"trusted\": true, \"__class__\": \"AllInXEnsemble\", \"__module__\": \"openpathsampling.ensemble\"}', None),\n",
       " (395, '205825572803023860022845415596767577374', '{\"length\": 1, \"__class__\": \"LengthEnsemble\", \"__module__\": \"openpathsampling.ensemble\"}', None),\n",
       " (396, '205825572803023860022845415596767577380', '{\"volume\": \"UUID(205825572803023860022845415596767577378)\", \"trusted\": true, \"__class__\": \"AllOutXEnsemble\", \"__module__\": \"openpathsampling.ensemble\"}', None),\n",
       " (397, '205825572803023860022845415596767577382', '{\"volume\": \"UUID(205825572803023860022845415596767576772)\", \"trusted\": true, \"__class__\": \"PartOutXEnsemble\", \"__module__\": \"openpathsampling.ensemble\"}', None),\n",
       " (398, '205825572803023860022845415596767577388', '{\"volume\": \"UUID(205825572803023860022845415596767577386)\", \"trusted\": true, \"__class__\": \"AllInXEnsemble\", \"__module__\": \"openpathsampling.ensemble\"}', None),\n",
       " (399, '205825572803023860022845415596767577390', '{\"length\": 1, \"__class__\": \"LengthEnsemble\", \"__module__\": \"openpathsampling.ensemble\"}', None),\n",
       " (400, '205825572803023860022845415596767577178', '{\"volume1\": \"UUID(174395458874316017953765140704788480036)\", \"volume2\": \"UUID(205825572803023860022845415596767577134)\", \"__class__\": \"UnionVolume\", \"__module__\": \"openpathsampling.volume\"}', None),\n",
       " (401, '205825572803023860022845415596767577186', '{\"volume1\": \"UUID(174395458874316017953765140704788480036)\", \"volume2\": \"UUID(205825572803023860022845415596767577134)\", \"__class__\": \"UnionVolume\", \"__module__\": \"openpathsampling.volume\"}', None),\n",
       " (402, '46380510405785918200155421121190036040', '{\"ensemble1\": \"UUID(46380510405785918200155421121190036036)\", \"ensemble2\": \"UUID(46380510405785918200155421121190036038)\", \"__class__\": \"IntersectionEnsemble\", \"__module__\": \"openpathsampling.ensemble\"}', None),\n",
       " (403, '46380510405785918200155421121190036046', '{\"trusted\": null, \"ensemble\": \"UUID(46380510405785918200155421121190036044)\", \"__class__\": \"OptionalEnsemble\", \"__module__\": \"openpathsampling.ensemble\"}', None),\n",
       " (404, '46380510405785918200155421121190036058', '{\"ensemble1\": \"UUID(46380510405785918200155421121190036054)\", \"ensemble2\": \"UUID(46380510405785918200155421121190036056)\", \"__class__\": \"IntersectionEnsemble\", \"__module__\": \"openpathsampling.ensemble\"}', None),\n",
       " (405, '205825572803023860022845415596767576830', '{\"volume1\": \"UUID(174395458874316017953765140704788480032)\", \"volume2\": \"UUID(205825572803023860022845415596767576786)\", \"__class__\": \"UnionVolume\", \"__module__\": \"openpathsampling.volume\"}', None),\n",
       " (406, '205825572803023860022845415596767576838', '{\"volume1\": \"UUID(174395458874316017953765140704788480032)\", \"volume2\": \"UUID(205825572803023860022845415596767576786)\", \"__class__\": \"UnionVolume\", \"__module__\": \"openpathsampling.volume\"}', None),\n",
       " (407, '46380510405785918200155421121190035640', '{\"ensemble1\": \"UUID(46380510405785918200155421121190035636)\", \"ensemble2\": \"UUID(46380510405785918200155421121190035638)\", \"__class__\": \"IntersectionEnsemble\", \"__module__\": \"openpathsampling.ensemble\"}', None),\n",
       " (408, '46380510405785918200155421121190035646', '{\"trusted\": null, \"ensemble\": \"UUID(46380510405785918200155421121190035644)\", \"__class__\": \"OptionalEnsemble\", \"__module__\": \"openpathsampling.ensemble\"}', None),\n",
       " (409, '46380510405785918200155421121190035658', '{\"ensemble1\": \"UUID(46380510405785918200155421121190035654)\", \"ensemble2\": \"UUID(46380510405785918200155421121190035656)\", \"__class__\": \"IntersectionEnsemble\", \"__module__\": \"openpathsampling.ensemble\"}', None),\n",
       " (410, '205825572803023860022845415596767576738', '{\"__class__\": \"FullVolume\", \"__module__\": \"openpathsampling.volume\"}', None),\n",
       " (411, '205825572803023860022845415596767576748', '{\"__class__\": \"FullVolume\", \"__module__\": \"openpathsampling.volume\"}', None),\n",
       " (412, '205825572803023860022845415596767576758', '{\"__class__\": \"FullVolume\", \"__module__\": \"openpathsampling.volume\"}', None),\n",
       " (413, '46380510405785918200155421121190036666', '{\"pes1\": \"UUID(46380510405785918200155421121190036662)\", \"pes2\": \"UUID(46380510405785918200155421121190036664)\", \"__class__\": \"PES_Add\", \"__module__\": \"openpathsampling.engines.toy.pes\"}', None),\n",
       " (414, '46380510405785918200155421121190036668', '{\"x0\": [-0.5, -0.5], \"alpha\": [12.0, 12.0], \"A\": -0.7000000000000001, \"__class__\": \"Gaussian\", \"__module__\": \"openpathsampling.engines.toy.pes\"}', None),\n",
       " (415, '46380510405785918200155421121190036782', '{\"ensemble1\": \"UUID(46380510405785918200155421121190036778)\", \"ensemble2\": \"UUID(46380510405785918200155421121190036780)\", \"__class__\": \"IntersectionEnsemble\", \"__module__\": \"openpathsampling.ensemble\"}', None),\n",
       " (416, '46380510405785918200155421121190036786', '{\"trusted\": null, \"ensemble\": \"UUID(46380510405785918200155421121190036784)\", \"__class__\": \"OptionalEnsemble\", \"__module__\": \"openpathsampling.ensemble\"}', None),\n",
       " (417, '46380510405785918200155421121190036796', '{\"ensemble1\": \"UUID(46380510405785918200155421121190036792)\", \"ensemble2\": \"UUID(46380510405785918200155421121190036794)\", \"__class__\": \"IntersectionEnsemble\", \"__module__\": \"openpathsampling.ensemble\"}', None),\n",
       " (418, '46380510405785918200155421121190036898', '{\"ensemble1\": \"UUID(46380510405785918200155421121190036894)\", \"ensemble2\": \"UUID(46380510405785918200155421121190036896)\", \"__class__\": \"IntersectionEnsemble\", \"__module__\": \"openpathsampling.ensemble\"}', None),\n",
       " (419, '46380510405785918200155421121190036902', '{\"trusted\": null, \"ensemble\": \"UUID(46380510405785918200155421121190036900)\", \"__class__\": \"OptionalEnsemble\", \"__module__\": \"openpathsampling.ensemble\"}', None),\n",
       " (420, '46380510405785918200155421121190036912', '{\"ensemble1\": \"UUID(46380510405785918200155421121190036908)\", \"ensemble2\": \"UUID(46380510405785918200155421121190036910)\", \"__class__\": \"IntersectionEnsemble\", \"__module__\": \"openpathsampling.ensemble\"}', None),\n",
       " (421, '46380510405785918200155421121190037014', '{\"ensemble1\": \"UUID(46380510405785918200155421121190037010)\", \"ensemble2\": \"UUID(46380510405785918200155421121190037012)\", \"__class__\": \"IntersectionEnsemble\", \"__module__\": \"openpathsampling.ensemble\"}', None),\n",
       " (422, '46380510405785918200155421121190037018', '{\"trusted\": null, \"ensemble\": \"UUID(46380510405785918200155421121190037016)\", \"__class__\": \"OptionalEnsemble\", \"__module__\": \"openpathsampling.ensemble\"}', None),\n",
       " (423, '46380510405785918200155421121190037028', '{\"ensemble1\": \"UUID(46380510405785918200155421121190037024)\", \"ensemble2\": \"UUID(46380510405785918200155421121190037026)\", \"__class__\": \"IntersectionEnsemble\", \"__module__\": \"openpathsampling.ensemble\"}', None),\n",
       " (424, '46380510405785918200155421121190036514', '{\"volume\": \"UUID(174395458874316017953765140704788480036)\", \"trusted\": true, \"__class__\": \"AllInXEnsemble\", \"__module__\": \"openpathsampling.ensemble\"}', None),\n",
       " (425, '46380510405785918200155421121190036524', '{\"volume\": \"UUID(46380510405785918200155421121190036522)\", \"trusted\": true, \"__class__\": \"AllInXEnsemble\", \"__module__\": \"openpathsampling.ensemble\"}', None),\n",
       " (426, '46380510405785918200155421121190036534', '{\"ensemble1\": \"UUID(46380510405785918200155421121190036530)\", \"ensemble2\": \"UUID(46380510405785918200155421121190036532)\", \"__class__\": \"IntersectionEnsemble\", \"__module__\": \"openpathsampling.ensemble\"}', None),\n",
       " (427, '46380510405785918200155421121190036538', '{\"trusted\": null, \"ensemble\": \"UUID(46380510405785918200155421121190036536)\", \"__class__\": \"OptionalEnsemble\", \"__module__\": \"openpathsampling.ensemble\"}', None),\n",
       " (428, '46380510405785918200155421121190036548', '{\"ensemble1\": \"UUID(46380510405785918200155421121190036544)\", \"ensemble2\": \"UUID(46380510405785918200155421121190036546)\", \"__class__\": \"IntersectionEnsemble\", \"__module__\": \"openpathsampling.ensemble\"}', None),\n",
       " (429, '46380510405785918200155421121190036428', '{\"volume\": \"UUID(174395458874316017953765140704788480034)\", \"trusted\": true, \"__class__\": \"AllInXEnsemble\", \"__module__\": \"openpathsampling.ensemble\"}', None),\n",
       " (430, '46380510405785918200155421121190036438', '{\"volume\": \"UUID(46380510405785918200155421121190036436)\", \"trusted\": true, \"__class__\": \"AllInXEnsemble\", \"__module__\": \"openpathsampling.ensemble\"}', None),\n",
       " (431, '46380510405785918200155421121190036448', '{\"ensemble1\": \"UUID(46380510405785918200155421121190036444)\", \"ensemble2\": \"UUID(46380510405785918200155421121190036446)\", \"__class__\": \"IntersectionEnsemble\", \"__module__\": \"openpathsampling.ensemble\"}', None),\n",
       " (432, '46380510405785918200155421121190036452', '{\"trusted\": null, \"ensemble\": \"UUID(46380510405785918200155421121190036450)\", \"__class__\": \"OptionalEnsemble\", \"__module__\": \"openpathsampling.ensemble\"}', None),\n",
       " (433, '46380510405785918200155421121190036462', '{\"ensemble1\": \"UUID(46380510405785918200155421121190036458)\", \"ensemble2\": \"UUID(46380510405785918200155421121190036460)\", \"__class__\": \"IntersectionEnsemble\", \"__module__\": \"openpathsampling.ensemble\"}', None),\n",
       " (434, '46380510405785918200155421121190035970', '{\"volume\": \"UUID(174395458874316017953765140704788480036)\", \"trusted\": true, \"__class__\": \"AllInXEnsemble\", \"__module__\": \"openpathsampling.ensemble\"}', None),\n",
       " (435, '46380510405785918200155421121190035972', '{\"length\": 1, \"__class__\": \"LengthEnsemble\", \"__module__\": \"openpathsampling.ensemble\"}', None),\n",
       " (436, '46380510405785918200155421121190035978', '{\"volume\": \"UUID(46380510405785918200155421121190035976)\", \"trusted\": true, \"__class__\": \"AllOutXEnsemble\", \"__module__\": \"openpathsampling.ensemble\"}', None),\n",
       " (437, '46380510405785918200155421121190035988', '{\"volume\": \"UUID(46380510405785918200155421121190035986)\", \"trusted\": true, \"__class__\": \"AllInXEnsemble\", \"__module__\": \"openpathsampling.ensemble\"}', None),\n",
       " (438, '46380510405785918200155421121190035990', '{\"length\": 1, \"__class__\": \"LengthEnsemble\", \"__module__\": \"openpathsampling.ensemble\"}', None),\n",
       " (439, '46380510405785918200155421121190035702', '{\"volume\": \"UUID(174395458874316017953765140704788480032)\", \"trusted\": true, \"__class__\": \"AllInXEnsemble\", \"__module__\": \"openpathsampling.ensemble\"}', None),\n",
       " (440, '46380510405785918200155421121190035704', '{\"length\": 1, \"__class__\": \"LengthEnsemble\", \"__module__\": \"openpathsampling.ensemble\"}', None),\n",
       " (441, '46380510405785918200155421121190035710', '{\"volume\": \"UUID(46380510405785918200155421121190035708)\", \"trusted\": true, \"__class__\": \"AllOutXEnsemble\", \"__module__\": \"openpathsampling.ensemble\"}', None),\n",
       " (442, '46380510405785918200155421121190035720', '{\"volume\": \"UUID(46380510405785918200155421121190035718)\", \"trusted\": true, \"__class__\": \"AllInXEnsemble\", \"__module__\": \"openpathsampling.ensemble\"}', None),\n",
       " (443, '46380510405785918200155421121190035722', '{\"length\": 1, \"__class__\": \"LengthEnsemble\", \"__module__\": \"openpathsampling.ensemble\"}', None),\n",
       " (444, '46380510405785918200155421121190035902', '{\"volume\": \"UUID(174395458874316017953765140704788480034)\", \"trusted\": true, \"__class__\": \"AllInXEnsemble\", \"__module__\": \"openpathsampling.ensemble\"}', None),\n",
       " (445, '46380510405785918200155421121190035904', '{\"length\": 1, \"__class__\": \"LengthEnsemble\", \"__module__\": \"openpathsampling.ensemble\"}', None),\n",
       " (446, '46380510405785918200155421121190035910', '{\"volume\": \"UUID(46380510405785918200155421121190035908)\", \"trusted\": true, \"__class__\": \"AllOutXEnsemble\", \"__module__\": \"openpathsampling.ensemble\"}', None),\n",
       " (447, '46380510405785918200155421121190035920', '{\"volume\": \"UUID(46380510405785918200155421121190035918)\", \"trusted\": true, \"__class__\": \"AllInXEnsemble\", \"__module__\": \"openpathsampling.ensemble\"}', None),\n",
       " (448, '46380510405785918200155421121190035922', '{\"length\": 1, \"__class__\": \"LengthEnsemble\", \"__module__\": \"openpathsampling.ensemble\"}', None),\n",
       " (449, '46380510405785918200155421121190036342', '{\"volume\": \"UUID(174395458874316017953765140704788480032)\", \"trusted\": true, \"__class__\": \"AllInXEnsemble\", \"__module__\": \"openpathsampling.ensemble\"}', None),\n",
       " (450, '46380510405785918200155421121190036352', '{\"volume\": \"UUID(46380510405785918200155421121190036350)\", \"trusted\": true, \"__class__\": \"AllInXEnsemble\", \"__module__\": \"openpathsampling.ensemble\"}', None),\n",
       " (451, '46380510405785918200155421121190036362', '{\"ensemble1\": \"UUID(46380510405785918200155421121190036358)\", \"ensemble2\": \"UUID(46380510405785918200155421121190036360)\", \"__class__\": \"IntersectionEnsemble\", \"__module__\": \"openpathsampling.ensemble\"}', None),\n",
       " (452, '46380510405785918200155421121190036366', '{\"trusted\": null, \"ensemble\": \"UUID(46380510405785918200155421121190036364)\", \"__class__\": \"OptionalEnsemble\", \"__module__\": \"openpathsampling.ensemble\"}', None),\n",
       " (453, '46380510405785918200155421121190036376', '{\"ensemble1\": \"UUID(46380510405785918200155421121190036372)\", \"ensemble2\": \"UUID(46380510405785918200155421121190036374)\", \"__class__\": \"IntersectionEnsemble\", \"__module__\": \"openpathsampling.ensemble\"}', None),\n",
       " (454, '46380510405785918200155421121190036102', '{\"volume\": \"UUID(174395458874316017953765140704788480036)\", \"trusted\": true, \"__class__\": \"AllInXEnsemble\", \"__module__\": \"openpathsampling.ensemble\"}', None),\n",
       " (455, '46380510405785918200155421121190036104', '{\"length\": 1, \"__class__\": \"LengthEnsemble\", \"__module__\": \"openpathsampling.ensemble\"}', None),\n",
       " (456, '46380510405785918200155421121190036110', '{\"volume\": \"UUID(46380510405785918200155421121190036108)\", \"trusted\": true, \"__class__\": \"AllOutXEnsemble\", \"__module__\": \"openpathsampling.ensemble\"}', None),\n",
       " (457, '46380510405785918200155421121190036120', '{\"volume\": \"UUID(46380510405785918200155421121190036118)\", \"trusted\": true, \"__class__\": \"AllInXEnsemble\", \"__module__\": \"openpathsampling.ensemble\"}', None),\n",
       " (458, '46380510405785918200155421121190036122', '{\"length\": 1, \"__class__\": \"LengthEnsemble\", \"__module__\": \"openpathsampling.ensemble\"}', None),\n",
       " (459, '46380510405785918200155421121190035570', '{\"volume\": \"UUID(174395458874316017953765140704788480032)\", \"trusted\": true, \"__class__\": \"AllInXEnsemble\", \"__module__\": \"openpathsampling.ensemble\"}', None),\n",
       " (460, '46380510405785918200155421121190035572', '{\"length\": 1, \"__class__\": \"LengthEnsemble\", \"__module__\": \"openpathsampling.ensemble\"}', None),\n",
       " (461, '46380510405785918200155421121190035578', '{\"volume\": \"UUID(46380510405785918200155421121190035576)\", \"trusted\": true, \"__class__\": \"AllOutXEnsemble\", \"__module__\": \"openpathsampling.ensemble\"}', None),\n",
       " (462, '46380510405785918200155421121190035588', '{\"volume\": \"UUID(46380510405785918200155421121190035586)\", \"trusted\": true, \"__class__\": \"AllInXEnsemble\", \"__module__\": \"openpathsampling.ensemble\"}', None),\n",
       " (463, '46380510405785918200155421121190035590', '{\"length\": 1, \"__class__\": \"LengthEnsemble\", \"__module__\": \"openpathsampling.ensemble\"}', None),\n",
       " (464, '46380510405785918200155421121190035836', '{\"volume\": \"UUID(174395458874316017953765140704788480034)\", \"trusted\": true, \"__class__\": \"AllInXEnsemble\", \"__module__\": \"openpathsampling.ensemble\"}', None),\n",
       " (465, '46380510405785918200155421121190035838', '{\"length\": 1, \"__class__\": \"LengthEnsemble\", \"__module__\": \"openpathsampling.ensemble\"}', None),\n",
       " (466, '46380510405785918200155421121190035844', '{\"volume\": \"UUID(46380510405785918200155421121190035842)\", \"trusted\": true, \"__class__\": \"AllOutXEnsemble\", \"__module__\": \"openpathsampling.ensemble\"}', None),\n",
       " (467, '46380510405785918200155421121190035854', '{\"volume\": \"UUID(46380510405785918200155421121190035852)\", \"trusted\": true, \"__class__\": \"AllInXEnsemble\", \"__module__\": \"openpathsampling.ensemble\"}', None),\n",
       " (468, '46380510405785918200155421121190035856', '{\"length\": 1, \"__class__\": \"LengthEnsemble\", \"__module__\": \"openpathsampling.ensemble\"}', None),\n",
       " (469, '46380510405785918200155421121190035770', '{\"volume\": \"UUID(174395458874316017953765140704788480034)\", \"trusted\": true, \"__class__\": \"AllInXEnsemble\", \"__module__\": \"openpathsampling.ensemble\"}', None),\n",
       " (470, '46380510405785918200155421121190035772', '{\"length\": 1, \"__class__\": \"LengthEnsemble\", \"__module__\": \"openpathsampling.ensemble\"}', None),\n",
       " (471, '46380510405785918200155421121190035778', '{\"volume\": \"UUID(46380510405785918200155421121190035776)\", \"trusted\": true, \"__class__\": \"AllOutXEnsemble\", \"__module__\": \"openpathsampling.ensemble\"}', None),\n",
       " (472, '46380510405785918200155421121190035788', '{\"volume\": \"UUID(46380510405785918200155421121190035786)\", \"trusted\": true, \"__class__\": \"AllInXEnsemble\", \"__module__\": \"openpathsampling.ensemble\"}', None),\n",
       " (473, '46380510405785918200155421121190035790', '{\"length\": 1, \"__class__\": \"LengthEnsemble\", \"__module__\": \"openpathsampling.ensemble\"}', None),\n",
       " (474, '205825572803023860022845415596767577312', '{\"volume\": \"UUID(174395458874316017953765140704788480032)\", \"trusted\": true, \"__class__\": \"AllInXEnsemble\", \"__module__\": \"openpathsampling.ensemble\"}', None),\n",
       " (475, '205825572803023860022845415596767577314', '{\"length\": 1, \"__class__\": \"LengthEnsemble\", \"__module__\": \"openpathsampling.ensemble\"}', None),\n",
       " (476, '205825572803023860022845415596767577320', '{\"volume\": \"UUID(205825572803023860022845415596767577318)\", \"trusted\": true, \"__class__\": \"AllOutXEnsemble\", \"__module__\": \"openpathsampling.ensemble\"}', None),\n",
       " (477, '205825572803023860022845415596767577322', '{\"volume\": \"UUID(205825572803023860022845415596767576768)\", \"trusted\": true, \"__class__\": \"PartOutXEnsemble\", \"__module__\": \"openpathsampling.ensemble\"}', None),\n",
       " (478, '205825572803023860022845415596767577328', '{\"volume\": \"UUID(205825572803023860022845415596767577326)\", \"trusted\": true, \"__class__\": \"AllInXEnsemble\", \"__module__\": \"openpathsampling.ensemble\"}', None),\n",
       " (479, '205825572803023860022845415596767577330', '{\"length\": 1, \"__class__\": \"LengthEnsemble\", \"__module__\": \"openpathsampling.ensemble\"}', None),\n",
       " (480, '205825572803023860022845415596767577342', '{\"volume\": \"UUID(174395458874316017953765140704788480034)\", \"trusted\": true, \"__class__\": \"AllInXEnsemble\", \"__module__\": \"openpathsampling.ensemble\"}', None),\n",
       " (481, '205825572803023860022845415596767577344', '{\"length\": 1, \"__class__\": \"LengthEnsemble\", \"__module__\": \"openpathsampling.ensemble\"}', None),\n",
       " (482, '205825572803023860022845415596767577350', '{\"volume\": \"UUID(205825572803023860022845415596767577348)\", \"trusted\": true, \"__class__\": \"AllOutXEnsemble\", \"__module__\": \"openpathsampling.ensemble\"}', None),\n",
       " (483, '205825572803023860022845415596767577352', '{\"volume\": \"UUID(205825572803023860022845415596767576770)\", \"trusted\": true, \"__class__\": \"PartOutXEnsemble\", \"__module__\": \"openpathsampling.ensemble\"}', None),\n",
       " (484, '205825572803023860022845415596767577358', '{\"volume\": \"UUID(205825572803023860022845415596767577356)\", \"trusted\": true, \"__class__\": \"AllInXEnsemble\", \"__module__\": \"openpathsampling.ensemble\"}', None),\n",
       " (485, '205825572803023860022845415596767577360', '{\"length\": 1, \"__class__\": \"LengthEnsemble\", \"__module__\": \"openpathsampling.ensemble\"}', None),\n",
       " (486, '205825572803023860022845415596767577378', '{\"volume1\": \"UUID(174395458874316017953765140704788480036)\", \"volume2\": \"UUID(205825572803023860022845415596767577134)\", \"__class__\": \"UnionVolume\", \"__module__\": \"openpathsampling.volume\"}', None),\n",
       " (487, '205825572803023860022845415596767577386', '{\"volume1\": \"UUID(174395458874316017953765140704788480036)\", \"volume2\": \"UUID(205825572803023860022845415596767577134)\", \"__class__\": \"UnionVolume\", \"__module__\": \"openpathsampling.volume\"}', None),\n",
       " (488, '46380510405785918200155421121190036298', '{\"ensemble1\": \"UUID(46380510405785918200155421121190036294)\", \"ensemble2\": \"UUID(46380510405785918200155421121190036296)\", \"__class__\": \"IntersectionEnsemble\", \"__module__\": \"openpathsampling.ensemble\"}', None),\n",
       " (489, '46380510405785918200155421121190036304', '{\"trusted\": null, \"ensemble\": \"UUID(46380510405785918200155421121190036302)\", \"__class__\": \"OptionalEnsemble\", \"__module__\": \"openpathsampling.ensemble\"}', None),\n",
       " (490, '46380510405785918200155421121190036316', '{\"ensemble1\": \"UUID(46380510405785918200155421121190036312)\", \"ensemble2\": \"UUID(46380510405785918200155421121190036314)\", \"__class__\": \"IntersectionEnsemble\", \"__module__\": \"openpathsampling.ensemble\"}', None),\n",
       " (491, '46380510405785918200155421121190036036', '{\"volume\": \"UUID(174395458874316017953765140704788480036)\", \"trusted\": true, \"__class__\": \"AllInXEnsemble\", \"__module__\": \"openpathsampling.ensemble\"}', None),\n",
       " (492, '46380510405785918200155421121190036038', '{\"length\": 1, \"__class__\": \"LengthEnsemble\", \"__module__\": \"openpathsampling.ensemble\"}', None),\n",
       " (493, '46380510405785918200155421121190036044', '{\"volume\": \"UUID(46380510405785918200155421121190036042)\", \"trusted\": true, \"__class__\": \"AllOutXEnsemble\", \"__module__\": \"openpathsampling.ensemble\"}', None),\n",
       " (494, '46380510405785918200155421121190036054', '{\"volume\": \"UUID(46380510405785918200155421121190036052)\", \"trusted\": true, \"__class__\": \"AllInXEnsemble\", \"__module__\": \"openpathsampling.ensemble\"}', None),\n",
       " (495, '46380510405785918200155421121190036056', '{\"length\": 1, \"__class__\": \"LengthEnsemble\", \"__module__\": \"openpathsampling.ensemble\"}', None),\n",
       " (496, '46380510405785918200155421121190035636', '{\"volume\": \"UUID(174395458874316017953765140704788480032)\", \"trusted\": true, \"__class__\": \"AllInXEnsemble\", \"__module__\": \"openpathsampling.ensemble\"}', None),\n",
       " (497, '46380510405785918200155421121190035638', '{\"length\": 1, \"__class__\": \"LengthEnsemble\", \"__module__\": \"openpathsampling.ensemble\"}', None),\n",
       " (498, '46380510405785918200155421121190035644', '{\"volume\": \"UUID(46380510405785918200155421121190035642)\", \"trusted\": true, \"__class__\": \"AllOutXEnsemble\", \"__module__\": \"openpathsampling.ensemble\"}', None),\n",
       " (499, '46380510405785918200155421121190035654', '{\"volume\": \"UUID(46380510405785918200155421121190035652)\", \"trusted\": true, \"__class__\": \"AllInXEnsemble\", \"__module__\": \"openpathsampling.ensemble\"}', None),\n",
       " (500, '46380510405785918200155421121190035656', '{\"length\": 1, \"__class__\": \"LengthEnsemble\", \"__module__\": \"openpathsampling.ensemble\"}', None),\n",
       " (501, '46380510405785918200155421121190036662', '{\"sigma\": [1.0, 1.0], \"x0\": [0.0, 0.0], \"__class__\": \"OuterWalls\", \"__module__\": \"openpathsampling.engines.toy.pes\"}', None),\n",
       " (502, '46380510405785918200155421121190036664', '{\"x0\": [0.0, 0.4], \"alpha\": [12.0, 12.0], \"A\": -0.7000000000000001, \"__class__\": \"Gaussian\", \"__module__\": \"openpathsampling.engines.toy.pes\"}', None),\n",
       " (503, '46380510405785918200155421121190036778', '{\"volume\": \"UUID(174395458874316017953765140704788480032)\", \"trusted\": true, \"__class__\": \"AllInXEnsemble\", \"__module__\": \"openpathsampling.ensemble\"}', None),\n",
       " (504, '46380510405785918200155421121190036780', '{\"length\": 1, \"__class__\": \"LengthEnsemble\", \"__module__\": \"openpathsampling.ensemble\"}', None),\n",
       " (505, '46380510405785918200155421121190036784', '{\"volume\": \"UUID(174395458874316017953765140704788480032)\", \"trusted\": true, \"__class__\": \"AllOutXEnsemble\", \"__module__\": \"openpathsampling.ensemble\"}', None),\n",
       " (506, '46380510405785918200155421121190036792', '{\"volume\": \"UUID(174395458874316017953765140704788480032)\", \"trusted\": true, \"__class__\": \"AllInXEnsemble\", \"__module__\": \"openpathsampling.ensemble\"}', None),\n",
       " (507, '46380510405785918200155421121190036794', '{\"length\": 1, \"__class__\": \"LengthEnsemble\", \"__module__\": \"openpathsampling.ensemble\"}', None),\n",
       " (508, '46380510405785918200155421121190036894', '{\"volume\": \"UUID(174395458874316017953765140704788480034)\", \"trusted\": true, \"__class__\": \"AllInXEnsemble\", \"__module__\": \"openpathsampling.ensemble\"}', None),\n",
       " (509, '46380510405785918200155421121190036896', '{\"length\": 1, \"__class__\": \"LengthEnsemble\", \"__module__\": \"openpathsampling.ensemble\"}', None),\n",
       " (510, '46380510405785918200155421121190036900', '{\"volume\": \"UUID(174395458874316017953765140704788480034)\", \"trusted\": true, \"__class__\": \"AllOutXEnsemble\", \"__module__\": \"openpathsampling.ensemble\"}', None),\n",
       " (511, '46380510405785918200155421121190036908', '{\"volume\": \"UUID(174395458874316017953765140704788480034)\", \"trusted\": true, \"__class__\": \"AllInXEnsemble\", \"__module__\": \"openpathsampling.ensemble\"}', None),\n",
       " (512, '46380510405785918200155421121190036910', '{\"length\": 1, \"__class__\": \"LengthEnsemble\", \"__module__\": \"openpathsampling.ensemble\"}', None),\n",
       " (513, '46380510405785918200155421121190037010', '{\"volume\": \"UUID(174395458874316017953765140704788480036)\", \"trusted\": true, \"__class__\": \"AllInXEnsemble\", \"__module__\": \"openpathsampling.ensemble\"}', None),\n",
       " (514, '46380510405785918200155421121190037012', '{\"length\": 1, \"__class__\": \"LengthEnsemble\", \"__module__\": \"openpathsampling.ensemble\"}', None),\n",
       " (515, '46380510405785918200155421121190037016', '{\"volume\": \"UUID(174395458874316017953765140704788480036)\", \"trusted\": true, \"__class__\": \"AllOutXEnsemble\", \"__module__\": \"openpathsampling.ensemble\"}', None),\n",
       " (516, '46380510405785918200155421121190037024', '{\"volume\": \"UUID(174395458874316017953765140704788480036)\", \"trusted\": true, \"__class__\": \"AllInXEnsemble\", \"__module__\": \"openpathsampling.ensemble\"}', None),\n",
       " (517, '46380510405785918200155421121190037026', '{\"length\": 1, \"__class__\": \"LengthEnsemble\", \"__module__\": \"openpathsampling.ensemble\"}', None),\n",
       " (518, '46380510405785918200155421121190036522', '{\"__class__\": \"EmptyVolume\", \"__module__\": \"openpathsampling.volume\"}', None),\n",
       " (519, '46380510405785918200155421121190036530', '{\"volume\": \"UUID(174395458874316017953765140704788480036)\", \"trusted\": true, \"__class__\": \"AllInXEnsemble\", \"__module__\": \"openpathsampling.ensemble\"}', None),\n",
       " (520, '46380510405785918200155421121190036532', '{\"length\": 1, \"__class__\": \"LengthEnsemble\", \"__module__\": \"openpathsampling.ensemble\"}', None),\n",
       " (521, '46380510405785918200155421121190036536', '{\"volume\": \"UUID(174395458874316017953765140704788480036)\", \"trusted\": true, \"__class__\": \"AllOutXEnsemble\", \"__module__\": \"openpathsampling.ensemble\"}', None),\n",
       " (522, '46380510405785918200155421121190036544', '{\"volume\": \"UUID(174395458874316017953765140704788480036)\", \"trusted\": true, \"__class__\": \"AllInXEnsemble\", \"__module__\": \"openpathsampling.ensemble\"}', None),\n",
       " (523, '46380510405785918200155421121190036546', '{\"length\": 1, \"__class__\": \"LengthEnsemble\", \"__module__\": \"openpathsampling.ensemble\"}', None),\n",
       " (524, '46380510405785918200155421121190036436', '{\"__class__\": \"EmptyVolume\", \"__module__\": \"openpathsampling.volume\"}', None),\n",
       " (525, '46380510405785918200155421121190036444', '{\"volume\": \"UUID(174395458874316017953765140704788480034)\", \"trusted\": true, \"__class__\": \"AllInXEnsemble\", \"__module__\": \"openpathsampling.ensemble\"}', None),\n",
       " (526, '46380510405785918200155421121190036446', '{\"length\": 1, \"__class__\": \"LengthEnsemble\", \"__module__\": \"openpathsampling.ensemble\"}', None),\n",
       " (527, '46380510405785918200155421121190036450', '{\"volume\": \"UUID(174395458874316017953765140704788480034)\", \"trusted\": true, \"__class__\": \"AllOutXEnsemble\", \"__module__\": \"openpathsampling.ensemble\"}', None),\n",
       " (528, '46380510405785918200155421121190036458', '{\"volume\": \"UUID(174395458874316017953765140704788480034)\", \"trusted\": true, \"__class__\": \"AllInXEnsemble\", \"__module__\": \"openpathsampling.ensemble\"}', None),\n",
       " (529, '46380510405785918200155421121190036460', '{\"length\": 1, \"__class__\": \"LengthEnsemble\", \"__module__\": \"openpathsampling.ensemble\"}', None),\n",
       " (530, '46380510405785918200155421121190035976', '{\"volume1\": \"UUID(174395458874316017953765140704788480036)\", \"volume2\": \"UUID(205825572803023860022845415596767577134)\", \"__class__\": \"UnionVolume\", \"__module__\": \"openpathsampling.volume\"}', None),\n",
       " (531, '46380510405785918200155421121190035986', '{\"volume1\": \"UUID(174395458874316017953765140704788480036)\", \"volume2\": \"UUID(205825572803023860022845415596767577134)\", \"__class__\": \"UnionVolume\", \"__module__\": \"openpathsampling.volume\"}', None),\n",
       " (532, '46380510405785918200155421121190035708', '{\"volume1\": \"UUID(174395458874316017953765140704788480032)\", \"volume2\": \"UUID(205825572803023860022845415596767576786)\", \"__class__\": \"UnionVolume\", \"__module__\": \"openpathsampling.volume\"}', None),\n",
       " (533, '46380510405785918200155421121190035718', '{\"volume1\": \"UUID(174395458874316017953765140704788480032)\", \"volume2\": \"UUID(205825572803023860022845415596767576786)\", \"__class__\": \"UnionVolume\", \"__module__\": \"openpathsampling.volume\"}', None),\n",
       " (534, '46380510405785918200155421121190035908', '{\"volume1\": \"UUID(174395458874316017953765140704788480034)\", \"volume2\": \"UUID(205825572803023860022845415596767576960)\", \"__class__\": \"UnionVolume\", \"__module__\": \"openpathsampling.volume\"}', None),\n",
       " (535, '46380510405785918200155421121190035918', '{\"volume1\": \"UUID(174395458874316017953765140704788480034)\", \"volume2\": \"UUID(205825572803023860022845415596767576960)\", \"__class__\": \"UnionVolume\", \"__module__\": \"openpathsampling.volume\"}', None),\n",
       " (536, '46380510405785918200155421121190036350', '{\"__class__\": \"EmptyVolume\", \"__module__\": \"openpathsampling.volume\"}', None),\n",
       " (537, '46380510405785918200155421121190036358', '{\"volume\": \"UUID(174395458874316017953765140704788480032)\", \"trusted\": true, \"__class__\": \"AllInXEnsemble\", \"__module__\": \"openpathsampling.ensemble\"}', None),\n",
       " (538, '46380510405785918200155421121190036360', '{\"length\": 1, \"__class__\": \"LengthEnsemble\", \"__module__\": \"openpathsampling.ensemble\"}', None),\n",
       " (539, '46380510405785918200155421121190036364', '{\"volume\": \"UUID(174395458874316017953765140704788480032)\", \"trusted\": true, \"__class__\": \"AllOutXEnsemble\", \"__module__\": \"openpathsampling.ensemble\"}', None),\n",
       " (540, '46380510405785918200155421121190036372', '{\"volume\": \"UUID(174395458874316017953765140704788480032)\", \"trusted\": true, \"__class__\": \"AllInXEnsemble\", \"__module__\": \"openpathsampling.ensemble\"}', None),\n",
       " (541, '46380510405785918200155421121190036374', '{\"length\": 1, \"__class__\": \"LengthEnsemble\", \"__module__\": \"openpathsampling.ensemble\"}', None),\n",
       " (542, '46380510405785918200155421121190036108', '{\"volume1\": \"UUID(174395458874316017953765140704788480036)\", \"volume2\": \"UUID(205825572803023860022845415596767577134)\", \"__class__\": \"UnionVolume\", \"__module__\": \"openpathsampling.volume\"}', None),\n",
       " (543, '46380510405785918200155421121190036118', '{\"volume1\": \"UUID(174395458874316017953765140704788480036)\", \"volume2\": \"UUID(205825572803023860022845415596767577134)\", \"__class__\": \"UnionVolume\", \"__module__\": \"openpathsampling.volume\"}', None),\n",
       " (544, '46380510405785918200155421121190035576', '{\"volume1\": \"UUID(174395458874316017953765140704788480032)\", \"volume2\": \"UUID(205825572803023860022845415596767576786)\", \"__class__\": \"UnionVolume\", \"__module__\": \"openpathsampling.volume\"}', None),\n",
       " (545, '46380510405785918200155421121190035586', '{\"volume1\": \"UUID(174395458874316017953765140704788480032)\", \"volume2\": \"UUID(205825572803023860022845415596767576786)\", \"__class__\": \"UnionVolume\", \"__module__\": \"openpathsampling.volume\"}', None),\n",
       " (546, '46380510405785918200155421121190035842', '{\"volume1\": \"UUID(174395458874316017953765140704788480034)\", \"volume2\": \"UUID(205825572803023860022845415596767576960)\", \"__class__\": \"UnionVolume\", \"__module__\": \"openpathsampling.volume\"}', None),\n",
       " (547, '46380510405785918200155421121190035852', '{\"volume1\": \"UUID(174395458874316017953765140704788480034)\", \"volume2\": \"UUID(205825572803023860022845415596767576960)\", \"__class__\": \"UnionVolume\", \"__module__\": \"openpathsampling.volume\"}', None),\n",
       " (548, '46380510405785918200155421121190035776', '{\"volume1\": \"UUID(174395458874316017953765140704788480034)\", \"volume2\": \"UUID(205825572803023860022845415596767576960)\", \"__class__\": \"UnionVolume\", \"__module__\": \"openpathsampling.volume\"}', None),\n",
       " (549, '46380510405785918200155421121190035786', '{\"volume1\": \"UUID(174395458874316017953765140704788480034)\", \"volume2\": \"UUID(205825572803023860022845415596767576960)\", \"__class__\": \"UnionVolume\", \"__module__\": \"openpathsampling.volume\"}', None),\n",
       " (550, '205825572803023860022845415596767577318', '{\"volume1\": \"UUID(174395458874316017953765140704788480032)\", \"volume2\": \"UUID(205825572803023860022845415596767576786)\", \"__class__\": \"UnionVolume\", \"__module__\": \"openpathsampling.volume\"}', None),\n",
       " (551, '205825572803023860022845415596767577326', '{\"volume1\": \"UUID(174395458874316017953765140704788480032)\", \"volume2\": \"UUID(205825572803023860022845415596767576786)\", \"__class__\": \"UnionVolume\", \"__module__\": \"openpathsampling.volume\"}', None),\n",
       " (552, '46380510405785918200155421121190036172', '{\"ensemble1\": \"UUID(46380510405785918200155421121190036168)\", \"ensemble2\": \"UUID(46380510405785918200155421121190036170)\", \"__class__\": \"IntersectionEnsemble\", \"__module__\": \"openpathsampling.ensemble\"}', None),\n",
       " (553, '46380510405785918200155421121190036178', '{\"trusted\": null, \"ensemble\": \"UUID(46380510405785918200155421121190036176)\", \"__class__\": \"OptionalEnsemble\", \"__module__\": \"openpathsampling.ensemble\"}', None),\n",
       " (554, '46380510405785918200155421121190036190', '{\"ensemble1\": \"UUID(46380510405785918200155421121190036186)\", \"ensemble2\": \"UUID(46380510405785918200155421121190036188)\", \"__class__\": \"IntersectionEnsemble\", \"__module__\": \"openpathsampling.ensemble\"}', None),\n",
       " (555, '205825572803023860022845415596767577348', '{\"volume1\": \"UUID(174395458874316017953765140704788480034)\", \"volume2\": \"UUID(205825572803023860022845415596767576960)\", \"__class__\": \"UnionVolume\", \"__module__\": \"openpathsampling.volume\"}', None),\n",
       " (556, '205825572803023860022845415596767577356', '{\"volume1\": \"UUID(174395458874316017953765140704788480034)\", \"volume2\": \"UUID(205825572803023860022845415596767576960)\", \"__class__\": \"UnionVolume\", \"__module__\": \"openpathsampling.volume\"}', None),\n",
       " (557, '46380510405785918200155421121190036234', '{\"ensemble1\": \"UUID(46380510405785918200155421121190036230)\", \"ensemble2\": \"UUID(46380510405785918200155421121190036232)\", \"__class__\": \"IntersectionEnsemble\", \"__module__\": \"openpathsampling.ensemble\"}', None),\n",
       " (558, '46380510405785918200155421121190036240', '{\"trusted\": null, \"ensemble\": \"UUID(46380510405785918200155421121190036238)\", \"__class__\": \"OptionalEnsemble\", \"__module__\": \"openpathsampling.ensemble\"}', None),\n",
       " (559, '46380510405785918200155421121190036252', '{\"ensemble1\": \"UUID(46380510405785918200155421121190036248)\", \"ensemble2\": \"UUID(46380510405785918200155421121190036250)\", \"__class__\": \"IntersectionEnsemble\", \"__module__\": \"openpathsampling.ensemble\"}', None),\n",
       " (560, '46380510405785918200155421121190036294', '{\"volume\": \"UUID(174395458874316017953765140704788480036)\", \"trusted\": true, \"__class__\": \"AllInXEnsemble\", \"__module__\": \"openpathsampling.ensemble\"}', None),\n",
       " (561, '46380510405785918200155421121190036296', '{\"length\": 1, \"__class__\": \"LengthEnsemble\", \"__module__\": \"openpathsampling.ensemble\"}', None),\n",
       " (562, '46380510405785918200155421121190036302', '{\"volume\": \"UUID(46380510405785918200155421121190036300)\", \"trusted\": true, \"__class__\": \"AllOutXEnsemble\", \"__module__\": \"openpathsampling.ensemble\"}', None),\n",
       " (563, '46380510405785918200155421121190036312', '{\"volume\": \"UUID(46380510405785918200155421121190036310)\", \"trusted\": true, \"__class__\": \"AllInXEnsemble\", \"__module__\": \"openpathsampling.ensemble\"}', None),\n",
       " (564, '46380510405785918200155421121190036314', '{\"length\": 1, \"__class__\": \"LengthEnsemble\", \"__module__\": \"openpathsampling.ensemble\"}', None),\n",
       " (565, '46380510405785918200155421121190036042', '{\"volume1\": \"UUID(174395458874316017953765140704788480036)\", \"volume2\": \"UUID(205825572803023860022845415596767577134)\", \"__class__\": \"UnionVolume\", \"__module__\": \"openpathsampling.volume\"}', None),\n",
       " (566, '46380510405785918200155421121190036052', '{\"volume1\": \"UUID(174395458874316017953765140704788480036)\", \"volume2\": \"UUID(205825572803023860022845415596767577134)\", \"__class__\": \"UnionVolume\", \"__module__\": \"openpathsampling.volume\"}', None),\n",
       " (567, '46380510405785918200155421121190035642', '{\"volume1\": \"UUID(174395458874316017953765140704788480032)\", \"volume2\": \"UUID(205825572803023860022845415596767576786)\", \"__class__\": \"UnionVolume\", \"__module__\": \"openpathsampling.volume\"}', None),\n",
       " (568, '46380510405785918200155421121190035652', '{\"volume1\": \"UUID(174395458874316017953765140704788480032)\", \"volume2\": \"UUID(205825572803023860022845415596767576786)\", \"__class__\": \"UnionVolume\", \"__module__\": \"openpathsampling.volume\"}', None),\n",
       " (569, '46380510405785918200155421121190036168', '{\"volume\": \"UUID(174395458874316017953765140704788480032)\", \"trusted\": true, \"__class__\": \"AllInXEnsemble\", \"__module__\": \"openpathsampling.ensemble\"}', None),\n",
       " (570, '46380510405785918200155421121190036170', '{\"length\": 1, \"__class__\": \"LengthEnsemble\", \"__module__\": \"openpathsampling.ensemble\"}', None),\n",
       " (571, '46380510405785918200155421121190036176', '{\"volume\": \"UUID(46380510405785918200155421121190036174)\", \"trusted\": true, \"__class__\": \"AllOutXEnsemble\", \"__module__\": \"openpathsampling.ensemble\"}', None),\n",
       " (572, '46380510405785918200155421121190036186', '{\"volume\": \"UUID(46380510405785918200155421121190036184)\", \"trusted\": true, \"__class__\": \"AllInXEnsemble\", \"__module__\": \"openpathsampling.ensemble\"}', None),\n",
       " (573, '46380510405785918200155421121190036188', '{\"length\": 1, \"__class__\": \"LengthEnsemble\", \"__module__\": \"openpathsampling.ensemble\"}', None),\n",
       " (574, '46380510405785918200155421121190036230', '{\"volume\": \"UUID(174395458874316017953765140704788480034)\", \"trusted\": true, \"__class__\": \"AllInXEnsemble\", \"__module__\": \"openpathsampling.ensemble\"}', None),\n",
       " (575, '46380510405785918200155421121190036232', '{\"length\": 1, \"__class__\": \"LengthEnsemble\", \"__module__\": \"openpathsampling.ensemble\"}', None),\n",
       " (576, '46380510405785918200155421121190036238', '{\"volume\": \"UUID(46380510405785918200155421121190036236)\", \"trusted\": true, \"__class__\": \"AllOutXEnsemble\", \"__module__\": \"openpathsampling.ensemble\"}', None),\n",
       " (577, '46380510405785918200155421121190036248', '{\"volume\": \"UUID(46380510405785918200155421121190036246)\", \"trusted\": true, \"__class__\": \"AllInXEnsemble\", \"__module__\": \"openpathsampling.ensemble\"}', None),\n",
       " (578, '46380510405785918200155421121190036250', '{\"length\": 1, \"__class__\": \"LengthEnsemble\", \"__module__\": \"openpathsampling.ensemble\"}', None),\n",
       " (579, '46380510405785918200155421121190036300', '{\"volume1\": \"UUID(174395458874316017953765140704788480036)\", \"volume2\": \"UUID(205825572803023860022845415596767577134)\", \"__class__\": \"UnionVolume\", \"__module__\": \"openpathsampling.volume\"}', None),\n",
       " (580, '46380510405785918200155421121190036310', '{\"volume1\": \"UUID(174395458874316017953765140704788480036)\", \"volume2\": \"UUID(205825572803023860022845415596767577134)\", \"__class__\": \"UnionVolume\", \"__module__\": \"openpathsampling.volume\"}', None),\n",
       " (581, '46380510405785918200155421121190036174', '{\"volume1\": \"UUID(174395458874316017953765140704788480032)\", \"volume2\": \"UUID(205825572803023860022845415596767576786)\", \"__class__\": \"UnionVolume\", \"__module__\": \"openpathsampling.volume\"}', None),\n",
       " (582, '46380510405785918200155421121190036184', '{\"volume1\": \"UUID(174395458874316017953765140704788480032)\", \"volume2\": \"UUID(205825572803023860022845415596767576786)\", \"__class__\": \"UnionVolume\", \"__module__\": \"openpathsampling.volume\"}', None),\n",
       " (583, '46380510405785918200155421121190036236', '{\"volume1\": \"UUID(174395458874316017953765140704788480034)\", \"volume2\": \"UUID(205825572803023860022845415596767576960)\", \"__class__\": \"UnionVolume\", \"__module__\": \"openpathsampling.volume\"}', None),\n",
       " (584, '46380510405785918200155421121190036246', '{\"volume1\": \"UUID(174395458874316017953765140704788480034)\", \"volume2\": \"UUID(205825572803023860022845415596767576960)\", \"__class__\": \"UnionVolume\", \"__module__\": \"openpathsampling.volume\"}', None),\n",
       " (585, '46380510405785918200155421121190046606', '{\"__class__\": \"FullVolume\", \"__module__\": \"openpathsampling.volume\"}', None)]"
      ]
     },
     "execution_count": 60,
     "metadata": {},
     "output_type": "execute_result"
    }
   ],
   "source": [
    "list(storage.backend.table_iterator('simulation_objects'))"
   ]
  },
  {
   "cell_type": "code",
   "execution_count": 61,
   "metadata": {},
   "outputs": [
    {
     "data": {
      "text/plain": [
       "{'mover': <openpathsampling.pathmover.PathReversalMover at 0x125a87ac8>,\n",
       " 'details': <openpathsampling.pathmover.Details at 0x1264179d8>,\n",
       " 'samples': [<Sample @ 0x125a87470>],\n",
       " 'input_samples': [<Sample @ 0x125a87390>],\n",
       " 'subchanges': [],\n",
       " 'cls': 'AcceptedSampleMoveChange'}"
      ]
     },
     "execution_count": 61,
     "metadata": {},
     "output_type": "execute_result"
    }
   ],
   "source": [
    "change.to_dict()"
   ]
  },
  {
   "cell_type": "code",
   "execution_count": 62,
   "metadata": {},
   "outputs": [],
   "source": [
    "reloaded_change = storage.load([change_uuid])[0]"
   ]
  },
  {
   "cell_type": "code",
   "execution_count": 63,
   "metadata": {},
   "outputs": [
    {
     "name": "stdout",
     "output_type": "stream",
     "text": [
      "SampleMove : PathReversalMover : True : 1 samples [<Sample @ 0x126af89b0>]\n"
     ]
    }
   ],
   "source": [
    "print(reloaded_change)"
   ]
  },
  {
   "cell_type": "code",
   "execution_count": 64,
   "metadata": {},
   "outputs": [
    {
     "name": "stdout",
     "output_type": "stream",
     "text": [
      "metropolis_acceptance = 1.0\n",
      "metropolis_random = 0.7953469615000001\n",
      "\n"
     ]
    }
   ],
   "source": [
    "print(reloaded_change.details)"
   ]
  },
  {
   "cell_type": "markdown",
   "metadata": {},
   "source": [
    "### Starting a `PathSampling` simulator\n",
    "\n",
    "The issue here is that sometimes an object that is expected to be a UUID is actually `None`. Need to be careful with both saving and loading here."
   ]
  },
  {
   "cell_type": "code",
   "execution_count": 65,
   "metadata": {},
   "outputs": [],
   "source": [
    "scheme = old_storage.schemes[0]\n",
    "sample_set = step.active"
   ]
  },
  {
   "cell_type": "code",
   "execution_count": 66,
   "metadata": {},
   "outputs": [],
   "source": [
    "sim = paths.PathSampling(\n",
    "    move_scheme=scheme,\n",
    "    sample_set=sample_set,\n",
    "    storage=storage\n",
    ")"
   ]
  },
  {
   "cell_type": "code",
   "execution_count": 67,
   "metadata": {},
   "outputs": [],
   "source": [
    "storage.save(sim)"
   ]
  },
  {
   "cell_type": "code",
   "execution_count": 68,
   "metadata": {},
   "outputs": [],
   "source": [
    "sim_uuid = get_uuid(sim)\n",
    "reloaded_sim = storage.load([sim_uuid])[0]"
   ]
  },
  {
   "cell_type": "code",
   "execution_count": 69,
   "metadata": {},
   "outputs": [
    {
     "data": {
      "text/plain": [
       "{'root': <openpathsampling.sample.SampleSet at 0x126bf8be0>,\n",
       " 'move_scheme': <openpathsampling.high_level.move_scheme.DefaultScheme at 0x125fc4a58>,\n",
       " 'root_mover': <openpathsampling.pathmover.RandomChoiceMover at 0x125fc4ba8>}"
      ]
     },
     "execution_count": 69,
     "metadata": {},
     "output_type": "execute_result"
    }
   ],
   "source": [
    "reloaded_sim.to_dict()"
   ]
  },
  {
   "cell_type": "code",
   "execution_count": 70,
   "metadata": {},
   "outputs": [
    {
     "data": {
      "text/plain": [
       "{'root': <openpathsampling.sample.SampleSet at 0x126bf8be0>,\n",
       " 'move_scheme': <openpathsampling.high_level.move_scheme.DefaultScheme at 0x125fc4a58>,\n",
       " 'root_mover': <openpathsampling.pathmover.RandomChoiceMover at 0x125fc4ba8>}"
      ]
     },
     "execution_count": 70,
     "metadata": {},
     "output_type": "execute_result"
    }
   ],
   "source": [
    "sim.to_dict()"
   ]
  }
 ],
 "metadata": {
  "kernelspec": {
   "display_name": "Python 3",
   "language": "python",
   "name": "python3"
  },
  "language_info": {
   "codemirror_mode": {
    "name": "ipython",
    "version": 3
   },
   "file_extension": ".py",
   "mimetype": "text/x-python",
   "name": "python",
   "nbconvert_exporter": "python",
   "pygments_lexer": "ipython3",
   "version": "3.7.3"
  },
  "toc": {
   "base_numbering": 1,
   "nav_menu": {},
   "number_sections": true,
   "sideBar": true,
   "skip_h1_title": true,
   "title_cell": "Table of Contents",
   "title_sidebar": "Contents",
   "toc_cell": false,
   "toc_position": {},
   "toc_section_display": true,
   "toc_window_display": true
  },
  "varInspector": {
   "cols": {
    "lenName": 16,
    "lenType": 16,
    "lenVar": 40
   },
   "kernels_config": {
    "python": {
     "delete_cmd_postfix": "",
     "delete_cmd_prefix": "del ",
     "library": "var_list.py",
     "varRefreshCmd": "print(var_dic_list())"
    },
    "r": {
     "delete_cmd_postfix": ") ",
     "delete_cmd_prefix": "rm(",
     "library": "var_list.r",
     "varRefreshCmd": "cat(var_dic_list()) "
    }
   },
   "types_to_exclude": [
    "module",
    "function",
    "builtin_function_or_method",
    "instance",
    "_Feature"
   ],
   "window_display": false
  }
 },
 "nbformat": 4,
 "nbformat_minor": 2
}
