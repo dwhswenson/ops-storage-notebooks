{
 "cells": [
  {
   "cell_type": "code",
   "execution_count": 1,
   "metadata": {},
   "outputs": [],
   "source": [
    "%matplotlib inline\n",
    "import openpathsampling as paths\n",
    "import openpathsampling.engines.toy as toys\n",
    "import numpy as np"
   ]
  },
  {
   "cell_type": "code",
   "execution_count": 2,
   "metadata": {},
   "outputs": [],
   "source": [
    "import sys\n",
    "if sys.version_info > (3, ):\n",
    "    unicode = str\n",
    "    long = int"
   ]
  },
  {
   "cell_type": "code",
   "execution_count": 3,
   "metadata": {},
   "outputs": [],
   "source": [
    "pes = (\n",
    "    toys.OuterWalls([1.0, 1.0], [0.0, 0.0]) +\n",
    "    toys.Gaussian(-0.7, [12.0, 12.0], [0.0, 0.4]) +\n",
    "    toys.Gaussian(-0.7, [12.0, 12.0], [-0.5, -0.5]) +\n",
    "    toys.Gaussian(-0.7, [12.0, 12.0], [0.5, -0.5])\n",
    ")\n",
    "\n",
    "topology=toys.Topology(\n",
    "    n_spatial = 2,\n",
    "    masses =[1.0, 1.0],\n",
    "    pes = pes\n",
    ")\n",
    "integ = toys.LangevinBAOABIntegrator(dt=0.02, temperature=0.1, gamma=2.5)\n",
    "\n",
    "options={\n",
    "    'integ' : integ,\n",
    "    'n_frames_max' : 5000,\n",
    "    'n_steps_per_frame' : 1\n",
    "}\n",
    "\n",
    "engine = toys.Engine(\n",
    "    options=options,\n",
    "    topology=topology\n",
    ")\n",
    "\n",
    "template = toys.Snapshot(\n",
    "    coordinates=np.array([[-0.5, -0.5]]), \n",
    "    velocities=np.array([[0.0,0.0]]),\n",
    "    engine=engine\n",
    ")\n"
   ]
  },
  {
   "cell_type": "code",
   "execution_count": 4,
   "metadata": {},
   "outputs": [
    {
     "data": {
      "text/plain": [
       "{'options': {'n_frames_max': 5000,\n",
       "  'on_max_length': 'fail',\n",
       "  'on_nan': 'fail',\n",
       "  'retries_when_nan': 2,\n",
       "  'retries_when_error': 0,\n",
       "  'retries_when_max_length': 0,\n",
       "  'on_retry': 'full',\n",
       "  'on_error': 'fail',\n",
       "  'integ': <openpathsampling.engines.toy.integrators.LangevinBAOABIntegrator at 0x11df82898>,\n",
       "  'n_steps_per_frame': 1},\n",
       " 'topology': <openpathsampling.engines.toy.topology.ToyTopology at 0x11df826d8>}"
      ]
     },
     "execution_count": 4,
     "metadata": {},
     "output_type": "execute_result"
    }
   ],
   "source": [
    "# storing the engine\n",
    "engine.to_dict()"
   ]
  },
  {
   "cell_type": "code",
   "execution_count": 5,
   "metadata": {},
   "outputs": [
    {
     "data": {
      "text/plain": [
       "[5000,\n",
       " 'fail',\n",
       " 'fail',\n",
       " 2,\n",
       " 0,\n",
       " 0,\n",
       " 'full',\n",
       " 'fail',\n",
       " <openpathsampling.engines.toy.integrators.LangevinBAOABIntegrator at 0x11df82898>,\n",
       " 1,\n",
       " <openpathsampling.engines.toy.topology.ToyTopology at 0x11df826d8>]"
      ]
     },
     "execution_count": 5,
     "metadata": {},
     "output_type": "execute_result"
    }
   ],
   "source": [
    "from openpathsampling.experimental.storage.tools import flatten_all\n",
    "flatten_all(engine.to_dict())"
   ]
  },
  {
   "cell_type": "code",
   "execution_count": 6,
   "metadata": {},
   "outputs": [],
   "source": [
    "def uuid_test(obj):\n",
    "    # TODO: or isinstance? or other? try a few for performance checks\n",
    "    return hasattr(obj, '__uuid__')\n",
    "\n",
    "# TODO: try a few UUID encodings for performance\n",
    "def encode_uuid(uuid):\n",
    "    return \"UUID(\" + str(uuid) + \")\"\n",
    "\n",
    "def decode_uuid(uuid_str):\n",
    "    return long(uuid_str[5:-1])\n",
    "\n",
    "def is_uuid_string(obj):\n",
    "    return (\n",
    "        isinstance(obj, (str, unicode))\n",
    "        and obj[:5] == 'UUID(' and obj[-1] == ')'\n",
    "    )\n",
    "\n",
    "# TODO: have a special UUID encoding for dict keys? string keys have special fast-oath\n",
    "\n",
    "\n",
    "def find_dependent_uuids(json_dct):\n",
    "    dct = ujson.loads(json_dct)\n",
    "    uuids = [decode_uuid(obj) for obj in flatten_all(dct)\n",
    "             if is_uuid_string(obj)]\n",
    "    return uuids\n",
    "\n",
    "def get_all_uuid_strings(dct):\n",
    "    all_uuids = []\n",
    "    for uuid in dct:\n",
    "        all_uuids.append(uuid)\n",
    "        all_uuids += find_dependent_uuids(dct[uuid])\n",
    "    return all_uuids\n",
    "        \n",
    "\n",
    "# TODO: this only handles nested dicts... need to handle nested lists, too!\n",
    "# NOTE: this needs find everything, including if the iterable/mapping has a UUID, find that and things under it\n",
    "# does flatten_all work?\n",
    "def get_all_uuids(initial_object):\n",
    "    uuid_dict = {initial_object.__uuid__: initial_object}\n",
    "    with_uuid = [o for o in flatten_all(initial_object.to_dict()) \n",
    "                 if uuid_test(o)]\n",
    "    for obj in with_uuid:\n",
    "        uuid_dict.update({obj.__uuid__: obj})\n",
    "        uuid_dict.update(get_all_uuids(obj))\n",
    "    return uuid_dict"
   ]
  },
  {
   "cell_type": "code",
   "execution_count": 7,
   "metadata": {},
   "outputs": [
    {
     "data": {
      "text/plain": [
       "{65939417764579747063272163081445179414: <openpathsampling.engines.toy.engine.ToyEngine at 0x11df82908>,\n",
       " 65939417764579747063272163081445179410: <openpathsampling.engines.toy.integrators.LangevinBAOABIntegrator at 0x11df82898>,\n",
       " 65939417764579747063272163081445179408: <openpathsampling.engines.toy.topology.ToyTopology at 0x11df826d8>,\n",
       " 65939417764579747063272163081445179406: <openpathsampling.engines.toy.pes.PES_Add at 0x11df82860>,\n",
       " 65939417764579747063272163081445179402: <openpathsampling.engines.toy.pes.PES_Add at 0x11df827f0>,\n",
       " 65939417764579747063272163081445179398: <openpathsampling.engines.toy.pes.PES_Add at 0x11df82780>,\n",
       " 65939417764579747063272163081445179394: OuterWalls([1. 1.], [0. 0.]),\n",
       " 65939417764579747063272163081445179396: Gaussian(-0.7, [12. 12.], [0.  0.4]),\n",
       " 65939417764579747063272163081445179400: Gaussian(-0.7, [12. 12.], [-0.5 -0.5]),\n",
       " 65939417764579747063272163081445179404: Gaussian(-0.7, [12. 12.], [ 0.5 -0.5])}"
      ]
     },
     "execution_count": 7,
     "metadata": {},
     "output_type": "execute_result"
    }
   ],
   "source": [
    "all_objects = get_all_uuids(engine)\n",
    "all_objects"
   ]
  },
  {
   "cell_type": "code",
   "execution_count": 8,
   "metadata": {},
   "outputs": [],
   "source": [
    "import importlib\n",
    "import ujson\n",
    "\n",
    "def is_iterable(obj):\n",
    "    return isinstance(obj, (list, set, tuple))\n",
    "\n",
    "def is_mappable(obj):\n",
    "    return isinstance(obj, dict)\n",
    "\n",
    "# NOTE: this only need to find until the first UUID: iterables/mapping with UUIDs aren't necessary here\n",
    "def replace_uuid(obj):\n",
    "    replacement = obj\n",
    "    if uuid_test(obj):\n",
    "        # TODO: compact representation of UUID\n",
    "        replacement = encode_uuid(obj.__uuid__)\n",
    "    elif is_mappable(obj):\n",
    "        replacement = {k: replace_uuid(v) for (k, v) in replacement.items()}\n",
    "    elif is_iterable(obj):\n",
    "        replace_type = type(obj)\n",
    "        replacement = replace_type([replace_uuid(o) for o in obj])\n",
    "    return replacement\n",
    "\n",
    "def to_dict_with_uuids(obj):\n",
    "    dct = obj.to_dict()\n",
    "    return replace_uuid(dct)\n",
    "\n",
    "def to_json(obj):\n",
    "    dct = to_dict_with_uuids(obj)\n",
    "    dct.update({'__module__': obj.__class__.__module__,\n",
    "                '__class__': obj.__class__.__name__})\n",
    "    return ujson.dumps(dct)\n",
    "\n",
    "def from_json(json_str, existing_uuids):\n",
    "    # NOTE: from_json only works with existing_uuids\n",
    "    dct = ujson.loads(json_str)\n",
    "    mod = importlib.import_module(dct.pop('__module__'))\n",
    "    cls = getattr(mod, dct.pop('__class__'))\n",
    "    for (key, value) in dct.items():\n",
    "        if is_uuid_string(value):\n",
    "            # raises KeyError if object hasn't been visited\n",
    "            # (indicates problem in DAG reconstruction)\n",
    "            value_obj = existing_uuids[decode_uuid(value)]\n",
    "            dct[key] = value_obj\n",
    "    return cls.from_dict(dct)"
   ]
  },
  {
   "cell_type": "markdown",
   "metadata": {},
   "source": [
    "Limitations:\n",
    "\n",
    "* parameters of objects cannot have a value that is a string of the format `\"UUID(%s)\"`, where `%s` is any string\n",
    "\n",
    "#### Serialization process\n",
    "\n",
    "* Serialization: `object` $\\to$ `dict` $\\to$ `dict_with_uuids` $\\to$ `json`\n",
    "* Deserialization: `json` $\\to$ `dict_with_uuids` $\\Rightarrow$ `dict` $\\to$ `object`"
   ]
  },
  {
   "cell_type": "code",
   "execution_count": 9,
   "metadata": {},
   "outputs": [],
   "source": [
    "all_json = {k: to_json(v) for (k, v) in all_objects.items()}"
   ]
  },
  {
   "cell_type": "code",
   "execution_count": 10,
   "metadata": {},
   "outputs": [
    {
     "data": {
      "text/plain": [
       "{65939417764579747063272163081445179414: '{\"options\":{\"n_frames_max\":5000,\"on_max_length\":\"fail\",\"on_nan\":\"fail\",\"retries_when_nan\":2,\"retries_when_error\":0,\"retries_when_max_length\":0,\"on_retry\":\"full\",\"on_error\":\"fail\",\"integ\":\"UUID(65939417764579747063272163081445179410)\",\"n_steps_per_frame\":1},\"topology\":\"UUID(65939417764579747063272163081445179408)\",\"__module__\":\"openpathsampling.engines.toy.engine\",\"__class__\":\"ToyEngine\"}',\n",
       " 65939417764579747063272163081445179410: '{\"dt\":0.02,\"gamma\":2.5,\"temperature\":0.1,\"__module__\":\"openpathsampling.engines.toy.integrators\",\"__class__\":\"LangevinBAOABIntegrator\"}',\n",
       " 65939417764579747063272163081445179408: '{\"n_spatial\":2,\"masses\":[1.0,1.0],\"n_atoms\":1,\"pes\":\"UUID(65939417764579747063272163081445179406)\",\"__module__\":\"openpathsampling.engines.toy.topology\",\"__class__\":\"ToyTopology\"}',\n",
       " 65939417764579747063272163081445179406: '{\"pes1\":\"UUID(65939417764579747063272163081445179402)\",\"pes2\":\"UUID(65939417764579747063272163081445179404)\",\"__module__\":\"openpathsampling.engines.toy.pes\",\"__class__\":\"PES_Add\"}',\n",
       " 65939417764579747063272163081445179402: '{\"pes1\":\"UUID(65939417764579747063272163081445179398)\",\"pes2\":\"UUID(65939417764579747063272163081445179400)\",\"__module__\":\"openpathsampling.engines.toy.pes\",\"__class__\":\"PES_Add\"}',\n",
       " 65939417764579747063272163081445179398: '{\"pes1\":\"UUID(65939417764579747063272163081445179394)\",\"pes2\":\"UUID(65939417764579747063272163081445179396)\",\"__module__\":\"openpathsampling.engines.toy.pes\",\"__class__\":\"PES_Add\"}',\n",
       " 65939417764579747063272163081445179394: '{\"x0\":[0.0,0.0],\"sigma\":[1.0,1.0],\"__module__\":\"openpathsampling.engines.toy.pes\",\"__class__\":\"OuterWalls\"}',\n",
       " 65939417764579747063272163081445179396: '{\"x0\":[0.0,0.4],\"A\":-0.7,\"alpha\":[12.0,12.0],\"__module__\":\"openpathsampling.engines.toy.pes\",\"__class__\":\"Gaussian\"}',\n",
       " 65939417764579747063272163081445179400: '{\"x0\":[-0.5,-0.5],\"A\":-0.7,\"alpha\":[12.0,12.0],\"__module__\":\"openpathsampling.engines.toy.pes\",\"__class__\":\"Gaussian\"}',\n",
       " 65939417764579747063272163081445179404: '{\"x0\":[0.5,-0.5],\"A\":-0.7,\"alpha\":[12.0,12.0],\"__module__\":\"openpathsampling.engines.toy.pes\",\"__class__\":\"Gaussian\"}'}"
      ]
     },
     "execution_count": 10,
     "metadata": {},
     "output_type": "execute_result"
    }
   ],
   "source": [
    "# NOTE: this is what I'd get out of the database; then need to rebuild\n",
    "all_json"
   ]
  },
  {
   "cell_type": "code",
   "execution_count": 11,
   "metadata": {},
   "outputs": [],
   "source": [
    "# storage:\n",
    "# 1. all objects to be stored are found with get_all_uuids\n",
    "# 2. each simulation object gets stored as JSON of to_dict_with_uuids\n",
    "\n",
    "# loading:\n",
    "# 1. Find all the UUIDs in all objects (use flatten_all), make sure we've loaded all of them\n",
    "# 2. Make a DAG showing how all the objects depend on each other (using networkx)\n",
    "# 3. Build in DAG order (networkx.dag.topological_sort)"
   ]
  },
  {
   "cell_type": "code",
   "execution_count": 12,
   "metadata": {},
   "outputs": [
    {
     "data": {
      "text/plain": [
       "{65939417764579747063272163081445179414: '{\"options\":{\"n_frames_max\":5000,\"on_max_length\":\"fail\",\"on_nan\":\"fail\",\"retries_when_nan\":2,\"retries_when_error\":0,\"retries_when_max_length\":0,\"on_retry\":\"full\",\"on_error\":\"fail\",\"integ\":\"UUID(65939417764579747063272163081445179410)\",\"n_steps_per_frame\":1},\"topology\":\"UUID(65939417764579747063272163081445179408)\",\"__module__\":\"openpathsampling.engines.toy.engine\",\"__class__\":\"ToyEngine\"}',\n",
       " 65939417764579747063272163081445179410: '{\"dt\":0.02,\"gamma\":2.5,\"temperature\":0.1,\"__module__\":\"openpathsampling.engines.toy.integrators\",\"__class__\":\"LangevinBAOABIntegrator\"}',\n",
       " 65939417764579747063272163081445179408: '{\"n_spatial\":2,\"masses\":[1.0,1.0],\"n_atoms\":1,\"pes\":\"UUID(65939417764579747063272163081445179406)\",\"__module__\":\"openpathsampling.engines.toy.topology\",\"__class__\":\"ToyTopology\"}',\n",
       " 65939417764579747063272163081445179406: '{\"pes1\":\"UUID(65939417764579747063272163081445179402)\",\"pes2\":\"UUID(65939417764579747063272163081445179404)\",\"__module__\":\"openpathsampling.engines.toy.pes\",\"__class__\":\"PES_Add\"}',\n",
       " 65939417764579747063272163081445179402: '{\"pes1\":\"UUID(65939417764579747063272163081445179398)\",\"pes2\":\"UUID(65939417764579747063272163081445179400)\",\"__module__\":\"openpathsampling.engines.toy.pes\",\"__class__\":\"PES_Add\"}',\n",
       " 65939417764579747063272163081445179398: '{\"pes1\":\"UUID(65939417764579747063272163081445179394)\",\"pes2\":\"UUID(65939417764579747063272163081445179396)\",\"__module__\":\"openpathsampling.engines.toy.pes\",\"__class__\":\"PES_Add\"}',\n",
       " 65939417764579747063272163081445179394: '{\"x0\":[0.0,0.0],\"sigma\":[1.0,1.0],\"__module__\":\"openpathsampling.engines.toy.pes\",\"__class__\":\"OuterWalls\"}',\n",
       " 65939417764579747063272163081445179396: '{\"x0\":[0.0,0.4],\"A\":-0.7,\"alpha\":[12.0,12.0],\"__module__\":\"openpathsampling.engines.toy.pes\",\"__class__\":\"Gaussian\"}',\n",
       " 65939417764579747063272163081445179400: '{\"x0\":[-0.5,-0.5],\"A\":-0.7,\"alpha\":[12.0,12.0],\"__module__\":\"openpathsampling.engines.toy.pes\",\"__class__\":\"Gaussian\"}',\n",
       " 65939417764579747063272163081445179404: '{\"x0\":[0.5,-0.5],\"A\":-0.7,\"alpha\":[12.0,12.0],\"__module__\":\"openpathsampling.engines.toy.pes\",\"__class__\":\"Gaussian\"}'}"
      ]
     },
     "execution_count": 12,
     "metadata": {},
     "output_type": "execute_result"
    }
   ],
   "source": [
    "all_json"
   ]
  },
  {
   "cell_type": "code",
   "execution_count": 13,
   "metadata": {},
   "outputs": [],
   "source": [
    "import networkx as nx\n",
    "import networkx.algorithms.dag as nx_dag\n",
    "def reconstruction_dag(uuid_json_dict):\n",
    "    dependent_uuids = {uuid: find_dependent_uuids(json_str)\n",
    "                       for (uuid, json_str) in uuid_json_dict.items()}\n",
    "    dag = nx.DiGraph()\n",
    "    for from_node, to_nodes in dependent_uuids.items():\n",
    "        if to_nodes:\n",
    "            dag.add_edges_from([(from_node, to_node)\n",
    "                                for to_node in to_nodes])\n",
    "    if not nx_dag.is_directed_acyclic_graph(dag):\n",
    "        raise RuntimeError(\"Reconstruction DAG not acyclic?!?!\")\n",
    "\n",
    "    return dag"
   ]
  },
  {
   "cell_type": "code",
   "execution_count": null,
   "metadata": {},
   "outputs": [],
   "source": []
  },
  {
   "cell_type": "code",
   "execution_count": 14,
   "metadata": {},
   "outputs": [],
   "source": [
    "dag = reconstruction_dag(all_json)"
   ]
  },
  {
   "cell_type": "code",
   "execution_count": 15,
   "metadata": {},
   "outputs": [
    {
     "name": "stderr",
     "output_type": "stream",
     "text": [
      "/Users/dwhs/miniconda3/envs/dev/lib/python3.7/site-packages/networkx/drawing/nx_pylab.py:579: MatplotlibDeprecationWarning: \n",
      "The iterable function was deprecated in Matplotlib 3.1 and will be removed in 3.3. Use np.iterable instead.\n",
      "  if not cb.iterable(width):\n",
      "/Users/dwhs/miniconda3/envs/dev/lib/python3.7/site-packages/networkx/drawing/nx_pylab.py:676: MatplotlibDeprecationWarning: \n",
      "The iterable function was deprecated in Matplotlib 3.1 and will be removed in 3.3. Use np.iterable instead.\n",
      "  if cb.iterable(node_size):  # many node sizes\n"
     ]
    },
    {
     "data": {
      "image/png": "[encoded data removed]",
      "text/plain": [
       "<Figure size 432x288 with 1 Axes>"
      ]
     },
     "metadata": {},
     "output_type": "display_data"
    }
   ],
   "source": [
    "pos = nx.circular_layout(dag)\n",
    "nx.draw(dag, pos)"
   ]
  },
  {
   "cell_type": "code",
   "execution_count": 16,
   "metadata": {},
   "outputs": [],
   "source": [
    "def check_dag(dag, uuid_json_dict):\n",
    "    json_loaded = set(uuid_json_dict.keys())\n",
    "    dag_assigned = set(dag.nodes)\n",
    "    missing = dag_assigned - json_loaded\n",
    "    return missing\n",
    "\n",
    "import networkx.algorithms.dag as nx_dag\n",
    "existing_uuids = {}\n",
    "ordered_nodes = list(reversed(list(nx_dag.topological_sort(dag))))\n",
    "for node in ordered_nodes:\n",
    "    existing_uuids[node] = from_json(all_json[node], existing_uuids)"
   ]
  },
  {
   "cell_type": "code",
   "execution_count": 17,
   "metadata": {},
   "outputs": [
    {
     "data": {
      "text/plain": [
       "{65939417764579747063272163081445179410: <openpathsampling.engines.toy.integrators.LangevinBAOABIntegrator at 0x11e05cda0>,\n",
       " 65939417764579747063272163081445179394: OuterWalls([1. 1.], [0. 0.]),\n",
       " 65939417764579747063272163081445179396: Gaussian(-0.7000000000000001, [12. 12.], [0.  0.4]),\n",
       " 65939417764579747063272163081445179398: <openpathsampling.engines.toy.pes.PES_Add at 0x11e05cdd8>,\n",
       " 65939417764579747063272163081445179400: Gaussian(-0.7000000000000001, [12. 12.], [-0.5 -0.5]),\n",
       " 65939417764579747063272163081445179402: <openpathsampling.engines.toy.pes.PES_Add at 0x11e05cf28>,\n",
       " 65939417764579747063272163081445179404: Gaussian(-0.7000000000000001, [12. 12.], [ 0.5 -0.5]),\n",
       " 65939417764579747063272163081445179406: <openpathsampling.engines.toy.pes.PES_Add at 0x11e05cd30>,\n",
       " 65939417764579747063272163081445179408: <openpathsampling.engines.toy.topology.ToyTopology at 0x1200754a8>,\n",
       " 65939417764579747063272163081445179414: <openpathsampling.engines.toy.engine.ToyEngine at 0x120075208>}"
      ]
     },
     "execution_count": 17,
     "metadata": {},
     "output_type": "execute_result"
    }
   ],
   "source": [
    "existing_uuids"
   ]
  },
  {
   "cell_type": "code",
   "execution_count": null,
   "metadata": {},
   "outputs": [],
   "source": []
  }
 ],
 "metadata": {
  "kernelspec": {
   "display_name": "Python 3",
   "language": "python",
   "name": "python3"
  },
  "language_info": {
   "codemirror_mode": {
    "name": "ipython",
    "version": 3
   },
   "file_extension": ".py",
   "mimetype": "text/x-python",
   "name": "python",
   "nbconvert_exporter": "python",
   "pygments_lexer": "ipython3",
   "version": "3.7.3"
  },
  "toc": {
   "base_numbering": 1,
   "nav_menu": {},
   "number_sections": true,
   "sideBar": true,
   "skip_h1_title": true,
   "title_cell": "Table of Contents",
   "title_sidebar": "Contents",
   "toc_cell": false,
   "toc_position": {},
   "toc_section_display": true,
   "toc_window_display": true
  },
  "varInspector": {
   "cols": {
    "lenName": 16,
    "lenType": 16,
    "lenVar": 40
   },
   "kernels_config": {
    "python": {
     "delete_cmd_postfix": "",
     "delete_cmd_prefix": "del ",
     "library": "var_list.py",
     "varRefreshCmd": "print(var_dic_list())"
    },
    "r": {
     "delete_cmd_postfix": ") ",
     "delete_cmd_prefix": "rm(",
     "library": "var_list.r",
     "varRefreshCmd": "cat(var_dic_list()) "
    }
   },
   "types_to_exclude": [
    "module",
    "function",
    "builtin_function_or_method",
    "instance",
    "_Feature"
   ],
   "window_display": false
  }
 },
 "nbformat": 4,
 "nbformat_minor": 2
}
