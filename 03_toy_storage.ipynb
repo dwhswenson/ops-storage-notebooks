{
 "cells": [
  {
   "cell_type": "code",
   "execution_count": 1,
   "metadata": {},
   "outputs": [],
   "source": [
    "from __future__ import print_function\n",
    "%matplotlib inline\n",
    "import openpathsampling as paths\n",
    "import openpathsampling.engines.toy as toys\n",
    "import numpy as np\n",
    "\n",
    "from openpathsampling.experimental.storage.storage import GeneralStorage\n",
    "from openpathsampling.experimental.storage.class_info import ClassInfoContainer, ClassInfo\n",
    "from openpathsampling.experimental.storage.storage import universal_schema\n",
    "from openpathsampling.experimental.storage.sql_backend import SQLStorageBackend\n",
    "import openpathsampling.experimental.storage.serialization_helpers as serialization\n",
    "from openpathsampling.experimental.storage import tools\n",
    "\n",
    "from openpathsampling.experimental.storage.my_types import builtin_types"
   ]
  },
  {
   "cell_type": "code",
   "execution_count": 2,
   "metadata": {},
   "outputs": [],
   "source": [
    "serialize_sim = lambda obj: {'uuid': serialization.get_uuid(obj), 'json': serialization.to_json_obj(obj)}\n",
    "deserialize_sim = serialization.from_json_obj\n",
    "serialize_data = serialization.to_dict_with_uuids\n",
    "deserialize_data = lambda cls, data: cls.from_dict(serialization.from_dict_with)"
   ]
  },
  {
   "cell_type": "code",
   "execution_count": 3,
   "metadata": {},
   "outputs": [],
   "source": [
    "from openpathsampling.netcdfplus import StorableObject\n",
    "default_class_info = ClassInfo(table='simulation_objects',\n",
    "                               cls=StorableObject,\n",
    "                               serializer=serialize_sim,\n",
    "                               deserializer=deserialize_sim)"
   ]
  },
  {
   "cell_type": "code",
   "execution_count": 4,
   "metadata": {},
   "outputs": [],
   "source": [
    "backend = SQLStorageBackend(\":memory:\", mode='w')\n",
    "storage = GeneralStorage(backend=backend,\n",
    "                         schema={},\n",
    "                         class_info=ClassInfoContainer(default_info=default_class_info))"
   ]
  },
  {
   "cell_type": "code",
   "execution_count": 5,
   "metadata": {},
   "outputs": [
    {
     "data": {
      "text/plain": [
       "immutabledict({'schema': Table('schema', MetaData(bind=Engine(sqlite:///:memory:)), Column('table', String(), table=<schema>), Column('schema', String(), table=<schema>), schema=None), 'metadata': Table('metadata', MetaData(bind=Engine(sqlite:///:memory:)), Column('key', String(), table=<metadata>), Column('value', String(), table=<metadata>), schema=None), 'uuid': Table('uuid', MetaData(bind=Engine(sqlite:///:memory:)), Column('uuid', String(), table=<uuid>), Column('table', Integer(), table=<uuid>), Column('row', Integer(), table=<uuid>), schema=None), 'tables': Table('tables', MetaData(bind=Engine(sqlite:///:memory:)), Column('name', String(), table=<tables>), Column('idx', Integer(), table=<tables>), Column('module', String(), table=<tables>), Column('class_name', String(), table=<tables>), schema=None)})"
      ]
     },
     "execution_count": 5,
     "metadata": {},
     "output_type": "execute_result"
    }
   ],
   "source": [
    "backend.metadata.tables"
   ]
  },
  {
   "cell_type": "code",
   "execution_count": 6,
   "metadata": {},
   "outputs": [],
   "source": [
    "schema = {\n",
    "    'simulation_objects': [('json', 'json'), ('class_idx', 'int')]\n",
    "}\n",
    "storage.register_schema(schema, class_info_list=[])"
   ]
  },
  {
   "cell_type": "code",
   "execution_count": 7,
   "metadata": {},
   "outputs": [
    {
     "data": {
      "text/plain": [
       "SerializationSchema(default_info=ClassInfo(table=simulation_objects, cls=<class 'openpathsampling.netcdfplus.base.StorableObject'>, lookup_result=<class 'openpathsampling.netcdfplus.base.StorableObject'>, find_uuids=None), class_info_list=[ClassInfo(table=simulation_objects, cls=<class 'openpathsampling.netcdfplus.base.StorableObject'>, lookup_result=<class 'openpathsampling.netcdfplus.base.StorableObject'>, find_uuids=None)])"
      ]
     },
     "execution_count": 7,
     "metadata": {},
     "output_type": "execute_result"
    }
   ],
   "source": [
    "storage.class_info"
   ]
  },
  {
   "cell_type": "markdown",
   "metadata": {},
   "source": [
    "### Saving a toy engine\n",
    "\n",
    "First save the PES. Then save the whole engine. Make sure that the PES objects only show up once!"
   ]
  },
  {
   "cell_type": "code",
   "execution_count": 8,
   "metadata": {},
   "outputs": [],
   "source": [
    "pes = (\n",
    "    toys.OuterWalls([1.0, 1.0], [0.0, 0.0]) +\n",
    "    toys.Gaussian(-0.7, [12.0, 12.0], [0.0, 0.4]) +\n",
    "    toys.Gaussian(-0.7, [12.0, 12.0], [-0.5, -0.5]) +\n",
    "    toys.Gaussian(-0.7, [12.0, 12.0], [0.5, -0.5])\n",
    ")"
   ]
  },
  {
   "cell_type": "code",
   "execution_count": 9,
   "metadata": {},
   "outputs": [
    {
     "name": "stdout",
     "output_type": "stream",
     "text": [
      "[('48956517759891307508157719614706417678', 0, 1), ('48956517759891307508157719614706417674', 0, 2), ('48956517759891307508157719614706417676', 0, 3), ('48956517759891307508157719614706417670', 0, 4), ('48956517759891307508157719614706417672', 0, 5), ('48956517759891307508157719614706417666', 0, 6), ('48956517759891307508157719614706417668', 0, 7)]\n",
      "(1, '48956517759891307508157719614706417678', '{\"pes1\": \"UUID(48956517759891307508157719614706417674)\", \"pes2\": \"UUID(48956517759891307508157719614706417676)\", \"__module__\": \"openpathsampling.engines.toy.pes\", \"__class__\": \"PES_Add\"}', None)\n",
      "(2, '48956517759891307508157719614706417674', '{\"pes1\": \"UUID(48956517759891307508157719614706417670)\", \"pes2\": \"UUID(48956517759891307508157719614706417672)\", \"__module__\": \"openpathsampling.engines.toy.pes\", \"__class__\": \"PES_Add\"}', None)\n",
      "(3, '48956517759891307508157719614706417676', '{\"A\": -0.7, \"alpha\": [12.0, 12.0], \"x0\": [0.5, -0.5], \"__module__\": \"openpathsampling.engines.toy.pes\", \"__class__\": \"Gaussian\"}', None)\n",
      "(4, '48956517759891307508157719614706417670', '{\"pes1\": \"UUID(48956517759891307508157719614706417666)\", \"pes2\": \"UUID(48956517759891307508157719614706417668)\", \"__module__\": \"openpathsampling.engines.toy.pes\", \"__class__\": \"PES_Add\"}', None)\n",
      "(5, '48956517759891307508157719614706417672', '{\"A\": -0.7, \"alpha\": [12.0, 12.0], \"x0\": [-0.5, -0.5], \"__module__\": \"openpathsampling.engines.toy.pes\", \"__class__\": \"Gaussian\"}', None)\n",
      "(6, '48956517759891307508157719614706417666', '{\"sigma\": [1.0, 1.0], \"x0\": [0.0, 0.0], \"__module__\": \"openpathsampling.engines.toy.pes\", \"__class__\": \"OuterWalls\"}', None)\n",
      "(7, '48956517759891307508157719614706417668', '{\"A\": -0.7, \"alpha\": [12.0, 12.0], \"x0\": [0.0, 0.4], \"__module__\": \"openpathsampling.engines.toy.pes\", \"__class__\": \"Gaussian\"}', None)\n"
     ]
    }
   ],
   "source": [
    "storage.save(pes)\n",
    "\n",
    "with backend.engine.connect() as conn:\n",
    "    uuids = conn.execute(backend.metadata.tables['uuid'].select())\n",
    "    sim_obj = conn.execute(backend.metadata.tables['simulation_objects'].select())\n",
    "    \n",
    "print(list(uuids))\n",
    "    \n",
    "for obj in sim_obj:\n",
    "    print(obj)"
   ]
  },
  {
   "cell_type": "code",
   "execution_count": 10,
   "metadata": {},
   "outputs": [],
   "source": [
    "topology=toys.Topology(\n",
    "    n_spatial = 2,\n",
    "    masses =[1.0, 1.0],\n",
    "    pes = pes\n",
    ")\n",
    "integ = toys.LangevinBAOABIntegrator(dt=0.02, temperature=0.1, gamma=2.5)\n",
    "\n",
    "options={\n",
    "    'integ' : integ,\n",
    "    'n_frames_max' : 5000,\n",
    "    'n_steps_per_frame' : 1\n",
    "}\n",
    "\n",
    "engine = toys.Engine(\n",
    "    options=options,\n",
    "    topology=topology\n",
    ")"
   ]
  },
  {
   "cell_type": "code",
   "execution_count": 11,
   "metadata": {},
   "outputs": [],
   "source": [
    "storage.save(engine)"
   ]
  },
  {
   "cell_type": "code",
   "execution_count": 12,
   "metadata": {},
   "outputs": [
    {
     "name": "stdout",
     "output_type": "stream",
     "text": [
      "(1, '48956517759891307508157719614706417678', '{\"pes1\": \"UUID(48956517759891307508157719614706417674)\", \"pes2\": \"UUID(48956517759891307508157719614706417676)\", \"__module__\": \"openpathsampling.engines.toy.pes\", \"__class__\": \"PES_Add\"}', None)\n",
      "(2, '48956517759891307508157719614706417674', '{\"pes1\": \"UUID(48956517759891307508157719614706417670)\", \"pes2\": \"UUID(48956517759891307508157719614706417672)\", \"__module__\": \"openpathsampling.engines.toy.pes\", \"__class__\": \"PES_Add\"}', None)\n",
      "(3, '48956517759891307508157719614706417676', '{\"A\": -0.7, \"alpha\": [12.0, 12.0], \"x0\": [0.5, -0.5], \"__module__\": \"openpathsampling.engines.toy.pes\", \"__class__\": \"Gaussian\"}', None)\n",
      "(4, '48956517759891307508157719614706417670', '{\"pes1\": \"UUID(48956517759891307508157719614706417666)\", \"pes2\": \"UUID(48956517759891307508157719614706417668)\", \"__module__\": \"openpathsampling.engines.toy.pes\", \"__class__\": \"PES_Add\"}', None)\n",
      "(5, '48956517759891307508157719614706417672', '{\"A\": -0.7, \"alpha\": [12.0, 12.0], \"x0\": [-0.5, -0.5], \"__module__\": \"openpathsampling.engines.toy.pes\", \"__class__\": \"Gaussian\"}', None)\n",
      "(6, '48956517759891307508157719614706417666', '{\"sigma\": [1.0, 1.0], \"x0\": [0.0, 0.0], \"__module__\": \"openpathsampling.engines.toy.pes\", \"__class__\": \"OuterWalls\"}', None)\n",
      "(7, '48956517759891307508157719614706417668', '{\"A\": -0.7, \"alpha\": [12.0, 12.0], \"x0\": [0.0, 0.4], \"__module__\": \"openpathsampling.engines.toy.pes\", \"__class__\": \"Gaussian\"}', None)\n",
      "(8, '48956517759891307508157719614706417686', '{\"options\": {\"n_frames_max\": 5000, \"on_max_length\": \"fail\", \"on_nan\": \"fail\", \"retries_when_nan\": 2, \"retries_when_error\": 0, \"retries_when_max_lengt ... (118 characters truncated) ... rame\": 1}, \"topology\": \"UUID(48956517759891307508157719614706417680)\", \"__module__\": \"openpathsampling.engines.toy.engine\", \"__class__\": \"ToyEngine\"}', None)\n",
      "(9, '48956517759891307508157719614706417680', '{\"n_atoms\": 1, \"n_spatial\": 2, \"masses\": [1.0, 1.0], \"pes\": \"UUID(48956517759891307508157719614706417678)\", \"__module__\": \"openpathsampling.engines.toy.topology\", \"__class__\": \"ToyTopology\"}', None)\n",
      "(10, '48956517759891307508157719614706417682', '{\"temperature\": 0.1, \"gamma\": 2.5, \"dt\": 0.02, \"__module__\": \"openpathsampling.engines.toy.integrators\", \"__class__\": \"LangevinBAOABIntegrator\"}', None)\n"
     ]
    }
   ],
   "source": [
    "with backend.engine.connect() as conn:\n",
    "    sim_obj = conn.execute(backend.metadata.tables['simulation_objects'].select())\n",
    "        \n",
    "for obj in sim_obj:\n",
    "    print(obj)"
   ]
  },
  {
   "cell_type": "markdown",
   "metadata": {},
   "source": [
    "### Storing a snapshot\n",
    "\n",
    "Snapshots need to separately register with storage. Here we'll do that manually."
   ]
  },
  {
   "cell_type": "code",
   "execution_count": 13,
   "metadata": {},
   "outputs": [],
   "source": [
    "template = toys.Snapshot(\n",
    "    coordinates=np.array([[-0.5, -0.5]]), \n",
    "    velocities=np.array([[0.0,0.0]]),\n",
    "    engine=engine\n",
    ")"
   ]
  },
  {
   "cell_type": "code",
   "execution_count": 14,
   "metadata": {},
   "outputs": [],
   "source": [
    "# this needs to be built by the snapshot itself, based on the engine descriptor\n",
    "snapshot_schema = {'snapshot0': [('coordinates', 'ndarray.float64(1,2)'), ('velocities', 'ndarray.float64(1,2)'),\n",
    "                                 ('engine', 'uuid')]}\n",
    "snapshot_class_info = ClassInfo(table='snapshot0', cls=toys.ToySnapshot, serializer=None, deserializer=None)\n"
   ]
  },
  {
   "cell_type": "code",
   "execution_count": 15,
   "metadata": {},
   "outputs": [],
   "source": [
    "storage.register_schema(snapshot_schema, [snapshot_class_info])"
   ]
  },
  {
   "cell_type": "code",
   "execution_count": 16,
   "metadata": {
    "scrolled": true
   },
   "outputs": [
    {
     "data": {
      "text/plain": [
       "SerializationSchema(default_info=ClassInfo(table=simulation_objects, cls=<class 'openpathsampling.netcdfplus.base.StorableObject'>, lookup_result=<class 'openpathsampling.netcdfplus.base.StorableObject'>, find_uuids=None), class_info_list=[ClassInfo(table=simulation_objects, cls=<class 'openpathsampling.netcdfplus.base.StorableObject'>, lookup_result=<class 'openpathsampling.netcdfplus.base.StorableObject'>, find_uuids=None), ClassInfo(table=snapshot0, cls=<class 'openpathsampling.engines.toy.snapshot.ToySnapshot'>, lookup_result=<class 'openpathsampling.engines.toy.snapshot.ToySnapshot'>, find_uuids=<openpathsampling.experimental.storage.serialization_helpers.SchemaFindUUIDs object at 0x10568cba8>)])"
      ]
     },
     "execution_count": 16,
     "metadata": {},
     "output_type": "execute_result"
    }
   ],
   "source": [
    "storage.class_info"
   ]
  },
  {
   "cell_type": "code",
   "execution_count": 17,
   "metadata": {},
   "outputs": [],
   "source": [
    "storage.save(template)"
   ]
  },
  {
   "cell_type": "markdown",
   "metadata": {},
   "source": [
    "### Storing a fresh snapshot/engine\n",
    "\n",
    "The previous only added the snapshot to the store, because the engine had been loaded above."
   ]
  },
  {
   "cell_type": "code",
   "execution_count": 18,
   "metadata": {},
   "outputs": [],
   "source": [
    "new_engine = toys.Engine(\n",
    "    options=options,\n",
    "    topology=topology\n",
    ")\n",
    "\n",
    "new_snapshot = toys.Snapshot(\n",
    "    coordinates=np.array([[-0.5, -0.5]]), \n",
    "    velocities=np.array([[0.0,0.0]]),\n",
    "    engine=new_engine\n",
    ")\n",
    "\n",
    "# note that topology/PES is still the same, so should not store"
   ]
  },
  {
   "cell_type": "code",
   "execution_count": 19,
   "metadata": {},
   "outputs": [],
   "source": [
    "storage.save(new_snapshot)"
   ]
  },
  {
   "cell_type": "markdown",
   "metadata": {},
   "source": [
    "### Registering snapshot class from the features"
   ]
  },
  {
   "cell_type": "code",
   "execution_count": 20,
   "metadata": {},
   "outputs": [],
   "source": [
    "from openpathsampling.experimental.storage.snapshots import schema_from_entries, schema_for_snapshot, snapshot_registration_info"
   ]
  },
  {
   "cell_type": "code",
   "execution_count": 21,
   "metadata": {},
   "outputs": [
    {
     "data": {
      "text/plain": [
       "frozenset({('class', openpathsampling.engines.toy.snapshot.ToySnapshot),\n",
       "           ('n_atoms', 1),\n",
       "           ('n_spatial', 2)})"
      ]
     },
     "execution_count": 21,
     "metadata": {},
     "output_type": "execute_result"
    }
   ],
   "source": [
    "new_snapshot.engine.descriptor"
   ]
  },
  {
   "cell_type": "code",
   "execution_count": 22,
   "metadata": {},
   "outputs": [
    {
     "data": {
      "text/plain": [
       "[]"
      ]
     },
     "execution_count": 22,
     "metadata": {},
     "output_type": "execute_result"
    }
   ],
   "source": [
    "new_snapshot.__features__.lazy"
   ]
  },
  {
   "cell_type": "code",
   "execution_count": 23,
   "metadata": {},
   "outputs": [
    {
     "data": {
      "text/plain": [
       "{'snapshot': [('velocities', 'ndarray.float32({n_atoms},{n_spatial})'),\n",
       "  ('coordinates', 'ndarray.float32({n_atoms},{n_spatial})'),\n",
       "  ('engine', 'uuid')]}"
      ]
     },
     "execution_count": 23,
     "metadata": {},
     "output_type": "execute_result"
    }
   ],
   "source": [
    "schema_from_entries(new_snapshot.__features__.classes, new_snapshot.__features__.lazy)"
   ]
  },
  {
   "cell_type": "code",
   "execution_count": 24,
   "metadata": {},
   "outputs": [
    {
     "data": {
      "text/plain": [
       "{'snapshot': [('velocities', 'ndarray.float32({n_atoms},{n_spatial})'),\n",
       "  ('coordinates', 'ndarray.float32({n_atoms},{n_spatial})'),\n",
       "  ('engine', 'uuid')]}"
      ]
     },
     "execution_count": 24,
     "metadata": {},
     "output_type": "execute_result"
    }
   ],
   "source": [
    "schema_for_snapshot(new_snapshot)"
   ]
  },
  {
   "cell_type": "code",
   "execution_count": 25,
   "metadata": {},
   "outputs": [
    {
     "data": {
      "text/plain": [
       "({'snapshot0': [('velocities', 'ndarray.float32({n_atoms},{n_spatial})'),\n",
       "   ('coordinates', 'ndarray.float32({n_atoms},{n_spatial})'),\n",
       "   ('engine', 'uuid')]},\n",
       " [ClassInfo(table=snapshot0, cls=<class 'openpathsampling.engines.toy.snapshot.ToySnapshot'>, lookup_result=('48956517759891307508157719614706417692', <class 'openpathsampling.engines.toy.snapshot.ToySnapshot'>), find_uuids=None)])"
      ]
     },
     "execution_count": 25,
     "metadata": {},
     "output_type": "execute_result"
    }
   ],
   "source": [
    "snapshot_registration_info(new_snapshot, 0)"
   ]
  },
  {
   "cell_type": "code",
   "execution_count": null,
   "metadata": {},
   "outputs": [],
   "source": []
  }
 ],
 "metadata": {
  "kernelspec": {
   "display_name": "Python 3",
   "language": "python",
   "name": "python3"
  },
  "language_info": {
   "codemirror_mode": {
    "name": "ipython",
    "version": 3
   },
   "file_extension": ".py",
   "mimetype": "text/x-python",
   "name": "python",
   "nbconvert_exporter": "python",
   "pygments_lexer": "ipython3",
   "version": "3.7.3"
  },
  "toc": {
   "base_numbering": 1,
   "nav_menu": {},
   "number_sections": true,
   "sideBar": true,
   "skip_h1_title": true,
   "title_cell": "Table of Contents",
   "title_sidebar": "Contents",
   "toc_cell": false,
   "toc_position": {},
   "toc_section_display": true,
   "toc_window_display": true
  },
  "varInspector": {
   "cols": {
    "lenName": 16,
    "lenType": 16,
    "lenVar": 40
   },
   "kernels_config": {
    "python": {
     "delete_cmd_postfix": "",
     "delete_cmd_prefix": "del ",
     "library": "var_list.py",
     "varRefreshCmd": "print(var_dic_list())"
    },
    "r": {
     "delete_cmd_postfix": ") ",
     "delete_cmd_prefix": "rm(",
     "library": "var_list.r",
     "varRefreshCmd": "cat(var_dic_list()) "
    }
   },
   "types_to_exclude": [
    "module",
    "function",
    "builtin_function_or_method",
    "instance",
    "_Feature"
   ],
   "window_display": false
  }
 },
 "nbformat": 4,
 "nbformat_minor": 2
}
