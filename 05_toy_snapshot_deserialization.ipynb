{
 "cells": [
  {
   "cell_type": "code",
   "execution_count": 1,
   "metadata": {},
   "outputs": [],
   "source": [
    "import openpathsampling as paths"
   ]
  },
  {
   "cell_type": "code",
   "execution_count": 2,
   "metadata": {},
   "outputs": [],
   "source": [
    "from openpathsampling.experimental.storage.storage import GeneralStorage\n",
    "from openpathsampling.experimental.storage.class_info import ClassInfoContainer, ClassInfo\n",
    "from openpathsampling.experimental.storage.storage import universal_schema\n",
    "from openpathsampling.experimental.storage.sql_backend import SQLStorageBackend\n",
    "import openpathsampling.experimental.storage.serialization_helpers as serialization\n",
    "from openpathsampling.experimental.storage import tools\n",
    "\n",
    "import openpathsampling.engines.toy as toys\n",
    "\n",
    "from openpathsampling.experimental.storage.ops_storage import OPSStorage, OPSClassInfoContainer\n",
    "\n",
    "import numpy as np"
   ]
  },
  {
   "cell_type": "code",
   "execution_count": 3,
   "metadata": {},
   "outputs": [],
   "source": [
    "serialize_sim = lambda obj: {'uuid': serialization.get_uuid(obj), 'json': serialization.to_json_obj(obj)}\n",
    "deserialize_sim = serialization.from_json_obj"
   ]
  },
  {
   "cell_type": "code",
   "execution_count": 4,
   "metadata": {},
   "outputs": [],
   "source": [
    "from openpathsampling.netcdfplus import StorableObject\n",
    "default_class_info = ClassInfo(table='simulation_objects',\n",
    "                               cls=StorableObject,\n",
    "                               serializer=serialize_sim,\n",
    "                               deserializer=deserialize_sim)"
   ]
  },
  {
   "cell_type": "markdown",
   "metadata": {},
   "source": [
    "### Save to storage\n",
    "\n",
    "This has already been checked in previous notebooks"
   ]
  },
  {
   "cell_type": "code",
   "execution_count": 5,
   "metadata": {},
   "outputs": [],
   "source": [
    "schema = {\n",
    "    'simulation_objects': [('json', 'json_obj'), ('class_idx', 'int')]\n",
    "}"
   ]
  },
  {
   "cell_type": "code",
   "execution_count": 6,
   "metadata": {
    "scrolled": false
   },
   "outputs": [],
   "source": [
    "backend = SQLStorageBackend(\"test.sql\", mode='w')\n",
    "storage = OPSStorage.from_backend(\n",
    "    backend=backend,\n",
    "    schema=schema,\n",
    "    class_info=OPSClassInfoContainer(default_info=default_class_info)\n",
    ")"
   ]
  },
  {
   "cell_type": "code",
   "execution_count": 7,
   "metadata": {},
   "outputs": [],
   "source": [
    "pes = (\n",
    "    toys.OuterWalls([1.0, 1.0], [0.0, 0.0]) +\n",
    "    toys.Gaussian(-0.7, [12.0, 12.0], [0.0, 0.4]) +\n",
    "    toys.Gaussian(-0.7, [12.0, 12.0], [-0.5, -0.5]) +\n",
    "    toys.Gaussian(-0.7, [12.0, 12.0], [0.5, -0.5])\n",
    ")\n",
    "\n",
    "topology=toys.Topology(\n",
    "    n_spatial = 2,\n",
    "    masses =[1.0, 1.0],\n",
    "    pes = pes\n",
    ")\n",
    "integ = toys.LangevinBAOABIntegrator(dt=0.02, temperature=0.1, gamma=2.5)\n",
    "\n",
    "options={\n",
    "    'integ' : integ,\n",
    "    'n_frames_max' : 5000,\n",
    "    'n_steps_per_frame' : 1\n",
    "}\n",
    "\n",
    "engine = toys.Engine(\n",
    "    options=options,\n",
    "    topology=topology\n",
    ")\n",
    "\n",
    "template = toys.Snapshot(\n",
    "    coordinates=np.array([[-0.5, -0.5]]), \n",
    "    velocities=np.array([[0.0,0.0]]),\n",
    "    engine=engine\n",
    ")"
   ]
  },
  {
   "cell_type": "code",
   "execution_count": 8,
   "metadata": {},
   "outputs": [],
   "source": [
    "template_uuid = str(template.__uuid__)"
   ]
  },
  {
   "cell_type": "code",
   "execution_count": 9,
   "metadata": {},
   "outputs": [],
   "source": [
    "import logging\n",
    "import sys\n",
    "\n",
    "root = logging.getLogger()\n",
    "root.setLevel(logging.DEBUG)\n",
    "\n",
    "ch = logging.StreamHandler(sys.stdout)\n",
    "ch.setLevel(logging.DEBUG)\n",
    "formatter = logging.Formatter('%(asctime)s - %(name)s - %(levelname)s - %(message)s')\n",
    "ch.setFormatter(formatter)\n",
    "root.addHandler(ch)"
   ]
  },
  {
   "cell_type": "code",
   "execution_count": 10,
   "metadata": {},
   "outputs": [
    {
     "name": "stdout",
     "output_type": "stream",
     "text": [
      "2020-05-19 10:04:50,153 - openpathsampling.experimental.storage.storage - DEBUG - Starting save\n",
      "2020-05-19 10:04:50,157 - openpathsampling.experimental.storage.sql_backend - DEBUG - Looking for 1 UUIDs\n",
      "2020-05-19 10:04:50,160 - openpathsampling.experimental.storage.sql_backend - DEBUG - New block of 1 UUIDs\n",
      "2020-05-19 10:04:50,167 - openpathsampling.experimental.storage.sql_backend - DEBUG - Found 0 UUIDs\n",
      "2020-05-19 10:04:50,171 - openpathsampling.experimental.storage.storage - DEBUG - Listing all objects to save\n",
      "2020-05-19 10:04:50,250 - openpathsampling.experimental.storage.storage - DEBUG - Checking if objects already exist in database\n",
      "2020-05-19 10:04:50,257 - openpathsampling.experimental.storage.sql_backend - DEBUG - Looking for 11 UUIDs\n",
      "2020-05-19 10:04:50,258 - openpathsampling.experimental.storage.sql_backend - DEBUG - New block of 11 UUIDs\n",
      "2020-05-19 10:04:50,261 - openpathsampling.experimental.storage.sql_backend - DEBUG - Found 0 UUIDs\n",
      "2020-05-19 10:04:50,263 - openpathsampling.experimental.storage.storage - INFO - Registering tables for 1 missing objects\n",
      "2020-05-19 10:04:50,265 - openpathsampling.experimental.storage.sql_backend - INFO - Add schema table snapshot0\n",
      "2020-05-19 10:04:50,275 - openpathsampling.experimental.storage.storage - INFO - Registered 1 new tables: ['snapshot0']\n",
      "2020-05-19 10:04:50,277 - openpathsampling.experimental.storage.storage - DEBUG - Filling 2 tables: ['simulation_objects', 'snapshot0']\n",
      "2020-05-19 10:04:50,278 - openpathsampling.experimental.storage.storage - DEBUG - Storing 10 objects to table simulation_objects\n",
      "2020-05-19 10:04:50,304 - openpathsampling.experimental.storage.storage - DEBUG - Storing complete\n",
      "2020-05-19 10:04:50,313 - openpathsampling.experimental.storage.storage - DEBUG - Storing 1 objects to table snapshot0\n",
      "2020-05-19 10:04:50,330 - openpathsampling.experimental.storage.storage - DEBUG - Storing complete\n",
      "2020-05-19 10:04:50,331 - openpathsampling.experimental.storage.storage - DEBUG - Starting save\n",
      "2020-05-19 10:04:50,332 - openpathsampling.experimental.storage.sql_backend - DEBUG - Looking for 1 UUIDs\n",
      "2020-05-19 10:04:50,335 - openpathsampling.experimental.storage.sql_backend - DEBUG - New block of 1 UUIDs\n",
      "2020-05-19 10:04:50,338 - openpathsampling.experimental.storage.sql_backend - DEBUG - Found 1 UUIDs\n"
     ]
    }
   ],
   "source": [
    "storage.save(template)\n",
    "storage.save(engine)"
   ]
  },
  {
   "cell_type": "code",
   "execution_count": 11,
   "metadata": {},
   "outputs": [],
   "source": [
    "eng_uuid = engine.__uuid__"
   ]
  },
  {
   "cell_type": "code",
   "execution_count": 12,
   "metadata": {
    "scrolled": true
   },
   "outputs": [
    {
     "data": {
      "text/plain": [
       "['schema', 'metadata', 'uuid', 'tables', 'simulation_objects', 'snapshot0']"
      ]
     },
     "execution_count": 12,
     "metadata": {},
     "output_type": "execute_result"
    }
   ],
   "source": [
    "list(storage.backend.metadata.tables.keys())"
   ]
  },
  {
   "cell_type": "code",
   "execution_count": 13,
   "metadata": {},
   "outputs": [],
   "source": [
    "storage.close()"
   ]
  },
  {
   "cell_type": "code",
   "execution_count": 14,
   "metadata": {},
   "outputs": [],
   "source": [
    "# TODO: should make sure here that we error if we try to get anything out of storage"
   ]
  },
  {
   "cell_type": "markdown",
   "metadata": {},
   "source": [
    "### Reload from storage"
   ]
  },
  {
   "cell_type": "code",
   "execution_count": 15,
   "metadata": {},
   "outputs": [
    {
     "name": "stdout",
     "output_type": "stream",
     "text": [
      "2020-05-19 10:04:50,428 - openpathsampling.experimental.storage.storage - INFO - Missing info from 1 dynamically-registered tables\n",
      "2020-05-19 10:04:50,429 - openpathsampling.experimental.storage.ops_storage - INFO - Attempting to register missing table snapshot0 (<class 'openpathsampling.engines.toy.snapshot.ToySnapshot'>)\n",
      "2020-05-19 10:04:50,438 - openpathsampling.experimental.storage.ops_storage - INFO - Found 1 possible lookups\n",
      "2020-05-19 10:04:50,439 - openpathsampling.experimental.storage.ops_storage - INFO - Lookups for tables: dict_keys(['snapshot0'])\n",
      "2020-05-19 10:04:50,441 - openpathsampling.experimental.storage.storage - INFO - Successfully registered 1 missing tables\n",
      "2020-05-19 10:04:50,445 - openpathsampling.experimental.storage.storage - DEBUG - Starting to load 1 objects\n",
      "2020-05-19 10:04:50,448 - openpathsampling.experimental.storage.storage - DEBUG - Getting internal structure of 1 non-cached objects\n",
      "2020-05-19 10:04:50,449 - openpathsampling.experimental.storage.sql_backend - DEBUG - Looking for 1 UUIDs\n",
      "2020-05-19 10:04:50,450 - openpathsampling.experimental.storage.sql_backend - DEBUG - New block of 1 UUIDs\n",
      "2020-05-19 10:04:50,456 - openpathsampling.experimental.storage.sql_backend - DEBUG - Found 1 UUIDs\n",
      "2020-05-19 10:04:50,462 - openpathsampling.experimental.storage.sql_backend - DEBUG - Looking for 2 UUIDs\n",
      "2020-05-19 10:04:50,463 - openpathsampling.experimental.storage.sql_backend - DEBUG - New block of 2 UUIDs\n",
      "2020-05-19 10:04:50,466 - openpathsampling.experimental.storage.sql_backend - DEBUG - Found 2 UUIDs\n",
      "2020-05-19 10:04:50,475 - openpathsampling.experimental.storage.sql_backend - DEBUG - Looking for 1 UUIDs\n",
      "2020-05-19 10:04:50,477 - openpathsampling.experimental.storage.sql_backend - DEBUG - New block of 1 UUIDs\n",
      "2020-05-19 10:04:50,482 - openpathsampling.experimental.storage.sql_backend - DEBUG - Found 1 UUIDs\n",
      "2020-05-19 10:04:50,487 - openpathsampling.experimental.storage.sql_backend - DEBUG - Looking for 2 UUIDs\n",
      "2020-05-19 10:04:50,488 - openpathsampling.experimental.storage.sql_backend - DEBUG - New block of 2 UUIDs\n",
      "2020-05-19 10:04:50,490 - openpathsampling.experimental.storage.sql_backend - DEBUG - Found 2 UUIDs\n",
      "2020-05-19 10:04:50,493 - openpathsampling.experimental.storage.sql_backend - DEBUG - Looking for 2 UUIDs\n",
      "2020-05-19 10:04:50,494 - openpathsampling.experimental.storage.sql_backend - DEBUG - New block of 2 UUIDs\n",
      "2020-05-19 10:04:50,496 - openpathsampling.experimental.storage.sql_backend - DEBUG - Found 2 UUIDs\n",
      "2020-05-19 10:04:50,499 - openpathsampling.experimental.storage.sql_backend - DEBUG - Looking for 2 UUIDs\n",
      "2020-05-19 10:04:50,501 - openpathsampling.experimental.storage.sql_backend - DEBUG - New block of 2 UUIDs\n",
      "2020-05-19 10:04:50,504 - openpathsampling.experimental.storage.sql_backend - DEBUG - Found 2 UUIDs\n",
      "2020-05-19 10:04:50,507 - openpathsampling.experimental.storage.storage - DEBUG - Loading 10 objects; creating 0 lazy proxies\n",
      "2020-05-19 10:04:50,509 - openpathsampling.experimental.storage.storage - DEBUG - Identifying classes for 0 lazy proxies\n",
      "2020-05-19 10:04:50,512 - openpathsampling.experimental.storage.sql_backend - DEBUG - Looking for 0 UUIDs\n",
      "2020-05-19 10:04:50,513 - openpathsampling.experimental.storage.sql_backend - DEBUG - New block of 0 UUIDs\n",
      "2020-05-19 10:04:50,515 - openpathsampling.experimental.storage.sql_backend - DEBUG - Found 0 UUIDs\n",
      "2020-05-19 10:04:50,517 - openpathsampling.experimental.storage.storage - DEBUG - Reconstructing from 10 objects\n",
      "2020-05-19 10:04:50,520 - openpathsampling.experimental.storage.storage - DEBUG - Starting to load 1 objects\n",
      "2020-05-19 10:04:50,525 - openpathsampling.experimental.storage.storage - DEBUG - Getting internal structure of 0 non-cached objects\n",
      "2020-05-19 10:04:50,526 - openpathsampling.experimental.storage.storage - DEBUG - Loading 0 objects; creating 0 lazy proxies\n",
      "2020-05-19 10:04:50,527 - openpathsampling.experimental.storage.storage - DEBUG - Identifying classes for 0 lazy proxies\n",
      "2020-05-19 10:04:50,528 - openpathsampling.experimental.storage.sql_backend - DEBUG - Looking for 0 UUIDs\n",
      "2020-05-19 10:04:50,530 - openpathsampling.experimental.storage.sql_backend - DEBUG - New block of 0 UUIDs\n",
      "2020-05-19 10:04:50,535 - openpathsampling.experimental.storage.sql_backend - DEBUG - Found 0 UUIDs\n",
      "2020-05-19 10:04:50,536 - openpathsampling.experimental.storage.storage - DEBUG - Reconstructing from 0 objects\n",
      "2020-05-19 10:04:50,538 - openpathsampling.experimental.storage.storage - DEBUG - Starting to load 1 objects\n",
      "2020-05-19 10:04:50,541 - openpathsampling.experimental.storage.storage - DEBUG - Getting internal structure of 0 non-cached objects\n",
      "2020-05-19 10:04:50,543 - openpathsampling.experimental.storage.storage - DEBUG - Loading 0 objects; creating 0 lazy proxies\n",
      "2020-05-19 10:04:50,555 - openpathsampling.experimental.storage.storage - DEBUG - Identifying classes for 0 lazy proxies\n",
      "2020-05-19 10:04:50,556 - openpathsampling.experimental.storage.sql_backend - DEBUG - Looking for 0 UUIDs\n",
      "2020-05-19 10:04:50,557 - openpathsampling.experimental.storage.sql_backend - DEBUG - New block of 0 UUIDs\n",
      "2020-05-19 10:04:50,559 - openpathsampling.experimental.storage.sql_backend - DEBUG - Found 0 UUIDs\n",
      "2020-05-19 10:04:50,560 - openpathsampling.experimental.storage.storage - DEBUG - Reconstructing from 0 objects\n",
      "2020-05-19 10:04:50,563 - openpathsampling.experimental.storage.storage - DEBUG - Starting to load 1 objects\n",
      "2020-05-19 10:04:50,566 - openpathsampling.experimental.storage.storage - DEBUG - Getting internal structure of 0 non-cached objects\n",
      "2020-05-19 10:04:50,567 - openpathsampling.experimental.storage.storage - DEBUG - Loading 0 objects; creating 0 lazy proxies\n",
      "2020-05-19 10:04:50,569 - openpathsampling.experimental.storage.storage - DEBUG - Identifying classes for 0 lazy proxies\n",
      "2020-05-19 10:04:50,570 - openpathsampling.experimental.storage.sql_backend - DEBUG - Looking for 0 UUIDs\n",
      "2020-05-19 10:04:50,570 - openpathsampling.experimental.storage.sql_backend - DEBUG - New block of 0 UUIDs\n",
      "2020-05-19 10:04:50,583 - openpathsampling.experimental.storage.sql_backend - DEBUG - Found 0 UUIDs\n",
      "2020-05-19 10:04:50,584 - openpathsampling.experimental.storage.storage - DEBUG - Reconstructing from 0 objects\n",
      "2020-05-19 10:04:50,585 - openpathsampling.experimental.storage.storage - DEBUG - Starting to load 1 objects\n",
      "2020-05-19 10:04:50,586 - openpathsampling.experimental.storage.storage - DEBUG - Getting internal structure of 0 non-cached objects\n",
      "2020-05-19 10:04:50,587 - openpathsampling.experimental.storage.storage - DEBUG - Loading 0 objects; creating 0 lazy proxies\n",
      "2020-05-19 10:04:50,588 - openpathsampling.experimental.storage.storage - DEBUG - Identifying classes for 0 lazy proxies\n",
      "2020-05-19 10:04:50,589 - openpathsampling.experimental.storage.sql_backend - DEBUG - Looking for 0 UUIDs\n",
      "2020-05-19 10:04:50,589 - openpathsampling.experimental.storage.sql_backend - DEBUG - New block of 0 UUIDs\n",
      "2020-05-19 10:04:50,593 - openpathsampling.experimental.storage.sql_backend - DEBUG - Found 0 UUIDs\n",
      "2020-05-19 10:04:50,594 - openpathsampling.experimental.storage.storage - DEBUG - Reconstructing from 0 objects\n",
      "2020-05-19 10:04:50,595 - openpathsampling.experimental.storage.storage - DEBUG - Starting to load 1 objects\n",
      "2020-05-19 10:04:50,597 - openpathsampling.experimental.storage.storage - DEBUG - Getting internal structure of 0 non-cached objects\n",
      "2020-05-19 10:04:50,598 - openpathsampling.experimental.storage.storage - DEBUG - Loading 0 objects; creating 0 lazy proxies\n",
      "2020-05-19 10:04:50,600 - openpathsampling.experimental.storage.storage - DEBUG - Identifying classes for 0 lazy proxies\n",
      "2020-05-19 10:04:50,601 - openpathsampling.experimental.storage.sql_backend - DEBUG - Looking for 0 UUIDs\n",
      "2020-05-19 10:04:50,602 - openpathsampling.experimental.storage.sql_backend - DEBUG - New block of 0 UUIDs\n",
      "2020-05-19 10:04:50,607 - openpathsampling.experimental.storage.sql_backend - DEBUG - Found 0 UUIDs\n",
      "2020-05-19 10:04:50,608 - openpathsampling.experimental.storage.storage - DEBUG - Reconstructing from 0 objects\n",
      "2020-05-19 10:04:50,609 - openpathsampling.experimental.storage.storage - DEBUG - Starting to load 1 objects\n",
      "2020-05-19 10:04:50,610 - openpathsampling.experimental.storage.storage - DEBUG - Getting internal structure of 0 non-cached objects\n"
     ]
    },
    {
     "name": "stdout",
     "output_type": "stream",
     "text": [
      "2020-05-19 10:04:50,612 - openpathsampling.experimental.storage.storage - DEBUG - Loading 0 objects; creating 0 lazy proxies\n",
      "2020-05-19 10:04:50,613 - openpathsampling.experimental.storage.storage - DEBUG - Identifying classes for 0 lazy proxies\n",
      "2020-05-19 10:04:50,614 - openpathsampling.experimental.storage.sql_backend - DEBUG - Looking for 0 UUIDs\n",
      "2020-05-19 10:04:50,615 - openpathsampling.experimental.storage.sql_backend - DEBUG - New block of 0 UUIDs\n",
      "2020-05-19 10:04:50,618 - openpathsampling.experimental.storage.sql_backend - DEBUG - Found 0 UUIDs\n",
      "2020-05-19 10:04:50,619 - openpathsampling.experimental.storage.storage - DEBUG - Reconstructing from 0 objects\n",
      "2020-05-19 10:04:50,620 - openpathsampling.experimental.storage.storage - DEBUG - Starting to load 1 objects\n",
      "2020-05-19 10:04:50,621 - openpathsampling.experimental.storage.storage - DEBUG - Getting internal structure of 0 non-cached objects\n",
      "2020-05-19 10:04:50,622 - openpathsampling.experimental.storage.storage - DEBUG - Loading 0 objects; creating 0 lazy proxies\n",
      "2020-05-19 10:04:50,623 - openpathsampling.experimental.storage.storage - DEBUG - Identifying classes for 0 lazy proxies\n",
      "2020-05-19 10:04:50,626 - openpathsampling.experimental.storage.sql_backend - DEBUG - Looking for 0 UUIDs\n",
      "2020-05-19 10:04:50,628 - openpathsampling.experimental.storage.sql_backend - DEBUG - New block of 0 UUIDs\n",
      "2020-05-19 10:04:50,632 - openpathsampling.experimental.storage.sql_backend - DEBUG - Found 0 UUIDs\n",
      "2020-05-19 10:04:50,633 - openpathsampling.experimental.storage.storage - DEBUG - Reconstructing from 0 objects\n",
      "2020-05-19 10:04:50,634 - openpathsampling.experimental.storage.storage - DEBUG - Starting to load 1 objects\n",
      "2020-05-19 10:04:50,634 - openpathsampling.experimental.storage.storage - DEBUG - Getting internal structure of 0 non-cached objects\n",
      "2020-05-19 10:04:50,635 - openpathsampling.experimental.storage.storage - DEBUG - Loading 0 objects; creating 0 lazy proxies\n",
      "2020-05-19 10:04:50,636 - openpathsampling.experimental.storage.storage - DEBUG - Identifying classes for 0 lazy proxies\n",
      "2020-05-19 10:04:50,637 - openpathsampling.experimental.storage.sql_backend - DEBUG - Looking for 0 UUIDs\n",
      "2020-05-19 10:04:50,638 - openpathsampling.experimental.storage.sql_backend - DEBUG - New block of 0 UUIDs\n",
      "2020-05-19 10:04:50,640 - openpathsampling.experimental.storage.sql_backend - DEBUG - Found 0 UUIDs\n",
      "2020-05-19 10:04:50,641 - openpathsampling.experimental.storage.storage - DEBUG - Reconstructing from 0 objects\n",
      "2020-05-19 10:04:50,642 - openpathsampling.experimental.storage.storage - DEBUG - Starting to load 1 objects\n",
      "2020-05-19 10:04:50,643 - openpathsampling.experimental.storage.storage - DEBUG - Getting internal structure of 0 non-cached objects\n",
      "2020-05-19 10:04:50,643 - openpathsampling.experimental.storage.storage - DEBUG - Loading 0 objects; creating 0 lazy proxies\n",
      "2020-05-19 10:04:50,644 - openpathsampling.experimental.storage.storage - DEBUG - Identifying classes for 0 lazy proxies\n",
      "2020-05-19 10:04:50,645 - openpathsampling.experimental.storage.sql_backend - DEBUG - Looking for 0 UUIDs\n",
      "2020-05-19 10:04:50,646 - openpathsampling.experimental.storage.sql_backend - DEBUG - New block of 0 UUIDs\n",
      "2020-05-19 10:04:50,649 - openpathsampling.experimental.storage.sql_backend - DEBUG - Found 0 UUIDs\n",
      "2020-05-19 10:04:50,650 - openpathsampling.experimental.storage.storage - DEBUG - Reconstructing from 0 objects\n"
     ]
    }
   ],
   "source": [
    "backend = SQLStorageBackend(\"test.sql\", mode='r')\n",
    "storage = OPSStorage.from_backend(\n",
    "    backend=backend,\n",
    "    schema=backend.schema,\n",
    "    class_info=OPSClassInfoContainer(default_info=default_class_info)\n",
    ")"
   ]
  },
  {
   "cell_type": "markdown",
   "metadata": {},
   "source": [
    "getting `class_info` when we need to reload\n",
    "\n",
    "**NOTE:** I think most of this can come from the first instance; serialization/deserialization is the default, so we just need to get the type -- but we *don't* need to have the fully registered `class_info` ... class type can be another entry in the `tables` table\n",
    "\n",
    "can we get the need for a class"
   ]
  },
  {
   "cell_type": "code",
   "execution_count": 16,
   "metadata": {},
   "outputs": [
    {
     "data": {
      "text/plain": [
       "{0: 'simulation_objects', 1: 'snapshot0'}"
      ]
     },
     "execution_count": 16,
     "metadata": {},
     "output_type": "execute_result"
    }
   ],
   "source": [
    "backend.number_to_table"
   ]
  },
  {
   "cell_type": "code",
   "execution_count": 17,
   "metadata": {},
   "outputs": [
    {
     "data": {
      "text/plain": [
       "ClassInfo(table=simulation_objects, cls=<class 'openpathsampling.netcdfplus.base.StorableObject'>, lookup_result=<class 'openpathsampling.netcdfplus.base.StorableObject'>, find_uuids=None)"
      ]
     },
     "execution_count": 17,
     "metadata": {},
     "output_type": "execute_result"
    }
   ],
   "source": [
    "storage.class_info['simulation_objects']"
   ]
  },
  {
   "cell_type": "code",
   "execution_count": 18,
   "metadata": {},
   "outputs": [
    {
     "name": "stdout",
     "output_type": "stream",
     "text": [
      "2020-05-19 10:04:50,681 - openpathsampling.experimental.storage.storage - DEBUG - Starting to load 1 objects\n",
      "2020-05-19 10:04:50,684 - openpathsampling.experimental.storage.storage - DEBUG - Getting internal structure of 0 non-cached objects\n",
      "2020-05-19 10:04:50,685 - openpathsampling.experimental.storage.storage - DEBUG - Loading 0 objects; creating 0 lazy proxies\n",
      "2020-05-19 10:04:50,686 - openpathsampling.experimental.storage.storage - DEBUG - Identifying classes for 0 lazy proxies\n",
      "2020-05-19 10:04:50,687 - openpathsampling.experimental.storage.sql_backend - DEBUG - Looking for 0 UUIDs\n",
      "2020-05-19 10:04:50,688 - openpathsampling.experimental.storage.sql_backend - DEBUG - New block of 0 UUIDs\n",
      "2020-05-19 10:04:50,690 - openpathsampling.experimental.storage.sql_backend - DEBUG - Found 0 UUIDs\n",
      "2020-05-19 10:04:50,692 - openpathsampling.experimental.storage.storage - DEBUG - Reconstructing from 0 objects\n"
     ]
    },
    {
     "data": {
      "text/plain": [
       "[<openpathsampling.engines.toy.engine.ToyEngine at 0x1137dfc88>]"
      ]
     },
     "execution_count": 18,
     "metadata": {},
     "output_type": "execute_result"
    }
   ],
   "source": [
    "storage.load([str(eng_uuid)])"
   ]
  },
  {
   "cell_type": "code",
   "execution_count": 19,
   "metadata": {},
   "outputs": [
    {
     "name": "stdout",
     "output_type": "stream",
     "text": [
      "2020-05-19 10:04:50,702 - openpathsampling.experimental.storage.storage - DEBUG - Starting to load 1 objects\n",
      "2020-05-19 10:04:50,704 - openpathsampling.experimental.storage.storage - DEBUG - Getting internal structure of 0 non-cached objects\n",
      "2020-05-19 10:04:50,705 - openpathsampling.experimental.storage.storage - DEBUG - Loading 0 objects; creating 0 lazy proxies\n",
      "2020-05-19 10:04:50,707 - openpathsampling.experimental.storage.storage - DEBUG - Identifying classes for 0 lazy proxies\n",
      "2020-05-19 10:04:50,709 - openpathsampling.experimental.storage.sql_backend - DEBUG - Looking for 0 UUIDs\n",
      "2020-05-19 10:04:50,711 - openpathsampling.experimental.storage.sql_backend - DEBUG - New block of 0 UUIDs\n",
      "2020-05-19 10:04:50,723 - openpathsampling.experimental.storage.sql_backend - DEBUG - Found 0 UUIDs\n",
      "2020-05-19 10:04:50,725 - openpathsampling.experimental.storage.storage - DEBUG - Reconstructing from 0 objects\n"
     ]
    }
   ],
   "source": [
    "engine = storage.load([str(eng_uuid)])[0]"
   ]
  },
  {
   "cell_type": "code",
   "execution_count": 20,
   "metadata": {},
   "outputs": [
    {
     "data": {
      "text/plain": [
       "{'options': {'n_frames_max': 5000,\n",
       "  'on_max_length': 'fail',\n",
       "  'on_nan': 'fail',\n",
       "  'retries_when_nan': 2,\n",
       "  'retries_when_error': 0,\n",
       "  'retries_when_max_length': 0,\n",
       "  'on_retry': 'full',\n",
       "  'on_error': 'fail',\n",
       "  'integ': <openpathsampling.engines.toy.integrators.LangevinBAOABIntegrator at 0x1137dfa20>,\n",
       "  'n_steps_per_frame': 1},\n",
       " 'topology': <openpathsampling.engines.toy.topology.ToyTopology at 0x1137dfb38>}"
      ]
     },
     "execution_count": 20,
     "metadata": {},
     "output_type": "execute_result"
    }
   ],
   "source": [
    "engine.to_dict()"
   ]
  },
  {
   "cell_type": "code",
   "execution_count": 21,
   "metadata": {
    "scrolled": false
   },
   "outputs": [
    {
     "name": "stdout",
     "output_type": "stream",
     "text": [
      "2020-05-19 10:04:50,740 - openpathsampling.experimental.storage.storage - DEBUG - Starting to load 1 objects\n",
      "2020-05-19 10:04:50,743 - openpathsampling.experimental.storage.storage - DEBUG - Getting internal structure of 1 non-cached objects\n",
      "2020-05-19 10:04:50,749 - openpathsampling.experimental.storage.sql_backend - DEBUG - Looking for 1 UUIDs\n",
      "2020-05-19 10:04:50,750 - openpathsampling.experimental.storage.sql_backend - DEBUG - New block of 1 UUIDs\n",
      "2020-05-19 10:04:50,753 - openpathsampling.experimental.storage.sql_backend - DEBUG - Found 1 UUIDs\n",
      "2020-05-19 10:04:50,756 - openpathsampling.experimental.storage.storage - DEBUG - Loading 1 objects; creating 0 lazy proxies\n",
      "2020-05-19 10:04:50,758 - openpathsampling.experimental.storage.storage - DEBUG - Identifying classes for 0 lazy proxies\n",
      "2020-05-19 10:04:50,760 - openpathsampling.experimental.storage.sql_backend - DEBUG - Looking for 0 UUIDs\n",
      "2020-05-19 10:04:50,762 - openpathsampling.experimental.storage.sql_backend - DEBUG - New block of 0 UUIDs\n",
      "2020-05-19 10:04:50,765 - openpathsampling.experimental.storage.sql_backend - DEBUG - Found 0 UUIDs\n",
      "2020-05-19 10:04:50,766 - openpathsampling.experimental.storage.storage - DEBUG - Reconstructing from 2 objects\n"
     ]
    },
    {
     "data": {
      "text/plain": [
       "[<openpathsampling.engines.toy.snapshot.ToySnapshot at 0x1137db160>]"
      ]
     },
     "execution_count": 21,
     "metadata": {},
     "output_type": "execute_result"
    }
   ],
   "source": [
    "storage.load([template_uuid])"
   ]
  },
  {
   "cell_type": "code",
   "execution_count": 22,
   "metadata": {},
   "outputs": [
    {
     "name": "stdout",
     "output_type": "stream",
     "text": [
      "2020-05-19 10:04:50,780 - openpathsampling.experimental.storage.storage - DEBUG - Starting to load 1 objects\n",
      "2020-05-19 10:04:50,782 - openpathsampling.experimental.storage.storage - DEBUG - Getting internal structure of 0 non-cached objects\n",
      "2020-05-19 10:04:50,783 - openpathsampling.experimental.storage.storage - DEBUG - Loading 0 objects; creating 0 lazy proxies\n",
      "2020-05-19 10:04:50,784 - openpathsampling.experimental.storage.storage - DEBUG - Identifying classes for 0 lazy proxies\n",
      "2020-05-19 10:04:50,785 - openpathsampling.experimental.storage.sql_backend - DEBUG - Looking for 0 UUIDs\n",
      "2020-05-19 10:04:50,786 - openpathsampling.experimental.storage.sql_backend - DEBUG - New block of 0 UUIDs\n",
      "2020-05-19 10:04:50,788 - openpathsampling.experimental.storage.sql_backend - DEBUG - Found 0 UUIDs\n",
      "2020-05-19 10:04:50,789 - openpathsampling.experimental.storage.storage - DEBUG - Reconstructing from 0 objects\n"
     ]
    }
   ],
   "source": [
    "snapshot = storage.load([template_uuid])[0]"
   ]
  },
  {
   "cell_type": "code",
   "execution_count": 23,
   "metadata": {
    "scrolled": true
   },
   "outputs": [
    {
     "data": {
      "text/plain": [
       "139948483702057181973983775567520989208"
      ]
     },
     "execution_count": 23,
     "metadata": {},
     "output_type": "execute_result"
    }
   ],
   "source": [
    "snapshot.__uuid__"
   ]
  },
  {
   "cell_type": "code",
   "execution_count": 24,
   "metadata": {},
   "outputs": [
    {
     "data": {
      "text/plain": [
       "'139948483702057181973983775567520989208'"
      ]
     },
     "execution_count": 24,
     "metadata": {},
     "output_type": "execute_result"
    }
   ],
   "source": [
    "template_uuid"
   ]
  },
  {
   "cell_type": "code",
   "execution_count": 25,
   "metadata": {},
   "outputs": [
    {
     "data": {
      "text/plain": [
       "139948483702057181973983775567520989206"
      ]
     },
     "execution_count": 25,
     "metadata": {},
     "output_type": "execute_result"
    }
   ],
   "source": [
    "engine.__uuid__"
   ]
  },
  {
   "cell_type": "code",
   "execution_count": 26,
   "metadata": {},
   "outputs": [],
   "source": [
    "snap0 = storage.backend.metadata.tables['snapshot0']"
   ]
  },
  {
   "cell_type": "code",
   "execution_count": 27,
   "metadata": {},
   "outputs": [
    {
     "data": {
      "text/plain": [
       "Table('snapshot0', MetaData(bind=Engine(sqlite:///test.sql)), Column('idx', INTEGER(), table=<snapshot0>, primary_key=True, nullable=False), Column('uuid', VARCHAR(), table=<snapshot0>), Column('velocities', BLOB(), table=<snapshot0>), Column('coordinates', BLOB(), table=<snapshot0>), Column('engine', VARCHAR(), table=<snapshot0>), schema=None)"
      ]
     },
     "execution_count": 27,
     "metadata": {},
     "output_type": "execute_result"
    }
   ],
   "source": [
    "snap0"
   ]
  },
  {
   "cell_type": "code",
   "execution_count": 28,
   "metadata": {},
   "outputs": [
    {
     "data": {
      "text/plain": [
       "[(1, '139948483702057181973983775567520989208', b'\\x00\\x00\\x00\\x00\\x00\\x00\\x00\\x00', b'\\x00\\x00\\x00\\xbf\\x00\\x00\\x00\\xbf', '139948483702057181973983775567520989206')]"
      ]
     },
     "execution_count": 28,
     "metadata": {},
     "output_type": "execute_result"
    }
   ],
   "source": [
    "with backend.engine.connect() as conn:\n",
    "    results = list(conn.execute(snap0.select()))\n",
    "results"
   ]
  },
  {
   "cell_type": "code",
   "execution_count": 29,
   "metadata": {},
   "outputs": [
    {
     "data": {
      "text/plain": [
       "(1, '139948483702057181973983775567520989208', b'\\x00\\x00\\x00\\x00\\x00\\x00\\x00\\x00', b'\\x00\\x00\\x00\\xbf\\x00\\x00\\x00\\xbf', '139948483702057181973983775567520989206')"
      ]
     },
     "execution_count": 29,
     "metadata": {},
     "output_type": "execute_result"
    }
   ],
   "source": [
    "results[0]"
   ]
  },
  {
   "cell_type": "code",
   "execution_count": 30,
   "metadata": {},
   "outputs": [
    {
     "data": {
      "text/plain": [
       "ClassInfo(table=snapshot0, cls=<class 'openpathsampling.engines.toy.snapshot.ToySnapshot'>, lookup_result=('139948483702057181973983775567520989206', <class 'openpathsampling.engines.toy.snapshot.ToySnapshot'>), find_uuids=<openpathsampling.experimental.storage.serialization_helpers.SchemaFindUUIDs object at 0x1137bbef0>)"
      ]
     },
     "execution_count": 30,
     "metadata": {},
     "output_type": "execute_result"
    }
   ],
   "source": [
    "storage.class_info[template]"
   ]
  },
  {
   "cell_type": "code",
   "execution_count": 31,
   "metadata": {},
   "outputs": [
    {
     "data": {
      "text/plain": [
       "ClassInfo(table=simulation_objects, cls=<class 'openpathsampling.netcdfplus.base.StorableObject'>, lookup_result=<class 'openpathsampling.netcdfplus.base.StorableObject'>, find_uuids=None)"
      ]
     },
     "execution_count": 31,
     "metadata": {},
     "output_type": "execute_result"
    }
   ],
   "source": [
    "storage.class_info[engine]"
   ]
  },
  {
   "cell_type": "code",
   "execution_count": 32,
   "metadata": {
    "scrolled": true
   },
   "outputs": [
    {
     "data": {
      "text/plain": [
       "SerializationSchema(default_info=ClassInfo(table=simulation_objects, cls=<class 'openpathsampling.netcdfplus.base.StorableObject'>, lookup_result=<class 'openpathsampling.netcdfplus.base.StorableObject'>, find_uuids=None), class_info_list=[ClassInfo(table=simulation_objects, cls=<class 'openpathsampling.netcdfplus.base.StorableObject'>, lookup_result=<class 'openpathsampling.netcdfplus.base.StorableObject'>, find_uuids=None), ClassInfo(table=snapshot0, cls=<class 'openpathsampling.engines.toy.snapshot.ToySnapshot'>, lookup_result=('139948483702057181973983775567520989206', <class 'openpathsampling.engines.toy.snapshot.ToySnapshot'>), find_uuids=<openpathsampling.experimental.storage.serialization_helpers.SchemaFindUUIDs object at 0x1137bbef0>)])"
      ]
     },
     "execution_count": 32,
     "metadata": {},
     "output_type": "execute_result"
    }
   ],
   "source": [
    "storage.class_info"
   ]
  },
  {
   "cell_type": "code",
   "execution_count": null,
   "metadata": {},
   "outputs": [],
   "source": []
  }
 ],
 "metadata": {
  "kernelspec": {
   "display_name": "Python 3",
   "language": "python",
   "name": "python3"
  },
  "language_info": {
   "codemirror_mode": {
    "name": "ipython",
    "version": 3
   },
   "file_extension": ".py",
   "mimetype": "text/x-python",
   "name": "python",
   "nbconvert_exporter": "python",
   "pygments_lexer": "ipython3",
   "version": "3.7.3"
  },
  "toc": {
   "base_numbering": 1,
   "nav_menu": {},
   "number_sections": true,
   "sideBar": true,
   "skip_h1_title": true,
   "title_cell": "Table of Contents",
   "title_sidebar": "Contents",
   "toc_cell": false,
   "toc_position": {},
   "toc_section_display": true,
   "toc_window_display": true
  },
  "varInspector": {
   "cols": {
    "lenName": 16,
    "lenType": 16,
    "lenVar": 40
   },
   "kernels_config": {
    "python": {
     "delete_cmd_postfix": "",
     "delete_cmd_prefix": "del ",
     "library": "var_list.py",
     "varRefreshCmd": "print(var_dic_list())"
    },
    "r": {
     "delete_cmd_postfix": ") ",
     "delete_cmd_prefix": "rm(",
     "library": "var_list.r",
     "varRefreshCmd": "cat(var_dic_list()) "
    }
   },
   "types_to_exclude": [
    "module",
    "function",
    "builtin_function_or_method",
    "instance",
    "_Feature"
   ],
   "window_display": false
  }
 },
 "nbformat": 4,
 "nbformat_minor": 2
}
