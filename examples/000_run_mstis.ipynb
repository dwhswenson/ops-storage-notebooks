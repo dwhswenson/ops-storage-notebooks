{
 "cells": [
  {
   "cell_type": "markdown",
   "metadata": {},
   "source": [
    "# Running an MSTIS simulation\n",
    "\n",
    "Now we will use the initial trajectories we obtained from bootstrapping to run an MSTIS simulation. This will show both how objects can be regenerated from storage and how regenerated equivalent objects can be used in place of objects that weren't stored.\n",
    "\n",
    "Tasks covered in this notebook:\n",
    "* Loading OPS objects from storage\n",
    "* Ways of assigning initial trajectories to initial samples\n",
    "* Setting up a path sampling simulation with various move schemes\n",
    "* Visualizing trajectories while the path sampling is running"
   ]
  },
  {
   "cell_type": "code",
   "execution_count": 1,
   "metadata": {},
   "outputs": [],
   "source": [
    "from __future__ import print_function\n",
    "%matplotlib inline\n",
    "import openpathsampling as paths\n",
    "import numpy as np"
   ]
  },
  {
   "cell_type": "code",
   "execution_count": 2,
   "metadata": {},
   "outputs": [],
   "source": [
    "# monkey patches\n",
    "from openpathsampling.experimental.storage import monkey_patches\n",
    "#paths.CallableCV.from_dict = classmethod(monkey_patches.callable_cv_from_dict)\n",
    "paths.netcdfplus.FunctionPseudoAttribute.to_dict = monkey_patches.function_pseudo_attribute_to_dict\n",
    "#paths.netcdfplus.FunctionPseudoAttribute.from_dict = classmethod(monkey_patches.function_pseudo_attribute_from_dict)"
   ]
  },
  {
   "cell_type": "markdown",
   "metadata": {},
   "source": [
    "## Loading things from storage\n",
    "\n",
    "First we'll reload some of the stuff we stored before. Of course, this starts with opening the file."
   ]
  },
  {
   "cell_type": "code",
   "execution_count": 3,
   "metadata": {},
   "outputs": [],
   "source": [
    "old_store = paths.Storage(\"./toy_mstis_1k_OPS1_py36.nc\", 'r')"
   ]
  },
  {
   "cell_type": "markdown",
   "metadata": {},
   "source": [
    "A lot of information can be recovered from the old storage, and so we don't have the recreate it. However, we did not save our network, so we'll have to create a new one. Since the network creates the ensembles, that means we will have to translate the trajectories from the old ensembles to new ensembles."
   ]
  },
  {
   "cell_type": "markdown",
   "metadata": {},
   "source": [
    "Loading from storage is very easy. Each store is a list. We take the 0th snapshot as a template (it doesn't actually matter which one) for the next storage we'll create. There's only one engine stored, so we take the only one."
   ]
  },
  {
   "cell_type": "code",
   "execution_count": 4,
   "metadata": {},
   "outputs": [],
   "source": [
    "template = old_store.snapshots[0]"
   ]
  },
  {
   "cell_type": "code",
   "execution_count": 5,
   "metadata": {},
   "outputs": [],
   "source": [
    "engine = old_store.engines[0]"
   ]
  },
  {
   "cell_type": "markdown",
   "metadata": {},
   "source": [
    "Named objects can be found in storage by using their name as a dictionary key. This allows us to load our old collective variables and states."
   ]
  },
  {
   "cell_type": "code",
   "execution_count": 6,
   "metadata": {},
   "outputs": [],
   "source": [
    "opA = old_store.cvs['opA']\n",
    "opB = old_store.cvs['opB']\n",
    "opC = old_store.cvs['opC']"
   ]
  },
  {
   "cell_type": "code",
   "execution_count": 7,
   "metadata": {},
   "outputs": [],
   "source": [
    "stateA = old_store.volumes['A']\n",
    "stateB = old_store.volumes['B']\n",
    "stateC = old_store.volumes['C']"
   ]
  },
  {
   "cell_type": "code",
   "execution_count": 8,
   "metadata": {},
   "outputs": [],
   "source": [
    "# we could also load the interfaces, but it takes less code to build new ones:\n",
    "interfacesA = paths.VolumeInterfaceSet(opA, 0.0,[0.2, 0.3, 0.4])\n",
    "interfacesB = paths.VolumeInterfaceSet(opB, 0.0,[0.2, 0.3, 0.4])\n",
    "interfacesC = paths.VolumeInterfaceSet(opC, 0.0,[0.2, 0.3, 0.4])"
   ]
  },
  {
   "cell_type": "markdown",
   "metadata": {},
   "source": [
    "Once again, we have everything we need to build the MSTIS network. Recall that this will create all the ensembles we need for the simulation. However, even though the ensembles are semantically the same, these are not the same objects. We'll need to deal with that later."
   ]
  },
  {
   "cell_type": "code",
   "execution_count": 9,
   "metadata": {},
   "outputs": [],
   "source": [
    "ms_outers = paths.MSOuterTISInterface.from_lambdas(\n",
    "    {ifaces: 0.5 \n",
    "     for ifaces in [interfacesA, interfacesB, interfacesC]}\n",
    ")\n",
    "mstis = paths.MSTISNetwork(\n",
    "    [(stateA, interfacesA),\n",
    "     (stateB, interfacesB),\n",
    "     (stateC, interfacesC)],\n",
    "    ms_outers=ms_outers\n",
    ")"
   ]
  },
  {
   "cell_type": "markdown",
   "metadata": {
    "collapsed": true
   },
   "source": [
    "Now we need to set up real trajectories that we can use for each of these. We can start by loading the stored sampleset."
   ]
  },
  {
   "cell_type": "code",
   "execution_count": 10,
   "metadata": {},
   "outputs": [],
   "source": [
    "# load the sampleset we have saved before\n",
    "old_sampleset = old_store.samplesets[0]"
   ]
  },
  {
   "cell_type": "markdown",
   "metadata": {},
   "source": [
    "### About `Sample`s\n",
    "\n",
    "The OPS object called `Sample` is used to associate a trajectory with a replica ID and an ensemble. The trajectory needs to be associated with an ensemble so we know how to get correct statistics from the many ensembles that we might be sampling simultaneously. The trajectory needs to be associated with a replica ID so that replica exchange approaches can be analyzed.\n",
    "\n"
   ]
  },
  {
   "cell_type": "markdown",
   "metadata": {},
   "source": [
    "Since the ensembles in our MSTIS network are not the exact ensemble objects that we saved our samples with (they were rebuilt), we still need a way to identify which of the new ensembles to associate them with.\n",
    "\n",
    "There are two main ways to do this. The first is to take one trajectory, and associate it with as many ensembles as possible. If your first path comes from a TPS simulation, that is the approach you'll want to take.\n",
    "\n",
    "The second approach is better suited to our conditions here: we already have a good trajectory for each ensemble. So we just want to remap our old ensembles to new ones."
   ]
  },
  {
   "cell_type": "markdown",
   "metadata": {},
   "source": [
    "### Loading one trajectory into lots of ensembles"
   ]
  },
  {
   "cell_type": "code",
   "execution_count": 11,
   "metadata": {},
   "outputs": [],
   "source": [
    "# this makes a dictionary mapping the outermost ensemble of each sampling transition \n",
    "# to a trajectory from the old_sampleset that satisfies that ensemble\n",
    "trajs = {}\n",
    "for ens in [t.ensembles[-1] for t in mstis.sampling_transitions]:\n",
    "    trajs[ens] = [s.trajectory for s in old_sampleset if ens(s.trajectory)][0]\n",
    "    \n",
    "assert(len(trajs)==3) # otherwise, we have a problem"
   ]
  },
  {
   "cell_type": "code",
   "execution_count": 12,
   "metadata": {},
   "outputs": [],
   "source": [
    "initial_samples = {}\n",
    "for t in mstis.sampling_transitions:\n",
    "    initial_samples[t] = paths.SampleSet.map_trajectory_to_ensembles(trajs[t.ensembles[-1]], t.ensembles)"
   ]
  },
  {
   "cell_type": "code",
   "execution_count": 13,
   "metadata": {},
   "outputs": [],
   "source": [
    "single_trajectory_sset = paths.SampleSet.relabel_replicas_per_ensemble(initial_samples.values())"
   ]
  },
  {
   "cell_type": "markdown",
   "metadata": {},
   "source": [
    "The `sanity_check` function ensures that all trajectories in the sampleset are actually in the ensemble they claim to be associated with. At this point, we should have 9 samples."
   ]
  },
  {
   "cell_type": "code",
   "execution_count": 14,
   "metadata": {},
   "outputs": [],
   "source": [
    "single_trajectory_sset.sanity_check()\n",
    "assert(len(single_trajectory_sset)==9)"
   ]
  },
  {
   "cell_type": "markdown",
   "metadata": {},
   "source": [
    "### Remapping old ensembles to new ensembles\n",
    "\n",
    "If your old and new ensembles have the same string representations, then OPS has a function to help you automatically map them. As long as you create the ensembles in the same way, they'll have the same string representation. Note that if you *don't* have the same string representation, you would have to assign trajectories to ensembles by hand (which isn't that hard, but is a bit tedious)."
   ]
  },
  {
   "cell_type": "code",
   "execution_count": 15,
   "metadata": {},
   "outputs": [],
   "source": [
    "sset = paths.SampleSet.translate_ensembles(old_sampleset, mstis.sampling_ensembles)"
   ]
  },
  {
   "cell_type": "code",
   "execution_count": 16,
   "metadata": {},
   "outputs": [],
   "source": [
    "sset.sanity_check()\n",
    "assert(len(sset)==9)"
   ]
  },
  {
   "cell_type": "code",
   "execution_count": 17,
   "metadata": {},
   "outputs": [],
   "source": [
    "# tests only: this cell sets something for the online testing\n",
    "# the next cell unsets it when running the notebook live\n",
    "bootstrap_sset = sset\n",
    "sset = single_trajectory_sset"
   ]
  },
  {
   "cell_type": "code",
   "execution_count": 18,
   "metadata": {},
   "outputs": [],
   "source": [
    "#! skip\n",
    "# tests don't run this, but users should!\n",
    "sset = bootstrap_sset"
   ]
  },
  {
   "cell_type": "markdown",
   "metadata": {},
   "source": [
    "### Setting up special ensembles\n",
    "\n",
    "Whichever way we initially set up the `SampleSet`, at this point it only contains samples for the main sampling trajectories of each transition. Now we need to put trajectories into various auxiliary ensembles."
   ]
  },
  {
   "cell_type": "markdown",
   "metadata": {},
   "source": [
    "#### Multiple state outer ensemble\n",
    "\n",
    "The multiple state outer ensemble is, in fact, sampled during the bootstrapping. However, it is actually sampled once for every state that shares it. It is very easy to find a trajectory that satisfies the ensemble and to load add that sample to our sampleset."
   ]
  },
  {
   "cell_type": "code",
   "execution_count": 19,
   "metadata": {},
   "outputs": [],
   "source": [
    "for outer_ens in mstis.special_ensembles['ms_outer']:\n",
    "    # doesn't matter which we take, so we take the first\n",
    "    traj = next(s.trajectory for s in old_sampleset if outer_ens(s.trajectory)==True)\n",
    "    samp = paths.Sample(\n",
    "            replica=None,\n",
    "            ensemble=outer_ens,\n",
    "            trajectory=traj\n",
    "    )\n",
    "    # now we apply it and correct for the replica ID\n",
    "    sset.append_as_new_replica(samp)"
   ]
  },
  {
   "cell_type": "code",
   "execution_count": 20,
   "metadata": {},
   "outputs": [],
   "source": [
    "sset.sanity_check()\n",
    "assert(len(sset)==10)"
   ]
  },
  {
   "cell_type": "markdown",
   "metadata": {},
   "source": [
    "#### Minus interface ensemble\n",
    "\n",
    "The minus interface ensembles do not yet have a trajectory. We will generate them by starting with same-state trajectories (A-to-A, B-to-B, C-to-C) in each interface, and extending into the minus ensemble.\n",
    "\n",
    "* check whether the traj is A-to-A\n",
    "* extend"
   ]
  },
  {
   "cell_type": "markdown",
   "metadata": {},
   "source": [
    "First we need to make sure that the trajectory in the innermost ensemble of each state also ends in that state. This is necessary so that when we extend the trajectory, it can extends into the minus ensemble.\n",
    "\n",
    "If the trajectory isn't right, we run a shooting move on it until it is."
   ]
  },
  {
   "cell_type": "code",
   "execution_count": 21,
   "metadata": {},
   "outputs": [],
   "source": [
    "for transition in mstis.sampling_transitions:\n",
    "    innermost_ensemble = transition.ensembles[0]\n",
    "    shooter = None\n",
    "    if not transition.stateA(sset[innermost_ensemble].trajectory[-1]):\n",
    "        shooter = paths.OneWayShootingMover(ensemble=innermost_ensemble,\n",
    "                                            selector=paths.UniformSelector(),\n",
    "                                            engine=engine)\n",
    "        pseudoscheme = paths.LockedMoveScheme(root_mover=shooter)\n",
    "        pseudosim = paths.PathSampling(storage=None, \n",
    "                                       move_scheme=pseudoscheme, \n",
    "                                       sample_set=sset,\n",
    "                                      )\n",
    "    while not transition.stateA(sset[innermost_ensemble].trajectory[-1]):\n",
    "        pseudosim.run(1)\n",
    "        sset = pseudosim.sample_set\n",
    "\n",
    "    "
   ]
  },
  {
   "cell_type": "markdown",
   "metadata": {},
   "source": [
    "Now that all the innermost ensembles are safe to use for extending into a minus interface, we extend them into a minus interface:"
   ]
  },
  {
   "cell_type": "code",
   "execution_count": 22,
   "metadata": {},
   "outputs": [],
   "source": [
    "minus_samples = []\n",
    "for transition in mstis.sampling_transitions:\n",
    "    minus_samples.append(transition.minus_ensemble.extend_sample_from_trajectories(\n",
    "        sset[transition.ensembles[0]].trajectory,\n",
    "        replica=-len(minus_samples)-1,\n",
    "        engine=engine\n",
    "    ))\n",
    "sset = sset.apply_samples(minus_samples)"
   ]
  },
  {
   "cell_type": "code",
   "execution_count": 23,
   "metadata": {},
   "outputs": [],
   "source": [
    "sset.sanity_check()\n",
    "assert(len(sset)==13)"
   ]
  },
  {
   "cell_type": "markdown",
   "metadata": {},
   "source": [
    "## Equilibration\n",
    "\n",
    "In molecular dynamics, you need to equilibrate if you don't start with an equilibrium frame (e.g., if you start with solvent molecules on a grid, your system should equilibrate before you start taking statistics). Similarly, if you start with a set of paths which are far from the path ensemble equilibrium, you need to equilibrate. This could either be because your trajectories are not from the real dynamics (generated with metadynamics, high temperature, etc.) or because your trajectories are not representative of the path ensemble (e.g., if you put transition trajectories into all interfaces).\n",
    "\n",
    "As with MD, running equilibration can be the same process as running the total simulation. However, in path sampling, it doesn't have to be: we can equilibrate without replica exchange moves or path reversal moves, for example. In the example below, we create a `MoveScheme` that only includes shooting movers."
   ]
  },
  {
   "cell_type": "code",
   "execution_count": 24,
   "metadata": {},
   "outputs": [],
   "source": [
    "equil_scheme = paths.OneWayShootingMoveScheme(mstis, engine=engine)"
   ]
  },
  {
   "cell_type": "code",
   "execution_count": 25,
   "metadata": {},
   "outputs": [],
   "source": [
    "equilibration = paths.PathSampling(\n",
    "    storage=None,\n",
    "    sample_set=sset,\n",
    "    move_scheme=equil_scheme\n",
    ")"
   ]
  },
  {
   "cell_type": "code",
   "execution_count": 26,
   "metadata": {},
   "outputs": [
    {
     "name": "stdout",
     "output_type": "stream",
     "text": [
      "Working on Monte Carlo cycle number 5\n",
      "Running for 0 seconds -  0.17 seconds per step\n",
      "Estimated time remaining: 0 seconds\n",
      "DONE! Completed 5 Monte Carlo cycles.\n"
     ]
    }
   ],
   "source": [
    "#! skip\n",
    "# tests need the unequilibrated samples to ensure passing\n",
    "equilibration.run(5)"
   ]
  },
  {
   "cell_type": "code",
   "execution_count": 27,
   "metadata": {},
   "outputs": [],
   "source": [
    "sset = equilibration.sample_set"
   ]
  },
  {
   "cell_type": "markdown",
   "metadata": {},
   "source": [
    "## Running RETIS\n",
    "\n",
    "Now we run the full calculation. Up to here, we haven't been storing any of our results. This time, we'll start a storage object, and we'll save the network we've created. Then we'll run a new `PathSampling` calculation object."
   ]
  },
  {
   "cell_type": "code",
   "execution_count": 28,
   "metadata": {},
   "outputs": [],
   "source": [
    "# logging creates ops_output.log file with details of what the calculation is doing\n",
    "#import logging.config\n",
    "#logging.config.fileConfig(\"../resources/logging.conf\", disable_existing_loggers=False)"
   ]
  },
  {
   "cell_type": "code",
   "execution_count": 29,
   "metadata": {},
   "outputs": [],
   "source": [
    "from openpathsampling.experimental.storage.ops_storage import OPSStorage, ops_class_info, ops_schema\n",
    "from openpathsampling.experimental.storage.sql_backend import SQLStorageBackend\n",
    "\n",
    "backend = SQLStorageBackend(\"mstis.sql\", mode='w')\n",
    "storage = OPSStorage.from_backend(\n",
    "    backend=backend,\n",
    "    schema=ops_schema,\n",
    "    class_info=ops_class_info\n",
    ")"
   ]
  },
  {
   "cell_type": "code",
   "execution_count": 30,
   "metadata": {},
   "outputs": [],
   "source": [
    "storage.save(template)"
   ]
  },
  {
   "cell_type": "code",
   "execution_count": 31,
   "metadata": {},
   "outputs": [
    {
     "name": "stdout",
     "output_type": "stream",
     "text": [
      "File: mstis.sql\n",
      "Includes tables:\n",
      "* samples: 0 items\n",
      "* sample_sets: 0 items\n",
      "* trajectories: 0 items\n",
      "* move_changes: 0 items\n",
      "* steps: 0 items\n",
      "* details: 0 items\n",
      "* simulation_objects: 10 items\n",
      "* snapshot0: 1 items\n",
      "\n"
     ]
    }
   ],
   "source": [
    "print(storage.summary())"
   ]
  },
  {
   "cell_type": "raw",
   "metadata": {},
   "source": [
    "import logging\n",
    "import sys\n",
    "\n",
    "\n",
    "ops = logging.getLogger('openpathsampling')\n",
    "ops.setLevel(logging.CRITICAL)\n",
    "\n",
    "root = logging.getLogger('openpathsampling.experimental')\n",
    "root.setLevel(logging.DEBUG)\n",
    "\n",
    "ch = logging.StreamHandler(sys.stdout)\n",
    "ch.setLevel(logging.DEBUG)\n",
    "formatter = logging.Formatter('%(asctime)s - %(name)s - %(levelname)s - %(message)s')\n",
    "ch.setFormatter(formatter)\n",
    "root.addHandler(ch)\n",
    "\n"
   ]
  },
  {
   "cell_type": "code",
   "execution_count": 32,
   "metadata": {},
   "outputs": [],
   "source": [
    "mstis_calc = paths.PathSampling(\n",
    "    storage=storage,\n",
    "    sample_set=sset,\n",
    "    move_scheme=paths.DefaultScheme(mstis, engine=engine)\n",
    ")\n",
    "mstis_calc.save_frequency = 50"
   ]
  },
  {
   "cell_type": "code",
   "execution_count": 33,
   "metadata": {},
   "outputs": [],
   "source": [
    "class_info = storage.class_info.class_info_list[-1]\n",
    "find_uuids = class_info.find_uuids"
   ]
  },
  {
   "cell_type": "code",
   "execution_count": 34,
   "metadata": {},
   "outputs": [
    {
     "data": {
      "text/plain": [
       "ClassInfo(table=snapshot0, cls=<class 'openpathsampling.engines.toy.snapshot.ToySnapshot'>, lookup_result=('174395458874316017953765140704788480022', <class 'openpathsampling.engines.toy.snapshot.ToySnapshot'>), find_uuids=<openpathsampling.experimental.storage.serialization_helpers.SchemaFindUUIDs object at 0x119e865f8>)"
      ]
     },
     "execution_count": 34,
     "metadata": {},
     "output_type": "execute_result"
    }
   ],
   "source": [
    "storage.class_info.info_from_instance(template)"
   ]
  },
  {
   "cell_type": "code",
   "execution_count": 35,
   "metadata": {},
   "outputs": [
    {
     "data": {
      "text/plain": [
       "({'174395458874316017953765140704788572213': <openpathsampling.engines.toy.snapshot.ToySnapshot at 0x115db9cf8>},\n",
       " [<openpathsampling.engines.toy.engine.ToyEngine at 0x11935e9e8>])"
      ]
     },
     "execution_count": 35,
     "metadata": {},
     "output_type": "execute_result"
    }
   ],
   "source": [
    "find_uuids(template, [])"
   ]
  },
  {
   "cell_type": "code",
   "execution_count": 36,
   "metadata": {},
   "outputs": [
    {
     "data": {
      "text/plain": [
       "array([[-0.76070386, -0.6172998 ]], dtype=float32)"
      ]
     },
     "execution_count": 36,
     "metadata": {},
     "output_type": "execute_result"
    }
   ],
   "source": [
    "sset[0].trajectory[0].velocities"
   ]
  },
  {
   "cell_type": "markdown",
   "metadata": {},
   "source": [
    "Now everything is ready: let's run the simulation!"
   ]
  },
  {
   "cell_type": "code",
   "execution_count": 37,
   "metadata": {},
   "outputs": [],
   "source": [
    "%load_ext line_profiler\n",
    "from openpathsampling.experimental.storage.serialization_helpers import get_all_uuids, unique_objects, default_find_uuids, SchemaFindUUIDs\n",
    "from openpathsampling.experimental.storage.class_info import SerializationSchema"
   ]
  },
  {
   "cell_type": "code",
   "execution_count": 38,
   "metadata": {},
   "outputs": [],
   "source": [
    "import os\n",
    "#mstis_calc.output_stream = open(os.devnull, 'w')"
   ]
  },
  {
   "cell_type": "code",
   "execution_count": 39,
   "metadata": {},
   "outputs": [
    {
     "name": "stdout",
     "output_type": "stream",
     "text": [
      "Working on Monte Carlo cycle number 200\n",
      "Running for 20 seconds -  0.10 seconds per step\n",
      "Estimated time remaining: 0 seconds\n",
      "DONE! Completed 200 Monte Carlo cycles.\n",
      " \n",
      "*** Profile stats marshalled to file 'mstis.pstat'. \n"
     ]
    }
   ],
   "source": [
    "#%%prun -D mstis.pstat\n",
    "#%lprun -f unique_objects \n",
    "mstis_calc.run(200)\n",
    "#mstis_calc.run(1)"
   ]
  },
  {
   "cell_type": "code",
   "execution_count": 40,
   "metadata": {},
   "outputs": [
    {
     "data": {
      "text/plain": [
       "{'174395458874316017953765140704788480022': <openpathsampling.engines.toy.engine.ToyEngine at 0x11935e9e8>,\n",
       " '174395458874316017953765140704788480016': <openpathsampling.engines.toy.topology.ToyTopology at 0x1195e4b00>,\n",
       " '11138911631133520314863233683872022592': <openpathsampling.engines.toy.integrators.LangevinBAOABIntegrator at 0x11935e9b0>,\n",
       " '11138911631133520314863233683872022606': <openpathsampling.engines.toy.pes.PES_Add at 0x1195e4c18>,\n",
       " '11138911631133520314863233683872022602': <openpathsampling.engines.toy.pes.PES_Add at 0x1195e4ba8>,\n",
       " '11138911631133520314863233683872022604': Gaussian(-0.7000000000000001, [12. 12.], [ 0.5 -0.5]),\n",
       " '11138911631133520314863233683872022598': <openpathsampling.engines.toy.pes.PES_Add at 0x1195e4ac8>,\n",
       " '11138911631133520314863233683872022600': Gaussian(-0.7000000000000001, [12. 12.], [-0.5 -0.5]),\n",
       " '11138911631133520314863233683872022594': OuterWalls([1. 1.], [0. 0.]),\n",
       " '11138911631133520314863233683872022596': Gaussian(-0.7000000000000001, [12. 12.], [0.  0.4]),\n",
       " '11138911631133520314863233683872158808': <openpathsampling.pathsimulators.path_sampling.PathSampling at 0x119f0e9e8>,\n",
       " '11138911631133520314863233683872158786': <openpathsampling.high_level.move_scheme.DefaultScheme at 0x119f0e710>,\n",
       " '11138911631133520314863233683872159032': <openpathsampling.pathmover.RandomChoiceMover at 0x119edbcc0>,\n",
       " '11138911631133520314863233683872022718': <openpathsampling.ensemble.TISEnsemble at 0x1195fae10>,\n",
       " '11138911631133520314863233683872022968': <openpathsampling.ensemble.TISEnsemble at 0x1199242b0>,\n",
       " '11138911631133520314863233683872023006': <openpathsampling.ensemble.TISEnsemble at 0x119924d30>,\n",
       " '11138911631133520314863233683872023180': <openpathsampling.ensemble.TISEnsemble at 0x11993af60>,\n",
       " '11138911631133520314863233683872023218': <openpathsampling.ensemble.TISEnsemble at 0x119942a58>,\n",
       " '11138911631133520314863233683872023432': <openpathsampling.ensemble.UnionEnsemble at 0x119967198>,\n",
       " '11138911631133520314863233683872022888': <openpathsampling.ensemble.MinusInterfaceEnsemble at 0x119609e48>,\n",
       " '11138911631133520314863233683872023100': <openpathsampling.ensemble.MinusInterfaceEnsemble at 0x11992c860>,\n",
       " '11138911631133520314863233683872023312': <openpathsampling.ensemble.MinusInterfaceEnsemble at 0x119949588>,\n",
       " '11138911631133520314863233683872022930': <openpathsampling.ensemble.TISEnsemble at 0x11991d7b8>,\n",
       " '11138911631133520314863233683872023142': <openpathsampling.ensemble.TISEnsemble at 0x11993a4a8>,\n",
       " '11138911631133520314863233683872022794': <openpathsampling.ensemble.TISEnsemble at 0x119600fd0>,\n",
       " '11138911631133520314863233683872022756': <openpathsampling.ensemble.TISEnsemble at 0x106185780>,\n",
       " '11138911631133520314863233683872022670': <openpathsampling.high_level.network.MSTISNetwork at 0x1195fab00>,\n",
       " '11138911631133520314863233683872159022': <openpathsampling.pathmover.RandomChoiceMover at 0x119edb7f0>,\n",
       " '11138911631133520314863233683872158810': <openpathsampling.pathmover.ReplicaExchangeMover at 0x119f0eac8>,\n",
       " '11138911631133520314863233683872158812': <openpathsampling.pathmover.ReplicaExchangeMover at 0x119f0eb00>,\n",
       " '11138911631133520314863233683872158814': <openpathsampling.pathmover.ReplicaExchangeMover at 0x119f0eb38>,\n",
       " '11138911631133520314863233683872158816': <openpathsampling.pathmover.ReplicaExchangeMover at 0x119f0eb70>,\n",
       " '11138911631133520314863233683872158818': <openpathsampling.pathmover.ReplicaExchangeMover at 0x119f0eba8>,\n",
       " '11138911631133520314863233683872158820': <openpathsampling.pathmover.ReplicaExchangeMover at 0x119f0ebe0>,\n",
       " '11138911631133520314863233683872158822': <openpathsampling.pathmover.ReplicaExchangeMover at 0x119f0ec18>,\n",
       " '11138911631133520314863233683872158836': <openpathsampling.pathmover.ReplicaExchangeMover at 0x119f0ef28>,\n",
       " '11138911631133520314863233683872158838': <openpathsampling.pathmover.ReplicaExchangeMover at 0x119f0ef60>,\n",
       " '11138911631133520314863233683872159024': <openpathsampling.pathmover.RandomChoiceMover at 0x119edb470>,\n",
       " '11138911631133520314863233683872158844': <openpathsampling.pathmover.OneWayShootingMover at 0x119f0ea90>,\n",
       " '11138911631133520314863233683872158840': <openpathsampling.pathmover.ForwardShootMover at 0x119f0efd0>,\n",
       " '11138911631133520314863233683872158842': <openpathsampling.pathmover.BackwardShootMover at 0x119f0ecf8>,\n",
       " '11138911631133520314863233683872158850': <openpathsampling.pathmover.OneWayShootingMover at 0x119f0eeb8>,\n",
       " '11138911631133520314863233683872158846': <openpathsampling.pathmover.ForwardShootMover at 0x119f0edd8>,\n",
       " '11138911631133520314863233683872158848': <openpathsampling.pathmover.BackwardShootMover at 0x119f0eef0>,\n",
       " '11138911631133520314863233683872158856': <openpathsampling.pathmover.OneWayShootingMover at 0x119f151d0>,\n",
       " '11138911631133520314863233683872158852': <openpathsampling.pathmover.ForwardShootMover at 0x119f15198>,\n",
       " '11138911631133520314863233683872158854': <openpathsampling.pathmover.BackwardShootMover at 0x119f15208>,\n",
       " '11138911631133520314863233683872158862': <openpathsampling.pathmover.OneWayShootingMover at 0x119f15278>,\n",
       " '11138911631133520314863233683872158858': <openpathsampling.pathmover.ForwardShootMover at 0x119f15240>,\n",
       " '11138911631133520314863233683872158860': <openpathsampling.pathmover.BackwardShootMover at 0x119f152b0>,\n",
       " '11138911631133520314863233683872158868': <openpathsampling.pathmover.OneWayShootingMover at 0x119f15320>,\n",
       " '11138911631133520314863233683872158864': <openpathsampling.pathmover.ForwardShootMover at 0x119f152e8>,\n",
       " '11138911631133520314863233683872158866': <openpathsampling.pathmover.BackwardShootMover at 0x119f15358>,\n",
       " '11138911631133520314863233683872158874': <openpathsampling.pathmover.OneWayShootingMover at 0x119f153c8>,\n",
       " '11138911631133520314863233683872158870': <openpathsampling.pathmover.ForwardShootMover at 0x119f15390>,\n",
       " '11138911631133520314863233683872158872': <openpathsampling.pathmover.BackwardShootMover at 0x119f15400>,\n",
       " '11138911631133520314863233683872158880': <openpathsampling.pathmover.OneWayShootingMover at 0x119f15470>,\n",
       " '11138911631133520314863233683872158876': <openpathsampling.pathmover.ForwardShootMover at 0x119f15438>,\n",
       " '11138911631133520314863233683872158878': <openpathsampling.pathmover.BackwardShootMover at 0x119f154a8>,\n",
       " '11138911631133520314863233683872158886': <openpathsampling.pathmover.OneWayShootingMover at 0x119f15518>,\n",
       " '11138911631133520314863233683872158882': <openpathsampling.pathmover.ForwardShootMover at 0x119f154e0>,\n",
       " '11138911631133520314863233683872158884': <openpathsampling.pathmover.BackwardShootMover at 0x119f15048>,\n",
       " '11138911631133520314863233683872158892': <openpathsampling.pathmover.OneWayShootingMover at 0x119f150b8>,\n",
       " '11138911631133520314863233683872158888': <openpathsampling.pathmover.ForwardShootMover at 0x119f15080>,\n",
       " '11138911631133520314863233683872158890': <openpathsampling.pathmover.BackwardShootMover at 0x119f150f0>,\n",
       " '11138911631133520314863233683872159026': <openpathsampling.pathmover.RandomChoiceMover at 0x119edb588>,\n",
       " '11138911631133520314863233683872158894': <openpathsampling.pathmover.PathReversalMover at 0x119f15128>,\n",
       " '11138911631133520314863233683872158896': <openpathsampling.pathmover.PathReversalMover at 0x119f15160>,\n",
       " '11138911631133520314863233683872158898': <openpathsampling.pathmover.PathReversalMover at 0x119f15550>,\n",
       " '11138911631133520314863233683872158900': <openpathsampling.pathmover.PathReversalMover at 0x119f15588>,\n",
       " '11138911631133520314863233683872158902': <openpathsampling.pathmover.PathReversalMover at 0x119f155c0>,\n",
       " '11138911631133520314863233683872158904': <openpathsampling.pathmover.PathReversalMover at 0x119f155f8>,\n",
       " '11138911631133520314863233683872158906': <openpathsampling.pathmover.PathReversalMover at 0x119f15630>,\n",
       " '11138911631133520314863233683872158908': <openpathsampling.pathmover.PathReversalMover at 0x119f15668>,\n",
       " '11138911631133520314863233683872158910': <openpathsampling.pathmover.PathReversalMover at 0x119f156a0>,\n",
       " '11138911631133520314863233683872159020': <openpathsampling.pathmover.PathReversalMover at 0x119edb4a8>,\n",
       " '11138911631133520314863233683872159028': <openpathsampling.pathmover.RandomChoiceMover at 0x119edb550>,\n",
       " '11138911631133520314863233683872158944': <openpathsampling.pathmover.MinusMover at 0x119ea0710>,\n",
       " '11138911631133520314863233683872158938': <openpathsampling.pathmover.EnsembleFilterMover at 0x119ea0fd0>,\n",
       " '11138911631133520314863233683872158936': <openpathsampling.pathmover.ConditionalSequentialMover at 0x119ea0b38>,\n",
       " '11138911631133520314863233683872158916': <openpathsampling.pathmover.RandomChoiceMover at 0x119ea0a20>,\n",
       " '11138911631133520314863233683872158912': <openpathsampling.pathmover.FirstSubtrajectorySelectMover at 0x119ea0dd8>,\n",
       " '11138911631133520314863233683872158914': <openpathsampling.pathmover.FinalSubtrajectorySelectMover at 0x119ea00f0>,\n",
       " '11138911631133520314863233683872158924': <openpathsampling.pathmover.RandomChoiceMover at 0x119ea0ac8>,\n",
       " '11138911631133520314863233683872158918': <openpathsampling.pathmover.ReplicaExchangeMover at 0x119ea09e8>,\n",
       " '11138911631133520314863233683872158934': <openpathsampling.pathmover.RandomChoiceMover at 0x119ea02b0>,\n",
       " '11138911631133520314863233683872158928': <openpathsampling.pathmover.ForwardExtendMover at 0x119ea0da0>,\n",
       " '11138911631133520314863233683872158932': <openpathsampling.pathmover.BackwardExtendMover at 0x119ea0b00>,\n",
       " '11138911631133520314863233683872158978': <openpathsampling.pathmover.MinusMover at 0x119ea0eb8>,\n",
       " '11138911631133520314863233683872158972': <openpathsampling.pathmover.EnsembleFilterMover at 0x119edbd68>,\n",
       " '11138911631133520314863233683872158970': <openpathsampling.pathmover.ConditionalSequentialMover at 0x119edbd30>,\n",
       " '11138911631133520314863233683872158950': <openpathsampling.pathmover.RandomChoiceMover at 0x119edbf28>,\n",
       " '11138911631133520314863233683872158946': <openpathsampling.pathmover.FirstSubtrajectorySelectMover at 0x119ea0cc0>,\n",
       " '11138911631133520314863233683872158948': <openpathsampling.pathmover.FinalSubtrajectorySelectMover at 0x119edbdd8>,\n",
       " '11138911631133520314863233683872158958': <openpathsampling.pathmover.RandomChoiceMover at 0x119edbfd0>,\n",
       " '11138911631133520314863233683872158952': <openpathsampling.pathmover.ReplicaExchangeMover at 0x119edbe48>,\n",
       " '11138911631133520314863233683872158968': <openpathsampling.pathmover.RandomChoiceMover at 0x119edbda0>,\n",
       " '11138911631133520314863233683872158962': <openpathsampling.pathmover.ForwardExtendMover at 0x119edbe80>,\n",
       " '11138911631133520314863233683872158966': <openpathsampling.pathmover.BackwardExtendMover at 0x119edbcf8>,\n",
       " '11138911631133520314863233683872159012': <openpathsampling.pathmover.MinusMover at 0x119edbc88>,\n",
       " '11138911631133520314863233683872159006': <openpathsampling.pathmover.EnsembleFilterMover at 0x119edb7b8>,\n",
       " '11138911631133520314863233683872159004': <openpathsampling.pathmover.ConditionalSequentialMover at 0x119edb940>,\n",
       " '11138911631133520314863233683872158984': <openpathsampling.pathmover.RandomChoiceMover at 0x119edbf60>,\n",
       " '11138911631133520314863233683872158980': <openpathsampling.pathmover.FirstSubtrajectorySelectMover at 0x119edbac8>,\n",
       " '11138911631133520314863233683872158982': <openpathsampling.pathmover.FinalSubtrajectorySelectMover at 0x119edbf98>,\n",
       " '11138911631133520314863233683872158992': <openpathsampling.pathmover.RandomChoiceMover at 0x119edbba8>,\n",
       " '11138911631133520314863233683872158986': <openpathsampling.pathmover.ReplicaExchangeMover at 0x119edbe10>,\n",
       " '11138911631133520314863233683872159002': <openpathsampling.pathmover.RandomChoiceMover at 0x119edb898>,\n",
       " '11138911631133520314863233683872158996': <openpathsampling.pathmover.ForwardExtendMover at 0x119edb9b0>,\n",
       " '11138911631133520314863233683872159000': <openpathsampling.pathmover.BackwardExtendMover at 0x119edba20>,\n",
       " '11138911631133520314863233683872159030': <openpathsampling.pathmover.RandomChoiceMover at 0x119edbef0>,\n",
       " '11138911631133520314863233683872159018': <openpathsampling.pathmover.OneWayShootingMover at 0x119edb8d0>,\n",
       " '11138911631133520314863233683872159014': <openpathsampling.pathmover.ForwardShootMover at 0x119edb780>,\n",
       " '11138911631133520314863233683872159016': <openpathsampling.pathmover.BackwardShootMover at 0x119edb908>,\n",
       " '11138911631133520314863233683872022636': <openpathsampling.netcdfplus.attribute.FunctionPseudoAttribute at 0x1195fa0f0>,\n",
       " '11138911631133520314863233683872022716': <openpathsampling.ensemble.IntersectionEnsemble at 0x119600780>,\n",
       " '174395458874316017953765140704788480026': <openpathsampling.collectivevariable.CoordinateFunctionCV at 0x1195e4438>,\n",
       " '11138911631133520314863233683872022628': <openpathsampling.volume.CVDefinedVolume at 0x1195fa128>,\n",
       " '11138911631133520314863233683872022648': <openpathsampling.netcdfplus.attribute.FunctionPseudoAttribute at 0x1195fa320>,\n",
       " '11138911631133520314863233683872022966': <openpathsampling.ensemble.IntersectionEnsemble at 0x119924ba8>,\n",
       " '174395458874316017953765140704788480028': <openpathsampling.collectivevariable.CoordinateFunctionCV at 0x115778320>,\n",
       " '11138911631133520314863233683872022642': <openpathsampling.volume.CVDefinedVolume at 0x1195fa390>,\n",
       " '11138911631133520314863233683872023004': <openpathsampling.ensemble.IntersectionEnsemble at 0x11992c6a0>,\n",
       " '11138911631133520314863233683872022644': <openpathsampling.volume.CVDefinedVolume at 0x1195fa3c8>,\n",
       " '11138911631133520314863233683872022660': <openpathsampling.netcdfplus.attribute.FunctionPseudoAttribute at 0x1195fa588>,\n",
       " '11138911631133520314863233683872023178': <openpathsampling.ensemble.IntersectionEnsemble at 0x1199428d0>,\n",
       " '174395458874316017953765140704788480030': <openpathsampling.collectivevariable.CoordinateFunctionCV at 0x1195e46d8>,\n",
       " '11138911631133520314863233683872022654': <openpathsampling.volume.CVDefinedVolume at 0x1195fa5f8>,\n",
       " '11138911631133520314863233683872023216': <openpathsampling.ensemble.IntersectionEnsemble at 0x1199493c8>,\n",
       " '11138911631133520314863233683872022656': <openpathsampling.volume.CVDefinedVolume at 0x1195fa630>,\n",
       " '11138911631133520314863233683872023430': <openpathsampling.ensemble.UnionEnsemble at 0x119967160>,\n",
       " '11138911631133520314863233683872023426': <openpathsampling.ensemble.TISEnsemble at 0x1199606a0>,\n",
       " '174395458874316017953765140704788480032': <openpathsampling.volume.CVDefinedVolume at 0x1195e4048>,\n",
       " '11138911631133520314863233683872022886': <openpathsampling.ensemble.IntersectionEnsemble at 0x11991d588>,\n",
       " '11138911631133520314863233683872022858': <openpathsampling.ensemble.TISEnsemble at 0x119615320>,\n",
       " '174395458874316017953765140704788480034': <openpathsampling.volume.CVDefinedVolume at 0x1195e4c88>,\n",
       " '11138911631133520314863233683872022640': <openpathsampling.volume.CVDefinedVolume at 0x1195fa358>,\n",
       " '11138911631133520314863233683872023098': <openpathsampling.ensemble.IntersectionEnsemble at 0x11993a358>,\n",
       " '11138911631133520314863233683872023070': <openpathsampling.ensemble.TISEnsemble at 0x1199330b8>,\n",
       " '174395458874316017953765140704788480036': <openpathsampling.volume.CVDefinedVolume at 0x1195e44e0>,\n",
       " '11138911631133520314863233683872022652': <openpathsampling.volume.CVDefinedVolume at 0x1195fa5c0>,\n",
       " '11138911631133520314863233683872023310': <openpathsampling.ensemble.IntersectionEnsemble at 0x1199580b8>,\n",
       " '11138911631133520314863233683872023282': <openpathsampling.ensemble.TISEnsemble at 0x119949da0>,\n",
       " '11138911631133520314863233683872022928': <openpathsampling.ensemble.IntersectionEnsemble at 0x119924128>,\n",
       " '11138911631133520314863233683872023140': <openpathsampling.ensemble.IntersectionEnsemble at 0x11993add8>,\n",
       " '11138911631133520314863233683872022792': <openpathsampling.ensemble.IntersectionEnsemble at 0x119609940>,\n",
       " '11138911631133520314863233683872022632': <openpathsampling.volume.CVDefinedVolume at 0x1195fa198>,\n",
       " '11138911631133520314863233683872022754': <openpathsampling.ensemble.IntersectionEnsemble at 0x119600e48>,\n",
       " '11138911631133520314863233683872022630': <openpathsampling.volume.CVDefinedVolume at 0x1195fa160>,\n",
       " '11138911631133520314863233683872158792': <openpathsampling.shooting.UniformSelector at 0x119f0e828>,\n",
       " '11138911631133520314863233683872158926': <openpathsampling.shooting.FinalFrameSelector at 0x119ea0f98>,\n",
       " '11138911631133520314863233683872158930': <openpathsampling.shooting.FirstFrameSelector at 0x119ea0e48>,\n",
       " '11138911631133520314863233683872158960': <openpathsampling.shooting.FinalFrameSelector at 0x119edbeb8>,\n",
       " '11138911631133520314863233683872158964': <openpathsampling.shooting.FirstFrameSelector at 0x119edbc18>,\n",
       " '11138911631133520314863233683872158994': <openpathsampling.shooting.FinalFrameSelector at 0x119edb748>,\n",
       " '11138911631133520314863233683872158998': <openpathsampling.shooting.FirstFrameSelector at 0x119edba58>,\n",
       " '11138911631133520314863233683872158802': <openpathsampling.shooting.UniformSelector at 0x119f0e940>,\n",
       " '11138911631133520314863233683872022680': <openpathsampling.volume.UnionVolume at 0x1195facf8>,\n",
       " '11138911631133520314863233683872022712': <openpathsampling.ensemble.SequentialEnsemble at 0x1196004e0>,\n",
       " '11138911631133520314863233683872022714': <openpathsampling.ensemble.PartOutXEnsemble at 0x119600668>,\n",
       " '11138911631133520314863233683872022892': <openpathsampling.volume.UnionVolume at 0x119615080>,\n",
       " '11138911631133520314863233683872022962': <openpathsampling.ensemble.SequentialEnsemble at 0x119924908>,\n",
       " '11138911631133520314863233683872022964': <openpathsampling.ensemble.PartOutXEnsemble at 0x119924a90>,\n",
       " '11138911631133520314863233683872023000': <openpathsampling.ensemble.SequentialEnsemble at 0x11992c400>,\n",
       " '11138911631133520314863233683872023002': <openpathsampling.ensemble.PartOutXEnsemble at 0x11992c588>,\n",
       " '11138911631133520314863233683872023104': <openpathsampling.volume.UnionVolume at 0x11992cdd8>,\n",
       " '11138911631133520314863233683872023174': <openpathsampling.ensemble.SequentialEnsemble at 0x119942630>,\n",
       " '11138911631133520314863233683872023176': <openpathsampling.ensemble.PartOutXEnsemble at 0x1199427b8>,\n",
       " '11138911631133520314863233683872023212': <openpathsampling.ensemble.SequentialEnsemble at 0x119949128>,\n",
       " '11138911631133520314863233683872023214': <openpathsampling.ensemble.PartOutXEnsemble at 0x1199492b0>,\n",
       " '11138911631133520314863233683872023350': <openpathsampling.ensemble.TISEnsemble at 0x119949b00>,\n",
       " '11138911631133520314863233683872023388': <openpathsampling.ensemble.TISEnsemble at 0x119958ba8>,\n",
       " '11138911631133520314863233683872023424': <openpathsampling.ensemble.IntersectionEnsemble at 0x119960fd0>,\n",
       " '11138911631133520314863233683872022666': <openpathsampling.volume.CVDefinedVolume at 0x1195fac18>,\n",
       " '11138911631133520314863233683872022884': <openpathsampling.ensemble.SequentialEnsemble at 0x11991d400>,\n",
       " '11138911631133520314863233683872022812': <openpathsampling.ensemble.AllOutXEnsemble at 0x119609b38>,\n",
       " '11138911631133520314863233683872022856': <openpathsampling.ensemble.IntersectionEnsemble at 0x119615ba8>,\n",
       " '11138911631133520314863233683872023096': <openpathsampling.ensemble.SequentialEnsemble at 0x11993a1d0>,\n",
       " '11138911631133520314863233683872023024': <openpathsampling.ensemble.AllOutXEnsemble at 0x11992c8d0>,\n",
       " '11138911631133520314863233683872023068': <openpathsampling.ensemble.IntersectionEnsemble at 0x119933940>,\n",
       " '11138911631133520314863233683872023308': <openpathsampling.ensemble.SequentialEnsemble at 0x119952ef0>,\n",
       " '11138911631133520314863233683872023236': <openpathsampling.ensemble.AllOutXEnsemble at 0x1199495f8>,\n",
       " '11138911631133520314863233683872023280': <openpathsampling.ensemble.IntersectionEnsemble at 0x1199526a0>,\n",
       " '11138911631133520314863233683872022924': <openpathsampling.ensemble.SequentialEnsemble at 0x11991de48>,\n",
       " '11138911631133520314863233683872022926': <openpathsampling.ensemble.PartOutXEnsemble at 0x11991dfd0>,\n",
       " '11138911631133520314863233683872023136': <openpathsampling.ensemble.SequentialEnsemble at 0x11993ab38>,\n",
       " '11138911631133520314863233683872023138': <openpathsampling.ensemble.PartOutXEnsemble at 0x11993acc0>,\n",
       " '11138911631133520314863233683872022788': <openpathsampling.ensemble.SequentialEnsemble at 0x1196096a0>,\n",
       " '11138911631133520314863233683872022790': <openpathsampling.ensemble.PartOutXEnsemble at 0x119609828>,\n",
       " '11138911631133520314863233683872022750': <openpathsampling.ensemble.SequentialEnsemble at 0x119600ba8>,\n",
       " '11138911631133520314863233683872022752': <openpathsampling.ensemble.PartOutXEnsemble at 0x119600d30>,\n",
       " '11138911631133520314863233683872022682': <openpathsampling.high_level.transition.TISTransition at 0x1195fad68>,\n",
       " '11138911631133520314863233683872022894': <openpathsampling.high_level.transition.TISTransition at 0x119615128>,\n",
       " '11138911631133520314863233683872023106': <openpathsampling.high_level.transition.TISTransition at 0x11992ce80>,\n",
       " '11138911631133520314863233683872022668': <openpathsampling.high_level.ms_outer_interface.MSOuterTISInterface at 0x1195fab38>,\n",
       " '11138911631133520314863233683872023348': <openpathsampling.ensemble.IntersectionEnsemble at 0x119958a20>,\n",
       " '11138911631133520314863233683872022662': <openpathsampling.volume.CVDefinedVolume at 0x1195fab70>,\n",
       " '11138911631133520314863233683872023386': <openpathsampling.ensemble.IntersectionEnsemble at 0x119960518>,\n",
       " '11138911631133520314863233683872022664': <openpathsampling.volume.CVDefinedVolume at 0x1195faba8>,\n",
       " '11138911631133520314863233683872023420': <openpathsampling.ensemble.SequentialEnsemble at 0x119960d30>,\n",
       " '11138911631133520314863233683872023422': <openpathsampling.ensemble.PartOutXEnsemble at 0x119960eb8>,\n",
       " '11138911631133520314863233683872022852': <openpathsampling.ensemble.SequentialEnsemble at 0x119615908>,\n",
       " '11138911631133520314863233683872022854': <openpathsampling.ensemble.PartOutXEnsemble at 0x119615a90>,\n",
       " '11138911631133520314863233683872023064': <openpathsampling.ensemble.SequentialEnsemble at 0x1199336a0>,\n",
       " '11138911631133520314863233683872023066': <openpathsampling.ensemble.PartOutXEnsemble at 0x119933828>,\n",
       " '11138911631133520314863233683872023276': <openpathsampling.ensemble.SequentialEnsemble at 0x119952400>,\n",
       " '11138911631133520314863233683872023278': <openpathsampling.ensemble.PartOutXEnsemble at 0x119952588>,\n",
       " '11138911631133520314863233683872022634': <openpathsampling.high_level.interface_set.VolumeInterfaceSet at 0x1195fa048>,\n",
       " '11138911631133520314863233683872022646': <openpathsampling.high_level.interface_set.VolumeInterfaceSet at 0x1195e4fd0>,\n",
       " '11138911631133520314863233683872022658': <openpathsampling.high_level.interface_set.VolumeInterfaceSet at 0x1195fa278>,\n",
       " '11138911631133520314863233683872022692': <openpathsampling.ensemble.IntersectionEnsemble at 0x1195faf98>,\n",
       " '11138911631133520314863233683872022698': <openpathsampling.ensemble.OptionalEnsemble at 0x119600160>,\n",
       " '11138911631133520314863233683872022710': <openpathsampling.ensemble.IntersectionEnsemble at 0x1196004a8>,\n",
       " '11138911631133520314863233683872022942': <openpathsampling.ensemble.IntersectionEnsemble at 0x119924400>,\n",
       " '11138911631133520314863233683872022948': <openpathsampling.ensemble.OptionalEnsemble at 0x119924588>,\n",
       " '11138911631133520314863233683872022960': <openpathsampling.ensemble.IntersectionEnsemble at 0x1199248d0>,\n",
       " '11138911631133520314863233683872022980': <openpathsampling.ensemble.IntersectionEnsemble at 0x119924eb8>,\n",
       " '11138911631133520314863233683872022986': <openpathsampling.ensemble.OptionalEnsemble at 0x11992c080>,\n",
       " '11138911631133520314863233683872022998': <openpathsampling.ensemble.IntersectionEnsemble at 0x11992c3c8>,\n",
       " '11138911631133520314863233683872023154': <openpathsampling.ensemble.IntersectionEnsemble at 0x119942128>,\n",
       " '11138911631133520314863233683872023160': <openpathsampling.ensemble.OptionalEnsemble at 0x1199422b0>,\n",
       " '11138911631133520314863233683872023172': <openpathsampling.ensemble.IntersectionEnsemble at 0x1199425f8>,\n",
       " '11138911631133520314863233683872023192': <openpathsampling.ensemble.IntersectionEnsemble at 0x119942be0>,\n",
       " '11138911631133520314863233683872023198': <openpathsampling.ensemble.OptionalEnsemble at 0x119942d68>,\n",
       " '11138911631133520314863233683872023210': <openpathsampling.ensemble.IntersectionEnsemble at 0x1199490f0>,\n",
       " '11138911631133520314863233683872023344': <openpathsampling.ensemble.SequentialEnsemble at 0x119958780>,\n",
       " '11138911631133520314863233683872023346': <openpathsampling.ensemble.PartOutXEnsemble at 0x119958908>,\n",
       " '11138911631133520314863233683872023382': <openpathsampling.ensemble.SequentialEnsemble at 0x119960278>,\n",
       " '11138911631133520314863233683872023384': <openpathsampling.ensemble.PartOutXEnsemble at 0x119960400>,\n",
       " '11138911631133520314863233683872022860': <openpathsampling.ensemble.SingleFrameEnsemble at 0x1196152e8>,\n",
       " '11138911631133520314863233683872022866': <openpathsampling.ensemble.OptionalEnsemble at 0x119615e48>,\n",
       " '11138911631133520314863233683872022818': <openpathsampling.ensemble.AllOutXEnsemble at 0x119609d30>,\n",
       " '11138911631133520314863233683872022820': <openpathsampling.ensemble.AllInXEnsemble at 0x119609f28>,\n",
       " '11138911631133520314863233683872022872': <openpathsampling.ensemble.OptionalEnsemble at 0x11991d048>,\n",
       " '11138911631133520314863233683872022878': <openpathsampling.ensemble.SingleFrameEnsemble at 0x11991d208>,\n",
       " '11138911631133520314863233683872023072': <openpathsampling.ensemble.SingleFrameEnsemble at 0x119933080>,\n",
       " '11138911631133520314863233683872023078': <openpathsampling.ensemble.OptionalEnsemble at 0x119933c18>,\n",
       " '11138911631133520314863233683872023030': <openpathsampling.ensemble.AllOutXEnsemble at 0x11992cac8>,\n",
       " '11138911631133520314863233683872023032': <openpathsampling.ensemble.AllInXEnsemble at 0x11992ccc0>,\n",
       " '11138911631133520314863233683872023084': <openpathsampling.ensemble.OptionalEnsemble at 0x119933dd8>,\n",
       " '11138911631133520314863233683872023090': <openpathsampling.ensemble.SingleFrameEnsemble at 0x119933f98>,\n",
       " '11138911631133520314863233683872023284': <openpathsampling.ensemble.SingleFrameEnsemble at 0x119949d68>,\n",
       " '11138911631133520314863233683872023290': <openpathsampling.ensemble.OptionalEnsemble at 0x119952978>,\n",
       " '11138911631133520314863233683872023242': <openpathsampling.ensemble.AllOutXEnsemble at 0x1199497f0>,\n",
       " '11138911631133520314863233683872023244': <openpathsampling.ensemble.AllInXEnsemble at 0x1199499e8>,\n",
       " '11138911631133520314863233683872023296': <openpathsampling.ensemble.OptionalEnsemble at 0x119952b38>,\n",
       " '11138911631133520314863233683872023302': <openpathsampling.ensemble.SingleFrameEnsemble at 0x119952cf8>,\n",
       " '11138911631133520314863233683872022904': <openpathsampling.ensemble.IntersectionEnsemble at 0x11991d940>,\n",
       " '11138911631133520314863233683872022910': <openpathsampling.ensemble.OptionalEnsemble at 0x11991dac8>,\n",
       " '11138911631133520314863233683872022922': <openpathsampling.ensemble.IntersectionEnsemble at 0x11991de10>,\n",
       " '11138911631133520314863233683872023116': <openpathsampling.ensemble.IntersectionEnsemble at 0x11993a630>,\n",
       " '11138911631133520314863233683872023122': <openpathsampling.ensemble.OptionalEnsemble at 0x11993a7b8>,\n",
       " '11138911631133520314863233683872023134': <openpathsampling.ensemble.IntersectionEnsemble at 0x11993ab00>,\n",
       " '11138911631133520314863233683872022768': <openpathsampling.ensemble.IntersectionEnsemble at 0x119609198>,\n",
       " '11138911631133520314863233683872022774': <openpathsampling.ensemble.OptionalEnsemble at 0x119609320>,\n",
       " '11138911631133520314863233683872022786': <openpathsampling.ensemble.IntersectionEnsemble at 0x119609668>,\n",
       " '11138911631133520314863233683872022730': <openpathsampling.ensemble.IntersectionEnsemble at 0x11935ecc0>,\n",
       " '11138911631133520314863233683872022736': <openpathsampling.ensemble.OptionalEnsemble at 0x119600828>,\n",
       " '11138911631133520314863233683872022748': <openpathsampling.ensemble.IntersectionEnsemble at 0x119600b70>,\n",
       " '11138911631133520314863233683872022626': <openpathsampling.volume.FullVolume at 0x1195fa080>,\n",
       " '11138911631133520314863233683872022638': <openpathsampling.volume.FullVolume at 0x1195fa2b0>,\n",
       " '11138911631133520314863233683872022650': <openpathsampling.volume.FullVolume at 0x1195fa518>,\n",
       " '11138911631133520314863233683872022688': <openpathsampling.ensemble.AllInXEnsemble at 0x1195fae48>,\n",
       " '11138911631133520314863233683872022690': <openpathsampling.ensemble.LengthEnsemble at 0x1195faf60>,\n",
       " '11138911631133520314863233683872022696': <openpathsampling.ensemble.AllOutXEnsemble at 0x119600048>,\n",
       " '11138911631133520314863233683872022706': <openpathsampling.ensemble.AllInXEnsemble at 0x119600358>,\n",
       " '11138911631133520314863233683872022708': <openpathsampling.ensemble.LengthEnsemble at 0x119600470>,\n",
       " '11138911631133520314863233683872022938': <openpathsampling.ensemble.AllInXEnsemble at 0x11935e780>,\n",
       " '11138911631133520314863233683872022940': <openpathsampling.ensemble.LengthEnsemble at 0x1199243c8>,\n",
       " '11138911631133520314863233683872022946': <openpathsampling.ensemble.AllOutXEnsemble at 0x119924470>,\n",
       " '11138911631133520314863233683872022956': <openpathsampling.ensemble.AllInXEnsemble at 0x119924780>,\n",
       " '11138911631133520314863233683872022958': <openpathsampling.ensemble.LengthEnsemble at 0x119924898>,\n",
       " '11138911631133520314863233683872022976': <openpathsampling.ensemble.AllInXEnsemble at 0x119924d68>,\n",
       " '11138911631133520314863233683872022978': <openpathsampling.ensemble.LengthEnsemble at 0x119924e80>,\n",
       " '11138911631133520314863233683872022984': <openpathsampling.ensemble.AllOutXEnsemble at 0x119924f28>,\n",
       " '11138911631133520314863233683872022994': <openpathsampling.ensemble.AllInXEnsemble at 0x11992c278>,\n",
       " '11138911631133520314863233683872022996': <openpathsampling.ensemble.LengthEnsemble at 0x11992c390>,\n",
       " '11138911631133520314863233683872023150': <openpathsampling.ensemble.AllInXEnsemble at 0x11993af98>,\n",
       " '11138911631133520314863233683872023152': <openpathsampling.ensemble.LengthEnsemble at 0x1199420f0>,\n",
       " '11138911631133520314863233683872023158': <openpathsampling.ensemble.AllOutXEnsemble at 0x119942198>,\n",
       " '11138911631133520314863233683872023168': <openpathsampling.ensemble.AllInXEnsemble at 0x1199424a8>,\n",
       " '11138911631133520314863233683872023170': <openpathsampling.ensemble.LengthEnsemble at 0x1199425c0>,\n",
       " '11138911631133520314863233683872023188': <openpathsampling.ensemble.AllInXEnsemble at 0x119942a90>,\n",
       " '11138911631133520314863233683872023190': <openpathsampling.ensemble.LengthEnsemble at 0x119942ba8>,\n",
       " '11138911631133520314863233683872023196': <openpathsampling.ensemble.AllOutXEnsemble at 0x119942c50>,\n",
       " '11138911631133520314863233683872023206': <openpathsampling.ensemble.AllInXEnsemble at 0x119942f60>,\n",
       " '11138911631133520314863233683872023208': <openpathsampling.ensemble.LengthEnsemble at 0x1199490b8>,\n",
       " '11138911631133520314863233683872023400': <openpathsampling.ensemble.IntersectionEnsemble at 0x119960828>,\n",
       " '11138911631133520314863233683872023406': <openpathsampling.ensemble.OptionalEnsemble at 0x1199609b0>,\n",
       " '11138911631133520314863233683872023418': <openpathsampling.ensemble.IntersectionEnsemble at 0x119960cf8>,\n",
       " '11138911631133520314863233683872022816': <openpathsampling.ensemble.AllInXEnsemble at 0x119609c50>,\n",
       " '11138911631133520314863233683872022826': <openpathsampling.ensemble.AllInXEnsemble at 0x1196151d0>,\n",
       " '11138911631133520314863233683872022836': <openpathsampling.ensemble.IntersectionEnsemble at 0x1196154a8>,\n",
       " '11138911631133520314863233683872022840': <openpathsampling.ensemble.OptionalEnsemble at 0x1196155f8>,\n",
       " '11138911631133520314863233683872022850': <openpathsampling.ensemble.IntersectionEnsemble at 0x1196158d0>,\n",
       " '11138911631133520314863233683872023028': <openpathsampling.ensemble.AllInXEnsemble at 0x11992c9e8>,\n",
       " '11138911631133520314863233683872023038': <openpathsampling.ensemble.AllInXEnsemble at 0x11992cf28>,\n",
       " '11138911631133520314863233683872023048': <openpathsampling.ensemble.IntersectionEnsemble at 0x119933240>,\n",
       " '11138911631133520314863233683872023052': <openpathsampling.ensemble.OptionalEnsemble at 0x119933390>,\n",
       " '11138911631133520314863233683872023062': <openpathsampling.ensemble.IntersectionEnsemble at 0x119933668>,\n",
       " '11138911631133520314863233683872023240': <openpathsampling.ensemble.AllInXEnsemble at 0x119949710>,\n",
       " '11138911631133520314863233683872023250': <openpathsampling.ensemble.AllInXEnsemble at 0x119949c50>,\n",
       " '11138911631133520314863233683872023260': <openpathsampling.ensemble.IntersectionEnsemble at 0x119949f28>,\n",
       " '11138911631133520314863233683872023264': <openpathsampling.ensemble.OptionalEnsemble at 0x1199520b8>,\n",
       " '11138911631133520314863233683872023274': <openpathsampling.ensemble.IntersectionEnsemble at 0x1199523c8>,\n",
       " '11138911631133520314863233683872022900': <openpathsampling.ensemble.AllInXEnsemble at 0x11991d7f0>,\n",
       " '11138911631133520314863233683872022902': <openpathsampling.ensemble.LengthEnsemble at 0x11991d908>,\n",
       " '11138911631133520314863233683872022908': <openpathsampling.ensemble.AllOutXEnsemble at 0x11991d9b0>,\n",
       " '11138911631133520314863233683872022918': <openpathsampling.ensemble.AllInXEnsemble at 0x11991dcc0>,\n",
       " '11138911631133520314863233683872022920': <openpathsampling.ensemble.LengthEnsemble at 0x11991ddd8>,\n",
       " '11138911631133520314863233683872023112': <openpathsampling.ensemble.AllInXEnsemble at 0x11993a4e0>,\n",
       " '11138911631133520314863233683872023114': <openpathsampling.ensemble.LengthEnsemble at 0x11993a5f8>,\n",
       " '11138911631133520314863233683872023120': <openpathsampling.ensemble.AllOutXEnsemble at 0x11993a6a0>,\n",
       " '11138911631133520314863233683872023130': <openpathsampling.ensemble.AllInXEnsemble at 0x11993a9b0>,\n",
       " '11138911631133520314863233683872023132': <openpathsampling.ensemble.LengthEnsemble at 0x11993aac8>,\n",
       " '11138911631133520314863233683872022764': <openpathsampling.ensemble.AllInXEnsemble at 0x119609048>,\n",
       " '11138911631133520314863233683872022766': <openpathsampling.ensemble.LengthEnsemble at 0x119609160>,\n",
       " '11138911631133520314863233683872022772': <openpathsampling.ensemble.AllOutXEnsemble at 0x119609208>,\n",
       " '11138911631133520314863233683872022782': <openpathsampling.ensemble.AllInXEnsemble at 0x119609518>,\n",
       " '11138911631133520314863233683872022784': <openpathsampling.ensemble.LengthEnsemble at 0x119609630>,\n",
       " '11138911631133520314863233683872022726': <openpathsampling.ensemble.AllInXEnsemble at 0x115d9b198>,\n",
       " '11138911631133520314863233683872022728': <openpathsampling.ensemble.LengthEnsemble at 0x11935e8d0>,\n",
       " '11138911631133520314863233683872022734': <openpathsampling.ensemble.AllOutXEnsemble at 0x11935eda0>,\n",
       " '11138911631133520314863233683872022744': <openpathsampling.ensemble.AllInXEnsemble at 0x119600a20>,\n",
       " '11138911631133520314863233683872022746': <openpathsampling.ensemble.LengthEnsemble at 0x119600b38>,\n",
       " '11138911631133520314863233683872022694': <openpathsampling.volume.UnionVolume at 0x1195fafd0>,\n",
       " '11138911631133520314863233683872022704': <openpathsampling.volume.UnionVolume at 0x119600320>,\n",
       " '11138911631133520314863233683872022944': <openpathsampling.volume.UnionVolume at 0x119924438>,\n",
       " '11138911631133520314863233683872022954': <openpathsampling.volume.UnionVolume at 0x119924748>,\n",
       " '11138911631133520314863233683872022982': <openpathsampling.volume.UnionVolume at 0x119924ef0>,\n",
       " '11138911631133520314863233683872022992': <openpathsampling.volume.UnionVolume at 0x11992c240>,\n",
       " '11138911631133520314863233683872023156': <openpathsampling.volume.UnionVolume at 0x119942160>,\n",
       " '11138911631133520314863233683872023166': <openpathsampling.volume.UnionVolume at 0x119942470>,\n",
       " '11138911631133520314863233683872023194': <openpathsampling.volume.UnionVolume at 0x119942c18>,\n",
       " '11138911631133520314863233683872023204': <openpathsampling.volume.UnionVolume at 0x119942f28>,\n",
       " '11138911631133520314863233683872023324': <openpathsampling.ensemble.IntersectionEnsemble at 0x119958278>,\n",
       " '11138911631133520314863233683872023330': <openpathsampling.ensemble.OptionalEnsemble at 0x119958400>,\n",
       " '11138911631133520314863233683872023342': <openpathsampling.ensemble.IntersectionEnsemble at 0x119958748>,\n",
       " '11138911631133520314863233683872023362': <openpathsampling.ensemble.IntersectionEnsemble at 0x119958d30>,\n",
       " '11138911631133520314863233683872023368': <openpathsampling.ensemble.OptionalEnsemble at 0x119958eb8>,\n",
       " '11138911631133520314863233683872023380': <openpathsampling.ensemble.IntersectionEnsemble at 0x119960240>,\n",
       " '11138911631133520314863233683872023396': <openpathsampling.ensemble.AllInXEnsemble at 0x1199606d8>,\n",
       " '11138911631133520314863233683872023398': <openpathsampling.ensemble.LengthEnsemble at 0x1199607f0>,\n",
       " '11138911631133520314863233683872023404': <openpathsampling.ensemble.AllOutXEnsemble at 0x119960898>,\n",
       " '11138911631133520314863233683872023414': <openpathsampling.ensemble.AllInXEnsemble at 0x119960ba8>,\n",
       " '11138911631133520314863233683872023416': <openpathsampling.ensemble.LengthEnsemble at 0x119960cc0>,\n",
       " '11138911631133520314863233683872022824': <openpathsampling.volume.EmptyVolume at 0x119615198>,\n",
       " '11138911631133520314863233683872022832': <openpathsampling.ensemble.AllInXEnsemble at 0x119615358>,\n",
       " '11138911631133520314863233683872022834': <openpathsampling.ensemble.LengthEnsemble at 0x119615470>,\n",
       " '11138911631133520314863233683872022838': <openpathsampling.ensemble.AllOutXEnsemble at 0x1196154e0>,\n",
       " '11138911631133520314863233683872022846': <openpathsampling.ensemble.AllInXEnsemble at 0x119615780>,\n",
       " '11138911631133520314863233683872022848': <openpathsampling.ensemble.LengthEnsemble at 0x119615898>,\n",
       " '11138911631133520314863233683872023036': <openpathsampling.volume.EmptyVolume at 0x11992cef0>,\n",
       " '11138911631133520314863233683872023044': <openpathsampling.ensemble.AllInXEnsemble at 0x1199330f0>,\n",
       " '11138911631133520314863233683872023046': <openpathsampling.ensemble.LengthEnsemble at 0x119933208>,\n",
       " '11138911631133520314863233683872023050': <openpathsampling.ensemble.AllOutXEnsemble at 0x119933278>,\n",
       " '11138911631133520314863233683872023058': <openpathsampling.ensemble.AllInXEnsemble at 0x119933518>,\n",
       " '11138911631133520314863233683872023060': <openpathsampling.ensemble.LengthEnsemble at 0x119933630>,\n",
       " '11138911631133520314863233683872023248': <openpathsampling.volume.EmptyVolume at 0x119949c18>,\n",
       " '11138911631133520314863233683872023256': <openpathsampling.ensemble.AllInXEnsemble at 0x119949dd8>,\n",
       " '11138911631133520314863233683872023258': <openpathsampling.ensemble.LengthEnsemble at 0x119949ef0>,\n",
       " '11138911631133520314863233683872023262': <openpathsampling.ensemble.AllOutXEnsemble at 0x119949f60>,\n",
       " '11138911631133520314863233683872023270': <openpathsampling.ensemble.AllInXEnsemble at 0x119952278>,\n",
       " '11138911631133520314863233683872023272': <openpathsampling.ensemble.LengthEnsemble at 0x119952390>,\n",
       " '11138911631133520314863233683872022906': <openpathsampling.volume.UnionVolume at 0x11991d978>,\n",
       " '11138911631133520314863233683872022916': <openpathsampling.volume.UnionVolume at 0x11991dc88>,\n",
       " '11138911631133520314863233683872023118': <openpathsampling.volume.UnionVolume at 0x11993a668>,\n",
       " '11138911631133520314863233683872023128': <openpathsampling.volume.UnionVolume at 0x11993a978>,\n",
       " '11138911631133520314863233683872022770': <openpathsampling.volume.UnionVolume at 0x1196091d0>,\n",
       " '11138911631133520314863233683872022780': <openpathsampling.volume.UnionVolume at 0x1196094e0>,\n",
       " '11138911631133520314863233683872022732': <openpathsampling.volume.UnionVolume at 0x11935ed68>,\n",
       " '11138911631133520314863233683872022742': <openpathsampling.volume.UnionVolume at 0x1196009e8>,\n",
       " '11138911631133520314863233683872023320': <openpathsampling.ensemble.AllInXEnsemble at 0x119949be0>,\n",
       " '11138911631133520314863233683872023322': <openpathsampling.ensemble.LengthEnsemble at 0x119958240>,\n",
       " '11138911631133520314863233683872023328': <openpathsampling.ensemble.AllOutXEnsemble at 0x1199582e8>,\n",
       " '11138911631133520314863233683872023338': <openpathsampling.ensemble.AllInXEnsemble at 0x1199585f8>,\n",
       " '11138911631133520314863233683872023340': <openpathsampling.ensemble.LengthEnsemble at 0x119958710>,\n",
       " '11138911631133520314863233683872023358': <openpathsampling.ensemble.AllInXEnsemble at 0x119958be0>,\n",
       " '11138911631133520314863233683872023360': <openpathsampling.ensemble.LengthEnsemble at 0x119958cf8>,\n",
       " '11138911631133520314863233683872023366': <openpathsampling.ensemble.AllOutXEnsemble at 0x119958da0>,\n",
       " '11138911631133520314863233683872023376': <openpathsampling.ensemble.AllInXEnsemble at 0x1199600f0>,\n",
       " '11138911631133520314863233683872023378': <openpathsampling.ensemble.LengthEnsemble at 0x119960208>,\n",
       " '11138911631133520314863233683872023402': <openpathsampling.volume.UnionVolume at 0x119960860>,\n",
       " '11138911631133520314863233683872023412': <openpathsampling.volume.UnionVolume at 0x119960b70>,\n",
       " '11138911631133520314863233683872023326': <openpathsampling.volume.UnionVolume at 0x1199582b0>,\n",
       " '11138911631133520314863233683872023336': <openpathsampling.volume.UnionVolume at 0x1199585c0>,\n",
       " '11138911631133520314863233683872023364': <openpathsampling.volume.UnionVolume at 0x119958d68>,\n",
       " '11138911631133520314863233683872023374': <openpathsampling.volume.UnionVolume at 0x1199600b8>,\n",
       " '11138911631133520314863233683872159034': <openpathsampling.pathmover.PathSimulatorMover at 0x119ea0e80>}"
      ]
     },
     "execution_count": 40,
     "metadata": {},
     "output_type": "execute_result"
    }
   ],
   "source": [
    "storage.cache.fixed_cache"
   ]
  },
  {
   "cell_type": "code",
   "execution_count": 41,
   "metadata": {},
   "outputs": [
    {
     "data": {
      "text/plain": [
       "{bytes,\n",
       " list,\n",
       " openpathsampling.high_level.interface_set.VolumeInterfaceSet,\n",
       " openpathsampling.pathmover.BackwardExtendMover,\n",
       " openpathsampling.pathmover.BackwardShootMover,\n",
       " openpathsampling.pathmover.ConditionalSequentialMover,\n",
       " openpathsampling.pathmover.EnsembleFilterMover,\n",
       " openpathsampling.pathmover.FinalSubtrajectorySelectMover,\n",
       " openpathsampling.pathmover.FirstSubtrajectorySelectMover,\n",
       " openpathsampling.pathmover.ForwardExtendMover,\n",
       " openpathsampling.pathmover.ForwardShootMover,\n",
       " openpathsampling.pathmover.MinusMover,\n",
       " openpathsampling.pathmover.OneWayShootingMover,\n",
       " openpathsampling.pathmover.PathReversalMover,\n",
       " openpathsampling.pathmover.PathSimulatorMover,\n",
       " openpathsampling.pathmover.RandomChoiceMover,\n",
       " openpathsampling.pathmover.ReplicaExchangeMover,\n",
       " tuple}"
      ]
     },
     "execution_count": 41,
     "metadata": {},
     "output_type": "execute_result"
    }
   ],
   "source": [
    "from openpathsampling.experimental.storage.class_lookup import is_storage_iterable, is_storage_mappable\n",
    "is_storage_iterable._true_set"
   ]
  },
  {
   "cell_type": "code",
   "execution_count": 42,
   "metadata": {
    "scrolled": true
   },
   "outputs": [
    {
     "data": {
      "text/plain": [
       "ClassInfo(table=steps, cls=<class 'openpathsampling.pathsimulators.path_simulator.MCStep'>, lookup_result=<class 'openpathsampling.pathsimulators.path_simulator.MCStep'>, find_uuids=<openpathsampling.experimental.storage.serialization_helpers.SchemaFindUUIDs object at 0x115c06320>)"
      ]
     },
     "execution_count": 42,
     "metadata": {},
     "output_type": "execute_result"
    }
   ],
   "source": [
    "storage.class_info.class_info_list[5]"
   ]
  },
  {
   "cell_type": "code",
   "execution_count": 43,
   "metadata": {},
   "outputs": [
    {
     "data": {
      "text/plain": [
       "[ClassInfo(table=simulation_objects, cls=<class 'openpathsampling.netcdfplus.base.StorableObject'>, lookup_result=<class 'openpathsampling.netcdfplus.base.StorableObject'>, find_uuids=<function default_find_uuids at 0x11579cb70>),\n",
       " ClassInfo(table=samples, cls=<class 'openpathsampling.sample.Sample'>, lookup_result=<class 'openpathsampling.sample.Sample'>, find_uuids=<openpathsampling.experimental.storage.serialization_helpers.SchemaFindUUIDs object at 0x115c060b8>),\n",
       " ClassInfo(table=sample_sets, cls=<class 'openpathsampling.sample.SampleSet'>, lookup_result=<class 'openpathsampling.sample.SampleSet'>, find_uuids=<openpathsampling.experimental.storage.serialization_helpers.SchemaFindUUIDs object at 0x115c06160>),\n",
       " ClassInfo(table=trajectories, cls=<class 'openpathsampling.engines.trajectory.Trajectory'>, lookup_result=<class 'openpathsampling.engines.trajectory.Trajectory'>, find_uuids=<openpathsampling.experimental.storage.serialization_helpers.SchemaFindUUIDs object at 0x115c06208>),\n",
       " ClassInfo(table=move_changes, cls=<class 'openpathsampling.movechange.MoveChange'>, lookup_result=<class 'openpathsampling.movechange.MoveChange'>, find_uuids=<openpathsampling.experimental.storage.serialization_helpers.SchemaFindUUIDs object at 0x115c06278>),\n",
       " ClassInfo(table=steps, cls=<class 'openpathsampling.pathsimulators.path_simulator.MCStep'>, lookup_result=<class 'openpathsampling.pathsimulators.path_simulator.MCStep'>, find_uuids=<openpathsampling.experimental.storage.serialization_helpers.SchemaFindUUIDs object at 0x115c06320>),\n",
       " ClassInfo(table=details, cls=<class 'openpathsampling.pathmover.Details'>, lookup_result=<class 'openpathsampling.pathmover.Details'>, find_uuids=<openpathsampling.experimental.storage.serialization_helpers.SchemaFindUUIDs object at 0x115c06358>),\n",
       " ClassInfo(table=simulation_objects, cls=<class 'openpathsampling.experimental.storage.storable_functions.StorableFunction'>, lookup_result=<class 'openpathsampling.experimental.storage.storable_functions.StorableFunction'>, find_uuids=<function storable_function_find_uuids at 0x115834bf8>),\n",
       " ClassInfo(table=snapshot0, cls=<class 'openpathsampling.engines.toy.snapshot.ToySnapshot'>, lookup_result=('174395458874316017953765140704788480022', <class 'openpathsampling.engines.toy.snapshot.ToySnapshot'>), find_uuids=<openpathsampling.experimental.storage.serialization_helpers.SchemaFindUUIDs object at 0x119e865f8>)]"
      ]
     },
     "execution_count": 43,
     "metadata": {},
     "output_type": "execute_result"
    }
   ],
   "source": [
    "storage.class_info.class_info_list"
   ]
  },
  {
   "cell_type": "code",
   "execution_count": 44,
   "metadata": {},
   "outputs": [],
   "source": [
    "find_uuids = storage.class_info.class_info_list[-1].find_uuids"
   ]
  },
  {
   "cell_type": "code",
   "execution_count": 45,
   "metadata": {},
   "outputs": [
    {
     "data": {
      "text/plain": [
       "({'174395458874316017953765140704788572213': <openpathsampling.engines.toy.snapshot.ToySnapshot at 0x115db9cf8>},\n",
       " [<openpathsampling.engines.toy.engine.ToyEngine at 0x11935e9e8>])"
      ]
     },
     "execution_count": 45,
     "metadata": {},
     "output_type": "execute_result"
    }
   ],
   "source": [
    "find_uuids(template, [])"
   ]
  },
  {
   "cell_type": "code",
   "execution_count": 46,
   "metadata": {},
   "outputs": [
    {
     "name": "stdout",
     "output_type": "stream",
     "text": [
      "20100\n"
     ]
    }
   ],
   "source": [
    "n_steps = int(mstis_calc.move_scheme.n_steps_for_trials(mstis_calc.move_scheme.movers['shooting'][0], 1000))\n",
    "print(n_steps)"
   ]
  },
  {
   "cell_type": "code",
   "execution_count": 47,
   "metadata": {},
   "outputs": [],
   "source": [
    "storage.close()"
   ]
  },
  {
   "cell_type": "code",
   "execution_count": 48,
   "metadata": {},
   "outputs": [],
   "source": [
    "backend = SQLStorageBackend(\"mstis.sql\", mode='r')"
   ]
  },
  {
   "cell_type": "code",
   "execution_count": 49,
   "metadata": {},
   "outputs": [
    {
     "data": {
      "text/plain": [
       "[('samples', 0, 'openpathsampling.sample', 'Sample'),\n",
       " ('sample_sets', 1, 'openpathsampling.sample', 'SampleSet'),\n",
       " ('trajectories', 2, 'openpathsampling.engines.trajectory', 'Trajectory'),\n",
       " ('move_changes', 3, 'openpathsampling.movechange', 'MoveChange'),\n",
       " ('steps', 4, 'openpathsampling.pathsimulators.path_simulator', 'MCStep'),\n",
       " ('details', 5, 'openpathsampling.pathmover', 'Details'),\n",
       " ('simulation_objects', 6, 'openpathsampling.netcdfplus.base', 'StorableObject'),\n",
       " ('snapshot0', 7, 'openpathsampling.engines.toy.snapshot', 'ToySnapshot')]"
      ]
     },
     "execution_count": 49,
     "metadata": {},
     "output_type": "execute_result"
    }
   ],
   "source": [
    "list(backend.table_iterator('tables'))"
   ]
  },
  {
   "cell_type": "code",
   "execution_count": 50,
   "metadata": {},
   "outputs": [
    {
     "data": {
      "text/plain": [
       "'[\"UUID(11138911631133520314863233683872364795)\", \"UUID(11138911631133520314863233683872364777)\", \"UUID(11138911631133520314863233683872364759)\", \"UUID(11138911631133520314863233683872364741)\", \"UUID(11138911631133520314863233683872364723)\", \"UUID(11138911631133520314863233683872364705)\", \"UUID(11138911631133520314863233683872364687)\", \"UUID(11138911631133520314863233683872364669)\", \"UUID(11138911631133520314863233683872364651)\", \"UUID(11138911631133520314863233683872364633)\", \"UUID(11138911631133520314863233683872364615)\", \"UUID(11138911631133520314863233683872364597)\", \"UUID(11138911631133520314863233683872364579)\", \"UUID(11138911631133520314863233683872364561)\", \"UUID(11138911631133520314863233683872364543)\", \"UUID(11138911631133520314863233683872364525)\", \"UUID(11138911631133520314863233683872364507)\", \"UUID(11138911631133520314863233683872364489)\", \"UUID(11138911631133520314863233683872364471)\", \"UUID(11138911631133520314863233683872364453)\", \"UUID(11138911631133520314863233683872160409)\", \"UUID(11138911631133520314863233683872160391)\", \"UUID(11138911631133520314863233683872160373)\", \"UUID(11138911631133520314863233683872160355)\", \"UUID(11138911631133520314863233683872160337)\", \"UUID(11138911631133520314863233683872160319)\", \"UUID(11138911631133520314863233683872414018)\", \"UUID(11138911631133520314863233683872414034)\", \"UUID(11138911631133520314863233683872414050)\", \"UUID(11138911631133520314863233683872414066)\", \"UUID(11138911631133520314863233683872414082)\", \"UUID(11138911631133520314863233683872414098)\", \"UUID(11138911631133520314863233683872414114)\", \"UUID(11138911631133520314863233683872414130)\", \"UUID(11138911631133520314863233683872414146)\", \"UUID(11138911631133520314863233683872414162)\", \"UUID(11138911631133520314863233683872414178)\", \"UUID(11138911631133520314863233683872414194)\", \"UUID(11138911631133520314863233683872414210)\", \"UUID(11138911631133520314863233683872414226)\", \"UUID(11138911631133520314863233683872414242)\", \"UUID(11138911631133520314863233683872414258)\", \"UUID(11138911631133520314863233683872414274)\", \"UUID(11138911631133520314863233683872414290)\", \"UUID(11138911631133520314863233683872414306)\", \"UUID(11138911631133520314863233683872414322)\", \"UUID(11138911631133520314863233683872414338)\", \"UUID(11138911631133520314863233683872414354)\", \"UUID(11138911631133520314863233683872414370)\", \"UUID(11138911631133520314863233683872414386)\", \"UUID(11138911631133520314863233683872414402)\", \"UUID(11138911631133520314863233683872414418)\", \"UUID(11138911631133520314863233683872414434)\", \"UUID(11138911631133520314863233683872414450)\", \"UUID(11138911631133520314863233683872414466)\", \"UUID(11138911631133520314863233683872414482)\", \"UUID(11138911631133520314863233683872414498)\", \"UUID(11138911631133520314863233683872414514)\", \"UUID(11138911631133520314863233683872414530)\", \"UUID(11138911631133520314863233683872414546)\", \"UUID(11138911631133520314863233683872414562)\", \"UUID(11138911631133520314863233683872414578)\", \"UUID(11138911631133520314863233683872414594)\", \"UUID(11138911631133520314863233683872414610)\", \"UUID(11138911631133520314863233683872414626)\", \"UUID(11138911631133520314863233683872414642)\", \"UUID(11138911631133520314863233683872414658)\", \"UUID(11138911631133520314863233683872414674)\", \"UUID(11138911631133520314863233683872414690)\", \"UUID(11138911631133520314863233683872414706)\", \"UUID(11138911631133520314863233683872414722)\", \"UUID(11138911631133520314863233683872414738)\"]'"
      ]
     },
     "execution_count": 50,
     "metadata": {},
     "output_type": "execute_result"
    }
   ],
   "source": [
    "list(backend.table_iterator('trajectories'))[-6].snapshots"
   ]
  },
  {
   "cell_type": "code",
   "execution_count": 51,
   "metadata": {},
   "outputs": [
    {
     "data": {
      "text/plain": [
       "7717"
      ]
     },
     "execution_count": 51,
     "metadata": {},
     "output_type": "execute_result"
    }
   ],
   "source": [
    "import ujson as json\n",
    "len(set(sum([json.loads(row.snapshots) for row in backend.table_iterator('trajectories')], [])))\n"
   ]
  },
  {
   "cell_type": "code",
   "execution_count": 52,
   "metadata": {},
   "outputs": [
    {
     "data": {
      "text/plain": [
       "{openpathsampling.engines.toy.snapshot.ToySnapshot,\n",
       " openpathsampling.movechange.AcceptedSampleMoveChange,\n",
       " openpathsampling.movechange.ConditionalSequentialMoveChange,\n",
       " openpathsampling.movechange.FilterByEnsembleMoveChange,\n",
       " openpathsampling.movechange.PathSimulatorMoveChange,\n",
       " openpathsampling.movechange.RandomChoiceMoveChange,\n",
       " openpathsampling.movechange.RejectedSampleMoveChange,\n",
       " openpathsampling.movechange.SubMoveChange,\n",
       " openpathsampling.pathmover.Details}"
      ]
     },
     "execution_count": 52,
     "metadata": {},
     "output_type": "execute_result"
    }
   ],
   "source": [
    "storage.class_info.special_lookup_object.is_special._true_set"
   ]
  },
  {
   "cell_type": "code",
   "execution_count": 53,
   "metadata": {},
   "outputs": [
    {
     "data": {
      "text/plain": [
       "{openpathsampling.collectivevariable.CoordinateFunctionCV,\n",
       " openpathsampling.engines.toy.engine.ToyEngine,\n",
       " openpathsampling.engines.toy.integrators.LangevinBAOABIntegrator,\n",
       " openpathsampling.engines.toy.pes.Gaussian,\n",
       " openpathsampling.engines.toy.pes.OuterWalls,\n",
       " openpathsampling.engines.toy.pes.PES_Add,\n",
       " openpathsampling.engines.toy.topology.ToyTopology,\n",
       " openpathsampling.engines.trajectory.Trajectory,\n",
       " openpathsampling.ensemble.AllInXEnsemble,\n",
       " openpathsampling.ensemble.AllOutXEnsemble,\n",
       " openpathsampling.ensemble.IntersectionEnsemble,\n",
       " openpathsampling.ensemble.LengthEnsemble,\n",
       " openpathsampling.ensemble.MinusInterfaceEnsemble,\n",
       " openpathsampling.ensemble.OptionalEnsemble,\n",
       " openpathsampling.ensemble.PartOutXEnsemble,\n",
       " openpathsampling.ensemble.SequentialEnsemble,\n",
       " openpathsampling.ensemble.SingleFrameEnsemble,\n",
       " openpathsampling.ensemble.TISEnsemble,\n",
       " openpathsampling.ensemble.UnionEnsemble,\n",
       " openpathsampling.high_level.interface_set.VolumeInterfaceSet,\n",
       " openpathsampling.high_level.move_scheme.DefaultScheme,\n",
       " openpathsampling.high_level.ms_outer_interface.MSOuterTISInterface,\n",
       " openpathsampling.high_level.network.MSTISNetwork,\n",
       " openpathsampling.high_level.transition.TISTransition,\n",
       " openpathsampling.netcdfplus.attribute.FunctionPseudoAttribute,\n",
       " openpathsampling.pathmover.BackwardExtendMover,\n",
       " openpathsampling.pathmover.BackwardShootMover,\n",
       " openpathsampling.pathmover.ConditionalSequentialMover,\n",
       " openpathsampling.pathmover.EnsembleFilterMover,\n",
       " openpathsampling.pathmover.FinalSubtrajectorySelectMover,\n",
       " openpathsampling.pathmover.FirstSubtrajectorySelectMover,\n",
       " openpathsampling.pathmover.ForwardExtendMover,\n",
       " openpathsampling.pathmover.ForwardShootMover,\n",
       " openpathsampling.pathmover.MinusMover,\n",
       " openpathsampling.pathmover.OneWayShootingMover,\n",
       " openpathsampling.pathmover.PathReversalMover,\n",
       " openpathsampling.pathmover.PathSimulatorMover,\n",
       " openpathsampling.pathmover.RandomChoiceMover,\n",
       " openpathsampling.pathmover.ReplicaExchangeMover,\n",
       " openpathsampling.pathsimulators.path_sampling.PathSampling,\n",
       " openpathsampling.pathsimulators.path_simulator.MCStep,\n",
       " openpathsampling.sample.Sample,\n",
       " openpathsampling.sample.SampleSet,\n",
       " openpathsampling.shooting.FinalFrameSelector,\n",
       " openpathsampling.shooting.FirstFrameSelector,\n",
       " openpathsampling.shooting.UniformSelector,\n",
       " openpathsampling.volume.CVDefinedVolume,\n",
       " openpathsampling.volume.EmptyVolume,\n",
       " openpathsampling.volume.FullVolume,\n",
       " openpathsampling.volume.UnionVolume}"
      ]
     },
     "execution_count": 53,
     "metadata": {},
     "output_type": "execute_result"
    }
   ],
   "source": [
    "storage.class_info.special_lookup_object.is_special._false_set"
   ]
  },
  {
   "cell_type": "code",
   "execution_count": 54,
   "metadata": {},
   "outputs": [
    {
     "name": "stdout",
     "output_type": "stream",
     "text": [
      "File: mstis.sql\n",
      "Includes tables:\n",
      "* samples: 276 items\n",
      "* sample_sets: 201 items\n",
      "* trajectories: 166 items\n",
      "* move_changes: 923 items\n",
      "* steps: 201 items\n",
      "* details: 914 items\n",
      "* simulation_objects: 389 items\n",
      "* snapshot0: 7718 items\n",
      "\n"
     ]
    }
   ],
   "source": [
    "print(storage.summary())"
   ]
  },
  {
   "cell_type": "code",
   "execution_count": 55,
   "metadata": {},
   "outputs": [
    {
     "data": {
      "text/plain": [
       "{'from_state': {<openpathsampling.volume.CVDefinedVolume at 0x1195e4048>: <openpathsampling.high_level.transition.TISTransition at 0x1195fad68>,\n",
       "  <openpathsampling.volume.CVDefinedVolume at 0x1195e4c88>: <openpathsampling.high_level.transition.TISTransition at 0x119615128>,\n",
       "  <openpathsampling.volume.CVDefinedVolume at 0x1195e44e0>: <openpathsampling.high_level.transition.TISTransition at 0x11992ce80>},\n",
       " 'states': (<openpathsampling.volume.CVDefinedVolume at 0x1195e4048>,\n",
       "  <openpathsampling.volume.CVDefinedVolume at 0x1195e4c88>,\n",
       "  <openpathsampling.volume.CVDefinedVolume at 0x1195e44e0>),\n",
       " 'special_ensembles': {'minus': {<openpathsampling.ensemble.MinusInterfaceEnsemble at 0x119609e48>: [<openpathsampling.high_level.transition.TISTransition at 0x1195fad68>],\n",
       "   <openpathsampling.ensemble.MinusInterfaceEnsemble at 0x11992c860>: [<openpathsampling.high_level.transition.TISTransition at 0x119615128>],\n",
       "   <openpathsampling.ensemble.MinusInterfaceEnsemble at 0x119949588>: [<openpathsampling.high_level.transition.TISTransition at 0x11992ce80>]},\n",
       "  'ms_outer': {<openpathsampling.ensemble.UnionEnsemble at 0x119967198>: [<openpathsampling.high_level.transition.TISTransition at 0x1195fad68>,\n",
       "    <openpathsampling.high_level.transition.TISTransition at 0x119615128>,\n",
       "    <openpathsampling.high_level.transition.TISTransition at 0x11992ce80>]}},\n",
       " 'trans_info': [(<openpathsampling.volume.CVDefinedVolume at 0x1195e4048>,\n",
       "   <openpathsampling.high_level.interface_set.VolumeInterfaceSet at 0x1195fa048>),\n",
       "  (<openpathsampling.volume.CVDefinedVolume at 0x1195e4c88>,\n",
       "   <openpathsampling.high_level.interface_set.VolumeInterfaceSet at 0x1195e4fd0>),\n",
       "  (<openpathsampling.volume.CVDefinedVolume at 0x1195e44e0>,\n",
       "   <openpathsampling.high_level.interface_set.VolumeInterfaceSet at 0x1195fa278>)],\n",
       " 'ms_outer_objects': [<openpathsampling.high_level.ms_outer_interface.MSOuterTISInterface at 0x1195fab38>]}"
      ]
     },
     "execution_count": 55,
     "metadata": {},
     "output_type": "execute_result"
    }
   ],
   "source": [
    "mstis.to_dict()"
   ]
  },
  {
   "cell_type": "code",
   "execution_count": null,
   "metadata": {},
   "outputs": [],
   "source": []
  }
 ],
 "metadata": {
  "anaconda-cloud": {},
  "kernelspec": {
   "display_name": "Python 3",
   "language": "python",
   "name": "python3"
  },
  "language_info": {
   "codemirror_mode": {
    "name": "ipython",
    "version": 3
   },
   "file_extension": ".py",
   "mimetype": "text/x-python",
   "name": "python",
   "nbconvert_exporter": "python",
   "pygments_lexer": "ipython3",
   "version": "3.7.3"
  },
  "toc": {
   "base_numbering": 1,
   "nav_menu": {},
   "number_sections": true,
   "sideBar": true,
   "skip_h1_title": true,
   "title_cell": "Table of Contents",
   "title_sidebar": "Contents",
   "toc_cell": false,
   "toc_position": {},
   "toc_section_display": true,
   "toc_window_display": true
  },
  "varInspector": {
   "cols": {
    "lenName": 16,
    "lenType": 16,
    "lenVar": 40
   },
   "kernels_config": {
    "python": {
     "delete_cmd_postfix": "",
     "delete_cmd_prefix": "del ",
     "library": "var_list.py",
     "varRefreshCmd": "print(var_dic_list())"
    },
    "r": {
     "delete_cmd_postfix": ") ",
     "delete_cmd_prefix": "rm(",
     "library": "var_list.r",
     "varRefreshCmd": "cat(var_dic_list()) "
    }
   },
   "types_to_exclude": [
    "module",
    "function",
    "builtin_function_or_method",
    "instance",
    "_Feature"
   ],
   "window_display": false
  }
 },
 "nbformat": 4,
 "nbformat_minor": 1
}
