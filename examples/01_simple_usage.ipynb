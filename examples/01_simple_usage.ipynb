{
 "cells": [
  {
   "cell_type": "markdown",
   "metadata": {},
   "source": [
    "# Using SimStore\n",
    "\n",
    "This notebook will show the current way to use SimStore if you're starting a new project. This will change over time as more functionality gets added to SimStore.\n",
    "\n",
    "We'll load an existing trajectory using a netcdfplus file. Other than that, all objects will be created fresh and in the most OPS-2.0 style currently possible.\n",
    "\n",
    "NOTE: The main caveat here is that you cannot disk-cache results of an old CV with new storage. However, once new-style CVs are available, you can disk-cache a new CV in new storage."
   ]
  },
  {
   "cell_type": "code",
   "execution_count": 1,
   "metadata": {},
   "outputs": [],
   "source": [
    "import openpathsampling as paths\n",
    "from openpathsampling.engines import toy as toys"
   ]
  },
  {
   "cell_type": "markdown",
   "metadata": {},
   "source": [
    "## Load up old sample set\n",
    "\n"
   ]
  },
  {
   "cell_type": "code",
   "execution_count": 2,
   "metadata": {},
   "outputs": [],
   "source": [
    "old_storage = paths.Storage(\"../toy_mstis_1k_OPS1_py36.nc\")\n",
    "samples = old_storage.steps[-1].active"
   ]
  },
  {
   "cell_type": "markdown",
   "metadata": {},
   "source": [
    "## Create simulation objects\n",
    "\n",
    "This is all taken from the standard OPS MSTIS example."
   ]
  },
  {
   "cell_type": "code",
   "execution_count": 3,
   "metadata": {},
   "outputs": [],
   "source": [
    "pes = (toys.OuterWalls([1.0, 1.0], [0.0, 0.0])\n",
    "       + toys.Gaussian(-0.7, [12.0, 12.0], [0.0, 0.4])\n",
    "       + toys.Gaussian(-0.7, [12.0, 12.0], [-0.5, -0.5])\n",
    "       + toys.Gaussian(-0.7, [12.0, 12.0], [0.5, -0.5]))\n",
    "\n",
    "topology=toys.Topology(n_spatial=2,\n",
    "                       masses=[1.0, 1.0],\n",
    "                       pes=pes)\n",
    "\n",
    "integ = toys.LangevinBAOABIntegrator(dt=0.02, temperature=0.1, gamma=2.5)\n",
    "\n",
    "options={'integ': integ,\n",
    "         'n_frames_max': 5000,\n",
    "         'n_steps_per_frame': 1}\n",
    "\n",
    "engine = toys.Engine(options=options,\n",
    "                      topology=topology).named('toy_engine')\n",
    "\n",
    "# note: no need for a template!"
   ]
  },
  {
   "cell_type": "code",
   "execution_count": 4,
   "metadata": {},
   "outputs": [],
   "source": [
    "def circle(snapshot, center):\n",
    "    import math\n",
    "    return math.sqrt((snapshot.xyz[0][0]-center[0])**2\n",
    "                     + (snapshot.xyz[0][1]-center[1])**2)\n",
    "    \n",
    "# in the future, this will use a CV class based on SimStore\n",
    "opA = paths.CoordinateFunctionCV(name=\"opA\", f=circle, center=[-0.5, -0.5])\n",
    "opB = paths.CoordinateFunctionCV(name=\"opB\", f=circle, center=[0.5, -0.5])\n",
    "opC = paths.CoordinateFunctionCV(name=\"opC\", f=circle, center=[0.0, 0.4])"
   ]
  },
  {
   "cell_type": "code",
   "execution_count": 5,
   "metadata": {},
   "outputs": [],
   "source": [
    "stateA = paths.CVDefinedVolume(opA, 0.0, 0.2).named(\"A\")\n",
    "stateB = paths.CVDefinedVolume(opB, 0.0, 0.2).named(\"B\")\n",
    "stateC = paths.CVDefinedVolume(opC, 0.0, 0.2).named(\"C\")\n",
    "\n",
    "interfacesA = paths.VolumeInterfaceSet(opA, 0.0, [0.2, 0.3, 0.4])\n",
    "interfacesB = paths.VolumeInterfaceSet(opB, 0.0, [0.2, 0.3, 0.4])\n",
    "interfacesC = paths.VolumeInterfaceSet(opC, 0.0, [0.2, 0.3, 0.4])"
   ]
  },
  {
   "cell_type": "code",
   "execution_count": 6,
   "metadata": {},
   "outputs": [],
   "source": [
    "ms_outers = paths.MSOuterTISInterface.from_lambdas(\n",
    "    {ifaces: 0.5\n",
    "     for ifaces in [interfacesA, interfacesB, interfacesC]}\n",
    ")\n",
    "mstis = paths.MSTISNetwork(\n",
    "    [(stateA, interfacesA),\n",
    "     (stateB, interfacesB),\n",
    "     (stateC, interfacesC)],\n",
    "    ms_outers=ms_outers\n",
    ")"
   ]
  },
  {
   "cell_type": "code",
   "execution_count": 7,
   "metadata": {},
   "outputs": [
    {
     "name": "stdout",
     "output_type": "stream",
     "text": [
      "No missing ensembles.\n",
      "No extra ensembles.\n",
      "CPU times: user 15.3 s, sys: 1.26 s, total: 16.6 s\n",
      "Wall time: 16.7 s\n"
     ]
    }
   ],
   "source": [
    "%%time\n",
    "# this is slow because it has to load the trajectories from netcdfplus\n",
    "scheme = paths.DefaultScheme(mstis, engine=engine)\n",
    "init_conds = scheme.initial_conditions_from_trajectories(samples)"
   ]
  },
  {
   "cell_type": "markdown",
   "metadata": {},
   "source": [
    "## Use new storage in a simulation"
   ]
  },
  {
   "cell_type": "code",
   "execution_count": 8,
   "metadata": {},
   "outputs": [],
   "source": [
    "from openpathsampling.experimental.simstore import SQLStorageBackend\n",
    "from openpathsampling.experimental.storage import Storage"
   ]
  },
  {
   "cell_type": "code",
   "execution_count": 9,
   "metadata": {},
   "outputs": [],
   "source": [
    "# when you use old CVs, you need to monkey patch\n",
    "# this cell will be removed once storable functions have been added\n",
    "from openpathsampling.experimental.storage.monkey_patches import monkey_patch_saving\n",
    "paths = monkey_patch_saving(paths)"
   ]
  },
  {
   "cell_type": "code",
   "execution_count": 10,
   "metadata": {},
   "outputs": [],
   "source": [
    "backend = SQLStorageBackend(\"storage_01.db\", mode='w')\n",
    "storage = Storage.from_backend(backend)"
   ]
  },
  {
   "cell_type": "code",
   "execution_count": 11,
   "metadata": {},
   "outputs": [],
   "source": [
    "simulation = paths.PathSampling(storage=storage,\n",
    "                                move_scheme=scheme,\n",
    "                                sample_set=init_conds)"
   ]
  },
  {
   "cell_type": "code",
   "execution_count": 12,
   "metadata": {},
   "outputs": [
    {
     "name": "stdout",
     "output_type": "stream",
     "text": [
      "Working on Monte Carlo cycle number 500\n",
      "Running for 27 seconds -  0.05 seconds per step\n",
      "Estimated time remaining: 0 seconds\n",
      "DONE! Completed 500 Monte Carlo cycles.\n"
     ]
    }
   ],
   "source": [
    "simulation.save_frequency = 50  # with toy models, we can hold many steps in memory\n",
    "simulation.run(500)"
   ]
  },
  {
   "cell_type": "code",
   "execution_count": 13,
   "metadata": {},
   "outputs": [
    {
     "name": "stdout",
     "output_type": "stream",
     "text": [
      "File: storage_01.db\n",
      "Includes tables:\n",
      "* samples: 671 items\n",
      "* sample_sets: 501 items\n",
      "* trajectories: 393 items\n",
      "* move_changes: 2334 items\n",
      "* steps: 501 items\n",
      "* details: 2305 items\n",
      "* simulation_objects: 399 items\n",
      "* snapshot0: 1505 items\n",
      "* snapshot1: 12601 items\n",
      "\n"
     ]
    }
   ],
   "source": [
    "print(storage.summary())"
   ]
  },
  {
   "cell_type": "markdown",
   "metadata": {},
   "source": [
    "This finds two types of snapshots because the engine on the snapshots we loaded does not have the same UUID as the one we created here."
   ]
  },
  {
   "cell_type": "code",
   "execution_count": 14,
   "metadata": {},
   "outputs": [],
   "source": [
    "old_storage.close()\n",
    "storage.close()\n",
    "# new storage doesn't really need to be closed"
   ]
  },
  {
   "cell_type": "code",
   "execution_count": 15,
   "metadata": {},
   "outputs": [
    {
     "name": "stdout",
     "output_type": "stream",
     "text": [
      "CPU times: user 3.86 s, sys: 103 ms, total: 3.96 s\n",
      "Wall time: 4.06 s\n"
     ]
    },
    {
     "data": {
      "text/plain": [
       "341"
      ]
     },
     "execution_count": 15,
     "metadata": {},
     "output_type": "execute_result"
    }
   ],
   "source": [
    "%%time\n",
    "# quick calculation of overall acceptance\n",
    "sum([step.change.accepted for step in storage.steps])\n",
    "# main performance issue here is that we need to load all the snapshots\n",
    "# the fix for this is to make trajectories lazy-loading, but that breaks old\n",
    "# CVs, so that has to wait for the new CVs"
   ]
  }
 ],
 "metadata": {
  "kernelspec": {
   "display_name": "Python 3",
   "language": "python",
   "name": "python3"
  },
  "language_info": {
   "codemirror_mode": {
    "name": "ipython",
    "version": 3
   },
   "file_extension": ".py",
   "mimetype": "text/x-python",
   "name": "python",
   "nbconvert_exporter": "python",
   "pygments_lexer": "ipython3",
   "version": "3.7.3"
  },
  "toc": {
   "base_numbering": 1,
   "nav_menu": {},
   "number_sections": true,
   "sideBar": true,
   "skip_h1_title": true,
   "title_cell": "Table of Contents",
   "title_sidebar": "Contents",
   "toc_cell": false,
   "toc_position": {},
   "toc_section_display": true,
   "toc_window_display": true
  },
  "varInspector": {
   "cols": {
    "lenName": 16,
    "lenType": 16,
    "lenVar": 40
   },
   "kernels_config": {
    "python": {
     "delete_cmd_postfix": "",
     "delete_cmd_prefix": "del ",
     "library": "var_list.py",
     "varRefreshCmd": "print(var_dic_list())"
    },
    "r": {
     "delete_cmd_postfix": ") ",
     "delete_cmd_prefix": "rm(",
     "library": "var_list.r",
     "varRefreshCmd": "cat(var_dic_list()) "
    }
   },
   "types_to_exclude": [
    "module",
    "function",
    "builtin_function_or_method",
    "instance",
    "_Feature"
   ],
   "window_display": false
  }
 },
 "nbformat": 4,
 "nbformat_minor": 4
}
