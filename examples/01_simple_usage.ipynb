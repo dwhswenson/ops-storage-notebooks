{
 "cells": [
  {
   "cell_type": "markdown",
   "metadata": {},
   "source": [
    "# Using SimStore\n",
    "\n",
    "This notebook will show the current way to use SimStore if you're starting a new project. This will change over time as more functionality gets added to SimStore.\n",
    "\n",
    "We'll load an existing trajectory using a netcdfplus file. Other than that, all objects will be created fresh and in the most OPS-2.0 style currently possible.\n",
    "\n",
    "NOTE: The main caveat here is that you cannot disk-cache results of an old CV with new storage. However, once new-style CVs are available, you can disk-cache a new CV in new storage."
   ]
  },
  {
   "cell_type": "code",
   "execution_count": 1,
   "metadata": {},
   "outputs": [],
   "source": [
    "import openpathsampling as paths\n",
    "from openpathsampling.engines import toy as toys"
   ]
  },
  {
   "cell_type": "markdown",
   "metadata": {},
   "source": [
    "## Load up old sample set\n",
    "\n"
   ]
  },
  {
   "cell_type": "code",
   "execution_count": 2,
   "metadata": {},
   "outputs": [],
   "source": [
    "old_storage = paths.Storage(\"../toy_mstis_1k_OPS1_py36.nc\")\n",
    "samples = old_storage.steps[-1].active"
   ]
  },
  {
   "cell_type": "markdown",
   "metadata": {},
   "source": [
    "## Create simulation objects\n",
    "\n",
    "This is all taken from the standard OPS MSTIS example."
   ]
  },
  {
   "cell_type": "code",
   "execution_count": 3,
   "metadata": {},
   "outputs": [],
   "source": [
    "pes = (toys.OuterWalls([1.0, 1.0], [0.0, 0.0])\n",
    "       + toys.Gaussian(-0.7, [12.0, 12.0], [0.0, 0.4])\n",
    "       + toys.Gaussian(-0.7, [12.0, 12.0], [-0.5, -0.5])\n",
    "       + toys.Gaussian(-0.7, [12.0, 12.0], [0.5, -0.5]))\n",
    "\n",
    "topology=toys.Topology(n_spatial=2,\n",
    "                       masses=[1.0, 1.0],\n",
    "                       pes=pes)\n",
    "\n",
    "integ = toys.LangevinBAOABIntegrator(dt=0.02, temperature=0.1, gamma=2.5)\n",
    "\n",
    "options={'integ': integ,\n",
    "         'n_frames_max': 5000,\n",
    "         'n_steps_per_frame': 1}\n",
    "\n",
    "engine = toys.Engine(options=options,\n",
    "                      topology=topology).named('toy_engine')\n",
    "\n",
    "# note: no need for a template!"
   ]
  },
  {
   "cell_type": "code",
   "execution_count": 4,
   "metadata": {},
   "outputs": [],
   "source": [
    "from openpathsampling.experimental.storage.collective_variables import CoordinateFunctionCV"
   ]
  },
  {
   "cell_type": "markdown",
   "metadata": {},
   "source": [
    "Currently implemented in the experimental storage:\n",
    "\n",
    "* `simstore.StorableFunction`: Completely generic function wrapper\n",
    "* `CollectiveVariable`: Anything that takes snapshots as input\n",
    "* `CoordinateFunctionCV`: Takes snapshots; independent of arrow of time\n",
    "* `MDTrajFunctionCV`: Wrapper for MDTraj\n",
    "\n",
    "More to come, help would be appreciated!\n",
    "\n",
    "\n",
    "Major differences with the old CVs:\n",
    "\n",
    "* Name is no longer required; name these the same way as other objects.\n",
    "* kwarg `f` renamed to `func`.\n",
    "* Currently require that you provide `result_type`: this will change soon, though.\n",
    "* It is no longer necessary to provide a template object to storage before saving a CV.\n",
    "* Everything is disk-cached by default. You can turn that off by setting `cv.mode = 'no-caching'`, but note that this will also turn off memory caching.\n",
    "\n",
    "More minor differences:\n",
    "\n",
    "* A small set of kwargs are off-limits:\n",
    "\n",
    "    * `result_type`\n",
    "    * `func_config`\n",
    "    * `store_source`\n",
    "    \n",
    "  I hope that `result_type` will be removed from this list soon.\n",
    "* The `store_source` parameter tells whether to store the source for the `func` in the object. By default, it stores the source if it was defined in `__main__` (i.e., if it `func` isn't imported from another package). So, for example, it will not store the source of `md.compute_distances`, but if you write a min-dist function that wraps `md.compute_distances`, it will store the source for that function.\n",
    "* Instead of the old `cv_*` flags, these are each individual `simstore.storable_functions.Processor` objects, which get registered with a `simstore.storable_functions.StorableFunctionConfig` object. You can combine these to get various pre-processing and post-processing effect, and can create new, custom processors (e.g., for MDTraj). The `StorableFunctionConfig` is given to the `func_config` parameter.\n",
    "* There are several \"modes\" that you can use. Set them with `cv.mode = mode`, where mode is one of the strings:\n",
    "\n",
    "    * `'no-caching'`: do not do any caching at all; always evaluate the function\n",
    "    * `'analysis'`: first look to memory cache, then to disk cache, then evaluate as last resort\n",
    "    * `'production'`: first look to memory cache, then evaluate. Note: this will still save the results to disk.\n",
    "  \n",
    "  CVs will *always* load in `'analysis'` mode, so you much change that after loading. It would be useful to add something to `PathSimulators` to automatically set all CVs into `'production'` mode, but that's for the future.\n"
   ]
  },
  {
   "cell_type": "code",
   "execution_count": 5,
   "metadata": {},
   "outputs": [],
   "source": [
    "def circle(snapshot, center):\n",
    "    import math\n",
    "    return math.sqrt((snapshot.xyz[0][0]-center[0])**2\n",
    "                     + (snapshot.xyz[0][1]-center[1])**2)\n",
    "    \n",
    "opA = CoordinateFunctionCV(func=circle, result_type='float',\n",
    "                           center=[-0.5, -0.5]).named(\"opA\")\n",
    "opB = CoordinateFunctionCV(func=circle, result_type='float', \n",
    "                           center=[0.5, -0.5]).named(\"opB\")\n",
    "opC = CoordinateFunctionCV(func=circle, result_type='float', \n",
    "                           center=[0.0, 0.4]).named(\"opC\")"
   ]
  },
  {
   "cell_type": "code",
   "execution_count": 6,
   "metadata": {},
   "outputs": [],
   "source": [
    "stateA = paths.CVDefinedVolume(opA, 0.0, 0.2).named(\"A\")\n",
    "stateB = paths.CVDefinedVolume(opB, 0.0, 0.2).named(\"B\")\n",
    "stateC = paths.CVDefinedVolume(opC, 0.0, 0.2).named(\"C\")\n",
    "\n",
    "interfacesA = paths.VolumeInterfaceSet(opA, 0.0, [0.2, 0.3, 0.4])\n",
    "interfacesB = paths.VolumeInterfaceSet(opB, 0.0, [0.2, 0.3, 0.4])\n",
    "interfacesC = paths.VolumeInterfaceSet(opC, 0.0, [0.2, 0.3, 0.4])"
   ]
  },
  {
   "cell_type": "code",
   "execution_count": 7,
   "metadata": {},
   "outputs": [],
   "source": [
    "ms_outers = paths.MSOuterTISInterface.from_lambdas(\n",
    "    {ifaces: 0.5\n",
    "     for ifaces in [interfacesA, interfacesB, interfacesC]}\n",
    ")\n",
    "mstis = paths.MSTISNetwork(\n",
    "    [(stateA, interfacesA),\n",
    "     (stateB, interfacesB),\n",
    "     (stateC, interfacesC)],\n",
    "    ms_outers=ms_outers\n",
    ")"
   ]
  },
  {
   "cell_type": "code",
   "execution_count": 8,
   "metadata": {},
   "outputs": [
    {
     "name": "stdout",
     "output_type": "stream",
     "text": [
      "No missing ensembles.\n",
      "No extra ensembles.\n",
      "CPU times: user 16.4 s, sys: 1.34 s, total: 17.7 s\n",
      "Wall time: 17.9 s\n"
     ]
    }
   ],
   "source": [
    "%%time\n",
    "# this is slow because it has to load the trajectories from netcdfplus\n",
    "scheme = paths.DefaultScheme(mstis, engine=engine)\n",
    "init_conds = scheme.initial_conditions_from_trajectories(samples)"
   ]
  },
  {
   "cell_type": "markdown",
   "metadata": {},
   "source": [
    "## Use new storage in a simulation"
   ]
  },
  {
   "cell_type": "code",
   "execution_count": 9,
   "metadata": {},
   "outputs": [],
   "source": [
    "from openpathsampling.experimental.simstore import SQLStorageBackend\n",
    "from openpathsampling.experimental.storage import Storage"
   ]
  },
  {
   "cell_type": "code",
   "execution_count": 10,
   "metadata": {},
   "outputs": [],
   "source": [
    "backend = SQLStorageBackend(\"storage_01.db\", mode='w')\n",
    "storage = Storage.from_backend(backend)"
   ]
  },
  {
   "cell_type": "code",
   "execution_count": 11,
   "metadata": {},
   "outputs": [],
   "source": [
    "simulation = paths.PathSampling(storage=storage,\n",
    "                                move_scheme=scheme,\n",
    "                                sample_set=init_conds)"
   ]
  },
  {
   "cell_type": "code",
   "execution_count": 12,
   "metadata": {},
   "outputs": [
    {
     "name": "stdout",
     "output_type": "stream",
     "text": [
      "Working on Monte Carlo cycle number 500\n",
      "Running for 1 minute 59 seconds -  0.24 seconds per step\n",
      "Estimated time remaining: 0 seconds\n",
      "DONE! Completed 500 Monte Carlo cycles.\n"
     ]
    }
   ],
   "source": [
    "simulation.save_frequency = 50  # with toy models, we can hold many steps in memory\n",
    "simulation.run(500)"
   ]
  },
  {
   "cell_type": "code",
   "execution_count": 13,
   "metadata": {},
   "outputs": [
    {
     "name": "stdout",
     "output_type": "stream",
     "text": [
      "File: storage_01.db\n",
      "Includes tables:\n",
      "* samples: 670 items\n",
      "* sample_sets: 501 items\n",
      "* trajectories: 414 items\n",
      "* move_changes: 2379 items\n",
      "* steps: 501 items\n",
      "* details: 2344 items\n",
      "* storable_functions: 3 items\n",
      "* simulation_objects: 396 items\n",
      "* storage_objects: 0 items\n",
      "* snapshot0: 1574 items\n",
      "* snapshot1: 16009 items\n",
      "\n"
     ]
    }
   ],
   "source": [
    "print(storage.summary())"
   ]
  },
  {
   "cell_type": "markdown",
   "metadata": {},
   "source": [
    "This finds two types of snapshots because the engine on the snapshots we loaded does not have the same UUID as the one we created here."
   ]
  },
  {
   "cell_type": "code",
   "execution_count": 14,
   "metadata": {},
   "outputs": [],
   "source": [
    "old_storage.close()\n",
    "storage.close()\n",
    "# new storage doesn't really need to be closed"
   ]
  },
  {
   "cell_type": "code",
   "execution_count": 15,
   "metadata": {},
   "outputs": [
    {
     "name": "stdout",
     "output_type": "stream",
     "text": [
      "CPU times: user 4.45 s, sys: 131 ms, total: 4.58 s\n",
      "Wall time: 4.8 s\n"
     ]
    },
    {
     "data": {
      "text/plain": [
       "349"
      ]
     },
     "execution_count": 15,
     "metadata": {},
     "output_type": "execute_result"
    }
   ],
   "source": [
    "%%time\n",
    "# quick calculation of overall acceptance\n",
    "sum([step.change.accepted for step in storage.steps])\n",
    "# main performance issue here is that we need to load all the snapshots\n",
    "# the fix for this is to make trajectories lazy-loading, but that breaks old\n",
    "# CVs, so that has to wait for the new CVs"
   ]
  }
 ],
 "metadata": {
  "kernelspec": {
   "display_name": "Python 3",
   "language": "python",
   "name": "python3"
  },
  "language_info": {
   "codemirror_mode": {
    "name": "ipython",
    "version": 3
   },
   "file_extension": ".py",
   "mimetype": "text/x-python",
   "name": "python",
   "nbconvert_exporter": "python",
   "pygments_lexer": "ipython3",
   "version": "3.7.3"
  },
  "toc": {
   "base_numbering": 1,
   "nav_menu": {},
   "number_sections": true,
   "sideBar": true,
   "skip_h1_title": true,
   "title_cell": "Table of Contents",
   "title_sidebar": "Contents",
   "toc_cell": false,
   "toc_position": {},
   "toc_section_display": true,
   "toc_window_display": true
  },
  "varInspector": {
   "cols": {
    "lenName": 16,
    "lenType": 16,
    "lenVar": 40
   },
   "kernels_config": {
    "python": {
     "delete_cmd_postfix": "",
     "delete_cmd_prefix": "del ",
     "library": "var_list.py",
     "varRefreshCmd": "print(var_dic_list())"
    },
    "r": {
     "delete_cmd_postfix": ") ",
     "delete_cmd_prefix": "rm(",
     "library": "var_list.r",
     "varRefreshCmd": "cat(var_dic_list()) "
    }
   },
   "types_to_exclude": [
    "module",
    "function",
    "builtin_function_or_method",
    "instance",
    "_Feature"
   ],
   "window_display": false
  }
 },
 "nbformat": 4,
 "nbformat_minor": 4
}
