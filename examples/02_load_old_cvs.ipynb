{
 "cells": [
  {
   "cell_type": "markdown",
   "metadata": {},
   "source": [
    "# Reusing old CVs\n",
    "\n",
    "First, a refresher on disk-caching. Disk-caching is the term we use to indicate that the results of a CV have been stored. In practice, this makes analysis much faster, because not only do you not need to re-run the calculation, but you don't even need to load all the snapshot data (positions, etc) because all you need is the snapshot's unique identifier.\n",
    "\n",
    "Because of the way disk-caching is integrated with storage, CVs are treated a little special in both netcdfplus and in SimStore. You need to do a few special things to use netcdfplus CVs with SimStore. Additionally, results from a netcdfplus CV will not be disk-cached in SimStore. However, it *is* still possible to use netcdfplus CVs with SimStore. This notebook will show how."
   ]
  },
  {
   "cell_type": "code",
   "execution_count": 1,
   "metadata": {},
   "outputs": [],
   "source": [
    "import openpathsampling as paths\n",
    "from openpathsampling.experimental.storage import monkey_patch_saving\n",
    "paths = monkey_patch_saving(paths)"
   ]
  },
  {
   "cell_type": "markdown",
   "metadata": {},
   "source": [
    "## Reload from old storage"
   ]
  },
  {
   "cell_type": "code",
   "execution_count": 2,
   "metadata": {},
   "outputs": [],
   "source": [
    "old_storage = paths.Storage(\"../toy_mstis_1k_OPS1_py36.nc\", mode='r')"
   ]
  },
  {
   "cell_type": "code",
   "execution_count": 3,
   "metadata": {},
   "outputs": [],
   "source": [
    "samples = old_storage.samplesets[-1]\n",
    "scheme = old_storage.schemes[0]"
   ]
  },
  {
   "cell_type": "markdown",
   "metadata": {},
   "source": [
    "## Create a SimStore storage, and run a simulation"
   ]
  },
  {
   "cell_type": "code",
   "execution_count": 4,
   "metadata": {},
   "outputs": [],
   "source": [
    "from openpathsampling.experimental.simstore import SQLStorageBackend\n",
    "from openpathsampling.experimental.storage import Storage"
   ]
  },
  {
   "cell_type": "code",
   "execution_count": 5,
   "metadata": {},
   "outputs": [],
   "source": [
    "backend = SQLStorageBackend(\"storage_02.db\", mode='w')\n",
    "storage = Storage.from_backend(backend)"
   ]
  },
  {
   "cell_type": "code",
   "execution_count": 6,
   "metadata": {},
   "outputs": [],
   "source": [
    "simulation = paths.PathSampling(storage=storage,\n",
    "                                move_scheme=scheme,\n",
    "                                sample_set=samples)\n",
    "simulation.save_frequency = 50"
   ]
  },
  {
   "cell_type": "code",
   "execution_count": 7,
   "metadata": {},
   "outputs": [
    {
     "name": "stdout",
     "output_type": "stream",
     "text": [
      "Working on Monte Carlo cycle number 200\n",
      "Running for 28 seconds -  0.15 seconds per step\n",
      "Estimated time remaining: 0 seconds\n",
      "DONE! Completed 200 Monte Carlo cycles.\n"
     ]
    }
   ],
   "source": [
    "# you'll notice a long delay on the first save point (50): that is \n",
    "# loading/resaving netcdfplus data\n",
    "simulation.run(200)"
   ]
  },
  {
   "cell_type": "code",
   "execution_count": 8,
   "metadata": {},
   "outputs": [],
   "source": [
    "old_storage.close()\n",
    "storage.close()"
   ]
  },
  {
   "cell_type": "markdown",
   "metadata": {},
   "source": [
    "## Reloading the storage"
   ]
  },
  {
   "cell_type": "code",
   "execution_count": 9,
   "metadata": {},
   "outputs": [],
   "source": [
    "from openpathsampling.experimental.storage import monkey_patch_loading\n",
    "paths = monkey_patch_loading(paths)\n",
    "\n",
    "# note: If you don't need to load from a netcdfplus file, you can use \n",
    "# monkey_patch_all, which handles both saving and loading"
   ]
  },
  {
   "cell_type": "code",
   "execution_count": 10,
   "metadata": {},
   "outputs": [],
   "source": [
    "backend = SQLStorageBackend(\"storage_02.db\", mode='r')\n",
    "storage = Storage.from_backend(backend)"
   ]
  },
  {
   "cell_type": "code",
   "execution_count": 11,
   "metadata": {},
   "outputs": [
    {
     "name": "stdout",
     "output_type": "stream",
     "text": [
      "CPU times: user 1.69 s, sys: 40.6 ms, total: 1.73 s\n",
      "Wall time: 1.75 s\n"
     ]
    },
    {
     "data": {
      "text/plain": [
       "130"
      ]
     },
     "execution_count": 11,
     "metadata": {},
     "output_type": "execute_result"
    }
   ],
   "source": [
    "%%time\n",
    "sum([step.change.accepted for step in storage.steps])\n",
    "# unfortunately, this will always be slow on first load with netcdfplus CVs,\n",
    "# because they aren't compatible with lazy-loading trajectories"
   ]
  },
  {
   "cell_type": "code",
   "execution_count": 12,
   "metadata": {},
   "outputs": [],
   "source": [
    "cv_A = storage.cvs['opA']"
   ]
  },
  {
   "cell_type": "code",
   "execution_count": 13,
   "metadata": {},
   "outputs": [
    {
     "data": {
      "text/plain": [
       "[0.19801861644370738,\n",
       " 0.2018505255755742,\n",
       " 0.20193459223958993,\n",
       " 0.19891772975500482]"
      ]
     },
     "execution_count": 13,
     "metadata": {},
     "output_type": "execute_result"
    }
   ],
   "source": [
    "cv_A(storage.steps[0].active[0])  # this fails without the monkey-patch"
   ]
  }
 ],
 "metadata": {
  "kernelspec": {
   "display_name": "Python 3",
   "language": "python",
   "name": "python3"
  },
  "language_info": {
   "codemirror_mode": {
    "name": "ipython",
    "version": 3
   },
   "file_extension": ".py",
   "mimetype": "text/x-python",
   "name": "python",
   "nbconvert_exporter": "python",
   "pygments_lexer": "ipython3",
   "version": "3.7.3"
  },
  "toc": {
   "base_numbering": 1,
   "nav_menu": {},
   "number_sections": true,
   "sideBar": true,
   "skip_h1_title": true,
   "title_cell": "Table of Contents",
   "title_sidebar": "Contents",
   "toc_cell": false,
   "toc_position": {},
   "toc_section_display": true,
   "toc_window_display": true
  },
  "varInspector": {
   "cols": {
    "lenName": 16,
    "lenType": 16,
    "lenVar": 40
   },
   "kernels_config": {
    "python": {
     "delete_cmd_postfix": "",
     "delete_cmd_prefix": "del ",
     "library": "var_list.py",
     "varRefreshCmd": "print(var_dic_list())"
    },
    "r": {
     "delete_cmd_postfix": ") ",
     "delete_cmd_prefix": "rm(",
     "library": "var_list.r",
     "varRefreshCmd": "cat(var_dic_list()) "
    }
   },
   "types_to_exclude": [
    "module",
    "function",
    "builtin_function_or_method",
    "instance",
    "_Feature"
   ],
   "window_display": false
  }
 },
 "nbformat": 4,
 "nbformat_minor": 4
}
